{
 "cells": [
  {
   "cell_type": "markdown",
   "metadata": {},
   "source": [
    "# Diversity of Ideas: UPenn\n"
   ]
  },
  {
   "cell_type": "markdown",
   "metadata": {},
   "source": [
    "## 1. Setup\n"
   ]
  },
  {
   "cell_type": "code",
   "execution_count": 2,
   "metadata": {},
   "outputs": [
    {
     "data": {
      "text/plain": [
       "True"
      ]
     },
     "execution_count": 2,
     "metadata": {},
     "output_type": "execute_result"
    }
   ],
   "source": [
    "from dotenv import load_dotenv, find_dotenv\n",
    "load_dotenv(find_dotenv())"
   ]
  },
  {
   "cell_type": "code",
   "execution_count": 3,
   "metadata": {},
   "outputs": [
    {
     "name": "stderr",
     "output_type": "stream",
     "text": [
      "[nltk_data] Downloading package punkt to\n",
      "[nltk_data]     C:\\Users\\theod\\AppData\\Roaming\\nltk_data...\n",
      "[nltk_data]   Package punkt is already up-to-date!\n",
      "[nltk_data] Downloading package punkt_tab to\n",
      "[nltk_data]     C:\\Users\\theod\\AppData\\Roaming\\nltk_data...\n",
      "[nltk_data]   Package punkt_tab is already up-to-date!\n"
     ]
    }
   ],
   "source": [
    "import pandas as pd\n",
    "import nltk\n",
    "from nltk.tokenize import word_tokenize\n",
    "from collections import Counter\n",
    "nltk.download('punkt')\n",
    "nltk.download('punkt_tab')\n",
    "from util.ouraws import (\n",
    "    getFromFile\n",
    ")"
   ]
  },
  {
   "cell_type": "code",
   "execution_count": 5,
   "metadata": {},
   "outputs": [
    {
     "data": {
      "text/plain": [
       "'c:\\\\Users\\\\theod\\\\OneDrive\\\\dev\\\\diversity-ideas\\\\notebooks\\\\2024'"
      ]
     },
     "execution_count": 5,
     "metadata": {},
     "output_type": "execute_result"
    }
   ],
   "source": [
    "%pwd"
   ]
  },
  {
   "cell_type": "code",
   "execution_count": 6,
   "metadata": {},
   "outputs": [
    {
     "data": {
      "text/plain": [
       "(6492, 6)"
      ]
     },
     "execution_count": 6,
     "metadata": {},
     "output_type": "execute_result"
    }
   ],
   "source": [
    "df = getFromFile(\"../../data/upenn-opinion.parquet\", False)\n",
    "df.shape"
   ]
  },
  {
   "cell_type": "code",
   "execution_count": 7,
   "metadata": {},
   "outputs": [
    {
     "data": {
      "text/html": [
       "<div>\n",
       "<style scoped>\n",
       "    .dataframe tbody tr th:only-of-type {\n",
       "        vertical-align: middle;\n",
       "    }\n",
       "\n",
       "    .dataframe tbody tr th {\n",
       "        vertical-align: top;\n",
       "    }\n",
       "\n",
       "    .dataframe thead th {\n",
       "        text-align: right;\n",
       "    }\n",
       "</style>\n",
       "<table border=\"1\" class=\"dataframe\">\n",
       "  <thead>\n",
       "    <tr style=\"text-align: right;\">\n",
       "      <th></th>\n",
       "      <th>title</th>\n",
       "      <th>url</th>\n",
       "      <th>body</th>\n",
       "      <th>year</th>\n",
       "      <th>month</th>\n",
       "      <th>day</th>\n",
       "    </tr>\n",
       "  </thead>\n",
       "  <tbody>\n",
       "    <tr>\n",
       "      <th>0</th>\n",
       "      <td>Samra Lulseged | Birds of a feather</td>\n",
       "      <td>https://www.thedp.com/article/2024/12/penn-sel...</td>\n",
       "      <td>Samra Lulseged | Birds of a feather\\nSamra Lul...</td>\n",
       "      <td>2024</td>\n",
       "      <td>12</td>\n",
       "      <td>1</td>\n",
       "    </tr>\n",
       "    <tr>\n",
       "      <th>1</th>\n",
       "      <td>Mariana Martinez | Love is, in fact, not blind</td>\n",
       "      <td>https://www.thedp.com/article/2024/12/penn-mar...</td>\n",
       "      <td>Mariana Martinez | Love is, in fact, not blind...</td>\n",
       "      <td>2024</td>\n",
       "      <td>12</td>\n",
       "      <td>1</td>\n",
       "    </tr>\n",
       "    <tr>\n",
       "      <th>2</th>\n",
       "      <td>Ingrid Holmquist | Social sciences aren’t that...</td>\n",
       "      <td>https://www.thedp.com/article/2024/12/social-s...</td>\n",
       "      <td>Ingrid Holmquist | Social sciences aren’t that...</td>\n",
       "      <td>2024</td>\n",
       "      <td>12</td>\n",
       "      <td>1</td>\n",
       "    </tr>\n",
       "    <tr>\n",
       "      <th>3</th>\n",
       "      <td>Ananya Shah | PHL: Where Penn pride takes off</td>\n",
       "      <td>https://www.thedp.com/article/2024/12/penn-pri...</td>\n",
       "      <td>Ananya Shah | PHL: Where Penn pride takes off\\...</td>\n",
       "      <td>2024</td>\n",
       "      <td>12</td>\n",
       "      <td>1</td>\n",
       "    </tr>\n",
       "  </tbody>\n",
       "</table>\n",
       "</div>"
      ],
      "text/plain": [
       "                                               title  \\\n",
       "0                Samra Lulseged | Birds of a feather   \n",
       "1     Mariana Martinez | Love is, in fact, not blind   \n",
       "2  Ingrid Holmquist | Social sciences aren’t that...   \n",
       "3      Ananya Shah | PHL: Where Penn pride takes off   \n",
       "\n",
       "                                                 url  \\\n",
       "0  https://www.thedp.com/article/2024/12/penn-sel...   \n",
       "1  https://www.thedp.com/article/2024/12/penn-mar...   \n",
       "2  https://www.thedp.com/article/2024/12/social-s...   \n",
       "3  https://www.thedp.com/article/2024/12/penn-pri...   \n",
       "\n",
       "                                                body  year  month  day  \n",
       "0  Samra Lulseged | Birds of a feather\\nSamra Lul...  2024     12    1  \n",
       "1  Mariana Martinez | Love is, in fact, not blind...  2024     12    1  \n",
       "2  Ingrid Holmquist | Social sciences aren’t that...  2024     12    1  \n",
       "3  Ananya Shah | PHL: Where Penn pride takes off\\...  2024     12    1  "
      ]
     },
     "execution_count": 7,
     "metadata": {},
     "output_type": "execute_result"
    }
   ],
   "source": [
    "df.head(4)"
   ]
  },
  {
   "cell_type": "markdown",
   "metadata": {},
   "source": [
    "## 2. Function Definitions\n"
   ]
  },
  {
   "cell_type": "code",
   "execution_count": 8,
   "metadata": {},
   "outputs": [],
   "source": [
    "import numpy as np\n",
    "import re"
   ]
  },
  {
   "cell_type": "code",
   "execution_count": 9,
   "metadata": {},
   "outputs": [],
   "source": [
    "def getCovDispersion(wv):\n",
    "    \"\"\"\n",
    "    Calculate various dispersion measures using the covariance matrix of word vectors.\n",
    "    \n",
    "    Args:\n",
    "        wv: numpy array of shape (n_documents, embedding_dim) containing document embeddings\n",
    "        \n",
    "    Returns:\n",
    "        tuple containing:\n",
    "        - N: number of documents\n",
    "        - trace_norm: average variance along the diagonal\n",
    "        - l1_norm: L1 norm of covariance matrix (normalized)\n",
    "        - l2_norm: L2 norm of covariance matrix (normalized)\n",
    "        - inf_norm: Infinity norm of covariance matrix (normalized)\n",
    "    \"\"\"\n",
    "    # Get number of documents\n",
    "    N = len(wv)\n",
    "    \n",
    "    # Calculate covariance matrix of the word vectors\n",
    "    # This measures how dimensions vary together across documents\n",
    "    cov = np.cov(wv)\n",
    "    \n",
    "    return (\n",
    "        N,  # Number of documents\n",
    "        np.trace(cov)/N,  # Average variance along diagonal (spread in each dimension)\n",
    "        np.linalg.norm(cov, ord=1)/N,  # L1 norm (sum of absolute values)\n",
    "        np.linalg.norm(cov, ord=2)/N,  # L2/Spectral norm (largest singular value)\n",
    "        np.linalg.norm(cov, ord=np.inf)/N,  # Infinity norm (max absolute row sum)\n",
    "    )\n",
    "\n",
    "def cosine_distance(v1, v2):\n",
    "    \"\"\"Calculate the cosine distance between two numpy arrays.\n",
    "    \n",
    "    Parameters:\n",
    "    a (numpy array): First input array.\n",
    "    b (numpy array): Second input array.\n",
    "    \n",
    "    Returns:\n",
    "    float: Cosine distance between a and b.\n",
    "    \"\"\"\n",
    "    a = np.array(v1, dtype=np.float64)\n",
    "    b = np.array(v2, dtype=np.float64)\n",
    "    # Calculate dot product and magnitudes of the input arrays\n",
    "    dot   = np.dot(a, b)\n",
    "    a_mag = np.linalg.norm(a)\n",
    "    b_mag = np.linalg.norm(b)\n",
    "    \n",
    "    if np.isclose(a_mag, 0, rtol=1e-9, atol=1e-12):\n",
    "        print(f\"a_mag is very small: {a_mag}\")\n",
    "    if np.isclose(b_mag, 0, rtol=1e-9, atol=1e-12):\n",
    "        print(f\"b_mag is very small: {b_mag}\")\n",
    "    \n",
    "    # Calculate and return the cosine distance\n",
    "    return 1.0 - (dot / (a_mag * b_mag))\n",
    "\n",
    "def getPairwiseDispersion(wv, measure):\n",
    "    if len(wv) <= 1: return 0.0\n",
    "    distance = 0.0\n",
    "    vec = wv[0]\n",
    "    for v in wv[1:]:\n",
    "        distance += measure(vec, v)\n",
    "        # print(f\"\\tcos_distance: {measure(vec, v)}\")\n",
    "    return distance + getPairwiseDispersion(wv[1:], measure)\n",
    "\n",
    "def getNormalizedPairwiseDispersion(wv, measure):\n",
    "    '''Normalize the dispersion by (N-Choose-2) number of pairs'''\n",
    "    N = len(wv)\n",
    "    if N <= 1:\n",
    "        return 0.0\n",
    "    return getPairwiseDispersion(wv, measure) / (N * (N-1)/2.)"
   ]
  },
  {
   "cell_type": "code",
   "execution_count": 10,
   "metadata": {},
   "outputs": [],
   "source": [
    "diversity_words = [\n",
    "    'diversity', \n",
    "    'equity',\n",
    "    'inclusion',\n",
    "    'inclusive',\n",
    "    'inclusivity',\n",
    "    'equality', \n",
    "    'equal opportunity',\n",
    "    'social justice',\n",
    "    'racial justice', \n",
    "    'multi-cultural', \n",
    "    'multicultural',\n",
    "    'intercultural',\n",
    "    'intersectional',\n",
    "    'intersectionality',\n",
    "    'anti-discrimination'\n",
    "]"
   ]
  },
  {
   "cell_type": "code",
   "execution_count": 11,
   "metadata": {},
   "outputs": [
    {
     "name": "stderr",
     "output_type": "stream",
     "text": [
      "[nltk_data] Downloading package wordnet to\n",
      "[nltk_data]     C:\\Users\\theod\\AppData\\Roaming\\nltk_data...\n",
      "[nltk_data]   Package wordnet is already up-to-date!\n"
     ]
    }
   ],
   "source": [
    "import nltk\n",
    "nltk.download('wordnet')\n",
    "from nltk.stem import WordNetLemmatizer\n",
    "lemmatizer = WordNetLemmatizer()"
   ]
  },
  {
   "cell_type": "code",
   "execution_count": 12,
   "metadata": {},
   "outputs": [
    {
     "data": {
      "text/plain": [
       "['diversity',\n",
       " 'equity',\n",
       " 'inclusion',\n",
       " 'inclusive',\n",
       " 'inclusivity',\n",
       " 'equality',\n",
       " 'equal opportunity',\n",
       " 'social justice',\n",
       " 'racial justice',\n",
       " 'multi-cultural',\n",
       " 'multicultural',\n",
       " 'intercultural',\n",
       " 'intersectional',\n",
       " 'intersectionality',\n",
       " 'anti-discrimination']"
      ]
     },
     "execution_count": 12,
     "metadata": {},
     "output_type": "execute_result"
    }
   ],
   "source": [
    "diversity_lemmas = [lemmatizer.lemmatize(w) for w in diversity_words]\n",
    "diversity_lemmas"
   ]
  },
  {
   "cell_type": "code",
   "execution_count": 13,
   "metadata": {},
   "outputs": [],
   "source": [
    "diversity_pattern = \"|\".join(diversity_lemmas)"
   ]
  },
  {
   "cell_type": "markdown",
   "metadata": {},
   "source": [
    "Let's verify how the \"count\" of diversity words in the text is calculated.\n"
   ]
  },
  {
   "cell_type": "code",
   "execution_count": 14,
   "metadata": {},
   "outputs": [
    {
     "data": {
      "text/plain": [
       "3"
      ]
     },
     "execution_count": 14,
     "metadata": {},
     "output_type": "execute_result"
    }
   ],
   "source": [
    "text = \"This is a multicultural organization that advocates for diversity and racial justice.\"\n",
    "len(re.findall(diversity_pattern, text))"
   ]
  },
  {
   "cell_type": "markdown",
   "metadata": {},
   "source": [
    "### Cynicism related declarations\n"
   ]
  },
  {
   "cell_type": "code",
   "execution_count": 15,
   "metadata": {},
   "outputs": [
    {
     "data": {
      "text/plain": [
       "['skepticism',\n",
       " 'mistrust',\n",
       " 'questionable',\n",
       " 'dishonesty',\n",
       " 'manipulation',\n",
       " 'corruption',\n",
       " 'negativity']"
      ]
     },
     "execution_count": 15,
     "metadata": {},
     "output_type": "execute_result"
    }
   ],
   "source": [
    "# Define LIWC-style categories for cynicism analysis\n",
    "liwc_cynicism = {\n",
    "    \"skepticism\": {\"skeptical\", \"doubtful\", \"unconvinced\", \"uncertain\", \"wary\", \"dubious\"},\n",
    "    \"mistrust\": {\"untrustworthy\", \"suspicious\", \"distrustful\", \"unreliable\", \"shady\", \"rigged\", \"lying\"},\n",
    "    \"questionable\": {\"questionable\", \"dubious\", \"problematic\", \"concerning\", \"suspect\"},\n",
    "    \"dishonesty\": {\"dishonest\", \"lie\", \"lying\", \"deceptive\", \"misleading\", \"false\", \"fake\"},\n",
    "    \"manipulation\": {\"manipulative\", \"coercive\", \"exploitative\", \"calculated\", \"scheming\"},\n",
    "    \"corruption\": {\"corrupt\", \"bribed\", \"compromised\", \"unethical\", \"crooked\", \"lying\"},\n",
    "    \"negativity\": {\"bad\", \"worse\", \"worst\", \"terrible\", \"awful\", \"disastrous\", \"weird\"},\n",
    "    \"certainty\": {\"obviously\", \"definitely\", \"certainly\", \"undoubtedly\", \"absolutely\", \"clearly\"}\n",
    "}\n",
    "\n",
    "liwc_cynicism_keys = [key for key in liwc_cynicism if key != \"certainty\"]\n",
    "liwc_cynicism_keys"
   ]
  },
  {
   "cell_type": "code",
   "execution_count": 16,
   "metadata": {},
   "outputs": [],
   "source": [
    "def liwc_analysis(text):\n",
    "    \"\"\"Analyze text using LIWC-style categories for cynicism.\"\"\"\n",
    "    tokens = [token.lower() for token in word_tokenize(text) \n",
    "              if token.isalnum()]  # Only include alphanumeric tokens\n",
    "    word_counts = Counter(tokens)\n",
    "    total_words = sum(word_counts.values())\n",
    "    \n",
    "    # Initialize scores dict with all categories\n",
    "    liwc_scores = {category: 0 for category in liwc_cynicism.keys()}\n",
    "    \n",
    "    # Count matches for each category\n",
    "    for category, words in liwc_cynicism.items():\n",
    "        category_count = sum(word_counts[word] for word in words if word in word_counts)\n",
    "        if total_words > 0:\n",
    "            liwc_scores[category] = round(category_count / total_words, 4)\n",
    "    \n",
    "    # Debug print\n",
    "    # print(\"LIWC categories found:\", list(liwc_scores.keys()))\n",
    "    \n",
    "    return liwc_scores"
   ]
  },
  {
   "cell_type": "code",
   "execution_count": 17,
   "metadata": {},
   "outputs": [],
   "source": [
    "def compute_cynicism_score(row):\n",
    "    \"\"\"Compute cynicism score from LIWC categories.\"\"\"\n",
    "    # Create a set of categories excluding 'certainty'\n",
    "    cynicism_categories = set(liwc_cynicism.keys()) - {'certainty'}\n",
    "    certainty_weight = 1\n",
    "    \n",
    "    # Debug print\n",
    "    # print(\"Available columns:\", row.index.tolist())\n",
    "    # print(\"Looking for categories:\", list(cynicism_categories))\n",
    "    \n",
    "    # Check if all required categories exist\n",
    "    missing_categories = [cat for cat in cynicism_categories if cat not in row.index]\n",
    "    if missing_categories:\n",
    "        print(f\"Missing categories: {missing_categories}\")\n",
    "        return 0.0\n",
    "    \n",
    "    try:\n",
    "        cynicism_score = (sum(row[category] for category in cynicism_categories) - \n",
    "                         certainty_weight * row[\"certainty\"]) / len(cynicism_categories)\n",
    "        return round(cynicism_score, 4)\n",
    "    except Exception as e:\n",
    "        print(f\"Error computing cynicism score: {e}\")\n",
    "        print(f\"Row data: {row}\")\n",
    "        return 0.0"
   ]
  },
  {
   "cell_type": "code",
   "execution_count": 18,
   "metadata": {},
   "outputs": [],
   "source": [
    "def cronbach_alpha(df):\n",
    "    \"\"\"Compute Cronbach's Alpha for internal consistency of LIWC categories.\"\"\"\n",
    "    # items = df[liwc_cynicism_keys]\n",
    "    items = df[liwc_cynicism.keys()]\n",
    "    item_vars = items.var(axis=0, ddof=1)\n",
    "    total_var = items.sum(axis=1).var(ddof=1)\n",
    "    n = items.shape[1]\n",
    "    return (n / (n - 1)) * (1 - sum(item_vars) / total_var)"
   ]
  },
  {
   "cell_type": "markdown",
   "metadata": {},
   "source": [
    "## 3. LLM Cynicism MFT Analysis\n",
    "\n",
    "LLM-based cynicism Moral Foundation Theory Analysis\n"
   ]
  },
  {
   "cell_type": "code",
   "execution_count": 19,
   "metadata": {},
   "outputs": [],
   "source": [
    "import json\n",
    "import os\n",
    "import pprint\n",
    "from pydantic.v1 import BaseModel, Field\n",
    "from typing import Dict\n",
    "\n",
    "from llama_index.core import (\n",
    "    Settings, \n",
    "    SimpleDirectoryReader, \n",
    "    VectorStoreIndex,\n",
    "    StorageContext,\n",
    "    load_index_from_storage\n",
    ")\n",
    "from llama_index.core.prompts import PromptTemplate\n",
    "from llama_index.embeddings.ollama import OllamaEmbedding\n",
    "from llama_index.llms.ollama import Ollama"
   ]
  },
  {
   "cell_type": "code",
   "execution_count": 60,
   "metadata": {},
   "outputs": [],
   "source": [
    "class MFTAnalysis(BaseModel):\n",
    "    authority_subversion: float = Field(\n",
    "        default=0.0,\n",
    "        description=\"Degree of authority skepticism (0.0 to 1.0). Higher values indicate stronger skepticism towards institutional power.\"\n",
    "    )\n",
    "    loyalty_betrayal: float = Field(\n",
    "        default=0.0,\n",
    "        description=\"Degree of perceived betrayal (0.0 to 1.0). Higher values indicate a stronger sense of betrayal or disloyalty towards institutions.\"\n",
    "    )\n",
    "    fairness_cheating: float = Field(\n",
    "        default=0.0,\n",
    "        description=\"Degree of perceived unfairness (0.0 to 1.0). Higher values indicate stronger feelings of injustice or perceived cheating.\"\n",
    "    )\n",
    "\n",
    "class CynicalClassification(BaseModel):\n",
    "    is_cynical: bool\n",
    "    reason: str\n",
    "    mft_analysis: MFTAnalysis = Field(default_factory=MFTAnalysis)\n",
    "    primary_foundation: str = Field(\n",
    "        default=\"\",\n",
    "        description=\"Dominant moral foundation driving cynicism.\"\n",
    "    )\n",
    "    foundation_explanation: str = Field(\n",
    "        default=\"\",\n",
    "        description=\"Explanation of how the primary moral foundation manifests in the classification.\"\n",
    "    )"
   ]
  },
  {
   "cell_type": "code",
   "execution_count": 61,
   "metadata": {},
   "outputs": [],
   "source": [
    "CYNICISM_CLASSIFICATION_PROMPT = PromptTemplate(\n",
    "    template=\"\"\"\n",
    "You are an expert in cynical classification using Moral Foundations Theory (MFT).\n",
    "Analyze the text for cynicism through three moral foundations:\n",
    "1. Authority/Subversion: Skepticism of institutional power, questioning authority\n",
    "2. Loyalty/Betrayal: Sense of institutional or ideological betrayal\n",
    "3. Fairness/Cheating: Perceived injustices and inequities\n",
    "\n",
    "For each foundation, provide a score between 0.0 (not present) and 1.0 (strongly present).\n",
    "Identify the primary moral foundation driving any cynicism.\n",
    "\n",
    "## Text to analyze\n",
    "\n",
    "Text: {text}\n",
    "\n",
    "## Output Format\n",
    "Provide your analysis in the following JSON structure. Return only valid JSON:\n",
    "\n",
    "Here is an example of non-cynical judgement about a text:\n",
    "{{{{\n",
    "    \"is_cynical\": False,\n",
    "    \"reason\": \"explanation for the classification\",\n",
    "    \"mft_analysis\": {{{{\n",
    "        \"authority_subversion\": 0.1,\n",
    "        \"loyalty_betrayal\": 0.1,\n",
    "        \"fairness_cheating\": 0.2\n",
    "    }}}},\n",
    "    \"primary_foundation\": \"name of the dominant foundation\",\n",
    "    \"foundation_explanation\": \"explanation of how the primary foundation manifests\"\n",
    "}}}}\n",
    "\n",
    "Here is an example of cynical judgement about a text:\n",
    "{{{{\n",
    "    \"is_cynical\": True,\n",
    "    \"reason\": \"explanation for the classification\",\n",
    "    \"mft_analysis\": {{{{\n",
    "        \"authority_subversion\": 0.1,\n",
    "        \"loyalty_betrayal\": 0.9,\n",
    "        \"fairness_cheating\": 0.1\n",
    "    }}}},\n",
    "    \"primary_foundation\": \"name of the dominant foundation\",\n",
    "    \"foundation_explanation\": \"explanation of how the primary foundation manifests\"\n",
    "}}}}\n",
    "\"\"\"\n",
    ")"
   ]
  },
  {
   "cell_type": "code",
   "execution_count": 62,
   "metadata": {},
   "outputs": [],
   "source": [
    "# ollama = Ollama(model=\"deepseek-r1:7b\", json_mode=True, temperature=0.0)\n",
    "ollama = Ollama(model=\"llama3.2:3b-instruct-q8_0\", json_mode=True, temperature=0.0, timeout=240)\n",
    "ollama.system_prompt=(\n",
    "    \"You are a helpful assistant that always responds with valid JSON matching the requested structure.\"\n",
    ")\n",
    "sllm = ollama.as_structured_llm(output_cls=CynicalClassification, timeout=240)"
   ]
  },
  {
   "cell_type": "code",
   "execution_count": 63,
   "metadata": {},
   "outputs": [],
   "source": [
    "from llama_index.llms.openai import OpenAI\n",
    "gpt4omini = OpenAI(model=\"gpt-4o-mini\", temperature=0.0)\n",
    "gpt4omini.system_prompt=(\n",
    "    \"You are a helpful assistant that always responds with valid JSON matching the requested structure.\"\n",
    ")\n",
    "gpt4omini_sllm = gpt4omini.as_structured_llm(output_cls=CynicalClassification, timeout=120)"
   ]
  },
  {
   "cell_type": "code",
   "execution_count": 64,
   "metadata": {},
   "outputs": [],
   "source": [
    "def classify_text_cynicism(text) -> CynicalClassification:\n",
    "    \"\"\"\n",
    "    Process a single text and return a CynicalClassification.\n",
    "    \"\"\"\n",
    "    try:\n",
    "        # Add a more explicit prompt to encourage tool usage\n",
    "        formatted_prompt = CYNICISM_CLASSIFICATION_PROMPT.format(\n",
    "            text=text[:1000]  # Limit text length to avoid token limits\n",
    "        )\n",
    "        response = gpt4omini_sllm.complete(formatted_prompt)\n",
    "        return response.raw\n",
    "    except ValueError as e:\n",
    "        # Fallback values if tool calls fail\n",
    "        return CynicalClassification(\n",
    "            is_cynical=False,\n",
    "            reason=\"Error processing text\",\n",
    "            mft_analysis=MFTAnalysis(\n",
    "                authority_subversion=0.0,\n",
    "                loyalty_betrayal=0.0,\n",
    "                fairness_injustice=0.0\n",
    "            ),\n",
    "            primary_foundation=\"none\",\n",
    "            foundation_explanation=\"Error in processing\"\n",
    "        )"
   ]
  },
  {
   "cell_type": "code",
   "execution_count": 65,
   "metadata": {},
   "outputs": [],
   "source": [
    "def printCynicalClassification(judgement: CynicalClassification):\n",
    "    print(f\"is_cynical: {judgement.is_cynical}\")\n",
    "    print(f\"reason: {judgement.reason}\")\n",
    "    print(f\"mft_analysis: {judgement.mft_analysis}\")"
   ]
  },
  {
   "cell_type": "code",
   "execution_count": 66,
   "metadata": {},
   "outputs": [
    {
     "name": "stdout",
     "output_type": "stream",
     "text": [
      "is_cynical: True\n",
      "reason: The statement expresses a strong distrust of the police, indicating a belief that they are corrupt and not serving their intended purpose, which reflects a cynical view of authority.\n",
      "mft_analysis: authority_subversion=0.9 loyalty_betrayal=0.7 fairness_cheating=0.8\n"
     ]
    }
   ],
   "source": [
    "text = \"The police are corrupt and they are not there to protect the people.\"\n",
    "judgement = classify_text_cynicism(text)\n",
    "printCynicalClassification(judgement=judgement)"
   ]
  },
  {
   "cell_type": "code",
   "execution_count": 67,
   "metadata": {},
   "outputs": [
    {
     "name": "stdout",
     "output_type": "stream",
     "text": [
      "is_cynical: False\n",
      "reason: The text expresses a neutral sentiment about enjoying a neighborhood without any indication of skepticism towards authority, feelings of betrayal, or perceived injustices.\n",
      "mft_analysis: authority_subversion=0.0 loyalty_betrayal=0.0 fairness_cheating=0.0\n"
     ]
    }
   ],
   "source": [
    "text = \"We like going around theneighborhood.\"\n",
    "judgement = classify_text_cynicism(text)\n",
    "printCynicalClassification(judgement=judgement)"
   ]
  },
  {
   "cell_type": "markdown",
   "metadata": {},
   "source": [
    "## 4. Diversity Analysis\n"
   ]
  },
  {
   "cell_type": "code",
   "execution_count": 68,
   "metadata": {},
   "outputs": [],
   "source": [
    "from openai import OpenAI\n",
    "from typing import List\n",
    "import numpy as np\n",
    "client = OpenAI()"
   ]
  },
  {
   "cell_type": "code",
   "execution_count": 1,
   "metadata": {},
   "outputs": [
    {
     "ename": "NameError",
     "evalue": "name 'List' is not defined",
     "output_type": "error",
     "traceback": [
      "\u001b[1;31m---------------------------------------------------------------------------\u001b[0m",
      "\u001b[1;31mNameError\u001b[0m                                 Traceback (most recent call last)",
      "Cell \u001b[1;32mIn[1], line 1\u001b[0m\n\u001b[1;32m----> 1\u001b[0m \u001b[38;5;28;01mdef\u001b[39;00m \u001b[38;5;21mget_embedding\u001b[39m(text: \u001b[38;5;28mstr\u001b[39m) \u001b[38;5;241m-\u001b[39m\u001b[38;5;241m>\u001b[39m \u001b[43mList\u001b[49m[\u001b[38;5;28mfloat\u001b[39m]:\n\u001b[0;32m      2\u001b[0m \u001b[38;5;250m    \u001b[39m\u001b[38;5;124;03m\"\"\"\u001b[39;00m\n\u001b[0;32m      3\u001b[0m \u001b[38;5;124;03m    Get embeddings for a single text using text-embedding-3-large model.\u001b[39;00m\n\u001b[0;32m      4\u001b[0m \u001b[38;5;124;03m    \u001b[39;00m\n\u001b[1;32m   (...)\u001b[0m\n\u001b[0;32m      9\u001b[0m \u001b[38;5;124;03m        List[float]: The embedding vector\u001b[39;00m\n\u001b[0;32m     10\u001b[0m \u001b[38;5;124;03m    \"\"\"\u001b[39;00m\n\u001b[0;32m     11\u001b[0m     response \u001b[38;5;241m=\u001b[39m client\u001b[38;5;241m.\u001b[39membeddings\u001b[38;5;241m.\u001b[39mcreate(\n\u001b[0;32m     12\u001b[0m         model\u001b[38;5;241m=\u001b[39m\u001b[38;5;124m\"\u001b[39m\u001b[38;5;124mtext-embedding-3-large\u001b[39m\u001b[38;5;124m\"\u001b[39m,\n\u001b[0;32m     13\u001b[0m         \u001b[38;5;28minput\u001b[39m\u001b[38;5;241m=\u001b[39mtext,\n\u001b[0;32m     14\u001b[0m         dimensions\u001b[38;5;241m=\u001b[39m\u001b[38;5;241m1024\u001b[39m  \u001b[38;5;66;03m# Optional: You can specify 256, 512, or 1024 dimensions\u001b[39;00m\n\u001b[0;32m     15\u001b[0m     )\n",
      "\u001b[1;31mNameError\u001b[0m: name 'List' is not defined"
     ]
    }
   ],
   "source": [
    "def get_embedding(text: str) -> List[float]:\n",
    "    \"\"\"\n",
    "    Get embeddings for a single text using text-embedding-3-large model.\n",
    "    \n",
    "    Args:\n",
    "        text (str): The input text to generate embeddings for\n",
    "        \n",
    "    Returns:\n",
    "        List[float]: The embedding vector\n",
    "    \"\"\"\n",
    "    response = client.embeddings.create(\n",
    "        model=\"text-embedding-3-large\",\n",
    "        input=text,\n",
    "        dimensions=1024  # Optional: You can specify 256, 512, or 1024 dimensions\n",
    "    )\n",
    "    return response.data[0].embedding\n",
    "\n",
    "\n",
    "# def get_batch_embeddings(texts: List[str]) -> List[List[float]]:\n",
    "#     \"\"\"\n",
    "#     Get embeddings for multiple texts in a single API call.\n",
    "    \n",
    "#     Args:\n",
    "#         texts (List[str]): List of input texts to generate embeddings for\n",
    "        \n",
    "#     Returns:\n",
    "#         List[List[float]]: List of embedding vectors\n",
    "#     \"\"\"\n",
    "    \n",
    "#     responses = []\n",
    "#     try:\n",
    "#         response = client.embeddings.create(\n",
    "#             model=\"text-embedding-3-large\",\n",
    "#             input=texts,\n",
    "#             dimensions=1024\n",
    "#         )\n",
    "#         responses = [item.embedding for item in response.data]\n",
    "#     except Exception as e:\n",
    "#         # texts is too long for a single API call\n",
    "#         for text in texts:\n",
    "#             response = client.embeddings.create(\n",
    "#                 model=\"text-embedding-3-large\",\n",
    "#                 input=text,\n",
    "#                 dimensions=1024\n",
    "#             )\n",
    "#             responses.append(response.data[0].embedding)\n",
    "#     return responses\n",
    "\n",
    "def chunk_text(text, max_tokens=8000):\n",
    "    \"\"\"Split text into chunks that fit within token limit\"\"\"\n",
    "    enc = encoding_for_model(\"text-embedding-3-large\")\n",
    "    tokens = enc.encode(text)\n",
    "    \n",
    "    chunks = []\n",
    "    current_chunk = []\n",
    "    current_length = 0\n",
    "    \n",
    "    for token in tokens:\n",
    "        if current_length + 1 > max_tokens:\n",
    "            # Convert current chunk back to text and add to chunks\n",
    "            chunks.append(enc.decode(current_chunk))\n",
    "            current_chunk = [token]\n",
    "            current_length = 1\n",
    "        else:\n",
    "            current_chunk.append(token)\n",
    "            current_length += 1\n",
    "    \n",
    "    # Add the last chunk if it exists\n",
    "    if current_chunk:\n",
    "        chunks.append(enc.decode(current_chunk))\n",
    "    \n",
    "    return chunks\n",
    "\n",
    "def get_batch_embeddings(texts):\n",
    "    \"\"\"Get embeddings for a batch of texts, handling token limits\"\"\"\n",
    "    all_embeddings = []\n",
    "    \n",
    "    for text in texts:\n",
    "        # Split text into chunks if needed\n",
    "        text_chunks = chunk_text(text)\n",
    "        \n",
    "        # Get embeddings for each chunk\n",
    "        chunk_embeddings = []\n",
    "        for chunk in text_chunks:\n",
    "            response = client.embeddings.create(\n",
    "                model=\"text-embedding-3-large\",\n",
    "                input=chunk,\n",
    "                dimensions=1024\n",
    "            )\n",
    "            chunk_embeddings.append(response.data[0].embedding)\n",
    "        \n",
    "        # If text was chunked, average the embeddings\n",
    "        if len(chunk_embeddings) > 1:\n",
    "            # Average the embeddings component-wise\n",
    "            avg_embedding = [sum(x)/len(x) for x in zip(*chunk_embeddings)]\n",
    "            all_embeddings.append(avg_embedding)\n",
    "        else:\n",
    "            all_embeddings.append(chunk_embeddings[0])\n",
    "    \n",
    "    return all_embeddings"
   ]
  },
  {
   "cell_type": "code",
   "execution_count": 70,
   "metadata": {},
   "outputs": [
    {
     "name": "stderr",
     "output_type": "stream",
     "text": [
      "[nltk_data] Downloading package stopwords to\n",
      "[nltk_data]     C:\\Users\\theod\\AppData\\Roaming\\nltk_data...\n",
      "[nltk_data]   Package stopwords is already up-to-date!\n"
     ]
    }
   ],
   "source": [
    "nltk.download('stopwords')\n",
    "from nltk.corpus import stopwords"
   ]
  },
  {
   "cell_type": "code",
   "execution_count": 71,
   "metadata": {},
   "outputs": [],
   "source": [
    "english_stopwords = stopwords.words('english')\n",
    "def prepText(text_series):\n",
    "    # Step 1: Clean and normalize each text in the series\n",
    "    # - Convert to lowercase\n",
    "    # - Lemmatize each word (convert to base form)\n",
    "    # - Remove stopwords\n",
    "    # - Join words back together with spaces\n",
    "    text_series = text_series.apply(\n",
    "        lambda x: \" \".join(lemmatizer.lemmatize(w.lower()) for w in x.split()\n",
    "                           if w not in english_stopwords))\n",
    "    \n",
    "    # Step 2: Filter out short texts\n",
    "    # Remove any text less than 100 characters as they're likely too short for meaningful analysis\n",
    "    text_series = text_series.apply(lambda x: x if len(x) > 100 else None)\n",
    "    \n",
    "    # Step 3: Remove any null values created by the previous step\n",
    "    text_series = text_series.dropna()\n",
    "    \n",
    "    # Step 4: Count diversity-related terms\n",
    "    # Sum up all instances of diversity-related words (defined in diversity_pattern)\n",
    "    # across all remaining texts in the series\n",
    "    total_diversity_words = sum([len(re.findall(diversity_pattern, text))\n",
    "                                for text in text_series])\n",
    "    \n",
    "    # Return both the cleaned text series and the total count of diversity words\n",
    "    return text_series, total_diversity_words"
   ]
  },
  {
   "cell_type": "code",
   "execution_count": 72,
   "metadata": {},
   "outputs": [],
   "source": [
    "START_YEAR = 2010\n",
    "FINAL_YEAR = 2024"
   ]
  },
  {
   "cell_type": "code",
   "execution_count": 73,
   "metadata": {},
   "outputs": [],
   "source": [
    "year_2024 = df[df.year==2024]\n",
    "clean_df, num_diversity_words = prepText(year_2024.body)\n",
    "wv = get_batch_embeddings(clean_df)"
   ]
  },
  {
   "cell_type": "code",
   "execution_count": 74,
   "metadata": {},
   "outputs": [
    {
     "data": {
      "text/plain": [
       "list"
      ]
     },
     "execution_count": 74,
     "metadata": {},
     "output_type": "execute_result"
    }
   ],
   "source": [
    "type(wv[0])"
   ]
  },
  {
   "cell_type": "code",
   "execution_count": 75,
   "metadata": {},
   "outputs": [],
   "source": [
    "docmatrix = np.array(wv)"
   ]
  },
  {
   "cell_type": "code",
   "execution_count": 76,
   "metadata": {},
   "outputs": [
    {
     "data": {
      "text/plain": [
       "(284, 1024)"
      ]
     },
     "execution_count": 76,
     "metadata": {},
     "output_type": "execute_result"
    }
   ],
   "source": [
    "docmatrix.shape"
   ]
  },
  {
   "cell_type": "code",
   "execution_count": 77,
   "metadata": {},
   "outputs": [
    {
     "name": "stdout",
     "output_type": "stream",
     "text": [
      "0       2024\n",
      "1       2024\n",
      "2       2024\n",
      "3       2024\n",
      "4       2024\n",
      "        ... \n",
      "279     2024\n",
      "283     2024\n",
      "2218    2024\n",
      "2226    2024\n",
      "2227    2024\n",
      "Name: year, Length: 284, dtype: int64, 284, 0.0009771130674449708, 0.40323962964098053\n"
     ]
    }
   ],
   "source": [
    "pairwise = getNormalizedPairwiseDispersion(docmatrix, cosine_distance)\n",
    "cov = getCovDispersion(docmatrix)\n",
    "print(f\"{year_2024.year}, {cov[0]}, {cov[1]}, {pairwise}\")"
   ]
  },
  {
   "cell_type": "code",
   "execution_count": 78,
   "metadata": {},
   "outputs": [
    {
     "name": "stderr",
     "output_type": "stream",
     "text": [
      "[nltk_data] Downloading package vader_lexicon to\n",
      "[nltk_data]     C:\\Users\\theod\\AppData\\Roaming\\nltk_data...\n",
      "[nltk_data]   Package vader_lexicon is already up-to-date!\n"
     ]
    }
   ],
   "source": [
    "# VADER Sentiment Analysis\n",
    "import nltk\n",
    "nltk.download('vader_lexicon')\n",
    "from nltk.sentiment.vader import SentimentIntensityAnalyzer\n",
    "\n",
    "# Initialize the sentiment analyzer\n",
    "sia = SentimentIntensityAnalyzer()"
   ]
  },
  {
   "cell_type": "code",
   "execution_count": 79,
   "metadata": {},
   "outputs": [],
   "source": [
    "def chunk_process_embeddings(\n",
    "    clean_df: pd.Series,\n",
    "    num_chunks: int = 6\n",
    ") -> List[List[float]]:\n",
    "    \"\"\"\n",
    "    Process embeddings in chunks and combine results.\n",
    "    \n",
    "    Args:\n",
    "        clean_df: pandas Series of cleaned text strings\n",
    "        num_chunks: number of chunks to process\n",
    "    \n",
    "    Returns:\n",
    "        List[List[float]]: List of embedding vectors, where each vector is a list of floats\n",
    "    \"\"\"\n",
    "    # Calculate chunk size (divide into `num_chunks` equal parts)\n",
    "    chunk_size = len(clean_df) // num_chunks\n",
    "    chunk_size = chunk_size if chunk_size > 0 else 1\n",
    "    \n",
    "    chunks = [\n",
    "        clean_df[i:i + chunk_size] \n",
    "        for i in range(0, len(clean_df), chunk_size)\n",
    "    ]\n",
    "    \n",
    "    # Process each chunk and combine results\n",
    "    all_embeddings = []\n",
    "    for chunk in chunks:\n",
    "        chunk_embeddings = get_batch_embeddings(chunk)\n",
    "        all_embeddings.extend(chunk_embeddings)\n",
    "    \n",
    "    return all_embeddings"
   ]
  },
  {
   "cell_type": "code",
   "execution_count": 80,
   "metadata": {},
   "outputs": [],
   "source": [
    "import concurrent.futures\n",
    "from typing import Tuple\n",
    "\n",
    "def process_text(text) -> Tuple[bool, float, float, float]:\n",
    "    \"\"\"\n",
    "    Process a single text and return counts based on the classification.\n",
    "    \"\"\"\n",
    "    judgement = classify_text_cynicism(text)\n",
    "    \n",
    "    # Access the attributes using dot notation instead of subscripting the MFTAnalysis instance\n",
    "    return (\n",
    "        judgement.is_cynical, \n",
    "        judgement.mft_analysis.authority_subversion,\n",
    "        judgement.mft_analysis.loyalty_betrayal,\n",
    "        judgement.mft_analysis.fairness_cheating\n",
    "    )"
   ]
  },
  {
   "cell_type": "code",
   "execution_count": 82,
   "metadata": {},
   "outputs": [
    {
     "name": "stdout",
     "output_type": "stream",
     "text": [
      "year        size        trace       pairwise    vader       lexical     cynicism    subversion  betrayal    injustice   \n",
      "----------------------------------------------------------------------------------------------------------------------\n",
      "Skipping year 2010 - insufficient data (found 0 documents)\n",
      "2011        112         0.001       0.491       0.742       0.021       0.437       0.404       0.499       0.406       \n",
      "2012        241         0.001       0.480       0.890       0.019       0.378       0.350       0.430       0.355       \n",
      "2013        246         0.001       0.485       0.803       0.029       0.404       0.370       0.457       0.385       \n",
      "2014        370         0.001       0.495       0.816       0.049       0.379       0.333       0.436       0.369       \n",
      "2015        372         0.001       0.498       0.762       0.029       0.356       0.324       0.406       0.339       \n",
      "2016        314         0.001       0.500       0.776       0.032       0.343       0.332       0.381       0.318       \n",
      "2017        458         0.001       0.504       0.798       0.043       0.300       0.263       0.352       0.284       \n",
      "2018        359         0.001       0.507       0.800       0.030       0.303       0.248       0.367       0.294       \n",
      "2019        335         0.001       0.454       0.797       0.034       0.385       0.297       0.459       0.400       \n"
     ]
    },
    {
     "ename": "BadRequestError",
     "evalue": "Error code: 400 - {'error': {'message': \"This model's maximum context length is 8192 tokens, however you requested 10649 tokens (10649 in your prompt; 0 for the completion). Please reduce your prompt; or completion length.\", 'type': 'invalid_request_error', 'param': None, 'code': None}}",
     "output_type": "error",
     "traceback": [
      "\u001b[1;31m---------------------------------------------------------------------------\u001b[0m",
      "\u001b[1;31mBadRequestError\u001b[0m                           Traceback (most recent call last)",
      "Cell \u001b[1;32mIn[82], line 15\u001b[0m\n\u001b[0;32m     12\u001b[0m     \u001b[38;5;28mprint\u001b[39m(\u001b[38;5;124mf\u001b[39m\u001b[38;5;124m\"\u001b[39m\u001b[38;5;124mSkipping year \u001b[39m\u001b[38;5;132;01m{\u001b[39;00myear\u001b[38;5;132;01m}\u001b[39;00m\u001b[38;5;124m - insufficient data (found \u001b[39m\u001b[38;5;132;01m{\u001b[39;00m\u001b[38;5;28mlen\u001b[39m(clean_df)\u001b[38;5;132;01m}\u001b[39;00m\u001b[38;5;124m documents)\u001b[39m\u001b[38;5;124m\"\u001b[39m)\n\u001b[0;32m     13\u001b[0m     \u001b[38;5;28;01mcontinue\u001b[39;00m\n\u001b[1;32m---> 15\u001b[0m wv \u001b[38;5;241m=\u001b[39m \u001b[43mchunk_process_embeddings\u001b[49m\u001b[43m(\u001b[49m\u001b[43mclean_df\u001b[49m\u001b[43m,\u001b[49m\u001b[43m \u001b[49m\u001b[43mnum_chunks\u001b[49m\u001b[38;5;241;43m=\u001b[39;49m\u001b[38;5;241;43m12\u001b[39;49m\u001b[43m)\u001b[49m\n\u001b[0;32m     17\u001b[0m docmatrix \u001b[38;5;241m=\u001b[39m np\u001b[38;5;241m.\u001b[39marray(wv)\n\u001b[0;32m     18\u001b[0m pairwise \u001b[38;5;241m=\u001b[39m getNormalizedPairwiseDispersion(docmatrix, cosine_distance)\n",
      "Cell \u001b[1;32mIn[79], line 27\u001b[0m, in \u001b[0;36mchunk_process_embeddings\u001b[1;34m(clean_df, num_chunks)\u001b[0m\n\u001b[0;32m     25\u001b[0m all_embeddings \u001b[38;5;241m=\u001b[39m []\n\u001b[0;32m     26\u001b[0m \u001b[38;5;28;01mfor\u001b[39;00m chunk \u001b[38;5;129;01min\u001b[39;00m chunks:\n\u001b[1;32m---> 27\u001b[0m     chunk_embeddings \u001b[38;5;241m=\u001b[39m \u001b[43mget_batch_embeddings\u001b[49m\u001b[43m(\u001b[49m\u001b[43mchunk\u001b[49m\u001b[43m)\u001b[49m\n\u001b[0;32m     28\u001b[0m     all_embeddings\u001b[38;5;241m.\u001b[39mextend(chunk_embeddings)\n\u001b[0;32m     30\u001b[0m \u001b[38;5;28;01mreturn\u001b[39;00m all_embeddings\n",
      "Cell \u001b[1;32mIn[69], line 41\u001b[0m, in \u001b[0;36mget_batch_embeddings\u001b[1;34m(texts)\u001b[0m\n\u001b[0;32m     38\u001b[0m \u001b[38;5;28;01mexcept\u001b[39;00m \u001b[38;5;167;01mException\u001b[39;00m \u001b[38;5;28;01mas\u001b[39;00m e:\n\u001b[0;32m     39\u001b[0m     \u001b[38;5;66;03m# texts is too long for a single API call\u001b[39;00m\n\u001b[0;32m     40\u001b[0m     \u001b[38;5;28;01mfor\u001b[39;00m text \u001b[38;5;129;01min\u001b[39;00m texts:\n\u001b[1;32m---> 41\u001b[0m         response \u001b[38;5;241m=\u001b[39m \u001b[43mclient\u001b[49m\u001b[38;5;241;43m.\u001b[39;49m\u001b[43membeddings\u001b[49m\u001b[38;5;241;43m.\u001b[39;49m\u001b[43mcreate\u001b[49m\u001b[43m(\u001b[49m\n\u001b[0;32m     42\u001b[0m \u001b[43m            \u001b[49m\u001b[43mmodel\u001b[49m\u001b[38;5;241;43m=\u001b[39;49m\u001b[38;5;124;43m\"\u001b[39;49m\u001b[38;5;124;43mtext-embedding-3-large\u001b[39;49m\u001b[38;5;124;43m\"\u001b[39;49m\u001b[43m,\u001b[49m\n\u001b[0;32m     43\u001b[0m \u001b[43m            \u001b[49m\u001b[38;5;28;43minput\u001b[39;49m\u001b[38;5;241;43m=\u001b[39;49m\u001b[43mtext\u001b[49m\u001b[43m,\u001b[49m\n\u001b[0;32m     44\u001b[0m \u001b[43m            \u001b[49m\u001b[43mdimensions\u001b[49m\u001b[38;5;241;43m=\u001b[39;49m\u001b[38;5;241;43m1024\u001b[39;49m\n\u001b[0;32m     45\u001b[0m \u001b[43m        \u001b[49m\u001b[43m)\u001b[49m\n\u001b[0;32m     46\u001b[0m         responses\u001b[38;5;241m.\u001b[39mappend(response\u001b[38;5;241m.\u001b[39mdata[\u001b[38;5;241m0\u001b[39m]\u001b[38;5;241m.\u001b[39membedding)\n\u001b[0;32m     47\u001b[0m \u001b[38;5;28;01mreturn\u001b[39;00m responses\n",
      "File \u001b[1;32mc:\\Users\\theod\\OneDrive\\dev\\diversity-ideas\\.venv\\Lib\\site-packages\\openai\\resources\\embeddings.py:124\u001b[0m, in \u001b[0;36mEmbeddings.create\u001b[1;34m(self, input, model, dimensions, encoding_format, user, extra_headers, extra_query, extra_body, timeout)\u001b[0m\n\u001b[0;32m    118\u001b[0m         embedding\u001b[38;5;241m.\u001b[39membedding \u001b[38;5;241m=\u001b[39m np\u001b[38;5;241m.\u001b[39mfrombuffer(  \u001b[38;5;66;03m# type: ignore[no-untyped-call]\u001b[39;00m\n\u001b[0;32m    119\u001b[0m             base64\u001b[38;5;241m.\u001b[39mb64decode(data), dtype\u001b[38;5;241m=\u001b[39m\u001b[38;5;124m\"\u001b[39m\u001b[38;5;124mfloat32\u001b[39m\u001b[38;5;124m\"\u001b[39m\n\u001b[0;32m    120\u001b[0m         )\u001b[38;5;241m.\u001b[39mtolist()\n\u001b[0;32m    122\u001b[0m     \u001b[38;5;28;01mreturn\u001b[39;00m obj\n\u001b[1;32m--> 124\u001b[0m \u001b[38;5;28;01mreturn\u001b[39;00m \u001b[38;5;28;43mself\u001b[39;49m\u001b[38;5;241;43m.\u001b[39;49m\u001b[43m_post\u001b[49m\u001b[43m(\u001b[49m\n\u001b[0;32m    125\u001b[0m \u001b[43m    \u001b[49m\u001b[38;5;124;43m\"\u001b[39;49m\u001b[38;5;124;43m/embeddings\u001b[39;49m\u001b[38;5;124;43m\"\u001b[39;49m\u001b[43m,\u001b[49m\n\u001b[0;32m    126\u001b[0m \u001b[43m    \u001b[49m\u001b[43mbody\u001b[49m\u001b[38;5;241;43m=\u001b[39;49m\u001b[43mmaybe_transform\u001b[49m\u001b[43m(\u001b[49m\u001b[43mparams\u001b[49m\u001b[43m,\u001b[49m\u001b[43m \u001b[49m\u001b[43membedding_create_params\u001b[49m\u001b[38;5;241;43m.\u001b[39;49m\u001b[43mEmbeddingCreateParams\u001b[49m\u001b[43m)\u001b[49m\u001b[43m,\u001b[49m\n\u001b[0;32m    127\u001b[0m \u001b[43m    \u001b[49m\u001b[43moptions\u001b[49m\u001b[38;5;241;43m=\u001b[39;49m\u001b[43mmake_request_options\u001b[49m\u001b[43m(\u001b[49m\n\u001b[0;32m    128\u001b[0m \u001b[43m        \u001b[49m\u001b[43mextra_headers\u001b[49m\u001b[38;5;241;43m=\u001b[39;49m\u001b[43mextra_headers\u001b[49m\u001b[43m,\u001b[49m\n\u001b[0;32m    129\u001b[0m \u001b[43m        \u001b[49m\u001b[43mextra_query\u001b[49m\u001b[38;5;241;43m=\u001b[39;49m\u001b[43mextra_query\u001b[49m\u001b[43m,\u001b[49m\n\u001b[0;32m    130\u001b[0m \u001b[43m        \u001b[49m\u001b[43mextra_body\u001b[49m\u001b[38;5;241;43m=\u001b[39;49m\u001b[43mextra_body\u001b[49m\u001b[43m,\u001b[49m\n\u001b[0;32m    131\u001b[0m \u001b[43m        \u001b[49m\u001b[43mtimeout\u001b[49m\u001b[38;5;241;43m=\u001b[39;49m\u001b[43mtimeout\u001b[49m\u001b[43m,\u001b[49m\n\u001b[0;32m    132\u001b[0m \u001b[43m        \u001b[49m\u001b[43mpost_parser\u001b[49m\u001b[38;5;241;43m=\u001b[39;49m\u001b[43mparser\u001b[49m\u001b[43m,\u001b[49m\n\u001b[0;32m    133\u001b[0m \u001b[43m    \u001b[49m\u001b[43m)\u001b[49m\u001b[43m,\u001b[49m\n\u001b[0;32m    134\u001b[0m \u001b[43m    \u001b[49m\u001b[43mcast_to\u001b[49m\u001b[38;5;241;43m=\u001b[39;49m\u001b[43mCreateEmbeddingResponse\u001b[49m\u001b[43m,\u001b[49m\n\u001b[0;32m    135\u001b[0m \u001b[43m\u001b[49m\u001b[43m)\u001b[49m\n",
      "File \u001b[1;32mc:\\Users\\theod\\OneDrive\\dev\\diversity-ideas\\.venv\\Lib\\site-packages\\openai\\_base_client.py:1280\u001b[0m, in \u001b[0;36mSyncAPIClient.post\u001b[1;34m(self, path, cast_to, body, options, files, stream, stream_cls)\u001b[0m\n\u001b[0;32m   1266\u001b[0m \u001b[38;5;28;01mdef\u001b[39;00m \u001b[38;5;21mpost\u001b[39m(\n\u001b[0;32m   1267\u001b[0m     \u001b[38;5;28mself\u001b[39m,\n\u001b[0;32m   1268\u001b[0m     path: \u001b[38;5;28mstr\u001b[39m,\n\u001b[1;32m   (...)\u001b[0m\n\u001b[0;32m   1275\u001b[0m     stream_cls: \u001b[38;5;28mtype\u001b[39m[_StreamT] \u001b[38;5;241m|\u001b[39m \u001b[38;5;28;01mNone\u001b[39;00m \u001b[38;5;241m=\u001b[39m \u001b[38;5;28;01mNone\u001b[39;00m,\n\u001b[0;32m   1276\u001b[0m ) \u001b[38;5;241m-\u001b[39m\u001b[38;5;241m>\u001b[39m ResponseT \u001b[38;5;241m|\u001b[39m _StreamT:\n\u001b[0;32m   1277\u001b[0m     opts \u001b[38;5;241m=\u001b[39m FinalRequestOptions\u001b[38;5;241m.\u001b[39mconstruct(\n\u001b[0;32m   1278\u001b[0m         method\u001b[38;5;241m=\u001b[39m\u001b[38;5;124m\"\u001b[39m\u001b[38;5;124mpost\u001b[39m\u001b[38;5;124m\"\u001b[39m, url\u001b[38;5;241m=\u001b[39mpath, json_data\u001b[38;5;241m=\u001b[39mbody, files\u001b[38;5;241m=\u001b[39mto_httpx_files(files), \u001b[38;5;241m*\u001b[39m\u001b[38;5;241m*\u001b[39moptions\n\u001b[0;32m   1279\u001b[0m     )\n\u001b[1;32m-> 1280\u001b[0m     \u001b[38;5;28;01mreturn\u001b[39;00m cast(ResponseT, \u001b[38;5;28;43mself\u001b[39;49m\u001b[38;5;241;43m.\u001b[39;49m\u001b[43mrequest\u001b[49m\u001b[43m(\u001b[49m\u001b[43mcast_to\u001b[49m\u001b[43m,\u001b[49m\u001b[43m \u001b[49m\u001b[43mopts\u001b[49m\u001b[43m,\u001b[49m\u001b[43m \u001b[49m\u001b[43mstream\u001b[49m\u001b[38;5;241;43m=\u001b[39;49m\u001b[43mstream\u001b[49m\u001b[43m,\u001b[49m\u001b[43m \u001b[49m\u001b[43mstream_cls\u001b[49m\u001b[38;5;241;43m=\u001b[39;49m\u001b[43mstream_cls\u001b[49m\u001b[43m)\u001b[49m)\n",
      "File \u001b[1;32mc:\\Users\\theod\\OneDrive\\dev\\diversity-ideas\\.venv\\Lib\\site-packages\\openai\\_base_client.py:957\u001b[0m, in \u001b[0;36mSyncAPIClient.request\u001b[1;34m(self, cast_to, options, remaining_retries, stream, stream_cls)\u001b[0m\n\u001b[0;32m    954\u001b[0m \u001b[38;5;28;01melse\u001b[39;00m:\n\u001b[0;32m    955\u001b[0m     retries_taken \u001b[38;5;241m=\u001b[39m \u001b[38;5;241m0\u001b[39m\n\u001b[1;32m--> 957\u001b[0m \u001b[38;5;28;01mreturn\u001b[39;00m \u001b[38;5;28;43mself\u001b[39;49m\u001b[38;5;241;43m.\u001b[39;49m\u001b[43m_request\u001b[49m\u001b[43m(\u001b[49m\n\u001b[0;32m    958\u001b[0m \u001b[43m    \u001b[49m\u001b[43mcast_to\u001b[49m\u001b[38;5;241;43m=\u001b[39;49m\u001b[43mcast_to\u001b[49m\u001b[43m,\u001b[49m\n\u001b[0;32m    959\u001b[0m \u001b[43m    \u001b[49m\u001b[43moptions\u001b[49m\u001b[38;5;241;43m=\u001b[39;49m\u001b[43moptions\u001b[49m\u001b[43m,\u001b[49m\n\u001b[0;32m    960\u001b[0m \u001b[43m    \u001b[49m\u001b[43mstream\u001b[49m\u001b[38;5;241;43m=\u001b[39;49m\u001b[43mstream\u001b[49m\u001b[43m,\u001b[49m\n\u001b[0;32m    961\u001b[0m \u001b[43m    \u001b[49m\u001b[43mstream_cls\u001b[49m\u001b[38;5;241;43m=\u001b[39;49m\u001b[43mstream_cls\u001b[49m\u001b[43m,\u001b[49m\n\u001b[0;32m    962\u001b[0m \u001b[43m    \u001b[49m\u001b[43mretries_taken\u001b[49m\u001b[38;5;241;43m=\u001b[39;49m\u001b[43mretries_taken\u001b[49m\u001b[43m,\u001b[49m\n\u001b[0;32m    963\u001b[0m \u001b[43m\u001b[49m\u001b[43m)\u001b[49m\n",
      "File \u001b[1;32mc:\\Users\\theod\\OneDrive\\dev\\diversity-ideas\\.venv\\Lib\\site-packages\\openai\\_base_client.py:1061\u001b[0m, in \u001b[0;36mSyncAPIClient._request\u001b[1;34m(self, cast_to, options, retries_taken, stream, stream_cls)\u001b[0m\n\u001b[0;32m   1058\u001b[0m         err\u001b[38;5;241m.\u001b[39mresponse\u001b[38;5;241m.\u001b[39mread()\n\u001b[0;32m   1060\u001b[0m     log\u001b[38;5;241m.\u001b[39mdebug(\u001b[38;5;124m\"\u001b[39m\u001b[38;5;124mRe-raising status error\u001b[39m\u001b[38;5;124m\"\u001b[39m)\n\u001b[1;32m-> 1061\u001b[0m     \u001b[38;5;28;01mraise\u001b[39;00m \u001b[38;5;28mself\u001b[39m\u001b[38;5;241m.\u001b[39m_make_status_error_from_response(err\u001b[38;5;241m.\u001b[39mresponse) \u001b[38;5;28;01mfrom\u001b[39;00m \u001b[38;5;28;01mNone\u001b[39;00m\n\u001b[0;32m   1063\u001b[0m \u001b[38;5;28;01mreturn\u001b[39;00m \u001b[38;5;28mself\u001b[39m\u001b[38;5;241m.\u001b[39m_process_response(\n\u001b[0;32m   1064\u001b[0m     cast_to\u001b[38;5;241m=\u001b[39mcast_to,\n\u001b[0;32m   1065\u001b[0m     options\u001b[38;5;241m=\u001b[39moptions,\n\u001b[1;32m   (...)\u001b[0m\n\u001b[0;32m   1069\u001b[0m     retries_taken\u001b[38;5;241m=\u001b[39mretries_taken,\n\u001b[0;32m   1070\u001b[0m )\n",
      "\u001b[1;31mBadRequestError\u001b[0m: Error code: 400 - {'error': {'message': \"This model's maximum context length is 8192 tokens, however you requested 10649 tokens (10649 in your prompt; 0 for the completion). Please reduce your prompt; or completion length.\", 'type': 'invalid_request_error', 'param': None, 'code': None}}"
     ]
    },
    {
     "ename": "",
     "evalue": "",
     "output_type": "error",
     "traceback": [
      "\u001b[1;31mThe Kernel crashed while executing code in the current cell or a previous cell. \n",
      "\u001b[1;31mPlease review the code in the cell(s) to identify a possible cause of the failure. \n",
      "\u001b[1;31mClick <a href='https://aka.ms/vscodeJupyterKernelCrash'>here</a> for more info. \n",
      "\u001b[1;31mView Jupyter <a href='command:jupyter.viewOutput'>log</a> for further details."
     ]
    }
   ],
   "source": [
    "results = []\n",
    "print(f\"{'year':<12}{'size':<12}{'trace':<12}{'pairwise':<12}{'vader':<12}{'lexical':<12}{'cynicism':<12}{'subversion':<12}{'betrayal':<12}{'injustice':<12}\")\n",
    "print(\"-\"*118)\n",
    "LIWC_SCORE_NAME = \"cynicism_lexical\"\n",
    "for year in range(START_YEAR, FINAL_YEAR+1):\n",
    "    year_df = df[df.year==year]\n",
    "    \n",
    "    clean_df, num_diversity_words = prepText(year_df.body)\n",
    "    \n",
    "    # Add check for empty dataframe\n",
    "    if len(clean_df) <= 1:  # Need at least 2 documents for pairwise comparison\n",
    "        print(f\"Skipping year {year} - insufficient data (found {len(clean_df)} documents)\")\n",
    "        continue\n",
    "        \n",
    "    wv = chunk_process_embeddings(clean_df, num_chunks=12)\n",
    "    \n",
    "    docmatrix = np.array(wv)\n",
    "    pairwise = getNormalizedPairwiseDispersion(docmatrix, cosine_distance)\n",
    "    cov = getCovDispersion(docmatrix)\n",
    "    \n",
    "    # -------------- VADER: Sentiment Analysis ----------------- #\n",
    "    pos_scores = []\n",
    "    neg_scores = []\n",
    "    neu_scores = []\n",
    "    compound_scores = []\n",
    "    \n",
    "    for text in clean_df:\n",
    "        sentiment_scores = sia.polarity_scores(text)\n",
    "        pos_scores.append(sentiment_scores['pos'])\n",
    "        neg_scores.append(sentiment_scores['neg'])\n",
    "        neu_scores.append(sentiment_scores['neu'])\n",
    "        compound_scores.append(sentiment_scores['compound'])\n",
    " \n",
    "    # --------------- LIWC: Lexical Analysis -------------------- #\n",
    "    temp_df = clean_df.copy()\n",
    "    \n",
    "    # Apply LIWC analysis and convert results to separate columns\n",
    "    liwc_scores = temp_df.apply(liwc_analysis)\n",
    "\n",
    "    # Convert the series of dictionaries to a DataFrame\n",
    "    liwc_columns = pd.DataFrame.from_records(liwc_scores.values)\n",
    "    \n",
    "    # Combine with original DataFrame\n",
    "    temp_df = pd.DataFrame(temp_df, columns=['text'])\n",
    "    liwc_df = pd.concat([temp_df, liwc_columns], axis=1)\n",
    "    \n",
    "    # Calculate cynicism score\n",
    "    liwc_df[LIWC_SCORE_NAME] = liwc_df.apply(compute_cynicism_score, axis=1)\n",
    "    sum_liwc_score = liwc_df[LIWC_SCORE_NAME].sum()\n",
    "    \n",
    "    # ---------------- LLM (Llama) Cynical Classification ---------------- #\n",
    "    # Use ThreadPoolExecutor to concurrently process texts\n",
    "    with concurrent.futures.ThreadPoolExecutor(max_workers=12) as executor:\n",
    "        mft_scores = list(executor.map(process_text, clean_df))\n",
    "\n",
    "    mft_subversion_score = sum(auth for is_cynical, auth, _, _ in mft_scores if is_cynical) / len(mft_scores)\n",
    "    mft_betrayal_score   = sum(loyalty for is_cynical, _, loyalty, _ in mft_scores if is_cynical) / len(mft_scores)\n",
    "    mft_injustice_score  = sum(fairness for is_cynical, _, _, fairness in mft_scores if is_cynical) / len(mft_scores)\n",
    "    cynicism_score = (mft_subversion_score + mft_betrayal_score + mft_injustice_score) / 3.0\n",
    "    \n",
    "    result = {'year':     year,\n",
    "              'pairwise': pairwise,\n",
    "              'size':     cov[0],\n",
    "              'trace':    cov[1],\n",
    "              'norm-1':   cov[2],\n",
    "              'norm-2':   cov[3],\n",
    "              'norm-inf': cov[4],\n",
    "              'diversity-words': num_diversity_words,\n",
    "              'mentions-norm'  : num_diversity_words/cov[0],\n",
    "              'pos': sum(pos_scores) / len(pos_scores),\n",
    "              'neg': sum(neg_scores) / len(neg_scores),\n",
    "              'neu': sum(neu_scores) / len(neu_scores),\n",
    "              'vader': sum(compound_scores) / len(compound_scores),\n",
    "              'lexical': sum_liwc_score,\n",
    "              'cynicism': cynicism_score,\n",
    "              'mft_subversion': mft_subversion_score,\n",
    "              'mft_betrayal': mft_betrayal_score,\n",
    "              'mft_injustice': mft_injustice_score,\n",
    "    }\n",
    "    results.append(result)\n",
    "    \n",
    "    print(f\"{year:<12}{cov[0]:<12}{cov[1]:<12.3f}{pairwise:<12.3f}{result['vader']:<12.3f}{result['lexical']:<12.3f}{result['cynicism']:<12.3f}{result['mft_subversion']:<12.3f}{result['mft_betrayal']:<12.3f}{result['mft_injustice']:<12.3f}\")"
   ]
  },
  {
   "cell_type": "code",
   "execution_count": 45,
   "metadata": {},
   "outputs": [
    {
     "data": {
      "text/html": [
       "<div>\n",
       "<style scoped>\n",
       "    .dataframe tbody tr th:only-of-type {\n",
       "        vertical-align: middle;\n",
       "    }\n",
       "\n",
       "    .dataframe tbody tr th {\n",
       "        vertical-align: top;\n",
       "    }\n",
       "\n",
       "    .dataframe thead th {\n",
       "        text-align: right;\n",
       "    }\n",
       "</style>\n",
       "<table border=\"1\" class=\"dataframe\">\n",
       "  <thead>\n",
       "    <tr style=\"text-align: right;\">\n",
       "      <th></th>\n",
       "      <th>pairwise</th>\n",
       "      <th>size</th>\n",
       "      <th>trace</th>\n",
       "      <th>norm-1</th>\n",
       "      <th>norm-2</th>\n",
       "      <th>norm-inf</th>\n",
       "      <th>diversity-words</th>\n",
       "      <th>mentions-norm</th>\n",
       "      <th>pos</th>\n",
       "      <th>neg</th>\n",
       "      <th>neu</th>\n",
       "      <th>vader</th>\n",
       "      <th>lexical</th>\n",
       "      <th>cynicism</th>\n",
       "      <th>mft_subversion</th>\n",
       "      <th>mft_betrayal</th>\n",
       "      <th>mft_injustice</th>\n",
       "    </tr>\n",
       "    <tr>\n",
       "      <th>year</th>\n",
       "      <th></th>\n",
       "      <th></th>\n",
       "      <th></th>\n",
       "      <th></th>\n",
       "      <th></th>\n",
       "      <th></th>\n",
       "      <th></th>\n",
       "      <th></th>\n",
       "      <th></th>\n",
       "      <th></th>\n",
       "      <th></th>\n",
       "      <th></th>\n",
       "      <th></th>\n",
       "      <th></th>\n",
       "      <th></th>\n",
       "      <th></th>\n",
       "      <th></th>\n",
       "    </tr>\n",
       "  </thead>\n",
       "  <tbody>\n",
       "    <tr>\n",
       "      <th>2013</th>\n",
       "      <td>0.303769</td>\n",
       "      <td>2</td>\n",
       "      <td>0.000977</td>\n",
       "      <td>0.000829</td>\n",
       "      <td>0.000828</td>\n",
       "      <td>0.000829</td>\n",
       "      <td>0</td>\n",
       "      <td>0.000000</td>\n",
       "      <td>0.214000</td>\n",
       "      <td>0.076500</td>\n",
       "      <td>0.710000</td>\n",
       "      <td>0.995700</td>\n",
       "      <td>0.0006</td>\n",
       "      <td>0.233333</td>\n",
       "      <td>0.100000</td>\n",
       "      <td>0.350000</td>\n",
       "      <td>0.250000</td>\n",
       "    </tr>\n",
       "    <tr>\n",
       "      <th>2014</th>\n",
       "      <td>0.458339</td>\n",
       "      <td>2</td>\n",
       "      <td>0.000977</td>\n",
       "      <td>0.000753</td>\n",
       "      <td>0.000753</td>\n",
       "      <td>0.000753</td>\n",
       "      <td>0</td>\n",
       "      <td>0.000000</td>\n",
       "      <td>0.273500</td>\n",
       "      <td>0.063500</td>\n",
       "      <td>0.663500</td>\n",
       "      <td>0.999050</td>\n",
       "      <td>-0.0008</td>\n",
       "      <td>0.000000</td>\n",
       "      <td>0.000000</td>\n",
       "      <td>0.000000</td>\n",
       "      <td>0.000000</td>\n",
       "    </tr>\n",
       "    <tr>\n",
       "      <th>2015</th>\n",
       "      <td>0.548995</td>\n",
       "      <td>162</td>\n",
       "      <td>0.000977</td>\n",
       "      <td>0.000521</td>\n",
       "      <td>0.000448</td>\n",
       "      <td>0.000521</td>\n",
       "      <td>113</td>\n",
       "      <td>0.697531</td>\n",
       "      <td>0.143957</td>\n",
       "      <td>0.105111</td>\n",
       "      <td>0.750938</td>\n",
       "      <td>0.316535</td>\n",
       "      <td>0.0145</td>\n",
       "      <td>0.370370</td>\n",
       "      <td>0.335802</td>\n",
       "      <td>0.425309</td>\n",
       "      <td>0.350000</td>\n",
       "    </tr>\n",
       "    <tr>\n",
       "      <th>2016</th>\n",
       "      <td>0.548165</td>\n",
       "      <td>467</td>\n",
       "      <td>0.000977</td>\n",
       "      <td>0.000545</td>\n",
       "      <td>0.000446</td>\n",
       "      <td>0.000545</td>\n",
       "      <td>227</td>\n",
       "      <td>0.486081</td>\n",
       "      <td>0.153473</td>\n",
       "      <td>0.088542</td>\n",
       "      <td>0.757970</td>\n",
       "      <td>0.529618</td>\n",
       "      <td>0.0633</td>\n",
       "      <td>0.358387</td>\n",
       "      <td>0.340471</td>\n",
       "      <td>0.405353</td>\n",
       "      <td>0.329336</td>\n",
       "    </tr>\n",
       "    <tr>\n",
       "      <th>2017</th>\n",
       "      <td>0.517105</td>\n",
       "      <td>396</td>\n",
       "      <td>0.000977</td>\n",
       "      <td>0.000564</td>\n",
       "      <td>0.000477</td>\n",
       "      <td>0.000564</td>\n",
       "      <td>227</td>\n",
       "      <td>0.573232</td>\n",
       "      <td>0.167131</td>\n",
       "      <td>0.099919</td>\n",
       "      <td>0.732932</td>\n",
       "      <td>0.553714</td>\n",
       "      <td>0.0727</td>\n",
       "      <td>0.407576</td>\n",
       "      <td>0.368434</td>\n",
       "      <td>0.471212</td>\n",
       "      <td>0.383081</td>\n",
       "    </tr>\n",
       "    <tr>\n",
       "      <th>2018</th>\n",
       "      <td>0.532320</td>\n",
       "      <td>446</td>\n",
       "      <td>0.000977</td>\n",
       "      <td>0.000548</td>\n",
       "      <td>0.000462</td>\n",
       "      <td>0.000548</td>\n",
       "      <td>185</td>\n",
       "      <td>0.414798</td>\n",
       "      <td>0.160783</td>\n",
       "      <td>0.104821</td>\n",
       "      <td>0.734428</td>\n",
       "      <td>0.461430</td>\n",
       "      <td>0.0464</td>\n",
       "      <td>0.445291</td>\n",
       "      <td>0.404709</td>\n",
       "      <td>0.512108</td>\n",
       "      <td>0.419058</td>\n",
       "    </tr>\n",
       "    <tr>\n",
       "      <th>2019</th>\n",
       "      <td>0.511063</td>\n",
       "      <td>416</td>\n",
       "      <td>0.000977</td>\n",
       "      <td>0.000568</td>\n",
       "      <td>0.000483</td>\n",
       "      <td>0.000568</td>\n",
       "      <td>177</td>\n",
       "      <td>0.425481</td>\n",
       "      <td>0.165123</td>\n",
       "      <td>0.099154</td>\n",
       "      <td>0.735695</td>\n",
       "      <td>0.526888</td>\n",
       "      <td>0.0587</td>\n",
       "      <td>0.419551</td>\n",
       "      <td>0.353846</td>\n",
       "      <td>0.501923</td>\n",
       "      <td>0.402885</td>\n",
       "    </tr>\n",
       "    <tr>\n",
       "      <th>2020</th>\n",
       "      <td>0.488454</td>\n",
       "      <td>522</td>\n",
       "      <td>0.000977</td>\n",
       "      <td>0.000600</td>\n",
       "      <td>0.000505</td>\n",
       "      <td>0.000600</td>\n",
       "      <td>303</td>\n",
       "      <td>0.580460</td>\n",
       "      <td>0.165655</td>\n",
       "      <td>0.101213</td>\n",
       "      <td>0.733126</td>\n",
       "      <td>0.554514</td>\n",
       "      <td>0.0694</td>\n",
       "      <td>0.417561</td>\n",
       "      <td>0.367433</td>\n",
       "      <td>0.495594</td>\n",
       "      <td>0.389655</td>\n",
       "    </tr>\n",
       "    <tr>\n",
       "      <th>2021</th>\n",
       "      <td>0.468685</td>\n",
       "      <td>289</td>\n",
       "      <td>0.000977</td>\n",
       "      <td>0.000607</td>\n",
       "      <td>0.000525</td>\n",
       "      <td>0.000607</td>\n",
       "      <td>93</td>\n",
       "      <td>0.321799</td>\n",
       "      <td>0.168304</td>\n",
       "      <td>0.085792</td>\n",
       "      <td>0.745941</td>\n",
       "      <td>0.722136</td>\n",
       "      <td>0.0291</td>\n",
       "      <td>0.289735</td>\n",
       "      <td>0.235986</td>\n",
       "      <td>0.360900</td>\n",
       "      <td>0.272318</td>\n",
       "    </tr>\n",
       "    <tr>\n",
       "      <th>2022</th>\n",
       "      <td>0.471081</td>\n",
       "      <td>316</td>\n",
       "      <td>0.000977</td>\n",
       "      <td>0.000605</td>\n",
       "      <td>0.000523</td>\n",
       "      <td>0.000605</td>\n",
       "      <td>88</td>\n",
       "      <td>0.278481</td>\n",
       "      <td>0.175326</td>\n",
       "      <td>0.087187</td>\n",
       "      <td>0.737497</td>\n",
       "      <td>0.715817</td>\n",
       "      <td>0.0304</td>\n",
       "      <td>0.310338</td>\n",
       "      <td>0.252532</td>\n",
       "      <td>0.391139</td>\n",
       "      <td>0.287342</td>\n",
       "    </tr>\n",
       "    <tr>\n",
       "      <th>2023</th>\n",
       "      <td>0.439702</td>\n",
       "      <td>241</td>\n",
       "      <td>0.000977</td>\n",
       "      <td>0.000631</td>\n",
       "      <td>0.000552</td>\n",
       "      <td>0.000631</td>\n",
       "      <td>118</td>\n",
       "      <td>0.489627</td>\n",
       "      <td>0.174577</td>\n",
       "      <td>0.093896</td>\n",
       "      <td>0.731465</td>\n",
       "      <td>0.592022</td>\n",
       "      <td>0.0302</td>\n",
       "      <td>0.355048</td>\n",
       "      <td>0.289212</td>\n",
       "      <td>0.440249</td>\n",
       "      <td>0.335685</td>\n",
       "    </tr>\n",
       "    <tr>\n",
       "      <th>2024</th>\n",
       "      <td>0.424101</td>\n",
       "      <td>315</td>\n",
       "      <td>0.000977</td>\n",
       "      <td>0.000656</td>\n",
       "      <td>0.000569</td>\n",
       "      <td>0.000656</td>\n",
       "      <td>137</td>\n",
       "      <td>0.434921</td>\n",
       "      <td>0.162178</td>\n",
       "      <td>0.116502</td>\n",
       "      <td>0.721298</td>\n",
       "      <td>0.378723</td>\n",
       "      <td>0.0397</td>\n",
       "      <td>0.527513</td>\n",
       "      <td>0.504444</td>\n",
       "      <td>0.586984</td>\n",
       "      <td>0.491111</td>\n",
       "    </tr>\n",
       "  </tbody>\n",
       "</table>\n",
       "</div>"
      ],
      "text/plain": [
       "      pairwise  size     trace    norm-1    norm-2  norm-inf  diversity-words  \\\n",
       "year                                                                            \n",
       "2013  0.303769     2  0.000977  0.000829  0.000828  0.000829                0   \n",
       "2014  0.458339     2  0.000977  0.000753  0.000753  0.000753                0   \n",
       "2015  0.548995   162  0.000977  0.000521  0.000448  0.000521              113   \n",
       "2016  0.548165   467  0.000977  0.000545  0.000446  0.000545              227   \n",
       "2017  0.517105   396  0.000977  0.000564  0.000477  0.000564              227   \n",
       "2018  0.532320   446  0.000977  0.000548  0.000462  0.000548              185   \n",
       "2019  0.511063   416  0.000977  0.000568  0.000483  0.000568              177   \n",
       "2020  0.488454   522  0.000977  0.000600  0.000505  0.000600              303   \n",
       "2021  0.468685   289  0.000977  0.000607  0.000525  0.000607               93   \n",
       "2022  0.471081   316  0.000977  0.000605  0.000523  0.000605               88   \n",
       "2023  0.439702   241  0.000977  0.000631  0.000552  0.000631              118   \n",
       "2024  0.424101   315  0.000977  0.000656  0.000569  0.000656              137   \n",
       "\n",
       "      mentions-norm       pos       neg       neu     vader  lexical  \\\n",
       "year                                                                   \n",
       "2013       0.000000  0.214000  0.076500  0.710000  0.995700   0.0006   \n",
       "2014       0.000000  0.273500  0.063500  0.663500  0.999050  -0.0008   \n",
       "2015       0.697531  0.143957  0.105111  0.750938  0.316535   0.0145   \n",
       "2016       0.486081  0.153473  0.088542  0.757970  0.529618   0.0633   \n",
       "2017       0.573232  0.167131  0.099919  0.732932  0.553714   0.0727   \n",
       "2018       0.414798  0.160783  0.104821  0.734428  0.461430   0.0464   \n",
       "2019       0.425481  0.165123  0.099154  0.735695  0.526888   0.0587   \n",
       "2020       0.580460  0.165655  0.101213  0.733126  0.554514   0.0694   \n",
       "2021       0.321799  0.168304  0.085792  0.745941  0.722136   0.0291   \n",
       "2022       0.278481  0.175326  0.087187  0.737497  0.715817   0.0304   \n",
       "2023       0.489627  0.174577  0.093896  0.731465  0.592022   0.0302   \n",
       "2024       0.434921  0.162178  0.116502  0.721298  0.378723   0.0397   \n",
       "\n",
       "      cynicism  mft_subversion  mft_betrayal  mft_injustice  \n",
       "year                                                         \n",
       "2013  0.233333        0.100000      0.350000       0.250000  \n",
       "2014  0.000000        0.000000      0.000000       0.000000  \n",
       "2015  0.370370        0.335802      0.425309       0.350000  \n",
       "2016  0.358387        0.340471      0.405353       0.329336  \n",
       "2017  0.407576        0.368434      0.471212       0.383081  \n",
       "2018  0.445291        0.404709      0.512108       0.419058  \n",
       "2019  0.419551        0.353846      0.501923       0.402885  \n",
       "2020  0.417561        0.367433      0.495594       0.389655  \n",
       "2021  0.289735        0.235986      0.360900       0.272318  \n",
       "2022  0.310338        0.252532      0.391139       0.287342  \n",
       "2023  0.355048        0.289212      0.440249       0.335685  \n",
       "2024  0.527513        0.504444      0.586984       0.491111  "
      ]
     },
     "execution_count": 45,
     "metadata": {},
     "output_type": "execute_result"
    }
   ],
   "source": [
    "results_df = pd.DataFrame.from_records(results)\n",
    "results_df.set_index('year')"
   ]
  },
  {
   "cell_type": "markdown",
   "metadata": {},
   "source": [
    "### MFT Analysis with LLM\n"
   ]
  },
  {
   "cell_type": "code",
   "execution_count": 46,
   "metadata": {},
   "outputs": [],
   "source": [
    "import matplotlib.pyplot as plt\n",
    "from scipy.stats import linregress, t\n",
    "\n",
    "def calculate_regression_stats(x, y):\n",
    "    \"\"\"\n",
    "    Calculate comprehensive regression statistics including confidence intervals.\n",
    "    \n",
    "    Args:\n",
    "        x (array-like): Independent variable values\n",
    "        y (array-like): Dependent variable values\n",
    "        \n",
    "    Returns:\n",
    "        dict: Dictionary containing regression statistics:\n",
    "            - slope: Regression slope\n",
    "            - intercept: Regression intercept \n",
    "            - ci_lower: Lower bound of 95% CI\n",
    "            - ci_upper: Upper bound of 95% CI\n",
    "            - r_value: R-value (correlation coefficient)\n",
    "            - p_value: P-value for significance\n",
    "            - std_err: Standard error of the slope\n",
    "    \"\"\"\n",
    "    # Calculate basic regression statistics\n",
    "    slope, intercept, r_value, p_value, std_err = linregress(x, y)\n",
    "    \n",
    "    # Calculate 95% confidence interval\n",
    "    confidence_level = 0.95\n",
    "    degrees_of_freedom = len(x) - 2\n",
    "    t_value = t.ppf((1 + confidence_level) / 2, degrees_of_freedom)\n",
    "    margin_of_error = t_value * std_err\n",
    "    ci_lower = slope - margin_of_error\n",
    "    ci_upper = slope + margin_of_error\n",
    "    \n",
    "    return {\n",
    "        'slope': slope,\n",
    "        'intercept': intercept,\n",
    "        'ci_lower': ci_lower,\n",
    "        'ci_upper': ci_upper,\n",
    "        'r_value': r_value,\n",
    "        'p_value': p_value,\n",
    "        'std_err': std_err\n",
    "    }\n",
    "\n",
    "def print_regression_stats(x, y, title):\n",
    "    stats = calculate_regression_stats(x, y)\n",
    "    print(f\"\\n{title}:\")\n",
    "    print(f\"Slope: {stats['slope']:.5f}\")\n",
    "    print(f\"95% CI: ({stats['ci_lower']:.5f}, {stats['ci_upper']:.5f})\")\n",
    "    print(f\"R-value: {stats['r_value']:.5f}\")\n",
    "    print(f\"P-value: {stats['p_value']:.5f}\")\n",
    "    print(f\"Standard Error: {stats['std_err']:.5f}\")"
   ]
  },
  {
   "cell_type": "code",
   "execution_count": 48,
   "metadata": {},
   "outputs": [
    {
     "name": "stdout",
     "output_type": "stream",
     "text": [
      "\n",
      "Cynicism regression statistics::\n",
      "Slope: 0.01983\n",
      "95% CI: (-0.00210, 0.04176)\n",
      "R-value: 0.53737\n",
      "P-value: 0.07158\n",
      "Standard Error: 0.00984\n",
      "\n",
      "Subversion regression statistics::\n",
      "Slope: 0.02060\n",
      "95% CI: (-0.00171, 0.04292)\n",
      "R-value: 0.54537\n",
      "P-value: 0.06666\n",
      "Standard Error: 0.01001\n",
      "\n",
      "Betrayal regression statistics::\n",
      "Slope: 0.02158\n",
      "95% CI: (-0.00274, 0.04589)\n",
      "R-value: 0.53011\n",
      "P-value: 0.07625\n",
      "Standard Error: 0.01091\n",
      "\n",
      "Injustice regression statistics::\n",
      "Slope: 0.01732\n",
      "95% CI: (-0.00338, 0.03801)\n",
      "R-value: 0.50793\n",
      "P-value: 0.09181\n",
      "Standard Error: 0.00929\n"
     ]
    },
    {
     "data": {
      "image/png": "[encoded data removed]",
      "text/plain": [
       "<Figure size 1000x600 with 1 Axes>"
      ]
     },
     "metadata": {},
     "output_type": "display_data"
    }
   ],
   "source": [
    "# Define x-axis values as integers\n",
    "x = results_df['year'].astype(int)\n",
    "\n",
    "# Rest of regression calculations remain the same\n",
    "y_cynicism = results_df['cynicism']\n",
    "slope_c, intercept_c, r_value, p_value, std_err = linregress(x, y_cynicism)\n",
    "print_regression_stats(x, y_cynicism, \"Cynicism regression statistics:\")\n",
    "\n",
    "# Compute regressions for MFT components\n",
    "y_subversion = results_df['mft_subversion']\n",
    "slope_auth, intercept_auth, _, _, _ = linregress(x, y_subversion)\n",
    "print_regression_stats(x, y_subversion, \"Subversion regression statistics:\")\n",
    "\n",
    "y_betrayal = results_df['mft_betrayal']\n",
    "slope_betrayal, intercept_betrayal, _, _, _ = linregress(x, y_betrayal)\n",
    "print_regression_stats(x, y_betrayal, \"Betrayal regression statistics:\")\n",
    "\n",
    "y_injustice = results_df['mft_injustice']\n",
    "slope_fair, intercept_fair, _, _, _ = linregress(x, y_injustice)\n",
    "print_regression_stats(x, y_injustice, \"Injustice regression statistics:\")\n",
    "# Create plot\n",
    "plt.figure(figsize=(10, 6))\n",
    "\n",
    "# Scatter plots\n",
    "plt.scatter(x, y_cynicism, color='blue', label='Cynicism Data')\n",
    "plt.scatter(x, y_subversion, color='green', s=50, alpha=0.6, label='Subversion')\n",
    "plt.scatter(x, y_betrayal, color='orange', s=50, alpha=0.6, label='Betrayal')\n",
    "plt.scatter(x, y_injustice, color='purple', s=50, alpha=0.6, label='Injustice')\n",
    "\n",
    "# Trend lines\n",
    "plt.plot(x, intercept_c + slope_c * x, color='blue', linestyle='-', linewidth=2.5, label='Cynicism Trend')\n",
    "plt.plot(x, intercept_auth + slope_auth * x, color='green', linestyle=':', linewidth=1.5, label='Subversion Trend')\n",
    "plt.plot(x, intercept_betrayal + slope_betrayal * x, color='orange', linestyle=':', linewidth=1.5, label='Betrayal Trend')\n",
    "plt.plot(x, intercept_fair + slope_fair * x, color='purple', linestyle=':', linewidth=1.5, label='Injustice Trend')\n",
    "\n",
    "# Set integer ticks for x-axis\n",
    "plt.xticks(x)\n",
    "\n",
    "# Calculate y-axis limits\n",
    "all_y_values = np.concatenate([y_cynicism, y_subversion, y_betrayal, y_injustice])\n",
    "y_min = np.min(all_y_values)\n",
    "y_max = np.max(all_y_values)\n",
    "\n",
    "plt.title(\"Cornell Opinions: Cynicism & MFT Trends\")\n",
    "plt.xlabel(\"Year\")\n",
    "plt.ylabel(\"Score\")\n",
    "plt.legend(loc='upper left')\n",
    "plt.ylim(y_min * 0.95, y_max * 1.1)\n",
    "plt.show()"
   ]
  },
  {
   "cell_type": "markdown",
   "metadata": {},
   "source": [
    "### Regression Goodness of Fit: Explicit Diversity Words\n"
   ]
  },
  {
   "cell_type": "code",
   "execution_count": 49,
   "metadata": {},
   "outputs": [
    {
     "data": {
      "image/png": "[encoded data removed]",
      "text/plain": [
       "<Figure size 640x480 with 1 Axes>"
      ]
     },
     "metadata": {},
     "output_type": "display_data"
    }
   ],
   "source": [
    "import matplotlib.pyplot as plt\n",
    "from scipy.stats import linregress\n",
    "\n",
    "x = results_df['year']\n",
    "y = results_df['mentions-norm']\n",
    "\n",
    "slope, intercept, r_value, p_value, std_err = linregress(x, y)\n",
    "\n",
    "results_df.plot(x=\"year\", y=\"mentions-norm\", kind=\"scatter\")\n",
    "\n",
    "plt.plot(x, intercept + slope*x, 'b:', label='fitted regression')\n",
    "\n",
    "plt.title(\"Cornell Opinions: Explicit Diversity mentions-norm per Year\")\n",
    "plt.legend(loc='lower right')\n",
    "plt.ylim(min(y)*0.95, max(y)*1.05)\n",
    "plt.show()"
   ]
  },
  {
   "cell_type": "markdown",
   "metadata": {},
   "source": [
    "### Regression Goodness of Fit: Pairwise Dispersion\n"
   ]
  },
  {
   "cell_type": "code",
   "execution_count": 50,
   "metadata": {},
   "outputs": [
    {
     "data": {
      "image/png": "[encoded data removed]",
      "text/plain": [
       "<Figure size 640x480 with 1 Axes>"
      ]
     },
     "metadata": {},
     "output_type": "display_data"
    }
   ],
   "source": [
    "import matplotlib.pyplot as plt\n",
    "from scipy.stats import linregress\n",
    "\n",
    "x = results_df['year']\n",
    "y = results_df['pairwise']\n",
    "\n",
    "slope, intercept, r_value, p_value, std_err = linregress(x, y)\n",
    "\n",
    "results_df.plot(x=\"year\", y=\"pairwise\", kind=\"scatter\")\n",
    "\n",
    "plt.plot(x, intercept + slope*x, 'b:', label='fitted regression')\n",
    "\n",
    "plt.title(\"Cornell Opinions by year: Pairwise Dispersion\")\n",
    "plt.legend(loc='upper right')\n",
    "plt.ylim(min(y)*0.95, max(y)*1.05)\n",
    "plt.show()"
   ]
  },
  {
   "cell_type": "markdown",
   "metadata": {},
   "source": [
    "### Regress Goodness of Fit: VADER Sentiment Analysis\n"
   ]
  },
  {
   "cell_type": "code",
   "execution_count": 51,
   "metadata": {},
   "outputs": [
    {
     "data": {
      "image/png": "[encoded data removed]",
      "text/plain": [
       "<Figure size 640x480 with 1 Axes>"
      ]
     },
     "metadata": {},
     "output_type": "display_data"
    }
   ],
   "source": [
    "x = results_df['year']\n",
    "y = results_df['vader']\n",
    "\n",
    "slope, intercept, r_value, p_value, std_err = linregress(x, y)\n",
    "\n",
    "results_df.plot(x=\"year\", y=\"vader\", kind=\"scatter\")\n",
    "\n",
    "plt.plot(x, intercept + slope*x, 'b:', label='fitted regression')\n",
    "\n",
    "plt.title(\"Cornell Opinions by year: VADER Sentiment Analysis\")\n",
    "plt.legend(loc='upper right')\n",
    "plt.ylim(min(y)*0.95, max(y)*1.05)\n",
    "plt.show()"
   ]
  },
  {
   "cell_type": "markdown",
   "metadata": {},
   "source": [
    "### Regress Goodness of Fit: LIWC Lexical Analysis\n"
   ]
  },
  {
   "cell_type": "code",
   "execution_count": 52,
   "metadata": {},
   "outputs": [
    {
     "data": {
      "image/png": "[encoded data removed]",
      "text/plain": [
       "<Figure size 640x480 with 1 Axes>"
      ]
     },
     "metadata": {},
     "output_type": "display_data"
    }
   ],
   "source": [
    "x = results_df['year']\n",
    "y = results_df['lexical']\n",
    "\n",
    "slope, intercept, r_value, p_value, std_err = linregress(x, y)\n",
    "\n",
    "results_df.plot(x=\"year\", y=\"lexical\", kind=\"scatter\")\n",
    "\n",
    "plt.plot(x, intercept + slope*x, 'b:', label='fitted regression')\n",
    "\n",
    "plt.title(\"Cornell Opinions by year: LIWC Lexical Analysis\")\n",
    "plt.legend(loc='upper right')\n",
    "plt.ylim(min(y)*0.95, max(y)*1.05)\n",
    "plt.show()"
   ]
  },
  {
   "cell_type": "markdown",
   "metadata": {},
   "source": [
    "## Combined Diversity and Sentiment Analyses\n"
   ]
  },
  {
   "cell_type": "code",
   "execution_count": 53,
   "metadata": {},
   "outputs": [
    {
     "name": "stdout",
     "output_type": "stream",
     "text": [
      "\n",
      "mentions-norm metrics:\n",
      "  slope: 0.01912\n",
      "  95% CI: (-0.02069, 0.05893)\n",
      "  std error: 0.01787\n",
      "  p-value: 0.30968\n",
      "  r-value: 0.32057\n",
      "\n",
      "pairwise metrics:\n",
      "  slope: 0.00037\n",
      "  95% CI: (-0.01291, 0.01365)\n",
      "  std error: 0.00596\n",
      "  p-value: 0.95169\n",
      "  r-value: 0.01964\n",
      "\n",
      "vader metrics:\n",
      "  slope: -0.02316\n",
      "  95% CI: (-0.06174, 0.01542)\n",
      "  std error: 0.01732\n",
      "  p-value: 0.21062\n",
      "  r-value: -0.38960\n",
      "\n",
      "lexical metrics:\n",
      "  slope: 0.00228\n",
      "  95% CI: (-0.00238, 0.00693)\n",
      "  std error: 0.00209\n",
      "  p-value: 0.30098\n",
      "  r-value: 0.32606\n"
     ]
    },
    {
     "data": {
      "image/png": "[encoded data removed]",
      "text/plain": [
       "<Figure size 1600x400 with 4 Axes>"
      ]
     },
     "metadata": {},
     "output_type": "display_data"
    }
   ],
   "source": [
    "from scipy.stats import t\n",
    "\n",
    "# Select the columns to plot\n",
    "columns = [\"mentions-norm\", \"pairwise\", \"vader\", \"lexical\"]\n",
    "\n",
    "# Create a figure with subplots\n",
    "fig, axs = plt.subplots(nrows=1, ncols=len(columns), sharex=True, figsize=(16,4))\n",
    "\n",
    "# Loop through the columns and plot each one\n",
    "for ax, column in zip(axs, columns):\n",
    "    # Select the data for the current column\n",
    "    x = range(len(results_df.index))\n",
    "    y = results_df[column]\n",
    "     \n",
    "    # Calculate the linear regression\n",
    "    slope, intercept, r_value, p_value, std_err = linregress(x, y)\n",
    "    \n",
    "    # Calculate 95% confidence interval\n",
    "    confidence_level = 0.95\n",
    "    degrees_of_freedom = len(x) - 2\n",
    "    t_value = t.ppf((1 + confidence_level) / 2, degrees_of_freedom)\n",
    "    margin_of_error = t_value * std_err\n",
    "    ci_lower = slope - margin_of_error\n",
    "    ci_upper = slope + margin_of_error\n",
    "    \n",
    "    # Print comprehensive statistics\n",
    "    print(f\"\\n{column} metrics:\")\n",
    "    print(f\"  slope: {slope:.5f}\")\n",
    "    print(f\"  95% CI: ({ci_lower:.5f}, {ci_upper:.5f})\")\n",
    "    print(f\"  std error: {std_err:.5f}\")\n",
    "    print(f\"  p-value: {p_value:.5f}\")\n",
    "    print(f\"  r-value: {r_value:.5f}\")\n",
    "\n",
    "    # Plot the data and the linear regression line\n",
    "    results_df[column].plot(ax=ax, style=\".\", x=x, y=y, label=column)\n",
    "    ax.plot(x, intercept + slope*x, 'b:', label='regression')\n",
    "    ax.set_ylim(min(y)*0.9, max(y)*1.1)\n",
    "    # ax.set_ylim(0.0, 1.0)\n",
    "    \n",
    "    # Add a legend\n",
    "    ax.legend(loc='lower center')\n",
    "\n",
    "    # Add x-label for the years\n",
    "    ax.set_xticks(results_df.index)\n",
    "    ax.set_xticklabels(results_df.year)\n",
    "    ax.tick_params(axis='x', rotation=45)\n",
    "    \n",
    "plt.xlabel(\"Year\")\n",
    "plt.suptitle(\"Trending of Cornell Opinions: Diversity, Sentiment, and Lexical Analyses\")\n",
    "plt.tight_layout()\n",
    "plt.show()"
   ]
  },
  {
   "cell_type": "code",
   "execution_count": 54,
   "metadata": {},
   "outputs": [
    {
     "name": "stdout",
     "output_type": "stream",
     "text": [
      "Slope: 0.00037\n",
      "95% Confidence Interval: (-0.01291, 0.01365)\n",
      "Standard Error: 0.00596\n",
      "P-value: 0.95169\n"
     ]
    }
   ],
   "source": [
    "from scipy.stats import t, linregress\n",
    "\n",
    "x = results_df['year']\n",
    "y = results_df['pairwise']\n",
    "\n",
    "slope, intercept, r_value, p_value, std_err = linregress(x, y)\n",
    "\n",
    "confidence_level = 0.95\n",
    "degrees_of_freedom = len(x) - 2\n",
    "t_value = t.ppf((1 + confidence_level) / 2, degrees_of_freedom)\n",
    "\n",
    "margin_of_error = t_value * std_err\n",
    "\n",
    "ci_lower = slope - margin_of_error\n",
    "ci_upper = slope + margin_of_error\n",
    "\n",
    "print(f\"Slope: {slope:.5f}\")\n",
    "print(f\"95% Confidence Interval: ({ci_lower:.5f}, {ci_upper:.5f})\")\n",
    "print(f\"Standard Error: {std_err:.5f}\")\n",
    "print(f\"P-value: {p_value:.5f}\")"
   ]
  },
  {
   "cell_type": "markdown",
   "metadata": {},
   "source": [
    "## 5. VADER Sentiment Analysis\n",
    "\n",
    "First, you need to install the VADER sentiment analysis tool. If you're using Python, you can install it with the nltk (Natural Language Toolkit) library.\n"
   ]
  },
  {
   "cell_type": "code",
   "execution_count": 55,
   "metadata": {},
   "outputs": [
    {
     "name": "stderr",
     "output_type": "stream",
     "text": [
      "[nltk_data] Downloading package vader_lexicon to\n",
      "[nltk_data]     C:\\Users\\theod\\AppData\\Roaming\\nltk_data...\n",
      "[nltk_data]   Package vader_lexicon is already up-to-date!\n"
     ]
    }
   ],
   "source": [
    "import nltk\n",
    "nltk.download('vader_lexicon')\n",
    "from nltk.sentiment.vader import SentimentIntensityAnalyzer\n",
    "\n",
    "# Initialize the sentiment analyzer\n",
    "sia = SentimentIntensityAnalyzer()"
   ]
  },
  {
   "cell_type": "markdown",
   "metadata": {},
   "source": [
    "**Analyze the Sentiment of Text:**\n",
    "\n",
    "Once you have the SentimentIntensityAnalyzer instance, you can use the .polarity_scores() method to analyze the sentiment of a given text. This method returns a dictionary with the following scores:\n",
    "\n",
    "- positive: A score for the positive sentiment.\n",
    "- neutral: A score for the neutral sentiment.\n",
    "- negative: A score for the negative sentiment.\n",
    "- compound: The overall sentiment score, which is a normalized value between -1 (most negative) and +1 (most positive).\n"
   ]
  },
  {
   "cell_type": "code",
   "execution_count": 57,
   "metadata": {},
   "outputs": [
    {
     "name": "stdout",
     "output_type": "stream",
     "text": [
      "Skipping year 2010 - no texts to analyze\n",
      "Skipping year 2011 - no texts to analyze\n",
      "Skipping year 2012 - no texts to analyze\n"
     ]
    }
   ],
   "source": [
    "results = []\n",
    "for year in range(START_YEAR, FINAL_YEAR+1):\n",
    "    year_df = df[df.year==year]\n",
    "    \n",
    "    clean_df, num_diversity_words = prepText(year_df.body)\n",
    "    # wv = get_batch_embeddings(clean_df)\n",
    "\n",
    "    # Calculate sentiment scores for each text and average them\n",
    "    pos_scores = []\n",
    "    neg_scores = []\n",
    "    neu_scores = []\n",
    "    compound_scores = []\n",
    "    \n",
    "    for text in clean_df:\n",
    "        sentiment_scores = sia.polarity_scores(text)\n",
    "        pos_scores.append(sentiment_scores['pos'])\n",
    "        neg_scores.append(sentiment_scores['neg'])\n",
    "        neu_scores.append(sentiment_scores['neu'])\n",
    "        compound_scores.append(sentiment_scores['compound'])\n",
    "\n",
    "    if len(pos_scores) == 0:\n",
    "        print(f\"Skipping year {year} - no texts to analyze\")\n",
    "        continue\n",
    "    \n",
    "    result = {'year': year,\n",
    "              'pos': sum(pos_scores) / len(pos_scores),\n",
    "              'neg': sum(neg_scores) / len(neg_scores),\n",
    "              'neu': sum(neu_scores) / len(neu_scores),\n",
    "              'compound': sum(compound_scores) / len(compound_scores)}\n",
    "    \n",
    "    results.append(result)"
   ]
  },
  {
   "cell_type": "code",
   "execution_count": 58,
   "metadata": {},
   "outputs": [
    {
     "name": "stdout",
     "output_type": "stream",
     "text": [
      "year: 2013, pos: 0.21, neg: 0.08, neu: 0.71, compound: 1.00\n",
      "year: 2014, pos: 0.27, neg: 0.06, neu: 0.66, compound: 1.00\n",
      "year: 2015, pos: 0.14, neg: 0.11, neu: 0.75, compound: 0.32\n",
      "year: 2016, pos: 0.15, neg: 0.09, neu: 0.76, compound: 0.53\n",
      "year: 2017, pos: 0.17, neg: 0.10, neu: 0.73, compound: 0.55\n",
      "year: 2018, pos: 0.16, neg: 0.10, neu: 0.73, compound: 0.46\n",
      "year: 2019, pos: 0.17, neg: 0.10, neu: 0.74, compound: 0.53\n",
      "year: 2020, pos: 0.17, neg: 0.10, neu: 0.73, compound: 0.55\n",
      "year: 2021, pos: 0.17, neg: 0.09, neu: 0.75, compound: 0.72\n",
      "year: 2022, pos: 0.18, neg: 0.09, neu: 0.74, compound: 0.72\n",
      "year: 2023, pos: 0.17, neg: 0.09, neu: 0.73, compound: 0.59\n",
      "year: 2024, pos: 0.16, neg: 0.12, neu: 0.72, compound: 0.38\n"
     ]
    }
   ],
   "source": [
    "for result in results:\n",
    "    print(f\"year: {result['year']}, pos: {result['pos']:.2f}, neg: {result['neg']:.2f}, neu: {result['neu']:.2f}, compound: {result['compound']:.2f}\")"
   ]
  },
  {
   "cell_type": "code",
   "execution_count": 59,
   "metadata": {},
   "outputs": [
    {
     "name": "stdout",
     "output_type": "stream",
     "text": [
      "Regression results:\n",
      "Slope: -0.0232 (change in compound score per year)\n",
      "R-squared: 0.1518\n",
      "P-value: 0.2106\n"
     ]
    },
    {
     "data": {
      "image/png": "[encoded data removed]",
      "text/plain": [
       "<Figure size 1000x600 with 1 Axes>"
      ]
     },
     "metadata": {},
     "output_type": "display_data"
    }
   ],
   "source": [
    "import numpy as np\n",
    "from scipy import stats\n",
    "\n",
    "# First convert results list to a DataFrame for easier manipulation\n",
    "results_df = pd.DataFrame(results)\n",
    "\n",
    "# Create array of years since 2010\n",
    "base_year = 2010\n",
    "years_since_2010 = results_df['year'] - base_year\n",
    "\n",
    "# Get compound scores\n",
    "compound_scores = results_df['compound']\n",
    "\n",
    "# Calculate regression\n",
    "slope, intercept, r_value, p_value, std_err = stats.linregress(years_since_2010, compound_scores)\n",
    "\n",
    "print(f\"Regression results:\")\n",
    "print(f\"Slope: {slope:.4f} (change in compound score per year)\")\n",
    "print(f\"R-squared: {r_value**2:.4f}\")\n",
    "print(f\"P-value: {p_value:.4f}\")\n",
    "\n",
    "# Optional: Plot the regression line\n",
    "import matplotlib.pyplot as plt\n",
    "\n",
    "plt.figure(figsize=(10, 6))\n",
    "plt.scatter(years_since_2010, compound_scores, alpha=0.5)\n",
    "plt.plot(years_since_2010, intercept + slope * years_since_2010, 'r', \n",
    "         label=f'Slope = {slope:.4f}')\n",
    "plt.xlabel('Years since 2010')\n",
    "plt.ylabel('Compound Sentiment Score')\n",
    "plt.title('Sentiment Score Trend Over Time')\n",
    "plt.legend()\n",
    "plt.grid(True, alpha=0.3)\n",
    "plt.show()"
   ]
  },
  {
   "cell_type": "code",
   "execution_count": null,
   "metadata": {},
   "outputs": [],
   "source": []
  }
 ],
 "metadata": {
  "kernelspec": {
   "display_name": ".venv",
   "language": "python",
   "name": "python3"
  },
  "language_info": {
   "codemirror_mode": {
    "name": "ipython",
    "version": 3
   },
   "file_extension": ".py",
   "mimetype": "text/x-python",
   "name": "python",
   "nbconvert_exporter": "python",
   "pygments_lexer": "ipython3",
   "version": "3.11.9"
  }
 },
 "nbformat": 4,
 "nbformat_minor": 2
}
