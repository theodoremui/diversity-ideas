{
 "cells": [
  {
   "cell_type": "markdown",
   "metadata": {},
   "source": [
    "# Diversity of Ideas: UC Davis\n"
   ]
  },
  {
   "cell_type": "markdown",
   "metadata": {},
   "source": [
    "## Setup\n"
   ]
  },
  {
   "cell_type": "code",
   "execution_count": 1,
   "metadata": {},
   "outputs": [
    {
     "data": {
      "text/plain": [
       "True"
      ]
     },
     "execution_count": 1,
     "metadata": {},
     "output_type": "execute_result"
    }
   ],
   "source": [
    "from dotenv import load_dotenv, find_dotenv\n",
    "load_dotenv(find_dotenv())"
   ]
  },
  {
   "cell_type": "code",
   "execution_count": 2,
   "metadata": {},
   "outputs": [],
   "source": [
    "import pandas as pd\n",
    "from util.ouraws import (\n",
    "    getFromFile\n",
    ")"
   ]
  },
  {
   "cell_type": "code",
   "execution_count": 3,
   "metadata": {},
   "outputs": [
    {
     "data": {
      "text/plain": [
       "'c:\\\\Users\\\\theod\\\\OneDrive\\\\dev\\\\diversity-ideas\\\\notebooks\\\\2024'"
      ]
     },
     "execution_count": 3,
     "metadata": {},
     "output_type": "execute_result"
    }
   ],
   "source": [
    "%pwd"
   ]
  },
  {
   "cell_type": "code",
   "execution_count": 4,
   "metadata": {},
   "outputs": [
    {
     "data": {
      "text/plain": [
       "(5324, 6)"
      ]
     },
     "execution_count": 4,
     "metadata": {},
     "output_type": "execute_result"
    }
   ],
   "source": [
    "df = getFromFile(\"../../data/ucdavis-opinions.parquet\", False)\n",
    "df.shape\n"
   ]
  },
  {
   "cell_type": "code",
   "execution_count": 5,
   "metadata": {},
   "outputs": [
    {
     "data": {
      "text/html": [
       "<div>\n",
       "<style scoped>\n",
       "    .dataframe tbody tr th:only-of-type {\n",
       "        vertical-align: middle;\n",
       "    }\n",
       "\n",
       "    .dataframe tbody tr th {\n",
       "        vertical-align: top;\n",
       "    }\n",
       "\n",
       "    .dataframe thead th {\n",
       "        text-align: right;\n",
       "    }\n",
       "</style>\n",
       "<table border=\"1\" class=\"dataframe\">\n",
       "  <thead>\n",
       "    <tr style=\"text-align: right;\">\n",
       "      <th></th>\n",
       "      <th>title</th>\n",
       "      <th>url</th>\n",
       "      <th>body</th>\n",
       "      <th>year</th>\n",
       "      <th>month</th>\n",
       "      <th>day</th>\n",
       "    </tr>\n",
       "  </thead>\n",
       "  <tbody>\n",
       "    <tr>\n",
       "      <th>0</th>\n",
       "      <td>Davis Joint Unified School District joins coho...</td>\n",
       "      <td>https://theaggie.org/2024/12/10/davis-joint-un...</td>\n",
       "      <td>Davis Joint Unified School District joins coho...</td>\n",
       "      <td>2024</td>\n",
       "      <td>12</td>\n",
       "      <td>1</td>\n",
       "    </tr>\n",
       "    <tr>\n",
       "      <th>1</th>\n",
       "      <td>What is the Pour Out Pepsi project?</td>\n",
       "      <td>https://theaggie.org/2024/12/09/what-is-the-po...</td>\n",
       "      <td>What is the Pour Out Pepsi project?\\nThe proje...</td>\n",
       "      <td>2024</td>\n",
       "      <td>12</td>\n",
       "      <td>1</td>\n",
       "    </tr>\n",
       "    <tr>\n",
       "      <th>2</th>\n",
       "      <td>City of Davis unveils new artwork in memory of...</td>\n",
       "      <td>https://theaggie.org/2024/12/10/city-of-davis-...</td>\n",
       "      <td>City of Davis unveils new artwork in memory of...</td>\n",
       "      <td>2024</td>\n",
       "      <td>12</td>\n",
       "      <td>1</td>\n",
       "    </tr>\n",
       "    <tr>\n",
       "      <th>3</th>\n",
       "      <td>The Mondavi Center holds performance of Astria...</td>\n",
       "      <td>https://theaggie.org/2024/11/22/the-mondavi-ce...</td>\n",
       "      <td>The Mondavi Center holds performance of Astria...</td>\n",
       "      <td>2024</td>\n",
       "      <td>11</td>\n",
       "      <td>1</td>\n",
       "    </tr>\n",
       "    <tr>\n",
       "      <th>4</th>\n",
       "      <td>ASUCD Coffee House introduces halal menu optio...</td>\n",
       "      <td>https://theaggie.org/2024/12/06/asucd-coffee-h...</td>\n",
       "      <td>ASUCD Coffee House introduces halal menu optio...</td>\n",
       "      <td>2024</td>\n",
       "      <td>12</td>\n",
       "      <td>1</td>\n",
       "    </tr>\n",
       "    <tr>\n",
       "      <th>5</th>\n",
       "      <td>Davis Media Access produces local election cov...</td>\n",
       "      <td>https://theaggie.org/2024/12/10/davis-media-ac...</td>\n",
       "      <td>Davis Media Access produces local election cov...</td>\n",
       "      <td>2024</td>\n",
       "      <td>12</td>\n",
       "      <td>1</td>\n",
       "    </tr>\n",
       "    <tr>\n",
       "      <th>6</th>\n",
       "      <td>Sugar, spice and holiday spirit</td>\n",
       "      <td>https://theaggie.org/2024/12/11/sugar-spice-an...</td>\n",
       "      <td>Sugar, spice and holiday spirit\\nA gourmet gif...</td>\n",
       "      <td>2024</td>\n",
       "      <td>12</td>\n",
       "      <td>1</td>\n",
       "    </tr>\n",
       "    <tr>\n",
       "      <th>7</th>\n",
       "      <td>Why I love the musical âHadestownâ</td>\n",
       "      <td>https://theaggie.org/2024/12/10/why-i-love-the...</td>\n",
       "      <td>Why I love the musical âHadestownâ\\nThe be...</td>\n",
       "      <td>2024</td>\n",
       "      <td>12</td>\n",
       "      <td>1</td>\n",
       "    </tr>\n",
       "    <tr>\n",
       "      <th>8</th>\n",
       "      <td>ASUCD HAUS hosts Housing Fair on Nov. 13</td>\n",
       "      <td>https://theaggie.org/2024/12/05/asucd-haus-hos...</td>\n",
       "      <td>ASUCD HAUS hosts Housing Fair on Nov. 13\\nThe ...</td>\n",
       "      <td>2024</td>\n",
       "      <td>12</td>\n",
       "      <td>1</td>\n",
       "    </tr>\n",
       "    <tr>\n",
       "      <th>9</th>\n",
       "      <td>Downtown Davis hosts 2nd Friday ArtAbout</td>\n",
       "      <td>https://theaggie.org/2024/12/10/downtown-davis...</td>\n",
       "      <td>Downtown Davis hosts 2nd Friday ArtAbout\\nPenc...</td>\n",
       "      <td>2024</td>\n",
       "      <td>12</td>\n",
       "      <td>1</td>\n",
       "    </tr>\n",
       "    <tr>\n",
       "      <th>10</th>\n",
       "      <td>Petition to remove turkey from the Thanksgivin...</td>\n",
       "      <td>https://theaggie.org/2024/12/10/petition-to-re...</td>\n",
       "      <td>Petition to remove turkey from the Thanksgivin...</td>\n",
       "      <td>2024</td>\n",
       "      <td>12</td>\n",
       "      <td>1</td>\n",
       "    </tr>\n",
       "    <tr>\n",
       "      <th>11</th>\n",
       "      <td>Yolo Transportation District expands transit o...</td>\n",
       "      <td>https://theaggie.org/2024/12/11/yolo-transport...</td>\n",
       "      <td>Yolo Transportation District expands transit o...</td>\n",
       "      <td>2024</td>\n",
       "      <td>12</td>\n",
       "      <td>1</td>\n",
       "    </tr>\n",
       "    <tr>\n",
       "      <th>12</th>\n",
       "      <td>The sun setting early is ruining my life</td>\n",
       "      <td>https://theaggie.org/2024/12/09/the-sun-settin...</td>\n",
       "      <td>The sun setting early is ruining my life\\nThe ...</td>\n",
       "      <td>2024</td>\n",
       "      <td>12</td>\n",
       "      <td>1</td>\n",
       "    </tr>\n",
       "    <tr>\n",
       "      <th>13</th>\n",
       "      <td>âMy gut was telling me somethingâs wrongâ...</td>\n",
       "      <td>https://theaggie.org/2024/12/10/my-gut-was-tel...</td>\n",
       "      <td>âMy gut was telling me somethingâs wrongâ...</td>\n",
       "      <td>2024</td>\n",
       "      <td>12</td>\n",
       "      <td>1</td>\n",
       "    </tr>\n",
       "    <tr>\n",
       "      <th>14</th>\n",
       "      <td>How âThe Eras Tourâ changed the concert game</td>\n",
       "      <td>https://theaggie.org/2024/12/10/how-the-eras-t...</td>\n",
       "      <td>How âThe Eras Tourâ changed the concert ga...</td>\n",
       "      <td>2024</td>\n",
       "      <td>12</td>\n",
       "      <td>1</td>\n",
       "    </tr>\n",
       "    <tr>\n",
       "      <th>15</th>\n",
       "      <td>Delta of Venus provides a space for art exhibi...</td>\n",
       "      <td>https://theaggie.org/2024/12/10/delta-of-venus...</td>\n",
       "      <td>Delta of Venus provides a space for art exhibi...</td>\n",
       "      <td>2024</td>\n",
       "      <td>12</td>\n",
       "      <td>1</td>\n",
       "    </tr>\n",
       "    <tr>\n",
       "      <th>16</th>\n",
       "      <td>UC Davisâ Outdoor Crew helps students explor...</td>\n",
       "      <td>https://theaggie.org/2024/12/10/uc-davis-outdo...</td>\n",
       "      <td>UC Davisâ Outdoor Crew helps students explor...</td>\n",
       "      <td>2024</td>\n",
       "      <td>12</td>\n",
       "      <td>1</td>\n",
       "    </tr>\n",
       "    <tr>\n",
       "      <th>17</th>\n",
       "      <td>Review: Heretic</td>\n",
       "      <td>https://theaggie.org/2024/12/10/review-heretic/</td>\n",
       "      <td>Review: Heretic\\nÂ A24âs new thriller blends...</td>\n",
       "      <td>2024</td>\n",
       "      <td>12</td>\n",
       "      <td>1</td>\n",
       "    </tr>\n",
       "    <tr>\n",
       "      <th>18</th>\n",
       "      <td>Davis-based jewelry brand has a furry friend b...</td>\n",
       "      <td>https://theaggie.org/2024/12/10/davis-based-je...</td>\n",
       "      <td>Davis-based jewelry brand has a furry friend b...</td>\n",
       "      <td>2024</td>\n",
       "      <td>12</td>\n",
       "      <td>1</td>\n",
       "    </tr>\n",
       "    <tr>\n",
       "      <th>19</th>\n",
       "      <td>Cooking rituals: How students balance a health...</td>\n",
       "      <td>https://theaggie.org/2024/12/05/cooking-ritual...</td>\n",
       "      <td>Cooking rituals: How students balance a health...</td>\n",
       "      <td>2024</td>\n",
       "      <td>12</td>\n",
       "      <td>1</td>\n",
       "    </tr>\n",
       "  </tbody>\n",
       "</table>\n",
       "</div>"
      ],
      "text/plain": [
       "                                                title  \\\n",
       "0   Davis Joint Unified School District joins coho...   \n",
       "1                 What is the Pour Out Pepsi project?   \n",
       "2   City of Davis unveils new artwork in memory of...   \n",
       "3   The Mondavi Center holds performance of Astria...   \n",
       "4   ASUCD Coffee House introduces halal menu optio...   \n",
       "5   Davis Media Access produces local election cov...   \n",
       "6                     Sugar, spice and holiday spirit   \n",
       "7              Why I love the musical âHadestownâ   \n",
       "8            ASUCD HAUS hosts Housing Fair on Nov. 13   \n",
       "9            Downtown Davis hosts 2nd Friday ArtAbout   \n",
       "10  Petition to remove turkey from the Thanksgivin...   \n",
       "11  Yolo Transportation District expands transit o...   \n",
       "12           The sun setting early is ruining my life   \n",
       "13  âMy gut was telling me somethingâs wrongâ...   \n",
       "14   How âThe Eras Tourâ changed the concert game   \n",
       "15  Delta of Venus provides a space for art exhibi...   \n",
       "16  UC Davisâ Outdoor Crew helps students explor...   \n",
       "17                                    Review: Heretic   \n",
       "18  Davis-based jewelry brand has a furry friend b...   \n",
       "19  Cooking rituals: How students balance a health...   \n",
       "\n",
       "                                                  url  \\\n",
       "0   https://theaggie.org/2024/12/10/davis-joint-un...   \n",
       "1   https://theaggie.org/2024/12/09/what-is-the-po...   \n",
       "2   https://theaggie.org/2024/12/10/city-of-davis-...   \n",
       "3   https://theaggie.org/2024/11/22/the-mondavi-ce...   \n",
       "4   https://theaggie.org/2024/12/06/asucd-coffee-h...   \n",
       "5   https://theaggie.org/2024/12/10/davis-media-ac...   \n",
       "6   https://theaggie.org/2024/12/11/sugar-spice-an...   \n",
       "7   https://theaggie.org/2024/12/10/why-i-love-the...   \n",
       "8   https://theaggie.org/2024/12/05/asucd-haus-hos...   \n",
       "9   https://theaggie.org/2024/12/10/downtown-davis...   \n",
       "10  https://theaggie.org/2024/12/10/petition-to-re...   \n",
       "11  https://theaggie.org/2024/12/11/yolo-transport...   \n",
       "12  https://theaggie.org/2024/12/09/the-sun-settin...   \n",
       "13  https://theaggie.org/2024/12/10/my-gut-was-tel...   \n",
       "14  https://theaggie.org/2024/12/10/how-the-eras-t...   \n",
       "15  https://theaggie.org/2024/12/10/delta-of-venus...   \n",
       "16  https://theaggie.org/2024/12/10/uc-davis-outdo...   \n",
       "17    https://theaggie.org/2024/12/10/review-heretic/   \n",
       "18  https://theaggie.org/2024/12/10/davis-based-je...   \n",
       "19  https://theaggie.org/2024/12/05/cooking-ritual...   \n",
       "\n",
       "                                                 body  year  month  day  \n",
       "0   Davis Joint Unified School District joins coho...  2024     12    1  \n",
       "1   What is the Pour Out Pepsi project?\\nThe proje...  2024     12    1  \n",
       "2   City of Davis unveils new artwork in memory of...  2024     12    1  \n",
       "3   The Mondavi Center holds performance of Astria...  2024     11    1  \n",
       "4   ASUCD Coffee House introduces halal menu optio...  2024     12    1  \n",
       "5   Davis Media Access produces local election cov...  2024     12    1  \n",
       "6   Sugar, spice and holiday spirit\\nA gourmet gif...  2024     12    1  \n",
       "7   Why I love the musical âHadestownâ\\nThe be...  2024     12    1  \n",
       "8   ASUCD HAUS hosts Housing Fair on Nov. 13\\nThe ...  2024     12    1  \n",
       "9   Downtown Davis hosts 2nd Friday ArtAbout\\nPenc...  2024     12    1  \n",
       "10  Petition to remove turkey from the Thanksgivin...  2024     12    1  \n",
       "11  Yolo Transportation District expands transit o...  2024     12    1  \n",
       "12  The sun setting early is ruining my life\\nThe ...  2024     12    1  \n",
       "13  âMy gut was telling me somethingâs wrongâ...  2024     12    1  \n",
       "14  How âThe Eras Tourâ changed the concert ga...  2024     12    1  \n",
       "15  Delta of Venus provides a space for art exhibi...  2024     12    1  \n",
       "16  UC Davisâ Outdoor Crew helps students explor...  2024     12    1  \n",
       "17  Review: Heretic\\nÂ A24âs new thriller blends...  2024     12    1  \n",
       "18  Davis-based jewelry brand has a furry friend b...  2024     12    1  \n",
       "19  Cooking rituals: How students balance a health...  2024     12    1  "
      ]
     },
     "execution_count": 5,
     "metadata": {},
     "output_type": "execute_result"
    }
   ],
   "source": [
    "df.iloc[0:20]"
   ]
  },
  {
   "cell_type": "code",
   "execution_count": 6,
   "metadata": {},
   "outputs": [
    {
     "data": {
      "text/plain": [
       "title    232\n",
       "url      232\n",
       "body     232\n",
       "year     232\n",
       "month    232\n",
       "day      232\n",
       "dtype: int64"
      ]
     },
     "execution_count": 6,
     "metadata": {},
     "output_type": "execute_result"
    }
   ],
   "source": [
    "df[df.year==2024].count()"
   ]
  },
  {
   "cell_type": "code",
   "execution_count": 7,
   "metadata": {},
   "outputs": [
    {
     "data": {
      "text/plain": [
       "title    240\n",
       "url      240\n",
       "body     240\n",
       "year     240\n",
       "month    240\n",
       "day      240\n",
       "dtype: int64"
      ]
     },
     "execution_count": 7,
     "metadata": {},
     "output_type": "execute_result"
    }
   ],
   "source": [
    "df[df.year==2023].count()"
   ]
  },
  {
   "cell_type": "code",
   "execution_count": 8,
   "metadata": {},
   "outputs": [],
   "source": [
    "unique_urls = df.url.unique()"
   ]
  },
  {
   "cell_type": "code",
   "execution_count": 9,
   "metadata": {},
   "outputs": [
    {
     "data": {
      "text/plain": [
       "(5324,)"
      ]
     },
     "execution_count": 9,
     "metadata": {},
     "output_type": "execute_result"
    }
   ],
   "source": [
    "unique_urls.shape"
   ]
  },
  {
   "cell_type": "code",
   "execution_count": 10,
   "metadata": {},
   "outputs": [
    {
     "data": {
      "text/plain": [
       "array(['https://theaggie.org/2024/12/10/davis-joint-unified-school-district-joins-cohort-to-address-housing-affordability-for-educators/',\n",
       "       'https://theaggie.org/2024/12/09/what-is-the-pour-out-pepsi-project/',\n",
       "       'https://theaggie.org/2024/12/10/city-of-davis-unveils-new-artwork-in-memory-of-uc-davis-student-karim-abou-najm/',\n",
       "       'https://theaggie.org/2024/11/22/the-mondavi-center-holds-performance-of-astria-suparaks-asian-futures-without-asians/',\n",
       "       'https://theaggie.org/2024/12/06/asucd-coffee-house-introduces-halal-menu-options-increasing-accessibility/',\n",
       "       'https://theaggie.org/2024/12/10/davis-media-access-produces-local-election-coverage-throughout-election-night/',\n",
       "       'https://theaggie.org/2024/12/11/sugar-spice-and-holiday-spirit/',\n",
       "       'https://theaggie.org/2024/12/10/why-i-love-the-musical-hadestown/',\n",
       "       'https://theaggie.org/2024/12/05/asucd-haus-hosts-housing-fair-on-nov-13/',\n",
       "       'https://theaggie.org/2024/12/10/downtown-davis-hosts-2nd-friday-artabout/',\n",
       "       'https://theaggie.org/2024/12/10/petition-to-remove-turkey-from-the-thanksgiving-menu/',\n",
       "       'https://theaggie.org/2024/12/11/yolo-transportation-district-expands-transit-options/',\n",
       "       'https://theaggie.org/2024/12/09/the-sun-setting-early-is-ruining-my-life/',\n",
       "       'https://theaggie.org/2024/12/10/my-gut-was-telling-me-somethings-wrong-multi-level-marketing-in-davis/',\n",
       "       'https://theaggie.org/2024/12/10/how-the-eras-tour-changed-the-concert-game/',\n",
       "       'https://theaggie.org/2024/12/10/delta-of-venus-provides-a-space-for-art-exhibitions-live-music-and-social-gatherings/',\n",
       "       'https://theaggie.org/2024/12/10/uc-davis-outdoor-crew-helps-students-explore-the-outdoors-get-back-into-nature/',\n",
       "       'https://theaggie.org/2024/12/10/review-heretic/',\n",
       "       'https://theaggie.org/2024/12/10/davis-based-jewelry-brand-has-a-furry-friend-behind-the-craft/',\n",
       "       'https://theaggie.org/2024/12/05/cooking-rituals-how-students-balance-a-healthy-diet-while-in-school/'],\n",
       "      dtype=object)"
      ]
     },
     "execution_count": 10,
     "metadata": {},
     "output_type": "execute_result"
    }
   ],
   "source": [
    "unique_urls[0:20]"
   ]
  },
  {
   "cell_type": "markdown",
   "metadata": {},
   "source": [
    "## Function Definitions\n"
   ]
  },
  {
   "cell_type": "code",
   "execution_count": 11,
   "metadata": {},
   "outputs": [],
   "source": [
    "import numpy as np\n",
    "import re"
   ]
  },
  {
   "cell_type": "code",
   "execution_count": 12,
   "metadata": {},
   "outputs": [],
   "source": [
    "def getCovDispersion(wv):\n",
    "    N = len(wv)\n",
    "    cov = np.cov(wv)\n",
    "    return (N, \n",
    "            np.trace(cov)/N, \n",
    "            np.linalg.norm(cov, ord=1)/N, \n",
    "            np.linalg.norm(cov, ord=2)/N, \n",
    "            np.linalg.norm(cov, ord=np.inf)/N, \n",
    "            )\n",
    "\n",
    "def cosine_distance(v1, v2):\n",
    "    \"\"\"Calculate the cosine distance between two numpy arrays.\n",
    "    \n",
    "    Parameters:\n",
    "    a (numpy array): First input array.\n",
    "    b (numpy array): Second input array.\n",
    "    \n",
    "    Returns:\n",
    "    float: Cosine distance between a and b.\n",
    "    \"\"\"\n",
    "    a = np.array(v1, dtype=np.float64)\n",
    "    b = np.array(v2, dtype=np.float64)\n",
    "    # Calculate dot product and magnitudes of the input arrays\n",
    "    dot   = np.dot(a, b)\n",
    "    a_mag = np.linalg.norm(a)\n",
    "    b_mag = np.linalg.norm(b)\n",
    "    \n",
    "    if np.isclose(a_mag, 0, rtol=1e-9, atol=1e-12):\n",
    "        print(f\"a_mag is very small: {a_mag}\")\n",
    "    if np.isclose(b_mag, 0, rtol=1e-9, atol=1e-12):\n",
    "        print(f\"b_mag is very small: {b_mag}\")\n",
    "    \n",
    "    # Calculate and return the cosine distance\n",
    "    return 1.0 - (dot / (a_mag * b_mag))\n",
    "\n",
    "def getPairwiseDispersion(wv, measure):\n",
    "    if len(wv) <= 1: return 0.0\n",
    "    distance = 0.0\n",
    "    vec = wv[0]\n",
    "    for v in wv[1:]:\n",
    "        distance += measure(vec, v)\n",
    "        # print(f\"\\tcos_distance: {measure(vec, v)}\")\n",
    "    return distance + getPairwiseDispersion(wv[1:], measure)\n",
    "\n",
    "def getNormalizedPairwiseDispersion(wv, measure):\n",
    "    '''Normalize the dispersion by (N-Choose-2) number of pairs'''\n",
    "    N = len(wv)\n",
    "    return getPairwiseDispersion(wv, measure) / (N * (N-1)/2.)"
   ]
  },
  {
   "cell_type": "code",
   "execution_count": 13,
   "metadata": {},
   "outputs": [],
   "source": [
    "diversity_words = [\n",
    "    'diversity', \n",
    "    'equity',\n",
    "    'inclusion',\n",
    "    'inclusive',\n",
    "    'inclusivity',\n",
    "    'equality', \n",
    "    'equal opportunity',\n",
    "    'social justice',\n",
    "    'racial justice', \n",
    "    'multi-cultural', \n",
    "    'multicultural',\n",
    "    'intercultural',\n",
    "    'intersectional',\n",
    "    'intersectionality',\n",
    "    'anti-discrimination'\n",
    "]"
   ]
  },
  {
   "cell_type": "code",
   "execution_count": 14,
   "metadata": {},
   "outputs": [
    {
     "name": "stderr",
     "output_type": "stream",
     "text": [
      "[nltk_data] Downloading package wordnet to\n",
      "[nltk_data]     C:\\Users\\theod\\AppData\\Roaming\\nltk_data...\n",
      "[nltk_data]   Package wordnet is already up-to-date!\n"
     ]
    }
   ],
   "source": [
    "import nltk\n",
    "nltk.download('wordnet')\n",
    "from nltk.stem import WordNetLemmatizer\n",
    "lemmatizer = WordNetLemmatizer()"
   ]
  },
  {
   "cell_type": "code",
   "execution_count": 15,
   "metadata": {},
   "outputs": [
    {
     "data": {
      "text/plain": [
       "['diversity',\n",
       " 'equity',\n",
       " 'inclusion',\n",
       " 'inclusive',\n",
       " 'inclusivity',\n",
       " 'equality',\n",
       " 'equal opportunity',\n",
       " 'social justice',\n",
       " 'racial justice',\n",
       " 'multi-cultural',\n",
       " 'multicultural',\n",
       " 'intercultural',\n",
       " 'intersectional',\n",
       " 'intersectionality',\n",
       " 'anti-discrimination']"
      ]
     },
     "execution_count": 15,
     "metadata": {},
     "output_type": "execute_result"
    }
   ],
   "source": [
    "diversity_lemmas = [lemmatizer.lemmatize(w) for w in diversity_words]\n",
    "diversity_lemmas"
   ]
  },
  {
   "cell_type": "code",
   "execution_count": 16,
   "metadata": {},
   "outputs": [],
   "source": [
    "diversity_pattern = \"|\".join(diversity_lemmas)"
   ]
  },
  {
   "cell_type": "markdown",
   "metadata": {},
   "source": [
    "Let's verify how the \"count\" of diversity words in the text is calculated.\n"
   ]
  },
  {
   "cell_type": "code",
   "execution_count": 17,
   "metadata": {},
   "outputs": [
    {
     "data": {
      "text/plain": [
       "3"
      ]
     },
     "execution_count": 17,
     "metadata": {},
     "output_type": "execute_result"
    }
   ],
   "source": [
    "text = \"This is a multicultural organization that advocates for diversity and racial justice.\"\n",
    "len(re.findall(diversity_pattern, text))"
   ]
  },
  {
   "cell_type": "markdown",
   "metadata": {},
   "source": [
    "## Analysis\n"
   ]
  },
  {
   "cell_type": "code",
   "execution_count": 18,
   "metadata": {},
   "outputs": [],
   "source": [
    "from openai import OpenAI\n",
    "from typing import List\n",
    "import numpy as np\n",
    "client = OpenAI()"
   ]
  },
  {
   "cell_type": "code",
   "execution_count": 19,
   "metadata": {},
   "outputs": [],
   "source": [
    "def get_embedding(text: str) -> List[float]:\n",
    "    \"\"\"\n",
    "    Get embeddings for a single text using text-embedding-3-large model.\n",
    "    \n",
    "    Args:\n",
    "        text (str): The input text to generate embeddings for\n",
    "        \n",
    "    Returns:\n",
    "        List[float]: The embedding vector\n",
    "    \"\"\"\n",
    "    response = client.embeddings.create(\n",
    "        model=\"text-embedding-3-large\",\n",
    "        input=text,\n",
    "        dimensions=1024  # Optional: You can specify 256, 512, or 1024 dimensions\n",
    "    )\n",
    "    return response.data[0].embedding\n",
    "\n",
    "def get_batch_embeddings(texts: List[str]) -> List[List[float]]:\n",
    "    \"\"\"\n",
    "    Get embeddings for multiple texts in a single API call.\n",
    "    \n",
    "    Args:\n",
    "        texts (List[str]): List of input texts to generate embeddings for\n",
    "        \n",
    "    Returns:\n",
    "        List[List[float]]: List of embedding vectors\n",
    "    \"\"\"\n",
    "    response = client.embeddings.create(\n",
    "        model=\"text-embedding-3-large\",\n",
    "        input=texts,\n",
    "        dimensions=1024\n",
    "    )\n",
    "    return [item.embedding for item in response.data]"
   ]
  },
  {
   "cell_type": "code",
   "execution_count": 20,
   "metadata": {},
   "outputs": [
    {
     "name": "stderr",
     "output_type": "stream",
     "text": [
      "[nltk_data] Downloading package stopwords to\n",
      "[nltk_data]     C:\\Users\\theod\\AppData\\Roaming\\nltk_data...\n",
      "[nltk_data]   Package stopwords is already up-to-date!\n"
     ]
    }
   ],
   "source": [
    "nltk.download('stopwords')\n",
    "from nltk.corpus import stopwords"
   ]
  },
  {
   "cell_type": "code",
   "execution_count": 21,
   "metadata": {},
   "outputs": [],
   "source": [
    "english_stopwords = stopwords.words('english')\n",
    "def prepText(text_series):\n",
    "    # Step 1: Clean and normalize each text in the series\n",
    "    # - Convert to lowercase\n",
    "    # - Lemmatize each word (convert to base form)\n",
    "    # - Remove stopwords\n",
    "    # - Join words back together with spaces\n",
    "    text_series = text_series.apply(\n",
    "        lambda x: \" \".join(lemmatizer.lemmatize(w.lower()) for w in x.split()\n",
    "                           if w not in english_stopwords))\n",
    "    \n",
    "    # Step 2: Filter out short texts\n",
    "    # Remove any text less than 100 characters as they're likely too short for meaningful analysis\n",
    "    text_series = text_series.apply(lambda x: x if len(x) > 100 else None)\n",
    "    \n",
    "    # Step 3: Remove any null values created by the previous step\n",
    "    text_series = text_series.dropna()\n",
    "    \n",
    "    # Step 4: Count diversity-related terms\n",
    "    # Sum up all instances of diversity-related words (defined in diversity_pattern)\n",
    "    # across all remaining texts in the series\n",
    "    total_diversity_words = sum([len(re.findall(diversity_pattern, text))\n",
    "                                for text in text_series])\n",
    "    \n",
    "    # Return both the cleaned text series and the total count of diversity words\n",
    "    return text_series, total_diversity_words"
   ]
  },
  {
   "cell_type": "code",
   "execution_count": 22,
   "metadata": {},
   "outputs": [],
   "source": [
    "START_YEAR = 2009\n",
    "FINAL_YEAR = 2024"
   ]
  },
  {
   "cell_type": "code",
   "execution_count": 23,
   "metadata": {},
   "outputs": [],
   "source": [
    "year_2024 = df[df.year==2024]\n",
    "clean_df, num_diversity_words = prepText(year_2024.body)\n",
    "wv = get_batch_embeddings(clean_df)"
   ]
  },
  {
   "cell_type": "code",
   "execution_count": 24,
   "metadata": {},
   "outputs": [
    {
     "data": {
      "text/plain": [
       "list"
      ]
     },
     "execution_count": 24,
     "metadata": {},
     "output_type": "execute_result"
    }
   ],
   "source": [
    "type(wv[0])"
   ]
  },
  {
   "cell_type": "code",
   "execution_count": 25,
   "metadata": {},
   "outputs": [],
   "source": [
    "docmatrix = np.array(wv)"
   ]
  },
  {
   "cell_type": "code",
   "execution_count": 26,
   "metadata": {},
   "outputs": [
    {
     "data": {
      "text/plain": [
       "(232, 1024)"
      ]
     },
     "execution_count": 26,
     "metadata": {},
     "output_type": "execute_result"
    }
   ],
   "source": [
    "docmatrix.shape"
   ]
  },
  {
   "cell_type": "code",
   "execution_count": 27,
   "metadata": {},
   "outputs": [
    {
     "name": "stdout",
     "output_type": "stream",
     "text": [
      "0      2024\n",
      "1      2024\n",
      "2      2024\n",
      "3      2024\n",
      "4      2024\n",
      "       ... \n",
      "227    2024\n",
      "228    2024\n",
      "229    2024\n",
      "230    2024\n",
      "231    2024\n",
      "Name: year, Length: 232, dtype: int64, 232, 0.000976894210441257, 0.6486560972025281\n"
     ]
    }
   ],
   "source": [
    "pairwise = getNormalizedPairwiseDispersion(docmatrix, cosine_distance)\n",
    "cov = getCovDispersion(docmatrix)\n",
    "print(f\"{year_2024.year}, {cov[0]}, {cov[1]}, {pairwise}\")"
   ]
  },
  {
   "cell_type": "code",
   "execution_count": 28,
   "metadata": {},
   "outputs": [
    {
     "data": {
      "text/plain": [
       "0.6486560972025281"
      ]
     },
     "execution_count": 28,
     "metadata": {},
     "output_type": "execute_result"
    }
   ],
   "source": [
    "pairwise"
   ]
  },
  {
   "cell_type": "code",
   "execution_count": 29,
   "metadata": {},
   "outputs": [
    {
     "name": "stdout",
     "output_type": "stream",
     "text": [
      "2009, 458, 0.0009768443529627243, 0.6070616958768729\n",
      "2010, 470, 0.000976853087576591, 0.5915219806916443\n",
      "2011, 479, 0.0009768765777603435, 0.5969634863905527\n",
      "2012, 452, 0.00097686337410472, 0.6130241152678163\n",
      "2013, 323, 0.0009768474622633605, 0.639622651004742\n",
      "2014, 181, 0.0009768884663833655, 0.6219145186139535\n",
      "2015, 180, 0.0009768908286954987, 0.6277489696520909\n",
      "2016, 264, 0.00097679675534449, 0.6307398217603954\n",
      "2017, 365, 0.00097688506414187, 0.6082019050949786\n",
      "2018, 358, 0.000976872221416219, 0.6222863885442477\n",
      "2019, 276, 0.0009768782034478445, 0.6440873275583867\n",
      "2020, 277, 0.0009767294246026783, 0.6211777648671156\n",
      "2021, 187, 0.00097681673734334, 0.6374513126321839\n",
      "2022, 186, 0.0009769155640166505, 0.6080544562928992\n",
      "2023, 238, 0.0009769670704864954, 0.6341334496379402\n",
      "2024, 232, 0.0009768948425416973, 0.648685921659957\n"
     ]
    }
   ],
   "source": [
    "results = []\n",
    "for year in range(START_YEAR, FINAL_YEAR+1):\n",
    "    year_df = df[df.year==year]\n",
    "    \n",
    "    clean_df, num_diversity_words = prepText(year_df.body)\n",
    "    wv = get_batch_embeddings(clean_df)\n",
    "    \n",
    "    docmatrix = np.array(wv)\n",
    "    pairwise = getNormalizedPairwiseDispersion(docmatrix, cosine_distance)\n",
    "    cov = getCovDispersion(docmatrix)\n",
    "    \n",
    "    print(f\"{year}, {cov[0]}, {cov[1]}, {pairwise}\")\n",
    "    \n",
    "    result = {'year':     year,\n",
    "              'pairwise': pairwise,\n",
    "              'size':     cov[0],\n",
    "              'trace':    cov[1],\n",
    "              'norm-1':   cov[2],\n",
    "              'norm-2':   cov[3],\n",
    "              'norm-inf': cov[4],\n",
    "              'diversity-words': num_diversity_words,\n",
    "              'mentions-norm'  : num_diversity_words/cov[0]\n",
    "             }\n",
    "    results.append(result)"
   ]
  },
  {
   "cell_type": "code",
   "execution_count": 30,
   "metadata": {},
   "outputs": [
    {
     "data": {
      "text/html": [
       "<div>\n",
       "<style scoped>\n",
       "    .dataframe tbody tr th:only-of-type {\n",
       "        vertical-align: middle;\n",
       "    }\n",
       "\n",
       "    .dataframe tbody tr th {\n",
       "        vertical-align: top;\n",
       "    }\n",
       "\n",
       "    .dataframe thead th {\n",
       "        text-align: right;\n",
       "    }\n",
       "</style>\n",
       "<table border=\"1\" class=\"dataframe\">\n",
       "  <thead>\n",
       "    <tr style=\"text-align: right;\">\n",
       "      <th></th>\n",
       "      <th>pairwise</th>\n",
       "      <th>size</th>\n",
       "      <th>trace</th>\n",
       "      <th>norm-1</th>\n",
       "      <th>norm-2</th>\n",
       "      <th>norm-inf</th>\n",
       "      <th>diversity-words</th>\n",
       "      <th>mentions-norm</th>\n",
       "    </tr>\n",
       "    <tr>\n",
       "      <th>year</th>\n",
       "      <th></th>\n",
       "      <th></th>\n",
       "      <th></th>\n",
       "      <th></th>\n",
       "      <th></th>\n",
       "      <th></th>\n",
       "      <th></th>\n",
       "      <th></th>\n",
       "    </tr>\n",
       "  </thead>\n",
       "  <tbody>\n",
       "    <tr>\n",
       "      <th>2009</th>\n",
       "      <td>0.607062</td>\n",
       "      <td>458</td>\n",
       "      <td>0.000977</td>\n",
       "      <td>0.000495</td>\n",
       "      <td>0.000391</td>\n",
       "      <td>0.000495</td>\n",
       "      <td>47</td>\n",
       "      <td>0.102620</td>\n",
       "    </tr>\n",
       "    <tr>\n",
       "      <th>2010</th>\n",
       "      <td>0.591522</td>\n",
       "      <td>470</td>\n",
       "      <td>0.000977</td>\n",
       "      <td>0.000501</td>\n",
       "      <td>0.000405</td>\n",
       "      <td>0.000501</td>\n",
       "      <td>53</td>\n",
       "      <td>0.112766</td>\n",
       "    </tr>\n",
       "    <tr>\n",
       "      <th>2011</th>\n",
       "      <td>0.596963</td>\n",
       "      <td>479</td>\n",
       "      <td>0.000977</td>\n",
       "      <td>0.000503</td>\n",
       "      <td>0.000399</td>\n",
       "      <td>0.000503</td>\n",
       "      <td>66</td>\n",
       "      <td>0.137787</td>\n",
       "    </tr>\n",
       "    <tr>\n",
       "      <th>2012</th>\n",
       "      <td>0.613024</td>\n",
       "      <td>452</td>\n",
       "      <td>0.000977</td>\n",
       "      <td>0.000488</td>\n",
       "      <td>0.000384</td>\n",
       "      <td>0.000488</td>\n",
       "      <td>87</td>\n",
       "      <td>0.192478</td>\n",
       "    </tr>\n",
       "    <tr>\n",
       "      <th>2013</th>\n",
       "      <td>0.639623</td>\n",
       "      <td>323</td>\n",
       "      <td>0.000977</td>\n",
       "      <td>0.000471</td>\n",
       "      <td>0.000360</td>\n",
       "      <td>0.000471</td>\n",
       "      <td>39</td>\n",
       "      <td>0.120743</td>\n",
       "    </tr>\n",
       "    <tr>\n",
       "      <th>2014</th>\n",
       "      <td>0.621915</td>\n",
       "      <td>181</td>\n",
       "      <td>0.000977</td>\n",
       "      <td>0.000467</td>\n",
       "      <td>0.000378</td>\n",
       "      <td>0.000467</td>\n",
       "      <td>45</td>\n",
       "      <td>0.248619</td>\n",
       "    </tr>\n",
       "    <tr>\n",
       "      <th>2015</th>\n",
       "      <td>0.627749</td>\n",
       "      <td>180</td>\n",
       "      <td>0.000977</td>\n",
       "      <td>0.000461</td>\n",
       "      <td>0.000372</td>\n",
       "      <td>0.000461</td>\n",
       "      <td>86</td>\n",
       "      <td>0.477778</td>\n",
       "    </tr>\n",
       "    <tr>\n",
       "      <th>2016</th>\n",
       "      <td>0.630740</td>\n",
       "      <td>264</td>\n",
       "      <td>0.000977</td>\n",
       "      <td>0.000450</td>\n",
       "      <td>0.000369</td>\n",
       "      <td>0.000450</td>\n",
       "      <td>70</td>\n",
       "      <td>0.265152</td>\n",
       "    </tr>\n",
       "    <tr>\n",
       "      <th>2017</th>\n",
       "      <td>0.608202</td>\n",
       "      <td>365</td>\n",
       "      <td>0.000977</td>\n",
       "      <td>0.000501</td>\n",
       "      <td>0.000390</td>\n",
       "      <td>0.000501</td>\n",
       "      <td>113</td>\n",
       "      <td>0.309589</td>\n",
       "    </tr>\n",
       "    <tr>\n",
       "      <th>2018</th>\n",
       "      <td>0.622286</td>\n",
       "      <td>358</td>\n",
       "      <td>0.000977</td>\n",
       "      <td>0.000481</td>\n",
       "      <td>0.000376</td>\n",
       "      <td>0.000481</td>\n",
       "      <td>51</td>\n",
       "      <td>0.142458</td>\n",
       "    </tr>\n",
       "    <tr>\n",
       "      <th>2019</th>\n",
       "      <td>0.644087</td>\n",
       "      <td>276</td>\n",
       "      <td>0.000977</td>\n",
       "      <td>0.000438</td>\n",
       "      <td>0.000354</td>\n",
       "      <td>0.000438</td>\n",
       "      <td>92</td>\n",
       "      <td>0.333333</td>\n",
       "    </tr>\n",
       "    <tr>\n",
       "      <th>2020</th>\n",
       "      <td>0.621178</td>\n",
       "      <td>277</td>\n",
       "      <td>0.000977</td>\n",
       "      <td>0.000484</td>\n",
       "      <td>0.000378</td>\n",
       "      <td>0.000484</td>\n",
       "      <td>138</td>\n",
       "      <td>0.498195</td>\n",
       "    </tr>\n",
       "    <tr>\n",
       "      <th>2021</th>\n",
       "      <td>0.637451</td>\n",
       "      <td>187</td>\n",
       "      <td>0.000977</td>\n",
       "      <td>0.000454</td>\n",
       "      <td>0.000364</td>\n",
       "      <td>0.000454</td>\n",
       "      <td>96</td>\n",
       "      <td>0.513369</td>\n",
       "    </tr>\n",
       "    <tr>\n",
       "      <th>2022</th>\n",
       "      <td>0.608054</td>\n",
       "      <td>186</td>\n",
       "      <td>0.000977</td>\n",
       "      <td>0.000490</td>\n",
       "      <td>0.000394</td>\n",
       "      <td>0.000490</td>\n",
       "      <td>55</td>\n",
       "      <td>0.295699</td>\n",
       "    </tr>\n",
       "    <tr>\n",
       "      <th>2023</th>\n",
       "      <td>0.634133</td>\n",
       "      <td>238</td>\n",
       "      <td>0.000977</td>\n",
       "      <td>0.000451</td>\n",
       "      <td>0.000366</td>\n",
       "      <td>0.000451</td>\n",
       "      <td>44</td>\n",
       "      <td>0.184874</td>\n",
       "    </tr>\n",
       "    <tr>\n",
       "      <th>2024</th>\n",
       "      <td>0.648686</td>\n",
       "      <td>232</td>\n",
       "      <td>0.000977</td>\n",
       "      <td>0.000434</td>\n",
       "      <td>0.000351</td>\n",
       "      <td>0.000434</td>\n",
       "      <td>35</td>\n",
       "      <td>0.150862</td>\n",
       "    </tr>\n",
       "  </tbody>\n",
       "</table>\n",
       "</div>"
      ],
      "text/plain": [
       "      pairwise  size     trace    norm-1    norm-2  norm-inf  diversity-words  \\\n",
       "year                                                                            \n",
       "2009  0.607062   458  0.000977  0.000495  0.000391  0.000495               47   \n",
       "2010  0.591522   470  0.000977  0.000501  0.000405  0.000501               53   \n",
       "2011  0.596963   479  0.000977  0.000503  0.000399  0.000503               66   \n",
       "2012  0.613024   452  0.000977  0.000488  0.000384  0.000488               87   \n",
       "2013  0.639623   323  0.000977  0.000471  0.000360  0.000471               39   \n",
       "2014  0.621915   181  0.000977  0.000467  0.000378  0.000467               45   \n",
       "2015  0.627749   180  0.000977  0.000461  0.000372  0.000461               86   \n",
       "2016  0.630740   264  0.000977  0.000450  0.000369  0.000450               70   \n",
       "2017  0.608202   365  0.000977  0.000501  0.000390  0.000501              113   \n",
       "2018  0.622286   358  0.000977  0.000481  0.000376  0.000481               51   \n",
       "2019  0.644087   276  0.000977  0.000438  0.000354  0.000438               92   \n",
       "2020  0.621178   277  0.000977  0.000484  0.000378  0.000484              138   \n",
       "2021  0.637451   187  0.000977  0.000454  0.000364  0.000454               96   \n",
       "2022  0.608054   186  0.000977  0.000490  0.000394  0.000490               55   \n",
       "2023  0.634133   238  0.000977  0.000451  0.000366  0.000451               44   \n",
       "2024  0.648686   232  0.000977  0.000434  0.000351  0.000434               35   \n",
       "\n",
       "      mentions-norm  \n",
       "year                 \n",
       "2009       0.102620  \n",
       "2010       0.112766  \n",
       "2011       0.137787  \n",
       "2012       0.192478  \n",
       "2013       0.120743  \n",
       "2014       0.248619  \n",
       "2015       0.477778  \n",
       "2016       0.265152  \n",
       "2017       0.309589  \n",
       "2018       0.142458  \n",
       "2019       0.333333  \n",
       "2020       0.498195  \n",
       "2021       0.513369  \n",
       "2022       0.295699  \n",
       "2023       0.184874  \n",
       "2024       0.150862  "
      ]
     },
     "execution_count": 30,
     "metadata": {},
     "output_type": "execute_result"
    }
   ],
   "source": [
    "results_df = pd.DataFrame.from_records(results)\n",
    "results_df.set_index('year')"
   ]
  },
  {
   "cell_type": "code",
   "execution_count": 31,
   "metadata": {},
   "outputs": [
    {
     "data": {
      "image/png": "[encoded data removed]",
      "text/plain": [
       "<Figure size 640x480 with 1 Axes>"
      ]
     },
     "metadata": {},
     "output_type": "display_data"
    }
   ],
   "source": [
    "import matplotlib.pyplot as plt\n",
    "from scipy.stats import linregress\n",
    "\n",
    "x = results_df['year']\n",
    "y = results_df['pairwise']\n",
    "\n",
    "slope, intercept, r_value, p_value, std_err = linregress(x, y)\n",
    "\n",
    "results_df.plot(x=\"year\", y=\"pairwise\", kind=\"scatter\")\n",
    "\n",
    "plt.plot(x, intercept + slope*x, 'b:', label='fitted regression')\n",
    "\n",
    "plt.title(\"UC Davis Aggie by year\")\n",
    "plt.legend(loc='upper right')\n",
    "plt.ylim(min(y)*0.95, max(y)*1.05)\n",
    "plt.show()"
   ]
  },
  {
   "cell_type": "code",
   "execution_count": 32,
   "metadata": {},
   "outputs": [
    {
     "name": "stdout",
     "output_type": "stream",
     "text": [
      "mentions-norm slope:0.01234, int:0.16286, r:0.41960, p:0.10567, se:0.00713, x:range(0, 16)\n",
      "pairwise slope:0.00215, int:0.60591, r:0.60845, p:0.01238, se:0.00075, x:range(0, 16)\n"
     ]
    },
    {
     "data": {
      "image/png": "[encoded data removed]",
      "text/plain": [
       "<Figure size 1600x400 with 2 Axes>"
      ]
     },
     "metadata": {},
     "output_type": "display_data"
    }
   ],
   "source": [
    "# Select the columns to plot\n",
    "columns = [\"mentions-norm\", \"pairwise\"]\n",
    "\n",
    "# Create a figure with subplots\n",
    "fig, axs = plt.subplots(nrows=1, ncols=len(columns), sharex=True, figsize=(16,4))\n",
    "\n",
    "# Loop through the columns and plot each one\n",
    "for ax, column in zip(axs, columns):\n",
    "    # Select the data for the current column\n",
    "    x = range(len(results_df.index))\n",
    "    y = results_df[column]\n",
    "     \n",
    "    # Calculate the linear regression\n",
    "    slope, intercept, r_value, p_value, std_err = linregress(x, y)\n",
    "    \n",
    "    print(\"{} slope:{:.5f}, int:{:.5f}, r:{:.5f}, p:{:.5f}, se:{:.5f}, x:{}\".format(\n",
    "            column, slope, intercept, r_value, p_value, std_err, x))\n",
    "\n",
    "    # Plot the data and the linear regression line\n",
    "    results_df[column].plot(ax=ax, style=\".\", x=x, y=y, label=column)\n",
    "    ax.plot(x, intercept + slope*x, 'b:', label='regression')\n",
    "    ax.set_ylim(0, max(y)*1.2)\n",
    "    \n",
    "    # Add a legend\n",
    "    ax.legend(loc='lower center')\n",
    "\n",
    "    # Add x-label for the years\n",
    "    ax.set_xticks(results_df.index)\n",
    "    ax.set_xticklabels(results_df.year)\n",
    " \n",
    "    # Add a title\n",
    "    # ax.set_title(f\"Trending of {column} in Liberty University's Champion\")\n",
    "    \n",
    "plt.xlabel(\"Year\")\n",
    "plt.suptitle(\"Trending of UC Davis Aggie on Diversity metrics\")\n",
    "plt.show()"
   ]
  },
  {
   "cell_type": "code",
   "execution_count": null,
   "metadata": {},
   "outputs": [],
   "source": []
  }
 ],
 "metadata": {
  "kernelspec": {
   "display_name": ".venv",
   "language": "python",
   "name": "python3"
  },
  "language_info": {
   "codemirror_mode": {
    "name": "ipython",
    "version": 3
   },
   "file_extension": ".py",
   "mimetype": "text/x-python",
   "name": "python",
   "nbconvert_exporter": "python",
   "pygments_lexer": "ipython3",
   "version": "3.11.9"
  }
 },
 "nbformat": 4,
 "nbformat_minor": 2
}
