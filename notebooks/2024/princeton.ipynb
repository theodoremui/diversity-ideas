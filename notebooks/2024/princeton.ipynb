{
 "cells": [
  {
   "cell_type": "markdown",
   "metadata": {},
   "source": [
    "# Diversity of Ideas: Princeton\n"
   ]
  },
  {
   "cell_type": "markdown",
   "metadata": {},
   "source": [
    "## 1. Setup\n"
   ]
  },
  {
   "cell_type": "code",
   "execution_count": 1,
   "metadata": {},
   "outputs": [
    {
     "data": {
      "text/plain": [
       "True"
      ]
     },
     "execution_count": 1,
     "metadata": {},
     "output_type": "execute_result"
    }
   ],
   "source": [
    "from dotenv import load_dotenv, find_dotenv\n",
    "load_dotenv(find_dotenv())"
   ]
  },
  {
   "cell_type": "code",
   "execution_count": 2,
   "metadata": {},
   "outputs": [
    {
     "name": "stderr",
     "output_type": "stream",
     "text": [
      "[nltk_data] Downloading package punkt to\n",
      "[nltk_data]     C:\\Users\\theod\\AppData\\Roaming\\nltk_data...\n",
      "[nltk_data]   Package punkt is already up-to-date!\n",
      "[nltk_data] Downloading package punkt_tab to\n",
      "[nltk_data]     C:\\Users\\theod\\AppData\\Roaming\\nltk_data...\n",
      "[nltk_data]   Package punkt_tab is already up-to-date!\n"
     ]
    }
   ],
   "source": [
    "import pandas as pd\n",
    "import nltk\n",
    "from nltk.tokenize import word_tokenize\n",
    "from collections import Counter\n",
    "nltk.download('punkt')\n",
    "nltk.download('punkt_tab')\n",
    "from util.ouraws import (\n",
    "    getFromFile\n",
    ")"
   ]
  },
  {
   "cell_type": "code",
   "execution_count": 3,
   "metadata": {},
   "outputs": [
    {
     "data": {
      "text/plain": [
       "'c:\\\\Users\\\\theod\\\\OneDrive\\\\dev\\\\diversity-ideas\\\\notebooks\\\\2024'"
      ]
     },
     "execution_count": 3,
     "metadata": {},
     "output_type": "execute_result"
    }
   ],
   "source": [
    "%pwd"
   ]
  },
  {
   "cell_type": "code",
   "execution_count": 4,
   "metadata": {},
   "outputs": [
    {
     "data": {
      "text/plain": [
       "(10291, 6)"
      ]
     },
     "execution_count": 4,
     "metadata": {},
     "output_type": "execute_result"
    }
   ],
   "source": [
    "df = getFromFile(\"../../data/princeton-opinion.parquet\", False)\n",
    "df.shape"
   ]
  },
  {
   "cell_type": "code",
   "execution_count": 5,
   "metadata": {},
   "outputs": [
    {
     "data": {
      "text/html": [
       "<div>\n",
       "<style scoped>\n",
       "    .dataframe tbody tr th:only-of-type {\n",
       "        vertical-align: middle;\n",
       "    }\n",
       "\n",
       "    .dataframe tbody tr th {\n",
       "        vertical-align: top;\n",
       "    }\n",
       "\n",
       "    .dataframe thead th {\n",
       "        text-align: right;\n",
       "    }\n",
       "</style>\n",
       "<table border=\"1\" class=\"dataframe\">\n",
       "  <thead>\n",
       "    <tr style=\"text-align: right;\">\n",
       "      <th></th>\n",
       "      <th>title</th>\n",
       "      <th>url</th>\n",
       "      <th>body</th>\n",
       "      <th>year</th>\n",
       "      <th>month</th>\n",
       "      <th>day</th>\n",
       "    </tr>\n",
       "  </thead>\n",
       "  <tbody>\n",
       "    <tr>\n",
       "      <th>0</th>\n",
       "      <td>The U. doesn’t want you to know about the came...</td>\n",
       "      <td>https://www.dailyprincetonian.com/article/2025...</td>\n",
       "      <td>The U. doesn’t want you to know about the came...</td>\n",
       "      <td>2025</td>\n",
       "      <td>1</td>\n",
       "      <td>1</td>\n",
       "    </tr>\n",
       "    <tr>\n",
       "      <th>1</th>\n",
       "      <td>Princeton should incorporate well-being days i...</td>\n",
       "      <td>https://www.dailyprincetonian.com/article/2025...</td>\n",
       "      <td>Princeton should incorporate well-being days i...</td>\n",
       "      <td>2025</td>\n",
       "      <td>1</td>\n",
       "      <td>1</td>\n",
       "    </tr>\n",
       "    <tr>\n",
       "      <th>2</th>\n",
       "      <td>Princeton must protect students from Trump’s p...</td>\n",
       "      <td>https://www.dailyprincetonian.com/article/2025...</td>\n",
       "      <td>Princeton must protect students from Trump’s p...</td>\n",
       "      <td>2025</td>\n",
       "      <td>1</td>\n",
       "      <td>1</td>\n",
       "    </tr>\n",
       "    <tr>\n",
       "      <th>3</th>\n",
       "      <td>Princeton, why don’t you care about the workin...</td>\n",
       "      <td>https://www.dailyprincetonian.com/article/2024...</td>\n",
       "      <td>Princeton, why don’t you care about the workin...</td>\n",
       "      <td>2024</td>\n",
       "      <td>12</td>\n",
       "      <td>1</td>\n",
       "    </tr>\n",
       "  </tbody>\n",
       "</table>\n",
       "</div>"
      ],
      "text/plain": [
       "                                               title  \\\n",
       "0  The U. doesn’t want you to know about the came...   \n",
       "1  Princeton should incorporate well-being days i...   \n",
       "2  Princeton must protect students from Trump’s p...   \n",
       "3  Princeton, why don’t you care about the workin...   \n",
       "\n",
       "                                                 url  \\\n",
       "0  https://www.dailyprincetonian.com/article/2025...   \n",
       "1  https://www.dailyprincetonian.com/article/2025...   \n",
       "2  https://www.dailyprincetonian.com/article/2025...   \n",
       "3  https://www.dailyprincetonian.com/article/2024...   \n",
       "\n",
       "                                                body  year  month  day  \n",
       "0  The U. doesn’t want you to know about the came...  2025      1    1  \n",
       "1  Princeton should incorporate well-being days i...  2025      1    1  \n",
       "2  Princeton must protect students from Trump’s p...  2025      1    1  \n",
       "3  Princeton, why don’t you care about the workin...  2024     12    1  "
      ]
     },
     "execution_count": 5,
     "metadata": {},
     "output_type": "execute_result"
    }
   ],
   "source": [
    "df.head(4)"
   ]
  },
  {
   "cell_type": "markdown",
   "metadata": {},
   "source": [
    "## 2. Function Definitions\n"
   ]
  },
  {
   "cell_type": "code",
   "execution_count": 6,
   "metadata": {},
   "outputs": [],
   "source": [
    "import numpy as np\n",
    "import re"
   ]
  },
  {
   "cell_type": "code",
   "execution_count": 7,
   "metadata": {},
   "outputs": [],
   "source": [
    "def getCovDispersion(wv):\n",
    "    \"\"\"\n",
    "    Calculate various dispersion measures using the covariance matrix of word vectors.\n",
    "    \n",
    "    Args:\n",
    "        wv: numpy array of shape (n_documents, embedding_dim) containing document embeddings\n",
    "        \n",
    "    Returns:\n",
    "        tuple containing:\n",
    "        - N: number of documents\n",
    "        - trace_norm: average variance along the diagonal\n",
    "        - l1_norm: L1 norm of covariance matrix (normalized)\n",
    "        - l2_norm: L2 norm of covariance matrix (normalized)\n",
    "        - inf_norm: Infinity norm of covariance matrix (normalized)\n",
    "    \"\"\"\n",
    "    # Get number of documents\n",
    "    N = len(wv)\n",
    "    \n",
    "    # Calculate covariance matrix of the word vectors\n",
    "    # This measures how dimensions vary together across documents\n",
    "    cov = np.cov(wv)\n",
    "    \n",
    "    return (\n",
    "        N,  # Number of documents\n",
    "        np.trace(cov)/N,  # Average variance along diagonal (spread in each dimension)\n",
    "        np.linalg.norm(cov, ord=1)/N,  # L1 norm (sum of absolute values)\n",
    "        np.linalg.norm(cov, ord=2)/N,  # L2/Spectral norm (largest singular value)\n",
    "        np.linalg.norm(cov, ord=np.inf)/N,  # Infinity norm (max absolute row sum)\n",
    "    )\n",
    "\n",
    "def cosine_distance(v1, v2):\n",
    "    \"\"\"Calculate the cosine distance between two numpy arrays.\n",
    "    \n",
    "    Parameters:\n",
    "    a (numpy array): First input array.\n",
    "    b (numpy array): Second input array.\n",
    "    \n",
    "    Returns:\n",
    "    float: Cosine distance between a and b.\n",
    "    \"\"\"\n",
    "    a = np.array(v1, dtype=np.float64)\n",
    "    b = np.array(v2, dtype=np.float64)\n",
    "    # Calculate dot product and magnitudes of the input arrays\n",
    "    dot   = np.dot(a, b)\n",
    "    a_mag = np.linalg.norm(a)\n",
    "    b_mag = np.linalg.norm(b)\n",
    "    \n",
    "    if np.isclose(a_mag, 0, rtol=1e-9, atol=1e-12):\n",
    "        print(f\"a_mag is very small: {a_mag}\")\n",
    "    if np.isclose(b_mag, 0, rtol=1e-9, atol=1e-12):\n",
    "        print(f\"b_mag is very small: {b_mag}\")\n",
    "    \n",
    "    # Calculate and return the cosine distance\n",
    "    return 1.0 - (dot / (a_mag * b_mag))\n",
    "\n",
    "def getPairwiseDispersion(wv, measure):\n",
    "    if len(wv) <= 1: return 0.0\n",
    "    distance = 0.0\n",
    "    vec = wv[0]\n",
    "    for v in wv[1:]:\n",
    "        distance += measure(vec, v)\n",
    "        # print(f\"\\tcos_distance: {measure(vec, v)}\")\n",
    "    return distance + getPairwiseDispersion(wv[1:], measure)\n",
    "\n",
    "def getNormalizedPairwiseDispersion(wv, measure):\n",
    "    '''Normalize the dispersion by (N-Choose-2) number of pairs'''\n",
    "    N = len(wv)\n",
    "    return getPairwiseDispersion(wv, measure) / (N * (N-1)/2.)"
   ]
  },
  {
   "cell_type": "code",
   "execution_count": 8,
   "metadata": {},
   "outputs": [],
   "source": [
    "diversity_words = [\n",
    "    'diversity', \n",
    "    'equity',\n",
    "    'inclusion',\n",
    "    'inclusive',\n",
    "    'inclusivity',\n",
    "    'equality', \n",
    "    'equal opportunity',\n",
    "    'social justice',\n",
    "    'racial justice', \n",
    "    'multi-cultural', \n",
    "    'multicultural',\n",
    "    'intercultural',\n",
    "    'intersectional',\n",
    "    'intersectionality',\n",
    "    'anti-discrimination'\n",
    "]"
   ]
  },
  {
   "cell_type": "code",
   "execution_count": 9,
   "metadata": {},
   "outputs": [
    {
     "name": "stderr",
     "output_type": "stream",
     "text": [
      "[nltk_data] Downloading package wordnet to\n",
      "[nltk_data]     C:\\Users\\theod\\AppData\\Roaming\\nltk_data...\n",
      "[nltk_data]   Package wordnet is already up-to-date!\n"
     ]
    }
   ],
   "source": [
    "import nltk\n",
    "nltk.download('wordnet')\n",
    "from nltk.stem import WordNetLemmatizer\n",
    "lemmatizer = WordNetLemmatizer()"
   ]
  },
  {
   "cell_type": "code",
   "execution_count": 10,
   "metadata": {},
   "outputs": [
    {
     "data": {
      "text/plain": [
       "['diversity',\n",
       " 'equity',\n",
       " 'inclusion',\n",
       " 'inclusive',\n",
       " 'inclusivity',\n",
       " 'equality',\n",
       " 'equal opportunity',\n",
       " 'social justice',\n",
       " 'racial justice',\n",
       " 'multi-cultural',\n",
       " 'multicultural',\n",
       " 'intercultural',\n",
       " 'intersectional',\n",
       " 'intersectionality',\n",
       " 'anti-discrimination']"
      ]
     },
     "execution_count": 10,
     "metadata": {},
     "output_type": "execute_result"
    }
   ],
   "source": [
    "diversity_lemmas = [lemmatizer.lemmatize(w) for w in diversity_words]\n",
    "diversity_lemmas"
   ]
  },
  {
   "cell_type": "code",
   "execution_count": 11,
   "metadata": {},
   "outputs": [],
   "source": [
    "diversity_pattern = \"|\".join(diversity_lemmas)"
   ]
  },
  {
   "cell_type": "markdown",
   "metadata": {},
   "source": [
    "Let's verify how the \"count\" of diversity words in the text is calculated.\n"
   ]
  },
  {
   "cell_type": "code",
   "execution_count": 12,
   "metadata": {},
   "outputs": [
    {
     "data": {
      "text/plain": [
       "3"
      ]
     },
     "execution_count": 12,
     "metadata": {},
     "output_type": "execute_result"
    }
   ],
   "source": [
    "text = \"This is a multicultural organization that advocates for diversity and racial justice.\"\n",
    "len(re.findall(diversity_pattern, text))"
   ]
  },
  {
   "cell_type": "markdown",
   "metadata": {},
   "source": [
    "### Cynicism related declarations\n"
   ]
  },
  {
   "cell_type": "code",
   "execution_count": 13,
   "metadata": {},
   "outputs": [
    {
     "data": {
      "text/plain": [
       "['skepticism',\n",
       " 'mistrust',\n",
       " 'questionable',\n",
       " 'dishonesty',\n",
       " 'manipulation',\n",
       " 'corruption',\n",
       " 'negativity']"
      ]
     },
     "execution_count": 13,
     "metadata": {},
     "output_type": "execute_result"
    }
   ],
   "source": [
    "# Define LIWC-style categories for cynicism analysis\n",
    "liwc_cynicism = {\n",
    "    \"skepticism\": {\"skeptical\", \"doubtful\", \"unconvinced\", \"uncertain\", \"wary\", \"dubious\"},\n",
    "    \"mistrust\": {\"untrustworthy\", \"suspicious\", \"distrustful\", \"unreliable\", \"shady\", \"rigged\", \"lying\"},\n",
    "    \"questionable\": {\"questionable\", \"dubious\", \"problematic\", \"concerning\", \"suspect\"},\n",
    "    \"dishonesty\": {\"dishonest\", \"lie\", \"lying\", \"deceptive\", \"misleading\", \"false\", \"fake\"},\n",
    "    \"manipulation\": {\"manipulative\", \"coercive\", \"exploitative\", \"calculated\", \"scheming\"},\n",
    "    \"corruption\": {\"corrupt\", \"bribed\", \"compromised\", \"unethical\", \"crooked\", \"lying\"},\n",
    "    \"negativity\": {\"bad\", \"worse\", \"worst\", \"terrible\", \"awful\", \"disastrous\", \"weird\"},\n",
    "    \"certainty\": {\"obviously\", \"definitely\", \"certainly\", \"undoubtedly\", \"absolutely\", \"clearly\"}\n",
    "}\n",
    "\n",
    "liwc_cynicism_keys = [key for key in liwc_cynicism if key != \"certainty\"]\n",
    "liwc_cynicism_keys"
   ]
  },
  {
   "cell_type": "code",
   "execution_count": 14,
   "metadata": {},
   "outputs": [],
   "source": [
    "def liwc_analysis(text):\n",
    "    \"\"\"Analyze text using LIWC-style categories for cynicism.\"\"\"\n",
    "    tokens = [token.lower() for token in word_tokenize(text) \n",
    "              if token.isalnum()]  # Only include alphanumeric tokens\n",
    "    word_counts = Counter(tokens)\n",
    "    total_words = sum(word_counts.values())\n",
    "    \n",
    "    # Initialize scores dict with all categories\n",
    "    liwc_scores = {category: 0 for category in liwc_cynicism.keys()}\n",
    "    \n",
    "    # Count matches for each category\n",
    "    for category, words in liwc_cynicism.items():\n",
    "        category_count = sum(word_counts[word] for word in words if word in word_counts)\n",
    "        if total_words > 0:\n",
    "            liwc_scores[category] = round(category_count / total_words, 4)\n",
    "    \n",
    "    # Debug print\n",
    "    # print(\"LIWC categories found:\", list(liwc_scores.keys()))\n",
    "    \n",
    "    return liwc_scores"
   ]
  },
  {
   "cell_type": "code",
   "execution_count": 15,
   "metadata": {},
   "outputs": [],
   "source": [
    "def compute_cynicism_score(row):\n",
    "    \"\"\"Compute cynicism score from LIWC categories.\"\"\"\n",
    "    # Create a set of categories excluding 'certainty'\n",
    "    cynicism_categories = set(liwc_cynicism.keys()) - {'certainty'}\n",
    "    certainty_weight = 1\n",
    "    \n",
    "    # Debug print\n",
    "    # print(\"Available columns:\", row.index.tolist())\n",
    "    # print(\"Looking for categories:\", list(cynicism_categories))\n",
    "    \n",
    "    # Check if all required categories exist\n",
    "    missing_categories = [cat for cat in cynicism_categories if cat not in row.index]\n",
    "    if missing_categories:\n",
    "        print(f\"Missing categories: {missing_categories}\")\n",
    "        return 0.0\n",
    "    \n",
    "    try:\n",
    "        cynicism_score = (sum(row[category] for category in cynicism_categories) - \n",
    "                         certainty_weight * row[\"certainty\"]) / len(cynicism_categories)\n",
    "        return round(cynicism_score, 4)\n",
    "    except Exception as e:\n",
    "        print(f\"Error computing cynicism score: {e}\")\n",
    "        print(f\"Row data: {row}\")\n",
    "        return 0.0"
   ]
  },
  {
   "cell_type": "code",
   "execution_count": 16,
   "metadata": {},
   "outputs": [],
   "source": [
    "def cronbach_alpha(df):\n",
    "    \"\"\"Compute Cronbach's Alpha for internal consistency of LIWC categories.\"\"\"\n",
    "    # items = df[liwc_cynicism_keys]\n",
    "    items = df[liwc_cynicism.keys()]\n",
    "    item_vars = items.var(axis=0, ddof=1)\n",
    "    total_var = items.sum(axis=1).var(ddof=1)\n",
    "    n = items.shape[1]\n",
    "    return (n / (n - 1)) * (1 - sum(item_vars) / total_var)"
   ]
  },
  {
   "cell_type": "markdown",
   "metadata": {},
   "source": [
    "## 3. Diversity Analysis\n"
   ]
  },
  {
   "cell_type": "code",
   "execution_count": 17,
   "metadata": {},
   "outputs": [],
   "source": [
    "from openai import OpenAI\n",
    "from typing import List\n",
    "import numpy as np\n",
    "client = OpenAI()"
   ]
  },
  {
   "cell_type": "code",
   "execution_count": 18,
   "metadata": {},
   "outputs": [],
   "source": [
    "def get_embedding(text: str) -> List[float]:\n",
    "    \"\"\"\n",
    "    Get embeddings for a single text using text-embedding-3-large model.\n",
    "    \n",
    "    Args:\n",
    "        text (str): The input text to generate embeddings for\n",
    "        \n",
    "    Returns:\n",
    "        List[float]: The embedding vector\n",
    "    \"\"\"\n",
    "    response = client.embeddings.create(\n",
    "        model=\"text-embedding-3-large\",\n",
    "        input=text,\n",
    "        dimensions=1024  # Optional: You can specify 256, 512, or 1024 dimensions\n",
    "    )\n",
    "    return response.data[0].embedding\n",
    "\n",
    "def get_batch_embeddings(texts: List[str]) -> List[List[float]]:\n",
    "    \"\"\"\n",
    "    Get embeddings for multiple texts in a single API call.\n",
    "    \n",
    "    Args:\n",
    "        texts (List[str]): List of input texts to generate embeddings for\n",
    "        \n",
    "    Returns:\n",
    "        List[List[float]]: List of embedding vectors\n",
    "    \"\"\"\n",
    "    response = client.embeddings.create(\n",
    "        model=\"text-embedding-3-large\",\n",
    "        input=texts,\n",
    "        dimensions=1024\n",
    "    )\n",
    "    return [item.embedding for item in response.data]"
   ]
  },
  {
   "cell_type": "code",
   "execution_count": 19,
   "metadata": {},
   "outputs": [
    {
     "name": "stderr",
     "output_type": "stream",
     "text": [
      "[nltk_data] Downloading package stopwords to\n",
      "[nltk_data]     C:\\Users\\theod\\AppData\\Roaming\\nltk_data...\n",
      "[nltk_data]   Package stopwords is already up-to-date!\n"
     ]
    }
   ],
   "source": [
    "nltk.download('stopwords')\n",
    "from nltk.corpus import stopwords"
   ]
  },
  {
   "cell_type": "code",
   "execution_count": 20,
   "metadata": {},
   "outputs": [],
   "source": [
    "english_stopwords = stopwords.words('english')\n",
    "def prepText(text_series):\n",
    "    # Step 1: Clean and normalize each text in the series\n",
    "    # - Convert to lowercase\n",
    "    # - Lemmatize each word (convert to base form)\n",
    "    # - Remove stopwords\n",
    "    # - Join words back together with spaces\n",
    "    text_series = text_series.apply(\n",
    "        lambda x: \" \".join(lemmatizer.lemmatize(w.lower()) for w in x.split()\n",
    "                           if w not in english_stopwords))\n",
    "    \n",
    "    # Step 2: Filter out short texts\n",
    "    # Remove any text less than 100 characters as they're likely too short for meaningful analysis\n",
    "    text_series = text_series.apply(lambda x: x if len(x) > 100 else None)\n",
    "    \n",
    "    # Step 3: Remove any null values created by the previous step\n",
    "    text_series = text_series.dropna()\n",
    "    \n",
    "    # Step 4: Count diversity-related terms\n",
    "    # Sum up all instances of diversity-related words (defined in diversity_pattern)\n",
    "    # across all remaining texts in the series\n",
    "    total_diversity_words = sum([len(re.findall(diversity_pattern, text))\n",
    "                                for text in text_series])\n",
    "    \n",
    "    # Return both the cleaned text series and the total count of diversity words\n",
    "    return text_series, total_diversity_words"
   ]
  },
  {
   "cell_type": "code",
   "execution_count": 21,
   "metadata": {},
   "outputs": [],
   "source": [
    "START_YEAR = 2009\n",
    "FINAL_YEAR = 2024"
   ]
  },
  {
   "cell_type": "code",
   "execution_count": 22,
   "metadata": {},
   "outputs": [],
   "source": [
    "year_2024 = df[df.year==2024]\n",
    "clean_df, num_diversity_words = prepText(year_2024.body)\n",
    "wv = get_batch_embeddings(clean_df)"
   ]
  },
  {
   "cell_type": "code",
   "execution_count": 23,
   "metadata": {},
   "outputs": [
    {
     "data": {
      "text/plain": [
       "list"
      ]
     },
     "execution_count": 23,
     "metadata": {},
     "output_type": "execute_result"
    }
   ],
   "source": [
    "type(wv[0])"
   ]
  },
  {
   "cell_type": "code",
   "execution_count": 24,
   "metadata": {},
   "outputs": [],
   "source": [
    "docmatrix = np.array(wv)"
   ]
  },
  {
   "cell_type": "code",
   "execution_count": 25,
   "metadata": {},
   "outputs": [
    {
     "data": {
      "text/plain": [
       "(210, 1024)"
      ]
     },
     "execution_count": 25,
     "metadata": {},
     "output_type": "execute_result"
    }
   ],
   "source": [
    "docmatrix.shape"
   ]
  },
  {
   "cell_type": "code",
   "execution_count": 26,
   "metadata": {},
   "outputs": [
    {
     "name": "stdout",
     "output_type": "stream",
     "text": [
      "3      2024\n",
      "4      2024\n",
      "5      2024\n",
      "6      2024\n",
      "7      2024\n",
      "       ... \n",
      "208    2024\n",
      "209    2024\n",
      "210    2024\n",
      "211    2024\n",
      "212    2024\n",
      "Name: year, Length: 210, dtype: int64, 210, 0.0009770613139068246, 0.2585358161024413\n"
     ]
    }
   ],
   "source": [
    "pairwise = getNormalizedPairwiseDispersion(docmatrix, cosine_distance)\n",
    "cov = getCovDispersion(docmatrix)\n",
    "print(f\"{year_2024.year}, {cov[0]}, {cov[1]}, {pairwise}\")"
   ]
  },
  {
   "cell_type": "code",
   "execution_count": 27,
   "metadata": {},
   "outputs": [
    {
     "name": "stderr",
     "output_type": "stream",
     "text": [
      "[nltk_data] Downloading package vader_lexicon to\n",
      "[nltk_data]     C:\\Users\\theod\\AppData\\Roaming\\nltk_data...\n",
      "[nltk_data]   Package vader_lexicon is already up-to-date!\n"
     ]
    }
   ],
   "source": [
    "# VADER Sentiment Analysis\n",
    "import nltk\n",
    "nltk.download('vader_lexicon')\n",
    "from nltk.sentiment.vader import SentimentIntensityAnalyzer\n",
    "\n",
    "# Initialize the sentiment analyzer\n",
    "sia = SentimentIntensityAnalyzer()"
   ]
  },
  {
   "cell_type": "code",
   "execution_count": 28,
   "metadata": {},
   "outputs": [],
   "source": [
    "def chunk_process_embeddings(clean_df):\n",
    "    \"\"\"\n",
    "    Process embeddings in chunks and combine results.\n",
    "    \n",
    "    Args:\n",
    "        clean_df: pandas Series of cleaned text\n",
    "    \n",
    "    Returns:\n",
    "        List of embeddings\n",
    "    \"\"\"\n",
    "    # Calculate chunk size (divide into 3 equal parts)\n",
    "    chunk_size = len(clean_df) // 3\n",
    "    \n",
    "    # Split into 3 chunks\n",
    "    chunks = [\n",
    "        clean_df[i:i + chunk_size] \n",
    "        for i in range(0, len(clean_df), chunk_size)\n",
    "    ]\n",
    "    \n",
    "    # Process each chunk and combine results\n",
    "    all_embeddings = []\n",
    "    for chunk in chunks:\n",
    "        chunk_embeddings = get_batch_embeddings(chunk)\n",
    "        all_embeddings.extend(chunk_embeddings)\n",
    "    \n",
    "    return all_embeddings"
   ]
  },
  {
   "cell_type": "code",
   "execution_count": 29,
   "metadata": {},
   "outputs": [
    {
     "name": "stdout",
     "output_type": "stream",
     "text": [
      "year        size        trace       pairwise    vader       lexical     alpha       \n",
      "------------------------------------------------------------------------------\n",
      "2009        445         0.001       0.318       0.786       0.250       0.188       \n",
      "2010        429         0.001       0.305       0.770       0.237       0.017       \n",
      "2011        422         0.001       0.322       0.759       0.236       -0.040      \n",
      "2012        415         0.001       0.301       0.834       0.230       0.131       \n",
      "2013        486         0.001       0.327       0.748       0.266       -0.058      \n",
      "2014        487         0.001       0.420       0.523       0.240       -0.015      \n",
      "2015        483         0.001       0.419       0.489       0.195       0.342       \n",
      "2016        411         0.001       0.454       0.593       0.171       -0.006      \n",
      "2017        496         0.001       0.401       0.574       0.076       0.050       \n",
      "2018        422         0.001       0.361       0.646       0.039       0.196       \n",
      "2019        272         0.001       0.292       0.663       0.019       0.105       \n",
      "2020        316         0.001       0.258       0.665       0.033       0.117       \n",
      "2021        248         0.001       0.239       0.671       0.026       0.169       \n",
      "2022        230         0.001       0.280       0.678       0.057       0.023       \n"
     ]
    },
    {
     "ename": "BadRequestError",
     "evalue": "Error code: 400 - {'error': {'message': \"This model's maximum context length is 8192 tokens, however you requested 13380 tokens (13380 in your prompt; 0 for the completion). Please reduce your prompt; or completion length.\", 'type': 'invalid_request_error', 'param': None, 'code': None}}",
     "output_type": "error",
     "traceback": [
      "\u001b[1;31m---------------------------------------------------------------------------\u001b[0m",
      "\u001b[1;31mBadRequestError\u001b[0m                           Traceback (most recent call last)",
      "Cell \u001b[1;32mIn[29], line 9\u001b[0m\n\u001b[0;32m      6\u001b[0m year_df \u001b[38;5;241m=\u001b[39m df[df\u001b[38;5;241m.\u001b[39myear\u001b[38;5;241m==\u001b[39myear]\n\u001b[0;32m      8\u001b[0m clean_df, num_diversity_words \u001b[38;5;241m=\u001b[39m prepText(year_df\u001b[38;5;241m.\u001b[39mbody)\n\u001b[1;32m----> 9\u001b[0m wv \u001b[38;5;241m=\u001b[39m \u001b[43mchunk_process_embeddings\u001b[49m\u001b[43m(\u001b[49m\u001b[43mclean_df\u001b[49m\u001b[43m)\u001b[49m\n\u001b[0;32m     11\u001b[0m docmatrix \u001b[38;5;241m=\u001b[39m np\u001b[38;5;241m.\u001b[39marray(wv)\n\u001b[0;32m     12\u001b[0m pairwise \u001b[38;5;241m=\u001b[39m getNormalizedPairwiseDispersion(docmatrix, cosine_distance)\n",
      "Cell \u001b[1;32mIn[28], line 23\u001b[0m, in \u001b[0;36mchunk_process_embeddings\u001b[1;34m(clean_df)\u001b[0m\n\u001b[0;32m     21\u001b[0m all_embeddings \u001b[38;5;241m=\u001b[39m []\n\u001b[0;32m     22\u001b[0m \u001b[38;5;28;01mfor\u001b[39;00m chunk \u001b[38;5;129;01min\u001b[39;00m chunks:\n\u001b[1;32m---> 23\u001b[0m     chunk_embeddings \u001b[38;5;241m=\u001b[39m \u001b[43mget_batch_embeddings\u001b[49m\u001b[43m(\u001b[49m\u001b[43mchunk\u001b[49m\u001b[43m)\u001b[49m\n\u001b[0;32m     24\u001b[0m     all_embeddings\u001b[38;5;241m.\u001b[39mextend(chunk_embeddings)\n\u001b[0;32m     26\u001b[0m \u001b[38;5;28;01mreturn\u001b[39;00m all_embeddings\n",
      "Cell \u001b[1;32mIn[18], line 28\u001b[0m, in \u001b[0;36mget_batch_embeddings\u001b[1;34m(texts)\u001b[0m\n\u001b[0;32m     18\u001b[0m \u001b[38;5;28;01mdef\u001b[39;00m \u001b[38;5;21mget_batch_embeddings\u001b[39m(texts: List[\u001b[38;5;28mstr\u001b[39m]) \u001b[38;5;241m-\u001b[39m\u001b[38;5;241m>\u001b[39m List[List[\u001b[38;5;28mfloat\u001b[39m]]:\n\u001b[0;32m     19\u001b[0m \u001b[38;5;250m    \u001b[39m\u001b[38;5;124;03m\"\"\"\u001b[39;00m\n\u001b[0;32m     20\u001b[0m \u001b[38;5;124;03m    Get embeddings for multiple texts in a single API call.\u001b[39;00m\n\u001b[0;32m     21\u001b[0m \u001b[38;5;124;03m    \u001b[39;00m\n\u001b[1;32m   (...)\u001b[0m\n\u001b[0;32m     26\u001b[0m \u001b[38;5;124;03m        List[List[float]]: List of embedding vectors\u001b[39;00m\n\u001b[0;32m     27\u001b[0m \u001b[38;5;124;03m    \"\"\"\u001b[39;00m\n\u001b[1;32m---> 28\u001b[0m     response \u001b[38;5;241m=\u001b[39m \u001b[43mclient\u001b[49m\u001b[38;5;241;43m.\u001b[39;49m\u001b[43membeddings\u001b[49m\u001b[38;5;241;43m.\u001b[39;49m\u001b[43mcreate\u001b[49m\u001b[43m(\u001b[49m\n\u001b[0;32m     29\u001b[0m \u001b[43m        \u001b[49m\u001b[43mmodel\u001b[49m\u001b[38;5;241;43m=\u001b[39;49m\u001b[38;5;124;43m\"\u001b[39;49m\u001b[38;5;124;43mtext-embedding-3-large\u001b[39;49m\u001b[38;5;124;43m\"\u001b[39;49m\u001b[43m,\u001b[49m\n\u001b[0;32m     30\u001b[0m \u001b[43m        \u001b[49m\u001b[38;5;28;43minput\u001b[39;49m\u001b[38;5;241;43m=\u001b[39;49m\u001b[43mtexts\u001b[49m\u001b[43m,\u001b[49m\n\u001b[0;32m     31\u001b[0m \u001b[43m        \u001b[49m\u001b[43mdimensions\u001b[49m\u001b[38;5;241;43m=\u001b[39;49m\u001b[38;5;241;43m1024\u001b[39;49m\n\u001b[0;32m     32\u001b[0m \u001b[43m    \u001b[49m\u001b[43m)\u001b[49m\n\u001b[0;32m     33\u001b[0m     \u001b[38;5;28;01mreturn\u001b[39;00m [item\u001b[38;5;241m.\u001b[39membedding \u001b[38;5;28;01mfor\u001b[39;00m item \u001b[38;5;129;01min\u001b[39;00m response\u001b[38;5;241m.\u001b[39mdata]\n",
      "File \u001b[1;32mc:\\Users\\theod\\OneDrive\\dev\\diversity-ideas\\.venv\\Lib\\site-packages\\openai\\resources\\embeddings.py:124\u001b[0m, in \u001b[0;36mEmbeddings.create\u001b[1;34m(self, input, model, dimensions, encoding_format, user, extra_headers, extra_query, extra_body, timeout)\u001b[0m\n\u001b[0;32m    118\u001b[0m         embedding\u001b[38;5;241m.\u001b[39membedding \u001b[38;5;241m=\u001b[39m np\u001b[38;5;241m.\u001b[39mfrombuffer(  \u001b[38;5;66;03m# type: ignore[no-untyped-call]\u001b[39;00m\n\u001b[0;32m    119\u001b[0m             base64\u001b[38;5;241m.\u001b[39mb64decode(data), dtype\u001b[38;5;241m=\u001b[39m\u001b[38;5;124m\"\u001b[39m\u001b[38;5;124mfloat32\u001b[39m\u001b[38;5;124m\"\u001b[39m\n\u001b[0;32m    120\u001b[0m         )\u001b[38;5;241m.\u001b[39mtolist()\n\u001b[0;32m    122\u001b[0m     \u001b[38;5;28;01mreturn\u001b[39;00m obj\n\u001b[1;32m--> 124\u001b[0m \u001b[38;5;28;01mreturn\u001b[39;00m \u001b[38;5;28;43mself\u001b[39;49m\u001b[38;5;241;43m.\u001b[39;49m\u001b[43m_post\u001b[49m\u001b[43m(\u001b[49m\n\u001b[0;32m    125\u001b[0m \u001b[43m    \u001b[49m\u001b[38;5;124;43m\"\u001b[39;49m\u001b[38;5;124;43m/embeddings\u001b[39;49m\u001b[38;5;124;43m\"\u001b[39;49m\u001b[43m,\u001b[49m\n\u001b[0;32m    126\u001b[0m \u001b[43m    \u001b[49m\u001b[43mbody\u001b[49m\u001b[38;5;241;43m=\u001b[39;49m\u001b[43mmaybe_transform\u001b[49m\u001b[43m(\u001b[49m\u001b[43mparams\u001b[49m\u001b[43m,\u001b[49m\u001b[43m \u001b[49m\u001b[43membedding_create_params\u001b[49m\u001b[38;5;241;43m.\u001b[39;49m\u001b[43mEmbeddingCreateParams\u001b[49m\u001b[43m)\u001b[49m\u001b[43m,\u001b[49m\n\u001b[0;32m    127\u001b[0m \u001b[43m    \u001b[49m\u001b[43moptions\u001b[49m\u001b[38;5;241;43m=\u001b[39;49m\u001b[43mmake_request_options\u001b[49m\u001b[43m(\u001b[49m\n\u001b[0;32m    128\u001b[0m \u001b[43m        \u001b[49m\u001b[43mextra_headers\u001b[49m\u001b[38;5;241;43m=\u001b[39;49m\u001b[43mextra_headers\u001b[49m\u001b[43m,\u001b[49m\n\u001b[0;32m    129\u001b[0m \u001b[43m        \u001b[49m\u001b[43mextra_query\u001b[49m\u001b[38;5;241;43m=\u001b[39;49m\u001b[43mextra_query\u001b[49m\u001b[43m,\u001b[49m\n\u001b[0;32m    130\u001b[0m \u001b[43m        \u001b[49m\u001b[43mextra_body\u001b[49m\u001b[38;5;241;43m=\u001b[39;49m\u001b[43mextra_body\u001b[49m\u001b[43m,\u001b[49m\n\u001b[0;32m    131\u001b[0m \u001b[43m        \u001b[49m\u001b[43mtimeout\u001b[49m\u001b[38;5;241;43m=\u001b[39;49m\u001b[43mtimeout\u001b[49m\u001b[43m,\u001b[49m\n\u001b[0;32m    132\u001b[0m \u001b[43m        \u001b[49m\u001b[43mpost_parser\u001b[49m\u001b[38;5;241;43m=\u001b[39;49m\u001b[43mparser\u001b[49m\u001b[43m,\u001b[49m\n\u001b[0;32m    133\u001b[0m \u001b[43m    \u001b[49m\u001b[43m)\u001b[49m\u001b[43m,\u001b[49m\n\u001b[0;32m    134\u001b[0m \u001b[43m    \u001b[49m\u001b[43mcast_to\u001b[49m\u001b[38;5;241;43m=\u001b[39;49m\u001b[43mCreateEmbeddingResponse\u001b[49m\u001b[43m,\u001b[49m\n\u001b[0;32m    135\u001b[0m \u001b[43m\u001b[49m\u001b[43m)\u001b[49m\n",
      "File \u001b[1;32mc:\\Users\\theod\\OneDrive\\dev\\diversity-ideas\\.venv\\Lib\\site-packages\\openai\\_base_client.py:1280\u001b[0m, in \u001b[0;36mSyncAPIClient.post\u001b[1;34m(self, path, cast_to, body, options, files, stream, stream_cls)\u001b[0m\n\u001b[0;32m   1266\u001b[0m \u001b[38;5;28;01mdef\u001b[39;00m \u001b[38;5;21mpost\u001b[39m(\n\u001b[0;32m   1267\u001b[0m     \u001b[38;5;28mself\u001b[39m,\n\u001b[0;32m   1268\u001b[0m     path: \u001b[38;5;28mstr\u001b[39m,\n\u001b[1;32m   (...)\u001b[0m\n\u001b[0;32m   1275\u001b[0m     stream_cls: \u001b[38;5;28mtype\u001b[39m[_StreamT] \u001b[38;5;241m|\u001b[39m \u001b[38;5;28;01mNone\u001b[39;00m \u001b[38;5;241m=\u001b[39m \u001b[38;5;28;01mNone\u001b[39;00m,\n\u001b[0;32m   1276\u001b[0m ) \u001b[38;5;241m-\u001b[39m\u001b[38;5;241m>\u001b[39m ResponseT \u001b[38;5;241m|\u001b[39m _StreamT:\n\u001b[0;32m   1277\u001b[0m     opts \u001b[38;5;241m=\u001b[39m FinalRequestOptions\u001b[38;5;241m.\u001b[39mconstruct(\n\u001b[0;32m   1278\u001b[0m         method\u001b[38;5;241m=\u001b[39m\u001b[38;5;124m\"\u001b[39m\u001b[38;5;124mpost\u001b[39m\u001b[38;5;124m\"\u001b[39m, url\u001b[38;5;241m=\u001b[39mpath, json_data\u001b[38;5;241m=\u001b[39mbody, files\u001b[38;5;241m=\u001b[39mto_httpx_files(files), \u001b[38;5;241m*\u001b[39m\u001b[38;5;241m*\u001b[39moptions\n\u001b[0;32m   1279\u001b[0m     )\n\u001b[1;32m-> 1280\u001b[0m     \u001b[38;5;28;01mreturn\u001b[39;00m cast(ResponseT, \u001b[38;5;28;43mself\u001b[39;49m\u001b[38;5;241;43m.\u001b[39;49m\u001b[43mrequest\u001b[49m\u001b[43m(\u001b[49m\u001b[43mcast_to\u001b[49m\u001b[43m,\u001b[49m\u001b[43m \u001b[49m\u001b[43mopts\u001b[49m\u001b[43m,\u001b[49m\u001b[43m \u001b[49m\u001b[43mstream\u001b[49m\u001b[38;5;241;43m=\u001b[39;49m\u001b[43mstream\u001b[49m\u001b[43m,\u001b[49m\u001b[43m \u001b[49m\u001b[43mstream_cls\u001b[49m\u001b[38;5;241;43m=\u001b[39;49m\u001b[43mstream_cls\u001b[49m\u001b[43m)\u001b[49m)\n",
      "File \u001b[1;32mc:\\Users\\theod\\OneDrive\\dev\\diversity-ideas\\.venv\\Lib\\site-packages\\openai\\_base_client.py:957\u001b[0m, in \u001b[0;36mSyncAPIClient.request\u001b[1;34m(self, cast_to, options, remaining_retries, stream, stream_cls)\u001b[0m\n\u001b[0;32m    954\u001b[0m \u001b[38;5;28;01melse\u001b[39;00m:\n\u001b[0;32m    955\u001b[0m     retries_taken \u001b[38;5;241m=\u001b[39m \u001b[38;5;241m0\u001b[39m\n\u001b[1;32m--> 957\u001b[0m \u001b[38;5;28;01mreturn\u001b[39;00m \u001b[38;5;28;43mself\u001b[39;49m\u001b[38;5;241;43m.\u001b[39;49m\u001b[43m_request\u001b[49m\u001b[43m(\u001b[49m\n\u001b[0;32m    958\u001b[0m \u001b[43m    \u001b[49m\u001b[43mcast_to\u001b[49m\u001b[38;5;241;43m=\u001b[39;49m\u001b[43mcast_to\u001b[49m\u001b[43m,\u001b[49m\n\u001b[0;32m    959\u001b[0m \u001b[43m    \u001b[49m\u001b[43moptions\u001b[49m\u001b[38;5;241;43m=\u001b[39;49m\u001b[43moptions\u001b[49m\u001b[43m,\u001b[49m\n\u001b[0;32m    960\u001b[0m \u001b[43m    \u001b[49m\u001b[43mstream\u001b[49m\u001b[38;5;241;43m=\u001b[39;49m\u001b[43mstream\u001b[49m\u001b[43m,\u001b[49m\n\u001b[0;32m    961\u001b[0m \u001b[43m    \u001b[49m\u001b[43mstream_cls\u001b[49m\u001b[38;5;241;43m=\u001b[39;49m\u001b[43mstream_cls\u001b[49m\u001b[43m,\u001b[49m\n\u001b[0;32m    962\u001b[0m \u001b[43m    \u001b[49m\u001b[43mretries_taken\u001b[49m\u001b[38;5;241;43m=\u001b[39;49m\u001b[43mretries_taken\u001b[49m\u001b[43m,\u001b[49m\n\u001b[0;32m    963\u001b[0m \u001b[43m\u001b[49m\u001b[43m)\u001b[49m\n",
      "File \u001b[1;32mc:\\Users\\theod\\OneDrive\\dev\\diversity-ideas\\.venv\\Lib\\site-packages\\openai\\_base_client.py:1061\u001b[0m, in \u001b[0;36mSyncAPIClient._request\u001b[1;34m(self, cast_to, options, retries_taken, stream, stream_cls)\u001b[0m\n\u001b[0;32m   1058\u001b[0m         err\u001b[38;5;241m.\u001b[39mresponse\u001b[38;5;241m.\u001b[39mread()\n\u001b[0;32m   1060\u001b[0m     log\u001b[38;5;241m.\u001b[39mdebug(\u001b[38;5;124m\"\u001b[39m\u001b[38;5;124mRe-raising status error\u001b[39m\u001b[38;5;124m\"\u001b[39m)\n\u001b[1;32m-> 1061\u001b[0m     \u001b[38;5;28;01mraise\u001b[39;00m \u001b[38;5;28mself\u001b[39m\u001b[38;5;241m.\u001b[39m_make_status_error_from_response(err\u001b[38;5;241m.\u001b[39mresponse) \u001b[38;5;28;01mfrom\u001b[39;00m \u001b[38;5;28;01mNone\u001b[39;00m\n\u001b[0;32m   1063\u001b[0m \u001b[38;5;28;01mreturn\u001b[39;00m \u001b[38;5;28mself\u001b[39m\u001b[38;5;241m.\u001b[39m_process_response(\n\u001b[0;32m   1064\u001b[0m     cast_to\u001b[38;5;241m=\u001b[39mcast_to,\n\u001b[0;32m   1065\u001b[0m     options\u001b[38;5;241m=\u001b[39moptions,\n\u001b[1;32m   (...)\u001b[0m\n\u001b[0;32m   1069\u001b[0m     retries_taken\u001b[38;5;241m=\u001b[39mretries_taken,\n\u001b[0;32m   1070\u001b[0m )\n",
      "\u001b[1;31mBadRequestError\u001b[0m: Error code: 400 - {'error': {'message': \"This model's maximum context length is 8192 tokens, however you requested 13380 tokens (13380 in your prompt; 0 for the completion). Please reduce your prompt; or completion length.\", 'type': 'invalid_request_error', 'param': None, 'code': None}}"
     ]
    }
   ],
   "source": [
    "results = []\n",
    "print(f\"{'year':<12}{'size':<12}{'trace':<12}{'pairwise':<12}{'vader':<12}{'lexical':<12}{'alpha':<12}\")\n",
    "print(\"-\"*78)\n",
    "LIWC_SCORE_NAME = \"cinicism_lexical\"\n",
    "for year in range(START_YEAR, FINAL_YEAR+1):\n",
    "    year_df = df[df.year==year]\n",
    "    \n",
    "    clean_df, num_diversity_words = prepText(year_df.body)\n",
    "    wv = chunk_process_embeddings(clean_df)\n",
    "    \n",
    "    docmatrix = np.array(wv)\n",
    "    pairwise = getNormalizedPairwiseDispersion(docmatrix, cosine_distance)\n",
    "    cov = getCovDispersion(docmatrix)\n",
    "    \n",
    "    # -------------- VADER: Sentiment Analysis ----------------- #\n",
    "    pos_scores = []\n",
    "    neg_scores = []\n",
    "    neu_scores = []\n",
    "    compound_scores = []\n",
    "    \n",
    "    for text in clean_df:\n",
    "        sentiment_scores = sia.polarity_scores(text)\n",
    "        pos_scores.append(sentiment_scores['pos'])\n",
    "        neg_scores.append(sentiment_scores['neg'])\n",
    "        neu_scores.append(sentiment_scores['neu'])\n",
    "        compound_scores.append(sentiment_scores['compound']) \n",
    " \n",
    "    # --------------- LIWC: Lexical Analysis -------------------- #\n",
    "    temp_df = clean_df.copy()\n",
    "    \n",
    "    # Apply LIWC analysis and convert results to separate columns\n",
    "    liwc_scores = temp_df.apply(liwc_analysis)\n",
    "\n",
    "    # Convert the series of dictionaries to a DataFrame\n",
    "    liwc_columns = pd.DataFrame.from_records(liwc_scores.values)\n",
    "    \n",
    "    # Combine with original DataFrame\n",
    "    temp_df = pd.DataFrame(temp_df, columns=['text'])\n",
    "    liwc_df = pd.concat([temp_df, liwc_columns], axis=1)\n",
    "    alpha = cronbach_alpha(liwc_df)\n",
    "    \n",
    "    # Calculate cynicism score\n",
    "    liwc_df[LIWC_SCORE_NAME] = liwc_df.apply(compute_cynicism_score, axis=1)\n",
    "    sum_liwc_score = liwc_df[LIWC_SCORE_NAME].sum()\n",
    "    \n",
    "    result = {'year':     year,\n",
    "              'pairwise': pairwise,\n",
    "              'size':     cov[0],\n",
    "              'trace':    cov[1],\n",
    "              'norm-1':   cov[2],\n",
    "              'norm-2':   cov[3],\n",
    "              'norm-inf': cov[4],\n",
    "              'diversity-words': num_diversity_words,\n",
    "              'mentions-norm'  : num_diversity_words/cov[0],\n",
    "              'pos': sum(pos_scores) / len(pos_scores),\n",
    "              'neg': sum(neg_scores) / len(neg_scores),\n",
    "              'neu': sum(neu_scores) / len(neu_scores),\n",
    "              'vader': sum(compound_scores) / len(compound_scores),\n",
    "              'lexical': sum_liwc_score,\n",
    "              'alpha': alpha\n",
    "    }\n",
    "    results.append(result)\n",
    "    \n",
    "    print(f\"{year:<12}{cov[0]:<12}{cov[1]:<12.3f}{pairwise:<12.3f}{result['vader']:<12.3f}{result['lexical']:<12.3f}{result['alpha']:<12.3f}\")"
   ]
  },
  {
   "cell_type": "code",
   "execution_count": 30,
   "metadata": {},
   "outputs": [
    {
     "data": {
      "text/html": [
       "<div>\n",
       "<style scoped>\n",
       "    .dataframe tbody tr th:only-of-type {\n",
       "        vertical-align: middle;\n",
       "    }\n",
       "\n",
       "    .dataframe tbody tr th {\n",
       "        vertical-align: top;\n",
       "    }\n",
       "\n",
       "    .dataframe thead th {\n",
       "        text-align: right;\n",
       "    }\n",
       "</style>\n",
       "<table border=\"1\" class=\"dataframe\">\n",
       "  <thead>\n",
       "    <tr style=\"text-align: right;\">\n",
       "      <th></th>\n",
       "      <th>pairwise</th>\n",
       "      <th>size</th>\n",
       "      <th>trace</th>\n",
       "      <th>norm-1</th>\n",
       "      <th>norm-2</th>\n",
       "      <th>norm-inf</th>\n",
       "      <th>diversity-words</th>\n",
       "      <th>mentions-norm</th>\n",
       "      <th>pos</th>\n",
       "      <th>neg</th>\n",
       "      <th>neu</th>\n",
       "      <th>vader</th>\n",
       "      <th>lexical</th>\n",
       "      <th>alpha</th>\n",
       "    </tr>\n",
       "    <tr>\n",
       "      <th>year</th>\n",
       "      <th></th>\n",
       "      <th></th>\n",
       "      <th></th>\n",
       "      <th></th>\n",
       "      <th></th>\n",
       "      <th></th>\n",
       "      <th></th>\n",
       "      <th></th>\n",
       "      <th></th>\n",
       "      <th></th>\n",
       "      <th></th>\n",
       "      <th></th>\n",
       "      <th></th>\n",
       "      <th></th>\n",
       "    </tr>\n",
       "  </thead>\n",
       "  <tbody>\n",
       "    <tr>\n",
       "      <th>2009</th>\n",
       "      <td>0.532354</td>\n",
       "      <td>340</td>\n",
       "      <td>0.000977</td>\n",
       "      <td>0.000554</td>\n",
       "      <td>0.000464</td>\n",
       "      <td>0.000554</td>\n",
       "      <td>92</td>\n",
       "      <td>0.270588</td>\n",
       "      <td>0.183318</td>\n",
       "      <td>0.108606</td>\n",
       "      <td>0.708074</td>\n",
       "      <td>0.609902</td>\n",
       "      <td>0.0166</td>\n",
       "      <td>0.015855</td>\n",
       "    </tr>\n",
       "    <tr>\n",
       "      <th>2010</th>\n",
       "      <td>0.512260</td>\n",
       "      <td>371</td>\n",
       "      <td>0.000977</td>\n",
       "      <td>0.000584</td>\n",
       "      <td>0.000485</td>\n",
       "      <td>0.000584</td>\n",
       "      <td>94</td>\n",
       "      <td>0.253369</td>\n",
       "      <td>0.179404</td>\n",
       "      <td>0.111105</td>\n",
       "      <td>0.709453</td>\n",
       "      <td>0.543613</td>\n",
       "      <td>0.0321</td>\n",
       "      <td>-0.067894</td>\n",
       "    </tr>\n",
       "    <tr>\n",
       "      <th>2011</th>\n",
       "      <td>0.531752</td>\n",
       "      <td>338</td>\n",
       "      <td>0.000977</td>\n",
       "      <td>0.000552</td>\n",
       "      <td>0.000465</td>\n",
       "      <td>0.000552</td>\n",
       "      <td>160</td>\n",
       "      <td>0.473373</td>\n",
       "      <td>0.180929</td>\n",
       "      <td>0.122444</td>\n",
       "      <td>0.696612</td>\n",
       "      <td>0.479181</td>\n",
       "      <td>0.0288</td>\n",
       "      <td>0.083820</td>\n",
       "    </tr>\n",
       "    <tr>\n",
       "      <th>2012</th>\n",
       "      <td>0.560321</td>\n",
       "      <td>359</td>\n",
       "      <td>0.000977</td>\n",
       "      <td>0.000535</td>\n",
       "      <td>0.000436</td>\n",
       "      <td>0.000535</td>\n",
       "      <td>164</td>\n",
       "      <td>0.456825</td>\n",
       "      <td>0.173240</td>\n",
       "      <td>0.113638</td>\n",
       "      <td>0.713156</td>\n",
       "      <td>0.485709</td>\n",
       "      <td>0.0347</td>\n",
       "      <td>0.133900</td>\n",
       "    </tr>\n",
       "    <tr>\n",
       "      <th>2013</th>\n",
       "      <td>0.529634</td>\n",
       "      <td>139</td>\n",
       "      <td>0.000977</td>\n",
       "      <td>0.000563</td>\n",
       "      <td>0.000470</td>\n",
       "      <td>0.000563</td>\n",
       "      <td>50</td>\n",
       "      <td>0.359712</td>\n",
       "      <td>0.178086</td>\n",
       "      <td>0.117302</td>\n",
       "      <td>0.704597</td>\n",
       "      <td>0.532030</td>\n",
       "      <td>0.0021</td>\n",
       "      <td>0.055486</td>\n",
       "    </tr>\n",
       "    <tr>\n",
       "      <th>2014</th>\n",
       "      <td>0.501158</td>\n",
       "      <td>341</td>\n",
       "      <td>0.000977</td>\n",
       "      <td>0.000581</td>\n",
       "      <td>0.000496</td>\n",
       "      <td>0.000581</td>\n",
       "      <td>200</td>\n",
       "      <td>0.586510</td>\n",
       "      <td>0.171557</td>\n",
       "      <td>0.111238</td>\n",
       "      <td>0.717185</td>\n",
       "      <td>0.461246</td>\n",
       "      <td>0.0408</td>\n",
       "      <td>0.120574</td>\n",
       "    </tr>\n",
       "    <tr>\n",
       "      <th>2015</th>\n",
       "      <td>0.534605</td>\n",
       "      <td>323</td>\n",
       "      <td>0.000977</td>\n",
       "      <td>0.000559</td>\n",
       "      <td>0.000464</td>\n",
       "      <td>0.000559</td>\n",
       "      <td>167</td>\n",
       "      <td>0.517028</td>\n",
       "      <td>0.170814</td>\n",
       "      <td>0.113712</td>\n",
       "      <td>0.715467</td>\n",
       "      <td>0.431733</td>\n",
       "      <td>0.0345</td>\n",
       "      <td>0.137114</td>\n",
       "    </tr>\n",
       "    <tr>\n",
       "      <th>2016</th>\n",
       "      <td>0.541510</td>\n",
       "      <td>274</td>\n",
       "      <td>0.000977</td>\n",
       "      <td>0.000548</td>\n",
       "      <td>0.000455</td>\n",
       "      <td>0.000548</td>\n",
       "      <td>211</td>\n",
       "      <td>0.770073</td>\n",
       "      <td>0.178828</td>\n",
       "      <td>0.111088</td>\n",
       "      <td>0.710058</td>\n",
       "      <td>0.579424</td>\n",
       "      <td>0.0370</td>\n",
       "      <td>0.200777</td>\n",
       "    </tr>\n",
       "    <tr>\n",
       "      <th>2017</th>\n",
       "      <td>0.567258</td>\n",
       "      <td>298</td>\n",
       "      <td>0.000977</td>\n",
       "      <td>0.000522</td>\n",
       "      <td>0.000431</td>\n",
       "      <td>0.000522</td>\n",
       "      <td>187</td>\n",
       "      <td>0.627517</td>\n",
       "      <td>0.172111</td>\n",
       "      <td>0.111003</td>\n",
       "      <td>0.716856</td>\n",
       "      <td>0.505471</td>\n",
       "      <td>0.0754</td>\n",
       "      <td>0.042566</td>\n",
       "    </tr>\n",
       "    <tr>\n",
       "      <th>2018</th>\n",
       "      <td>0.599366</td>\n",
       "      <td>333</td>\n",
       "      <td>0.000977</td>\n",
       "      <td>0.000508</td>\n",
       "      <td>0.000402</td>\n",
       "      <td>0.000508</td>\n",
       "      <td>143</td>\n",
       "      <td>0.429429</td>\n",
       "      <td>0.155441</td>\n",
       "      <td>0.100847</td>\n",
       "      <td>0.743688</td>\n",
       "      <td>0.409237</td>\n",
       "      <td>0.0573</td>\n",
       "      <td>0.334974</td>\n",
       "    </tr>\n",
       "    <tr>\n",
       "      <th>2019</th>\n",
       "      <td>0.607820</td>\n",
       "      <td>282</td>\n",
       "      <td>0.000977</td>\n",
       "      <td>0.000480</td>\n",
       "      <td>0.000396</td>\n",
       "      <td>0.000480</td>\n",
       "      <td>197</td>\n",
       "      <td>0.698582</td>\n",
       "      <td>0.161599</td>\n",
       "      <td>0.105135</td>\n",
       "      <td>0.733262</td>\n",
       "      <td>0.428811</td>\n",
       "      <td>0.0404</td>\n",
       "      <td>0.055966</td>\n",
       "    </tr>\n",
       "    <tr>\n",
       "      <th>2020</th>\n",
       "      <td>0.567465</td>\n",
       "      <td>204</td>\n",
       "      <td>0.000977</td>\n",
       "      <td>0.000536</td>\n",
       "      <td>0.000436</td>\n",
       "      <td>0.000536</td>\n",
       "      <td>110</td>\n",
       "      <td>0.539216</td>\n",
       "      <td>0.155235</td>\n",
       "      <td>0.113951</td>\n",
       "      <td>0.730863</td>\n",
       "      <td>0.367888</td>\n",
       "      <td>0.0238</td>\n",
       "      <td>0.152300</td>\n",
       "    </tr>\n",
       "    <tr>\n",
       "      <th>2021</th>\n",
       "      <td>0.533071</td>\n",
       "      <td>182</td>\n",
       "      <td>0.000977</td>\n",
       "      <td>0.000569</td>\n",
       "      <td>0.000471</td>\n",
       "      <td>0.000569</td>\n",
       "      <td>122</td>\n",
       "      <td>0.670330</td>\n",
       "      <td>0.136786</td>\n",
       "      <td>0.099505</td>\n",
       "      <td>0.763736</td>\n",
       "      <td>0.355423</td>\n",
       "      <td>0.0176</td>\n",
       "      <td>0.160333</td>\n",
       "    </tr>\n",
       "    <tr>\n",
       "      <th>2022</th>\n",
       "      <td>0.566487</td>\n",
       "      <td>155</td>\n",
       "      <td>0.000977</td>\n",
       "      <td>0.000533</td>\n",
       "      <td>0.000439</td>\n",
       "      <td>0.000533</td>\n",
       "      <td>70</td>\n",
       "      <td>0.451613</td>\n",
       "      <td>0.141265</td>\n",
       "      <td>0.089794</td>\n",
       "      <td>0.768935</td>\n",
       "      <td>0.405231</td>\n",
       "      <td>0.0355</td>\n",
       "      <td>0.004015</td>\n",
       "    </tr>\n",
       "    <tr>\n",
       "      <th>2023</th>\n",
       "      <td>0.540034</td>\n",
       "      <td>190</td>\n",
       "      <td>0.000977</td>\n",
       "      <td>0.000552</td>\n",
       "      <td>0.000462</td>\n",
       "      <td>0.000552</td>\n",
       "      <td>167</td>\n",
       "      <td>0.878947</td>\n",
       "      <td>0.145526</td>\n",
       "      <td>0.092405</td>\n",
       "      <td>0.762011</td>\n",
       "      <td>0.471815</td>\n",
       "      <td>0.0429</td>\n",
       "      <td>-0.015220</td>\n",
       "    </tr>\n",
       "    <tr>\n",
       "      <th>2024</th>\n",
       "      <td>0.470378</td>\n",
       "      <td>173</td>\n",
       "      <td>0.000977</td>\n",
       "      <td>0.000617</td>\n",
       "      <td>0.000527</td>\n",
       "      <td>0.000617</td>\n",
       "      <td>125</td>\n",
       "      <td>0.722543</td>\n",
       "      <td>0.156428</td>\n",
       "      <td>0.112416</td>\n",
       "      <td>0.731173</td>\n",
       "      <td>0.337679</td>\n",
       "      <td>0.0149</td>\n",
       "      <td>0.048550</td>\n",
       "    </tr>\n",
       "  </tbody>\n",
       "</table>\n",
       "</div>"
      ],
      "text/plain": [
       "      pairwise  size     trace    norm-1    norm-2  norm-inf  diversity-words  \\\n",
       "year                                                                            \n",
       "2009  0.532354   340  0.000977  0.000554  0.000464  0.000554               92   \n",
       "2010  0.512260   371  0.000977  0.000584  0.000485  0.000584               94   \n",
       "2011  0.531752   338  0.000977  0.000552  0.000465  0.000552              160   \n",
       "2012  0.560321   359  0.000977  0.000535  0.000436  0.000535              164   \n",
       "2013  0.529634   139  0.000977  0.000563  0.000470  0.000563               50   \n",
       "2014  0.501158   341  0.000977  0.000581  0.000496  0.000581              200   \n",
       "2015  0.534605   323  0.000977  0.000559  0.000464  0.000559              167   \n",
       "2016  0.541510   274  0.000977  0.000548  0.000455  0.000548              211   \n",
       "2017  0.567258   298  0.000977  0.000522  0.000431  0.000522              187   \n",
       "2018  0.599366   333  0.000977  0.000508  0.000402  0.000508              143   \n",
       "2019  0.607820   282  0.000977  0.000480  0.000396  0.000480              197   \n",
       "2020  0.567465   204  0.000977  0.000536  0.000436  0.000536              110   \n",
       "2021  0.533071   182  0.000977  0.000569  0.000471  0.000569              122   \n",
       "2022  0.566487   155  0.000977  0.000533  0.000439  0.000533               70   \n",
       "2023  0.540034   190  0.000977  0.000552  0.000462  0.000552              167   \n",
       "2024  0.470378   173  0.000977  0.000617  0.000527  0.000617              125   \n",
       "\n",
       "      mentions-norm       pos       neg       neu     vader  lexical     alpha  \n",
       "year                                                                            \n",
       "2009       0.270588  0.183318  0.108606  0.708074  0.609902   0.0166  0.015855  \n",
       "2010       0.253369  0.179404  0.111105  0.709453  0.543613   0.0321 -0.067894  \n",
       "2011       0.473373  0.180929  0.122444  0.696612  0.479181   0.0288  0.083820  \n",
       "2012       0.456825  0.173240  0.113638  0.713156  0.485709   0.0347  0.133900  \n",
       "2013       0.359712  0.178086  0.117302  0.704597  0.532030   0.0021  0.055486  \n",
       "2014       0.586510  0.171557  0.111238  0.717185  0.461246   0.0408  0.120574  \n",
       "2015       0.517028  0.170814  0.113712  0.715467  0.431733   0.0345  0.137114  \n",
       "2016       0.770073  0.178828  0.111088  0.710058  0.579424   0.0370  0.200777  \n",
       "2017       0.627517  0.172111  0.111003  0.716856  0.505471   0.0754  0.042566  \n",
       "2018       0.429429  0.155441  0.100847  0.743688  0.409237   0.0573  0.334974  \n",
       "2019       0.698582  0.161599  0.105135  0.733262  0.428811   0.0404  0.055966  \n",
       "2020       0.539216  0.155235  0.113951  0.730863  0.367888   0.0238  0.152300  \n",
       "2021       0.670330  0.136786  0.099505  0.763736  0.355423   0.0176  0.160333  \n",
       "2022       0.451613  0.141265  0.089794  0.768935  0.405231   0.0355  0.004015  \n",
       "2023       0.878947  0.145526  0.092405  0.762011  0.471815   0.0429 -0.015220  \n",
       "2024       0.722543  0.156428  0.112416  0.731173  0.337679   0.0149  0.048550  "
      ]
     },
     "execution_count": 30,
     "metadata": {},
     "output_type": "execute_result"
    }
   ],
   "source": [
    "results_df = pd.DataFrame.from_records(results)\n",
    "results_df.set_index('year')"
   ]
  },
  {
   "cell_type": "markdown",
   "metadata": {},
   "source": [
    "### Regress Goodness of Fit: Pairwise Dispersion\n"
   ]
  },
  {
   "cell_type": "code",
   "execution_count": 31,
   "metadata": {},
   "outputs": [
    {
     "data": {
      "image/png": "[encoded data removed]",
      "text/plain": [
       "<Figure size 640x480 with 1 Axes>"
      ]
     },
     "metadata": {},
     "output_type": "display_data"
    }
   ],
   "source": [
    "import matplotlib.pyplot as plt\n",
    "from scipy.stats import linregress\n",
    "\n",
    "x = results_df['year']\n",
    "y = results_df['pairwise']\n",
    "\n",
    "slope, intercept, r_value, p_value, std_err = linregress(x, y)\n",
    "\n",
    "results_df.plot(x=\"year\", y=\"pairwise\", kind=\"scatter\")\n",
    "\n",
    "plt.plot(x, intercept + slope*x, 'b:', label='fitted regression')\n",
    "\n",
    "plt.title(\"Dartmouth Opinions by year: Pairwise Dispersion\")\n",
    "plt.legend(loc='upper right')\n",
    "plt.ylim(min(y)*0.95, max(y)*1.05)\n",
    "plt.show()"
   ]
  },
  {
   "cell_type": "markdown",
   "metadata": {},
   "source": [
    "### Regress Goodness of Fit: VADER Sentiment Analysis\n"
   ]
  },
  {
   "cell_type": "code",
   "execution_count": 32,
   "metadata": {},
   "outputs": [
    {
     "data": {
      "image/png": "[encoded data removed]",
      "text/plain": [
       "<Figure size 640x480 with 1 Axes>"
      ]
     },
     "metadata": {},
     "output_type": "display_data"
    }
   ],
   "source": [
    "x = results_df['year']\n",
    "y = results_df['vader']\n",
    "\n",
    "slope, intercept, r_value, p_value, std_err = linregress(x, y)\n",
    "\n",
    "results_df.plot(x=\"year\", y=\"vader\", kind=\"scatter\")\n",
    "\n",
    "plt.plot(x, intercept + slope*x, 'b:', label='fitted regression')\n",
    "\n",
    "plt.title(\"Dartmouth Opinions by year: VADER Sentiment Analysis\")\n",
    "plt.legend(loc='upper right')\n",
    "plt.ylim(min(y)*0.95, max(y)*1.05)\n",
    "plt.show()"
   ]
  },
  {
   "cell_type": "markdown",
   "metadata": {},
   "source": [
    "### Regress Goodness of Fit: LIWC Lexical Analysis\n"
   ]
  },
  {
   "cell_type": "code",
   "execution_count": 33,
   "metadata": {},
   "outputs": [
    {
     "data": {
      "image/png": "[encoded data removed]",
      "text/plain": [
       "<Figure size 640x480 with 1 Axes>"
      ]
     },
     "metadata": {},
     "output_type": "display_data"
    }
   ],
   "source": [
    "x = results_df['year']\n",
    "y = results_df['lexical']\n",
    "\n",
    "slope, intercept, r_value, p_value, std_err = linregress(x, y)\n",
    "\n",
    "results_df.plot(x=\"year\", y=\"lexical\", kind=\"scatter\")\n",
    "\n",
    "plt.plot(x, intercept + slope*x, 'b:', label='fitted regression')\n",
    "\n",
    "plt.title(\"Dartmouth Opinions by year: LIWC Lexical Analysis\")\n",
    "plt.legend(loc='upper right')\n",
    "plt.ylim(min(y)*0.95, max(y)*1.05)\n",
    "plt.show()"
   ]
  },
  {
   "cell_type": "markdown",
   "metadata": {},
   "source": [
    "## Combined Diversity and Sentiment Analyses\n"
   ]
  },
  {
   "cell_type": "code",
   "execution_count": 34,
   "metadata": {},
   "outputs": [
    {
     "name": "stdout",
     "output_type": "stream",
     "text": [
      "\n",
      "mentions-norm metrics:\n",
      "  slope: 0.02648\n",
      "  95% CI: (0.01145, 0.04150)\n",
      "  std error: 0.00701\n",
      "  p-value: 0.00203\n",
      "  r-value: 0.71067\n",
      "\n",
      "pairwise metrics:\n",
      "  slope: 0.00086\n",
      "  95% CI: (-0.00328, 0.00500)\n",
      "  std error: 0.00193\n",
      "  p-value: 0.66181\n",
      "  r-value: 0.11858\n",
      "\n",
      "vader metrics:\n",
      "  slope: -0.01243\n",
      "  95% CI: (-0.01874, -0.00613)\n",
      "  std error: 0.00294\n",
      "  p-value: 0.00085\n",
      "  r-value: -0.74878\n",
      "\n",
      "lexical metrics:\n",
      "  slope: 0.00043\n",
      "  95% CI: (-0.00165, 0.00250)\n",
      "  std error: 0.00097\n",
      "  p-value: 0.66460\n",
      "  r-value: 0.11755\n"
     ]
    },
    {
     "data": {
      "image/png": "[encoded data removed]",
      "text/plain": [
       "<Figure size 1600x400 with 4 Axes>"
      ]
     },
     "metadata": {},
     "output_type": "display_data"
    }
   ],
   "source": [
    "from scipy.stats import t\n",
    "\n",
    "# Select the columns to plot\n",
    "columns = [\"mentions-norm\", \"pairwise\", \"vader\", \"lexical\"]\n",
    "\n",
    "# Create a figure with subplots\n",
    "fig, axs = plt.subplots(nrows=1, ncols=len(columns), sharex=True, figsize=(16,4))\n",
    "\n",
    "# Loop through the columns and plot each one\n",
    "for ax, column in zip(axs, columns):\n",
    "    # Select the data for the current column\n",
    "    x = range(len(results_df.index))\n",
    "    y = results_df[column]\n",
    "     \n",
    "    # Calculate the linear regression\n",
    "    slope, intercept, r_value, p_value, std_err = linregress(x, y)\n",
    "    \n",
    "    # Calculate 95% confidence interval\n",
    "    confidence_level = 0.95\n",
    "    degrees_of_freedom = len(x) - 2\n",
    "    t_value = t.ppf((1 + confidence_level) / 2, degrees_of_freedom)\n",
    "    margin_of_error = t_value * std_err\n",
    "    ci_lower = slope - margin_of_error\n",
    "    ci_upper = slope + margin_of_error\n",
    "    \n",
    "    # Print comprehensive statistics\n",
    "    print(f\"\\n{column} metrics:\")\n",
    "    print(f\"  slope: {slope:.5f}\")\n",
    "    print(f\"  95% CI: ({ci_lower:.5f}, {ci_upper:.5f})\")\n",
    "    print(f\"  std error: {std_err:.5f}\")\n",
    "    print(f\"  p-value: {p_value:.5f}\")\n",
    "    print(f\"  r-value: {r_value:.5f}\")\n",
    "\n",
    "    # Plot the data and the linear regression line\n",
    "    results_df[column].plot(ax=ax, style=\".\", x=x, y=y, label=column)\n",
    "    ax.plot(x, intercept + slope*x, 'b:', label='regression')\n",
    "    ax.set_ylim(min(y)*0.9, max(y)*1.1)\n",
    "    # ax.set_ylim(0.0, 1.0)\n",
    "    \n",
    "    # Add a legend\n",
    "    ax.legend(loc='lower center')\n",
    "\n",
    "    # Add x-label for the years\n",
    "    ax.set_xticks(results_df.index)\n",
    "    ax.set_xticklabels(results_df.year)\n",
    "    ax.tick_params(axis='x', rotation=45)\n",
    "    \n",
    "plt.xlabel(\"Year\")\n",
    "plt.suptitle(\"Trending of Dartmouth Opinions: Diversity, Sentiment, and Lexical Analyses\")\n",
    "plt.tight_layout()\n",
    "plt.show()"
   ]
  },
  {
   "cell_type": "code",
   "execution_count": 35,
   "metadata": {},
   "outputs": [
    {
     "name": "stdout",
     "output_type": "stream",
     "text": [
      "Slope: 0.00086\n",
      "95% Confidence Interval: (-0.00328, 0.00500)\n",
      "Standard Error: 0.00193\n",
      "P-value: 0.66181\n"
     ]
    }
   ],
   "source": [
    "from scipy.stats import t, linregress\n",
    "\n",
    "x = results_df['year']\n",
    "y = results_df['pairwise']\n",
    "\n",
    "slope, intercept, r_value, p_value, std_err = linregress(x, y)\n",
    "\n",
    "confidence_level = 0.95\n",
    "degrees_of_freedom = len(x) - 2\n",
    "t_value = t.ppf((1 + confidence_level) / 2, degrees_of_freedom)\n",
    "\n",
    "margin_of_error = t_value * std_err\n",
    "\n",
    "ci_lower = slope - margin_of_error\n",
    "ci_upper = slope + margin_of_error\n",
    "\n",
    "print(f\"Slope: {slope:.5f}\")\n",
    "print(f\"95% Confidence Interval: ({ci_lower:.5f}, {ci_upper:.5f})\")\n",
    "print(f\"Standard Error: {std_err:.5f}\")\n",
    "print(f\"P-value: {p_value:.5f}\")"
   ]
  },
  {
   "cell_type": "markdown",
   "metadata": {},
   "source": [
    "## 4. VADER Sentiment Analysis\n",
    "\n",
    "First, you need to install the VADER sentiment analysis tool. If you're using Python, you can install it with the nltk (Natural Language Toolkit) library.\n"
   ]
  },
  {
   "cell_type": "code",
   "execution_count": 36,
   "metadata": {},
   "outputs": [
    {
     "name": "stderr",
     "output_type": "stream",
     "text": [
      "[nltk_data] Downloading package vader_lexicon to\n",
      "[nltk_data]     C:\\Users\\theod\\AppData\\Roaming\\nltk_data...\n",
      "[nltk_data]   Package vader_lexicon is already up-to-date!\n"
     ]
    }
   ],
   "source": [
    "import nltk\n",
    "nltk.download('vader_lexicon')\n",
    "from nltk.sentiment.vader import SentimentIntensityAnalyzer\n",
    "\n",
    "# Initialize the sentiment analyzer\n",
    "sia = SentimentIntensityAnalyzer()"
   ]
  },
  {
   "cell_type": "markdown",
   "metadata": {},
   "source": [
    "**Analyze the Sentiment of Text:**\n",
    "\n",
    "Once you have the SentimentIntensityAnalyzer instance, you can use the .polarity_scores() method to analyze the sentiment of a given text. This method returns a dictionary with the following scores:\n",
    "\n",
    "- positive: A score for the positive sentiment.\n",
    "- neutral: A score for the neutral sentiment.\n",
    "- negative: A score for the negative sentiment.\n",
    "- compound: The overall sentiment score, which is a normalized value between -1 (most negative) and +1 (most positive).\n"
   ]
  },
  {
   "cell_type": "code",
   "execution_count": 37,
   "metadata": {},
   "outputs": [],
   "source": [
    "results = []\n",
    "for year in range(START_YEAR, FINAL_YEAR+1):\n",
    "    year_df = df[df.year==year]\n",
    "    \n",
    "    clean_df, num_diversity_words = prepText(year_df.body)\n",
    "    # wv = get_batch_embeddings(clean_df)\n",
    "\n",
    "    # Calculate sentiment scores for each text and average them\n",
    "    pos_scores = []\n",
    "    neg_scores = []\n",
    "    neu_scores = []\n",
    "    compound_scores = []\n",
    "    \n",
    "    for text in clean_df:\n",
    "        sentiment_scores = sia.polarity_scores(text)\n",
    "        pos_scores.append(sentiment_scores['pos'])\n",
    "        neg_scores.append(sentiment_scores['neg'])\n",
    "        neu_scores.append(sentiment_scores['neu'])\n",
    "        compound_scores.append(sentiment_scores['compound'])\n",
    "    \n",
    "    result = {'year': year,\n",
    "              'pos': sum(pos_scores) / len(pos_scores),\n",
    "              'neg': sum(neg_scores) / len(neg_scores),\n",
    "              'neu': sum(neu_scores) / len(neu_scores),\n",
    "              'compound': sum(compound_scores) / len(compound_scores)}\n",
    "    \n",
    "    results.append(result)"
   ]
  },
  {
   "cell_type": "code",
   "execution_count": 38,
   "metadata": {},
   "outputs": [
    {
     "name": "stdout",
     "output_type": "stream",
     "text": [
      "year: 2009, pos: 0.18, neg: 0.11, neu: 0.71, compound: 0.61\n",
      "year: 2010, pos: 0.18, neg: 0.11, neu: 0.71, compound: 0.54\n",
      "year: 2011, pos: 0.18, neg: 0.12, neu: 0.70, compound: 0.48\n",
      "year: 2012, pos: 0.17, neg: 0.11, neu: 0.71, compound: 0.49\n",
      "year: 2013, pos: 0.18, neg: 0.12, neu: 0.70, compound: 0.53\n",
      "year: 2014, pos: 0.17, neg: 0.11, neu: 0.72, compound: 0.46\n",
      "year: 2015, pos: 0.17, neg: 0.11, neu: 0.72, compound: 0.43\n",
      "year: 2016, pos: 0.18, neg: 0.11, neu: 0.71, compound: 0.58\n",
      "year: 2017, pos: 0.17, neg: 0.11, neu: 0.72, compound: 0.51\n",
      "year: 2018, pos: 0.16, neg: 0.10, neu: 0.74, compound: 0.41\n",
      "year: 2019, pos: 0.16, neg: 0.11, neu: 0.73, compound: 0.43\n",
      "year: 2020, pos: 0.16, neg: 0.11, neu: 0.73, compound: 0.37\n",
      "year: 2021, pos: 0.14, neg: 0.10, neu: 0.76, compound: 0.36\n",
      "year: 2022, pos: 0.14, neg: 0.09, neu: 0.77, compound: 0.41\n",
      "year: 2023, pos: 0.15, neg: 0.09, neu: 0.76, compound: 0.47\n",
      "year: 2024, pos: 0.16, neg: 0.11, neu: 0.73, compound: 0.34\n"
     ]
    }
   ],
   "source": [
    "for result in results:\n",
    "    print(f\"year: {result['year']}, pos: {result['pos']:.2f}, neg: {result['neg']:.2f}, neu: {result['neu']:.2f}, compound: {result['compound']:.2f}\")"
   ]
  },
  {
   "cell_type": "code",
   "execution_count": 39,
   "metadata": {},
   "outputs": [
    {
     "name": "stdout",
     "output_type": "stream",
     "text": [
      "Regression results:\n",
      "Slope: -0.0124 (change in compound score per year)\n",
      "R-squared: 0.5607\n",
      "P-value: 0.0008\n"
     ]
    },
    {
     "data": {
      "image/png": "[encoded data removed]",
      "text/plain": [
       "<Figure size 1000x600 with 1 Axes>"
      ]
     },
     "metadata": {},
     "output_type": "display_data"
    }
   ],
   "source": [
    "import numpy as np\n",
    "from scipy import stats\n",
    "\n",
    "# First convert results list to a DataFrame for easier manipulation\n",
    "results_df = pd.DataFrame(results)\n",
    "\n",
    "# Create array of years since 2010\n",
    "base_year = 2010\n",
    "years_since_2010 = results_df['year'] - base_year\n",
    "\n",
    "# Get compound scores\n",
    "compound_scores = results_df['compound']\n",
    "\n",
    "# Calculate regression\n",
    "slope, intercept, r_value, p_value, std_err = stats.linregress(years_since_2010, compound_scores)\n",
    "\n",
    "print(f\"Regression results:\")\n",
    "print(f\"Slope: {slope:.4f} (change in compound score per year)\")\n",
    "print(f\"R-squared: {r_value**2:.4f}\")\n",
    "print(f\"P-value: {p_value:.4f}\")\n",
    "\n",
    "# Optional: Plot the regression line\n",
    "import matplotlib.pyplot as plt\n",
    "\n",
    "plt.figure(figsize=(10, 6))\n",
    "plt.scatter(years_since_2010, compound_scores, alpha=0.5)\n",
    "plt.plot(years_since_2010, intercept + slope * years_since_2010, 'r', \n",
    "         label=f'Slope = {slope:.4f}')\n",
    "plt.xlabel('Years since 2010')\n",
    "plt.ylabel('Compound Sentiment Score')\n",
    "plt.title('Sentiment Score Trend Over Time')\n",
    "plt.legend()\n",
    "plt.grid(True, alpha=0.3)\n",
    "plt.show()"
   ]
  },
  {
   "cell_type": "code",
   "execution_count": null,
   "metadata": {},
   "outputs": [],
   "source": []
  }
 ],
 "metadata": {
  "kernelspec": {
   "display_name": ".venv",
   "language": "python",
   "name": "python3"
  },
  "language_info": {
   "codemirror_mode": {
    "name": "ipython",
    "version": 3
   },
   "file_extension": ".py",
   "mimetype": "text/x-python",
   "name": "python",
   "nbconvert_exporter": "python",
   "pygments_lexer": "ipython3",
   "version": "3.11.9"
  }
 },
 "nbformat": 4,
 "nbformat_minor": 2
}
