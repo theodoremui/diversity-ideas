{
 "cells": [
  {
   "cell_type": "markdown",
   "metadata": {},
   "source": [
    "# Diversity of Ideas: Harvard Columns"
   ]
  },
  {
   "cell_type": "markdown",
   "metadata": {},
   "source": [
    "## 1. Setup"
   ]
  },
  {
   "cell_type": "code",
   "execution_count": 1,
   "metadata": {},
   "outputs": [
    {
     "data": {
      "text/plain": [
       "True"
      ]
     },
     "execution_count": 1,
     "metadata": {},
     "output_type": "execute_result"
    }
   ],
   "source": [
    "from dotenv import load_dotenv, find_dotenv\n",
    "load_dotenv(find_dotenv())"
   ]
  },
  {
   "cell_type": "code",
   "execution_count": 45,
   "metadata": {},
   "outputs": [
    {
     "name": "stderr",
     "output_type": "stream",
     "text": [
      "[nltk_data] Downloading package punkt to\n",
      "[nltk_data]     C:\\Users\\theod\\AppData\\Roaming\\nltk_data...\n",
      "[nltk_data]   Package punkt is already up-to-date!\n",
      "[nltk_data] Downloading package punkt_tab to\n",
      "[nltk_data]     C:\\Users\\theod\\AppData\\Roaming\\nltk_data...\n",
      "[nltk_data]   Package punkt_tab is already up-to-date!\n"
     ]
    }
   ],
   "source": [
    "import pandas as pd\n",
    "import nltk\n",
    "from nltk.tokenize import word_tokenize\n",
    "from collections import Counter\n",
    "nltk.download('punkt')\n",
    "nltk.download('punkt_tab')\n",
    "from util.ouraws import (\n",
    "    getFromFile\n",
    ")"
   ]
  },
  {
   "cell_type": "code",
   "execution_count": 3,
   "metadata": {},
   "outputs": [
    {
     "data": {
      "text/plain": [
       "'c:\\\\Users\\\\theod\\\\OneDrive\\\\dev\\\\diversity-ideas\\\\notebooks\\\\2024'"
      ]
     },
     "execution_count": 3,
     "metadata": {},
     "output_type": "execute_result"
    }
   ],
   "source": [
    "%pwd"
   ]
  },
  {
   "cell_type": "code",
   "execution_count": 4,
   "metadata": {},
   "outputs": [
    {
     "data": {
      "text/plain": [
       "(3591, 6)"
      ]
     },
     "execution_count": 4,
     "metadata": {},
     "output_type": "execute_result"
    }
   ],
   "source": [
    "df = getFromFile(\"../../data/harvard-columns.parquet\", False)\n",
    "df.shape\n"
   ]
  },
  {
   "cell_type": "code",
   "execution_count": 5,
   "metadata": {},
   "outputs": [
    {
     "data": {
      "text/html": [
       "<div>\n",
       "<style scoped>\n",
       "    .dataframe tbody tr th:only-of-type {\n",
       "        vertical-align: middle;\n",
       "    }\n",
       "\n",
       "    .dataframe tbody tr th {\n",
       "        vertical-align: top;\n",
       "    }\n",
       "\n",
       "    .dataframe thead th {\n",
       "        text-align: right;\n",
       "    }\n",
       "</style>\n",
       "<table border=\"1\" class=\"dataframe\">\n",
       "  <thead>\n",
       "    <tr style=\"text-align: right;\">\n",
       "      <th></th>\n",
       "      <th>title</th>\n",
       "      <th>url</th>\n",
       "      <th>body</th>\n",
       "      <th>year</th>\n",
       "      <th>month</th>\n",
       "      <th>day</th>\n",
       "    </tr>\n",
       "  </thead>\n",
       "  <tbody>\n",
       "    <tr>\n",
       "      <th>0</th>\n",
       "      <td>The Conversation</td>\n",
       "      <td>https://www.thecrimson.com/image/2020/5/5/illu...</td>\n",
       "      <td>The Conversation\\n&lt;p&gt;&lt;strong&gt;Want to keep up w...</td>\n",
       "      <td>2020</td>\n",
       "      <td>5</td>\n",
       "      <td>5</td>\n",
       "    </tr>\n",
       "    <tr>\n",
       "      <th>1</th>\n",
       "      <td>A Time for New Ideas</td>\n",
       "      <td>https://www.thecrimson.com/image/2020/5/4/illu...</td>\n",
       "      <td>A Time for New Ideas\\nWant to keep up with bre...</td>\n",
       "      <td>2020</td>\n",
       "      <td>5</td>\n",
       "      <td>4</td>\n",
       "    </tr>\n",
       "    <tr>\n",
       "      <th>2</th>\n",
       "      <td>Daring to Be</td>\n",
       "      <td>https://www.thecrimson.com/image/2020/4/29/ill...</td>\n",
       "      <td>Daring to Be | Opinion | The Harvard Crimson\\n...</td>\n",
       "      <td>2020</td>\n",
       "      <td>4</td>\n",
       "      <td>29</td>\n",
       "    </tr>\n",
       "    <tr>\n",
       "      <th>3</th>\n",
       "      <td>Plain Truth</td>\n",
       "      <td>https://www.thecrimson.com/image/2020/4/28/ill...</td>\n",
       "      <td>Plain Truth\\nBy Helen H. Wang</td>\n",
       "      <td>2020</td>\n",
       "      <td>4</td>\n",
       "      <td>28</td>\n",
       "    </tr>\n",
       "  </tbody>\n",
       "</table>\n",
       "</div>"
      ],
      "text/plain": [
       "                  title                                                url  \\\n",
       "0      The Conversation  https://www.thecrimson.com/image/2020/5/5/illu...   \n",
       "1  A Time for New Ideas  https://www.thecrimson.com/image/2020/5/4/illu...   \n",
       "2          Daring to Be  https://www.thecrimson.com/image/2020/4/29/ill...   \n",
       "3           Plain Truth  https://www.thecrimson.com/image/2020/4/28/ill...   \n",
       "\n",
       "                                                body  year  month  day  \n",
       "0  The Conversation\\n<p><strong>Want to keep up w...  2020      5    5  \n",
       "1  A Time for New Ideas\\nWant to keep up with bre...  2020      5    4  \n",
       "2  Daring to Be | Opinion | The Harvard Crimson\\n...  2020      4   29  \n",
       "3                      Plain Truth\\nBy Helen H. Wang  2020      4   28  "
      ]
     },
     "execution_count": 5,
     "metadata": {},
     "output_type": "execute_result"
    }
   ],
   "source": [
    "df.head(4)"
   ]
  },
  {
   "cell_type": "markdown",
   "metadata": {},
   "source": [
    "## 2. Function Definitions"
   ]
  },
  {
   "cell_type": "code",
   "execution_count": 6,
   "metadata": {},
   "outputs": [],
   "source": [
    "import numpy as np\n",
    "import re"
   ]
  },
  {
   "cell_type": "code",
   "execution_count": 7,
   "metadata": {},
   "outputs": [],
   "source": [
    "def getCovDispersion(wv):\n",
    "    \"\"\"\n",
    "    Calculate various dispersion measures using the covariance matrix of word vectors.\n",
    "    \n",
    "    Args:\n",
    "        wv: numpy array of shape (n_documents, embedding_dim) containing document embeddings\n",
    "        \n",
    "    Returns:\n",
    "        tuple containing:\n",
    "        - N: number of documents\n",
    "        - trace_norm: average variance along the diagonal\n",
    "        - l1_norm: L1 norm of covariance matrix (normalized)\n",
    "        - l2_norm: L2 norm of covariance matrix (normalized)\n",
    "        - inf_norm: Infinity norm of covariance matrix (normalized)\n",
    "    \"\"\"\n",
    "    # Get number of documents\n",
    "    N = len(wv)\n",
    "    \n",
    "    # Calculate covariance matrix of the word vectors\n",
    "    # This measures how dimensions vary together across documents\n",
    "    cov = np.cov(wv)\n",
    "    \n",
    "    return (\n",
    "        N,  # Number of documents\n",
    "        np.trace(cov)/N,  # Average variance along diagonal (spread in each dimension)\n",
    "        np.linalg.norm(cov, ord=1)/N,  # L1 norm (sum of absolute values)\n",
    "        np.linalg.norm(cov, ord=2)/N,  # L2/Spectral norm (largest singular value)\n",
    "        np.linalg.norm(cov, ord=np.inf)/N,  # Infinity norm (max absolute row sum)\n",
    "    )\n",
    "\n",
    "def cosine_distance(v1, v2):\n",
    "    \"\"\"Calculate the cosine distance between two numpy arrays.\n",
    "    \n",
    "    Parameters:\n",
    "    a (numpy array): First input array.\n",
    "    b (numpy array): Second input array.\n",
    "    \n",
    "    Returns:\n",
    "    float: Cosine distance between a and b.\n",
    "    \"\"\"\n",
    "    a = np.array(v1, dtype=np.float64)\n",
    "    b = np.array(v2, dtype=np.float64)\n",
    "    # Calculate dot product and magnitudes of the input arrays\n",
    "    dot   = np.dot(a, b)\n",
    "    a_mag = np.linalg.norm(a)\n",
    "    b_mag = np.linalg.norm(b)\n",
    "    \n",
    "    if np.isclose(a_mag, 0, rtol=1e-9, atol=1e-12):\n",
    "        print(f\"a_mag is very small: {a_mag}\")\n",
    "    if np.isclose(b_mag, 0, rtol=1e-9, atol=1e-12):\n",
    "        print(f\"b_mag is very small: {b_mag}\")\n",
    "    \n",
    "    # Calculate and return the cosine distance\n",
    "    return 1.0 - (dot / (a_mag * b_mag))\n",
    "\n",
    "def getPairwiseDispersion(wv, measure):\n",
    "    if len(wv) <= 1: return 0.0\n",
    "    distance = 0.0\n",
    "    vec = wv[0]\n",
    "    for v in wv[1:]:\n",
    "        distance += measure(vec, v)\n",
    "        # print(f\"\\tcos_distance: {measure(vec, v)}\")\n",
    "    return distance + getPairwiseDispersion(wv[1:], measure)\n",
    "\n",
    "def getNormalizedPairwiseDispersion(wv, measure):\n",
    "    '''Normalize the dispersion by (N-Choose-2) number of pairs'''\n",
    "    N = len(wv)\n",
    "    return getPairwiseDispersion(wv, measure) / (N * (N-1)/2.)"
   ]
  },
  {
   "cell_type": "code",
   "execution_count": 8,
   "metadata": {},
   "outputs": [],
   "source": [
    "diversity_words = [\n",
    "    'diversity', \n",
    "    'equity',\n",
    "    'inclusion',\n",
    "    'inclusive',\n",
    "    'inclusivity',\n",
    "    'equality', \n",
    "    'equal opportunity',\n",
    "    'social justice',\n",
    "    'racial justice', \n",
    "    'multi-cultural', \n",
    "    'multicultural',\n",
    "    'intercultural',\n",
    "    'intersectional',\n",
    "    'intersectionality',\n",
    "    'anti-discrimination'\n",
    "]"
   ]
  },
  {
   "cell_type": "code",
   "execution_count": 9,
   "metadata": {},
   "outputs": [
    {
     "name": "stderr",
     "output_type": "stream",
     "text": [
      "[nltk_data] Downloading package wordnet to\n",
      "[nltk_data]     C:\\Users\\theod\\AppData\\Roaming\\nltk_data...\n",
      "[nltk_data]   Package wordnet is already up-to-date!\n"
     ]
    }
   ],
   "source": [
    "import nltk\n",
    "nltk.download('wordnet')\n",
    "from nltk.stem import WordNetLemmatizer\n",
    "lemmatizer = WordNetLemmatizer()"
   ]
  },
  {
   "cell_type": "code",
   "execution_count": 10,
   "metadata": {},
   "outputs": [
    {
     "data": {
      "text/plain": [
       "['diversity',\n",
       " 'equity',\n",
       " 'inclusion',\n",
       " 'inclusive',\n",
       " 'inclusivity',\n",
       " 'equality',\n",
       " 'equal opportunity',\n",
       " 'social justice',\n",
       " 'racial justice',\n",
       " 'multi-cultural',\n",
       " 'multicultural',\n",
       " 'intercultural',\n",
       " 'intersectional',\n",
       " 'intersectionality',\n",
       " 'anti-discrimination']"
      ]
     },
     "execution_count": 10,
     "metadata": {},
     "output_type": "execute_result"
    }
   ],
   "source": [
    "diversity_lemmas = [lemmatizer.lemmatize(w) for w in diversity_words]\n",
    "diversity_lemmas"
   ]
  },
  {
   "cell_type": "code",
   "execution_count": 11,
   "metadata": {},
   "outputs": [],
   "source": [
    "diversity_pattern = \"|\".join(diversity_lemmas)"
   ]
  },
  {
   "cell_type": "markdown",
   "metadata": {},
   "source": [
    "Let's verify how the \"count\" of diversity words in the text is calculated."
   ]
  },
  {
   "cell_type": "code",
   "execution_count": 12,
   "metadata": {},
   "outputs": [
    {
     "data": {
      "text/plain": [
       "3"
      ]
     },
     "execution_count": 12,
     "metadata": {},
     "output_type": "execute_result"
    }
   ],
   "source": [
    "text = \"This is a multicultural organization that advocates for diversity and racial justice.\"\n",
    "len(re.findall(diversity_pattern, text))"
   ]
  },
  {
   "cell_type": "markdown",
   "metadata": {},
   "source": [
    "### Cynicism related declarations\n"
   ]
  },
  {
   "cell_type": "code",
   "execution_count": 13,
   "metadata": {},
   "outputs": [
    {
     "data": {
      "text/plain": [
       "['skepticism',\n",
       " 'mistrust',\n",
       " 'questionable',\n",
       " 'dishonesty',\n",
       " 'manipulation',\n",
       " 'corruption',\n",
       " 'negativity']"
      ]
     },
     "execution_count": 13,
     "metadata": {},
     "output_type": "execute_result"
    }
   ],
   "source": [
    "# Define LIWC-style categories for cynicism analysis\n",
    "liwc_cynicism = {\n",
    "    \"skepticism\": {\"skeptical\", \"doubtful\", \"unconvinced\", \"uncertain\", \"wary\", \"dubious\"},\n",
    "    \"mistrust\": {\"untrustworthy\", \"suspicious\", \"distrustful\", \"unreliable\", \"shady\", \"rigged\", \"lying\"},\n",
    "    \"questionable\": {\"questionable\", \"dubious\", \"problematic\", \"concerning\", \"suspect\"},\n",
    "    \"dishonesty\": {\"dishonest\", \"lie\", \"lying\", \"deceptive\", \"misleading\", \"false\", \"fake\"},\n",
    "    \"manipulation\": {\"manipulative\", \"coercive\", \"exploitative\", \"calculated\", \"scheming\"},\n",
    "    \"corruption\": {\"corrupt\", \"bribed\", \"compromised\", \"unethical\", \"crooked\", \"lying\"},\n",
    "    \"negativity\": {\"bad\", \"worse\", \"worst\", \"terrible\", \"awful\", \"disastrous\", \"weird\"},\n",
    "    \"certainty\": {\"obviously\", \"definitely\", \"certainly\", \"undoubtedly\", \"absolutely\", \"clearly\"}\n",
    "}\n",
    "\n",
    "liwc_cynicism_keys = [key for key in liwc_cynicism if key != \"certainty\"]\n",
    "liwc_cynicism_keys"
   ]
  },
  {
   "cell_type": "code",
   "execution_count": 46,
   "metadata": {},
   "outputs": [],
   "source": [
    "def liwc_analysis(text):\n",
    "    \"\"\"Analyze text using LIWC-style categories for cynicism.\"\"\"\n",
    "    tokens = [token.lower() for token in word_tokenize(text) \n",
    "              if token.isalnum()]  # Only include alphanumeric tokens\n",
    "    word_counts = Counter(tokens)\n",
    "    total_words = sum(word_counts.values())\n",
    "    \n",
    "    # Initialize scores dict with all categories\n",
    "    liwc_scores = {category: 0 for category in liwc_cynicism.keys()}\n",
    "    \n",
    "    # Count matches for each category\n",
    "    for category, words in liwc_cynicism.items():\n",
    "        category_count = sum(word_counts[word] for word in words if word in word_counts)\n",
    "        if total_words > 0:\n",
    "            liwc_scores[category] = round(category_count / total_words, 4)\n",
    "    \n",
    "    # Debug print\n",
    "    # print(\"LIWC categories found:\", list(liwc_scores.keys()))\n",
    "    \n",
    "    return liwc_scores"
   ]
  },
  {
   "cell_type": "code",
   "execution_count": 15,
   "metadata": {},
   "outputs": [],
   "source": [
    "def compute_cynicism_score(row):\n",
    "    \"\"\"Compute cynicism score from LIWC categories.\"\"\"\n",
    "    # Create a set of categories excluding 'certainty'\n",
    "    cynicism_categories = set(liwc_cynicism.keys()) - {'certainty'}\n",
    "    certainty_weight = 1\n",
    "    \n",
    "    # Debug print\n",
    "    # print(\"Available columns:\", row.index.tolist())\n",
    "    # print(\"Looking for categories:\", list(cynicism_categories))\n",
    "    \n",
    "    # Check if all required categories exist\n",
    "    missing_categories = [cat for cat in cynicism_categories if cat not in row.index]\n",
    "    if missing_categories:\n",
    "        print(f\"Missing categories: {missing_categories}\")\n",
    "        return 0.0\n",
    "    \n",
    "    try:\n",
    "        cynicism_score = (sum(row[category] for category in cynicism_categories) - \n",
    "                         certainty_weight * row[\"certainty\"]) / len(cynicism_categories)\n",
    "        return round(cynicism_score, 4)\n",
    "    except Exception as e:\n",
    "        print(f\"Error computing cynicism score: {e}\")\n",
    "        print(f\"Row data: {row}\")\n",
    "        return 0.0"
   ]
  },
  {
   "cell_type": "code",
   "execution_count": 16,
   "metadata": {},
   "outputs": [],
   "source": [
    "def cronbach_alpha(df):\n",
    "    \"\"\"Compute Cronbach's Alpha for internal consistency of LIWC categories.\"\"\"\n",
    "    # items = df[liwc_cynicism_keys]\n",
    "    items = df[liwc_cynicism.keys()]\n",
    "    item_vars = items.var(axis=0, ddof=1)\n",
    "    total_var = items.sum(axis=1).var(ddof=1)\n",
    "    n = items.shape[1]\n",
    "    return (n / (n - 1)) * (1 - sum(item_vars) / total_var)"
   ]
  },
  {
   "cell_type": "markdown",
   "metadata": {},
   "source": [
    "## 3. LLM Cynicism MFT Analysis\n",
    "\n",
    "LLM-based cynicism Moral Foundation Theory Analysis"
   ]
  },
  {
   "cell_type": "code",
   "execution_count": 17,
   "metadata": {},
   "outputs": [],
   "source": [
    "import json\n",
    "import os\n",
    "import pprint\n",
    "from pydantic.v1 import BaseModel, Field\n",
    "from typing import Dict\n",
    "\n",
    "from llama_index.core import (\n",
    "    Settings, \n",
    "    SimpleDirectoryReader, \n",
    "    VectorStoreIndex,\n",
    "    StorageContext,\n",
    "    load_index_from_storage\n",
    ")\n",
    "from llama_index.core.prompts import PromptTemplate\n",
    "from llama_index.embeddings.ollama import OllamaEmbedding\n",
    "from llama_index.llms.ollama import Ollama"
   ]
  },
  {
   "cell_type": "code",
   "execution_count": 18,
   "metadata": {},
   "outputs": [],
   "source": [
    "class MFTAnalysis(BaseModel):\n",
    "    authority_subversion: float = Field(\n",
    "        default=0.0,\n",
    "        description=\"Degree of authority skepticism (0.0 to 1.0). Higher values indicate stronger skepticism towards institutional power.\"\n",
    "    )\n",
    "    loyalty_betrayal: float = Field(\n",
    "        default=0.0,\n",
    "        description=\"Degree of perceived betrayal (0.0 to 1.0). Higher values indicate a stronger sense of betrayal or disloyalty towards institutions.\"\n",
    "    )\n",
    "    fairness_injustice: float = Field(\n",
    "        default=0.0,\n",
    "        description=\"Degree of perceived unfairness (0.0 to 1.0). Higher values indicate stronger feelings of injustice or perceived injustice.\"\n",
    "    )\n",
    "\n",
    "class CynicalClassification(BaseModel):\n",
    "    is_cynical: bool\n",
    "    reason: str\n",
    "    mft_analysis: MFTAnalysis = Field(default_factory=MFTAnalysis)\n",
    "    primary_foundation: str = Field(\n",
    "        default=\"\",\n",
    "        description=\"Dominant moral foundation driving cynicism.\"\n",
    "    )\n",
    "    foundation_explanation: str = Field(\n",
    "        default=\"\",\n",
    "        description=\"Explanation of how the primary moral foundation manifests in the classification.\"\n",
    "    )"
   ]
  },
  {
   "cell_type": "code",
   "execution_count": 19,
   "metadata": {},
   "outputs": [],
   "source": [
    "CYNICISM_CLASSIFICATION_PROMPT = PromptTemplate(\n",
    "    template=\"\"\"\n",
    "You are an expert in cynical classification using Moral Foundations Theory (MFT).\n",
    "Analyze the text for cynicism through three moral foundations:\n",
    "1. Authority/Subversion: Skepticism of institutional power, questioning authority\n",
    "2. Loyalty/Betrayal: Sense of institutional or ideological betrayal\n",
    "3. Fairness/Injustice: Perceived injustices and inequities\n",
    "\n",
    "For each foundation, provide a score between 0.0 (not present) and 1.0 (strongly present).\n",
    "Identify the primary moral foundation driving any cynicism.\n",
    "\n",
    "## Text to analyze\n",
    "\n",
    "Text: {text}\n",
    "\n",
    "## Output Format\n",
    "You must provide your analysis in a valid JSON structure. Return only valid JSON:\n",
    "\n",
    "Here is an example of a response about a non-cynical text:\n",
    "{{{{\n",
    "    \"is_cynical\": False,\n",
    "    \"reason\": \"explanation for the classification\",\n",
    "    \"mft_analysis\": {{{{\n",
    "        \"authority_subversion\": 0.1,\n",
    "        \"loyalty_betrayal\": 0.1,\n",
    "        \"fairness_injustice\": 0.2\n",
    "    }}}},\n",
    "    \"primary_foundation\": \"name of the dominant foundation\",\n",
    "    \"foundation_explanation\": \"explanation of how the primary foundation manifests\"\n",
    "}}}}\n",
    "\n",
    "Here is an example of cynical judgement about a text:\n",
    "{{{{\n",
    "    \"is_cynical\": True,\n",
    "    \"reason\": \"explanation for the classification\",\n",
    "    \"mft_analysis\": {{{{\n",
    "        \"authority_subversion\": 0.1,\n",
    "        \"loyalty_betrayal\": 0.9,\n",
    "        \"fairness_injustice\": 0.1\n",
    "    }}}},\n",
    "    \"primary_foundation\": \"name of the dominant foundation\",\n",
    "    \"foundation_explanation\": \"explanation of how the primary foundation manifests\"\n",
    "}}}}\n",
    "\"\"\"\n",
    ")"
   ]
  },
  {
   "cell_type": "code",
   "execution_count": 20,
   "metadata": {},
   "outputs": [],
   "source": [
    "# ollama = Ollama(model=\"deepseek-r1:7b\", json_mode=True, temperature=0.0)\n",
    "ollama = Ollama(model=\"llama3.2:3b-instruct-q8_0\", json_mode=True, temperature=0.0, timeout=240)\n",
    "ollama.system_prompt=(\n",
    "    \"You are a helpful assistant that always responds with valid JSON matching the requested structure.\"\n",
    ")\n",
    "sllm = ollama.as_structured_llm(output_cls=CynicalClassification, timeout=240)"
   ]
  },
  {
   "cell_type": "code",
   "execution_count": 21,
   "metadata": {},
   "outputs": [],
   "source": [
    "from llama_index.llms.openai import OpenAI\n",
    "gpt4omini = OpenAI(model=\"gpt-4o-mini\", temperature=0.0)\n",
    "gpt4omini.system_prompt=(\n",
    "    \"You are a helpful assistant that always responds with valid JSON matching the requested structure.\"\n",
    ")\n",
    "gpt4omini_sllm = gpt4omini.as_structured_llm(output_cls=CynicalClassification, timeout=120)"
   ]
  },
  {
   "cell_type": "code",
   "execution_count": 22,
   "metadata": {},
   "outputs": [],
   "source": [
    "def classify_text_cynicism(text) -> CynicalClassification:\n",
    "    \"\"\"\n",
    "    Process a single text and return a CynicalClassification.\n",
    "    \"\"\"\n",
    "    try:\n",
    "        # Add a more explicit prompt to encourage tool usage\n",
    "        formatted_prompt = CYNICISM_CLASSIFICATION_PROMPT.format(\n",
    "            text=text[:1000]  # Limit text length to avoid token limits\n",
    "        )\n",
    "        response = gpt4omini_sllm.complete(formatted_prompt)\n",
    "        return response.raw\n",
    "    except ValueError as e:\n",
    "        # Fallback values if tool calls fail\n",
    "        return CynicalClassification(\n",
    "            is_cynical=False,\n",
    "            reason=\"Error processing text\",\n",
    "            mft_analysis=MFTAnalysis(\n",
    "                authority_subversion=0.0,\n",
    "                loyalty_betrayal=0.0,\n",
    "                fairness_injustice=0.0\n",
    "            ),\n",
    "            primary_foundation=\"none\",\n",
    "            foundation_explanation=\"Error in processing\"\n",
    "        )"
   ]
  },
  {
   "cell_type": "code",
   "execution_count": 23,
   "metadata": {},
   "outputs": [],
   "source": [
    "def printCynicalClassification(judgement: CynicalClassification):\n",
    "    print(f\"is_cynical: {judgement.is_cynical}\")\n",
    "    print(f\"reason: {judgement.reason}\")\n",
    "    print(f\"mft_analysis: {judgement.mft_analysis}\")"
   ]
  },
  {
   "cell_type": "code",
   "execution_count": 24,
   "metadata": {},
   "outputs": [
    {
     "name": "stdout",
     "output_type": "stream",
     "text": [
      "is_cynical: True\n",
      "reason: The text expresses a strong distrust of the police, indicating a belief that they are corrupt and not serving their intended purpose of protection, which reflects a cynical view of authority.\n",
      "mft_analysis: authority_subversion=0.9 loyalty_betrayal=0.8 fairness_injustice=0.7\n"
     ]
    }
   ],
   "source": [
    "text = \"The police are corrupt and they are not there to protect the people.\"\n",
    "judgement = classify_text_cynicism(text)\n",
    "printCynicalClassification(judgement=judgement)"
   ]
  },
  {
   "cell_type": "code",
   "execution_count": 25,
   "metadata": {},
   "outputs": [
    {
     "name": "stdout",
     "output_type": "stream",
     "text": [
      "is_cynical: False\n",
      "reason: The text expresses a simple enjoyment of the neighborhood without any indication of skepticism towards authority, feelings of betrayal, or perceived injustice.\n",
      "mft_analysis: authority_subversion=0.0 loyalty_betrayal=0.0 fairness_injustice=0.0\n"
     ]
    }
   ],
   "source": [
    "text = \"We like going around theneighborhood.\"\n",
    "judgement = classify_text_cynicism(text)\n",
    "printCynicalClassification(judgement=judgement)"
   ]
  },
  {
   "cell_type": "markdown",
   "metadata": {},
   "source": [
    "## 4. Diversity Analysis"
   ]
  },
  {
   "cell_type": "code",
   "execution_count": 41,
   "metadata": {},
   "outputs": [],
   "source": [
    "from openai import OpenAI\n",
    "from typing import List, Tuple\n",
    "import numpy as np\n",
    "client = OpenAI()"
   ]
  },
  {
   "cell_type": "code",
   "execution_count": 27,
   "metadata": {},
   "outputs": [],
   "source": [
    "def get_embedding(text: str) -> List[float]:\n",
    "    \"\"\"\n",
    "    Get embeddings for a single text using text-embedding-3-large model.\n",
    "    \n",
    "    Args:\n",
    "        text (str): The input text to generate embeddings for\n",
    "        \n",
    "    Returns:\n",
    "        List[float]: The embedding vector\n",
    "    \"\"\"\n",
    "    response = client.embeddings.create(\n",
    "        model=\"text-embedding-3-large\",\n",
    "        input=text,\n",
    "        dimensions=1024  # Optional: You can specify 256, 512, or 1024 dimensions\n",
    "    )\n",
    "    return response.data[0].embedding\n",
    "\n",
    "def get_batch_embeddings(texts: List[str]) -> List[List[float]]:\n",
    "    \"\"\"\n",
    "    Get embeddings for multiple texts in a single API call.\n",
    "    \n",
    "    Args:\n",
    "        texts (List[str]): List of input texts to generate embeddings for\n",
    "        \n",
    "    Returns:\n",
    "        List[List[float]]: List of embedding vectors\n",
    "    \"\"\"\n",
    "    response = client.embeddings.create(\n",
    "        model=\"text-embedding-3-large\",\n",
    "        input=texts,\n",
    "        dimensions=1024\n",
    "    )\n",
    "    return [item.embedding for item in response.data]"
   ]
  },
  {
   "cell_type": "code",
   "execution_count": 28,
   "metadata": {},
   "outputs": [
    {
     "name": "stderr",
     "output_type": "stream",
     "text": [
      "[nltk_data] Downloading package stopwords to\n",
      "[nltk_data]     C:\\Users\\theod\\AppData\\Roaming\\nltk_data...\n",
      "[nltk_data]   Package stopwords is already up-to-date!\n"
     ]
    }
   ],
   "source": [
    "nltk.download('stopwords')\n",
    "from nltk.corpus import stopwords"
   ]
  },
  {
   "cell_type": "code",
   "execution_count": 29,
   "metadata": {},
   "outputs": [],
   "source": [
    "english_stopwords = stopwords.words('english')\n",
    "def prepText(text_series):\n",
    "    # Step 1: Clean and normalize each text in the series\n",
    "    # - Convert to lowercase\n",
    "    # - Lemmatize each word (convert to base form)\n",
    "    # - Remove stopwords\n",
    "    # - Join words back together with spaces\n",
    "    text_series = text_series.apply(\n",
    "        lambda x: \" \".join(lemmatizer.lemmatize(w.lower()) for w in x.split()\n",
    "                           if w not in english_stopwords))\n",
    "    \n",
    "    # Step 2: Filter out short texts\n",
    "    # Remove any text less than 100 characters as they're likely too short for meaningful analysis\n",
    "    text_series = text_series.apply(lambda x: x if len(x) > 100 else None)\n",
    "    \n",
    "    # Step 3: Remove any null values created by the previous step\n",
    "    text_series = text_series.dropna()\n",
    "    \n",
    "    # Step 4: Count diversity-related terms\n",
    "    # Sum up all instances of diversity-related words (defined in diversity_pattern)\n",
    "    # across all remaining texts in the series\n",
    "    total_diversity_words = sum([len(re.findall(diversity_pattern, text))\n",
    "                                for text in text_series])\n",
    "    \n",
    "    # Return both the cleaned text series and the total count of diversity words\n",
    "    return text_series, total_diversity_words"
   ]
  },
  {
   "cell_type": "code",
   "execution_count": 30,
   "metadata": {},
   "outputs": [],
   "source": [
    "START_YEAR = 2009\n",
    "FINAL_YEAR = 2024"
   ]
  },
  {
   "cell_type": "code",
   "execution_count": 31,
   "metadata": {},
   "outputs": [],
   "source": [
    "year_2024 = df[df.year==2024]\n",
    "clean_df, num_diversity_words = prepText(year_2024.body)\n",
    "wv = get_batch_embeddings(clean_df)"
   ]
  },
  {
   "cell_type": "code",
   "execution_count": 32,
   "metadata": {},
   "outputs": [
    {
     "data": {
      "text/plain": [
       "list"
      ]
     },
     "execution_count": 32,
     "metadata": {},
     "output_type": "execute_result"
    }
   ],
   "source": [
    "type(wv[0])"
   ]
  },
  {
   "cell_type": "code",
   "execution_count": 33,
   "metadata": {},
   "outputs": [],
   "source": [
    "docmatrix = np.array(wv)"
   ]
  },
  {
   "cell_type": "code",
   "execution_count": 34,
   "metadata": {},
   "outputs": [
    {
     "data": {
      "text/plain": [
       "(181, 1024)"
      ]
     },
     "execution_count": 34,
     "metadata": {},
     "output_type": "execute_result"
    }
   ],
   "source": [
    "docmatrix.shape"
   ]
  },
  {
   "cell_type": "code",
   "execution_count": 35,
   "metadata": {},
   "outputs": [
    {
     "name": "stdout",
     "output_type": "stream",
     "text": [
      "2966    2024\n",
      "2967    2024\n",
      "2968    2024\n",
      "2969    2024\n",
      "2970    2024\n",
      "        ... \n",
      "3143    2024\n",
      "3145    2024\n",
      "3148    2024\n",
      "3149    2024\n",
      "3151    2024\n",
      "Name: year, Length: 181, dtype: int64, 181, 0.0009770395310876498, 0.42948170595682666\n"
     ]
    }
   ],
   "source": [
    "pairwise = getNormalizedPairwiseDispersion(docmatrix, cosine_distance)\n",
    "cov = getCovDispersion(docmatrix)\n",
    "print(f\"{year_2024.year}, {cov[0]}, {cov[1]}, {pairwise}\")"
   ]
  },
  {
   "cell_type": "code",
   "execution_count": 38,
   "metadata": {},
   "outputs": [
    {
     "name": "stderr",
     "output_type": "stream",
     "text": [
      "[nltk_data] Downloading package vader_lexicon to\n",
      "[nltk_data]     C:\\Users\\theod\\AppData\\Roaming\\nltk_data...\n",
      "[nltk_data]   Package vader_lexicon is already up-to-date!\n"
     ]
    }
   ],
   "source": [
    "# VADER Sentiment Analysis\n",
    "import nltk\n",
    "nltk.download('vader_lexicon')\n",
    "from nltk.sentiment.vader import SentimentIntensityAnalyzer\n",
    "\n",
    "# Initialize the sentiment analyzer\n",
    "sia = SentimentIntensityAnalyzer()"
   ]
  },
  {
   "cell_type": "code",
   "execution_count": 39,
   "metadata": {},
   "outputs": [],
   "source": [
    "def chunk_process_embeddings(\n",
    "    clean_df: pd.Series,\n",
    "    num_chunks: int = 6\n",
    ") -> List[List[float]]:\n",
    "    \"\"\"\n",
    "    Process embeddings in chunks and combine results.\n",
    "    \n",
    "    Args:\n",
    "        clean_df: pandas Series of cleaned text strings\n",
    "        num_chunks: number of chunks to process\n",
    "    \n",
    "    Returns:\n",
    "        List[List[float]]: List of embedding vectors, where each vector is a list of floats\n",
    "    \"\"\"\n",
    "    # Calculate chunk size (divide into `num_chunks` equal parts)\n",
    "    chunk_size = len(clean_df) // num_chunks\n",
    "    chunk_size = chunk_size if chunk_size > 0 else 1\n",
    "    \n",
    "    chunks = [\n",
    "        clean_df[i:i + chunk_size] \n",
    "        for i in range(0, len(clean_df), chunk_size)\n",
    "    ]\n",
    "    \n",
    "    # Process each chunk and combine results\n",
    "    all_embeddings = []\n",
    "    for chunk in chunks:\n",
    "        chunk_embeddings = get_batch_embeddings(chunk)\n",
    "        all_embeddings.extend(chunk_embeddings)\n",
    "    \n",
    "    return all_embeddings"
   ]
  },
  {
   "cell_type": "code",
   "execution_count": 42,
   "metadata": {},
   "outputs": [],
   "source": [
    "import concurrent.futures\n",
    "\n",
    "def process_text(text) -> Tuple[bool, float, float, float]:\n",
    "    \"\"\"\n",
    "    Process a single text and return counts based on the classification.\n",
    "    \"\"\"\n",
    "    judgement = classify_text_cynicism(text)\n",
    "    \n",
    "    # Access the attributes using dot notation instead of subscripting the MFTAnalysis instance\n",
    "    return (\n",
    "        judgement.is_cynical, \n",
    "        judgement.mft_analysis.authority_subversion,\n",
    "        judgement.mft_analysis.loyalty_betrayal,\n",
    "        judgement.mft_analysis.fairness_injustice\n",
    "    )"
   ]
  },
  {
   "cell_type": "code",
   "execution_count": 47,
   "metadata": {},
   "outputs": [
    {
     "name": "stdout",
     "output_type": "stream",
     "text": [
      "year        size        trace       pairwise    vader       lexical     cynicism    subversion  betrayal    injustice   \n",
      "----------------------------------------------------------------------------------------------------------------------\n",
      "2009        97          0.001       0.564       0.679       0.012       0.455       0.457       0.474       0.433       \n",
      "2010        242         0.001       0.582       0.617       0.027       0.372       0.378       0.388       0.350       \n",
      "2011        195         0.001       0.570       0.726       0.009       0.393       0.399       0.408       0.372       \n",
      "2012        149         0.001       0.542       0.545       0.014       0.545       0.528       0.564       0.542       \n",
      "2013        233         0.001       0.587       0.476       0.023       0.457       0.447       0.484       0.441       \n",
      "2014        234         0.001       0.599       0.566       0.038       0.411       0.403       0.441       0.390       \n",
      "2015        270         0.001       0.579       0.491       0.042       0.414       0.387       0.440       0.415       \n",
      "2016        214         0.001       0.574       0.554       0.039       0.416       0.361       0.480       0.407       \n",
      "2017        203         0.001       0.556       0.598       0.031       0.432       0.366       0.491       0.440       \n",
      "2018        236         0.001       0.553       0.518       0.060       0.449       0.405       0.501       0.442       \n",
      "2019        181         0.001       0.532       0.534       0.022       0.467       0.412       0.525       0.464       \n",
      "2020        150         0.001       0.552       0.564       0.017       0.388       0.345       0.437       0.381       \n",
      "2021        124         0.001       0.492       0.639       0.019       0.443       0.388       0.499       0.443       \n",
      "2022        119         0.001       0.439       0.736       0.025       0.362       0.321       0.376       0.389       \n",
      "2023        140         0.001       0.564       0.609       0.011       0.505       0.496       0.521       0.498       \n",
      "2024        181         0.001       0.429       0.597       0.009       0.595       0.572       0.629       0.582       \n"
     ]
    }
   ],
   "source": [
    "results = []\n",
    "print(f\"{'year':<12}{'size':<12}{'trace':<12}{'pairwise':<12}{'vader':<12}{'lexical':<12}{'cynicism':<12}{'subversion':<12}{'betrayal':<12}{'injustice':<12}\")\n",
    "print(\"-\"*118)\n",
    "LIWC_SCORE_NAME = \"cynicism_lexical\"\n",
    "for year in range(START_YEAR, FINAL_YEAR+1):\n",
    "    year_df = df[df.year==year]\n",
    "    \n",
    "    clean_df, num_diversity_words = prepText(year_df.body)\n",
    "    wv = chunk_process_embeddings(clean_df, num_chunks=12)\n",
    "    \n",
    "    docmatrix = np.array(wv)\n",
    "    pairwise = getNormalizedPairwiseDispersion(docmatrix, cosine_distance)\n",
    "    cov = getCovDispersion(docmatrix)\n",
    "    \n",
    "    # -------------- VADER: Sentiment Analysis ----------------- #\n",
    "    pos_scores = []\n",
    "    neg_scores = []\n",
    "    neu_scores = []\n",
    "    compound_scores = []\n",
    "    \n",
    "    for text in clean_df:\n",
    "        sentiment_scores = sia.polarity_scores(text)\n",
    "        pos_scores.append(sentiment_scores['pos'])\n",
    "        neg_scores.append(sentiment_scores['neg'])\n",
    "        neu_scores.append(sentiment_scores['neu'])\n",
    "        compound_scores.append(sentiment_scores['compound']) \n",
    " \n",
    "    # --------------- LIWC: Lexical Analysis -------------------- #\n",
    "    temp_df = clean_df.copy()\n",
    "    \n",
    "    # Apply LIWC analysis and convert results to separate columns\n",
    "    liwc_scores = temp_df.apply(liwc_analysis)\n",
    "\n",
    "    # Convert the series of dictionaries to a DataFrame\n",
    "    liwc_columns = pd.DataFrame.from_records(liwc_scores.values)\n",
    "    \n",
    "    # Combine with original DataFrame\n",
    "    temp_df = pd.DataFrame(temp_df, columns=['text'])\n",
    "    liwc_df = pd.concat([temp_df, liwc_columns], axis=1)\n",
    "    \n",
    "    # Calculate cynicism score\n",
    "    liwc_df[LIWC_SCORE_NAME] = liwc_df.apply(compute_cynicism_score, axis=1)\n",
    "    sum_liwc_score = liwc_df[LIWC_SCORE_NAME].sum()\n",
    "    \n",
    "    # ---------------- LLM (Llama) Cynical Classification ---------------- #\n",
    "    # Use ThreadPoolExecutor to concurrently process texts\n",
    "    with concurrent.futures.ThreadPoolExecutor(max_workers=12) as executor:\n",
    "        mft_scores = list(executor.map(process_text, clean_df))\n",
    "\n",
    "    mft_subversion_score = sum(auth for is_cynical, auth, _, _ in mft_scores if is_cynical) / len(mft_scores)\n",
    "    mft_betrayal_score   = sum(loyalty for is_cynical, _, loyalty, _ in mft_scores if is_cynical) / len(mft_scores)\n",
    "    mft_injustice_score  = sum(fairness for is_cynical, _, _, fairness in mft_scores if is_cynical) / len(mft_scores)\n",
    "    cynicism_score = (mft_subversion_score + mft_betrayal_score + mft_injustice_score) / 3.0\n",
    "    \n",
    "    result = {'year':     year,\n",
    "              'pairwise': pairwise,\n",
    "              'size':     cov[0],\n",
    "              'trace':    cov[1],\n",
    "              'norm-1':   cov[2],\n",
    "              'norm-2':   cov[3],\n",
    "              'norm-inf': cov[4],\n",
    "              'diversity-words': num_diversity_words,\n",
    "              'mentions-norm'  : num_diversity_words/cov[0],\n",
    "              'pos': sum(pos_scores) / len(pos_scores),\n",
    "              'neg': sum(neg_scores) / len(neg_scores),\n",
    "              'neu': sum(neu_scores) / len(neu_scores),\n",
    "              'vader': sum(compound_scores) / len(compound_scores),\n",
    "              'lexical': sum_liwc_score,\n",
    "              'cynicism': cynicism_score,\n",
    "              'mft_subversion': mft_subversion_score,\n",
    "              'mft_betrayal': mft_betrayal_score,\n",
    "              'mft_injustice': mft_injustice_score,\n",
    "    }\n",
    "    results.append(result)\n",
    "    \n",
    "    print(f\"{year:<12}{cov[0]:<12}{cov[1]:<12.3f}{pairwise:<12.3f}{result['vader']:<12.3f}{result['lexical']:<12.3f}{result['cynicism']:<12.3f}{result['mft_subversion']:<12.3f}{result['mft_betrayal']:<12.3f}{result['mft_injustice']:<12.3f}\")"
   ]
  },
  {
   "cell_type": "code",
   "execution_count": 48,
   "metadata": {},
   "outputs": [
    {
     "data": {
      "text/html": [
       "<div>\n",
       "<style scoped>\n",
       "    .dataframe tbody tr th:only-of-type {\n",
       "        vertical-align: middle;\n",
       "    }\n",
       "\n",
       "    .dataframe tbody tr th {\n",
       "        vertical-align: top;\n",
       "    }\n",
       "\n",
       "    .dataframe thead th {\n",
       "        text-align: right;\n",
       "    }\n",
       "</style>\n",
       "<table border=\"1\" class=\"dataframe\">\n",
       "  <thead>\n",
       "    <tr style=\"text-align: right;\">\n",
       "      <th></th>\n",
       "      <th>pairwise</th>\n",
       "      <th>size</th>\n",
       "      <th>trace</th>\n",
       "      <th>norm-1</th>\n",
       "      <th>norm-2</th>\n",
       "      <th>norm-inf</th>\n",
       "      <th>diversity-words</th>\n",
       "      <th>mentions-norm</th>\n",
       "      <th>pos</th>\n",
       "      <th>neg</th>\n",
       "      <th>neu</th>\n",
       "      <th>vader</th>\n",
       "      <th>lexical</th>\n",
       "      <th>cynicism</th>\n",
       "      <th>mft_subversion</th>\n",
       "      <th>mft_betrayal</th>\n",
       "      <th>mft_injustice</th>\n",
       "    </tr>\n",
       "    <tr>\n",
       "      <th>year</th>\n",
       "      <th></th>\n",
       "      <th></th>\n",
       "      <th></th>\n",
       "      <th></th>\n",
       "      <th></th>\n",
       "      <th></th>\n",
       "      <th></th>\n",
       "      <th></th>\n",
       "      <th></th>\n",
       "      <th></th>\n",
       "      <th></th>\n",
       "      <th></th>\n",
       "      <th></th>\n",
       "      <th></th>\n",
       "      <th></th>\n",
       "      <th></th>\n",
       "      <th></th>\n",
       "    </tr>\n",
       "  </thead>\n",
       "  <tbody>\n",
       "    <tr>\n",
       "      <th>2009</th>\n",
       "      <td>0.563536</td>\n",
       "      <td>97</td>\n",
       "      <td>0.000976</td>\n",
       "      <td>0.000514</td>\n",
       "      <td>0.000437</td>\n",
       "      <td>0.000514</td>\n",
       "      <td>13</td>\n",
       "      <td>0.134021</td>\n",
       "      <td>0.165928</td>\n",
       "      <td>0.108485</td>\n",
       "      <td>0.725485</td>\n",
       "      <td>0.679442</td>\n",
       "      <td>0.0124</td>\n",
       "      <td>0.454639</td>\n",
       "      <td>0.456701</td>\n",
       "      <td>0.474227</td>\n",
       "      <td>0.432990</td>\n",
       "    </tr>\n",
       "    <tr>\n",
       "      <th>2010</th>\n",
       "      <td>0.581667</td>\n",
       "      <td>242</td>\n",
       "      <td>0.000977</td>\n",
       "      <td>0.000497</td>\n",
       "      <td>0.000416</td>\n",
       "      <td>0.000497</td>\n",
       "      <td>61</td>\n",
       "      <td>0.252066</td>\n",
       "      <td>0.174574</td>\n",
       "      <td>0.101835</td>\n",
       "      <td>0.723574</td>\n",
       "      <td>0.616687</td>\n",
       "      <td>0.0272</td>\n",
       "      <td>0.371901</td>\n",
       "      <td>0.377686</td>\n",
       "      <td>0.387603</td>\n",
       "      <td>0.350413</td>\n",
       "    </tr>\n",
       "    <tr>\n",
       "      <th>2011</th>\n",
       "      <td>0.569667</td>\n",
       "      <td>195</td>\n",
       "      <td>0.000977</td>\n",
       "      <td>0.000533</td>\n",
       "      <td>0.000427</td>\n",
       "      <td>0.000533</td>\n",
       "      <td>52</td>\n",
       "      <td>0.266667</td>\n",
       "      <td>0.168862</td>\n",
       "      <td>0.092815</td>\n",
       "      <td>0.738292</td>\n",
       "      <td>0.725629</td>\n",
       "      <td>0.0094</td>\n",
       "      <td>0.392991</td>\n",
       "      <td>0.399487</td>\n",
       "      <td>0.407692</td>\n",
       "      <td>0.371795</td>\n",
       "    </tr>\n",
       "    <tr>\n",
       "      <th>2012</th>\n",
       "      <td>0.542381</td>\n",
       "      <td>149</td>\n",
       "      <td>0.000977</td>\n",
       "      <td>0.000549</td>\n",
       "      <td>0.000455</td>\n",
       "      <td>0.000549</td>\n",
       "      <td>70</td>\n",
       "      <td>0.469799</td>\n",
       "      <td>0.168409</td>\n",
       "      <td>0.108732</td>\n",
       "      <td>0.722839</td>\n",
       "      <td>0.545051</td>\n",
       "      <td>0.0136</td>\n",
       "      <td>0.544519</td>\n",
       "      <td>0.528188</td>\n",
       "      <td>0.563758</td>\n",
       "      <td>0.541611</td>\n",
       "    </tr>\n",
       "    <tr>\n",
       "      <th>2013</th>\n",
       "      <td>0.587123</td>\n",
       "      <td>233</td>\n",
       "      <td>0.000977</td>\n",
       "      <td>0.000497</td>\n",
       "      <td>0.000411</td>\n",
       "      <td>0.000497</td>\n",
       "      <td>82</td>\n",
       "      <td>0.351931</td>\n",
       "      <td>0.172996</td>\n",
       "      <td>0.110159</td>\n",
       "      <td>0.716854</td>\n",
       "      <td>0.475872</td>\n",
       "      <td>0.0231</td>\n",
       "      <td>0.457368</td>\n",
       "      <td>0.446781</td>\n",
       "      <td>0.484120</td>\n",
       "      <td>0.441202</td>\n",
       "    </tr>\n",
       "    <tr>\n",
       "      <th>2014</th>\n",
       "      <td>0.598980</td>\n",
       "      <td>234</td>\n",
       "      <td>0.000977</td>\n",
       "      <td>0.000498</td>\n",
       "      <td>0.000403</td>\n",
       "      <td>0.000498</td>\n",
       "      <td>74</td>\n",
       "      <td>0.316239</td>\n",
       "      <td>0.166368</td>\n",
       "      <td>0.095603</td>\n",
       "      <td>0.738064</td>\n",
       "      <td>0.566041</td>\n",
       "      <td>0.0384</td>\n",
       "      <td>0.411254</td>\n",
       "      <td>0.402564</td>\n",
       "      <td>0.441453</td>\n",
       "      <td>0.389744</td>\n",
       "    </tr>\n",
       "    <tr>\n",
       "      <th>2015</th>\n",
       "      <td>0.579089</td>\n",
       "      <td>270</td>\n",
       "      <td>0.000977</td>\n",
       "      <td>0.000519</td>\n",
       "      <td>0.000422</td>\n",
       "      <td>0.000519</td>\n",
       "      <td>125</td>\n",
       "      <td>0.462963</td>\n",
       "      <td>0.166374</td>\n",
       "      <td>0.110389</td>\n",
       "      <td>0.723178</td>\n",
       "      <td>0.491184</td>\n",
       "      <td>0.0419</td>\n",
       "      <td>0.414198</td>\n",
       "      <td>0.387037</td>\n",
       "      <td>0.440370</td>\n",
       "      <td>0.415185</td>\n",
       "    </tr>\n",
       "    <tr>\n",
       "      <th>2016</th>\n",
       "      <td>0.574153</td>\n",
       "      <td>214</td>\n",
       "      <td>0.000977</td>\n",
       "      <td>0.000540</td>\n",
       "      <td>0.000428</td>\n",
       "      <td>0.000540</td>\n",
       "      <td>74</td>\n",
       "      <td>0.345794</td>\n",
       "      <td>0.172047</td>\n",
       "      <td>0.109089</td>\n",
       "      <td>0.718836</td>\n",
       "      <td>0.554341</td>\n",
       "      <td>0.0392</td>\n",
       "      <td>0.415888</td>\n",
       "      <td>0.360748</td>\n",
       "      <td>0.479907</td>\n",
       "      <td>0.407009</td>\n",
       "    </tr>\n",
       "    <tr>\n",
       "      <th>2017</th>\n",
       "      <td>0.555752</td>\n",
       "      <td>203</td>\n",
       "      <td>0.000977</td>\n",
       "      <td>0.000535</td>\n",
       "      <td>0.000444</td>\n",
       "      <td>0.000535</td>\n",
       "      <td>165</td>\n",
       "      <td>0.812808</td>\n",
       "      <td>0.168128</td>\n",
       "      <td>0.105433</td>\n",
       "      <td>0.726463</td>\n",
       "      <td>0.597840</td>\n",
       "      <td>0.0314</td>\n",
       "      <td>0.432348</td>\n",
       "      <td>0.366010</td>\n",
       "      <td>0.490640</td>\n",
       "      <td>0.440394</td>\n",
       "    </tr>\n",
       "    <tr>\n",
       "      <th>2018</th>\n",
       "      <td>0.553047</td>\n",
       "      <td>236</td>\n",
       "      <td>0.000977</td>\n",
       "      <td>0.000556</td>\n",
       "      <td>0.000447</td>\n",
       "      <td>0.000556</td>\n",
       "      <td>185</td>\n",
       "      <td>0.783898</td>\n",
       "      <td>0.169034</td>\n",
       "      <td>0.107708</td>\n",
       "      <td>0.723275</td>\n",
       "      <td>0.517912</td>\n",
       "      <td>0.0596</td>\n",
       "      <td>0.449294</td>\n",
       "      <td>0.404661</td>\n",
       "      <td>0.500847</td>\n",
       "      <td>0.442373</td>\n",
       "    </tr>\n",
       "    <tr>\n",
       "      <th>2019</th>\n",
       "      <td>0.532393</td>\n",
       "      <td>181</td>\n",
       "      <td>0.000977</td>\n",
       "      <td>0.000563</td>\n",
       "      <td>0.000467</td>\n",
       "      <td>0.000563</td>\n",
       "      <td>98</td>\n",
       "      <td>0.541436</td>\n",
       "      <td>0.169956</td>\n",
       "      <td>0.107414</td>\n",
       "      <td>0.722619</td>\n",
       "      <td>0.533986</td>\n",
       "      <td>0.0223</td>\n",
       "      <td>0.466667</td>\n",
       "      <td>0.411602</td>\n",
       "      <td>0.524862</td>\n",
       "      <td>0.463536</td>\n",
       "    </tr>\n",
       "    <tr>\n",
       "      <th>2020</th>\n",
       "      <td>0.551707</td>\n",
       "      <td>150</td>\n",
       "      <td>0.000977</td>\n",
       "      <td>0.000544</td>\n",
       "      <td>0.000447</td>\n",
       "      <td>0.000544</td>\n",
       "      <td>48</td>\n",
       "      <td>0.320000</td>\n",
       "      <td>0.175180</td>\n",
       "      <td>0.099360</td>\n",
       "      <td>0.725487</td>\n",
       "      <td>0.563549</td>\n",
       "      <td>0.0172</td>\n",
       "      <td>0.387556</td>\n",
       "      <td>0.345333</td>\n",
       "      <td>0.436667</td>\n",
       "      <td>0.380667</td>\n",
       "    </tr>\n",
       "    <tr>\n",
       "      <th>2021</th>\n",
       "      <td>0.491747</td>\n",
       "      <td>124</td>\n",
       "      <td>0.000977</td>\n",
       "      <td>0.000583</td>\n",
       "      <td>0.000504</td>\n",
       "      <td>0.000583</td>\n",
       "      <td>121</td>\n",
       "      <td>0.975806</td>\n",
       "      <td>0.179460</td>\n",
       "      <td>0.095234</td>\n",
       "      <td>0.725282</td>\n",
       "      <td>0.638698</td>\n",
       "      <td>0.0190</td>\n",
       "      <td>0.443280</td>\n",
       "      <td>0.387903</td>\n",
       "      <td>0.499194</td>\n",
       "      <td>0.442742</td>\n",
       "    </tr>\n",
       "    <tr>\n",
       "      <th>2022</th>\n",
       "      <td>0.438866</td>\n",
       "      <td>119</td>\n",
       "      <td>0.000977</td>\n",
       "      <td>0.000615</td>\n",
       "      <td>0.000555</td>\n",
       "      <td>0.000615</td>\n",
       "      <td>152</td>\n",
       "      <td>1.277311</td>\n",
       "      <td>0.164782</td>\n",
       "      <td>0.090218</td>\n",
       "      <td>0.745017</td>\n",
       "      <td>0.736403</td>\n",
       "      <td>0.0251</td>\n",
       "      <td>0.361905</td>\n",
       "      <td>0.321008</td>\n",
       "      <td>0.375630</td>\n",
       "      <td>0.389076</td>\n",
       "    </tr>\n",
       "    <tr>\n",
       "      <th>2023</th>\n",
       "      <td>0.563527</td>\n",
       "      <td>140</td>\n",
       "      <td>0.000977</td>\n",
       "      <td>0.000528</td>\n",
       "      <td>0.000452</td>\n",
       "      <td>0.000528</td>\n",
       "      <td>136</td>\n",
       "      <td>0.971429</td>\n",
       "      <td>0.170300</td>\n",
       "      <td>0.098029</td>\n",
       "      <td>0.731679</td>\n",
       "      <td>0.609247</td>\n",
       "      <td>0.0115</td>\n",
       "      <td>0.505000</td>\n",
       "      <td>0.495714</td>\n",
       "      <td>0.521429</td>\n",
       "      <td>0.497857</td>\n",
       "    </tr>\n",
       "    <tr>\n",
       "      <th>2024</th>\n",
       "      <td>0.429482</td>\n",
       "      <td>181</td>\n",
       "      <td>0.000977</td>\n",
       "      <td>0.000652</td>\n",
       "      <td>0.000564</td>\n",
       "      <td>0.000652</td>\n",
       "      <td>240</td>\n",
       "      <td>1.325967</td>\n",
       "      <td>0.165856</td>\n",
       "      <td>0.098260</td>\n",
       "      <td>0.735878</td>\n",
       "      <td>0.596863</td>\n",
       "      <td>0.0094</td>\n",
       "      <td>0.594659</td>\n",
       "      <td>0.572376</td>\n",
       "      <td>0.629282</td>\n",
       "      <td>0.582320</td>\n",
       "    </tr>\n",
       "  </tbody>\n",
       "</table>\n",
       "</div>"
      ],
      "text/plain": [
       "      pairwise  size     trace    norm-1    norm-2  norm-inf  diversity-words  \\\n",
       "year                                                                            \n",
       "2009  0.563536    97  0.000976  0.000514  0.000437  0.000514               13   \n",
       "2010  0.581667   242  0.000977  0.000497  0.000416  0.000497               61   \n",
       "2011  0.569667   195  0.000977  0.000533  0.000427  0.000533               52   \n",
       "2012  0.542381   149  0.000977  0.000549  0.000455  0.000549               70   \n",
       "2013  0.587123   233  0.000977  0.000497  0.000411  0.000497               82   \n",
       "2014  0.598980   234  0.000977  0.000498  0.000403  0.000498               74   \n",
       "2015  0.579089   270  0.000977  0.000519  0.000422  0.000519              125   \n",
       "2016  0.574153   214  0.000977  0.000540  0.000428  0.000540               74   \n",
       "2017  0.555752   203  0.000977  0.000535  0.000444  0.000535              165   \n",
       "2018  0.553047   236  0.000977  0.000556  0.000447  0.000556              185   \n",
       "2019  0.532393   181  0.000977  0.000563  0.000467  0.000563               98   \n",
       "2020  0.551707   150  0.000977  0.000544  0.000447  0.000544               48   \n",
       "2021  0.491747   124  0.000977  0.000583  0.000504  0.000583              121   \n",
       "2022  0.438866   119  0.000977  0.000615  0.000555  0.000615              152   \n",
       "2023  0.563527   140  0.000977  0.000528  0.000452  0.000528              136   \n",
       "2024  0.429482   181  0.000977  0.000652  0.000564  0.000652              240   \n",
       "\n",
       "      mentions-norm       pos       neg       neu     vader  lexical  \\\n",
       "year                                                                   \n",
       "2009       0.134021  0.165928  0.108485  0.725485  0.679442   0.0124   \n",
       "2010       0.252066  0.174574  0.101835  0.723574  0.616687   0.0272   \n",
       "2011       0.266667  0.168862  0.092815  0.738292  0.725629   0.0094   \n",
       "2012       0.469799  0.168409  0.108732  0.722839  0.545051   0.0136   \n",
       "2013       0.351931  0.172996  0.110159  0.716854  0.475872   0.0231   \n",
       "2014       0.316239  0.166368  0.095603  0.738064  0.566041   0.0384   \n",
       "2015       0.462963  0.166374  0.110389  0.723178  0.491184   0.0419   \n",
       "2016       0.345794  0.172047  0.109089  0.718836  0.554341   0.0392   \n",
       "2017       0.812808  0.168128  0.105433  0.726463  0.597840   0.0314   \n",
       "2018       0.783898  0.169034  0.107708  0.723275  0.517912   0.0596   \n",
       "2019       0.541436  0.169956  0.107414  0.722619  0.533986   0.0223   \n",
       "2020       0.320000  0.175180  0.099360  0.725487  0.563549   0.0172   \n",
       "2021       0.975806  0.179460  0.095234  0.725282  0.638698   0.0190   \n",
       "2022       1.277311  0.164782  0.090218  0.745017  0.736403   0.0251   \n",
       "2023       0.971429  0.170300  0.098029  0.731679  0.609247   0.0115   \n",
       "2024       1.325967  0.165856  0.098260  0.735878  0.596863   0.0094   \n",
       "\n",
       "      cynicism  mft_subversion  mft_betrayal  mft_injustice  \n",
       "year                                                         \n",
       "2009  0.454639        0.456701      0.474227       0.432990  \n",
       "2010  0.371901        0.377686      0.387603       0.350413  \n",
       "2011  0.392991        0.399487      0.407692       0.371795  \n",
       "2012  0.544519        0.528188      0.563758       0.541611  \n",
       "2013  0.457368        0.446781      0.484120       0.441202  \n",
       "2014  0.411254        0.402564      0.441453       0.389744  \n",
       "2015  0.414198        0.387037      0.440370       0.415185  \n",
       "2016  0.415888        0.360748      0.479907       0.407009  \n",
       "2017  0.432348        0.366010      0.490640       0.440394  \n",
       "2018  0.449294        0.404661      0.500847       0.442373  \n",
       "2019  0.466667        0.411602      0.524862       0.463536  \n",
       "2020  0.387556        0.345333      0.436667       0.380667  \n",
       "2021  0.443280        0.387903      0.499194       0.442742  \n",
       "2022  0.361905        0.321008      0.375630       0.389076  \n",
       "2023  0.505000        0.495714      0.521429       0.497857  \n",
       "2024  0.594659        0.572376      0.629282       0.582320  "
      ]
     },
     "execution_count": 48,
     "metadata": {},
     "output_type": "execute_result"
    }
   ],
   "source": [
    "results_df = pd.DataFrame.from_records(results)\n",
    "results_df.set_index('year')"
   ]
  },
  {
   "cell_type": "markdown",
   "metadata": {},
   "source": [
    "### MFT Analysis with LLM"
   ]
  },
  {
   "cell_type": "code",
   "execution_count": 49,
   "metadata": {},
   "outputs": [],
   "source": [
    "import matplotlib.pyplot as plt\n",
    "from scipy.stats import linregress, t\n",
    "\n",
    "def calculate_regression_stats(x, y):\n",
    "    \"\"\"\n",
    "    Calculate comprehensive regression statistics including confidence intervals.\n",
    "    \n",
    "    Args:\n",
    "        x (array-like): Independent variable values\n",
    "        y (array-like): Dependent variable values\n",
    "        \n",
    "    Returns:\n",
    "        dict: Dictionary containing regression statistics:\n",
    "            - slope: Regression slope\n",
    "            - intercept: Regression intercept \n",
    "            - ci_lower: Lower bound of 95% CI\n",
    "            - ci_upper: Upper bound of 95% CI\n",
    "            - r_value: R-value (correlation coefficient)\n",
    "            - p_value: P-value for significance\n",
    "            - std_err: Standard error of the slope\n",
    "    \"\"\"\n",
    "    # Calculate basic regression statistics\n",
    "    slope, intercept, r_value, p_value, std_err = linregress(x, y)\n",
    "    \n",
    "    # Calculate 95% confidence interval\n",
    "    confidence_level = 0.95\n",
    "    degrees_of_freedom = len(x) - 2\n",
    "    t_value = t.ppf((1 + confidence_level) / 2, degrees_of_freedom)\n",
    "    margin_of_error = t_value * std_err\n",
    "    ci_lower = slope - margin_of_error\n",
    "    ci_upper = slope + margin_of_error\n",
    "    \n",
    "    return {\n",
    "        'slope': slope,\n",
    "        'intercept': intercept,\n",
    "        'ci_lower': ci_lower,\n",
    "        'ci_upper': ci_upper,\n",
    "        'r_value': r_value,\n",
    "        'p_value': p_value,\n",
    "        'std_err': std_err\n",
    "    }\n",
    "\n",
    "def print_regression_stats(x, y, title):\n",
    "    stats = calculate_regression_stats(x, y)\n",
    "    print(f\"\\n{title}:\")\n",
    "    print(f\"Slope: {stats['slope']:.5f}\")\n",
    "    print(f\"95% CI: ({stats['ci_lower']:.5f}, {stats['ci_upper']:.5f})\")\n",
    "    print(f\"R-value: {stats['r_value']:.5f}\")\n",
    "    print(f\"P-value: {stats['p_value']:.5f}\")\n",
    "    print(f\"Standard Error: {stats['std_err']:.5f}\")"
   ]
  },
  {
   "cell_type": "code",
   "execution_count": 51,
   "metadata": {},
   "outputs": [
    {
     "name": "stdout",
     "output_type": "stream",
     "text": [
      "\n",
      "Cynicism regression statistics::\n",
      "Slope: 0.00366\n",
      "95% CI: (-0.00353, 0.01084)\n",
      "R-value: 0.28016\n",
      "P-value: 0.29327\n",
      "Standard Error: 0.00335\n",
      "\n",
      "Subversion regression statistics::\n",
      "Slope: 0.00079\n",
      "95% CI: (-0.00738, 0.00896)\n",
      "R-value: 0.05531\n",
      "P-value: 0.83877\n",
      "Standard Error: 0.00381\n",
      "\n",
      "Betrayal regression statistics::\n",
      "Slope: 0.00501\n",
      "95% CI: (-0.00228, 0.01230)\n",
      "R-value: 0.36665\n",
      "P-value: 0.16246\n",
      "Standard Error: 0.00340\n",
      "\n",
      "Injustice regression statistics::\n",
      "Slope: 0.00517\n",
      "95% CI: (-0.00166, 0.01200)\n",
      "R-value: 0.39807\n",
      "P-value: 0.12675\n",
      "Standard Error: 0.00319\n"
     ]
    },
    {
     "data": {
      "image/png": "[encoded data removed]",
      "text/plain": [
       "<Figure size 1000x600 with 1 Axes>"
      ]
     },
     "metadata": {},
     "output_type": "display_data"
    }
   ],
   "source": [
    "# Define x-axis values as integers\n",
    "x = results_df['year'].astype(int)\n",
    "\n",
    "# Rest of regression calculations remain the same\n",
    "y_cynicism = results_df['cynicism']\n",
    "slope_c, intercept_c, r_value, p_value, std_err = linregress(x, y_cynicism)\n",
    "print_regression_stats(x, y_cynicism, \"Cynicism regression statistics:\")\n",
    "\n",
    "# Compute regressions for MFT components\n",
    "y_subversion = results_df['mft_subversion']\n",
    "slope_auth, intercept_auth, _, _, _ = linregress(x, y_subversion)\n",
    "print_regression_stats(x, y_subversion, \"Subversion regression statistics:\")\n",
    "\n",
    "y_betrayal = results_df['mft_betrayal']\n",
    "slope_betrayal, intercept_betrayal, _, _, _ = linregress(x, y_betrayal)\n",
    "print_regression_stats(x, y_betrayal, \"Betrayal regression statistics:\")\n",
    "\n",
    "y_injustice = results_df['mft_injustice']\n",
    "slope_fair, intercept_fair, _, _, _ = linregress(x, y_injustice)\n",
    "print_regression_stats(x, y_injustice, \"Injustice regression statistics:\")\n",
    "# Create plot\n",
    "plt.figure(figsize=(10, 6))\n",
    "\n",
    "# Scatter plots\n",
    "plt.scatter(x, y_cynicism, color='blue', label='Cynicism Data')\n",
    "plt.scatter(x, y_subversion, color='green', s=50, alpha=0.6, label='Subversion')\n",
    "plt.scatter(x, y_betrayal, color='orange', s=50, alpha=0.6, label='Betrayal')\n",
    "plt.scatter(x, y_injustice, color='purple', s=50, alpha=0.6, label='Injustice')\n",
    "\n",
    "# Trend lines\n",
    "plt.plot(x, intercept_c + slope_c * x, color='blue', linestyle='-', linewidth=2.5, label='Cynicism Trend')\n",
    "plt.plot(x, intercept_auth + slope_auth * x, color='green', linestyle=':', linewidth=1.5, label='Subversion Trend')\n",
    "plt.plot(x, intercept_betrayal + slope_betrayal * x, color='orange', linestyle=':', linewidth=1.5, label='Betrayal Trend')\n",
    "plt.plot(x, intercept_fair + slope_fair * x, color='purple', linestyle=':', linewidth=1.5, label='Injustice Trend')\n",
    "\n",
    "# Set integer ticks for x-axis\n",
    "plt.xticks(x)\n",
    "\n",
    "# Calculate y-axis limits\n",
    "all_y_values = np.concatenate([y_cynicism, y_subversion, y_betrayal, y_injustice])\n",
    "y_min = np.min(all_y_values)\n",
    "y_max = np.max(all_y_values)\n",
    "\n",
    "plt.title(\"Harvard Columns: Cynicism & MFT Trends\")\n",
    "plt.xlabel(\"Year\")\n",
    "plt.ylabel(\"Score\")\n",
    "plt.legend(loc='upper left')\n",
    "plt.ylim(y_min * 0.95, y_max * 1.1)\n",
    "plt.show()"
   ]
  },
  {
   "cell_type": "markdown",
   "metadata": {},
   "source": [
    "### Regression Goodness of Fit: Explicit Diversity Words"
   ]
  },
  {
   "cell_type": "code",
   "execution_count": 53,
   "metadata": {},
   "outputs": [
    {
     "data": {
      "image/png": "[encoded data removed]",
      "text/plain": [
       "<Figure size 640x480 with 1 Axes>"
      ]
     },
     "metadata": {},
     "output_type": "display_data"
    }
   ],
   "source": [
    "import matplotlib.pyplot as plt\n",
    "from scipy.stats import linregress\n",
    "\n",
    "x = results_df['year']\n",
    "y = results_df['mentions-norm']\n",
    "\n",
    "slope, intercept, r_value, p_value, std_err = linregress(x, y)\n",
    "\n",
    "results_df.plot(x=\"year\", y=\"mentions-norm\", kind=\"scatter\")\n",
    "\n",
    "plt.plot(x, intercept + slope*x, 'b:', label='fitted regression')\n",
    "\n",
    "plt.title(\"Harvard Columns: Explicit Diversity mentions-norm per Year\")\n",
    "plt.legend(loc='lower right')\n",
    "plt.ylim(min(y)*0.95, max(y)*1.05)\n",
    "plt.show()"
   ]
  },
  {
   "cell_type": "markdown",
   "metadata": {},
   "source": [
    "### Regression Goodness of Fit: Pairwise Dispersion"
   ]
  },
  {
   "cell_type": "code",
   "execution_count": 54,
   "metadata": {},
   "outputs": [
    {
     "data": {
      "image/png": "[encoded data removed]",
      "text/plain": [
       "<Figure size 640x480 with 1 Axes>"
      ]
     },
     "metadata": {},
     "output_type": "display_data"
    }
   ],
   "source": [
    "import matplotlib.pyplot as plt\n",
    "from scipy.stats import linregress\n",
    "\n",
    "x = results_df['year']\n",
    "y = results_df['pairwise']\n",
    "\n",
    "slope, intercept, r_value, p_value, std_err = linregress(x, y)\n",
    "\n",
    "results_df.plot(x=\"year\", y=\"pairwise\", kind=\"scatter\")\n",
    "\n",
    "plt.plot(x, intercept + slope*x, 'b:', label='fitted regression')\n",
    "\n",
    "plt.title(\"Harvard Columns by year: Pairwise Dispersion\")\n",
    "plt.legend(loc='upper right')\n",
    "plt.ylim(min(y)*0.95, max(y)*1.05)\n",
    "plt.show()"
   ]
  },
  {
   "cell_type": "markdown",
   "metadata": {},
   "source": [
    "### Regression Goodness of Fit: VADER Sentiment Analysis"
   ]
  },
  {
   "cell_type": "code",
   "execution_count": 55,
   "metadata": {},
   "outputs": [
    {
     "data": {
      "image/png": "[encoded data removed]",
      "text/plain": [
       "<Figure size 640x480 with 1 Axes>"
      ]
     },
     "metadata": {},
     "output_type": "display_data"
    }
   ],
   "source": [
    "x = results_df['year']\n",
    "y = results_df['vader']\n",
    "\n",
    "slope, intercept, r_value, p_value, std_err = linregress(x, y)\n",
    "\n",
    "results_df.plot(x=\"year\", y=\"vader\", kind=\"scatter\")\n",
    "\n",
    "plt.plot(x, intercept + slope*x, 'b:', label='fitted regression')\n",
    "\n",
    "plt.title(\"Harvard Combined Opinions by year: VADER Sentiment Analysis\")\n",
    "plt.legend(loc='upper right')\n",
    "plt.ylim(min(y)*0.95, max(y)*1.05)\n",
    "plt.show()"
   ]
  },
  {
   "cell_type": "markdown",
   "metadata": {},
   "source": [
    "### Regression Goodness of Fit: LIWC Lexical Analysis"
   ]
  },
  {
   "cell_type": "code",
   "execution_count": 56,
   "metadata": {},
   "outputs": [
    {
     "data": {
      "image/png": "[encoded data removed]",
      "text/plain": [
       "<Figure size 640x480 with 1 Axes>"
      ]
     },
     "metadata": {},
     "output_type": "display_data"
    }
   ],
   "source": [
    "x = results_df['year']\n",
    "y = results_df['lexical']\n",
    "\n",
    "slope, intercept, r_value, p_value, std_err = linregress(x, y)\n",
    "\n",
    "results_df.plot(x=\"year\", y=\"lexical\", kind=\"scatter\")\n",
    "\n",
    "plt.plot(x, intercept + slope*x, 'b:', label='fitted regression')\n",
    "\n",
    "plt.title(\"Harvard Columns by year: LIWC Lexical Analysis\")\n",
    "plt.legend(loc='upper right')\n",
    "plt.ylim(min(y)*0.95, max(y)*1.05)\n",
    "plt.show()"
   ]
  },
  {
   "cell_type": "markdown",
   "metadata": {},
   "source": [
    "## Combined Diversity and Sentiment Analyses"
   ]
  },
  {
   "cell_type": "code",
   "execution_count": 58,
   "metadata": {},
   "outputs": [
    {
     "name": "stdout",
     "output_type": "stream",
     "text": [
      "\n",
      "mentions-norm metrics:\n",
      "  slope: 0.06652\n",
      "  95% CI: (0.04218, 0.09086)\n",
      "  std error: 0.01135\n",
      "  p-value: 0.00004\n",
      "  r-value: 0.84290\n",
      "\n",
      "pairwise metrics:\n",
      "  slope: -0.00709\n",
      "  95% CI: (-0.01149, -0.00268)\n",
      "  std error: 0.00205\n",
      "  p-value: 0.00392\n",
      "  r-value: -0.67769\n",
      "\n",
      "vader metrics:\n",
      "  slope: 0.00030\n",
      "  95% CI: (-0.00887, 0.00947)\n",
      "  std error: 0.00428\n",
      "  p-value: 0.94531\n",
      "  r-value: 0.01866\n",
      "\n",
      "lexical metrics:\n",
      "  slope: -0.00015\n",
      "  95% CI: (-0.00185, 0.00154)\n",
      "  std error: 0.00079\n",
      "  p-value: 0.84875\n",
      "  r-value: -0.05185\n"
     ]
    },
    {
     "data": {
      "image/png": "[encoded data removed]",
      "text/plain": [
       "<Figure size 1600x400 with 4 Axes>"
      ]
     },
     "metadata": {},
     "output_type": "display_data"
    }
   ],
   "source": [
    "# Select the columns to plot\n",
    "columns = [\"mentions-norm\", \"pairwise\", \"vader\", \"lexical\"]\n",
    "\n",
    "# Create a figure with subplots\n",
    "fig, axs = plt.subplots(nrows=1, ncols=len(columns), sharex=True, figsize=(16,4))\n",
    "\n",
    "# Loop through the columns and plot each one\n",
    "for ax, column in zip(axs, columns):\n",
    "    # Select the data for the current column\n",
    "    x = range(len(results_df.index))\n",
    "    y = results_df[column]\n",
    "     \n",
    "    # Calculate the linear regression\n",
    "    slope, intercept, r_value, p_value, std_err = linregress(x, y)\n",
    "    \n",
    "    # Calculate 95% confidence interval\n",
    "    confidence_level = 0.95\n",
    "    degrees_of_freedom = len(x) - 2\n",
    "    t_value = t.ppf((1 + confidence_level) / 2, degrees_of_freedom)\n",
    "    margin_of_error = t_value * std_err\n",
    "    ci_lower = slope - margin_of_error\n",
    "    ci_upper = slope + margin_of_error\n",
    "    \n",
    "    # Print comprehensive statistics\n",
    "    print(f\"\\n{column} metrics:\")\n",
    "    print(f\"  slope: {slope:.5f}\")\n",
    "    print(f\"  95% CI: ({ci_lower:.5f}, {ci_upper:.5f})\")\n",
    "    print(f\"  std error: {std_err:.5f}\")\n",
    "    print(f\"  p-value: {p_value:.5f}\")\n",
    "    print(f\"  r-value: {r_value:.5f}\")\n",
    "\n",
    "    # Plot the data and the linear regression line\n",
    "    results_df[column].plot(ax=ax, style=\".\", x=x, y=y, label=column)\n",
    "    ax.plot(x, intercept + slope*x, 'b:', label='regression')\n",
    "    ax.set_ylim(min(y)*0.9, max(y)*1.1)\n",
    "    # ax.set_ylim(0.0, 1.0)\n",
    "    \n",
    "    # Add a legend\n",
    "    ax.legend(loc='lower center')\n",
    "\n",
    "    # Add x-label for the years\n",
    "    ax.set_xticks(results_df.index)\n",
    "    ax.set_xticklabels(results_df.year)\n",
    "    ax.tick_params(axis='x', rotation=45)\n",
    "    \n",
    "plt.xlabel(\"Year\")\n",
    "plt.suptitle(\"Trending of Harvard Columns: Diversity, Sentiment, and Lexical Analyses\")\n",
    "plt.tight_layout()\n",
    "plt.show()"
   ]
  },
  {
   "cell_type": "code",
   "execution_count": 59,
   "metadata": {},
   "outputs": [
    {
     "name": "stdout",
     "output_type": "stream",
     "text": [
      "Slope: -0.00709\n",
      "95% Confidence Interval: (-0.01149, -0.00268)\n",
      "Standard Error: 0.00205\n",
      "P-value: 0.00392\n"
     ]
    }
   ],
   "source": [
    "from scipy.stats import t, linregress\n",
    "\n",
    "x = results_df['year']\n",
    "y = results_df['pairwise']\n",
    "\n",
    "slope, intercept, r_value, p_value, std_err = linregress(x, y)\n",
    "\n",
    "confidence_level = 0.95\n",
    "degrees_of_freedom = len(x) - 2\n",
    "t_value = t.ppf((1 + confidence_level) / 2, degrees_of_freedom)\n",
    "\n",
    "margin_of_error = t_value * std_err\n",
    "\n",
    "ci_lower = slope - margin_of_error\n",
    "ci_upper = slope + margin_of_error\n",
    "\n",
    "print(f\"Slope: {slope:.5f}\")\n",
    "print(f\"95% Confidence Interval: ({ci_lower:.5f}, {ci_upper:.5f})\")\n",
    "print(f\"Standard Error: {std_err:.5f}\")\n",
    "print(f\"P-value: {p_value:.5f}\")"
   ]
  }
 ],
 "metadata": {
  "kernelspec": {
   "display_name": ".venv",
   "language": "python",
   "name": "python3"
  },
  "language_info": {
   "codemirror_mode": {
    "name": "ipython",
    "version": 3
   },
   "file_extension": ".py",
   "mimetype": "text/x-python",
   "name": "python",
   "nbconvert_exporter": "python",
   "pygments_lexer": "ipython3",
   "version": "3.11.9"
  }
 },
 "nbformat": 4,
 "nbformat_minor": 2
}
