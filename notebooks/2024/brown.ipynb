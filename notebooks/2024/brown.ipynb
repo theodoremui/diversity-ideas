{
 "cells": [
  {
   "cell_type": "markdown",
   "metadata": {},
   "source": [
    "# Diversity of Ideas: Brown\n"
   ]
  },
  {
   "cell_type": "markdown",
   "metadata": {},
   "source": [
    "## 1. Setup\n"
   ]
  },
  {
   "cell_type": "code",
   "execution_count": 2,
   "metadata": {},
   "outputs": [
    {
     "data": {
      "text/plain": [
       "True"
      ]
     },
     "execution_count": 2,
     "metadata": {},
     "output_type": "execute_result"
    }
   ],
   "source": [
    "from dotenv import load_dotenv, find_dotenv\n",
    "load_dotenv(find_dotenv())"
   ]
  },
  {
   "cell_type": "code",
   "execution_count": 3,
   "metadata": {},
   "outputs": [
    {
     "name": "stderr",
     "output_type": "stream",
     "text": [
      "[nltk_data] Downloading package punkt to\n",
      "[nltk_data]     C:\\Users\\theod\\AppData\\Roaming\\nltk_data...\n",
      "[nltk_data]   Package punkt is already up-to-date!\n",
      "[nltk_data] Downloading package punkt_tab to\n",
      "[nltk_data]     C:\\Users\\theod\\AppData\\Roaming\\nltk_data...\n",
      "[nltk_data]   Package punkt_tab is already up-to-date!\n"
     ]
    }
   ],
   "source": [
    "import pandas as pd\n",
    "import nltk\n",
    "from nltk.tokenize import word_tokenize\n",
    "from collections import Counter\n",
    "nltk.download('punkt')\n",
    "nltk.download('punkt_tab')\n",
    "from util.ouraws import (\n",
    "    getFromFile\n",
    ")"
   ]
  },
  {
   "cell_type": "code",
   "execution_count": 4,
   "metadata": {},
   "outputs": [
    {
     "data": {
      "text/plain": [
       "'c:\\\\Users\\\\theod\\\\OneDrive\\\\dev\\\\diversity-ideas\\\\notebooks\\\\2024'"
      ]
     },
     "execution_count": 4,
     "metadata": {},
     "output_type": "execute_result"
    }
   ],
   "source": [
    "%pwd"
   ]
  },
  {
   "cell_type": "code",
   "execution_count": 5,
   "metadata": {},
   "outputs": [
    {
     "data": {
      "text/plain": [
       "(4750, 6)"
      ]
     },
     "execution_count": 5,
     "metadata": {},
     "output_type": "execute_result"
    }
   ],
   "source": [
    "df = getFromFile(\"../../data/brown-opinions.parquet\", False)\n",
    "df.shape"
   ]
  },
  {
   "cell_type": "code",
   "execution_count": 6,
   "metadata": {},
   "outputs": [
    {
     "data": {
      "text/html": [
       "<div>\n",
       "<style scoped>\n",
       "    .dataframe tbody tr th:only-of-type {\n",
       "        vertical-align: middle;\n",
       "    }\n",
       "\n",
       "    .dataframe tbody tr th {\n",
       "        vertical-align: top;\n",
       "    }\n",
       "\n",
       "    .dataframe thead th {\n",
       "        text-align: right;\n",
       "    }\n",
       "</style>\n",
       "<table border=\"1\" class=\"dataframe\">\n",
       "  <thead>\n",
       "    <tr style=\"text-align: right;\">\n",
       "      <th></th>\n",
       "      <th>title</th>\n",
       "      <th>url</th>\n",
       "      <th>body</th>\n",
       "      <th>year</th>\n",
       "      <th>month</th>\n",
       "      <th>day</th>\n",
       "    </tr>\n",
       "  </thead>\n",
       "  <tbody>\n",
       "    <tr>\n",
       "      <th>0</th>\n",
       "      <td>Harb ’04: Twenty years ago, Brown University d...</td>\n",
       "      <td>https://www.browndailyherald.com/article/2024/...</td>\n",
       "      <td>Harb ’04: Twenty years ago, Brown University d...</td>\n",
       "      <td>2024</td>\n",
       "      <td>5</td>\n",
       "      <td>26</td>\n",
       "    </tr>\n",
       "    <tr>\n",
       "      <th>1</th>\n",
       "      <td>McCarthy ’24: On Belonging</td>\n",
       "      <td>https://www.browndailyherald.com/article/2024/...</td>\n",
       "      <td>McCarthy ’24: On Belonging\\nTruth be told, I w...</td>\n",
       "      <td>2024</td>\n",
       "      <td>5</td>\n",
       "      <td>24</td>\n",
       "    </tr>\n",
       "    <tr>\n",
       "      <th>2</th>\n",
       "      <td>Vulakh ’24: Looking beyond the Van Wickle Gate...</td>\n",
       "      <td>https://www.browndailyherald.com/article/2024/...</td>\n",
       "      <td>Vulakh ’24: Looking beyond the Van Wickle Gate...</td>\n",
       "      <td>2024</td>\n",
       "      <td>5</td>\n",
       "      <td>24</td>\n",
       "    </tr>\n",
       "    <tr>\n",
       "      <th>3</th>\n",
       "      <td>Zucker ’24: We Are All Born Lacking</td>\n",
       "      <td>https://www.browndailyherald.com/article/2024/...</td>\n",
       "      <td>Zucker ’24: We Are All Born Lacking\\nWe are al...</td>\n",
       "      <td>2024</td>\n",
       "      <td>5</td>\n",
       "      <td>24</td>\n",
       "    </tr>\n",
       "  </tbody>\n",
       "</table>\n",
       "</div>"
      ],
      "text/plain": [
       "                                               title  \\\n",
       "0  Harb ’04: Twenty years ago, Brown University d...   \n",
       "1                         McCarthy ’24: On Belonging   \n",
       "2  Vulakh ’24: Looking beyond the Van Wickle Gate...   \n",
       "3                Zucker ’24: We Are All Born Lacking   \n",
       "\n",
       "                                                 url  \\\n",
       "0  https://www.browndailyherald.com/article/2024/...   \n",
       "1  https://www.browndailyherald.com/article/2024/...   \n",
       "2  https://www.browndailyherald.com/article/2024/...   \n",
       "3  https://www.browndailyherald.com/article/2024/...   \n",
       "\n",
       "                                                body  year  month  day  \n",
       "0  Harb ’04: Twenty years ago, Brown University d...  2024      5   26  \n",
       "1  McCarthy ’24: On Belonging\\nTruth be told, I w...  2024      5   24  \n",
       "2  Vulakh ’24: Looking beyond the Van Wickle Gate...  2024      5   24  \n",
       "3  Zucker ’24: We Are All Born Lacking\\nWe are al...  2024      5   24  "
      ]
     },
     "execution_count": 6,
     "metadata": {},
     "output_type": "execute_result"
    }
   ],
   "source": [
    "df.head(4)"
   ]
  },
  {
   "cell_type": "markdown",
   "metadata": {},
   "source": [
    "## 2. Function Definitions\n"
   ]
  },
  {
   "cell_type": "code",
   "execution_count": 7,
   "metadata": {},
   "outputs": [],
   "source": [
    "import numpy as np\n",
    "import re"
   ]
  },
  {
   "cell_type": "code",
   "execution_count": 8,
   "metadata": {},
   "outputs": [],
   "source": [
    "def getCovDispersion(wv):\n",
    "    \"\"\"\n",
    "    Calculate various dispersion measures using the covariance matrix of word vectors.\n",
    "    \n",
    "    Args:\n",
    "        wv: numpy array of shape (n_documents, embedding_dim) containing document embeddings\n",
    "        \n",
    "    Returns:\n",
    "        tuple containing:\n",
    "        - N: number of documents\n",
    "        - trace_norm: average variance along the diagonal\n",
    "        - l1_norm: L1 norm of covariance matrix (normalized)\n",
    "        - l2_norm: L2 norm of covariance matrix (normalized)\n",
    "        - inf_norm: Infinity norm of covariance matrix (normalized)\n",
    "    \"\"\"\n",
    "    # Get number of documents\n",
    "    N = len(wv)\n",
    "    \n",
    "    # Calculate covariance matrix of the word vectors\n",
    "    # This measures how dimensions vary together across documents\n",
    "    cov = np.cov(wv)\n",
    "    \n",
    "    return (\n",
    "        N,  # Number of documents\n",
    "        np.trace(cov)/N,  # Average variance along diagonal (spread in each dimension)\n",
    "        np.linalg.norm(cov, ord=1)/N,  # L1 norm (sum of absolute values)\n",
    "        np.linalg.norm(cov, ord=2)/N,  # L2/Spectral norm (largest singular value)\n",
    "        np.linalg.norm(cov, ord=np.inf)/N,  # Infinity norm (max absolute row sum)\n",
    "    )\n",
    "\n",
    "def cosine_distance(v1, v2):\n",
    "    \"\"\"Calculate the cosine distance between two numpy arrays.\n",
    "    \n",
    "    Parameters:\n",
    "    a (numpy array): First input array.\n",
    "    b (numpy array): Second input array.\n",
    "    \n",
    "    Returns:\n",
    "    float: Cosine distance between a and b.\n",
    "    \"\"\"\n",
    "    a = np.array(v1, dtype=np.float64)\n",
    "    b = np.array(v2, dtype=np.float64)\n",
    "    # Calculate dot product and magnitudes of the input arrays\n",
    "    dot   = np.dot(a, b)\n",
    "    a_mag = np.linalg.norm(a)\n",
    "    b_mag = np.linalg.norm(b)\n",
    "    \n",
    "    if np.isclose(a_mag, 0, rtol=1e-9, atol=1e-12):\n",
    "        print(f\"a_mag is very small: {a_mag}\")\n",
    "    if np.isclose(b_mag, 0, rtol=1e-9, atol=1e-12):\n",
    "        print(f\"b_mag is very small: {b_mag}\")\n",
    "    \n",
    "    # Calculate and return the cosine distance\n",
    "    return 1.0 - (dot / (a_mag * b_mag))\n",
    "\n",
    "def getPairwiseDispersion(wv, measure):\n",
    "    if len(wv) <= 1: return 0.0\n",
    "    distance = 0.0\n",
    "    vec = wv[0]\n",
    "    for v in wv[1:]:\n",
    "        distance += measure(vec, v)\n",
    "        # print(f\"\\tcos_distance: {measure(vec, v)}\")\n",
    "    return distance + getPairwiseDispersion(wv[1:], measure)\n",
    "\n",
    "def getNormalizedPairwiseDispersion(wv, measure):\n",
    "    '''Normalize the dispersion by (N-Choose-2) number of pairs'''\n",
    "    N = len(wv)\n",
    "    return getPairwiseDispersion(wv, measure) / (N * (N-1)/2.)"
   ]
  },
  {
   "cell_type": "code",
   "execution_count": 9,
   "metadata": {},
   "outputs": [],
   "source": [
    "diversity_words = [\n",
    "    'diversity', \n",
    "    'equity',\n",
    "    'inclusion',\n",
    "    'inclusive',\n",
    "    'inclusivity',\n",
    "    'equality', \n",
    "    'equal opportunity',\n",
    "    'social justice',\n",
    "    'racial justice', \n",
    "    'multi-cultural', \n",
    "    'multicultural',\n",
    "    'intercultural',\n",
    "    'intersectional',\n",
    "    'intersectionality',\n",
    "    'anti-discrimination'\n",
    "]"
   ]
  },
  {
   "cell_type": "code",
   "execution_count": 10,
   "metadata": {},
   "outputs": [
    {
     "name": "stderr",
     "output_type": "stream",
     "text": [
      "[nltk_data] Downloading package wordnet to\n",
      "[nltk_data]     C:\\Users\\theod\\AppData\\Roaming\\nltk_data...\n",
      "[nltk_data]   Package wordnet is already up-to-date!\n"
     ]
    }
   ],
   "source": [
    "import nltk\n",
    "nltk.download('wordnet')\n",
    "from nltk.stem import WordNetLemmatizer\n",
    "lemmatizer = WordNetLemmatizer()"
   ]
  },
  {
   "cell_type": "code",
   "execution_count": 11,
   "metadata": {},
   "outputs": [
    {
     "data": {
      "text/plain": [
       "['diversity',\n",
       " 'equity',\n",
       " 'inclusion',\n",
       " 'inclusive',\n",
       " 'inclusivity',\n",
       " 'equality',\n",
       " 'equal opportunity',\n",
       " 'social justice',\n",
       " 'racial justice',\n",
       " 'multi-cultural',\n",
       " 'multicultural',\n",
       " 'intercultural',\n",
       " 'intersectional',\n",
       " 'intersectionality',\n",
       " 'anti-discrimination']"
      ]
     },
     "execution_count": 11,
     "metadata": {},
     "output_type": "execute_result"
    }
   ],
   "source": [
    "diversity_lemmas = [lemmatizer.lemmatize(w) for w in diversity_words]\n",
    "diversity_lemmas"
   ]
  },
  {
   "cell_type": "code",
   "execution_count": 12,
   "metadata": {},
   "outputs": [],
   "source": [
    "diversity_pattern = \"|\".join(diversity_lemmas)"
   ]
  },
  {
   "cell_type": "markdown",
   "metadata": {},
   "source": [
    "Let's verify how the \"count\" of diversity words in the text is calculated.\n"
   ]
  },
  {
   "cell_type": "code",
   "execution_count": 13,
   "metadata": {},
   "outputs": [
    {
     "data": {
      "text/plain": [
       "3"
      ]
     },
     "execution_count": 13,
     "metadata": {},
     "output_type": "execute_result"
    }
   ],
   "source": [
    "text = \"This is a multicultural organization that advocates for diversity and racial justice.\"\n",
    "len(re.findall(diversity_pattern, text))"
   ]
  },
  {
   "cell_type": "markdown",
   "metadata": {},
   "source": [
    "### Cynicism related declarations\n"
   ]
  },
  {
   "cell_type": "code",
   "execution_count": 14,
   "metadata": {},
   "outputs": [
    {
     "data": {
      "text/plain": [
       "['skepticism',\n",
       " 'mistrust',\n",
       " 'questionable',\n",
       " 'dishonesty',\n",
       " 'manipulation',\n",
       " 'corruption',\n",
       " 'negativity']"
      ]
     },
     "execution_count": 14,
     "metadata": {},
     "output_type": "execute_result"
    }
   ],
   "source": [
    "# Define LIWC-style categories for cynicism analysis\n",
    "liwc_cynicism = {\n",
    "    \"skepticism\": {\"skeptical\", \"doubtful\", \"unconvinced\", \"uncertain\", \"wary\", \"dubious\"},\n",
    "    \"mistrust\": {\"untrustworthy\", \"suspicious\", \"distrustful\", \"unreliable\", \"shady\", \"rigged\", \"lying\"},\n",
    "    \"questionable\": {\"questionable\", \"dubious\", \"problematic\", \"concerning\", \"suspect\"},\n",
    "    \"dishonesty\": {\"dishonest\", \"lie\", \"lying\", \"deceptive\", \"misleading\", \"false\", \"fake\"},\n",
    "    \"manipulation\": {\"manipulative\", \"coercive\", \"exploitative\", \"calculated\", \"scheming\"},\n",
    "    \"corruption\": {\"corrupt\", \"bribed\", \"compromised\", \"unethical\", \"crooked\", \"lying\"},\n",
    "    \"negativity\": {\"bad\", \"worse\", \"worst\", \"terrible\", \"awful\", \"disastrous\", \"weird\"},\n",
    "    \"certainty\": {\"obviously\", \"definitely\", \"certainly\", \"undoubtedly\", \"absolutely\", \"clearly\"}\n",
    "}\n",
    "\n",
    "liwc_cynicism_keys = [key for key in liwc_cynicism if key != \"certainty\"]\n",
    "liwc_cynicism_keys"
   ]
  },
  {
   "cell_type": "code",
   "execution_count": 15,
   "metadata": {},
   "outputs": [],
   "source": [
    "def liwc_analysis(text):\n",
    "    \"\"\"Analyze text using LIWC-style categories for cynicism.\"\"\"\n",
    "    tokens = [token.lower() for token in word_tokenize(text) \n",
    "              if token.isalnum()]  # Only include alphanumeric tokens\n",
    "    word_counts = Counter(tokens)\n",
    "    total_words = sum(word_counts.values())\n",
    "    \n",
    "    # Initialize scores dict with all categories\n",
    "    liwc_scores = {category: 0 for category in liwc_cynicism.keys()}\n",
    "    \n",
    "    # Count matches for each category\n",
    "    for category, words in liwc_cynicism.items():\n",
    "        category_count = sum(word_counts[word] for word in words if word in word_counts)\n",
    "        if total_words > 0:\n",
    "            liwc_scores[category] = round(category_count / total_words, 4)\n",
    "    \n",
    "    # Debug print\n",
    "    # print(\"LIWC categories found:\", list(liwc_scores.keys()))\n",
    "    \n",
    "    return liwc_scores"
   ]
  },
  {
   "cell_type": "code",
   "execution_count": 16,
   "metadata": {},
   "outputs": [],
   "source": [
    "def compute_cynicism_score(row):\n",
    "    \"\"\"Compute cynicism score from LIWC categories.\"\"\"\n",
    "    # Create a set of categories excluding 'certainty'\n",
    "    cynicism_categories = set(liwc_cynicism.keys()) - {'certainty'}\n",
    "    certainty_weight = 1\n",
    "    \n",
    "    # Debug print\n",
    "    # print(\"Available columns:\", row.index.tolist())\n",
    "    # print(\"Looking for categories:\", list(cynicism_categories))\n",
    "    \n",
    "    # Check if all required categories exist\n",
    "    missing_categories = [cat for cat in cynicism_categories if cat not in row.index]\n",
    "    if missing_categories:\n",
    "        print(f\"Missing categories: {missing_categories}\")\n",
    "        return 0.0\n",
    "    \n",
    "    try:\n",
    "        cynicism_score = (sum(row[category] for category in cynicism_categories) - \n",
    "                         certainty_weight * row[\"certainty\"]) / len(cynicism_categories)\n",
    "        return round(cynicism_score, 4)\n",
    "    except Exception as e:\n",
    "        print(f\"Error computing cynicism score: {e}\")\n",
    "        print(f\"Row data: {row}\")\n",
    "        return 0.0"
   ]
  },
  {
   "cell_type": "code",
   "execution_count": 17,
   "metadata": {},
   "outputs": [],
   "source": [
    "def cronbach_alpha(df):\n",
    "    \"\"\"Compute Cronbach's Alpha for internal consistency of LIWC categories.\"\"\"\n",
    "    # items = df[liwc_cynicism_keys]\n",
    "    items = df[liwc_cynicism.keys()]\n",
    "    item_vars = items.var(axis=0, ddof=1)\n",
    "    total_var = items.sum(axis=1).var(ddof=1)\n",
    "    n = items.shape[1]\n",
    "    return (n / (n - 1)) * (1 - sum(item_vars) / total_var)"
   ]
  },
  {
   "cell_type": "markdown",
   "metadata": {},
   "source": [
    "## 3. LLM Cynicism MFT Analysis\n",
    "\n",
    "LLM-based cynicism Moral Foundation Theory Analysis\n"
   ]
  },
  {
   "cell_type": "code",
   "execution_count": 18,
   "metadata": {},
   "outputs": [],
   "source": [
    "import json\n",
    "import os\n",
    "import pprint\n",
    "from pydantic.v1 import BaseModel, Field\n",
    "from typing import Dict\n",
    "\n",
    "from llama_index.core import (\n",
    "    Settings, \n",
    "    SimpleDirectoryReader, \n",
    "    VectorStoreIndex,\n",
    "    StorageContext,\n",
    "    load_index_from_storage\n",
    ")\n",
    "from llama_index.core.prompts import PromptTemplate\n",
    "from llama_index.embeddings.ollama import OllamaEmbedding\n",
    "from llama_index.llms.ollama import Ollama"
   ]
  },
  {
   "cell_type": "code",
   "execution_count": 19,
   "metadata": {},
   "outputs": [],
   "source": [
    "class MFTAnalysis(BaseModel):\n",
    "    authority_subversion: float = Field(\n",
    "        default=0.0,\n",
    "        description=\"Degree of authority skepticism (0.0 to 1.0). Higher values indicate stronger skepticism towards institutional power.\"\n",
    "    )\n",
    "    loyalty_betrayal: float = Field(\n",
    "        default=0.0,\n",
    "        description=\"Degree of perceived betrayal (0.0 to 1.0). Higher values indicate a stronger sense of betrayal or disloyalty towards institutions.\"\n",
    "    )\n",
    "    fairness_cheating: float = Field(\n",
    "        default=0.0,\n",
    "        description=\"Degree of perceived unfairness (0.0 to 1.0). Higher values indicate stronger feelings of injustice or perceived cheating.\"\n",
    "    )\n",
    "\n",
    "class CynicalClassification(BaseModel):\n",
    "    is_cynical: bool\n",
    "    reason: str\n",
    "    mft_analysis: MFTAnalysis = Field(default_factory=MFTAnalysis)\n",
    "    primary_foundation: str = Field(\n",
    "        default=\"\",\n",
    "        description=\"Dominant moral foundation driving cynicism.\"\n",
    "    )\n",
    "    foundation_explanation: str = Field(\n",
    "        default=\"\",\n",
    "        description=\"Explanation of how the primary moral foundation manifests in the classification.\"\n",
    "    )"
   ]
  },
  {
   "cell_type": "code",
   "execution_count": 20,
   "metadata": {},
   "outputs": [],
   "source": [
    "CYNICISM_CLASSIFICATION_PROMPT = PromptTemplate(\n",
    "    template=\"\"\"\n",
    "You are an expert in cynical classification using Moral Foundations Theory (MFT).\n",
    "Analyze the text for cynicism through three moral foundations:\n",
    "1. Authority/Subversion: Skepticism of institutional power, questioning authority\n",
    "2. Loyalty/Betrayal: Sense of institutional or ideological betrayal\n",
    "3. Fairness/Cheating: Perceived injustices and inequities\n",
    "\n",
    "For each foundation, provide a score between 0.0 (not present) and 1.0 (strongly present).\n",
    "Identify the primary moral foundation driving any cynicism.\n",
    "\n",
    "## Text to analyze\n",
    "\n",
    "Text: {text}\n",
    "\n",
    "## Output Format\n",
    "Provide your analysis in the following JSON structure. Return only valid JSON:\n",
    "\n",
    "Here is an example of non-cynical judgement about a text:\n",
    "{{{{\n",
    "    \"is_cynical\": False,\n",
    "    \"reason\": \"explanation for the classification\",\n",
    "    \"mft_analysis\": {{{{\n",
    "        \"authority_subversion\": 0.1,\n",
    "        \"loyalty_betrayal\": 0.1,\n",
    "        \"fairness_cheating\": 0.2\n",
    "    }}}},\n",
    "    \"primary_foundation\": \"name of the dominant foundation\",\n",
    "    \"foundation_explanation\": \"explanation of how the primary foundation manifests\"\n",
    "}}}}\n",
    "\n",
    "Here is an example of cynical judgement about a text:\n",
    "{{{{\n",
    "    \"is_cynical\": True,\n",
    "    \"reason\": \"explanation for the classification\",\n",
    "    \"mft_analysis\": {{{{\n",
    "        \"authority_subversion\": 0.1,\n",
    "        \"loyalty_betrayal\": 0.9,\n",
    "        \"fairness_cheating\": 0.1\n",
    "    }}}},\n",
    "    \"primary_foundation\": \"name of the dominant foundation\",\n",
    "    \"foundation_explanation\": \"explanation of how the primary foundation manifests\"\n",
    "}}}}\n",
    "\"\"\"\n",
    ")"
   ]
  },
  {
   "cell_type": "code",
   "execution_count": 21,
   "metadata": {},
   "outputs": [],
   "source": [
    "# ollama = Ollama(model=\"deepseek-r1:7b\", json_mode=True, temperature=0.0)\n",
    "ollama = Ollama(model=\"llama3.2:3b-instruct-q8_0\", json_mode=True, temperature=0.0, timeout=240)\n",
    "ollama.system_prompt=(\n",
    "    \"You are a helpful assistant that always responds with valid JSON matching the requested structure.\"\n",
    ")\n",
    "sllm = ollama.as_structured_llm(output_cls=CynicalClassification, timeout=240)"
   ]
  },
  {
   "cell_type": "code",
   "execution_count": 22,
   "metadata": {},
   "outputs": [],
   "source": [
    "from llama_index.llms.openai import OpenAI\n",
    "gpt4omini = OpenAI(model=\"gpt-4o-mini\", temperature=0.0)\n",
    "gpt4omini.system_prompt=(\n",
    "    \"You are a helpful assistant that always responds with valid JSON matching the requested structure.\"\n",
    ")\n",
    "gpt4omini_sllm = gpt4omini.as_structured_llm(output_cls=CynicalClassification, timeout=120)"
   ]
  },
  {
   "cell_type": "code",
   "execution_count": 23,
   "metadata": {},
   "outputs": [],
   "source": [
    "def classify_text_cynicism(text) -> CynicalClassification:\n",
    "    \"\"\"\n",
    "    Process a single text and return a CynicalClassification.\n",
    "    \"\"\"\n",
    "    try:\n",
    "        # Add a more explicit prompt to encourage tool usage\n",
    "        formatted_prompt = CYNICISM_CLASSIFICATION_PROMPT.format(\n",
    "            text=text[:1000]  # Limit text length to avoid token limits\n",
    "        )\n",
    "        response = gpt4omini_sllm.complete(formatted_prompt)\n",
    "        return response.raw\n",
    "    except ValueError as e:\n",
    "        # Fallback values if tool calls fail\n",
    "        return CynicalClassification(\n",
    "            is_cynical=False,\n",
    "            reason=\"Error processing text\",\n",
    "            mft_analysis=MFTAnalysis(\n",
    "                authority_subversion=0.0,\n",
    "                loyalty_betrayal=0.0,\n",
    "                fairness_injustice=0.0\n",
    "            ),\n",
    "            primary_foundation=\"none\",\n",
    "            foundation_explanation=\"Error in processing\"\n",
    "        )"
   ]
  },
  {
   "cell_type": "code",
   "execution_count": 24,
   "metadata": {},
   "outputs": [],
   "source": [
    "def printCynicalClassification(judgement: CynicalClassification):\n",
    "    print(f\"is_cynical: {judgement.is_cynical}\")\n",
    "    print(f\"reason: {judgement.reason}\")\n",
    "    print(f\"mft_analysis: {judgement.mft_analysis}\")"
   ]
  },
  {
   "cell_type": "code",
   "execution_count": 26,
   "metadata": {},
   "outputs": [
    {
     "name": "stdout",
     "output_type": "stream",
     "text": [
      "is_cynical: True\n",
      "reason: The statement expresses a strong distrust of the police, indicating a belief that they are corrupt and not serving their intended purpose, which reflects a cynical view of authority.\n",
      "mft_analysis: authority_subversion=0.9 loyalty_betrayal=0.7 fairness_cheating=0.8\n"
     ]
    }
   ],
   "source": [
    "text = \"The police are corrupt and they are not there to protect the people.\"\n",
    "judgement = classify_text_cynicism(text)\n",
    "printCynicalClassification(judgement=judgement)"
   ]
  },
  {
   "cell_type": "code",
   "execution_count": 27,
   "metadata": {},
   "outputs": [
    {
     "name": "stdout",
     "output_type": "stream",
     "text": [
      "is_cynical: False\n",
      "reason: The text expresses a neutral sentiment about enjoying a neighborhood without any indication of skepticism towards authority, feelings of betrayal, or perceived injustices.\n",
      "mft_analysis: authority_subversion=0.0 loyalty_betrayal=0.0 fairness_cheating=0.0\n"
     ]
    }
   ],
   "source": [
    "text = \"We like going around theneighborhood.\"\n",
    "judgement = classify_text_cynicism(text)\n",
    "printCynicalClassification(judgement=judgement)"
   ]
  },
  {
   "cell_type": "markdown",
   "metadata": {},
   "source": [
    "## 4. Diversity Analysis\n"
   ]
  },
  {
   "cell_type": "code",
   "execution_count": 28,
   "metadata": {},
   "outputs": [],
   "source": [
    "from openai import OpenAI\n",
    "from typing import List\n",
    "import numpy as np\n",
    "client = OpenAI()"
   ]
  },
  {
   "cell_type": "code",
   "execution_count": 29,
   "metadata": {},
   "outputs": [],
   "source": [
    "def get_embedding(text: str) -> List[float]:\n",
    "    \"\"\"\n",
    "    Get embeddings for a single text using text-embedding-3-large model.\n",
    "    \n",
    "    Args:\n",
    "        text (str): The input text to generate embeddings for\n",
    "        \n",
    "    Returns:\n",
    "        List[float]: The embedding vector\n",
    "    \"\"\"\n",
    "    response = client.embeddings.create(\n",
    "        model=\"text-embedding-3-large\",\n",
    "        input=text,\n",
    "        dimensions=1024  # Optional: You can specify 256, 512, or 1024 dimensions\n",
    "    )\n",
    "    return response.data[0].embedding\n",
    "\n",
    "\n",
    "def get_batch_embeddings(texts: List[str]) -> List[List[float]]:\n",
    "    \"\"\"\n",
    "    Get embeddings for multiple texts in a single API call.\n",
    "    \n",
    "    Args:\n",
    "        texts (List[str]): List of input texts to generate embeddings for\n",
    "        \n",
    "    Returns:\n",
    "        List[List[float]]: List of embedding vectors\n",
    "    \"\"\"\n",
    "    \n",
    "    responses = []\n",
    "    try:\n",
    "        response = client.embeddings.create(\n",
    "            model=\"text-embedding-3-large\",\n",
    "            input=texts,\n",
    "            dimensions=1024\n",
    "        )\n",
    "        responses = [item.embedding for item in response.data]\n",
    "    except Exception as e:\n",
    "        # texts is too long for a single API call\n",
    "        for text in texts:\n",
    "            response = client.embeddings.create(\n",
    "                model=\"text-embedding-3-large\",\n",
    "                input=text,\n",
    "                dimensions=1024\n",
    "            )\n",
    "            responses.append(response.data[0].embedding)\n",
    "    return responses"
   ]
  },
  {
   "cell_type": "code",
   "execution_count": 30,
   "metadata": {},
   "outputs": [
    {
     "name": "stderr",
     "output_type": "stream",
     "text": [
      "[nltk_data] Downloading package stopwords to\n",
      "[nltk_data]     C:\\Users\\theod\\AppData\\Roaming\\nltk_data...\n",
      "[nltk_data]   Package stopwords is already up-to-date!\n"
     ]
    }
   ],
   "source": [
    "nltk.download('stopwords')\n",
    "from nltk.corpus import stopwords"
   ]
  },
  {
   "cell_type": "code",
   "execution_count": 31,
   "metadata": {},
   "outputs": [],
   "source": [
    "english_stopwords = stopwords.words('english')\n",
    "def prepText(text_series):\n",
    "    # Step 1: Clean and normalize each text in the series\n",
    "    # - Convert to lowercase\n",
    "    # - Lemmatize each word (convert to base form)\n",
    "    # - Remove stopwords\n",
    "    # - Join words back together with spaces\n",
    "    text_series = text_series.apply(\n",
    "        lambda x: \" \".join(lemmatizer.lemmatize(w.lower()) for w in x.split()\n",
    "                           if w not in english_stopwords))\n",
    "    \n",
    "    # Step 2: Filter out short texts\n",
    "    # Remove any text less than 100 characters as they're likely too short for meaningful analysis\n",
    "    text_series = text_series.apply(lambda x: x if len(x) > 100 else None)\n",
    "    \n",
    "    # Step 3: Remove any null values created by the previous step\n",
    "    text_series = text_series.dropna()\n",
    "    \n",
    "    # Step 4: Count diversity-related terms\n",
    "    # Sum up all instances of diversity-related words (defined in diversity_pattern)\n",
    "    # across all remaining texts in the series\n",
    "    total_diversity_words = sum([len(re.findall(diversity_pattern, text))\n",
    "                                for text in text_series])\n",
    "    \n",
    "    # Return both the cleaned text series and the total count of diversity words\n",
    "    return text_series, total_diversity_words"
   ]
  },
  {
   "cell_type": "code",
   "execution_count": 32,
   "metadata": {},
   "outputs": [],
   "source": [
    "START_YEAR = 2010\n",
    "FINAL_YEAR = 2024"
   ]
  },
  {
   "cell_type": "code",
   "execution_count": 33,
   "metadata": {},
   "outputs": [],
   "source": [
    "year_2024 = df[df.year==2024]\n",
    "clean_df, num_diversity_words = prepText(year_2024.body)\n",
    "wv = get_batch_embeddings(clean_df)"
   ]
  },
  {
   "cell_type": "code",
   "execution_count": 34,
   "metadata": {},
   "outputs": [
    {
     "data": {
      "text/plain": [
       "list"
      ]
     },
     "execution_count": 34,
     "metadata": {},
     "output_type": "execute_result"
    }
   ],
   "source": [
    "type(wv[0])"
   ]
  },
  {
   "cell_type": "code",
   "execution_count": 35,
   "metadata": {},
   "outputs": [],
   "source": [
    "docmatrix = np.array(wv)"
   ]
  },
  {
   "cell_type": "code",
   "execution_count": 36,
   "metadata": {},
   "outputs": [
    {
     "data": {
      "text/plain": [
       "(129, 1024)"
      ]
     },
     "execution_count": 36,
     "metadata": {},
     "output_type": "execute_result"
    }
   ],
   "source": [
    "docmatrix.shape"
   ]
  },
  {
   "cell_type": "code",
   "execution_count": 37,
   "metadata": {},
   "outputs": [
    {
     "name": "stdout",
     "output_type": "stream",
     "text": [
      "0       2024\n",
      "1       2024\n",
      "2       2024\n",
      "3       2024\n",
      "4       2024\n",
      "        ... \n",
      "4745    2024\n",
      "4746    2024\n",
      "4747    2024\n",
      "4748    2024\n",
      "4749    2024\n",
      "Name: year, Length: 129, dtype: int64, 129, 0.000976944425505027, 0.5134470601239502\n"
     ]
    }
   ],
   "source": [
    "pairwise = getNormalizedPairwiseDispersion(docmatrix, cosine_distance)\n",
    "cov = getCovDispersion(docmatrix)\n",
    "print(f\"{year_2024.year}, {cov[0]}, {cov[1]}, {pairwise}\")"
   ]
  },
  {
   "cell_type": "code",
   "execution_count": 38,
   "metadata": {},
   "outputs": [
    {
     "name": "stderr",
     "output_type": "stream",
     "text": [
      "[nltk_data] Downloading package vader_lexicon to\n",
      "[nltk_data]     C:\\Users\\theod\\AppData\\Roaming\\nltk_data...\n",
      "[nltk_data]   Package vader_lexicon is already up-to-date!\n"
     ]
    }
   ],
   "source": [
    "# VADER Sentiment Analysis\n",
    "import nltk\n",
    "nltk.download('vader_lexicon')\n",
    "from nltk.sentiment.vader import SentimentIntensityAnalyzer\n",
    "\n",
    "# Initialize the sentiment analyzer\n",
    "sia = SentimentIntensityAnalyzer()"
   ]
  },
  {
   "cell_type": "code",
   "execution_count": 39,
   "metadata": {},
   "outputs": [],
   "source": [
    "def chunk_process_embeddings(\n",
    "    clean_df: pd.Series,\n",
    "    num_chunks: int = 6\n",
    ") -> List[List[float]]:\n",
    "    \"\"\"\n",
    "    Process embeddings in chunks and combine results.\n",
    "    \n",
    "    Args:\n",
    "        clean_df: pandas Series of cleaned text strings\n",
    "        num_chunks: number of chunks to process\n",
    "    \n",
    "    Returns:\n",
    "        List[List[float]]: List of embedding vectors, where each vector is a list of floats\n",
    "    \"\"\"\n",
    "    # Calculate chunk size (divide into `num_chunks` equal parts)\n",
    "    chunk_size = len(clean_df) // num_chunks\n",
    "    chunk_size = chunk_size if chunk_size > 0 else 1\n",
    "    \n",
    "    chunks = [\n",
    "        clean_df[i:i + chunk_size] \n",
    "        for i in range(0, len(clean_df), chunk_size)\n",
    "    ]\n",
    "    \n",
    "    # Process each chunk and combine results\n",
    "    all_embeddings = []\n",
    "    for chunk in chunks:\n",
    "        chunk_embeddings = get_batch_embeddings(chunk)\n",
    "        all_embeddings.extend(chunk_embeddings)\n",
    "    \n",
    "    return all_embeddings"
   ]
  },
  {
   "cell_type": "code",
   "execution_count": 40,
   "metadata": {},
   "outputs": [],
   "source": [
    "import concurrent.futures\n",
    "from typing import Tuple\n",
    "\n",
    "def process_text(text) -> Tuple[bool, float, float, float]:\n",
    "    \"\"\"\n",
    "    Process a single text and return counts based on the classification.\n",
    "    \"\"\"\n",
    "    judgement = classify_text_cynicism(text)\n",
    "    \n",
    "    # Access the attributes using dot notation instead of subscripting the MFTAnalysis instance\n",
    "    return (\n",
    "        judgement.is_cynical, \n",
    "        judgement.mft_analysis.authority_subversion,\n",
    "        judgement.mft_analysis.loyalty_betrayal,\n",
    "        judgement.mft_analysis.fairness_cheating\n",
    "    )"
   ]
  },
  {
   "cell_type": "code",
   "execution_count": 41,
   "metadata": {},
   "outputs": [
    {
     "name": "stdout",
     "output_type": "stream",
     "text": [
      "year        size        trace       pairwise    vader       lexical     cynicism    subversion  betrayal    injustice   \n",
      "----------------------------------------------------------------------------------------------------------------------\n",
      "2010        425         0.001       0.475       0.637       0.012       0.482       0.461       0.526       0.460       \n",
      "2011        422         0.001       0.498       0.512       0.053       0.506       0.484       0.549       0.484       \n",
      "2012        436         0.001       0.494       0.540       0.068       0.509       0.482       0.551       0.494       \n",
      "2013        399         0.001       0.517       0.564       0.049       0.499       0.463       0.553       0.481       \n",
      "2014        383         0.001       0.511       0.536       0.007       0.497       0.454       0.547       0.489       \n",
      "2015        345         0.001       0.495       0.475       0.026       0.458       0.410       0.518       0.446       \n",
      "2016        315         0.001       0.481       0.681       0.037       0.470       0.409       0.539       0.461       \n",
      "2017        298         0.001       0.504       0.663       0.033       0.499       0.437       0.572       0.489       \n",
      "2018        309         0.001       0.496       0.659       0.030       0.449       0.414       0.502       0.432       \n",
      "2019        278         0.001       0.498       0.667       0.031       0.487       0.443       0.545       0.472       \n",
      "2020        217         0.001       0.484       0.678       0.010       0.506       0.441       0.598       0.479       \n",
      "2021        185         0.001       0.503       0.647       0.025       0.499       0.446       0.574       0.476       \n",
      "2022        160         0.001       0.519       0.642       0.024       0.452       0.384       0.524       0.449       \n",
      "2023        161         0.001       0.520       0.637       0.029       0.452       0.380       0.525       0.451       \n",
      "2024        129         0.001       0.513       0.609       0.014       0.500       0.442       0.579       0.478       \n"
     ]
    }
   ],
   "source": [
    "results = []\n",
    "print(f\"{'year':<12}{'size':<12}{'trace':<12}{'pairwise':<12}{'vader':<12}{'lexical':<12}{'cynicism':<12}{'subversion':<12}{'betrayal':<12}{'injustice':<12}\")\n",
    "print(\"-\"*118)\n",
    "LIWC_SCORE_NAME = \"cynicism_lexical\"\n",
    "for year in range(START_YEAR, FINAL_YEAR+1):\n",
    "    year_df = df[df.year==year]\n",
    "    \n",
    "    clean_df, num_diversity_words = prepText(year_df.body)\n",
    "    wv = chunk_process_embeddings(clean_df, num_chunks=12)\n",
    "    \n",
    "    docmatrix = np.array(wv)\n",
    "    pairwise = getNormalizedPairwiseDispersion(docmatrix, cosine_distance)\n",
    "    cov = getCovDispersion(docmatrix)\n",
    "    \n",
    "    # -------------- VADER: Sentiment Analysis ----------------- #\n",
    "    pos_scores = []\n",
    "    neg_scores = []\n",
    "    neu_scores = []\n",
    "    compound_scores = []\n",
    "    \n",
    "    for text in clean_df:\n",
    "        sentiment_scores = sia.polarity_scores(text)\n",
    "        pos_scores.append(sentiment_scores['pos'])\n",
    "        neg_scores.append(sentiment_scores['neg'])\n",
    "        neu_scores.append(sentiment_scores['neu'])\n",
    "        compound_scores.append(sentiment_scores['compound'])\n",
    " \n",
    "    # --------------- LIWC: Lexical Analysis -------------------- #\n",
    "    temp_df = clean_df.copy()\n",
    "    \n",
    "    # Apply LIWC analysis and convert results to separate columns\n",
    "    liwc_scores = temp_df.apply(liwc_analysis)\n",
    "\n",
    "    # Convert the series of dictionaries to a DataFrame\n",
    "    liwc_columns = pd.DataFrame.from_records(liwc_scores.values)\n",
    "    \n",
    "    # Combine with original DataFrame\n",
    "    temp_df = pd.DataFrame(temp_df, columns=['text'])\n",
    "    liwc_df = pd.concat([temp_df, liwc_columns], axis=1)\n",
    "    \n",
    "    # Calculate cynicism score\n",
    "    liwc_df[LIWC_SCORE_NAME] = liwc_df.apply(compute_cynicism_score, axis=1)\n",
    "    sum_liwc_score = liwc_df[LIWC_SCORE_NAME].sum()\n",
    "    \n",
    "    # ---------------- LLM (Llama) Cynical Classification ---------------- #\n",
    "    # Use ThreadPoolExecutor to concurrently process texts\n",
    "    with concurrent.futures.ThreadPoolExecutor(max_workers=12) as executor:\n",
    "        mft_scores = list(executor.map(process_text, clean_df))\n",
    "\n",
    "    mft_subversion_score = sum(auth for is_cynical, auth, _, _ in mft_scores if is_cynical) / len(mft_scores)\n",
    "    mft_betrayal_score   = sum(loyalty for is_cynical, _, loyalty, _ in mft_scores if is_cynical) / len(mft_scores)\n",
    "    mft_injustice_score  = sum(fairness for is_cynical, _, _, fairness in mft_scores if is_cynical) / len(mft_scores)\n",
    "    cynicism_score = (mft_subversion_score + mft_betrayal_score + mft_injustice_score) / 3.0\n",
    "    \n",
    "    result = {'year':     year,\n",
    "              'pairwise': pairwise,\n",
    "              'size':     cov[0],\n",
    "              'trace':    cov[1],\n",
    "              'norm-1':   cov[2],\n",
    "              'norm-2':   cov[3],\n",
    "              'norm-inf': cov[4],\n",
    "              'diversity-words': num_diversity_words,\n",
    "              'mentions-norm'  : num_diversity_words/cov[0],\n",
    "              'pos': sum(pos_scores) / len(pos_scores),\n",
    "              'neg': sum(neg_scores) / len(neg_scores),\n",
    "              'neu': sum(neu_scores) / len(neu_scores),\n",
    "              'vader': sum(compound_scores) / len(compound_scores),\n",
    "              'lexical': sum_liwc_score,\n",
    "              'cynicism': cynicism_score,\n",
    "              'mft_subversion': mft_subversion_score,\n",
    "              'mft_betrayal': mft_betrayal_score,\n",
    "              'mft_injustice': mft_injustice_score,\n",
    "    }\n",
    "    results.append(result)\n",
    "    \n",
    "    print(f\"{year:<12}{cov[0]:<12}{cov[1]:<12.3f}{pairwise:<12.3f}{result['vader']:<12.3f}{result['lexical']:<12.3f}{result['cynicism']:<12.3f}{result['mft_subversion']:<12.3f}{result['mft_betrayal']:<12.3f}{result['mft_injustice']:<12.3f}\")"
   ]
  },
  {
   "cell_type": "code",
   "execution_count": 42,
   "metadata": {},
   "outputs": [
    {
     "data": {
      "text/html": [
       "<div>\n",
       "<style scoped>\n",
       "    .dataframe tbody tr th:only-of-type {\n",
       "        vertical-align: middle;\n",
       "    }\n",
       "\n",
       "    .dataframe tbody tr th {\n",
       "        vertical-align: top;\n",
       "    }\n",
       "\n",
       "    .dataframe thead th {\n",
       "        text-align: right;\n",
       "    }\n",
       "</style>\n",
       "<table border=\"1\" class=\"dataframe\">\n",
       "  <thead>\n",
       "    <tr style=\"text-align: right;\">\n",
       "      <th></th>\n",
       "      <th>pairwise</th>\n",
       "      <th>size</th>\n",
       "      <th>trace</th>\n",
       "      <th>norm-1</th>\n",
       "      <th>norm-2</th>\n",
       "      <th>norm-inf</th>\n",
       "      <th>diversity-words</th>\n",
       "      <th>mentions-norm</th>\n",
       "      <th>pos</th>\n",
       "      <th>neg</th>\n",
       "      <th>neu</th>\n",
       "      <th>vader</th>\n",
       "      <th>lexical</th>\n",
       "      <th>cynicism</th>\n",
       "      <th>mft_subversion</th>\n",
       "      <th>mft_betrayal</th>\n",
       "      <th>mft_injustice</th>\n",
       "    </tr>\n",
       "    <tr>\n",
       "      <th>year</th>\n",
       "      <th></th>\n",
       "      <th></th>\n",
       "      <th></th>\n",
       "      <th></th>\n",
       "      <th></th>\n",
       "      <th></th>\n",
       "      <th></th>\n",
       "      <th></th>\n",
       "      <th></th>\n",
       "      <th></th>\n",
       "      <th></th>\n",
       "      <th></th>\n",
       "      <th></th>\n",
       "      <th></th>\n",
       "      <th></th>\n",
       "      <th></th>\n",
       "      <th></th>\n",
       "    </tr>\n",
       "  </thead>\n",
       "  <tbody>\n",
       "    <tr>\n",
       "      <th>2010</th>\n",
       "      <td>0.474662</td>\n",
       "      <td>425</td>\n",
       "      <td>0.000977</td>\n",
       "      <td>0.000617</td>\n",
       "      <td>0.000519</td>\n",
       "      <td>0.000617</td>\n",
       "      <td>103</td>\n",
       "      <td>0.242353</td>\n",
       "      <td>0.175955</td>\n",
       "      <td>0.092534</td>\n",
       "      <td>0.731539</td>\n",
       "      <td>0.637498</td>\n",
       "      <td>0.0117</td>\n",
       "      <td>0.482118</td>\n",
       "      <td>0.460941</td>\n",
       "      <td>0.525647</td>\n",
       "      <td>0.459765</td>\n",
       "    </tr>\n",
       "    <tr>\n",
       "      <th>2011</th>\n",
       "      <td>0.497736</td>\n",
       "      <td>422</td>\n",
       "      <td>0.000977</td>\n",
       "      <td>0.000591</td>\n",
       "      <td>0.000497</td>\n",
       "      <td>0.000591</td>\n",
       "      <td>211</td>\n",
       "      <td>0.500000</td>\n",
       "      <td>0.177687</td>\n",
       "      <td>0.105988</td>\n",
       "      <td>0.716287</td>\n",
       "      <td>0.512446</td>\n",
       "      <td>0.0533</td>\n",
       "      <td>0.505766</td>\n",
       "      <td>0.484360</td>\n",
       "      <td>0.549052</td>\n",
       "      <td>0.483886</td>\n",
       "    </tr>\n",
       "    <tr>\n",
       "      <th>2012</th>\n",
       "      <td>0.494477</td>\n",
       "      <td>436</td>\n",
       "      <td>0.000977</td>\n",
       "      <td>0.000600</td>\n",
       "      <td>0.000500</td>\n",
       "      <td>0.000600</td>\n",
       "      <td>189</td>\n",
       "      <td>0.433486</td>\n",
       "      <td>0.184179</td>\n",
       "      <td>0.110745</td>\n",
       "      <td>0.705005</td>\n",
       "      <td>0.540182</td>\n",
       "      <td>0.0681</td>\n",
       "      <td>0.509021</td>\n",
       "      <td>0.482339</td>\n",
       "      <td>0.550688</td>\n",
       "      <td>0.494037</td>\n",
       "    </tr>\n",
       "    <tr>\n",
       "      <th>2013</th>\n",
       "      <td>0.516821</td>\n",
       "      <td>399</td>\n",
       "      <td>0.000977</td>\n",
       "      <td>0.000581</td>\n",
       "      <td>0.000480</td>\n",
       "      <td>0.000581</td>\n",
       "      <td>172</td>\n",
       "      <td>0.431078</td>\n",
       "      <td>0.185128</td>\n",
       "      <td>0.111078</td>\n",
       "      <td>0.703757</td>\n",
       "      <td>0.563756</td>\n",
       "      <td>0.0491</td>\n",
       "      <td>0.499165</td>\n",
       "      <td>0.463409</td>\n",
       "      <td>0.552632</td>\n",
       "      <td>0.481454</td>\n",
       "    </tr>\n",
       "    <tr>\n",
       "      <th>2014</th>\n",
       "      <td>0.510823</td>\n",
       "      <td>383</td>\n",
       "      <td>0.000977</td>\n",
       "      <td>0.000586</td>\n",
       "      <td>0.000484</td>\n",
       "      <td>0.000586</td>\n",
       "      <td>235</td>\n",
       "      <td>0.613577</td>\n",
       "      <td>0.174193</td>\n",
       "      <td>0.108363</td>\n",
       "      <td>0.717496</td>\n",
       "      <td>0.536200</td>\n",
       "      <td>0.0069</td>\n",
       "      <td>0.496519</td>\n",
       "      <td>0.453525</td>\n",
       "      <td>0.546736</td>\n",
       "      <td>0.489295</td>\n",
       "    </tr>\n",
       "    <tr>\n",
       "      <th>2015</th>\n",
       "      <td>0.494932</td>\n",
       "      <td>345</td>\n",
       "      <td>0.000977</td>\n",
       "      <td>0.000586</td>\n",
       "      <td>0.000500</td>\n",
       "      <td>0.000586</td>\n",
       "      <td>216</td>\n",
       "      <td>0.626087</td>\n",
       "      <td>0.175786</td>\n",
       "      <td>0.115971</td>\n",
       "      <td>0.708249</td>\n",
       "      <td>0.474807</td>\n",
       "      <td>0.0262</td>\n",
       "      <td>0.457971</td>\n",
       "      <td>0.410435</td>\n",
       "      <td>0.517681</td>\n",
       "      <td>0.445797</td>\n",
       "    </tr>\n",
       "    <tr>\n",
       "      <th>2016</th>\n",
       "      <td>0.481118</td>\n",
       "      <td>315</td>\n",
       "      <td>0.000977</td>\n",
       "      <td>0.000606</td>\n",
       "      <td>0.000512</td>\n",
       "      <td>0.000606</td>\n",
       "      <td>263</td>\n",
       "      <td>0.834921</td>\n",
       "      <td>0.188933</td>\n",
       "      <td>0.103003</td>\n",
       "      <td>0.708035</td>\n",
       "      <td>0.680553</td>\n",
       "      <td>0.0375</td>\n",
       "      <td>0.469735</td>\n",
       "      <td>0.409206</td>\n",
       "      <td>0.538730</td>\n",
       "      <td>0.461270</td>\n",
       "    </tr>\n",
       "    <tr>\n",
       "      <th>2017</th>\n",
       "      <td>0.503723</td>\n",
       "      <td>298</td>\n",
       "      <td>0.000977</td>\n",
       "      <td>0.000580</td>\n",
       "      <td>0.000491</td>\n",
       "      <td>0.000580</td>\n",
       "      <td>310</td>\n",
       "      <td>1.040268</td>\n",
       "      <td>0.178188</td>\n",
       "      <td>0.099372</td>\n",
       "      <td>0.722423</td>\n",
       "      <td>0.662605</td>\n",
       "      <td>0.0326</td>\n",
       "      <td>0.499329</td>\n",
       "      <td>0.436913</td>\n",
       "      <td>0.571812</td>\n",
       "      <td>0.489262</td>\n",
       "    </tr>\n",
       "    <tr>\n",
       "      <th>2018</th>\n",
       "      <td>0.496478</td>\n",
       "      <td>309</td>\n",
       "      <td>0.000977</td>\n",
       "      <td>0.000572</td>\n",
       "      <td>0.000497</td>\n",
       "      <td>0.000572</td>\n",
       "      <td>233</td>\n",
       "      <td>0.754045</td>\n",
       "      <td>0.176531</td>\n",
       "      <td>0.090773</td>\n",
       "      <td>0.732712</td>\n",
       "      <td>0.659362</td>\n",
       "      <td>0.0299</td>\n",
       "      <td>0.449299</td>\n",
       "      <td>0.413592</td>\n",
       "      <td>0.501942</td>\n",
       "      <td>0.432362</td>\n",
       "    </tr>\n",
       "    <tr>\n",
       "      <th>2019</th>\n",
       "      <td>0.497716</td>\n",
       "      <td>278</td>\n",
       "      <td>0.000977</td>\n",
       "      <td>0.000587</td>\n",
       "      <td>0.000498</td>\n",
       "      <td>0.000587</td>\n",
       "      <td>237</td>\n",
       "      <td>0.852518</td>\n",
       "      <td>0.180939</td>\n",
       "      <td>0.096450</td>\n",
       "      <td>0.722622</td>\n",
       "      <td>0.667396</td>\n",
       "      <td>0.0309</td>\n",
       "      <td>0.486930</td>\n",
       "      <td>0.443165</td>\n",
       "      <td>0.545324</td>\n",
       "      <td>0.472302</td>\n",
       "    </tr>\n",
       "    <tr>\n",
       "      <th>2020</th>\n",
       "      <td>0.484424</td>\n",
       "      <td>217</td>\n",
       "      <td>0.000977</td>\n",
       "      <td>0.000615</td>\n",
       "      <td>0.000511</td>\n",
       "      <td>0.000615</td>\n",
       "      <td>232</td>\n",
       "      <td>1.069124</td>\n",
       "      <td>0.179530</td>\n",
       "      <td>0.102267</td>\n",
       "      <td>0.718226</td>\n",
       "      <td>0.677617</td>\n",
       "      <td>0.0098</td>\n",
       "      <td>0.505991</td>\n",
       "      <td>0.441014</td>\n",
       "      <td>0.597696</td>\n",
       "      <td>0.479263</td>\n",
       "    </tr>\n",
       "    <tr>\n",
       "      <th>2021</th>\n",
       "      <td>0.503160</td>\n",
       "      <td>185</td>\n",
       "      <td>0.000977</td>\n",
       "      <td>0.000576</td>\n",
       "      <td>0.000492</td>\n",
       "      <td>0.000576</td>\n",
       "      <td>124</td>\n",
       "      <td>0.670270</td>\n",
       "      <td>0.174076</td>\n",
       "      <td>0.102443</td>\n",
       "      <td>0.723400</td>\n",
       "      <td>0.647418</td>\n",
       "      <td>0.0250</td>\n",
       "      <td>0.498739</td>\n",
       "      <td>0.445946</td>\n",
       "      <td>0.574054</td>\n",
       "      <td>0.476216</td>\n",
       "    </tr>\n",
       "    <tr>\n",
       "      <th>2022</th>\n",
       "      <td>0.518871</td>\n",
       "      <td>160</td>\n",
       "      <td>0.000977</td>\n",
       "      <td>0.000554</td>\n",
       "      <td>0.000477</td>\n",
       "      <td>0.000554</td>\n",
       "      <td>131</td>\n",
       "      <td>0.818750</td>\n",
       "      <td>0.187569</td>\n",
       "      <td>0.103731</td>\n",
       "      <td>0.708638</td>\n",
       "      <td>0.642329</td>\n",
       "      <td>0.0239</td>\n",
       "      <td>0.452500</td>\n",
       "      <td>0.384375</td>\n",
       "      <td>0.523750</td>\n",
       "      <td>0.449375</td>\n",
       "    </tr>\n",
       "    <tr>\n",
       "      <th>2023</th>\n",
       "      <td>0.520194</td>\n",
       "      <td>161</td>\n",
       "      <td>0.000977</td>\n",
       "      <td>0.000577</td>\n",
       "      <td>0.000479</td>\n",
       "      <td>0.000577</td>\n",
       "      <td>141</td>\n",
       "      <td>0.875776</td>\n",
       "      <td>0.182708</td>\n",
       "      <td>0.098373</td>\n",
       "      <td>0.718882</td>\n",
       "      <td>0.637198</td>\n",
       "      <td>0.0292</td>\n",
       "      <td>0.451967</td>\n",
       "      <td>0.379503</td>\n",
       "      <td>0.525466</td>\n",
       "      <td>0.450932</td>\n",
       "    </tr>\n",
       "    <tr>\n",
       "      <th>2024</th>\n",
       "      <td>0.513444</td>\n",
       "      <td>129</td>\n",
       "      <td>0.000977</td>\n",
       "      <td>0.000578</td>\n",
       "      <td>0.000485</td>\n",
       "      <td>0.000578</td>\n",
       "      <td>91</td>\n",
       "      <td>0.705426</td>\n",
       "      <td>0.173938</td>\n",
       "      <td>0.101946</td>\n",
       "      <td>0.724171</td>\n",
       "      <td>0.609023</td>\n",
       "      <td>0.0144</td>\n",
       "      <td>0.499742</td>\n",
       "      <td>0.441860</td>\n",
       "      <td>0.579070</td>\n",
       "      <td>0.478295</td>\n",
       "    </tr>\n",
       "  </tbody>\n",
       "</table>\n",
       "</div>"
      ],
      "text/plain": [
       "      pairwise  size     trace    norm-1    norm-2  norm-inf  diversity-words  \\\n",
       "year                                                                            \n",
       "2010  0.474662   425  0.000977  0.000617  0.000519  0.000617              103   \n",
       "2011  0.497736   422  0.000977  0.000591  0.000497  0.000591              211   \n",
       "2012  0.494477   436  0.000977  0.000600  0.000500  0.000600              189   \n",
       "2013  0.516821   399  0.000977  0.000581  0.000480  0.000581              172   \n",
       "2014  0.510823   383  0.000977  0.000586  0.000484  0.000586              235   \n",
       "2015  0.494932   345  0.000977  0.000586  0.000500  0.000586              216   \n",
       "2016  0.481118   315  0.000977  0.000606  0.000512  0.000606              263   \n",
       "2017  0.503723   298  0.000977  0.000580  0.000491  0.000580              310   \n",
       "2018  0.496478   309  0.000977  0.000572  0.000497  0.000572              233   \n",
       "2019  0.497716   278  0.000977  0.000587  0.000498  0.000587              237   \n",
       "2020  0.484424   217  0.000977  0.000615  0.000511  0.000615              232   \n",
       "2021  0.503160   185  0.000977  0.000576  0.000492  0.000576              124   \n",
       "2022  0.518871   160  0.000977  0.000554  0.000477  0.000554              131   \n",
       "2023  0.520194   161  0.000977  0.000577  0.000479  0.000577              141   \n",
       "2024  0.513444   129  0.000977  0.000578  0.000485  0.000578               91   \n",
       "\n",
       "      mentions-norm       pos       neg       neu     vader  lexical  \\\n",
       "year                                                                   \n",
       "2010       0.242353  0.175955  0.092534  0.731539  0.637498   0.0117   \n",
       "2011       0.500000  0.177687  0.105988  0.716287  0.512446   0.0533   \n",
       "2012       0.433486  0.184179  0.110745  0.705005  0.540182   0.0681   \n",
       "2013       0.431078  0.185128  0.111078  0.703757  0.563756   0.0491   \n",
       "2014       0.613577  0.174193  0.108363  0.717496  0.536200   0.0069   \n",
       "2015       0.626087  0.175786  0.115971  0.708249  0.474807   0.0262   \n",
       "2016       0.834921  0.188933  0.103003  0.708035  0.680553   0.0375   \n",
       "2017       1.040268  0.178188  0.099372  0.722423  0.662605   0.0326   \n",
       "2018       0.754045  0.176531  0.090773  0.732712  0.659362   0.0299   \n",
       "2019       0.852518  0.180939  0.096450  0.722622  0.667396   0.0309   \n",
       "2020       1.069124  0.179530  0.102267  0.718226  0.677617   0.0098   \n",
       "2021       0.670270  0.174076  0.102443  0.723400  0.647418   0.0250   \n",
       "2022       0.818750  0.187569  0.103731  0.708638  0.642329   0.0239   \n",
       "2023       0.875776  0.182708  0.098373  0.718882  0.637198   0.0292   \n",
       "2024       0.705426  0.173938  0.101946  0.724171  0.609023   0.0144   \n",
       "\n",
       "      cynicism  mft_subversion  mft_betrayal  mft_injustice  \n",
       "year                                                         \n",
       "2010  0.482118        0.460941      0.525647       0.459765  \n",
       "2011  0.505766        0.484360      0.549052       0.483886  \n",
       "2012  0.509021        0.482339      0.550688       0.494037  \n",
       "2013  0.499165        0.463409      0.552632       0.481454  \n",
       "2014  0.496519        0.453525      0.546736       0.489295  \n",
       "2015  0.457971        0.410435      0.517681       0.445797  \n",
       "2016  0.469735        0.409206      0.538730       0.461270  \n",
       "2017  0.499329        0.436913      0.571812       0.489262  \n",
       "2018  0.449299        0.413592      0.501942       0.432362  \n",
       "2019  0.486930        0.443165      0.545324       0.472302  \n",
       "2020  0.505991        0.441014      0.597696       0.479263  \n",
       "2021  0.498739        0.445946      0.574054       0.476216  \n",
       "2022  0.452500        0.384375      0.523750       0.449375  \n",
       "2023  0.451967        0.379503      0.525466       0.450932  \n",
       "2024  0.499742        0.441860      0.579070       0.478295  "
      ]
     },
     "execution_count": 42,
     "metadata": {},
     "output_type": "execute_result"
    }
   ],
   "source": [
    "results_df = pd.DataFrame.from_records(results)\n",
    "results_df.set_index('year')"
   ]
  },
  {
   "cell_type": "markdown",
   "metadata": {},
   "source": [
    "### MFT Analysis with LLM\n"
   ]
  },
  {
   "cell_type": "code",
   "execution_count": 43,
   "metadata": {},
   "outputs": [],
   "source": [
    "import matplotlib.pyplot as plt\n",
    "from scipy.stats import linregress, t\n",
    "\n",
    "def calculate_regression_stats(x, y):\n",
    "    \"\"\"\n",
    "    Calculate comprehensive regression statistics including confidence intervals.\n",
    "    \n",
    "    Args:\n",
    "        x (array-like): Independent variable values\n",
    "        y (array-like): Dependent variable values\n",
    "        \n",
    "    Returns:\n",
    "        dict: Dictionary containing regression statistics:\n",
    "            - slope: Regression slope\n",
    "            - intercept: Regression intercept \n",
    "            - ci_lower: Lower bound of 95% CI\n",
    "            - ci_upper: Upper bound of 95% CI\n",
    "            - r_value: R-value (correlation coefficient)\n",
    "            - p_value: P-value for significance\n",
    "            - std_err: Standard error of the slope\n",
    "    \"\"\"\n",
    "    # Calculate basic regression statistics\n",
    "    slope, intercept, r_value, p_value, std_err = linregress(x, y)\n",
    "    \n",
    "    # Calculate 95% confidence interval\n",
    "    confidence_level = 0.95\n",
    "    degrees_of_freedom = len(x) - 2\n",
    "    t_value = t.ppf((1 + confidence_level) / 2, degrees_of_freedom)\n",
    "    margin_of_error = t_value * std_err\n",
    "    ci_lower = slope - margin_of_error\n",
    "    ci_upper = slope + margin_of_error\n",
    "    \n",
    "    return {\n",
    "        'slope': slope,\n",
    "        'intercept': intercept,\n",
    "        'ci_lower': ci_lower,\n",
    "        'ci_upper': ci_upper,\n",
    "        'r_value': r_value,\n",
    "        'p_value': p_value,\n",
    "        'std_err': std_err\n",
    "    }\n",
    "\n",
    "def print_regression_stats(x, y, title):\n",
    "    stats = calculate_regression_stats(x, y)\n",
    "    print(f\"\\n{title}:\")\n",
    "    print(f\"Slope: {stats['slope']:.5f}\")\n",
    "    print(f\"95% CI: ({stats['ci_lower']:.5f}, {stats['ci_upper']:.5f})\")\n",
    "    print(f\"R-value: {stats['r_value']:.5f}\")\n",
    "    print(f\"P-value: {stats['p_value']:.5f}\")\n",
    "    print(f\"Standard Error: {stats['std_err']:.5f}\")"
   ]
  },
  {
   "cell_type": "code",
   "execution_count": 45,
   "metadata": {},
   "outputs": [
    {
     "name": "stdout",
     "output_type": "stream",
     "text": [
      "\n",
      "Cynicism regression statistics::\n",
      "Slope: -0.00149\n",
      "95% CI: (-0.00430, 0.00132)\n",
      "R-value: -0.30317\n",
      "P-value: 0.27203\n",
      "Standard Error: 0.00130\n",
      "\n",
      "Subversion regression statistics::\n",
      "Slope: -0.00461\n",
      "95% CI: (-0.00784, -0.00137)\n",
      "R-value: -0.64926\n",
      "P-value: 0.00881\n",
      "Standard Error: 0.00150\n",
      "\n",
      "Betrayal regression statistics::\n",
      "Slope: 0.00127\n",
      "95% CI: (-0.00212, 0.00466)\n",
      "R-value: 0.21853\n",
      "P-value: 0.43395\n",
      "Standard Error: 0.00157\n",
      "\n",
      "Injustice regression statistics::\n",
      "Slope: -0.00114\n",
      "95% CI: (-0.00353, 0.00125)\n",
      "R-value: -0.27416\n",
      "P-value: 0.32275\n",
      "Standard Error: 0.00111\n"
     ]
    },
    {
     "data": {
      "image/png": "[encoded data removed]",
      "text/plain": [
       "<Figure size 1000x600 with 1 Axes>"
      ]
     },
     "metadata": {},
     "output_type": "display_data"
    }
   ],
   "source": [
    "# Define x-axis values as integers\n",
    "x = results_df['year'].astype(int)\n",
    "\n",
    "# Rest of regression calculations remain the same\n",
    "y_cynicism = results_df['cynicism']\n",
    "slope_c, intercept_c, r_value, p_value, std_err = linregress(x, y_cynicism)\n",
    "print_regression_stats(x, y_cynicism, \"Cynicism regression statistics:\")\n",
    "\n",
    "# Compute regressions for MFT components\n",
    "y_subversion = results_df['mft_subversion']\n",
    "slope_auth, intercept_auth, _, _, _ = linregress(x, y_subversion)\n",
    "print_regression_stats(x, y_subversion, \"Subversion regression statistics:\")\n",
    "\n",
    "y_betrayal = results_df['mft_betrayal']\n",
    "slope_betrayal, intercept_betrayal, _, _, _ = linregress(x, y_betrayal)\n",
    "print_regression_stats(x, y_betrayal, \"Betrayal regression statistics:\")\n",
    "\n",
    "y_injustice = results_df['mft_injustice']\n",
    "slope_fair, intercept_fair, _, _, _ = linregress(x, y_injustice)\n",
    "print_regression_stats(x, y_injustice, \"Injustice regression statistics:\")\n",
    "# Create plot\n",
    "plt.figure(figsize=(10, 6))\n",
    "\n",
    "# Scatter plots\n",
    "plt.scatter(x, y_cynicism, color='blue', label='Cynicism Data')\n",
    "plt.scatter(x, y_subversion, color='green', s=50, alpha=0.6, label='Subversion')\n",
    "plt.scatter(x, y_betrayal, color='orange', s=50, alpha=0.6, label='Betrayal')\n",
    "plt.scatter(x, y_injustice, color='purple', s=50, alpha=0.6, label='Injustice')\n",
    "\n",
    "# Trend lines\n",
    "plt.plot(x, intercept_c + slope_c * x, color='blue', linestyle='-', linewidth=2.5, label='Cynicism Trend')\n",
    "plt.plot(x, intercept_auth + slope_auth * x, color='green', linestyle=':', linewidth=1.5, label='Subversion Trend')\n",
    "plt.plot(x, intercept_betrayal + slope_betrayal * x, color='orange', linestyle=':', linewidth=1.5, label='Betrayal Trend')\n",
    "plt.plot(x, intercept_fair + slope_fair * x, color='purple', linestyle=':', linewidth=1.5, label='Injustice Trend')\n",
    "\n",
    "# Set integer ticks for x-axis\n",
    "plt.xticks(x)\n",
    "\n",
    "# Calculate y-axis limits\n",
    "all_y_values = np.concatenate([y_cynicism, y_subversion, y_betrayal, y_injustice])\n",
    "y_min = np.min(all_y_values)\n",
    "y_max = np.max(all_y_values)\n",
    "\n",
    "plt.title(\"Brown Opinions: Cynicism & MFT Trends\")\n",
    "plt.xlabel(\"Year\")\n",
    "plt.ylabel(\"Score\")\n",
    "plt.legend(loc='upper left')\n",
    "plt.ylim(y_min * 0.95, y_max * 1.1)\n",
    "plt.show()"
   ]
  },
  {
   "cell_type": "markdown",
   "metadata": {},
   "source": [
    "### Regression Goodness of Fit: Explicit Diversity Words\n"
   ]
  },
  {
   "cell_type": "code",
   "execution_count": 46,
   "metadata": {},
   "outputs": [
    {
     "data": {
      "image/png": "[encoded data removed]",
      "text/plain": [
       "<Figure size 640x480 with 1 Axes>"
      ]
     },
     "metadata": {},
     "output_type": "display_data"
    }
   ],
   "source": [
    "import matplotlib.pyplot as plt\n",
    "from scipy.stats import linregress\n",
    "\n",
    "x = results_df['year']\n",
    "y = results_df['mentions-norm']\n",
    "\n",
    "slope, intercept, r_value, p_value, std_err = linregress(x, y)\n",
    "\n",
    "results_df.plot(x=\"year\", y=\"mentions-norm\", kind=\"scatter\")\n",
    "\n",
    "plt.plot(x, intercept + slope*x, 'b:', label='fitted regression')\n",
    "\n",
    "plt.title(\"Brown Opinions: Explicit Diversity mentions-norm per Year\")\n",
    "plt.legend(loc='lower right')\n",
    "plt.ylim(min(y)*0.95, max(y)*1.05)\n",
    "plt.show()"
   ]
  },
  {
   "cell_type": "markdown",
   "metadata": {},
   "source": [
    "### Regression Goodness of Fit: Pairwise Dispersion\n"
   ]
  },
  {
   "cell_type": "code",
   "execution_count": 47,
   "metadata": {},
   "outputs": [
    {
     "data": {
      "image/png": "[encoded data removed]",
      "text/plain": [
       "<Figure size 640x480 with 1 Axes>"
      ]
     },
     "metadata": {},
     "output_type": "display_data"
    }
   ],
   "source": [
    "import matplotlib.pyplot as plt\n",
    "from scipy.stats import linregress\n",
    "\n",
    "x = results_df['year']\n",
    "y = results_df['pairwise']\n",
    "\n",
    "slope, intercept, r_value, p_value, std_err = linregress(x, y)\n",
    "\n",
    "results_df.plot(x=\"year\", y=\"pairwise\", kind=\"scatter\")\n",
    "\n",
    "plt.plot(x, intercept + slope*x, 'b:', label='fitted regression')\n",
    "\n",
    "plt.title(\"Brown Opinions by year: Pairwise Dispersion\")\n",
    "plt.legend(loc='upper right')\n",
    "plt.ylim(min(y)*0.95, max(y)*1.05)\n",
    "plt.show()"
   ]
  },
  {
   "cell_type": "markdown",
   "metadata": {},
   "source": [
    "### Regress Goodness of Fit: VADER Sentiment Analysis\n"
   ]
  },
  {
   "cell_type": "code",
   "execution_count": 48,
   "metadata": {},
   "outputs": [
    {
     "data": {
      "image/png": "[encoded data removed]",
      "text/plain": [
       "<Figure size 640x480 with 1 Axes>"
      ]
     },
     "metadata": {},
     "output_type": "display_data"
    }
   ],
   "source": [
    "x = results_df['year']\n",
    "y = results_df['vader']\n",
    "\n",
    "slope, intercept, r_value, p_value, std_err = linregress(x, y)\n",
    "\n",
    "results_df.plot(x=\"year\", y=\"vader\", kind=\"scatter\")\n",
    "\n",
    "plt.plot(x, intercept + slope*x, 'b:', label='fitted regression')\n",
    "\n",
    "plt.title(\"Brown Opinions by year: VADER Sentiment Analysis\")\n",
    "plt.legend(loc='upper right')\n",
    "plt.ylim(min(y)*0.95, max(y)*1.05)\n",
    "plt.show()"
   ]
  },
  {
   "cell_type": "markdown",
   "metadata": {},
   "source": [
    "### Regress Goodness of Fit: LIWC Lexical Analysis\n"
   ]
  },
  {
   "cell_type": "code",
   "execution_count": 49,
   "metadata": {},
   "outputs": [
    {
     "data": {
      "image/png": "[encoded data removed]",
      "text/plain": [
       "<Figure size 640x480 with 1 Axes>"
      ]
     },
     "metadata": {},
     "output_type": "display_data"
    }
   ],
   "source": [
    "x = results_df['year']\n",
    "y = results_df['lexical']\n",
    "\n",
    "slope, intercept, r_value, p_value, std_err = linregress(x, y)\n",
    "\n",
    "results_df.plot(x=\"year\", y=\"lexical\", kind=\"scatter\")\n",
    "\n",
    "plt.plot(x, intercept + slope*x, 'b:', label='fitted regression')\n",
    "\n",
    "plt.title(\"Brown Opinions by year: LIWC Lexical Analysis\")\n",
    "plt.legend(loc='upper right')\n",
    "plt.ylim(min(y)*0.95, max(y)*1.05)\n",
    "plt.show()"
   ]
  },
  {
   "cell_type": "markdown",
   "metadata": {},
   "source": [
    "## Combined Diversity and Sentiment Analyses\n"
   ]
  },
  {
   "cell_type": "code",
   "execution_count": 50,
   "metadata": {},
   "outputs": [
    {
     "name": "stdout",
     "output_type": "stream",
     "text": [
      "\n",
      "mentions-norm metrics:\n",
      "  slope: 0.03614\n",
      "  95% CI: (0.01399, 0.05828)\n",
      "  std error: 0.01025\n",
      "  p-value: 0.00373\n",
      "  r-value: 0.69914\n",
      "\n",
      "pairwise metrics:\n",
      "  slope: 0.00148\n",
      "  95% CI: (-0.00015, 0.00311)\n",
      "  std error: 0.00075\n",
      "  p-value: 0.07080\n",
      "  r-value: 0.47907\n",
      "\n",
      "vader metrics:\n",
      "  slope: 0.00780\n",
      "  95% CI: (0.00018, 0.01541)\n",
      "  std error: 0.00352\n",
      "  p-value: 0.04552\n",
      "  r-value: 0.52287\n",
      "\n",
      "lexical metrics:\n",
      "  slope: -0.00154\n",
      "  95% CI: (-0.00362, 0.00053)\n",
      "  std error: 0.00096\n",
      "  p-value: 0.13139\n",
      "  r-value: -0.40774\n"
     ]
    },
    {
     "data": {
      "image/png": "[encoded data removed]",
      "text/plain": [
       "<Figure size 1600x400 with 4 Axes>"
      ]
     },
     "metadata": {},
     "output_type": "display_data"
    }
   ],
   "source": [
    "from scipy.stats import t\n",
    "\n",
    "# Select the columns to plot\n",
    "columns = [\"mentions-norm\", \"pairwise\", \"vader\", \"lexical\"]\n",
    "\n",
    "# Create a figure with subplots\n",
    "fig, axs = plt.subplots(nrows=1, ncols=len(columns), sharex=True, figsize=(16,4))\n",
    "\n",
    "# Loop through the columns and plot each one\n",
    "for ax, column in zip(axs, columns):\n",
    "    # Select the data for the current column\n",
    "    x = range(len(results_df.index))\n",
    "    y = results_df[column]\n",
    "     \n",
    "    # Calculate the linear regression\n",
    "    slope, intercept, r_value, p_value, std_err = linregress(x, y)\n",
    "    \n",
    "    # Calculate 95% confidence interval\n",
    "    confidence_level = 0.95\n",
    "    degrees_of_freedom = len(x) - 2\n",
    "    t_value = t.ppf((1 + confidence_level) / 2, degrees_of_freedom)\n",
    "    margin_of_error = t_value * std_err\n",
    "    ci_lower = slope - margin_of_error\n",
    "    ci_upper = slope + margin_of_error\n",
    "    \n",
    "    # Print comprehensive statistics\n",
    "    print(f\"\\n{column} metrics:\")\n",
    "    print(f\"  slope: {slope:.5f}\")\n",
    "    print(f\"  95% CI: ({ci_lower:.5f}, {ci_upper:.5f})\")\n",
    "    print(f\"  std error: {std_err:.5f}\")\n",
    "    print(f\"  p-value: {p_value:.5f}\")\n",
    "    print(f\"  r-value: {r_value:.5f}\")\n",
    "\n",
    "    # Plot the data and the linear regression line\n",
    "    results_df[column].plot(ax=ax, style=\".\", x=x, y=y, label=column)\n",
    "    ax.plot(x, intercept + slope*x, 'b:', label='regression')\n",
    "    ax.set_ylim(min(y)*0.9, max(y)*1.1)\n",
    "    # ax.set_ylim(0.0, 1.0)\n",
    "    \n",
    "    # Add a legend\n",
    "    ax.legend(loc='lower center')\n",
    "\n",
    "    # Add x-label for the years\n",
    "    ax.set_xticks(results_df.index)\n",
    "    ax.set_xticklabels(results_df.year)\n",
    "    ax.tick_params(axis='x', rotation=45)\n",
    "    \n",
    "plt.xlabel(\"Year\")\n",
    "plt.suptitle(\"Trending of Brown Opinions: Diversity, Sentiment, and Lexical Analyses\")\n",
    "plt.tight_layout()\n",
    "plt.show()"
   ]
  },
  {
   "cell_type": "code",
   "execution_count": 51,
   "metadata": {},
   "outputs": [
    {
     "name": "stdout",
     "output_type": "stream",
     "text": [
      "Slope: 0.00148\n",
      "95% Confidence Interval: (-0.00015, 0.00311)\n",
      "Standard Error: 0.00075\n",
      "P-value: 0.07080\n"
     ]
    }
   ],
   "source": [
    "from scipy.stats import t, linregress\n",
    "\n",
    "x = results_df['year']\n",
    "y = results_df['pairwise']\n",
    "\n",
    "slope, intercept, r_value, p_value, std_err = linregress(x, y)\n",
    "\n",
    "confidence_level = 0.95\n",
    "degrees_of_freedom = len(x) - 2\n",
    "t_value = t.ppf((1 + confidence_level) / 2, degrees_of_freedom)\n",
    "\n",
    "margin_of_error = t_value * std_err\n",
    "\n",
    "ci_lower = slope - margin_of_error\n",
    "ci_upper = slope + margin_of_error\n",
    "\n",
    "print(f\"Slope: {slope:.5f}\")\n",
    "print(f\"95% Confidence Interval: ({ci_lower:.5f}, {ci_upper:.5f})\")\n",
    "print(f\"Standard Error: {std_err:.5f}\")\n",
    "print(f\"P-value: {p_value:.5f}\")"
   ]
  },
  {
   "cell_type": "markdown",
   "metadata": {},
   "source": [
    "## 5. VADER Sentiment Analysis\n",
    "\n",
    "First, you need to install the VADER sentiment analysis tool. If you're using Python, you can install it with the nltk (Natural Language Toolkit) library.\n"
   ]
  },
  {
   "cell_type": "code",
   "execution_count": 52,
   "metadata": {},
   "outputs": [
    {
     "name": "stderr",
     "output_type": "stream",
     "text": [
      "[nltk_data] Downloading package vader_lexicon to\n",
      "[nltk_data]     C:\\Users\\theod\\AppData\\Roaming\\nltk_data...\n",
      "[nltk_data]   Package vader_lexicon is already up-to-date!\n"
     ]
    }
   ],
   "source": [
    "import nltk\n",
    "nltk.download('vader_lexicon')\n",
    "from nltk.sentiment.vader import SentimentIntensityAnalyzer\n",
    "\n",
    "# Initialize the sentiment analyzer\n",
    "sia = SentimentIntensityAnalyzer()"
   ]
  },
  {
   "cell_type": "markdown",
   "metadata": {},
   "source": [
    "**Analyze the Sentiment of Text:**\n",
    "\n",
    "Once you have the SentimentIntensityAnalyzer instance, you can use the .polarity_scores() method to analyze the sentiment of a given text. This method returns a dictionary with the following scores:\n",
    "\n",
    "- positive: A score for the positive sentiment.\n",
    "- neutral: A score for the neutral sentiment.\n",
    "- negative: A score for the negative sentiment.\n",
    "- compound: The overall sentiment score, which is a normalized value between -1 (most negative) and +1 (most positive).\n"
   ]
  },
  {
   "cell_type": "code",
   "execution_count": 53,
   "metadata": {},
   "outputs": [],
   "source": [
    "results = []\n",
    "for year in range(START_YEAR, FINAL_YEAR+1):\n",
    "    year_df = df[df.year==year]\n",
    "    \n",
    "    clean_df, num_diversity_words = prepText(year_df.body)\n",
    "    # wv = get_batch_embeddings(clean_df)\n",
    "\n",
    "    # Calculate sentiment scores for each text and average them\n",
    "    pos_scores = []\n",
    "    neg_scores = []\n",
    "    neu_scores = []\n",
    "    compound_scores = []\n",
    "    \n",
    "    for text in clean_df:\n",
    "        sentiment_scores = sia.polarity_scores(text)\n",
    "        pos_scores.append(sentiment_scores['pos'])\n",
    "        neg_scores.append(sentiment_scores['neg'])\n",
    "        neu_scores.append(sentiment_scores['neu'])\n",
    "        compound_scores.append(sentiment_scores['compound'])\n",
    "    \n",
    "    result = {'year': year,\n",
    "              'pos': sum(pos_scores) / len(pos_scores),\n",
    "              'neg': sum(neg_scores) / len(neg_scores),\n",
    "              'neu': sum(neu_scores) / len(neu_scores),\n",
    "              'compound': sum(compound_scores) / len(compound_scores)}\n",
    "    \n",
    "    results.append(result)"
   ]
  },
  {
   "cell_type": "code",
   "execution_count": 54,
   "metadata": {},
   "outputs": [
    {
     "name": "stdout",
     "output_type": "stream",
     "text": [
      "year: 2010, pos: 0.18, neg: 0.09, neu: 0.73, compound: 0.64\n",
      "year: 2011, pos: 0.18, neg: 0.11, neu: 0.72, compound: 0.51\n",
      "year: 2012, pos: 0.18, neg: 0.11, neu: 0.71, compound: 0.54\n",
      "year: 2013, pos: 0.19, neg: 0.11, neu: 0.70, compound: 0.56\n",
      "year: 2014, pos: 0.17, neg: 0.11, neu: 0.72, compound: 0.54\n",
      "year: 2015, pos: 0.18, neg: 0.12, neu: 0.71, compound: 0.47\n",
      "year: 2016, pos: 0.19, neg: 0.10, neu: 0.71, compound: 0.68\n",
      "year: 2017, pos: 0.18, neg: 0.10, neu: 0.72, compound: 0.66\n",
      "year: 2018, pos: 0.18, neg: 0.09, neu: 0.73, compound: 0.66\n",
      "year: 2019, pos: 0.18, neg: 0.10, neu: 0.72, compound: 0.67\n",
      "year: 2020, pos: 0.18, neg: 0.10, neu: 0.72, compound: 0.68\n",
      "year: 2021, pos: 0.17, neg: 0.10, neu: 0.72, compound: 0.65\n",
      "year: 2022, pos: 0.19, neg: 0.10, neu: 0.71, compound: 0.64\n",
      "year: 2023, pos: 0.18, neg: 0.10, neu: 0.72, compound: 0.64\n",
      "year: 2024, pos: 0.17, neg: 0.10, neu: 0.72, compound: 0.61\n"
     ]
    }
   ],
   "source": [
    "for result in results:\n",
    "    print(f\"year: {result['year']}, pos: {result['pos']:.2f}, neg: {result['neg']:.2f}, neu: {result['neu']:.2f}, compound: {result['compound']:.2f}\")"
   ]
  },
  {
   "cell_type": "code",
   "execution_count": 55,
   "metadata": {},
   "outputs": [
    {
     "name": "stdout",
     "output_type": "stream",
     "text": [
      "Regression results:\n",
      "Slope: 0.0078 (change in compound score per year)\n",
      "R-squared: 0.2734\n",
      "P-value: 0.0455\n"
     ]
    },
    {
     "data": {
      "image/png": "[encoded data removed]",
      "text/plain": [
       "<Figure size 1000x600 with 1 Axes>"
      ]
     },
     "metadata": {},
     "output_type": "display_data"
    }
   ],
   "source": [
    "import numpy as np\n",
    "from scipy import stats\n",
    "\n",
    "# First convert results list to a DataFrame for easier manipulation\n",
    "results_df = pd.DataFrame(results)\n",
    "\n",
    "# Create array of years since 2010\n",
    "base_year = 2010\n",
    "years_since_2010 = results_df['year'] - base_year\n",
    "\n",
    "# Get compound scores\n",
    "compound_scores = results_df['compound']\n",
    "\n",
    "# Calculate regression\n",
    "slope, intercept, r_value, p_value, std_err = stats.linregress(years_since_2010, compound_scores)\n",
    "\n",
    "print(f\"Regression results:\")\n",
    "print(f\"Slope: {slope:.4f} (change in compound score per year)\")\n",
    "print(f\"R-squared: {r_value**2:.4f}\")\n",
    "print(f\"P-value: {p_value:.4f}\")\n",
    "\n",
    "# Optional: Plot the regression line\n",
    "import matplotlib.pyplot as plt\n",
    "\n",
    "plt.figure(figsize=(10, 6))\n",
    "plt.scatter(years_since_2010, compound_scores, alpha=0.5)\n",
    "plt.plot(years_since_2010, intercept + slope * years_since_2010, 'r', \n",
    "         label=f'Slope = {slope:.4f}')\n",
    "plt.xlabel('Years since 2010')\n",
    "plt.ylabel('Compound Sentiment Score')\n",
    "plt.title('Sentiment Score Trend Over Time')\n",
    "plt.legend()\n",
    "plt.grid(True, alpha=0.3)\n",
    "plt.show()"
   ]
  },
  {
   "cell_type": "code",
   "execution_count": null,
   "metadata": {},
   "outputs": [],
   "source": []
  }
 ],
 "metadata": {
  "kernelspec": {
   "display_name": ".venv",
   "language": "python",
   "name": "python3"
  },
  "language_info": {
   "codemirror_mode": {
    "name": "ipython",
    "version": 3
   },
   "file_extension": ".py",
   "mimetype": "text/x-python",
   "name": "python",
   "nbconvert_exporter": "python",
   "pygments_lexer": "ipython3",
   "version": "3.11.9"
  }
 },
 "nbformat": 4,
 "nbformat_minor": 2
}
