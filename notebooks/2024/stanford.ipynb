{
 "cells": [
  {
   "cell_type": "markdown",
   "metadata": {},
   "source": [
    "# Diversity of Ideas: Stanford\n"
   ]
  },
  {
   "cell_type": "markdown",
   "metadata": {},
   "source": [
    "## 1. Setup\n"
   ]
  },
  {
   "cell_type": "code",
   "execution_count": 1,
   "metadata": {},
   "outputs": [
    {
     "data": {
      "text/plain": [
       "True"
      ]
     },
     "execution_count": 1,
     "metadata": {},
     "output_type": "execute_result"
    }
   ],
   "source": [
    "from dotenv import load_dotenv, find_dotenv\n",
    "load_dotenv(find_dotenv())"
   ]
  },
  {
   "cell_type": "code",
   "execution_count": 2,
   "metadata": {},
   "outputs": [
    {
     "name": "stderr",
     "output_type": "stream",
     "text": [
      "[nltk_data] Downloading package punkt to /Users/pmui/nltk_data...\n",
      "[nltk_data]   Package punkt is already up-to-date!\n",
      "[nltk_data] Downloading package punkt_tab to /Users/pmui/nltk_data...\n",
      "[nltk_data]   Package punkt_tab is already up-to-date!\n"
     ]
    }
   ],
   "source": [
    "import pandas as pd\n",
    "import nltk\n",
    "from nltk.tokenize import word_tokenize\n",
    "from collections import Counter\n",
    "nltk.download('punkt')\n",
    "nltk.download('punkt_tab')\n",
    "from util.ouraws import (\n",
    "    getFromFile\n",
    ")"
   ]
  },
  {
   "cell_type": "code",
   "execution_count": 3,
   "metadata": {},
   "outputs": [
    {
     "data": {
      "text/plain": [
       "'/Users/pmui/SynologyDrive/research/diversity-ideas/notebooks/2024'"
      ]
     },
     "execution_count": 3,
     "metadata": {},
     "output_type": "execute_result"
    }
   ],
   "source": [
    "%pwd"
   ]
  },
  {
   "cell_type": "code",
   "execution_count": 4,
   "metadata": {},
   "outputs": [
    {
     "data": {
      "text/plain": [
       "(5121, 6)"
      ]
     },
     "execution_count": 4,
     "metadata": {},
     "output_type": "execute_result"
    }
   ],
   "source": [
    "df = getFromFile(\"../../data/stanford-opinions.parquet\", False)\n",
    "df.shape"
   ]
  },
  {
   "cell_type": "code",
   "execution_count": 5,
   "metadata": {},
   "outputs": [
    {
     "data": {
      "text/html": [
       "<div>\n",
       "<style scoped>\n",
       "    .dataframe tbody tr th:only-of-type {\n",
       "        vertical-align: middle;\n",
       "    }\n",
       "\n",
       "    .dataframe tbody tr th {\n",
       "        vertical-align: top;\n",
       "    }\n",
       "\n",
       "    .dataframe thead th {\n",
       "        text-align: right;\n",
       "    }\n",
       "</style>\n",
       "<table border=\"1\" class=\"dataframe\">\n",
       "  <thead>\n",
       "    <tr style=\"text-align: right;\">\n",
       "      <th></th>\n",
       "      <th>title</th>\n",
       "      <th>url</th>\n",
       "      <th>body</th>\n",
       "      <th>year</th>\n",
       "      <th>month</th>\n",
       "      <th>day</th>\n",
       "    </tr>\n",
       "  </thead>\n",
       "  <tbody>\n",
       "    <tr>\n",
       "      <th>0</th>\n",
       "      <td>Student activism is the antidote to Silicon Va...</td>\n",
       "      <td>https://stanforddaily.com/2024/11/20/student-a...</td>\n",
       "      <td>Student activism is the antidote to Silicon Va...</td>\n",
       "      <td>2024</td>\n",
       "      <td>11</td>\n",
       "      <td>1</td>\n",
       "    </tr>\n",
       "    <tr>\n",
       "      <th>1</th>\n",
       "      <td>Social media is replacing our politicians with...</td>\n",
       "      <td>https://stanforddaily.com/2024/12/05/social-me...</td>\n",
       "      <td>Social media is replacing our politicians with...</td>\n",
       "      <td>2024</td>\n",
       "      <td>12</td>\n",
       "      <td>1</td>\n",
       "    </tr>\n",
       "    <tr>\n",
       "      <th>2</th>\n",
       "      <td>From the Community | Should Stanford offer a b...</td>\n",
       "      <td>https://stanforddaily.com/2024/12/01/stanford-...</td>\n",
       "      <td>From the Community | Should Stanford offer a b...</td>\n",
       "      <td>2024</td>\n",
       "      <td>12</td>\n",
       "      <td>1</td>\n",
       "    </tr>\n",
       "    <tr>\n",
       "      <th>3</th>\n",
       "      <td>Letter to the Editor | Maria Corina Machado sh...</td>\n",
       "      <td>https://stanforddaily.com/2024/11/25/letter-to...</td>\n",
       "      <td>Letter to the Editor | Maria Corina Machado sh...</td>\n",
       "      <td>2024</td>\n",
       "      <td>11</td>\n",
       "      <td>1</td>\n",
       "    </tr>\n",
       "  </tbody>\n",
       "</table>\n",
       "</div>"
      ],
      "text/plain": [
       "                                               title  \\\n",
       "0  Student activism is the antidote to Silicon Va...   \n",
       "1  Social media is replacing our politicians with...   \n",
       "2  From the Community | Should Stanford offer a b...   \n",
       "3  Letter to the Editor | Maria Corina Machado sh...   \n",
       "\n",
       "                                                 url  \\\n",
       "0  https://stanforddaily.com/2024/11/20/student-a...   \n",
       "1  https://stanforddaily.com/2024/12/05/social-me...   \n",
       "2  https://stanforddaily.com/2024/12/01/stanford-...   \n",
       "3  https://stanforddaily.com/2024/11/25/letter-to...   \n",
       "\n",
       "                                                body  year  month  day  \n",
       "0  Student activism is the antidote to Silicon Va...  2024     11    1  \n",
       "1  Social media is replacing our politicians with...  2024     12    1  \n",
       "2  From the Community | Should Stanford offer a b...  2024     12    1  \n",
       "3  Letter to the Editor | Maria Corina Machado sh...  2024     11    1  "
      ]
     },
     "execution_count": 5,
     "metadata": {},
     "output_type": "execute_result"
    }
   ],
   "source": [
    "df.head(4)"
   ]
  },
  {
   "cell_type": "markdown",
   "metadata": {},
   "source": [
    "## 2. Function Definitions\n"
   ]
  },
  {
   "cell_type": "code",
   "execution_count": 6,
   "metadata": {},
   "outputs": [],
   "source": [
    "import numpy as np\n",
    "import re"
   ]
  },
  {
   "cell_type": "code",
   "execution_count": 7,
   "metadata": {},
   "outputs": [],
   "source": [
    "def getCovDispersion(wv):\n",
    "    \"\"\"\n",
    "    Calculate various dispersion measures using the covariance matrix of word vectors.\n",
    "    \n",
    "    Args:\n",
    "        wv: numpy array of shape (n_documents, embedding_dim) containing document embeddings\n",
    "        \n",
    "    Returns:\n",
    "        tuple containing:\n",
    "        - N: number of documents\n",
    "        - trace_norm: average variance along the diagonal\n",
    "        - l1_norm: L1 norm of covariance matrix (normalized)\n",
    "        - l2_norm: L2 norm of covariance matrix (normalized)\n",
    "        - inf_norm: Infinity norm of covariance matrix (normalized)\n",
    "    \"\"\"\n",
    "    # Get number of documents\n",
    "    N = len(wv)\n",
    "    \n",
    "    # Calculate covariance matrix of the word vectors\n",
    "    # This measures how dimensions vary together across documents\n",
    "    cov = np.cov(wv)\n",
    "    \n",
    "    return (\n",
    "        N,  # Number of documents\n",
    "        np.trace(cov)/N,  # Average variance along diagonal (spread in each dimension)\n",
    "        np.linalg.norm(cov, ord=1)/N,  # L1 norm (sum of absolute values)\n",
    "        np.linalg.norm(cov, ord=2)/N,  # L2/Spectral norm (largest singular value)\n",
    "        np.linalg.norm(cov, ord=np.inf)/N,  # Infinity norm (max absolute row sum)\n",
    "    )\n",
    "\n",
    "def cosine_distance(v1, v2):\n",
    "    \"\"\"Calculate the cosine distance between two numpy arrays.\n",
    "    \n",
    "    Parameters:\n",
    "    a (numpy array): First input array.\n",
    "    b (numpy array): Second input array.\n",
    "    \n",
    "    Returns:\n",
    "    float: Cosine distance between a and b.\n",
    "    \"\"\"\n",
    "    a = np.array(v1, dtype=np.float64)\n",
    "    b = np.array(v2, dtype=np.float64)\n",
    "    # Calculate dot product and magnitudes of the input arrays\n",
    "    dot   = np.dot(a, b)\n",
    "    a_mag = np.linalg.norm(a)\n",
    "    b_mag = np.linalg.norm(b)\n",
    "    \n",
    "    if np.isclose(a_mag, 0, rtol=1e-9, atol=1e-12):\n",
    "        print(f\"a_mag is very small: {a_mag}\")\n",
    "    if np.isclose(b_mag, 0, rtol=1e-9, atol=1e-12):\n",
    "        print(f\"b_mag is very small: {b_mag}\")\n",
    "    \n",
    "    # Calculate and return the cosine distance\n",
    "    return 1.0 - (dot / (a_mag * b_mag))\n",
    "\n",
    "def getPairwiseDispersion(wv, measure):\n",
    "    if len(wv) <= 1: return 0.0\n",
    "    distance = 0.0\n",
    "    vec = wv[0]\n",
    "    for v in wv[1:]:\n",
    "        distance += measure(vec, v)\n",
    "        # print(f\"\\tcos_distance: {measure(vec, v)}\")\n",
    "    return distance + getPairwiseDispersion(wv[1:], measure)\n",
    "\n",
    "def getNormalizedPairwiseDispersion(wv, measure):\n",
    "    '''Normalize the dispersion by (N-Choose-2) number of pairs'''\n",
    "    N = len(wv)\n",
    "    return getPairwiseDispersion(wv, measure) / (N * (N-1)/2.)"
   ]
  },
  {
   "cell_type": "code",
   "execution_count": 8,
   "metadata": {},
   "outputs": [],
   "source": [
    "diversity_words = [\n",
    "    'diversity', \n",
    "    'equity',\n",
    "    'inclusion',\n",
    "    'inclusive',\n",
    "    'inclusivity',\n",
    "    'equality', \n",
    "    'equal opportunity',\n",
    "    'social justice',\n",
    "    'racial justice', \n",
    "    'multi-cultural', \n",
    "    'multicultural',\n",
    "    'intercultural',\n",
    "    'intersectional',\n",
    "    'intersectionality',\n",
    "    'anti-discrimination'\n",
    "]"
   ]
  },
  {
   "cell_type": "code",
   "execution_count": 9,
   "metadata": {},
   "outputs": [
    {
     "name": "stderr",
     "output_type": "stream",
     "text": [
      "[nltk_data] Downloading package wordnet to /Users/pmui/nltk_data...\n",
      "[nltk_data]   Package wordnet is already up-to-date!\n"
     ]
    }
   ],
   "source": [
    "import nltk\n",
    "nltk.download('wordnet')\n",
    "from nltk.stem import WordNetLemmatizer\n",
    "lemmatizer = WordNetLemmatizer()"
   ]
  },
  {
   "cell_type": "code",
   "execution_count": 10,
   "metadata": {},
   "outputs": [
    {
     "data": {
      "text/plain": [
       "['diversity',\n",
       " 'equity',\n",
       " 'inclusion',\n",
       " 'inclusive',\n",
       " 'inclusivity',\n",
       " 'equality',\n",
       " 'equal opportunity',\n",
       " 'social justice',\n",
       " 'racial justice',\n",
       " 'multi-cultural',\n",
       " 'multicultural',\n",
       " 'intercultural',\n",
       " 'intersectional',\n",
       " 'intersectionality',\n",
       " 'anti-discrimination']"
      ]
     },
     "execution_count": 10,
     "metadata": {},
     "output_type": "execute_result"
    }
   ],
   "source": [
    "diversity_lemmas = [lemmatizer.lemmatize(w) for w in diversity_words]\n",
    "diversity_lemmas"
   ]
  },
  {
   "cell_type": "code",
   "execution_count": 11,
   "metadata": {},
   "outputs": [],
   "source": [
    "diversity_pattern = \"|\".join(diversity_lemmas)"
   ]
  },
  {
   "cell_type": "markdown",
   "metadata": {},
   "source": [
    "Let's verify how the \"count\" of diversity words in the text is calculated.\n"
   ]
  },
  {
   "cell_type": "code",
   "execution_count": 12,
   "metadata": {},
   "outputs": [
    {
     "data": {
      "text/plain": [
       "3"
      ]
     },
     "execution_count": 12,
     "metadata": {},
     "output_type": "execute_result"
    }
   ],
   "source": [
    "text = \"This is a multicultural organization that advocates for diversity and racial justice.\"\n",
    "len(re.findall(diversity_pattern, text))"
   ]
  },
  {
   "cell_type": "markdown",
   "metadata": {},
   "source": [
    "### Cynicism related declarations\n"
   ]
  },
  {
   "cell_type": "code",
   "execution_count": 13,
   "metadata": {},
   "outputs": [
    {
     "data": {
      "text/plain": [
       "['skepticism',\n",
       " 'mistrust',\n",
       " 'questionable',\n",
       " 'dishonesty',\n",
       " 'manipulation',\n",
       " 'corruption',\n",
       " 'negativity']"
      ]
     },
     "execution_count": 13,
     "metadata": {},
     "output_type": "execute_result"
    }
   ],
   "source": [
    "# Define LIWC-style categories for cynicism analysis\n",
    "liwc_cynicism = {\n",
    "    \"skepticism\": {\"skeptical\", \"doubtful\", \"unconvinced\", \"uncertain\", \"wary\", \"dubious\"},\n",
    "    \"mistrust\": {\"untrustworthy\", \"suspicious\", \"distrustful\", \"unreliable\", \"shady\", \"rigged\", \"lying\"},\n",
    "    \"questionable\": {\"questionable\", \"dubious\", \"problematic\", \"concerning\", \"suspect\"},\n",
    "    \"dishonesty\": {\"dishonest\", \"lie\", \"lying\", \"deceptive\", \"misleading\", \"false\", \"fake\"},\n",
    "    \"manipulation\": {\"manipulative\", \"coercive\", \"exploitative\", \"calculated\", \"scheming\"},\n",
    "    \"corruption\": {\"corrupt\", \"bribed\", \"compromised\", \"unethical\", \"crooked\", \"lying\"},\n",
    "    \"negativity\": {\"bad\", \"worse\", \"worst\", \"terrible\", \"awful\", \"disastrous\", \"weird\"},\n",
    "    \"certainty\": {\"obviously\", \"definitely\", \"certainly\", \"undoubtedly\", \"absolutely\", \"clearly\"}\n",
    "}\n",
    "\n",
    "liwc_cynicism_keys = [key for key in liwc_cynicism if key != \"certainty\"]\n",
    "liwc_cynicism_keys"
   ]
  },
  {
   "cell_type": "code",
   "execution_count": 14,
   "metadata": {},
   "outputs": [],
   "source": [
    "def liwc_analysis(text):\n",
    "    \"\"\"Analyze text using LIWC-style categories for cynicism.\"\"\"\n",
    "    tokens = [token.lower() for token in word_tokenize(text) \n",
    "              if token.isalnum()]  # Only include alphanumeric tokens\n",
    "    word_counts = Counter(tokens)\n",
    "    total_words = sum(word_counts.values())\n",
    "    \n",
    "    # Initialize scores dict with all categories\n",
    "    liwc_scores = {category: 0 for category in liwc_cynicism.keys()}\n",
    "    \n",
    "    # Count matches for each category\n",
    "    for category, words in liwc_cynicism.items():\n",
    "        category_count = sum(word_counts[word] for word in words if word in word_counts)\n",
    "        if total_words > 0:\n",
    "            liwc_scores[category] = round(category_count / total_words, 4)\n",
    "    \n",
    "    # Debug print\n",
    "    # print(\"LIWC categories found:\", list(liwc_scores.keys()))\n",
    "    \n",
    "    return liwc_scores"
   ]
  },
  {
   "cell_type": "code",
   "execution_count": 15,
   "metadata": {},
   "outputs": [],
   "source": [
    "def compute_cynicism_score(row):\n",
    "    \"\"\"Compute cynicism score from LIWC categories.\"\"\"\n",
    "    # Create a set of categories excluding 'certainty'\n",
    "    cynicism_categories = set(liwc_cynicism.keys()) - {'certainty'}\n",
    "    certainty_weight = 1\n",
    "    \n",
    "    # Debug print\n",
    "    # print(\"Available columns:\", row.index.tolist())\n",
    "    # print(\"Looking for categories:\", list(cynicism_categories))\n",
    "    \n",
    "    # Check if all required categories exist\n",
    "    missing_categories = [cat for cat in cynicism_categories if cat not in row.index]\n",
    "    if missing_categories:\n",
    "        print(f\"Missing categories: {missing_categories}\")\n",
    "        return 0.0\n",
    "    \n",
    "    try:\n",
    "        cynicism_score = (sum(row[category] for category in cynicism_categories) - \n",
    "                         certainty_weight * row[\"certainty\"]) / len(cynicism_categories)\n",
    "        return round(cynicism_score, 4)\n",
    "    except Exception as e:\n",
    "        print(f\"Error computing cynicism score: {e}\")\n",
    "        print(f\"Row data: {row}\")\n",
    "        return 0.0"
   ]
  },
  {
   "cell_type": "code",
   "execution_count": 16,
   "metadata": {},
   "outputs": [],
   "source": [
    "def cronbach_alpha(df):\n",
    "    \"\"\"Compute Cronbach's Alpha for internal consistency of LIWC categories.\"\"\"\n",
    "    # items = df[liwc_cynicism_keys]\n",
    "    items = df[liwc_cynicism.keys()]\n",
    "    item_vars = items.var(axis=0, ddof=1)\n",
    "    total_var = items.sum(axis=1).var(ddof=1)\n",
    "    n = items.shape[1]\n",
    "    return (n / (n - 1)) * (1 - sum(item_vars) / total_var)"
   ]
  },
  {
   "cell_type": "markdown",
   "metadata": {},
   "source": [
    "## 3. LLM Cynicism MFT Analysis\n",
    "\n",
    "LLM-based cynicism Moral Foundation Theory Analysis\n"
   ]
  },
  {
   "cell_type": "code",
   "execution_count": 79,
   "metadata": {},
   "outputs": [],
   "source": [
    "import json\n",
    "import os\n",
    "import pprint\n",
    "from pydantic.v1 import BaseModel, Field\n",
    "from typing import Dict\n",
    "\n",
    "from llama_index.core import (\n",
    "    Settings, \n",
    "    SimpleDirectoryReader, \n",
    "    VectorStoreIndex,\n",
    "    StorageContext,\n",
    "    load_index_from_storage\n",
    ")\n",
    "from llama_index.core.prompts import PromptTemplate\n",
    "from llama_index.embeddings.ollama import OllamaEmbedding\n",
    "from llama_index.llms.ollama import Ollama"
   ]
  },
  {
   "cell_type": "code",
   "execution_count": 97,
   "metadata": {},
   "outputs": [],
   "source": [
    "class MFTAnalysis(BaseModel):\n",
    "    authority_subversion: float = Field(\n",
    "        default=0.0,\n",
    "        description=\"Degree of authority skepticism (0.0 to 1.0). Higher values indicate stronger skepticism towards institutional power.\"\n",
    "    )\n",
    "    loyalty_betrayal: float = Field(\n",
    "        default=0.0,\n",
    "        description=\"Degree of perceived betrayal (0.0 to 1.0). Higher values indicate a stronger sense of betrayal or disloyalty towards institutions.\"\n",
    "    )\n",
    "    fairness_cheating: float = Field(\n",
    "        default=0.0,\n",
    "        description=\"Degree of perceived unfairness (0.0 to 1.0). Higher values indicate stronger feelings of injustice or perceived cheating.\"\n",
    "    )\n",
    "\n",
    "class CynicalClassification(BaseModel):\n",
    "    is_cynical: bool\n",
    "    reason: str\n",
    "    mft_analysis: MFTAnalysis = Field(default_factory=MFTAnalysis)\n",
    "    primary_foundation: str = Field(\n",
    "        default=\"\",\n",
    "        description=\"Dominant moral foundation driving cynicism.\"\n",
    "    )\n",
    "    foundation_explanation: str = Field(\n",
    "        default=\"\",\n",
    "        description=\"Explanation of how the primary moral foundation manifests in the classification.\"\n",
    "    )"
   ]
  },
  {
   "cell_type": "code",
   "execution_count": 106,
   "metadata": {},
   "outputs": [],
   "source": [
    "CYNICISM_CLASSIFICATION_PROMPT = PromptTemplate(\n",
    "    template=\"\"\"\n",
    "You are an expert in cynical classification using Moral Foundations Theory (MFT).\n",
    "Analyze the text for cynicism through three moral foundations:\n",
    "1. Authority/Subversion: Skepticism of institutional power, questioning authority\n",
    "2. Loyalty/Betrayal: Sense of institutional or ideological betrayal\n",
    "3. Fairness/Cheating: Perceived injustices and inequities\n",
    "\n",
    "For each foundation, provide a score between 0.0 (not present) and 1.0 (strongly present).\n",
    "Identify the primary moral foundation driving any cynicism.\n",
    "\n",
    "## Text to analyze\n",
    "\n",
    "Text: {text}\n",
    "\n",
    "## Output Format\n",
    "Provide your analysis in the following JSON structure. Return only valid JSON:\n",
    "\n",
    "Here is an example of non-cynical judgement about a text:\n",
    "{{{{\n",
    "    \"is_cynical\": False,\n",
    "    \"reason\": \"explanation for the classification\",\n",
    "    \"mft_analysis\": {{{{\n",
    "        \"authority_subversion\": 0.1,\n",
    "        \"loyalty_betrayal\": 0.1,\n",
    "        \"fairness_cheating\": 0.2\n",
    "    }}}},\n",
    "    \"primary_foundation\": \"name of the dominant foundation\",\n",
    "    \"foundation_explanation\": \"explanation of how the primary foundation manifests\"\n",
    "}}}}\n",
    "\n",
    "Here is an example of cynical judgement about a text:\n",
    "{{{{\n",
    "    \"is_cynical\": True,\n",
    "    \"reason\": \"explanation for the classification\",\n",
    "    \"mft_analysis\": {{{{\n",
    "        \"authority_subversion\": 0.1,\n",
    "        \"loyalty_betrayal\": 0.9,\n",
    "        \"fairness_cheating\": 0.1\n",
    "    }}}},\n",
    "    \"primary_foundation\": \"name of the dominant foundation\",\n",
    "    \"foundation_explanation\": \"explanation of how the primary foundation manifests\"\n",
    "}}}}\n",
    "\"\"\"\n",
    ")"
   ]
  },
  {
   "cell_type": "code",
   "execution_count": 107,
   "metadata": {},
   "outputs": [],
   "source": [
    "# ollama = Ollama(model=\"deepseek-r1:7b\", json_mode=True, temperature=0.0)\n",
    "ollama = Ollama(model=\"llama3.2:3b-instruct-q8_0\", json_mode=True, temperature=0.0, timeout=240)\n",
    "ollama.system_prompt=(\n",
    "    \"You are a helpful assistant that always responds with valid JSON matching the requested structure.\"\n",
    ")\n",
    "sllm = ollama.as_structured_llm(output_cls=CynicalClassification, timeout=240)"
   ]
  },
  {
   "cell_type": "code",
   "execution_count": 132,
   "metadata": {},
   "outputs": [],
   "source": [
    "from llama_index.llms.openai import OpenAI\n",
    "gpt4omini = OpenAI(model=\"gpt-4o-mini\", temperature=0.0)\n",
    "gpt4omini.system_prompt=(\n",
    "    \"You are a helpful assistant that always responds with valid JSON matching the requested structure.\"\n",
    ")\n",
    "gpt4omini_sllm = gpt4omini.as_structured_llm(output_cls=CynicalClassification, timeout=120)"
   ]
  },
  {
   "cell_type": "code",
   "execution_count": 133,
   "metadata": {},
   "outputs": [],
   "source": [
    "def classify_text_cynicism(text) -> CynicalClassification:\n",
    "    \"\"\"\n",
    "    Process a single text and return a CynicalClassification.\n",
    "    \"\"\"\n",
    "    try:\n",
    "        # Add a more explicit prompt to encourage tool usage\n",
    "        formatted_prompt = CYNICISM_CLASSIFICATION_PROMPT.format(\n",
    "            text=text[:1000]  # Limit text length to avoid token limits\n",
    "        )\n",
    "        response = gpt4omini_sllm.complete(formatted_prompt)\n",
    "        return response.raw\n",
    "    except ValueError as e:\n",
    "        # Fallback values if tool calls fail\n",
    "        return CynicalClassification(\n",
    "            is_cynical=False,\n",
    "            reason=\"Error processing text\",\n",
    "            mft_analysis=MFTAnalysis(\n",
    "                authority_subversion=0.0,\n",
    "                loyalty_betrayal=0.0,\n",
    "                fairness_injustice=0.0\n",
    "            ),\n",
    "            primary_foundation=\"none\",\n",
    "            foundation_explanation=\"Error in processing\"\n",
    "        )"
   ]
  },
  {
   "cell_type": "code",
   "execution_count": 134,
   "metadata": {},
   "outputs": [],
   "source": [
    "def printCynicalClassification(judgement: CynicalClassification):\n",
    "    print(f\"is_cynical: {judgement.is_cynical}\")\n",
    "    print(f\"reason: {judgement.reason}\")\n",
    "    print(f\"mft_analysis: {judgement.mft_analysis}\")"
   ]
  },
  {
   "cell_type": "code",
   "execution_count": 135,
   "metadata": {},
   "outputs": [
    {
     "name": "stdout",
     "output_type": "stream",
     "text": [
      "is_cynical: True\n",
      "reason: The statement expresses a strong distrust in the police as an institution, labeling them as corrupt and suggesting they do not serve their intended purpose of protection.\n",
      "mft_analysis: authority_subversion=0.9 loyalty_betrayal=0.7 fairness_cheating=0.8\n"
     ]
    }
   ],
   "source": [
    "text = \"The police are corrupt and they are not there to protect the people.\"\n",
    "judgement = classify_text_cynicism(text)\n",
    "printCynicalClassification(judgement=judgement)"
   ]
  },
  {
   "cell_type": "code",
   "execution_count": 136,
   "metadata": {},
   "outputs": [
    {
     "name": "stdout",
     "output_type": "stream",
     "text": [
      "is_cynical: False\n",
      "reason: The text expresses a neutral sentiment about enjoying the neighborhood without any indication of skepticism towards authority, feelings of betrayal, or perceived injustices.\n",
      "mft_analysis: authority_subversion=0.0 loyalty_betrayal=0.0 fairness_cheating=0.0\n"
     ]
    }
   ],
   "source": [
    "text = \"We like going around theneighborhood.\"\n",
    "judgement = classify_text_cynicism(text)\n",
    "printCynicalClassification(judgement=judgement)"
   ]
  },
  {
   "cell_type": "markdown",
   "metadata": {},
   "source": [
    "## 4. Diversity Analysis\n"
   ]
  },
  {
   "cell_type": "code",
   "execution_count": 137,
   "metadata": {},
   "outputs": [],
   "source": [
    "from openai import OpenAI\n",
    "from typing import List\n",
    "import numpy as np\n",
    "client = OpenAI()"
   ]
  },
  {
   "cell_type": "code",
   "execution_count": 138,
   "metadata": {},
   "outputs": [],
   "source": [
    "def get_embedding(text: str) -> List[float]:\n",
    "    \"\"\"\n",
    "    Get embeddings for a single text using text-embedding-3-large model.\n",
    "    \n",
    "    Args:\n",
    "        text (str): The input text to generate embeddings for\n",
    "        \n",
    "    Returns:\n",
    "        List[float]: The embedding vector\n",
    "    \"\"\"\n",
    "    response = client.embeddings.create(\n",
    "        model=\"text-embedding-3-large\",\n",
    "        input=text,\n",
    "        dimensions=1024  # Optional: You can specify 256, 512, or 1024 dimensions\n",
    "    )\n",
    "    return response.data[0].embedding\n",
    "\n",
    "\n",
    "def get_batch_embeddings(texts: List[str]) -> List[List[float]]:\n",
    "    \"\"\"\n",
    "    Get embeddings for multiple texts in a single API call.\n",
    "    \n",
    "    Args:\n",
    "        texts (List[str]): List of input texts to generate embeddings for\n",
    "        \n",
    "    Returns:\n",
    "        List[List[float]]: List of embedding vectors\n",
    "    \"\"\"\n",
    "    \n",
    "    responses = []\n",
    "    try:\n",
    "        response = client.embeddings.create(\n",
    "            model=\"text-embedding-3-large\",\n",
    "            input=texts,\n",
    "            dimensions=1024\n",
    "        )\n",
    "        responses = [item.embedding for item in response.data]\n",
    "    except Exception as e:\n",
    "        # texts is too long for a single API call\n",
    "        for text in texts:\n",
    "            response = client.embeddings.create(\n",
    "                model=\"text-embedding-3-large\",\n",
    "                input=text,\n",
    "                dimensions=1024\n",
    "            )\n",
    "            responses.append(response.data[0].embedding)\n",
    "    return responses"
   ]
  },
  {
   "cell_type": "code",
   "execution_count": 139,
   "metadata": {},
   "outputs": [
    {
     "name": "stderr",
     "output_type": "stream",
     "text": [
      "[nltk_data] Downloading package stopwords to /Users/pmui/nltk_data...\n",
      "[nltk_data]   Package stopwords is already up-to-date!\n"
     ]
    }
   ],
   "source": [
    "nltk.download('stopwords')\n",
    "from nltk.corpus import stopwords"
   ]
  },
  {
   "cell_type": "code",
   "execution_count": 140,
   "metadata": {},
   "outputs": [],
   "source": [
    "english_stopwords = stopwords.words('english')\n",
    "def prepText(text_series):\n",
    "    # Step 1: Clean and normalize each text in the series\n",
    "    # - Convert to lowercase\n",
    "    # - Lemmatize each word (convert to base form)\n",
    "    # - Remove stopwords\n",
    "    # - Join words back together with spaces\n",
    "    text_series = text_series.apply(\n",
    "        lambda x: \" \".join(lemmatizer.lemmatize(w.lower()) for w in x.split()\n",
    "                           if w not in english_stopwords))\n",
    "    \n",
    "    # Step 2: Filter out short texts\n",
    "    # Remove any text less than 100 characters as they're likely too short for meaningful analysis\n",
    "    text_series = text_series.apply(lambda x: x if len(x) > 100 else None)\n",
    "    \n",
    "    # Step 3: Remove any null values created by the previous step\n",
    "    text_series = text_series.dropna()\n",
    "    \n",
    "    # Step 4: Count diversity-related terms\n",
    "    # Sum up all instances of diversity-related words (defined in diversity_pattern)\n",
    "    # across all remaining texts in the series\n",
    "    total_diversity_words = sum([len(re.findall(diversity_pattern, text))\n",
    "                                for text in text_series])\n",
    "    \n",
    "    # Return both the cleaned text series and the total count of diversity words\n",
    "    return text_series, total_diversity_words"
   ]
  },
  {
   "cell_type": "code",
   "execution_count": 181,
   "metadata": {},
   "outputs": [],
   "source": [
    "START_YEAR = 2010\n",
    "FINAL_YEAR = 2024"
   ]
  },
  {
   "cell_type": "code",
   "execution_count": 142,
   "metadata": {},
   "outputs": [],
   "source": [
    "year_2024 = df[df.year==2024]\n",
    "clean_df, num_diversity_words = prepText(year_2024.body)\n",
    "wv = get_batch_embeddings(clean_df)"
   ]
  },
  {
   "cell_type": "code",
   "execution_count": 143,
   "metadata": {},
   "outputs": [
    {
     "data": {
      "text/plain": [
       "list"
      ]
     },
     "execution_count": 143,
     "metadata": {},
     "output_type": "execute_result"
    }
   ],
   "source": [
    "type(wv[0])"
   ]
  },
  {
   "cell_type": "code",
   "execution_count": 144,
   "metadata": {},
   "outputs": [],
   "source": [
    "docmatrix = np.array(wv)"
   ]
  },
  {
   "cell_type": "code",
   "execution_count": 145,
   "metadata": {},
   "outputs": [
    {
     "data": {
      "text/plain": [
       "(76, 1024)"
      ]
     },
     "execution_count": 145,
     "metadata": {},
     "output_type": "execute_result"
    }
   ],
   "source": [
    "docmatrix.shape"
   ]
  },
  {
   "cell_type": "code",
   "execution_count": 146,
   "metadata": {},
   "outputs": [
    {
     "name": "stdout",
     "output_type": "stream",
     "text": [
      "0     2024\n",
      "1     2024\n",
      "2     2024\n",
      "3     2024\n",
      "4     2024\n",
      "      ... \n",
      "87    2024\n",
      "88    2024\n",
      "89    2024\n",
      "90    2024\n",
      "92    2024\n",
      "Name: year, Length: 92, dtype: int64, 76, 0.0009767988097416414, 0.6102658017524276\n"
     ]
    }
   ],
   "source": [
    "pairwise = getNormalizedPairwiseDispersion(docmatrix, cosine_distance)\n",
    "cov = getCovDispersion(docmatrix)\n",
    "print(f\"{year_2024.year}, {cov[0]}, {cov[1]}, {pairwise}\")"
   ]
  },
  {
   "cell_type": "code",
   "execution_count": 147,
   "metadata": {},
   "outputs": [
    {
     "name": "stderr",
     "output_type": "stream",
     "text": [
      "[nltk_data] Downloading package vader_lexicon to\n",
      "[nltk_data]     /Users/pmui/nltk_data...\n",
      "[nltk_data]   Package vader_lexicon is already up-to-date!\n"
     ]
    }
   ],
   "source": [
    "# VADER Sentiment Analysis\n",
    "import nltk\n",
    "nltk.download('vader_lexicon')\n",
    "from nltk.sentiment.vader import SentimentIntensityAnalyzer\n",
    "\n",
    "# Initialize the sentiment analyzer\n",
    "sia = SentimentIntensityAnalyzer()"
   ]
  },
  {
   "cell_type": "code",
   "execution_count": 148,
   "metadata": {},
   "outputs": [],
   "source": [
    "def chunk_process_embeddings(\n",
    "    clean_df: pd.Series,\n",
    "    num_chunks: int = 6\n",
    ") -> List[List[float]]:\n",
    "    \"\"\"\n",
    "    Process embeddings in chunks and combine results.\n",
    "    \n",
    "    Args:\n",
    "        clean_df: pandas Series of cleaned text strings\n",
    "        num_chunks: number of chunks to process\n",
    "    \n",
    "    Returns:\n",
    "        List[List[float]]: List of embedding vectors, where each vector is a list of floats\n",
    "    \"\"\"\n",
    "    # Calculate chunk size (divide into `num_chunks` equal parts)\n",
    "    chunk_size = len(clean_df) // num_chunks\n",
    "    chunk_size = chunk_size if chunk_size > 0 else 1\n",
    "    \n",
    "    chunks = [\n",
    "        clean_df[i:i + chunk_size] \n",
    "        for i in range(0, len(clean_df), chunk_size)\n",
    "    ]\n",
    "    \n",
    "    # Process each chunk and combine results\n",
    "    all_embeddings = []\n",
    "    for chunk in chunks:\n",
    "        chunk_embeddings = get_batch_embeddings(chunk)\n",
    "        all_embeddings.extend(chunk_embeddings)\n",
    "    \n",
    "    return all_embeddings"
   ]
  },
  {
   "cell_type": "code",
   "execution_count": 149,
   "metadata": {},
   "outputs": [],
   "source": [
    "import concurrent.futures\n",
    "from typing import Tuple\n",
    "\n",
    "def process_text(text) -> Tuple[bool, float, float, float]:\n",
    "    \"\"\"\n",
    "    Process a single text and return counts based on the classification.\n",
    "    \"\"\"\n",
    "    judgement = classify_text_cynicism(text)\n",
    "    \n",
    "    # Access the attributes using dot notation instead of subscripting the MFTAnalysis instance\n",
    "    return (\n",
    "        judgement.is_cynical, \n",
    "        judgement.mft_analysis.authority_subversion,\n",
    "        judgement.mft_analysis.loyalty_betrayal,\n",
    "        judgement.mft_analysis.fairness_cheating\n",
    "    )"
   ]
  },
  {
   "cell_type": "code",
   "execution_count": null,
   "metadata": {},
   "outputs": [
    {
     "name": "stdout",
     "output_type": "stream",
     "text": [
      "year        size        trace       pairwise    vader       lexical     cynicism    authority   loyalty     fairness    \n",
      "----------------------------------------------------------------------------------------------------------------------\n",
      "2010        207         0.001       0.710       0.082       0.055       0.199       0.225       0.191       0.182       \n",
      "2011        137         0.001       0.692       0.045       0.022       0.256       0.289       0.255       0.224       \n",
      "2012        50          0.001       0.734       0.090       0.000       0.261       0.282       0.244       0.258       \n",
      "2013        32          0.001       0.729       0.082       0.000       0.374       0.437       0.362       0.322       \n",
      "2014        62          0.001       0.752       -0.007      -0.004      0.380       0.382       0.371       0.385       \n",
      "2015        68          0.001       0.786       0.038       0.014       0.372       0.401       0.351       0.362       \n",
      "2016        44          0.001       0.726       0.186       0.020       0.304       0.295       0.339       0.277       \n",
      "2017        66          0.001       0.720       -0.058      0.018       0.356       0.365       0.374       0.327       \n",
      "2018        55          0.001       0.714       0.095       0.014       0.388       0.416       0.400       0.349       \n",
      "2019        101         0.001       0.686       -0.034      0.028       0.371       0.367       0.403       0.342       \n",
      "2020        166         0.001       0.668       -0.028      0.049       0.364       0.358       0.381       0.353       \n",
      "2021        116         0.001       0.629       -0.050      0.012       0.323       0.310       0.362       0.296       \n",
      "2022        91          0.001       0.621       0.084       0.015       0.340       0.352       0.337       0.332       \n",
      "2023        84          0.001       0.575       0.105       0.032       0.424       0.436       0.465       0.371       \n",
      "2024        76          0.001       0.610       0.022       0.000       0.424       0.437       0.453       0.383       \n"
     ]
    }
   ],
   "source": [
    "results = []\n",
    "print(f\"{'year':<12}{'size':<12}{'trace':<12}{'pairwise':<12}{'vader':<12}{'lexical':<12}{'cynicism':<12}{'subversion':<12}{'betrayal':<12}{'injustice':<12}\")\n",
    "print(\"-\"*118)\n",
    "LIWC_SCORE_NAME = \"cynicism_lexical\"\n",
    "for year in range(START_YEAR, FINAL_YEAR+1):\n",
    "    year_df = df[df.year==year]\n",
    "    \n",
    "    clean_df, num_diversity_words = prepText(year_df.body)\n",
    "    wv = chunk_process_embeddings(clean_df, num_chunks=12)\n",
    "    \n",
    "    docmatrix = np.array(wv)\n",
    "    pairwise = getNormalizedPairwiseDispersion(docmatrix, cosine_distance)\n",
    "    cov = getCovDispersion(docmatrix)\n",
    "    \n",
    "    # -------------- VADER: Sentiment Analysis ----------------- #\n",
    "    pos_scores = []\n",
    "    neg_scores = []\n",
    "    neu_scores = []\n",
    "    compound_scores = []\n",
    "    \n",
    "    for text in clean_df:\n",
    "        sentiment_scores = sia.polarity_scores(text)\n",
    "        pos_scores.append(sentiment_scores['pos'])\n",
    "        neg_scores.append(sentiment_scores['neg'])\n",
    "        neu_scores.append(sentiment_scores['neu'])\n",
    "        compound_scores.append(sentiment_scores['compound']) \n",
    " \n",
    "    # --------------- LIWC: Lexical Analysis -------------------- #\n",
    "    temp_df = clean_df.copy()\n",
    "    \n",
    "    # Apply LIWC analysis and convert results to separate columns\n",
    "    liwc_scores = temp_df.apply(liwc_analysis)\n",
    "\n",
    "    # Convert the series of dictionaries to a DataFrame\n",
    "    liwc_columns = pd.DataFrame.from_records(liwc_scores.values)\n",
    "    \n",
    "    # Combine with original DataFrame\n",
    "    temp_df = pd.DataFrame(temp_df, columns=['text'])\n",
    "    liwc_df = pd.concat([temp_df, liwc_columns], axis=1)\n",
    "    \n",
    "    # Calculate cynicism score\n",
    "    liwc_df[LIWC_SCORE_NAME] = liwc_df.apply(compute_cynicism_score, axis=1)\n",
    "    sum_liwc_score = liwc_df[LIWC_SCORE_NAME].sum()\n",
    "    \n",
    "    # ---------------- LLM (Llama) Cynical Classification ---------------- #\n",
    "    # Use ThreadPoolExecutor to concurrently process texts\n",
    "    with concurrent.futures.ThreadPoolExecutor(max_workers=12) as executor:\n",
    "        mft_scores = list(executor.map(process_text, clean_df))\n",
    "\n",
    "    mft_subversion_score = sum(auth for is_cynical, auth, _, _ in mft_scores if is_cynical) / len(mft_scores)\n",
    "    mft_betrayal_score   = sum(loyalty for is_cynical, _, loyalty, _ in mft_scores if is_cynical) / len(mft_scores)\n",
    "    mft_injustice_score  = sum(fairness for is_cynical, _, _, fairness in mft_scores if is_cynical) / len(mft_scores)\n",
    "    cynicism_score = (mft_subversion_score + mft_betrayal_score + mft_injustice_score) / 3.0\n",
    "    \n",
    "    result = {'year':     year,\n",
    "              'pairwise': pairwise,\n",
    "              'size':     cov[0],\n",
    "              'trace':    cov[1],\n",
    "              'norm-1':   cov[2],\n",
    "              'norm-2':   cov[3],\n",
    "              'norm-inf': cov[4],\n",
    "              'diversity-words': num_diversity_words,\n",
    "              'mentions-norm'  : num_diversity_words/cov[0],\n",
    "              'pos': sum(pos_scores) / len(pos_scores),\n",
    "              'neg': sum(neg_scores) / len(neg_scores),\n",
    "              'neu': sum(neu_scores) / len(neu_scores),\n",
    "              'vader': sum(compound_scores) / len(compound_scores),\n",
    "              'lexical': sum_liwc_score,\n",
    "              'cynicism': cynicism_score,\n",
    "              'mft_subversion': mft_subversion_score,\n",
    "              'mft_betrayal': mft_betrayal_score,\n",
    "              'mft_injustice': mft_injustice_score,\n",
    "    }\n",
    "    results.append(result)\n",
    "    \n",
    "    print(f\"{year:<12}{cov[0]:<12}{cov[1]:<12.3f}{pairwise:<12.3f}{result['vader']:<12.3f}{result['lexical']:<12.3f}{result['cynicism']:<12.3f}{result['mft_subversion']:<12.3f}{result['mft_betrayal']:<12.3f}{result['mft_injustice']:<12.3f}\")"
   ]
  },
  {
   "cell_type": "code",
   "execution_count": 183,
   "metadata": {},
   "outputs": [
    {
     "data": {
      "text/html": [
       "<div>\n",
       "<style scoped>\n",
       "    .dataframe tbody tr th:only-of-type {\n",
       "        vertical-align: middle;\n",
       "    }\n",
       "\n",
       "    .dataframe tbody tr th {\n",
       "        vertical-align: top;\n",
       "    }\n",
       "\n",
       "    .dataframe thead th {\n",
       "        text-align: right;\n",
       "    }\n",
       "</style>\n",
       "<table border=\"1\" class=\"dataframe\">\n",
       "  <thead>\n",
       "    <tr style=\"text-align: right;\">\n",
       "      <th></th>\n",
       "      <th>pairwise</th>\n",
       "      <th>size</th>\n",
       "      <th>trace</th>\n",
       "      <th>norm-1</th>\n",
       "      <th>norm-2</th>\n",
       "      <th>norm-inf</th>\n",
       "      <th>diversity-words</th>\n",
       "      <th>mentions-norm</th>\n",
       "      <th>pos</th>\n",
       "      <th>neg</th>\n",
       "      <th>neu</th>\n",
       "      <th>vader</th>\n",
       "      <th>lexical</th>\n",
       "      <th>cynicism</th>\n",
       "      <th>mft_authority</th>\n",
       "      <th>mft_loyalty</th>\n",
       "      <th>mft_fairness</th>\n",
       "    </tr>\n",
       "    <tr>\n",
       "      <th>year</th>\n",
       "      <th></th>\n",
       "      <th></th>\n",
       "      <th></th>\n",
       "      <th></th>\n",
       "      <th></th>\n",
       "      <th></th>\n",
       "      <th></th>\n",
       "      <th></th>\n",
       "      <th></th>\n",
       "      <th></th>\n",
       "      <th></th>\n",
       "      <th></th>\n",
       "      <th></th>\n",
       "      <th></th>\n",
       "      <th></th>\n",
       "      <th></th>\n",
       "      <th></th>\n",
       "    </tr>\n",
       "  </thead>\n",
       "  <tbody>\n",
       "    <tr>\n",
       "      <th>2010</th>\n",
       "      <td>0.710085</td>\n",
       "      <td>207</td>\n",
       "      <td>0.000977</td>\n",
       "      <td>0.000372</td>\n",
       "      <td>0.000291</td>\n",
       "      <td>0.000372</td>\n",
       "      <td>2</td>\n",
       "      <td>0.009662</td>\n",
       "      <td>0.131024</td>\n",
       "      <td>0.094560</td>\n",
       "      <td>0.774415</td>\n",
       "      <td>0.082343</td>\n",
       "      <td>0.0546</td>\n",
       "      <td>0.199356</td>\n",
       "      <td>0.224638</td>\n",
       "      <td>0.191304</td>\n",
       "      <td>0.182126</td>\n",
       "    </tr>\n",
       "    <tr>\n",
       "      <th>2011</th>\n",
       "      <td>0.691705</td>\n",
       "      <td>137</td>\n",
       "      <td>0.000976</td>\n",
       "      <td>0.000412</td>\n",
       "      <td>0.000310</td>\n",
       "      <td>0.000412</td>\n",
       "      <td>4</td>\n",
       "      <td>0.029197</td>\n",
       "      <td>0.097781</td>\n",
       "      <td>0.089241</td>\n",
       "      <td>0.812978</td>\n",
       "      <td>0.044798</td>\n",
       "      <td>0.0220</td>\n",
       "      <td>0.255961</td>\n",
       "      <td>0.289051</td>\n",
       "      <td>0.254745</td>\n",
       "      <td>0.224088</td>\n",
       "    </tr>\n",
       "    <tr>\n",
       "      <th>2012</th>\n",
       "      <td>0.734356</td>\n",
       "      <td>50</td>\n",
       "      <td>0.000977</td>\n",
       "      <td>0.000372</td>\n",
       "      <td>0.000283</td>\n",
       "      <td>0.000372</td>\n",
       "      <td>0</td>\n",
       "      <td>0.000000</td>\n",
       "      <td>0.137900</td>\n",
       "      <td>0.093360</td>\n",
       "      <td>0.768700</td>\n",
       "      <td>0.089724</td>\n",
       "      <td>0.0000</td>\n",
       "      <td>0.261333</td>\n",
       "      <td>0.282000</td>\n",
       "      <td>0.244000</td>\n",
       "      <td>0.258000</td>\n",
       "    </tr>\n",
       "    <tr>\n",
       "      <th>2013</th>\n",
       "      <td>0.729074</td>\n",
       "      <td>32</td>\n",
       "      <td>0.000977</td>\n",
       "      <td>0.000354</td>\n",
       "      <td>0.000297</td>\n",
       "      <td>0.000354</td>\n",
       "      <td>2</td>\n",
       "      <td>0.062500</td>\n",
       "      <td>0.131594</td>\n",
       "      <td>0.090438</td>\n",
       "      <td>0.778000</td>\n",
       "      <td>0.082491</td>\n",
       "      <td>0.0000</td>\n",
       "      <td>0.373958</td>\n",
       "      <td>0.437500</td>\n",
       "      <td>0.362500</td>\n",
       "      <td>0.321875</td>\n",
       "    </tr>\n",
       "    <tr>\n",
       "      <th>2014</th>\n",
       "      <td>0.751528</td>\n",
       "      <td>62</td>\n",
       "      <td>0.000976</td>\n",
       "      <td>0.000332</td>\n",
       "      <td>0.000261</td>\n",
       "      <td>0.000332</td>\n",
       "      <td>4</td>\n",
       "      <td>0.064516</td>\n",
       "      <td>0.133532</td>\n",
       "      <td>0.129129</td>\n",
       "      <td>0.737323</td>\n",
       "      <td>-0.007123</td>\n",
       "      <td>-0.0036</td>\n",
       "      <td>0.379570</td>\n",
       "      <td>0.382258</td>\n",
       "      <td>0.370968</td>\n",
       "      <td>0.385484</td>\n",
       "    </tr>\n",
       "    <tr>\n",
       "      <th>2015</th>\n",
       "      <td>0.785501</td>\n",
       "      <td>68</td>\n",
       "      <td>0.000977</td>\n",
       "      <td>0.000289</td>\n",
       "      <td>0.000226</td>\n",
       "      <td>0.000289</td>\n",
       "      <td>0</td>\n",
       "      <td>0.000000</td>\n",
       "      <td>0.156618</td>\n",
       "      <td>0.142147</td>\n",
       "      <td>0.701250</td>\n",
       "      <td>0.038124</td>\n",
       "      <td>0.0143</td>\n",
       "      <td>0.371569</td>\n",
       "      <td>0.401471</td>\n",
       "      <td>0.351471</td>\n",
       "      <td>0.361765</td>\n",
       "    </tr>\n",
       "    <tr>\n",
       "      <th>2016</th>\n",
       "      <td>0.725673</td>\n",
       "      <td>44</td>\n",
       "      <td>0.000977</td>\n",
       "      <td>0.000388</td>\n",
       "      <td>0.000297</td>\n",
       "      <td>0.000388</td>\n",
       "      <td>4</td>\n",
       "      <td>0.090909</td>\n",
       "      <td>0.132409</td>\n",
       "      <td>0.037250</td>\n",
       "      <td>0.830341</td>\n",
       "      <td>0.185777</td>\n",
       "      <td>0.0204</td>\n",
       "      <td>0.303788</td>\n",
       "      <td>0.295455</td>\n",
       "      <td>0.338636</td>\n",
       "      <td>0.277273</td>\n",
       "    </tr>\n",
       "    <tr>\n",
       "      <th>2017</th>\n",
       "      <td>0.720481</td>\n",
       "      <td>66</td>\n",
       "      <td>0.000977</td>\n",
       "      <td>0.000388</td>\n",
       "      <td>0.000300</td>\n",
       "      <td>0.000388</td>\n",
       "      <td>4</td>\n",
       "      <td>0.060606</td>\n",
       "      <td>0.086470</td>\n",
       "      <td>0.109712</td>\n",
       "      <td>0.803788</td>\n",
       "      <td>-0.057995</td>\n",
       "      <td>0.0179</td>\n",
       "      <td>0.355556</td>\n",
       "      <td>0.365152</td>\n",
       "      <td>0.374242</td>\n",
       "      <td>0.327273</td>\n",
       "    </tr>\n",
       "    <tr>\n",
       "      <th>2018</th>\n",
       "      <td>0.713735</td>\n",
       "      <td>55</td>\n",
       "      <td>0.000977</td>\n",
       "      <td>0.000394</td>\n",
       "      <td>0.000305</td>\n",
       "      <td>0.000394</td>\n",
       "      <td>0</td>\n",
       "      <td>0.000000</td>\n",
       "      <td>0.117164</td>\n",
       "      <td>0.076855</td>\n",
       "      <td>0.805982</td>\n",
       "      <td>0.095315</td>\n",
       "      <td>0.0143</td>\n",
       "      <td>0.388485</td>\n",
       "      <td>0.416364</td>\n",
       "      <td>0.400000</td>\n",
       "      <td>0.349091</td>\n",
       "    </tr>\n",
       "    <tr>\n",
       "      <th>2019</th>\n",
       "      <td>0.685637</td>\n",
       "      <td>101</td>\n",
       "      <td>0.000977</td>\n",
       "      <td>0.000393</td>\n",
       "      <td>0.000321</td>\n",
       "      <td>0.000393</td>\n",
       "      <td>2</td>\n",
       "      <td>0.019802</td>\n",
       "      <td>0.079416</td>\n",
       "      <td>0.088901</td>\n",
       "      <td>0.831693</td>\n",
       "      <td>-0.033693</td>\n",
       "      <td>0.0285</td>\n",
       "      <td>0.370627</td>\n",
       "      <td>0.367327</td>\n",
       "      <td>0.402970</td>\n",
       "      <td>0.341584</td>\n",
       "    </tr>\n",
       "    <tr>\n",
       "      <th>2020</th>\n",
       "      <td>0.667580</td>\n",
       "      <td>166</td>\n",
       "      <td>0.000977</td>\n",
       "      <td>0.000424</td>\n",
       "      <td>0.000336</td>\n",
       "      <td>0.000424</td>\n",
       "      <td>6</td>\n",
       "      <td>0.036145</td>\n",
       "      <td>0.082380</td>\n",
       "      <td>0.095072</td>\n",
       "      <td>0.822530</td>\n",
       "      <td>-0.028292</td>\n",
       "      <td>0.0488</td>\n",
       "      <td>0.364056</td>\n",
       "      <td>0.357831</td>\n",
       "      <td>0.381325</td>\n",
       "      <td>0.353012</td>\n",
       "    </tr>\n",
       "    <tr>\n",
       "      <th>2021</th>\n",
       "      <td>0.629128</td>\n",
       "      <td>116</td>\n",
       "      <td>0.000977</td>\n",
       "      <td>0.000447</td>\n",
       "      <td>0.000372</td>\n",
       "      <td>0.000447</td>\n",
       "      <td>16</td>\n",
       "      <td>0.137931</td>\n",
       "      <td>0.071974</td>\n",
       "      <td>0.092414</td>\n",
       "      <td>0.835586</td>\n",
       "      <td>-0.050397</td>\n",
       "      <td>0.0124</td>\n",
       "      <td>0.322701</td>\n",
       "      <td>0.310345</td>\n",
       "      <td>0.362069</td>\n",
       "      <td>0.295690</td>\n",
       "    </tr>\n",
       "    <tr>\n",
       "      <th>2022</th>\n",
       "      <td>0.620764</td>\n",
       "      <td>91</td>\n",
       "      <td>0.000977</td>\n",
       "      <td>0.000469</td>\n",
       "      <td>0.000384</td>\n",
       "      <td>0.000469</td>\n",
       "      <td>4</td>\n",
       "      <td>0.043956</td>\n",
       "      <td>0.116758</td>\n",
       "      <td>0.091462</td>\n",
       "      <td>0.791791</td>\n",
       "      <td>0.084443</td>\n",
       "      <td>0.0150</td>\n",
       "      <td>0.340293</td>\n",
       "      <td>0.351648</td>\n",
       "      <td>0.337363</td>\n",
       "      <td>0.331868</td>\n",
       "    </tr>\n",
       "    <tr>\n",
       "      <th>2023</th>\n",
       "      <td>0.574514</td>\n",
       "      <td>84</td>\n",
       "      <td>0.000977</td>\n",
       "      <td>0.000524</td>\n",
       "      <td>0.000429</td>\n",
       "      <td>0.000524</td>\n",
       "      <td>2</td>\n",
       "      <td>0.023810</td>\n",
       "      <td>0.124857</td>\n",
       "      <td>0.084845</td>\n",
       "      <td>0.790298</td>\n",
       "      <td>0.104901</td>\n",
       "      <td>0.0318</td>\n",
       "      <td>0.424206</td>\n",
       "      <td>0.435714</td>\n",
       "      <td>0.465476</td>\n",
       "      <td>0.371429</td>\n",
       "    </tr>\n",
       "    <tr>\n",
       "      <th>2024</th>\n",
       "      <td>0.610130</td>\n",
       "      <td>76</td>\n",
       "      <td>0.000977</td>\n",
       "      <td>0.000459</td>\n",
       "      <td>0.000395</td>\n",
       "      <td>0.000459</td>\n",
       "      <td>2</td>\n",
       "      <td>0.026316</td>\n",
       "      <td>0.115276</td>\n",
       "      <td>0.109368</td>\n",
       "      <td>0.775342</td>\n",
       "      <td>0.021628</td>\n",
       "      <td>0.0000</td>\n",
       "      <td>0.424123</td>\n",
       "      <td>0.436842</td>\n",
       "      <td>0.452632</td>\n",
       "      <td>0.382895</td>\n",
       "    </tr>\n",
       "  </tbody>\n",
       "</table>\n",
       "</div>"
      ],
      "text/plain": [
       "      pairwise  size     trace    norm-1    norm-2  norm-inf  diversity-words  \\\n",
       "year                                                                            \n",
       "2010  0.710085   207  0.000977  0.000372  0.000291  0.000372                2   \n",
       "2011  0.691705   137  0.000976  0.000412  0.000310  0.000412                4   \n",
       "2012  0.734356    50  0.000977  0.000372  0.000283  0.000372                0   \n",
       "2013  0.729074    32  0.000977  0.000354  0.000297  0.000354                2   \n",
       "2014  0.751528    62  0.000976  0.000332  0.000261  0.000332                4   \n",
       "2015  0.785501    68  0.000977  0.000289  0.000226  0.000289                0   \n",
       "2016  0.725673    44  0.000977  0.000388  0.000297  0.000388                4   \n",
       "2017  0.720481    66  0.000977  0.000388  0.000300  0.000388                4   \n",
       "2018  0.713735    55  0.000977  0.000394  0.000305  0.000394                0   \n",
       "2019  0.685637   101  0.000977  0.000393  0.000321  0.000393                2   \n",
       "2020  0.667580   166  0.000977  0.000424  0.000336  0.000424                6   \n",
       "2021  0.629128   116  0.000977  0.000447  0.000372  0.000447               16   \n",
       "2022  0.620764    91  0.000977  0.000469  0.000384  0.000469                4   \n",
       "2023  0.574514    84  0.000977  0.000524  0.000429  0.000524                2   \n",
       "2024  0.610130    76  0.000977  0.000459  0.000395  0.000459                2   \n",
       "\n",
       "      mentions-norm       pos       neg       neu     vader  lexical  \\\n",
       "year                                                                   \n",
       "2010       0.009662  0.131024  0.094560  0.774415  0.082343   0.0546   \n",
       "2011       0.029197  0.097781  0.089241  0.812978  0.044798   0.0220   \n",
       "2012       0.000000  0.137900  0.093360  0.768700  0.089724   0.0000   \n",
       "2013       0.062500  0.131594  0.090438  0.778000  0.082491   0.0000   \n",
       "2014       0.064516  0.133532  0.129129  0.737323 -0.007123  -0.0036   \n",
       "2015       0.000000  0.156618  0.142147  0.701250  0.038124   0.0143   \n",
       "2016       0.090909  0.132409  0.037250  0.830341  0.185777   0.0204   \n",
       "2017       0.060606  0.086470  0.109712  0.803788 -0.057995   0.0179   \n",
       "2018       0.000000  0.117164  0.076855  0.805982  0.095315   0.0143   \n",
       "2019       0.019802  0.079416  0.088901  0.831693 -0.033693   0.0285   \n",
       "2020       0.036145  0.082380  0.095072  0.822530 -0.028292   0.0488   \n",
       "2021       0.137931  0.071974  0.092414  0.835586 -0.050397   0.0124   \n",
       "2022       0.043956  0.116758  0.091462  0.791791  0.084443   0.0150   \n",
       "2023       0.023810  0.124857  0.084845  0.790298  0.104901   0.0318   \n",
       "2024       0.026316  0.115276  0.109368  0.775342  0.021628   0.0000   \n",
       "\n",
       "      cynicism  mft_authority  mft_loyalty  mft_fairness  \n",
       "year                                                      \n",
       "2010  0.199356       0.224638     0.191304      0.182126  \n",
       "2011  0.255961       0.289051     0.254745      0.224088  \n",
       "2012  0.261333       0.282000     0.244000      0.258000  \n",
       "2013  0.373958       0.437500     0.362500      0.321875  \n",
       "2014  0.379570       0.382258     0.370968      0.385484  \n",
       "2015  0.371569       0.401471     0.351471      0.361765  \n",
       "2016  0.303788       0.295455     0.338636      0.277273  \n",
       "2017  0.355556       0.365152     0.374242      0.327273  \n",
       "2018  0.388485       0.416364     0.400000      0.349091  \n",
       "2019  0.370627       0.367327     0.402970      0.341584  \n",
       "2020  0.364056       0.357831     0.381325      0.353012  \n",
       "2021  0.322701       0.310345     0.362069      0.295690  \n",
       "2022  0.340293       0.351648     0.337363      0.331868  \n",
       "2023  0.424206       0.435714     0.465476      0.371429  \n",
       "2024  0.424123       0.436842     0.452632      0.382895  "
      ]
     },
     "execution_count": 183,
     "metadata": {},
     "output_type": "execute_result"
    }
   ],
   "source": [
    "results_df = pd.DataFrame.from_records(results)\n",
    "results_df.set_index('year')"
   ]
  },
  {
   "cell_type": "markdown",
   "metadata": {},
   "source": [
    "### MFT Analysis with LLM\n"
   ]
  },
  {
   "cell_type": "code",
   "execution_count": 188,
   "metadata": {},
   "outputs": [],
   "source": [
    "import matplotlib.pyplot as plt\n",
    "from scipy.stats import linregress, t\n",
    "\n",
    "def calculate_regression_stats(x, y):\n",
    "    \"\"\"\n",
    "    Calculate comprehensive regression statistics including confidence intervals.\n",
    "    \n",
    "    Args:\n",
    "        x (array-like): Independent variable values\n",
    "        y (array-like): Dependent variable values\n",
    "        \n",
    "    Returns:\n",
    "        dict: Dictionary containing regression statistics:\n",
    "            - slope: Regression slope\n",
    "            - intercept: Regression intercept \n",
    "            - ci_lower: Lower bound of 95% CI\n",
    "            - ci_upper: Upper bound of 95% CI\n",
    "            - r_value: R-value (correlation coefficient)\n",
    "            - p_value: P-value for significance\n",
    "            - std_err: Standard error of the slope\n",
    "    \"\"\"\n",
    "    # Calculate basic regression statistics\n",
    "    slope, intercept, r_value, p_value, std_err = linregress(x, y)\n",
    "    \n",
    "    # Calculate 95% confidence interval\n",
    "    confidence_level = 0.95\n",
    "    degrees_of_freedom = len(x) - 2\n",
    "    t_value = t.ppf((1 + confidence_level) / 2, degrees_of_freedom)\n",
    "    margin_of_error = t_value * std_err\n",
    "    ci_lower = slope - margin_of_error\n",
    "    ci_upper = slope + margin_of_error\n",
    "    \n",
    "    return {\n",
    "        'slope': slope,\n",
    "        'intercept': intercept,\n",
    "        'ci_lower': ci_lower,\n",
    "        'ci_upper': ci_upper,\n",
    "        'r_value': r_value,\n",
    "        'p_value': p_value,\n",
    "        'std_err': std_err\n",
    "    }\n",
    "\n",
    "def print_regression_stats(x, y, title):\n",
    "    stats = calculate_regression_stats(x, y)\n",
    "    print(f\"\\n{title}:\")\n",
    "    print(f\"Slope: {stats['slope']:.5f}\")\n",
    "    print(f\"95% CI: ({stats['ci_lower']:.5f}, {stats['ci_upper']:.5f})\")\n",
    "    print(f\"R-value: {stats['r_value']:.5f}\")\n",
    "    print(f\"P-value: {stats['p_value']:.5f}\")\n",
    "    print(f\"Standard Error: {stats['std_err']:.5f}\")"
   ]
  },
  {
   "cell_type": "code",
   "execution_count": null,
   "metadata": {},
   "outputs": [
    {
     "name": "stdout",
     "output_type": "stream",
     "text": [
      "\n",
      "Cynicism regression statistics::\n",
      "Slope: 0.01003\n",
      "95% CI: (0.00400, 0.01606)\n",
      "R-value: 0.70589\n",
      "P-value: 0.00327\n",
      "Standard Error: 0.00279\n",
      "\n",
      "Subversion regression statistics::\n",
      "Slope: 0.00780\n",
      "95% CI: (0.00046, 0.01515)\n",
      "R-value: 0.53689\n",
      "P-value: 0.03905\n",
      "Standard Error: 0.00340\n",
      "\n",
      "Betrayal regression statistics::\n",
      "Slope: 0.01341\n",
      "95% CI: (0.00754, 0.01927)\n",
      "R-value: 0.80766\n",
      "P-value: 0.00027\n",
      "Standard Error: 0.00271\n",
      "\n",
      "Injustice regression statistics::\n",
      "Slope: 0.00889\n",
      "95% CI: (0.00295, 0.01482)\n",
      "R-value: 0.66756\n",
      "P-value: 0.00654\n",
      "Standard Error: 0.00275\n"
     ]
    },
    {
     "data": {
      "image/png": "[encoded data removed]",
      "text/plain": [
       "<Figure size 1000x600 with 1 Axes>"
      ]
     },
     "metadata": {},
     "output_type": "display_data"
    }
   ],
   "source": [
    "# Define x-axis values as integers\n",
    "x = results_df['year'].astype(int)\n",
    "\n",
    "# Rest of regression calculations remain the same\n",
    "y_cynicism = results_df['cynicism']\n",
    "slope_c, intercept_c, r_value, p_value, std_err = linregress(x, y_cynicism)\n",
    "print_regression_stats(x, y_cynicism, \"Cynicism regression statistics:\")\n",
    "\n",
    "# Compute regressions for MFT components\n",
    "y_subversion = results_df['mft_subversion']\n",
    "slope_auth, intercept_auth, _, _, _ = linregress(x, y_subversion)\n",
    "print_regression_stats(x, y_subversion, \"Subversion regression statistics:\")\n",
    "\n",
    "y_betrayal = results_df['mft_betrayal']\n",
    "slope_betrayal, intercept_betrayal, _, _, _ = linregress(x, y_betrayal)\n",
    "print_regression_stats(x, y_betrayal, \"Betrayal regression statistics:\")\n",
    "\n",
    "y_injustice = results_df['mft_injustice']\n",
    "slope_fair, intercept_fair, _, _, _ = linregress(x, y_injustice)\n",
    "print_regression_stats(x, y_injustice, \"Injustice regression statistics:\")\n",
    "# Create plot\n",
    "plt.figure(figsize=(10, 6))\n",
    "\n",
    "# Scatter plots\n",
    "plt.scatter(x, y_cynicism, color='blue', label='Cynicism Data')\n",
    "plt.scatter(x, y_subversion, color='green', s=50, alpha=0.6, label='Subversion')\n",
    "plt.scatter(x, y_betrayal, color='orange', s=50, alpha=0.6, label='Betrayal')\n",
    "plt.scatter(x, y_injustice, color='purple', s=50, alpha=0.6, label='Injustice')\n",
    "\n",
    "# Trend lines\n",
    "plt.plot(x, intercept_c + slope_c * x, color='blue', linestyle='-', linewidth=2.5, label='Cynicism Trend')\n",
    "plt.plot(x, intercept_auth + slope_auth * x, color='green', linestyle=':', linewidth=1.5, label='Subversion Trend')\n",
    "plt.plot(x, intercept_betrayal + slope_betrayal * x, color='orange', linestyle=':', linewidth=1.5, label='Betrayal Trend')\n",
    "plt.plot(x, intercept_fair + slope_fair * x, color='purple', linestyle=':', linewidth=1.5, label='Injustice Trend')\n",
    "\n",
    "# Set integer ticks for x-axis\n",
    "plt.xticks(x)\n",
    "\n",
    "# Calculate y-axis limits\n",
    "all_y_values = np.concatenate([y_cynicism, y_subversion, y_betrayal, y_injustice])\n",
    "y_min = np.min(all_y_values)\n",
    "y_max = np.max(all_y_values)\n",
    "\n",
    "plt.title(\"Stanford Opinions: Cynicism & MFT Trends\")\n",
    "plt.xlabel(\"Year\")\n",
    "plt.ylabel(\"Score\")\n",
    "plt.legend(loc='upper left')\n",
    "plt.ylim(y_min * 0.95, y_max * 1.1)\n",
    "plt.show()"
   ]
  },
  {
   "cell_type": "markdown",
   "metadata": {},
   "source": [
    "### Regression Goodness of Fit: Explicit Diversity Words\n"
   ]
  },
  {
   "cell_type": "code",
   "execution_count": 156,
   "metadata": {},
   "outputs": [
    {
     "data": {
      "image/png": "[encoded data removed]",
      "text/plain": [
       "<Figure size 640x480 with 1 Axes>"
      ]
     },
     "metadata": {},
     "output_type": "display_data"
    }
   ],
   "source": [
    "import matplotlib.pyplot as plt\n",
    "from scipy.stats import linregress\n",
    "\n",
    "x = results_df['year']\n",
    "y = results_df['mentions-norm']\n",
    "\n",
    "slope, intercept, r_value, p_value, std_err = linregress(x, y)\n",
    "\n",
    "results_df.plot(x=\"year\", y=\"mentions-norm\", kind=\"scatter\")\n",
    "\n",
    "plt.plot(x, intercept + slope*x, 'b:', label='fitted regression')\n",
    "\n",
    "plt.title(\"Stanford Opinions: Explicit Diversity mentions-norm per Year\")\n",
    "plt.legend(loc='lower right')\n",
    "plt.ylim(min(y)*0.95, max(y)*1.05)\n",
    "plt.show()"
   ]
  },
  {
   "cell_type": "markdown",
   "metadata": {},
   "source": [
    "### Regression Goodness of Fit: Pairwise Dispersion\n"
   ]
  },
  {
   "cell_type": "code",
   "execution_count": 157,
   "metadata": {},
   "outputs": [
    {
     "data": {
      "image/png": "[encoded data removed]",
      "text/plain": [
       "<Figure size 640x480 with 1 Axes>"
      ]
     },
     "metadata": {},
     "output_type": "display_data"
    }
   ],
   "source": [
    "import matplotlib.pyplot as plt\n",
    "from scipy.stats import linregress\n",
    "\n",
    "x = results_df['year']\n",
    "y = results_df['pairwise']\n",
    "\n",
    "slope, intercept, r_value, p_value, std_err = linregress(x, y)\n",
    "\n",
    "results_df.plot(x=\"year\", y=\"pairwise\", kind=\"scatter\")\n",
    "\n",
    "plt.plot(x, intercept + slope*x, 'b:', label='fitted regression')\n",
    "\n",
    "plt.title(\"Stanford Opinions by year: Pairwise Dispersion\")\n",
    "plt.legend(loc='upper right')\n",
    "plt.ylim(min(y)*0.95, max(y)*1.05)\n",
    "plt.show()"
   ]
  },
  {
   "cell_type": "markdown",
   "metadata": {},
   "source": [
    "### Regress Goodness of Fit: VADER Sentiment Analysis\n"
   ]
  },
  {
   "cell_type": "code",
   "execution_count": 158,
   "metadata": {},
   "outputs": [
    {
     "data": {
      "image/png": "[encoded data removed]",
      "text/plain": [
       "<Figure size 640x480 with 1 Axes>"
      ]
     },
     "metadata": {},
     "output_type": "display_data"
    }
   ],
   "source": [
    "x = results_df['year']\n",
    "y = results_df['vader']\n",
    "\n",
    "slope, intercept, r_value, p_value, std_err = linregress(x, y)\n",
    "\n",
    "results_df.plot(x=\"year\", y=\"vader\", kind=\"scatter\")\n",
    "\n",
    "plt.plot(x, intercept + slope*x, 'b:', label='fitted regression')\n",
    "\n",
    "plt.title(\"Stanford Opinions by year: VADER Sentiment Analysis\")\n",
    "plt.legend(loc='upper right')\n",
    "plt.ylim(min(y)*0.95, max(y)*1.05)\n",
    "plt.show()"
   ]
  },
  {
   "cell_type": "markdown",
   "metadata": {},
   "source": [
    "### Regress Goodness of Fit: LIWC Lexical Analysis\n"
   ]
  },
  {
   "cell_type": "code",
   "execution_count": 159,
   "metadata": {},
   "outputs": [
    {
     "data": {
      "image/png": "[encoded data removed]",
      "text/plain": [
       "<Figure size 640x480 with 1 Axes>"
      ]
     },
     "metadata": {},
     "output_type": "display_data"
    }
   ],
   "source": [
    "x = results_df['year']\n",
    "y = results_df['lexical']\n",
    "\n",
    "slope, intercept, r_value, p_value, std_err = linregress(x, y)\n",
    "\n",
    "results_df.plot(x=\"year\", y=\"lexical\", kind=\"scatter\")\n",
    "\n",
    "plt.plot(x, intercept + slope*x, 'b:', label='fitted regression')\n",
    "\n",
    "plt.title(\"Stanford Opinions by year: LIWC Lexical Analysis\")\n",
    "plt.legend(loc='upper right')\n",
    "plt.ylim(min(y)*0.95, max(y)*1.05)\n",
    "plt.show()"
   ]
  },
  {
   "cell_type": "markdown",
   "metadata": {},
   "source": [
    "## Combined Diversity and Sentiment Analyses\n"
   ]
  },
  {
   "cell_type": "code",
   "execution_count": 160,
   "metadata": {},
   "outputs": [
    {
     "name": "stdout",
     "output_type": "stream",
     "text": [
      "\n",
      "mentions-norm metrics:\n",
      "  slope: 0.00168\n",
      "  95% CI: (-0.00334, 0.00670)\n",
      "  std error: 0.00232\n",
      "  p-value: 0.48342\n",
      "  r-value: 0.19620\n",
      "\n",
      "pairwise metrics:\n",
      "  slope: -0.01011\n",
      "  95% CI: (-0.01513, -0.00510)\n",
      "  std error: 0.00232\n",
      "  p-value: 0.00078\n",
      "  r-value: -0.77030\n",
      "\n",
      "vader metrics:\n",
      "  slope: -0.00329\n",
      "  95% CI: (-0.01233, 0.00576)\n",
      "  std error: 0.00419\n",
      "  p-value: 0.44672\n",
      "  r-value: -0.21265\n",
      "\n",
      "lexical metrics:\n",
      "  slope: -0.00007\n",
      "  95% CI: (-0.00237, 0.00223)\n",
      "  std error: 0.00106\n",
      "  p-value: 0.94928\n",
      "  r-value: -0.01798\n"
     ]
    },
    {
     "data": {
      "image/png": "[encoded data removed]",
      "text/plain": [
       "<Figure size 1600x400 with 4 Axes>"
      ]
     },
     "metadata": {},
     "output_type": "display_data"
    }
   ],
   "source": [
    "from scipy.stats import t\n",
    "\n",
    "# Select the columns to plot\n",
    "columns = [\"mentions-norm\", \"pairwise\", \"vader\", \"lexical\"]\n",
    "\n",
    "# Create a figure with subplots\n",
    "fig, axs = plt.subplots(nrows=1, ncols=len(columns), sharex=True, figsize=(16,4))\n",
    "\n",
    "# Loop through the columns and plot each one\n",
    "for ax, column in zip(axs, columns):\n",
    "    # Select the data for the current column\n",
    "    x = range(len(results_df.index))\n",
    "    y = results_df[column]\n",
    "     \n",
    "    # Calculate the linear regression\n",
    "    slope, intercept, r_value, p_value, std_err = linregress(x, y)\n",
    "    \n",
    "    # Calculate 95% confidence interval\n",
    "    confidence_level = 0.95\n",
    "    degrees_of_freedom = len(x) - 2\n",
    "    t_value = t.ppf((1 + confidence_level) / 2, degrees_of_freedom)\n",
    "    margin_of_error = t_value * std_err\n",
    "    ci_lower = slope - margin_of_error\n",
    "    ci_upper = slope + margin_of_error\n",
    "    \n",
    "    # Print comprehensive statistics\n",
    "    print(f\"\\n{column} metrics:\")\n",
    "    print(f\"  slope: {slope:.5f}\")\n",
    "    print(f\"  95% CI: ({ci_lower:.5f}, {ci_upper:.5f})\")\n",
    "    print(f\"  std error: {std_err:.5f}\")\n",
    "    print(f\"  p-value: {p_value:.5f}\")\n",
    "    print(f\"  r-value: {r_value:.5f}\")\n",
    "\n",
    "    # Plot the data and the linear regression line\n",
    "    results_df[column].plot(ax=ax, style=\".\", x=x, y=y, label=column)\n",
    "    ax.plot(x, intercept + slope*x, 'b:', label='regression')\n",
    "    ax.set_ylim(min(y)*0.9, max(y)*1.1)\n",
    "    # ax.set_ylim(0.0, 1.0)\n",
    "    \n",
    "    # Add a legend\n",
    "    ax.legend(loc='lower center')\n",
    "\n",
    "    # Add x-label for the years\n",
    "    ax.set_xticks(results_df.index)\n",
    "    ax.set_xticklabels(results_df.year)\n",
    "    ax.tick_params(axis='x', rotation=45)\n",
    "    \n",
    "plt.xlabel(\"Year\")\n",
    "plt.suptitle(\"Trending of Stanford Opinions: Diversity, Sentiment, and Lexical Analyses\")\n",
    "plt.tight_layout()\n",
    "plt.show()"
   ]
  },
  {
   "cell_type": "code",
   "execution_count": 161,
   "metadata": {},
   "outputs": [
    {
     "name": "stdout",
     "output_type": "stream",
     "text": [
      "Slope: -0.01011\n",
      "95% Confidence Interval: (-0.01513, -0.00510)\n",
      "Standard Error: 0.00232\n",
      "P-value: 0.00078\n"
     ]
    }
   ],
   "source": [
    "from scipy.stats import t, linregress\n",
    "\n",
    "x = results_df['year']\n",
    "y = results_df['pairwise']\n",
    "\n",
    "slope, intercept, r_value, p_value, std_err = linregress(x, y)\n",
    "\n",
    "confidence_level = 0.95\n",
    "degrees_of_freedom = len(x) - 2\n",
    "t_value = t.ppf((1 + confidence_level) / 2, degrees_of_freedom)\n",
    "\n",
    "margin_of_error = t_value * std_err\n",
    "\n",
    "ci_lower = slope - margin_of_error\n",
    "ci_upper = slope + margin_of_error\n",
    "\n",
    "print(f\"Slope: {slope:.5f}\")\n",
    "print(f\"95% Confidence Interval: ({ci_lower:.5f}, {ci_upper:.5f})\")\n",
    "print(f\"Standard Error: {std_err:.5f}\")\n",
    "print(f\"P-value: {p_value:.5f}\")"
   ]
  },
  {
   "cell_type": "markdown",
   "metadata": {},
   "source": [
    "## 5. VADER Sentiment Analysis\n",
    "\n",
    "First, you need to install the VADER sentiment analysis tool. If you're using Python, you can install it with the nltk (Natural Language Toolkit) library.\n"
   ]
  },
  {
   "cell_type": "code",
   "execution_count": 162,
   "metadata": {},
   "outputs": [
    {
     "name": "stderr",
     "output_type": "stream",
     "text": [
      "[nltk_data] Downloading package vader_lexicon to\n",
      "[nltk_data]     /Users/pmui/nltk_data...\n",
      "[nltk_data]   Package vader_lexicon is already up-to-date!\n"
     ]
    }
   ],
   "source": [
    "import nltk\n",
    "nltk.download('vader_lexicon')\n",
    "from nltk.sentiment.vader import SentimentIntensityAnalyzer\n",
    "\n",
    "# Initialize the sentiment analyzer\n",
    "sia = SentimentIntensityAnalyzer()"
   ]
  },
  {
   "cell_type": "markdown",
   "metadata": {},
   "source": [
    "**Analyze the Sentiment of Text:**\n",
    "\n",
    "Once you have the SentimentIntensityAnalyzer instance, you can use the .polarity_scores() method to analyze the sentiment of a given text. This method returns a dictionary with the following scores:\n",
    "\n",
    "- positive: A score for the positive sentiment.\n",
    "- neutral: A score for the neutral sentiment.\n",
    "- negative: A score for the negative sentiment.\n",
    "- compound: The overall sentiment score, which is a normalized value between -1 (most negative) and +1 (most positive).\n"
   ]
  },
  {
   "cell_type": "code",
   "execution_count": 163,
   "metadata": {},
   "outputs": [],
   "source": [
    "results = []\n",
    "for year in range(START_YEAR, FINAL_YEAR+1):\n",
    "    year_df = df[df.year==year]\n",
    "    \n",
    "    clean_df, num_diversity_words = prepText(year_df.body)\n",
    "    # wv = get_batch_embeddings(clean_df)\n",
    "\n",
    "    # Calculate sentiment scores for each text and average them\n",
    "    pos_scores = []\n",
    "    neg_scores = []\n",
    "    neu_scores = []\n",
    "    compound_scores = []\n",
    "    \n",
    "    for text in clean_df:\n",
    "        sentiment_scores = sia.polarity_scores(text)\n",
    "        pos_scores.append(sentiment_scores['pos'])\n",
    "        neg_scores.append(sentiment_scores['neg'])\n",
    "        neu_scores.append(sentiment_scores['neu'])\n",
    "        compound_scores.append(sentiment_scores['compound'])\n",
    "    \n",
    "    result = {'year': year,\n",
    "              'pos': sum(pos_scores) / len(pos_scores),\n",
    "              'neg': sum(neg_scores) / len(neg_scores),\n",
    "              'neu': sum(neu_scores) / len(neu_scores),\n",
    "              'compound': sum(compound_scores) / len(compound_scores)}\n",
    "    \n",
    "    results.append(result)"
   ]
  },
  {
   "cell_type": "code",
   "execution_count": 164,
   "metadata": {},
   "outputs": [
    {
     "name": "stdout",
     "output_type": "stream",
     "text": [
      "year: 2010, pos: 0.13, neg: 0.09, neu: 0.77, compound: 0.08\n",
      "year: 2011, pos: 0.10, neg: 0.09, neu: 0.81, compound: 0.04\n",
      "year: 2012, pos: 0.14, neg: 0.09, neu: 0.77, compound: 0.09\n",
      "year: 2013, pos: 0.13, neg: 0.09, neu: 0.78, compound: 0.08\n",
      "year: 2014, pos: 0.13, neg: 0.13, neu: 0.74, compound: -0.01\n",
      "year: 2015, pos: 0.16, neg: 0.14, neu: 0.70, compound: 0.04\n",
      "year: 2016, pos: 0.13, neg: 0.04, neu: 0.83, compound: 0.19\n",
      "year: 2017, pos: 0.09, neg: 0.11, neu: 0.80, compound: -0.06\n",
      "year: 2018, pos: 0.12, neg: 0.08, neu: 0.81, compound: 0.10\n",
      "year: 2019, pos: 0.08, neg: 0.09, neu: 0.83, compound: -0.03\n",
      "year: 2020, pos: 0.08, neg: 0.10, neu: 0.82, compound: -0.03\n",
      "year: 2021, pos: 0.07, neg: 0.09, neu: 0.84, compound: -0.05\n",
      "year: 2022, pos: 0.12, neg: 0.09, neu: 0.79, compound: 0.08\n",
      "year: 2023, pos: 0.12, neg: 0.08, neu: 0.79, compound: 0.10\n",
      "year: 2024, pos: 0.12, neg: 0.11, neu: 0.78, compound: 0.02\n"
     ]
    }
   ],
   "source": [
    "for result in results:\n",
    "    print(f\"year: {result['year']}, pos: {result['pos']:.2f}, neg: {result['neg']:.2f}, neu: {result['neu']:.2f}, compound: {result['compound']:.2f}\")"
   ]
  },
  {
   "cell_type": "code",
   "execution_count": 165,
   "metadata": {},
   "outputs": [
    {
     "name": "stdout",
     "output_type": "stream",
     "text": [
      "Regression results:\n",
      "Slope: -0.0033 (change in compound score per year)\n",
      "R-squared: 0.0452\n",
      "P-value: 0.4467\n"
     ]
    },
    {
     "data": {
      "image/png": "[encoded data removed]",
      "text/plain": [
       "<Figure size 1000x600 with 1 Axes>"
      ]
     },
     "metadata": {},
     "output_type": "display_data"
    }
   ],
   "source": [
    "import numpy as np\n",
    "from scipy import stats\n",
    "\n",
    "# First convert results list to a DataFrame for easier manipulation\n",
    "results_df = pd.DataFrame(results)\n",
    "\n",
    "# Create array of years since 2010\n",
    "base_year = 2010\n",
    "years_since_2010 = results_df['year'] - base_year\n",
    "\n",
    "# Get compound scores\n",
    "compound_scores = results_df['compound']\n",
    "\n",
    "# Calculate regression\n",
    "slope, intercept, r_value, p_value, std_err = stats.linregress(years_since_2010, compound_scores)\n",
    "\n",
    "print(f\"Regression results:\")\n",
    "print(f\"Slope: {slope:.4f} (change in compound score per year)\")\n",
    "print(f\"R-squared: {r_value**2:.4f}\")\n",
    "print(f\"P-value: {p_value:.4f}\")\n",
    "\n",
    "# Optional: Plot the regression line\n",
    "import matplotlib.pyplot as plt\n",
    "\n",
    "plt.figure(figsize=(10, 6))\n",
    "plt.scatter(years_since_2010, compound_scores, alpha=0.5)\n",
    "plt.plot(years_since_2010, intercept + slope * years_since_2010, 'r', \n",
    "         label=f'Slope = {slope:.4f}')\n",
    "plt.xlabel('Years since 2010')\n",
    "plt.ylabel('Compound Sentiment Score')\n",
    "plt.title('Sentiment Score Trend Over Time')\n",
    "plt.legend()\n",
    "plt.grid(True, alpha=0.3)\n",
    "plt.show()"
   ]
  }
 ],
 "metadata": {
  "kernelspec": {
   "display_name": ".venv",
   "language": "python",
   "name": "python3"
  },
  "language_info": {
   "codemirror_mode": {
    "name": "ipython",
    "version": 3
   },
   "file_extension": ".py",
   "mimetype": "text/x-python",
   "name": "python",
   "nbconvert_exporter": "python",
   "pygments_lexer": "ipython3",
   "version": "3.11.9"
  }
 },
 "nbformat": 4,
 "nbformat_minor": 2
}
