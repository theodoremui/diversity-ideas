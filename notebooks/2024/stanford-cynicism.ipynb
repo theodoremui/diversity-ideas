{
 "cells": [
  {
   "cell_type": "markdown",
   "metadata": {},
   "source": [
    "# Diversity of Ideas: Stanford\n"
   ]
  },
  {
   "cell_type": "markdown",
   "metadata": {},
   "source": [
    "## 1. Setup\n"
   ]
  },
  {
   "cell_type": "code",
   "execution_count": 2,
   "metadata": {},
   "outputs": [
    {
     "data": {
      "text/plain": [
       "True"
      ]
     },
     "execution_count": 2,
     "metadata": {},
     "output_type": "execute_result"
    }
   ],
   "source": [
    "from dotenv import load_dotenv, find_dotenv\n",
    "load_dotenv(find_dotenv())"
   ]
  },
  {
   "cell_type": "code",
   "execution_count": 3,
   "metadata": {},
   "outputs": [
    {
     "name": "stderr",
     "output_type": "stream",
     "text": [
      "[nltk_data] Downloading package punkt to\n",
      "[nltk_data]     C:\\Users\\theod\\AppData\\Roaming\\nltk_data...\n",
      "[nltk_data]   Package punkt is already up-to-date!\n",
      "[nltk_data] Downloading package punkt_tab to\n",
      "[nltk_data]     C:\\Users\\theod\\AppData\\Roaming\\nltk_data...\n",
      "[nltk_data]   Package punkt_tab is already up-to-date!\n"
     ]
    }
   ],
   "source": [
    "import pandas as pd\n",
    "import nltk\n",
    "from nltk.tokenize import word_tokenize\n",
    "from collections import Counter\n",
    "nltk.download('punkt')\n",
    "nltk.download('punkt_tab')\n",
    "from util.ouraws import (\n",
    "    getFromFile\n",
    ")"
   ]
  },
  {
   "cell_type": "code",
   "execution_count": 4,
   "metadata": {},
   "outputs": [
    {
     "data": {
      "text/plain": [
       "'c:\\\\Users\\\\theod\\\\OneDrive\\\\dev\\\\diversity-ideas\\\\notebooks\\\\2024'"
      ]
     },
     "execution_count": 4,
     "metadata": {},
     "output_type": "execute_result"
    }
   ],
   "source": [
    "%pwd"
   ]
  },
  {
   "cell_type": "code",
   "execution_count": 6,
   "metadata": {},
   "outputs": [
    {
     "data": {
      "text/plain": [
       "(5121, 6)"
      ]
     },
     "execution_count": 6,
     "metadata": {},
     "output_type": "execute_result"
    }
   ],
   "source": [
    "df = getFromFile(\"../../data/stanford-opinions.parquet\", False)\n",
    "df.shape"
   ]
  },
  {
   "cell_type": "code",
   "execution_count": 7,
   "metadata": {},
   "outputs": [
    {
     "data": {
      "text/html": [
       "<div>\n",
       "<style scoped>\n",
       "    .dataframe tbody tr th:only-of-type {\n",
       "        vertical-align: middle;\n",
       "    }\n",
       "\n",
       "    .dataframe tbody tr th {\n",
       "        vertical-align: top;\n",
       "    }\n",
       "\n",
       "    .dataframe thead th {\n",
       "        text-align: right;\n",
       "    }\n",
       "</style>\n",
       "<table border=\"1\" class=\"dataframe\">\n",
       "  <thead>\n",
       "    <tr style=\"text-align: right;\">\n",
       "      <th></th>\n",
       "      <th>title</th>\n",
       "      <th>url</th>\n",
       "      <th>body</th>\n",
       "      <th>year</th>\n",
       "      <th>month</th>\n",
       "      <th>day</th>\n",
       "    </tr>\n",
       "  </thead>\n",
       "  <tbody>\n",
       "    <tr>\n",
       "      <th>0</th>\n",
       "      <td>Student activism is the antidote to Silicon Va...</td>\n",
       "      <td>https://stanforddaily.com/2024/11/20/student-a...</td>\n",
       "      <td>Student activism is the antidote to Silicon Va...</td>\n",
       "      <td>2024</td>\n",
       "      <td>11</td>\n",
       "      <td>1</td>\n",
       "    </tr>\n",
       "    <tr>\n",
       "      <th>1</th>\n",
       "      <td>Social media is replacing our politicians with...</td>\n",
       "      <td>https://stanforddaily.com/2024/12/05/social-me...</td>\n",
       "      <td>Social media is replacing our politicians with...</td>\n",
       "      <td>2024</td>\n",
       "      <td>12</td>\n",
       "      <td>1</td>\n",
       "    </tr>\n",
       "    <tr>\n",
       "      <th>2</th>\n",
       "      <td>From the Community | Should Stanford offer a b...</td>\n",
       "      <td>https://stanforddaily.com/2024/12/01/stanford-...</td>\n",
       "      <td>From the Community | Should Stanford offer a b...</td>\n",
       "      <td>2024</td>\n",
       "      <td>12</td>\n",
       "      <td>1</td>\n",
       "    </tr>\n",
       "    <tr>\n",
       "      <th>3</th>\n",
       "      <td>Letter to the Editor | Maria Corina Machado sh...</td>\n",
       "      <td>https://stanforddaily.com/2024/11/25/letter-to...</td>\n",
       "      <td>Letter to the Editor | Maria Corina Machado sh...</td>\n",
       "      <td>2024</td>\n",
       "      <td>11</td>\n",
       "      <td>1</td>\n",
       "    </tr>\n",
       "  </tbody>\n",
       "</table>\n",
       "</div>"
      ],
      "text/plain": [
       "                                               title  \\\n",
       "0  Student activism is the antidote to Silicon Va...   \n",
       "1  Social media is replacing our politicians with...   \n",
       "2  From the Community | Should Stanford offer a b...   \n",
       "3  Letter to the Editor | Maria Corina Machado sh...   \n",
       "\n",
       "                                                 url  \\\n",
       "0  https://stanforddaily.com/2024/11/20/student-a...   \n",
       "1  https://stanforddaily.com/2024/12/05/social-me...   \n",
       "2  https://stanforddaily.com/2024/12/01/stanford-...   \n",
       "3  https://stanforddaily.com/2024/11/25/letter-to...   \n",
       "\n",
       "                                                body  year  month  day  \n",
       "0  Student activism is the antidote to Silicon Va...  2024     11    1  \n",
       "1  Social media is replacing our politicians with...  2024     12    1  \n",
       "2  From the Community | Should Stanford offer a b...  2024     12    1  \n",
       "3  Letter to the Editor | Maria Corina Machado sh...  2024     11    1  "
      ]
     },
     "execution_count": 7,
     "metadata": {},
     "output_type": "execute_result"
    }
   ],
   "source": [
    "df.head(4)"
   ]
  },
  {
   "cell_type": "markdown",
   "metadata": {},
   "source": [
    "## 2. Function Definitions\n"
   ]
  },
  {
   "cell_type": "code",
   "execution_count": 8,
   "metadata": {},
   "outputs": [],
   "source": [
    "import numpy as np\n",
    "import re"
   ]
  },
  {
   "cell_type": "code",
   "execution_count": 9,
   "metadata": {},
   "outputs": [],
   "source": [
    "def getCovDispersion(wv):\n",
    "    \"\"\"\n",
    "    Calculate various dispersion measures using the covariance matrix of word vectors.\n",
    "    \n",
    "    Args:\n",
    "        wv: numpy array of shape (n_documents, embedding_dim) containing document embeddings\n",
    "        \n",
    "    Returns:\n",
    "        tuple containing:\n",
    "        - N: number of documents\n",
    "        - trace_norm: average variance along the diagonal\n",
    "        - l1_norm: L1 norm of covariance matrix (normalized)\n",
    "        - l2_norm: L2 norm of covariance matrix (normalized)\n",
    "        - inf_norm: Infinity norm of covariance matrix (normalized)\n",
    "    \"\"\"\n",
    "    # Get number of documents\n",
    "    N = len(wv)\n",
    "    \n",
    "    # Calculate covariance matrix of the word vectors\n",
    "    # This measures how dimensions vary together across documents\n",
    "    cov = np.cov(wv)\n",
    "    \n",
    "    return (\n",
    "        N,  # Number of documents\n",
    "        np.trace(cov)/N,  # Average variance along diagonal (spread in each dimension)\n",
    "        np.linalg.norm(cov, ord=1)/N,  # L1 norm (sum of absolute values)\n",
    "        np.linalg.norm(cov, ord=2)/N,  # L2/Spectral norm (largest singular value)\n",
    "        np.linalg.norm(cov, ord=np.inf)/N,  # Infinity norm (max absolute row sum)\n",
    "    )\n",
    "\n",
    "def cosine_distance(v1, v2):\n",
    "    \"\"\"Calculate the cosine distance between two numpy arrays.\n",
    "    \n",
    "    Parameters:\n",
    "    a (numpy array): First input array.\n",
    "    b (numpy array): Second input array.\n",
    "    \n",
    "    Returns:\n",
    "    float: Cosine distance between a and b.\n",
    "    \"\"\"\n",
    "    a = np.array(v1, dtype=np.float64)\n",
    "    b = np.array(v2, dtype=np.float64)\n",
    "    # Calculate dot product and magnitudes of the input arrays\n",
    "    dot   = np.dot(a, b)\n",
    "    a_mag = np.linalg.norm(a)\n",
    "    b_mag = np.linalg.norm(b)\n",
    "    \n",
    "    if np.isclose(a_mag, 0, rtol=1e-9, atol=1e-12):\n",
    "        print(f\"a_mag is very small: {a_mag}\")\n",
    "    if np.isclose(b_mag, 0, rtol=1e-9, atol=1e-12):\n",
    "        print(f\"b_mag is very small: {b_mag}\")\n",
    "    \n",
    "    # Calculate and return the cosine distance\n",
    "    return 1.0 - (dot / (a_mag * b_mag))\n",
    "\n",
    "def getPairwiseDispersion(wv, measure):\n",
    "    if len(wv) <= 1: return 0.0\n",
    "    distance = 0.0\n",
    "    vec = wv[0]\n",
    "    for v in wv[1:]:\n",
    "        distance += measure(vec, v)\n",
    "        # print(f\"\\tcos_distance: {measure(vec, v)}\")\n",
    "    return distance + getPairwiseDispersion(wv[1:], measure)\n",
    "\n",
    "def getNormalizedPairwiseDispersion(wv, measure):\n",
    "    '''Normalize the dispersion by (N-Choose-2) number of pairs'''\n",
    "    N = len(wv)\n",
    "    return getPairwiseDispersion(wv, measure) / (N * (N-1)/2.)"
   ]
  },
  {
   "cell_type": "code",
   "execution_count": 10,
   "metadata": {},
   "outputs": [],
   "source": [
    "diversity_words = [\n",
    "    'diversity', \n",
    "    'equity',\n",
    "    'inclusion',\n",
    "    'inclusive',\n",
    "    'inclusivity',\n",
    "    'equality', \n",
    "    'equal opportunity',\n",
    "    'social justice',\n",
    "    'racial justice', \n",
    "    'multi-cultural', \n",
    "    'multicultural',\n",
    "    'intercultural',\n",
    "    'intersectional',\n",
    "    'intersectionality',\n",
    "    'anti-discrimination'\n",
    "]"
   ]
  },
  {
   "cell_type": "code",
   "execution_count": 11,
   "metadata": {},
   "outputs": [
    {
     "name": "stderr",
     "output_type": "stream",
     "text": [
      "[nltk_data] Downloading package wordnet to\n",
      "[nltk_data]     C:\\Users\\theod\\AppData\\Roaming\\nltk_data...\n",
      "[nltk_data]   Package wordnet is already up-to-date!\n"
     ]
    }
   ],
   "source": [
    "import nltk\n",
    "nltk.download('wordnet')\n",
    "from nltk.stem import WordNetLemmatizer\n",
    "lemmatizer = WordNetLemmatizer()"
   ]
  },
  {
   "cell_type": "code",
   "execution_count": 12,
   "metadata": {},
   "outputs": [
    {
     "data": {
      "text/plain": [
       "['diversity',\n",
       " 'equity',\n",
       " 'inclusion',\n",
       " 'inclusive',\n",
       " 'inclusivity',\n",
       " 'equality',\n",
       " 'equal opportunity',\n",
       " 'social justice',\n",
       " 'racial justice',\n",
       " 'multi-cultural',\n",
       " 'multicultural',\n",
       " 'intercultural',\n",
       " 'intersectional',\n",
       " 'intersectionality',\n",
       " 'anti-discrimination']"
      ]
     },
     "execution_count": 12,
     "metadata": {},
     "output_type": "execute_result"
    }
   ],
   "source": [
    "diversity_lemmas = [lemmatizer.lemmatize(w) for w in diversity_words]\n",
    "diversity_lemmas"
   ]
  },
  {
   "cell_type": "code",
   "execution_count": 13,
   "metadata": {},
   "outputs": [],
   "source": [
    "diversity_pattern = \"|\".join(diversity_lemmas)"
   ]
  },
  {
   "cell_type": "markdown",
   "metadata": {},
   "source": [
    "Let's verify how the \"count\" of diversity words in the text is calculated.\n"
   ]
  },
  {
   "cell_type": "code",
   "execution_count": 14,
   "metadata": {},
   "outputs": [
    {
     "data": {
      "text/plain": [
       "3"
      ]
     },
     "execution_count": 14,
     "metadata": {},
     "output_type": "execute_result"
    }
   ],
   "source": [
    "text = \"This is a multicultural organization that advocates for diversity and racial justice.\"\n",
    "len(re.findall(diversity_pattern, text))"
   ]
  },
  {
   "cell_type": "markdown",
   "metadata": {},
   "source": [
    "### Cynicism related declarations\n"
   ]
  },
  {
   "cell_type": "code",
   "execution_count": 15,
   "metadata": {},
   "outputs": [
    {
     "data": {
      "text/plain": [
       "['skepticism',\n",
       " 'mistrust',\n",
       " 'questionable',\n",
       " 'dishonesty',\n",
       " 'manipulation',\n",
       " 'corruption',\n",
       " 'negativity']"
      ]
     },
     "execution_count": 15,
     "metadata": {},
     "output_type": "execute_result"
    }
   ],
   "source": [
    "# Define LIWC-style categories for cynicism analysis\n",
    "liwc_cynicism = {\n",
    "    \"skepticism\": {\"skeptical\", \"doubtful\", \"unconvinced\", \"uncertain\", \"wary\", \"dubious\"},\n",
    "    \"mistrust\": {\"untrustworthy\", \"suspicious\", \"distrustful\", \"unreliable\", \"shady\", \"rigged\", \"lying\"},\n",
    "    \"questionable\": {\"questionable\", \"dubious\", \"problematic\", \"concerning\", \"suspect\"},\n",
    "    \"dishonesty\": {\"dishonest\", \"lie\", \"lying\", \"deceptive\", \"misleading\", \"false\", \"fake\"},\n",
    "    \"manipulation\": {\"manipulative\", \"coercive\", \"exploitative\", \"calculated\", \"scheming\"},\n",
    "    \"corruption\": {\"corrupt\", \"bribed\", \"compromised\", \"unethical\", \"crooked\", \"lying\"},\n",
    "    \"negativity\": {\"bad\", \"worse\", \"worst\", \"terrible\", \"awful\", \"disastrous\", \"weird\"},\n",
    "    \"certainty\": {\"obviously\", \"definitely\", \"certainly\", \"undoubtedly\", \"absolutely\", \"clearly\"}\n",
    "}\n",
    "\n",
    "liwc_cynicism_keys = [key for key in liwc_cynicism if key != \"certainty\"]\n",
    "liwc_cynicism_keys"
   ]
  },
  {
   "cell_type": "code",
   "execution_count": 16,
   "metadata": {},
   "outputs": [],
   "source": [
    "def liwc_analysis(text):\n",
    "    \"\"\"Analyze text using LIWC-style categories for cynicism.\"\"\"\n",
    "    tokens = [token.lower() for token in word_tokenize(text) \n",
    "              if token.isalnum()]  # Only include alphanumeric tokens\n",
    "    word_counts = Counter(tokens)\n",
    "    total_words = sum(word_counts.values())\n",
    "    \n",
    "    # Initialize scores dict with all categories\n",
    "    liwc_scores = {category: 0 for category in liwc_cynicism.keys()}\n",
    "    \n",
    "    # Count matches for each category\n",
    "    for category, words in liwc_cynicism.items():\n",
    "        category_count = sum(word_counts[word] for word in words if word in word_counts)\n",
    "        if total_words > 0:\n",
    "            liwc_scores[category] = round(category_count / total_words, 4)\n",
    "    \n",
    "    # Debug print\n",
    "    # print(\"LIWC categories found:\", list(liwc_scores.keys()))\n",
    "    \n",
    "    return liwc_scores"
   ]
  },
  {
   "cell_type": "code",
   "execution_count": 17,
   "metadata": {},
   "outputs": [],
   "source": [
    "def compute_cynicism_score(row):\n",
    "    \"\"\"Compute cynicism score from LIWC categories.\"\"\"\n",
    "    # Create a set of categories excluding 'certainty'\n",
    "    cynicism_categories = set(liwc_cynicism.keys()) - {'certainty'}\n",
    "    certainty_weight = 1\n",
    "    \n",
    "    # Debug print\n",
    "    # print(\"Available columns:\", row.index.tolist())\n",
    "    # print(\"Looking for categories:\", list(cynicism_categories))\n",
    "    \n",
    "    # Check if all required categories exist\n",
    "    missing_categories = [cat for cat in cynicism_categories if cat not in row.index]\n",
    "    if missing_categories:\n",
    "        print(f\"Missing categories: {missing_categories}\")\n",
    "        return 0.0\n",
    "    \n",
    "    try:\n",
    "        cynicism_score = (sum(row[category] for category in cynicism_categories) - \n",
    "                         certainty_weight * row[\"certainty\"]) / len(cynicism_categories)\n",
    "        return round(cynicism_score, 4)\n",
    "    except Exception as e:\n",
    "        print(f\"Error computing cynicism score: {e}\")\n",
    "        print(f\"Row data: {row}\")\n",
    "        return 0.0"
   ]
  },
  {
   "cell_type": "code",
   "execution_count": 18,
   "metadata": {},
   "outputs": [],
   "source": [
    "def cronbach_alpha(df):\n",
    "    \"\"\"Compute Cronbach's Alpha for internal consistency of LIWC categories.\"\"\"\n",
    "    # items = df[liwc_cynicism_keys]\n",
    "    items = df[liwc_cynicism.keys()]\n",
    "    item_vars = items.var(axis=0, ddof=1)\n",
    "    total_var = items.sum(axis=1).var(ddof=1)\n",
    "    n = items.shape[1]\n",
    "    return (n / (n - 1)) * (1 - sum(item_vars) / total_var)"
   ]
  },
  {
   "cell_type": "markdown",
   "metadata": {},
   "source": [
    "## 3. Diversity Analysis\n"
   ]
  },
  {
   "cell_type": "code",
   "execution_count": 19,
   "metadata": {},
   "outputs": [],
   "source": [
    "from openai import OpenAI\n",
    "from typing import List\n",
    "import numpy as np\n",
    "client = OpenAI()"
   ]
  },
  {
   "cell_type": "code",
   "execution_count": 20,
   "metadata": {},
   "outputs": [],
   "source": [
    "def get_embedding(text: str) -> List[float]:\n",
    "    \"\"\"\n",
    "    Get embeddings for a single text using text-embedding-3-large model.\n",
    "    \n",
    "    Args:\n",
    "        text (str): The input text to generate embeddings for\n",
    "        \n",
    "    Returns:\n",
    "        List[float]: The embedding vector\n",
    "    \"\"\"\n",
    "    response = client.embeddings.create(\n",
    "        model=\"text-embedding-3-large\",\n",
    "        input=text,\n",
    "        dimensions=1024  # Optional: You can specify 256, 512, or 1024 dimensions\n",
    "    )\n",
    "    return response.data[0].embedding\n",
    "\n",
    "def get_batch_embeddings(texts: List[str]) -> List[List[float]]:\n",
    "    \"\"\"\n",
    "    Get embeddings for multiple texts in a single API call.\n",
    "    \n",
    "    Args:\n",
    "        texts (List[str]): List of input texts to generate embeddings for\n",
    "        \n",
    "    Returns:\n",
    "        List[List[float]]: List of embedding vectors\n",
    "    \"\"\"\n",
    "    response = client.embeddings.create(\n",
    "        model=\"text-embedding-3-large\",\n",
    "        input=texts,\n",
    "        dimensions=1024\n",
    "    )\n",
    "    return [item.embedding for item in response.data]"
   ]
  },
  {
   "cell_type": "code",
   "execution_count": 21,
   "metadata": {},
   "outputs": [
    {
     "name": "stderr",
     "output_type": "stream",
     "text": [
      "[nltk_data] Downloading package stopwords to\n",
      "[nltk_data]     C:\\Users\\theod\\AppData\\Roaming\\nltk_data...\n",
      "[nltk_data]   Package stopwords is already up-to-date!\n"
     ]
    }
   ],
   "source": [
    "nltk.download('stopwords')\n",
    "from nltk.corpus import stopwords"
   ]
  },
  {
   "cell_type": "code",
   "execution_count": 22,
   "metadata": {},
   "outputs": [],
   "source": [
    "english_stopwords = stopwords.words('english')\n",
    "def prepText(text_series):\n",
    "    # Step 1: Clean and normalize each text in the series\n",
    "    # - Convert to lowercase\n",
    "    # - Lemmatize each word (convert to base form)\n",
    "    # - Remove stopwords\n",
    "    # - Join words back together with spaces\n",
    "    text_series = text_series.apply(\n",
    "        lambda x: \" \".join(lemmatizer.lemmatize(w.lower()) for w in x.split()\n",
    "                           if w not in english_stopwords))\n",
    "    \n",
    "    # Step 2: Filter out short texts\n",
    "    # Remove any text less than 100 characters as they're likely too short for meaningful analysis\n",
    "    text_series = text_series.apply(lambda x: x if len(x) > 100 else None)\n",
    "    \n",
    "    # Step 3: Remove any null values created by the previous step\n",
    "    text_series = text_series.dropna()\n",
    "    \n",
    "    # Step 4: Count diversity-related terms\n",
    "    # Sum up all instances of diversity-related words (defined in diversity_pattern)\n",
    "    # across all remaining texts in the series\n",
    "    total_diversity_words = sum([len(re.findall(diversity_pattern, text))\n",
    "                                for text in text_series])\n",
    "    \n",
    "    # Return both the cleaned text series and the total count of diversity words\n",
    "    return text_series, total_diversity_words"
   ]
  },
  {
   "cell_type": "code",
   "execution_count": 23,
   "metadata": {},
   "outputs": [],
   "source": [
    "START_YEAR = 2009\n",
    "FINAL_YEAR = 2024"
   ]
  },
  {
   "cell_type": "code",
   "execution_count": 24,
   "metadata": {},
   "outputs": [],
   "source": [
    "year_2024 = df[df.year==2024]\n",
    "clean_df, num_diversity_words = prepText(year_2024.body)\n",
    "wv = get_batch_embeddings(clean_df)"
   ]
  },
  {
   "cell_type": "code",
   "execution_count": 25,
   "metadata": {},
   "outputs": [
    {
     "data": {
      "text/plain": [
       "list"
      ]
     },
     "execution_count": 25,
     "metadata": {},
     "output_type": "execute_result"
    }
   ],
   "source": [
    "type(wv[0])"
   ]
  },
  {
   "cell_type": "code",
   "execution_count": 26,
   "metadata": {},
   "outputs": [],
   "source": [
    "docmatrix = np.array(wv)"
   ]
  },
  {
   "cell_type": "code",
   "execution_count": 27,
   "metadata": {},
   "outputs": [
    {
     "data": {
      "text/plain": [
       "(76, 1024)"
      ]
     },
     "execution_count": 27,
     "metadata": {},
     "output_type": "execute_result"
    }
   ],
   "source": [
    "docmatrix.shape"
   ]
  },
  {
   "cell_type": "code",
   "execution_count": 28,
   "metadata": {},
   "outputs": [
    {
     "name": "stdout",
     "output_type": "stream",
     "text": [
      "0     2024\n",
      "1     2024\n",
      "2     2024\n",
      "3     2024\n",
      "4     2024\n",
      "      ... \n",
      "87    2024\n",
      "88    2024\n",
      "89    2024\n",
      "90    2024\n",
      "92    2024\n",
      "Name: year, Length: 92, dtype: int64, 76, 0.0009767970624841174, 0.6102104856603137\n"
     ]
    }
   ],
   "source": [
    "pairwise = getNormalizedPairwiseDispersion(docmatrix, cosine_distance)\n",
    "cov = getCovDispersion(docmatrix)\n",
    "print(f\"{year_2024.year}, {cov[0]}, {cov[1]}, {pairwise}\")"
   ]
  },
  {
   "cell_type": "code",
   "execution_count": 29,
   "metadata": {},
   "outputs": [
    {
     "name": "stderr",
     "output_type": "stream",
     "text": [
      "[nltk_data] Downloading package vader_lexicon to\n",
      "[nltk_data]     C:\\Users\\theod\\AppData\\Roaming\\nltk_data...\n",
      "[nltk_data]   Package vader_lexicon is already up-to-date!\n"
     ]
    }
   ],
   "source": [
    "# VADER Sentiment Analysis\n",
    "import nltk\n",
    "nltk.download('vader_lexicon')\n",
    "from nltk.sentiment.vader import SentimentIntensityAnalyzer\n",
    "\n",
    "# Initialize the sentiment analyzer\n",
    "sia = SentimentIntensityAnalyzer()"
   ]
  },
  {
   "cell_type": "code",
   "execution_count": 30,
   "metadata": {},
   "outputs": [],
   "source": [
    "def chunk_process_embeddings(clean_df):\n",
    "    \"\"\"\n",
    "    Process embeddings in chunks and combine results.\n",
    "    \n",
    "    Args:\n",
    "        clean_df: pandas Series of cleaned text\n",
    "    \n",
    "    Returns:\n",
    "        List of embeddings\n",
    "    \"\"\"\n",
    "    # Calculate chunk size (divide into 3 equal parts)\n",
    "    chunk_size = len(clean_df) // 3\n",
    "    \n",
    "    # Split into 3 chunks\n",
    "    chunks = [\n",
    "        clean_df[i:i + chunk_size] \n",
    "        for i in range(0, len(clean_df), chunk_size)\n",
    "    ]\n",
    "    \n",
    "    # Process each chunk and combine results\n",
    "    all_embeddings = []\n",
    "    for chunk in chunks:\n",
    "        chunk_embeddings = get_batch_embeddings(chunk)\n",
    "        all_embeddings.extend(chunk_embeddings)\n",
    "    \n",
    "    return all_embeddings"
   ]
  },
  {
   "cell_type": "code",
   "execution_count": 31,
   "metadata": {},
   "outputs": [
    {
     "name": "stdout",
     "output_type": "stream",
     "text": [
      "year        size        trace       pairwise    vader       lexical     alpha       \n",
      "------------------------------------------------------------------------------\n"
     ]
    },
    {
     "name": "stderr",
     "output_type": "stream",
     "text": [
      "C:\\Users\\theod\\AppData\\Local\\Temp\\ipykernel_39612\\1361427983.py:8: RuntimeWarning: invalid value encountered in scalar divide\n",
      "  return (n / (n - 1)) * (1 - sum(item_vars) / total_var)\n"
     ]
    },
    {
     "name": "stdout",
     "output_type": "stream",
     "text": [
      "2009        3           0.001       0.715       0.026       0.000       nan         \n",
      "2010        207         0.001       0.710       0.082       0.055       -0.008      \n",
      "2011        137         0.001       0.692       0.045       0.022       0.000       \n"
     ]
    },
    {
     "name": "stderr",
     "output_type": "stream",
     "text": [
      "C:\\Users\\theod\\AppData\\Local\\Temp\\ipykernel_39612\\1361427983.py:8: RuntimeWarning: invalid value encountered in scalar divide\n",
      "  return (n / (n - 1)) * (1 - sum(item_vars) / total_var)\n"
     ]
    },
    {
     "name": "stdout",
     "output_type": "stream",
     "text": [
      "2012        50          0.001       0.734       0.090       0.000       nan         \n"
     ]
    },
    {
     "name": "stderr",
     "output_type": "stream",
     "text": [
      "C:\\Users\\theod\\AppData\\Local\\Temp\\ipykernel_39612\\1361427983.py:8: RuntimeWarning: invalid value encountered in scalar divide\n",
      "  return (n / (n - 1)) * (1 - sum(item_vars) / total_var)\n"
     ]
    },
    {
     "name": "stdout",
     "output_type": "stream",
     "text": [
      "2013        32          0.001       0.729       0.082       0.000       nan         \n",
      "2014        62          0.001       0.752       -0.007      -0.004      -0.019      \n",
      "2015        68          0.001       0.785       0.038       0.014       0.000       \n",
      "2016        44          0.001       0.726       0.186       0.020       0.000       \n",
      "2017        66          0.001       0.720       -0.058      0.018       0.000       \n",
      "2018        55          0.001       0.714       0.095       0.014       0.000       \n",
      "2019        101         0.001       0.686       -0.034      0.028       0.000       \n",
      "2020        166         0.001       0.668       -0.028      0.049       -0.007      \n",
      "2021        116         0.001       0.629       -0.050      0.012       0.000       \n",
      "2022        91          0.001       0.621       0.084       0.015       0.000       \n",
      "2023        84          0.001       0.575       0.105       0.032       -0.014      \n",
      "2024        76          0.001       0.610       0.022       0.000       nan         \n"
     ]
    },
    {
     "name": "stderr",
     "output_type": "stream",
     "text": [
      "C:\\Users\\theod\\AppData\\Local\\Temp\\ipykernel_39612\\1361427983.py:8: RuntimeWarning: invalid value encountered in scalar divide\n",
      "  return (n / (n - 1)) * (1 - sum(item_vars) / total_var)\n"
     ]
    }
   ],
   "source": [
    "results = []\n",
    "print(f\"{'year':<12}{'size':<12}{'trace':<12}{'pairwise':<12}{'vader':<12}{'lexical':<12}{'alpha':<12}\")\n",
    "print(\"-\"*78)\n",
    "LIWC_SCORE_NAME = \"cinicism_lexical\"\n",
    "for year in range(START_YEAR, FINAL_YEAR+1):\n",
    "    year_df = df[df.year==year]\n",
    "    \n",
    "    clean_df, num_diversity_words = prepText(year_df.body)\n",
    "    wv = chunk_process_embeddings(clean_df)\n",
    "    \n",
    "    docmatrix = np.array(wv)\n",
    "    pairwise = getNormalizedPairwiseDispersion(docmatrix, cosine_distance)\n",
    "    cov = getCovDispersion(docmatrix)\n",
    "    \n",
    "    # -------------- VADER: Sentiment Analysis ----------------- #\n",
    "    pos_scores = []\n",
    "    neg_scores = []\n",
    "    neu_scores = []\n",
    "    compound_scores = []\n",
    "    \n",
    "    for text in clean_df:\n",
    "        sentiment_scores = sia.polarity_scores(text)\n",
    "        pos_scores.append(sentiment_scores['pos'])\n",
    "        neg_scores.append(sentiment_scores['neg'])\n",
    "        neu_scores.append(sentiment_scores['neu'])\n",
    "        compound_scores.append(sentiment_scores['compound']) \n",
    " \n",
    "    # --------------- LIWC: Lexical Analysis -------------------- #\n",
    "    temp_df = clean_df.copy()\n",
    "    \n",
    "    # Apply LIWC analysis and convert results to separate columns\n",
    "    liwc_scores = temp_df.apply(liwc_analysis)\n",
    "\n",
    "    # Convert the series of dictionaries to a DataFrame\n",
    "    liwc_columns = pd.DataFrame.from_records(liwc_scores.values)\n",
    "    \n",
    "    # Combine with original DataFrame\n",
    "    temp_df = pd.DataFrame(temp_df, columns=['text'])\n",
    "    liwc_df = pd.concat([temp_df, liwc_columns], axis=1)\n",
    "    alpha = cronbach_alpha(liwc_df)\n",
    "    \n",
    "    # Calculate cynicism score\n",
    "    liwc_df[LIWC_SCORE_NAME] = liwc_df.apply(compute_cynicism_score, axis=1)\n",
    "    sum_liwc_score = liwc_df[LIWC_SCORE_NAME].sum()\n",
    "    \n",
    "    result = {'year':     year,\n",
    "              'pairwise': pairwise,\n",
    "              'size':     cov[0],\n",
    "              'trace':    cov[1],\n",
    "              'norm-1':   cov[2],\n",
    "              'norm-2':   cov[3],\n",
    "              'norm-inf': cov[4],\n",
    "              'diversity-words': num_diversity_words,\n",
    "              'mentions-norm'  : num_diversity_words/cov[0],\n",
    "              'pos': sum(pos_scores) / len(pos_scores),\n",
    "              'neg': sum(neg_scores) / len(neg_scores),\n",
    "              'neu': sum(neu_scores) / len(neu_scores),\n",
    "              'vader': sum(compound_scores) / len(compound_scores),\n",
    "              'lexical': sum_liwc_score,\n",
    "              'alpha': alpha\n",
    "    }\n",
    "    results.append(result)\n",
    "    \n",
    "    print(f\"{year:<12}{cov[0]:<12}{cov[1]:<12.3f}{pairwise:<12.3f}{result['vader']:<12.3f}{result['lexical']:<12.3f}{result['alpha']:<12.3f}\")"
   ]
  },
  {
   "cell_type": "code",
   "execution_count": 32,
   "metadata": {},
   "outputs": [
    {
     "data": {
      "text/html": [
       "<div>\n",
       "<style scoped>\n",
       "    .dataframe tbody tr th:only-of-type {\n",
       "        vertical-align: middle;\n",
       "    }\n",
       "\n",
       "    .dataframe tbody tr th {\n",
       "        vertical-align: top;\n",
       "    }\n",
       "\n",
       "    .dataframe thead th {\n",
       "        text-align: right;\n",
       "    }\n",
       "</style>\n",
       "<table border=\"1\" class=\"dataframe\">\n",
       "  <thead>\n",
       "    <tr style=\"text-align: right;\">\n",
       "      <th></th>\n",
       "      <th>pairwise</th>\n",
       "      <th>size</th>\n",
       "      <th>trace</th>\n",
       "      <th>norm-1</th>\n",
       "      <th>norm-2</th>\n",
       "      <th>norm-inf</th>\n",
       "      <th>diversity-words</th>\n",
       "      <th>mentions-norm</th>\n",
       "      <th>pos</th>\n",
       "      <th>neg</th>\n",
       "      <th>neu</th>\n",
       "      <th>vader</th>\n",
       "      <th>lexical</th>\n",
       "      <th>alpha</th>\n",
       "    </tr>\n",
       "    <tr>\n",
       "      <th>year</th>\n",
       "      <th></th>\n",
       "      <th></th>\n",
       "      <th></th>\n",
       "      <th></th>\n",
       "      <th></th>\n",
       "      <th></th>\n",
       "      <th></th>\n",
       "      <th></th>\n",
       "      <th></th>\n",
       "      <th></th>\n",
       "      <th></th>\n",
       "      <th></th>\n",
       "      <th></th>\n",
       "      <th></th>\n",
       "    </tr>\n",
       "  </thead>\n",
       "  <tbody>\n",
       "    <tr>\n",
       "      <th>2009</th>\n",
       "      <td>0.715207</td>\n",
       "      <td>3</td>\n",
       "      <td>0.000977</td>\n",
       "      <td>0.000538</td>\n",
       "      <td>0.000513</td>\n",
       "      <td>0.000538</td>\n",
       "      <td>0</td>\n",
       "      <td>0.000000</td>\n",
       "      <td>0.226667</td>\n",
       "      <td>0.199667</td>\n",
       "      <td>0.573667</td>\n",
       "      <td>0.026500</td>\n",
       "      <td>0.0000</td>\n",
       "      <td>NaN</td>\n",
       "    </tr>\n",
       "    <tr>\n",
       "      <th>2010</th>\n",
       "      <td>0.710140</td>\n",
       "      <td>207</td>\n",
       "      <td>0.000977</td>\n",
       "      <td>0.000372</td>\n",
       "      <td>0.000290</td>\n",
       "      <td>0.000372</td>\n",
       "      <td>2</td>\n",
       "      <td>0.009662</td>\n",
       "      <td>0.131024</td>\n",
       "      <td>0.094560</td>\n",
       "      <td>0.774415</td>\n",
       "      <td>0.082343</td>\n",
       "      <td>0.0546</td>\n",
       "      <td>-0.007667</td>\n",
       "    </tr>\n",
       "    <tr>\n",
       "      <th>2011</th>\n",
       "      <td>0.691625</td>\n",
       "      <td>137</td>\n",
       "      <td>0.000976</td>\n",
       "      <td>0.000412</td>\n",
       "      <td>0.000311</td>\n",
       "      <td>0.000412</td>\n",
       "      <td>4</td>\n",
       "      <td>0.029197</td>\n",
       "      <td>0.097781</td>\n",
       "      <td>0.089241</td>\n",
       "      <td>0.812978</td>\n",
       "      <td>0.044798</td>\n",
       "      <td>0.0220</td>\n",
       "      <td>0.000000</td>\n",
       "    </tr>\n",
       "    <tr>\n",
       "      <th>2012</th>\n",
       "      <td>0.734254</td>\n",
       "      <td>50</td>\n",
       "      <td>0.000977</td>\n",
       "      <td>0.000371</td>\n",
       "      <td>0.000283</td>\n",
       "      <td>0.000371</td>\n",
       "      <td>0</td>\n",
       "      <td>0.000000</td>\n",
       "      <td>0.137900</td>\n",
       "      <td>0.093360</td>\n",
       "      <td>0.768700</td>\n",
       "      <td>0.089724</td>\n",
       "      <td>0.0000</td>\n",
       "      <td>NaN</td>\n",
       "    </tr>\n",
       "    <tr>\n",
       "      <th>2013</th>\n",
       "      <td>0.728908</td>\n",
       "      <td>32</td>\n",
       "      <td>0.000977</td>\n",
       "      <td>0.000355</td>\n",
       "      <td>0.000297</td>\n",
       "      <td>0.000355</td>\n",
       "      <td>2</td>\n",
       "      <td>0.062500</td>\n",
       "      <td>0.131594</td>\n",
       "      <td>0.090438</td>\n",
       "      <td>0.778000</td>\n",
       "      <td>0.082491</td>\n",
       "      <td>0.0000</td>\n",
       "      <td>NaN</td>\n",
       "    </tr>\n",
       "    <tr>\n",
       "      <th>2014</th>\n",
       "      <td>0.751577</td>\n",
       "      <td>62</td>\n",
       "      <td>0.000976</td>\n",
       "      <td>0.000332</td>\n",
       "      <td>0.000261</td>\n",
       "      <td>0.000332</td>\n",
       "      <td>4</td>\n",
       "      <td>0.064516</td>\n",
       "      <td>0.133532</td>\n",
       "      <td>0.129129</td>\n",
       "      <td>0.737323</td>\n",
       "      <td>-0.007123</td>\n",
       "      <td>-0.0036</td>\n",
       "      <td>-0.018575</td>\n",
       "    </tr>\n",
       "    <tr>\n",
       "      <th>2015</th>\n",
       "      <td>0.785478</td>\n",
       "      <td>68</td>\n",
       "      <td>0.000977</td>\n",
       "      <td>0.000289</td>\n",
       "      <td>0.000226</td>\n",
       "      <td>0.000289</td>\n",
       "      <td>0</td>\n",
       "      <td>0.000000</td>\n",
       "      <td>0.156618</td>\n",
       "      <td>0.142147</td>\n",
       "      <td>0.701250</td>\n",
       "      <td>0.038124</td>\n",
       "      <td>0.0143</td>\n",
       "      <td>0.000000</td>\n",
       "    </tr>\n",
       "    <tr>\n",
       "      <th>2016</th>\n",
       "      <td>0.725703</td>\n",
       "      <td>44</td>\n",
       "      <td>0.000977</td>\n",
       "      <td>0.000388</td>\n",
       "      <td>0.000297</td>\n",
       "      <td>0.000388</td>\n",
       "      <td>4</td>\n",
       "      <td>0.090909</td>\n",
       "      <td>0.132409</td>\n",
       "      <td>0.037250</td>\n",
       "      <td>0.830341</td>\n",
       "      <td>0.185777</td>\n",
       "      <td>0.0204</td>\n",
       "      <td>0.000000</td>\n",
       "    </tr>\n",
       "    <tr>\n",
       "      <th>2017</th>\n",
       "      <td>0.720429</td>\n",
       "      <td>66</td>\n",
       "      <td>0.000977</td>\n",
       "      <td>0.000388</td>\n",
       "      <td>0.000300</td>\n",
       "      <td>0.000388</td>\n",
       "      <td>4</td>\n",
       "      <td>0.060606</td>\n",
       "      <td>0.086470</td>\n",
       "      <td>0.109712</td>\n",
       "      <td>0.803788</td>\n",
       "      <td>-0.057995</td>\n",
       "      <td>0.0179</td>\n",
       "      <td>0.000000</td>\n",
       "    </tr>\n",
       "    <tr>\n",
       "      <th>2018</th>\n",
       "      <td>0.713615</td>\n",
       "      <td>55</td>\n",
       "      <td>0.000977</td>\n",
       "      <td>0.000395</td>\n",
       "      <td>0.000305</td>\n",
       "      <td>0.000395</td>\n",
       "      <td>0</td>\n",
       "      <td>0.000000</td>\n",
       "      <td>0.117164</td>\n",
       "      <td>0.076855</td>\n",
       "      <td>0.805982</td>\n",
       "      <td>0.095315</td>\n",
       "      <td>0.0143</td>\n",
       "      <td>0.000000</td>\n",
       "    </tr>\n",
       "    <tr>\n",
       "      <th>2019</th>\n",
       "      <td>0.685673</td>\n",
       "      <td>101</td>\n",
       "      <td>0.000977</td>\n",
       "      <td>0.000393</td>\n",
       "      <td>0.000321</td>\n",
       "      <td>0.000393</td>\n",
       "      <td>2</td>\n",
       "      <td>0.019802</td>\n",
       "      <td>0.079416</td>\n",
       "      <td>0.088901</td>\n",
       "      <td>0.831693</td>\n",
       "      <td>-0.033693</td>\n",
       "      <td>0.0285</td>\n",
       "      <td>0.000000</td>\n",
       "    </tr>\n",
       "    <tr>\n",
       "      <th>2020</th>\n",
       "      <td>0.667599</td>\n",
       "      <td>166</td>\n",
       "      <td>0.000977</td>\n",
       "      <td>0.000424</td>\n",
       "      <td>0.000336</td>\n",
       "      <td>0.000424</td>\n",
       "      <td>6</td>\n",
       "      <td>0.036145</td>\n",
       "      <td>0.082380</td>\n",
       "      <td>0.095072</td>\n",
       "      <td>0.822530</td>\n",
       "      <td>-0.028292</td>\n",
       "      <td>0.0488</td>\n",
       "      <td>-0.006781</td>\n",
       "    </tr>\n",
       "    <tr>\n",
       "      <th>2021</th>\n",
       "      <td>0.629060</td>\n",
       "      <td>116</td>\n",
       "      <td>0.000977</td>\n",
       "      <td>0.000447</td>\n",
       "      <td>0.000372</td>\n",
       "      <td>0.000447</td>\n",
       "      <td>16</td>\n",
       "      <td>0.137931</td>\n",
       "      <td>0.071974</td>\n",
       "      <td>0.092414</td>\n",
       "      <td>0.835586</td>\n",
       "      <td>-0.050397</td>\n",
       "      <td>0.0124</td>\n",
       "      <td>0.000000</td>\n",
       "    </tr>\n",
       "    <tr>\n",
       "      <th>2022</th>\n",
       "      <td>0.620778</td>\n",
       "      <td>91</td>\n",
       "      <td>0.000977</td>\n",
       "      <td>0.000469</td>\n",
       "      <td>0.000384</td>\n",
       "      <td>0.000469</td>\n",
       "      <td>4</td>\n",
       "      <td>0.043956</td>\n",
       "      <td>0.116758</td>\n",
       "      <td>0.091462</td>\n",
       "      <td>0.791791</td>\n",
       "      <td>0.084443</td>\n",
       "      <td>0.0150</td>\n",
       "      <td>0.000000</td>\n",
       "    </tr>\n",
       "    <tr>\n",
       "      <th>2023</th>\n",
       "      <td>0.574600</td>\n",
       "      <td>84</td>\n",
       "      <td>0.000977</td>\n",
       "      <td>0.000524</td>\n",
       "      <td>0.000429</td>\n",
       "      <td>0.000524</td>\n",
       "      <td>2</td>\n",
       "      <td>0.023810</td>\n",
       "      <td>0.124857</td>\n",
       "      <td>0.084845</td>\n",
       "      <td>0.790298</td>\n",
       "      <td>0.104901</td>\n",
       "      <td>0.0318</td>\n",
       "      <td>-0.013852</td>\n",
       "    </tr>\n",
       "    <tr>\n",
       "      <th>2024</th>\n",
       "      <td>0.610108</td>\n",
       "      <td>76</td>\n",
       "      <td>0.000977</td>\n",
       "      <td>0.000459</td>\n",
       "      <td>0.000395</td>\n",
       "      <td>0.000459</td>\n",
       "      <td>2</td>\n",
       "      <td>0.026316</td>\n",
       "      <td>0.115276</td>\n",
       "      <td>0.109368</td>\n",
       "      <td>0.775342</td>\n",
       "      <td>0.021628</td>\n",
       "      <td>0.0000</td>\n",
       "      <td>NaN</td>\n",
       "    </tr>\n",
       "  </tbody>\n",
       "</table>\n",
       "</div>"
      ],
      "text/plain": [
       "      pairwise  size     trace    norm-1    norm-2  norm-inf  diversity-words  \\\n",
       "year                                                                            \n",
       "2009  0.715207     3  0.000977  0.000538  0.000513  0.000538                0   \n",
       "2010  0.710140   207  0.000977  0.000372  0.000290  0.000372                2   \n",
       "2011  0.691625   137  0.000976  0.000412  0.000311  0.000412                4   \n",
       "2012  0.734254    50  0.000977  0.000371  0.000283  0.000371                0   \n",
       "2013  0.728908    32  0.000977  0.000355  0.000297  0.000355                2   \n",
       "2014  0.751577    62  0.000976  0.000332  0.000261  0.000332                4   \n",
       "2015  0.785478    68  0.000977  0.000289  0.000226  0.000289                0   \n",
       "2016  0.725703    44  0.000977  0.000388  0.000297  0.000388                4   \n",
       "2017  0.720429    66  0.000977  0.000388  0.000300  0.000388                4   \n",
       "2018  0.713615    55  0.000977  0.000395  0.000305  0.000395                0   \n",
       "2019  0.685673   101  0.000977  0.000393  0.000321  0.000393                2   \n",
       "2020  0.667599   166  0.000977  0.000424  0.000336  0.000424                6   \n",
       "2021  0.629060   116  0.000977  0.000447  0.000372  0.000447               16   \n",
       "2022  0.620778    91  0.000977  0.000469  0.000384  0.000469                4   \n",
       "2023  0.574600    84  0.000977  0.000524  0.000429  0.000524                2   \n",
       "2024  0.610108    76  0.000977  0.000459  0.000395  0.000459                2   \n",
       "\n",
       "      mentions-norm       pos       neg       neu     vader  lexical     alpha  \n",
       "year                                                                            \n",
       "2009       0.000000  0.226667  0.199667  0.573667  0.026500   0.0000       NaN  \n",
       "2010       0.009662  0.131024  0.094560  0.774415  0.082343   0.0546 -0.007667  \n",
       "2011       0.029197  0.097781  0.089241  0.812978  0.044798   0.0220  0.000000  \n",
       "2012       0.000000  0.137900  0.093360  0.768700  0.089724   0.0000       NaN  \n",
       "2013       0.062500  0.131594  0.090438  0.778000  0.082491   0.0000       NaN  \n",
       "2014       0.064516  0.133532  0.129129  0.737323 -0.007123  -0.0036 -0.018575  \n",
       "2015       0.000000  0.156618  0.142147  0.701250  0.038124   0.0143  0.000000  \n",
       "2016       0.090909  0.132409  0.037250  0.830341  0.185777   0.0204  0.000000  \n",
       "2017       0.060606  0.086470  0.109712  0.803788 -0.057995   0.0179  0.000000  \n",
       "2018       0.000000  0.117164  0.076855  0.805982  0.095315   0.0143  0.000000  \n",
       "2019       0.019802  0.079416  0.088901  0.831693 -0.033693   0.0285  0.000000  \n",
       "2020       0.036145  0.082380  0.095072  0.822530 -0.028292   0.0488 -0.006781  \n",
       "2021       0.137931  0.071974  0.092414  0.835586 -0.050397   0.0124  0.000000  \n",
       "2022       0.043956  0.116758  0.091462  0.791791  0.084443   0.0150  0.000000  \n",
       "2023       0.023810  0.124857  0.084845  0.790298  0.104901   0.0318 -0.013852  \n",
       "2024       0.026316  0.115276  0.109368  0.775342  0.021628   0.0000       NaN  "
      ]
     },
     "execution_count": 32,
     "metadata": {},
     "output_type": "execute_result"
    }
   ],
   "source": [
    "results_df = pd.DataFrame.from_records(results)\n",
    "results_df.set_index('year')"
   ]
  },
  {
   "cell_type": "markdown",
   "metadata": {},
   "source": [
    "### Regress Goodness of Fit: Pairwise Dispersion\n"
   ]
  },
  {
   "cell_type": "code",
   "execution_count": 34,
   "metadata": {},
   "outputs": [
    {
     "data": {
      "image/png": "[encoded data removed]",
      "text/plain": [
       "<Figure size 640x480 with 1 Axes>"
      ]
     },
     "metadata": {},
     "output_type": "display_data"
    }
   ],
   "source": [
    "import matplotlib.pyplot as plt\n",
    "from scipy.stats import linregress\n",
    "\n",
    "x = results_df['year']\n",
    "y = results_df['pairwise']\n",
    "\n",
    "slope, intercept, r_value, p_value, std_err = linregress(x, y)\n",
    "\n",
    "results_df.plot(x=\"year\", y=\"pairwise\", kind=\"scatter\")\n",
    "\n",
    "plt.plot(x, intercept + slope*x, 'b:', label='fitted regression')\n",
    "\n",
    "plt.title(\"Stanford Opinions by year: Pairwise Dispersion\")\n",
    "plt.legend(loc='upper right')\n",
    "plt.ylim(min(y)*0.95, max(y)*1.05)\n",
    "plt.show()"
   ]
  },
  {
   "cell_type": "markdown",
   "metadata": {},
   "source": [
    "### Regress Goodness of Fit: VADER Sentiment Analysis\n"
   ]
  },
  {
   "cell_type": "code",
   "execution_count": 35,
   "metadata": {},
   "outputs": [
    {
     "data": {
      "image/png": "[encoded data removed]",
      "text/plain": [
       "<Figure size 640x480 with 1 Axes>"
      ]
     },
     "metadata": {},
     "output_type": "display_data"
    }
   ],
   "source": [
    "x = results_df['year']\n",
    "y = results_df['vader']\n",
    "\n",
    "slope, intercept, r_value, p_value, std_err = linregress(x, y)\n",
    "\n",
    "results_df.plot(x=\"year\", y=\"vader\", kind=\"scatter\")\n",
    "\n",
    "plt.plot(x, intercept + slope*x, 'b:', label='fitted regression')\n",
    "\n",
    "plt.title(\"Stanford Opinions by year: VADER Sentiment Analysis\")\n",
    "plt.legend(loc='upper right')\n",
    "plt.ylim(min(y)*0.95, max(y)*1.05)\n",
    "plt.show()"
   ]
  },
  {
   "cell_type": "markdown",
   "metadata": {},
   "source": [
    "### Regress Goodness of Fit: LIWC Lexical Analysis\n"
   ]
  },
  {
   "cell_type": "code",
   "execution_count": 36,
   "metadata": {},
   "outputs": [
    {
     "data": {
      "image/png": "[encoded data removed]",
      "text/plain": [
       "<Figure size 640x480 with 1 Axes>"
      ]
     },
     "metadata": {},
     "output_type": "display_data"
    }
   ],
   "source": [
    "x = results_df['year']\n",
    "y = results_df['lexical']\n",
    "\n",
    "slope, intercept, r_value, p_value, std_err = linregress(x, y)\n",
    "\n",
    "results_df.plot(x=\"year\", y=\"lexical\", kind=\"scatter\")\n",
    "\n",
    "plt.plot(x, intercept + slope*x, 'b:', label='fitted regression')\n",
    "\n",
    "plt.title(\"Stanford Opinions by year: LIWC Lexical Analysis\")\n",
    "plt.legend(loc='upper right')\n",
    "plt.ylim(min(y)*0.95, max(y)*1.05)\n",
    "plt.show()"
   ]
  },
  {
   "cell_type": "markdown",
   "metadata": {},
   "source": [
    "## Combined Diversity and Sentiment Analyses\n"
   ]
  },
  {
   "cell_type": "code",
   "execution_count": 38,
   "metadata": {},
   "outputs": [
    {
     "name": "stdout",
     "output_type": "stream",
     "text": [
      "\n",
      "mentions-norm metrics:\n",
      "  slope: 0.00227\n",
      "  95% CI: (-0.00215, 0.00669)\n",
      "  std error: 0.00206\n",
      "  p-value: 0.28908\n",
      "  r-value: 0.28251\n",
      "\n",
      "pairwise metrics:\n",
      "  slope: -0.00889\n",
      "  95% CI: (-0.01350, -0.00428)\n",
      "  std error: 0.00215\n",
      "  p-value: 0.00101\n",
      "  r-value: -0.74139\n",
      "\n",
      "vader metrics:\n",
      "  slope: -0.00233\n",
      "  95% CI: (-0.01027, 0.00561)\n",
      "  std error: 0.00370\n",
      "  p-value: 0.53908\n",
      "  r-value: -0.16594\n",
      "\n",
      "lexical metrics:\n",
      "  slope: 0.00035\n",
      "  95% CI: (-0.00171, 0.00241)\n",
      "  std error: 0.00096\n",
      "  p-value: 0.72122\n",
      "  r-value: 0.09685\n"
     ]
    },
    {
     "data": {
      "image/png": "[encoded data removed]",
      "text/plain": [
       "<Figure size 1600x400 with 4 Axes>"
      ]
     },
     "metadata": {},
     "output_type": "display_data"
    }
   ],
   "source": [
    "from scipy.stats import t\n",
    "\n",
    "# Select the columns to plot\n",
    "columns = [\"mentions-norm\", \"pairwise\", \"vader\", \"lexical\"]\n",
    "\n",
    "# Create a figure with subplots\n",
    "fig, axs = plt.subplots(nrows=1, ncols=len(columns), sharex=True, figsize=(16,4))\n",
    "\n",
    "# Loop through the columns and plot each one\n",
    "for ax, column in zip(axs, columns):\n",
    "    # Select the data for the current column\n",
    "    x = range(len(results_df.index))\n",
    "    y = results_df[column]\n",
    "     \n",
    "    # Calculate the linear regression\n",
    "    slope, intercept, r_value, p_value, std_err = linregress(x, y)\n",
    "    \n",
    "    # Calculate 95% confidence interval\n",
    "    confidence_level = 0.95\n",
    "    degrees_of_freedom = len(x) - 2\n",
    "    t_value = t.ppf((1 + confidence_level) / 2, degrees_of_freedom)\n",
    "    margin_of_error = t_value * std_err\n",
    "    ci_lower = slope - margin_of_error\n",
    "    ci_upper = slope + margin_of_error\n",
    "    \n",
    "    # Print comprehensive statistics\n",
    "    print(f\"\\n{column} metrics:\")\n",
    "    print(f\"  slope: {slope:.5f}\")\n",
    "    print(f\"  95% CI: ({ci_lower:.5f}, {ci_upper:.5f})\")\n",
    "    print(f\"  std error: {std_err:.5f}\")\n",
    "    print(f\"  p-value: {p_value:.5f}\")\n",
    "    print(f\"  r-value: {r_value:.5f}\")\n",
    "\n",
    "    # Plot the data and the linear regression line\n",
    "    results_df[column].plot(ax=ax, style=\".\", x=x, y=y, label=column)\n",
    "    ax.plot(x, intercept + slope*x, 'b:', label='regression')\n",
    "    ax.set_ylim(min(y)*0.9, max(y)*1.1)\n",
    "    # ax.set_ylim(0.0, 1.0)\n",
    "    \n",
    "    # Add a legend\n",
    "    ax.legend(loc='lower center')\n",
    "\n",
    "    # Add x-label for the years\n",
    "    ax.set_xticks(results_df.index)\n",
    "    ax.set_xticklabels(results_df.year)\n",
    "    ax.tick_params(axis='x', rotation=45)\n",
    "    \n",
    "plt.xlabel(\"Year\")\n",
    "plt.suptitle(\"Trending of Stanford Opinions: Diversity, Sentiment, and Lexical Analyses\")\n",
    "plt.tight_layout()\n",
    "plt.show()"
   ]
  },
  {
   "cell_type": "code",
   "execution_count": 39,
   "metadata": {},
   "outputs": [
    {
     "name": "stdout",
     "output_type": "stream",
     "text": [
      "Slope: -0.00889\n",
      "95% Confidence Interval: (-0.01350, -0.00428)\n",
      "Standard Error: 0.00215\n",
      "P-value: 0.00101\n"
     ]
    }
   ],
   "source": [
    "from scipy.stats import t, linregress\n",
    "\n",
    "x = results_df['year']\n",
    "y = results_df['pairwise']\n",
    "\n",
    "slope, intercept, r_value, p_value, std_err = linregress(x, y)\n",
    "\n",
    "confidence_level = 0.95\n",
    "degrees_of_freedom = len(x) - 2\n",
    "t_value = t.ppf((1 + confidence_level) / 2, degrees_of_freedom)\n",
    "\n",
    "margin_of_error = t_value * std_err\n",
    "\n",
    "ci_lower = slope - margin_of_error\n",
    "ci_upper = slope + margin_of_error\n",
    "\n",
    "print(f\"Slope: {slope:.5f}\")\n",
    "print(f\"95% Confidence Interval: ({ci_lower:.5f}, {ci_upper:.5f})\")\n",
    "print(f\"Standard Error: {std_err:.5f}\")\n",
    "print(f\"P-value: {p_value:.5f}\")"
   ]
  },
  {
   "cell_type": "markdown",
   "metadata": {},
   "source": [
    "## 4. VADER Sentiment Analysis\n",
    "\n",
    "First, you need to install the VADER sentiment analysis tool. If you're using Python, you can install it with the nltk (Natural Language Toolkit) library.\n"
   ]
  },
  {
   "cell_type": "code",
   "execution_count": 40,
   "metadata": {},
   "outputs": [
    {
     "name": "stderr",
     "output_type": "stream",
     "text": [
      "[nltk_data] Downloading package vader_lexicon to\n",
      "[nltk_data]     C:\\Users\\theod\\AppData\\Roaming\\nltk_data...\n",
      "[nltk_data]   Package vader_lexicon is already up-to-date!\n"
     ]
    }
   ],
   "source": [
    "import nltk\n",
    "nltk.download('vader_lexicon')\n",
    "from nltk.sentiment.vader import SentimentIntensityAnalyzer\n",
    "\n",
    "# Initialize the sentiment analyzer\n",
    "sia = SentimentIntensityAnalyzer()"
   ]
  },
  {
   "cell_type": "markdown",
   "metadata": {},
   "source": [
    "**Analyze the Sentiment of Text:**\n",
    "\n",
    "Once you have the SentimentIntensityAnalyzer instance, you can use the .polarity_scores() method to analyze the sentiment of a given text. This method returns a dictionary with the following scores:\n",
    "\n",
    "- positive: A score for the positive sentiment.\n",
    "- neutral: A score for the neutral sentiment.\n",
    "- negative: A score for the negative sentiment.\n",
    "- compound: The overall sentiment score, which is a normalized value between -1 (most negative) and +1 (most positive).\n"
   ]
  },
  {
   "cell_type": "code",
   "execution_count": 41,
   "metadata": {},
   "outputs": [],
   "source": [
    "results = []\n",
    "for year in range(START_YEAR, FINAL_YEAR+1):\n",
    "    year_df = df[df.year==year]\n",
    "    \n",
    "    clean_df, num_diversity_words = prepText(year_df.body)\n",
    "    # wv = get_batch_embeddings(clean_df)\n",
    "\n",
    "    # Calculate sentiment scores for each text and average them\n",
    "    pos_scores = []\n",
    "    neg_scores = []\n",
    "    neu_scores = []\n",
    "    compound_scores = []\n",
    "    \n",
    "    for text in clean_df:\n",
    "        sentiment_scores = sia.polarity_scores(text)\n",
    "        pos_scores.append(sentiment_scores['pos'])\n",
    "        neg_scores.append(sentiment_scores['neg'])\n",
    "        neu_scores.append(sentiment_scores['neu'])\n",
    "        compound_scores.append(sentiment_scores['compound'])\n",
    "    \n",
    "    result = {'year': year,\n",
    "              'pos': sum(pos_scores) / len(pos_scores),\n",
    "              'neg': sum(neg_scores) / len(neg_scores),\n",
    "              'neu': sum(neu_scores) / len(neu_scores),\n",
    "              'compound': sum(compound_scores) / len(compound_scores)}\n",
    "    \n",
    "    results.append(result)"
   ]
  },
  {
   "cell_type": "code",
   "execution_count": 42,
   "metadata": {},
   "outputs": [
    {
     "name": "stdout",
     "output_type": "stream",
     "text": [
      "year: 2009, pos: 0.23, neg: 0.20, neu: 0.57, compound: 0.03\n",
      "year: 2010, pos: 0.13, neg: 0.09, neu: 0.77, compound: 0.08\n",
      "year: 2011, pos: 0.10, neg: 0.09, neu: 0.81, compound: 0.04\n",
      "year: 2012, pos: 0.14, neg: 0.09, neu: 0.77, compound: 0.09\n",
      "year: 2013, pos: 0.13, neg: 0.09, neu: 0.78, compound: 0.08\n",
      "year: 2014, pos: 0.13, neg: 0.13, neu: 0.74, compound: -0.01\n",
      "year: 2015, pos: 0.16, neg: 0.14, neu: 0.70, compound: 0.04\n",
      "year: 2016, pos: 0.13, neg: 0.04, neu: 0.83, compound: 0.19\n",
      "year: 2017, pos: 0.09, neg: 0.11, neu: 0.80, compound: -0.06\n",
      "year: 2018, pos: 0.12, neg: 0.08, neu: 0.81, compound: 0.10\n",
      "year: 2019, pos: 0.08, neg: 0.09, neu: 0.83, compound: -0.03\n",
      "year: 2020, pos: 0.08, neg: 0.10, neu: 0.82, compound: -0.03\n",
      "year: 2021, pos: 0.07, neg: 0.09, neu: 0.84, compound: -0.05\n",
      "year: 2022, pos: 0.12, neg: 0.09, neu: 0.79, compound: 0.08\n",
      "year: 2023, pos: 0.12, neg: 0.08, neu: 0.79, compound: 0.10\n",
      "year: 2024, pos: 0.12, neg: 0.11, neu: 0.78, compound: 0.02\n"
     ]
    }
   ],
   "source": [
    "for result in results:\n",
    "    print(f\"year: {result['year']}, pos: {result['pos']:.2f}, neg: {result['neg']:.2f}, neu: {result['neu']:.2f}, compound: {result['compound']:.2f}\")"
   ]
  },
  {
   "cell_type": "code",
   "execution_count": 43,
   "metadata": {},
   "outputs": [
    {
     "name": "stdout",
     "output_type": "stream",
     "text": [
      "Regression results:\n",
      "Slope: -0.0023 (change in compound score per year)\n",
      "R-squared: 0.0275\n",
      "P-value: 0.5391\n"
     ]
    },
    {
     "data": {
      "image/png": "[encoded data removed]",
      "text/plain": [
       "<Figure size 1000x600 with 1 Axes>"
      ]
     },
     "metadata": {},
     "output_type": "display_data"
    }
   ],
   "source": [
    "import numpy as np\n",
    "from scipy import stats\n",
    "\n",
    "# First convert results list to a DataFrame for easier manipulation\n",
    "results_df = pd.DataFrame(results)\n",
    "\n",
    "# Create array of years since 2010\n",
    "base_year = 2010\n",
    "years_since_2010 = results_df['year'] - base_year\n",
    "\n",
    "# Get compound scores\n",
    "compound_scores = results_df['compound']\n",
    "\n",
    "# Calculate regression\n",
    "slope, intercept, r_value, p_value, std_err = stats.linregress(years_since_2010, compound_scores)\n",
    "\n",
    "print(f\"Regression results:\")\n",
    "print(f\"Slope: {slope:.4f} (change in compound score per year)\")\n",
    "print(f\"R-squared: {r_value**2:.4f}\")\n",
    "print(f\"P-value: {p_value:.4f}\")\n",
    "\n",
    "# Optional: Plot the regression line\n",
    "import matplotlib.pyplot as plt\n",
    "\n",
    "plt.figure(figsize=(10, 6))\n",
    "plt.scatter(years_since_2010, compound_scores, alpha=0.5)\n",
    "plt.plot(years_since_2010, intercept + slope * years_since_2010, 'r', \n",
    "         label=f'Slope = {slope:.4f}')\n",
    "plt.xlabel('Years since 2010')\n",
    "plt.ylabel('Compound Sentiment Score')\n",
    "plt.title('Sentiment Score Trend Over Time')\n",
    "plt.legend()\n",
    "plt.grid(True, alpha=0.3)\n",
    "plt.show()"
   ]
  },
  {
   "cell_type": "code",
   "execution_count": null,
   "metadata": {},
   "outputs": [],
   "source": []
  }
 ],
 "metadata": {
  "kernelspec": {
   "display_name": ".venv",
   "language": "python",
   "name": "python3"
  },
  "language_info": {
   "codemirror_mode": {
    "name": "ipython",
    "version": 3
   },
   "file_extension": ".py",
   "mimetype": "text/x-python",
   "name": "python",
   "nbconvert_exporter": "python",
   "pygments_lexer": "ipython3",
   "version": "3.11.9"
  }
 },
 "nbformat": 4,
 "nbformat_minor": 2
}
