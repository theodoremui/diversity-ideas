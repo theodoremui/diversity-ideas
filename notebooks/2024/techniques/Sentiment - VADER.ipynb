{
 "cells": [
  {
   "cell_type": "markdown",
   "metadata": {},
   "source": [
    "# VADER (Valence Aware Dictionary and sEntiment Reasoner)\n",
    "\n",
    "VADER stands for Valence Aware Dictionary and sEntiment Reasoner. It's a lexicon and rule-based sentiment analysis tool that is specifically designed for analyzing social media text, such as tweets, and other informal types of communication.\n"
   ]
  },
  {
   "cell_type": "markdown",
   "metadata": {},
   "source": [
    "First, you need to install the VADER sentiment analysis tool. If you're using Python, you can install it with the nltk (Natural Language Toolkit) library.\n"
   ]
  },
  {
   "cell_type": "code",
   "execution_count": 1,
   "metadata": {},
   "outputs": [
    {
     "name": "stderr",
     "output_type": "stream",
     "text": [
      "[nltk_data] Downloading package vader_lexicon to\n",
      "[nltk_data]     /Users/pmui/nltk_data...\n",
      "[nltk_data]   Package vader_lexicon is already up-to-date!\n"
     ]
    }
   ],
   "source": [
    "import nltk\n",
    "nltk.download('vader_lexicon')\n",
    "from nltk.sentiment.vader import SentimentIntensityAnalyzer\n",
    "\n",
    "# Initialize the sentiment analyzer\n",
    "sia = SentimentIntensityAnalyzer()\n"
   ]
  },
  {
   "cell_type": "markdown",
   "metadata": {},
   "source": [
    "Analyze the Sentiment of Text:\n",
    "Once you have the SentimentIntensityAnalyzer instance, you can use the .polarity_scores() method to analyze the sentiment of a given text. This method returns a dictionary with the following scores:\n",
    "\n",
    "- positive: A score for the positive sentiment.\n",
    "- neutral: A score for the neutral sentiment.\n",
    "- negative: A score for the negative sentiment.\n",
    "- compound: The overall sentiment score, which is a normalized value between -1 (most negative) and +1 (most positive).\n"
   ]
  },
  {
   "cell_type": "code",
   "execution_count": 2,
   "metadata": {},
   "outputs": [
    {
     "name": "stdout",
     "output_type": "stream",
     "text": [
      "Positive sentiment: 0.682\n",
      "Negative sentiment: 0.0\n",
      "Neutral sentiment: 0.318\n",
      "Compound sentiment: 0.8619\n"
     ]
    }
   ],
   "source": [
    "# example for a positive text\n",
    "text = \"I love this new phone! It's amazing!\"\n",
    "sentiment_scores = sia.polarity_scores(text)\n",
    "print(f\"Positive sentiment: {sentiment_scores['pos']}\")\n",
    "print(f\"Negative sentiment: {sentiment_scores['neg']}\")\n",
    "print(f\"Neutral sentiment: {sentiment_scores['neu']}\")\n",
    "print(f\"Compound sentiment: {sentiment_scores['compound']}\")\n",
    "\n"
   ]
  },
  {
   "cell_type": "code",
   "execution_count": 3,
   "metadata": {},
   "outputs": [
    {
     "name": "stdout",
     "output_type": "stream",
     "text": [
      "Positive sentiment: 0.0\n",
      "Negative sentiment: 0.649\n",
      "Neutral sentiment: 0.351\n",
      "Compound sentiment: -0.8118\n"
     ]
    }
   ],
   "source": [
    "# example for a negative text\n",
    "text = \"I hate this new phone! It's terrible!\"\n",
    "sentiment_scores = sia.polarity_scores(text)\n",
    "print(f\"Positive sentiment: {sentiment_scores['pos']}\")\n",
    "print(f\"Negative sentiment: {sentiment_scores['neg']}\")\n",
    "print(f\"Neutral sentiment: {sentiment_scores['neu']}\")\n",
    "print(f\"Compound sentiment: {sentiment_scores['compound']}\")"
   ]
  },
  {
   "cell_type": "code",
   "execution_count": 4,
   "metadata": {},
   "outputs": [
    {
     "name": "stdout",
     "output_type": "stream",
     "text": [
      "Positive sentiment: 0.0\n",
      "Negative sentiment: 0.246\n",
      "Neutral sentiment: 0.754\n",
      "Compound sentiment: -0.2411\n"
     ]
    }
   ],
   "source": [
    "# neutral text\n",
    "text = \"I'm not sure about this new phone.\"\n",
    "sentiment_scores = sia.polarity_scores(text)\n",
    "print(f\"Positive sentiment: {sentiment_scores['pos']}\")\n",
    "print(f\"Negative sentiment: {sentiment_scores['neg']}\")\n",
    "print(f\"Neutral sentiment: {sentiment_scores['neu']}\")\n",
    "print(f\"Compound sentiment: {sentiment_scores['compound']}\")"
   ]
  },
  {
   "cell_type": "markdown",
   "metadata": {},
   "source": [
    "## Advantages of VADER:\n",
    "\n",
    "- Simple and Fast: It doesn’t require a large corpus of labeled data like other machine learning-based models.\n",
    "- Handles Emojis and Slang: VADER is especially good at analyzing social media text, where people use a lot of informal language, emojis, and acronyms (e.g., \"LOL,\" \"OMG\").\n",
    "- Works Well with Short Texts: Since it was designed for social media, VADER performs well even on short, noisy texts like tweets.\n"
   ]
  },
  {
   "cell_type": "markdown",
   "metadata": {},
   "source": [
    "## Summary of Key Features:\n",
    "\n",
    "- It uses a pre-built dictionary of words associated with sentiments and applies grammatical rules to enhance sentiment detection.\n",
    "- VADER handles a variety of linguistic features, including capitalization (e.g., \"LOVE\" vs. \"love\"), punctuation (e.g., \"!!!\"), and emojis.\n",
    "- The compound score is normalized and combines all aspects of the sentiment into one measure, making it easy to classify the sentiment as positive, negative, or neutral.\n"
   ]
  }
 ],
 "metadata": {
  "kernelspec": {
   "display_name": ".venv",
   "language": "python",
   "name": "python3"
  },
  "language_info": {
   "codemirror_mode": {
    "name": "ipython",
    "version": 3
   },
   "file_extension": ".py",
   "mimetype": "text/x-python",
   "name": "python",
   "nbconvert_exporter": "python",
   "pygments_lexer": "ipython3",
   "version": "3.11.9"
  }
 },
 "nbformat": 4,
 "nbformat_minor": 2
}
