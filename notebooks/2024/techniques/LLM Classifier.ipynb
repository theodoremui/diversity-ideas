{
 "cells": [
  {
   "cell_type": "markdown",
   "metadata": {},
   "source": [
    "# LLM (Deepseek) Cynical Classification\n"
   ]
  },
  {
   "cell_type": "code",
   "execution_count": 1,
   "metadata": {},
   "outputs": [
    {
     "data": {
      "text/plain": [
       "True"
      ]
     },
     "execution_count": 1,
     "metadata": {},
     "output_type": "execute_result"
    }
   ],
   "source": [
    "from dotenv import load_dotenv, find_dotenv\n",
    "load_dotenv(find_dotenv())"
   ]
  },
  {
   "cell_type": "code",
   "execution_count": 47,
   "metadata": {},
   "outputs": [],
   "source": [
    "from pprint import pprint\n",
    "import json"
   ]
  },
  {
   "cell_type": "code",
   "execution_count": 4,
   "metadata": {},
   "outputs": [],
   "source": [
    "import os\n",
    "from llama_index.core import (\n",
    "    Settings, \n",
    "    SimpleDirectoryReader, \n",
    "    VectorStoreIndex,\n",
    "    StorageContext,\n",
    "    load_index_from_storage\n",
    ")\n",
    "from llama_index.core.prompts import PromptTemplate\n",
    "from llama_index.embeddings.ollama import OllamaEmbedding\n",
    "from llama_index.llms.ollama import Ollama"
   ]
  },
  {
   "cell_type": "code",
   "execution_count": 32,
   "metadata": {},
   "outputs": [],
   "source": [
    "# ollama = Ollama(model=\"deepseek-r1:7b\", json_mode=True, temperature=0.0)\n",
    "ollama = Ollama(model=\"llama3.2:3b-instruct-q8_0\", json_mode=True, temperature=0.0)\n",
    "ollama.system_prompt=(\n",
    "    \"You are a helpful assistant that always responds with valid JSON matching the requested structure.\"\n",
    ")\n"
   ]
  },
  {
   "cell_type": "markdown",
   "metadata": {},
   "source": [
    "The `CynicalClassification` class has a bool `is_cynical` and `reason` fields.\n",
    "Adds mft_analysis dictionary to score each relevant moral foundation.\n",
    "Includes primary_foundation to identify the dominant moral foundation.\n",
    "Adds foundation_explanation to provide specific context about how the primary foundation manifests in the text.\n"
   ]
  },
  {
   "cell_type": "code",
   "execution_count": 33,
   "metadata": {},
   "outputs": [],
   "source": [
    "from pydantic.v1 import BaseModel, Field\n",
    "from typing import Dict\n",
    "\n",
    "class CynicalClassification(BaseModel):\n",
    "    is_cynical: bool\n",
    "    reason: str\n",
    "    mft_analysis: Dict[str, float] = Field(\n",
    "        default_factory=lambda: {\n",
    "            \"authority_subversion\": 0.0,   # Degree of authority skepticism (0-1)\n",
    "            \"loyalty_betrayal\": 0.0,       # Degree of perceived betrayal (0-1)\n",
    "            \"fairness_cheating\": 0.0,      # Degree of perceived unfairness (0-1)\n",
    "        }\n",
    "    )\n",
    "    primary_foundation: str = Field(default=\"\")     # Dominant moral foundation driving cynicism\n",
    "    foundation_explanation: str = Field(default=\"\") # Explanation of how the primary foundation manifests"
   ]
  },
  {
   "cell_type": "code",
   "execution_count": 44,
   "metadata": {},
   "outputs": [],
   "source": [
    "CYNICISM_CLASSIFICATION_PROMPT = PromptTemplate(\n",
    "    template=\"\"\"\n",
    "    You are an expert in cynical classification using Moral Foundations Theory (MFT).\n",
    "    Analyze the text for cynicism through three moral foundations:\n",
    "    1. Authority/Subversion: Skepticism of institutional power, questioning authority\n",
    "    2. Loyalty/Betrayal: Sense of institutional or ideological betrayal\n",
    "    3. Fairness/Cheating: Perceived injustices and inequities\n",
    "\n",
    "    For each foundation, provide a score from 0.0 (not present) to 1.0 (strongly present).\n",
    "    Identify the primary moral foundation driving any cynicism.\n",
    "\n",
    "    Text to analyze: {text}\n",
    "\n",
    "    Provide your analysis in the following JSON structure. Return only valid JSON:\n",
    "    {{{{\n",
    "        \"is_cynical\": true/false,\n",
    "        \"reason\": \"explanation for the classification\",\n",
    "        \"mft_analysis\": {{{{\n",
    "            \"authority_subversion\": 0.0,\n",
    "            \"loyalty_betrayal\": 0.0,\n",
    "            \"fairness_cheating\": 0.0\n",
    "        }}}},\n",
    "        \"primary_foundation\": \"name of the dominant foundation\",\n",
    "        \"foundation_explanation\": \"explanation of how the primary foundation manifests\"\n",
    "    }}}}\n",
    "    \"\"\"\n",
    ")\n"
   ]
  },
  {
   "cell_type": "code",
   "execution_count": 45,
   "metadata": {},
   "outputs": [],
   "source": [
    "sllm = ollama.as_structured_llm(output_cls=CynicalClassification)"
   ]
  },
  {
   "cell_type": "code",
   "execution_count": 51,
   "metadata": {},
   "outputs": [],
   "source": [
    "def classify_text_cynicism(text):\n",
    "    response = sllm.complete(CYNICISM_CLASSIFICATION_PROMPT.format(text=text))\n",
    "    return json.loads(response.text)"
   ]
  },
  {
   "cell_type": "code",
   "execution_count": 52,
   "metadata": {},
   "outputs": [
    {
     "name": "stdout",
     "output_type": "stream",
     "text": [
      "{ 'foundation_explanation': 'The primary moral foundation driving cynicism is '\n",
      "                            'the skepticism towards institutional power, as '\n",
      "                            \"evident in the statement 'they are not there to \"\n",
      "                            \"protect the people', which questions the \"\n",
      "                            'authority of the police.',\n",
      "  'is_cynical': True,\n",
      "  'mft_analysis': { 'authority_subversion': 1.0,\n",
      "                    'fairness_cheating': 0.0,\n",
      "                    'loyalty_betrayal': 0.0},\n",
      "  'primary_foundation': 'Authority/Subversion',\n",
      "  'reason': 'The text expresses skepticism towards institutional power, '\n",
      "            'questioning the authority of the police.'}\n"
     ]
    }
   ],
   "source": [
    "text = \"The police are corrupt and they are not there to protect the people.\"\n",
    "pprint(classify_text_cynicism(text), indent=2)"
   ]
  },
  {
   "cell_type": "code",
   "execution_count": 53,
   "metadata": {},
   "outputs": [
    {
     "name": "stdout",
     "output_type": "stream",
     "text": [
      "{ 'foundation_explanation': 'The text mentions that the administration is '\n",
      "                            'treating new immigrants unfairly, indicating a '\n",
      "                            'perceived injustice and inequity, which is a '\n",
      "                            'strong manifestation of the Fairness/Cheating '\n",
      "                            'moral foundation.',\n",
      "  'is_cynical': True,\n",
      "  'mft_analysis': { 'authority_subversion': 0.0,\n",
      "                    'fairness_cheating': 1.0,\n",
      "                    'loyalty_betrayal': 0.0},\n",
      "  'primary_foundation': 'Fairness/Cheating',\n",
      "  'reason': 'The text expresses a sentiment of perceived injustice and '\n",
      "            'inequity towards new immigrants, indicating a strong presence of '\n",
      "            'cynicism.'}\n"
     ]
    }
   ],
   "source": [
    "text = \"The way the adminstration is treating new immigrants is unfair.\"\n",
    "pprint(classify_text_cynicism(text), indent=2)"
   ]
  },
  {
   "cell_type": "code",
   "execution_count": 54,
   "metadata": {},
   "outputs": [
    {
     "name": "stdout",
     "output_type": "stream",
     "text": [
      "{ 'foundation_explanation': 'The text expresses skepticism towards '\n",
      "                            'institutional power, questioning authority in the '\n",
      "                            \"administration's treatment of Gazans after the \"\n",
      "                            'election.',\n",
      "  'is_cynical': True,\n",
      "  'mft_analysis': { 'authority_subversion': 0.8,\n",
      "                    'fairness_cheating': 0.0,\n",
      "                    'loyalty_betrayal': 0.2},\n",
      "  'primary_foundation': 'Authority/Subversion',\n",
      "  'reason': 'The text expresses skepticism towards institutional power, '\n",
      "            \"questioning authority in the administration's treatment of Gazans \"\n",
      "            'after the election.'}\n"
     ]
    }
   ],
   "source": [
    "text = \"Arab Americans are dismayed by the way the administration has betrayed them after the election.\"\n",
    "pprint(classify_text_cynicism(text), indent=2)"
   ]
  }
 ],
 "metadata": {
  "kernelspec": {
   "display_name": ".venv",
   "language": "python",
   "name": "python3"
  },
  "language_info": {
   "codemirror_mode": {
    "name": "ipython",
    "version": 3
   },
   "file_extension": ".py",
   "mimetype": "text/x-python",
   "name": "python",
   "nbconvert_exporter": "python",
   "pygments_lexer": "ipython3",
   "version": "3.11.9"
  }
 },
 "nbformat": 4,
 "nbformat_minor": 2
}
