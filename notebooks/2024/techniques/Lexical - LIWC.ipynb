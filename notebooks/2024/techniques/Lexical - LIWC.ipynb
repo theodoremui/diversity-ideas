{
 "cells": [
  {
   "cell_type": "markdown",
   "metadata": {},
   "source": [
    "# Lexical Analysis: LIWC\n",
    "\n",
    "LIWC (Linguistic Inquiry and Word Count) has categories for negativity, anger, anxiety, and certainty that can indirectly capture cynical language.\n",
    "\n",
    "Words related to doubt (e.g., “skeptical,” “dishonest”), corruption (e.g., “manipulative,” “deceit”), and power imbalance (e.g., “elite,” “rigged”) can be analyzed.\n"
   ]
  },
  {
   "cell_type": "markdown",
   "metadata": {},
   "source": [
    "## Setup\n"
   ]
  },
  {
   "cell_type": "code",
   "execution_count": 1,
   "metadata": {},
   "outputs": [
    {
     "name": "stderr",
     "output_type": "stream",
     "text": [
      "[nltk_data] Downloading package punkt to /Users/pmui/nltk_data...\n",
      "[nltk_data]   Package punkt is already up-to-date!\n",
      "[nltk_data] Downloading package punkt_tab to /Users/pmui/nltk_data...\n",
      "[nltk_data]   Package punkt_tab is already up-to-date!\n"
     ]
    },
    {
     "data": {
      "text/plain": [
       "True"
      ]
     },
     "execution_count": 1,
     "metadata": {},
     "output_type": "execute_result"
    }
   ],
   "source": [
    "import pandas as pd\n",
    "import nltk\n",
    "from nltk.tokenize import word_tokenize\n",
    "from collections import Counter\n",
    "nltk.download('punkt')\n",
    "nltk.download('punkt_tab')"
   ]
  },
  {
   "cell_type": "markdown",
   "metadata": {},
   "source": [
    "## Define Cynicism-Related LIWC Word Categories\n",
    "\n",
    "Since LIWC is proprietary, we can create custom categories that align with mistrust, negativity, and power imbalance:\n"
   ]
  },
  {
   "cell_type": "code",
   "execution_count": 19,
   "metadata": {},
   "outputs": [],
   "source": [
    "# Define LIWC-style categories for cynicism analysis\n",
    "liwc_cynicism = {\n",
    "    \"skepticism\": {\"skeptical\", \"dishonest\", \"untrustworthy\", \"suspicious\", \"questionable\"},\n",
    "    \"mistrust\": {\"skeptical\", \"dishonest\", \"untrustworthy\", \"suspicious\", \"questionable\"},\n",
    "    \"questionable\": {\"skeptical\", \"dishonest\", \"untrustworthy\", \"suspicious\", \"questionable\"},\n",
    "    \"dishonesty\": {\"dishonest\", \"deceit\", \"corrupt\", \"fraudulent\", \"scandal\"},\n",
    "    \"manipulation\": {\"manipulative\", \"deceit\", \"corrupt\", \"fraudulent\", \"scandal\"},\n",
    "    \"deceit\": {\"deceit\", \"corrupt\", \"fraudulent\", \"scandal\"},\n",
    "    \"fraud\": {\"fraudulent\", \"scandal\", \"manipulative\", \"deceit\", \"corrupt\"},\n",
    "    \"rigged\": {\"rigged\", \"fake\", \"fraud\", \"deceit\", \"corrupt\"},\n",
    "    \"doubt\": {\"skeptical\", \"dishonest\", \"untrustworthy\", \"suspicious\", \"questionable\"},\n",
    "    \"corruption\": {\"manipulative\", \"deceit\", \"corrupt\", \"fraudulent\", \"scandal\"},\n",
    "    \"power_imbalance\": {\"elite\", \"rigged\", \"oppressed\", \"exploited\", \"authoritarian\"},\n",
    "    \"negativity\": {\"bad\", \"worst\", \"failure\", \"hopeless\", \"disaster\"},\n",
    "    \"anger\": {\"angry\", \"furious\", \"outraged\", \"hate\", \"resentful\"},\n",
    "    \"anxiety\": {\"worried\", \"fear\", \"concerned\", \"nervous\", \"insecure\"},\n",
    "    \"certainty\": {\"obvious\", \"definitely\", \"undeniable\", \"clearly\", \"absolute\"}\n",
    "}"
   ]
  },
  {
   "cell_type": "markdown",
   "metadata": {},
   "source": [
    "## Create a Function to Compute LIWC Scores\n",
    "\n",
    "This function tokenizes each text, checks for the presence of predefined LIWC words, and computes their frequency:\n"
   ]
  },
  {
   "cell_type": "code",
   "execution_count": 20,
   "metadata": {},
   "outputs": [],
   "source": [
    "def liwc_analysis(text):\n",
    "    tokens = word_tokenize(text.lower())  # Tokenize and lowercase\n",
    "    word_counts = Counter(tokens)  # Count word frequencies\n",
    "    \n",
    "    liwc_scores = {category: sum(word_counts[word] for word in words) for category, words in liwc_cynicism.items()}\n",
    "    \n",
    "    total_words = sum(word_counts.values())\n",
    "    if total_words > 0:\n",
    "        liwc_scores = {category: round(count / total_words, 4) for category, count in liwc_scores.items()}  # Normalize by total words\n",
    "    \n",
    "    return liwc_scores\n"
   ]
  },
  {
   "cell_type": "markdown",
   "metadata": {},
   "source": [
    "## Apply Analysis to a DataFrame\n",
    "\n",
    "Assume you have a DataFrame df with a column \"text\" containing different texts:\n"
   ]
  },
  {
   "cell_type": "code",
   "execution_count": 21,
   "metadata": {},
   "outputs": [],
   "source": [
    "# Sample DataFrame with texts\n",
    "data = {\n",
    "    \"text\": [\n",
    "        \"The government is rigged and corrupt, and the elite exploit the weak.\",\n",
    "        \"I feel worried about the future, and the situation seems hopeless.\",\n",
    "        \"They are dishonest and manipulative. It’s obvious that the system is broken.\",\n",
    "        \"I trust the process and believe things will get better.\"\n",
    "    ]\n",
    "}\n",
    "\n",
    "df = pd.DataFrame(data)\n",
    "\n",
    "# Apply the LIWC analysis function to each text\n",
    "df[\"liwc_scores\"] = df[\"text\"].apply(liwc_analysis)"
   ]
  },
  {
   "cell_type": "code",
   "execution_count": 22,
   "metadata": {},
   "outputs": [],
   "source": [
    "# Expand the dictionary into separate columns\n",
    "liwc_df = df.join(pd.json_normalize(df[\"liwc_scores\"])).drop(columns=[\"liwc_scores\"])"
   ]
  },
  {
   "cell_type": "code",
   "execution_count": 23,
   "metadata": {},
   "outputs": [
    {
     "name": "stdout",
     "output_type": "stream",
     "text": [
      "LIWC Cynicism Analysis:\n"
     ]
    },
    {
     "data": {
      "text/html": [
       "<div>\n",
       "<style scoped>\n",
       "    .dataframe tbody tr th:only-of-type {\n",
       "        vertical-align: middle;\n",
       "    }\n",
       "\n",
       "    .dataframe tbody tr th {\n",
       "        vertical-align: top;\n",
       "    }\n",
       "\n",
       "    .dataframe thead th {\n",
       "        text-align: right;\n",
       "    }\n",
       "</style>\n",
       "<table border=\"1\" class=\"dataframe\">\n",
       "  <thead>\n",
       "    <tr style=\"text-align: right;\">\n",
       "      <th></th>\n",
       "      <th>text</th>\n",
       "      <th>skepticism</th>\n",
       "      <th>mistrust</th>\n",
       "      <th>questionable</th>\n",
       "      <th>dishonesty</th>\n",
       "      <th>manipulation</th>\n",
       "      <th>deceit</th>\n",
       "      <th>fraud</th>\n",
       "      <th>rigged</th>\n",
       "      <th>doubt</th>\n",
       "      <th>corruption</th>\n",
       "      <th>power_imbalance</th>\n",
       "      <th>negativity</th>\n",
       "      <th>anger</th>\n",
       "      <th>anxiety</th>\n",
       "      <th>certainty</th>\n",
       "    </tr>\n",
       "  </thead>\n",
       "  <tbody>\n",
       "    <tr>\n",
       "      <th>0</th>\n",
       "      <td>The government is rigged and corrupt, and the ...</td>\n",
       "      <td>0.0000</td>\n",
       "      <td>0.0000</td>\n",
       "      <td>0.0000</td>\n",
       "      <td>0.0714</td>\n",
       "      <td>0.0714</td>\n",
       "      <td>0.0714</td>\n",
       "      <td>0.0714</td>\n",
       "      <td>0.1429</td>\n",
       "      <td>0.0000</td>\n",
       "      <td>0.0714</td>\n",
       "      <td>0.1429</td>\n",
       "      <td>0.0000</td>\n",
       "      <td>0.0</td>\n",
       "      <td>0.0000</td>\n",
       "      <td>0.0000</td>\n",
       "    </tr>\n",
       "    <tr>\n",
       "      <th>1</th>\n",
       "      <td>I feel worried about the future, and the situa...</td>\n",
       "      <td>0.0000</td>\n",
       "      <td>0.0000</td>\n",
       "      <td>0.0000</td>\n",
       "      <td>0.0000</td>\n",
       "      <td>0.0000</td>\n",
       "      <td>0.0000</td>\n",
       "      <td>0.0000</td>\n",
       "      <td>0.0000</td>\n",
       "      <td>0.0000</td>\n",
       "      <td>0.0000</td>\n",
       "      <td>0.0000</td>\n",
       "      <td>0.0769</td>\n",
       "      <td>0.0</td>\n",
       "      <td>0.0769</td>\n",
       "      <td>0.0000</td>\n",
       "    </tr>\n",
       "    <tr>\n",
       "      <th>2</th>\n",
       "      <td>They are dishonest and manipulative. It’s obvi...</td>\n",
       "      <td>0.0625</td>\n",
       "      <td>0.0625</td>\n",
       "      <td>0.0625</td>\n",
       "      <td>0.0625</td>\n",
       "      <td>0.0625</td>\n",
       "      <td>0.0000</td>\n",
       "      <td>0.0625</td>\n",
       "      <td>0.0000</td>\n",
       "      <td>0.0625</td>\n",
       "      <td>0.0625</td>\n",
       "      <td>0.0000</td>\n",
       "      <td>0.0000</td>\n",
       "      <td>0.0</td>\n",
       "      <td>0.0000</td>\n",
       "      <td>0.0625</td>\n",
       "    </tr>\n",
       "    <tr>\n",
       "      <th>3</th>\n",
       "      <td>I trust the process and believe things will ge...</td>\n",
       "      <td>0.0000</td>\n",
       "      <td>0.0000</td>\n",
       "      <td>0.0000</td>\n",
       "      <td>0.0000</td>\n",
       "      <td>0.0000</td>\n",
       "      <td>0.0000</td>\n",
       "      <td>0.0000</td>\n",
       "      <td>0.0000</td>\n",
       "      <td>0.0000</td>\n",
       "      <td>0.0000</td>\n",
       "      <td>0.0000</td>\n",
       "      <td>0.0000</td>\n",
       "      <td>0.0</td>\n",
       "      <td>0.0000</td>\n",
       "      <td>0.0000</td>\n",
       "    </tr>\n",
       "  </tbody>\n",
       "</table>\n",
       "</div>"
      ],
      "text/plain": [
       "                                                text  skepticism  mistrust  \\\n",
       "0  The government is rigged and corrupt, and the ...      0.0000    0.0000   \n",
       "1  I feel worried about the future, and the situa...      0.0000    0.0000   \n",
       "2  They are dishonest and manipulative. It’s obvi...      0.0625    0.0625   \n",
       "3  I trust the process and believe things will ge...      0.0000    0.0000   \n",
       "\n",
       "   questionable  dishonesty  manipulation  deceit   fraud  rigged   doubt  \\\n",
       "0        0.0000      0.0714        0.0714  0.0714  0.0714  0.1429  0.0000   \n",
       "1        0.0000      0.0000        0.0000  0.0000  0.0000  0.0000  0.0000   \n",
       "2        0.0625      0.0625        0.0625  0.0000  0.0625  0.0000  0.0625   \n",
       "3        0.0000      0.0000        0.0000  0.0000  0.0000  0.0000  0.0000   \n",
       "\n",
       "   corruption  power_imbalance  negativity  anger  anxiety  certainty  \n",
       "0      0.0714           0.1429      0.0000    0.0   0.0000     0.0000  \n",
       "1      0.0000           0.0000      0.0769    0.0   0.0769     0.0000  \n",
       "2      0.0625           0.0000      0.0000    0.0   0.0000     0.0625  \n",
       "3      0.0000           0.0000      0.0000    0.0   0.0000     0.0000  "
      ]
     },
     "metadata": {},
     "output_type": "display_data"
    }
   ],
   "source": [
    "print(\"LIWC Cynicism Analysis:\")\n",
    "display(liwc_df)"
   ]
  },
  {
   "cell_type": "markdown",
   "metadata": {},
   "source": [
    "Each row in the output DataFrame contains:\n",
    "\n",
    "LIWC-based scores for cynicism indicators (e.g., negativity, doubt, corruption, anger)\n"
   ]
  },
  {
   "cell_type": "markdown",
   "metadata": {},
   "source": [
    "## Summarizing LIWC with a Cynicism Score\n"
   ]
  },
  {
   "cell_type": "code",
   "execution_count": 26,
   "metadata": {},
   "outputs": [
    {
     "data": {
      "text/plain": [
       "{'anger',\n",
       " 'anxiety',\n",
       " 'certainty',\n",
       " 'corruption',\n",
       " 'deceit',\n",
       " 'dishonesty',\n",
       " 'doubt',\n",
       " 'fraud',\n",
       " 'manipulation',\n",
       " 'mistrust',\n",
       " 'negativity',\n",
       " 'power_imbalance',\n",
       " 'questionable',\n",
       " 'rigged',\n",
       " 'skepticism'}"
      ]
     },
     "execution_count": 26,
     "metadata": {},
     "output_type": "execute_result"
    }
   ],
   "source": [
    "liwc_cynicism.keys() - \"certainty\""
   ]
  },
  {
   "cell_type": "code",
   "execution_count": 27,
   "metadata": {},
   "outputs": [],
   "source": [
    "def compute_cynicism_score(row):\n",
    "    # Extract LIWC values from each row\n",
    "    cynicism_categories = liwc_cynicism.keys() - \"certainty\"\n",
    "    certainty_weight = 1  # Certainty is subtracted\n",
    "    \n",
    "    # Compute the score as an average of all categories, subtracting certainty\n",
    "    cynicism_score = (sum(row[category] for category in cynicism_categories) - certainty_weight * row[\"certainty\"]) / len(cynicism_categories)\n",
    "    \n",
    "    return round(cynicism_score, 4)  # Rounded for clarity"
   ]
  },
  {
   "cell_type": "code",
   "execution_count": 29,
   "metadata": {},
   "outputs": [
    {
     "data": {
      "text/html": [
       "<div>\n",
       "<style scoped>\n",
       "    .dataframe tbody tr th:only-of-type {\n",
       "        vertical-align: middle;\n",
       "    }\n",
       "\n",
       "    .dataframe tbody tr th {\n",
       "        vertical-align: top;\n",
       "    }\n",
       "\n",
       "    .dataframe thead th {\n",
       "        text-align: right;\n",
       "    }\n",
       "</style>\n",
       "<table border=\"1\" class=\"dataframe\">\n",
       "  <thead>\n",
       "    <tr style=\"text-align: right;\">\n",
       "      <th></th>\n",
       "      <th>text</th>\n",
       "      <th>skepticism</th>\n",
       "      <th>mistrust</th>\n",
       "      <th>questionable</th>\n",
       "      <th>dishonesty</th>\n",
       "      <th>manipulation</th>\n",
       "      <th>deceit</th>\n",
       "      <th>fraud</th>\n",
       "      <th>rigged</th>\n",
       "      <th>doubt</th>\n",
       "      <th>corruption</th>\n",
       "      <th>power_imbalance</th>\n",
       "      <th>negativity</th>\n",
       "      <th>anger</th>\n",
       "      <th>anxiety</th>\n",
       "      <th>certainty</th>\n",
       "      <th>cynicism_score</th>\n",
       "      <th>cynicism_lexical</th>\n",
       "    </tr>\n",
       "  </thead>\n",
       "  <tbody>\n",
       "    <tr>\n",
       "      <th>0</th>\n",
       "      <td>The government is rigged and corrupt, and the ...</td>\n",
       "      <td>0.0000</td>\n",
       "      <td>0.0000</td>\n",
       "      <td>0.0000</td>\n",
       "      <td>0.0714</td>\n",
       "      <td>0.0714</td>\n",
       "      <td>0.0714</td>\n",
       "      <td>0.0714</td>\n",
       "      <td>0.1429</td>\n",
       "      <td>0.0000</td>\n",
       "      <td>0.0714</td>\n",
       "      <td>0.1429</td>\n",
       "      <td>0.0000</td>\n",
       "      <td>0.0</td>\n",
       "      <td>0.0000</td>\n",
       "      <td>0.0000</td>\n",
       "      <td>0.0429</td>\n",
       "      <td>0.0429</td>\n",
       "    </tr>\n",
       "    <tr>\n",
       "      <th>1</th>\n",
       "      <td>I feel worried about the future, and the situa...</td>\n",
       "      <td>0.0000</td>\n",
       "      <td>0.0000</td>\n",
       "      <td>0.0000</td>\n",
       "      <td>0.0000</td>\n",
       "      <td>0.0000</td>\n",
       "      <td>0.0000</td>\n",
       "      <td>0.0000</td>\n",
       "      <td>0.0000</td>\n",
       "      <td>0.0000</td>\n",
       "      <td>0.0000</td>\n",
       "      <td>0.0000</td>\n",
       "      <td>0.0769</td>\n",
       "      <td>0.0</td>\n",
       "      <td>0.0769</td>\n",
       "      <td>0.0000</td>\n",
       "      <td>0.0103</td>\n",
       "      <td>0.0103</td>\n",
       "    </tr>\n",
       "    <tr>\n",
       "      <th>2</th>\n",
       "      <td>They are dishonest and manipulative. It’s obvi...</td>\n",
       "      <td>0.0625</td>\n",
       "      <td>0.0625</td>\n",
       "      <td>0.0625</td>\n",
       "      <td>0.0625</td>\n",
       "      <td>0.0625</td>\n",
       "      <td>0.0000</td>\n",
       "      <td>0.0625</td>\n",
       "      <td>0.0000</td>\n",
       "      <td>0.0625</td>\n",
       "      <td>0.0625</td>\n",
       "      <td>0.0000</td>\n",
       "      <td>0.0000</td>\n",
       "      <td>0.0</td>\n",
       "      <td>0.0000</td>\n",
       "      <td>0.0625</td>\n",
       "      <td>0.0333</td>\n",
       "      <td>0.0333</td>\n",
       "    </tr>\n",
       "    <tr>\n",
       "      <th>3</th>\n",
       "      <td>I trust the process and believe things will ge...</td>\n",
       "      <td>0.0000</td>\n",
       "      <td>0.0000</td>\n",
       "      <td>0.0000</td>\n",
       "      <td>0.0000</td>\n",
       "      <td>0.0000</td>\n",
       "      <td>0.0000</td>\n",
       "      <td>0.0000</td>\n",
       "      <td>0.0000</td>\n",
       "      <td>0.0000</td>\n",
       "      <td>0.0000</td>\n",
       "      <td>0.0000</td>\n",
       "      <td>0.0000</td>\n",
       "      <td>0.0</td>\n",
       "      <td>0.0000</td>\n",
       "      <td>0.0000</td>\n",
       "      <td>0.0000</td>\n",
       "      <td>0.0000</td>\n",
       "    </tr>\n",
       "  </tbody>\n",
       "</table>\n",
       "</div>"
      ],
      "text/plain": [
       "                                                text  skepticism  mistrust  \\\n",
       "0  The government is rigged and corrupt, and the ...      0.0000    0.0000   \n",
       "1  I feel worried about the future, and the situa...      0.0000    0.0000   \n",
       "2  They are dishonest and manipulative. It’s obvi...      0.0625    0.0625   \n",
       "3  I trust the process and believe things will ge...      0.0000    0.0000   \n",
       "\n",
       "   questionable  dishonesty  manipulation  deceit   fraud  rigged   doubt  \\\n",
       "0        0.0000      0.0714        0.0714  0.0714  0.0714  0.1429  0.0000   \n",
       "1        0.0000      0.0000        0.0000  0.0000  0.0000  0.0000  0.0000   \n",
       "2        0.0625      0.0625        0.0625  0.0000  0.0625  0.0000  0.0625   \n",
       "3        0.0000      0.0000        0.0000  0.0000  0.0000  0.0000  0.0000   \n",
       "\n",
       "   corruption  power_imbalance  negativity  anger  anxiety  certainty  \\\n",
       "0      0.0714           0.1429      0.0000    0.0   0.0000     0.0000   \n",
       "1      0.0000           0.0000      0.0769    0.0   0.0769     0.0000   \n",
       "2      0.0625           0.0000      0.0000    0.0   0.0000     0.0625   \n",
       "3      0.0000           0.0000      0.0000    0.0   0.0000     0.0000   \n",
       "\n",
       "   cynicism_score  cynicism_lexical  \n",
       "0          0.0429            0.0429  \n",
       "1          0.0103            0.0103  \n",
       "2          0.0333            0.0333  \n",
       "3          0.0000            0.0000  "
      ]
     },
     "metadata": {},
     "output_type": "display_data"
    }
   ],
   "source": [
    "# Apply the function to compute the Cynicism Score\n",
    "liwc_df[\"cynicism_lexical\"] = liwc_df.apply(compute_cynicism_score, axis=1)\n",
    "\n",
    "display(liwc_df)"
   ]
  },
  {
   "cell_type": "markdown",
   "metadata": {},
   "source": [
    "## Statistical Goodness of Fit for the Summary Score\n",
    "\n",
    "To ensure the robustness of the cynicism score, we need a goodness-of-fit measure that evaluates how well the summary score represents the underlying LIWC components.\n",
    "\n",
    "Here are some goodness-of-fit approaches:\n",
    "\n",
    "(A) Cronbach’s Alpha (Reliability Measure)\n",
    "Measures internal consistency (how well the LIWC categories correlate as a single scale).\n",
    "If α > 0.7, the categories are reliable in measuring cynicism.\n",
    "\n",
    "(B) Principal Component Analysis (PCA) – Dimensionality Reduction\n",
    "If one principal component explains most of the variance (>70%), then the cynicism score is well-represented by the combined LIWC categories.\n",
    "\n",
    "(C) Spearman’s Rank Correlation\n",
    "Measures the monotonic relationship between the summary score and each LIWC component.\n",
    "High Spearman (ρ > 0.5) means the score faithfully captures cynical language.\n"
   ]
  },
  {
   "cell_type": "code",
   "execution_count": 30,
   "metadata": {},
   "outputs": [
    {
     "data": {
      "text/plain": [
       "{'anger',\n",
       " 'anxiety',\n",
       " 'certainty',\n",
       " 'corruption',\n",
       " 'deceit',\n",
       " 'dishonesty',\n",
       " 'doubt',\n",
       " 'fraud',\n",
       " 'manipulation',\n",
       " 'mistrust',\n",
       " 'negativity',\n",
       " 'power_imbalance',\n",
       " 'questionable',\n",
       " 'rigged',\n",
       " 'skepticism'}"
      ]
     },
     "execution_count": 30,
     "metadata": {},
     "output_type": "execute_result"
    }
   ],
   "source": [
    "liwc_cynicism.keys() - \"certainty\""
   ]
  },
  {
   "cell_type": "markdown",
   "metadata": {},
   "source": [
    "### Cronbach’s Alpha\n"
   ]
  },
  {
   "cell_type": "markdown",
   "metadata": {},
   "source": [
    "- If α > 0.7 → Score is reliable\n",
    "- If α < 0.7 → May need better weighting or additional categories\n"
   ]
  },
  {
   "cell_type": "code",
   "execution_count": 32,
   "metadata": {},
   "outputs": [
    {
     "name": "stdout",
     "output_type": "stream",
     "text": [
      "Cronbach's Alpha: 0.7918\n"
     ]
    }
   ],
   "source": [
    "def cronbach_alpha(df):\n",
    "    \"\"\"Compute Cronbach's Alpha for internal consistency of LIWC categories.\"\"\"\n",
    "    items = df[liwc_cynicism.keys()]\n",
    "    item_vars = items.var(axis=0, ddof=1)\n",
    "    total_var = items.sum(axis=1).var(ddof=1)\n",
    "    n = items.shape[1]\n",
    "    return (n / (n - 1)) * (1 - sum(item_vars) / total_var)\n",
    "\n",
    "# Compute Cronbach’s Alpha\n",
    "alpha = cronbach_alpha(liwc_df)\n",
    "print(f\"Cronbach's Alpha: {alpha:.4f}\")"
   ]
  },
  {
   "cell_type": "markdown",
   "metadata": {},
   "source": [
    "### PCA – How Much of the Variance is Captured by the Score?\n",
    "\n",
    "If PCA explains > 70% variance → Summary score is a good fit.\n"
   ]
  },
  {
   "cell_type": "code",
   "execution_count": 38,
   "metadata": {},
   "outputs": [
    {
     "name": "stdout",
     "output_type": "stream",
     "text": [
      "Variance Explained by 1st Principal Component: 0.5419\n"
     ]
    }
   ],
   "source": [
    "from sklearn.decomposition import PCA\n",
    "from sklearn.preprocessing import StandardScaler\n",
    "\n",
    "# Standardize data\n",
    "scaler = StandardScaler()\n",
    "liwc_scaled = scaler.fit_transform(liwc_df[liwc_cynicism.keys()])\n",
    "\n",
    "# Run PCA\n",
    "pca = PCA(n_components=1)\n",
    "pca.fit(liwc_scaled)\n",
    "\n",
    "explained_variance = pca.explained_variance_ratio_[0]\n",
    "print(f\"Variance Explained by 1st Principal Component: {explained_variance:.4f}\")\n"
   ]
  },
  {
   "cell_type": "markdown",
   "metadata": {},
   "source": [
    "### Spearman’s Correlation Between LIWC Features and the Summary Score\n",
    "\n",
    "If |ρ| > 0.5 → Strong correlation, meaning the score effectively summarizes cynicism.\n"
   ]
  },
  {
   "cell_type": "code",
   "execution_count": 40,
   "metadata": {},
   "outputs": [
    {
     "name": "stdout",
     "output_type": "stream",
     "text": [
      "Spearman’s Rank Correlation with Cynicism Score:\n",
      "skepticism: 0.2582\n",
      "mistrust: 0.2582\n",
      "questionable: 0.2582\n",
      "dishonesty: 0.9487\n",
      "manipulation: 0.9487\n",
      "deceit: 0.7746\n",
      "fraud: 0.9487\n",
      "rigged: 0.7746\n",
      "doubt: 0.2582\n",
      "corruption: 0.9487\n",
      "power_imbalance: 0.7746\n",
      "negativity: -0.2582\n",
      "anger: nan\n",
      "anxiety: -0.2582\n",
      "certainty: 0.2582\n"
     ]
    },
    {
     "name": "stderr",
     "output_type": "stream",
     "text": [
      "/var/folders/9v/753h998178382xkzg96v6mwr0000gn/T/ipykernel_44353/3715912928.py:3: ConstantInputWarning: An input array is constant; the correlation coefficient is not defined.\n",
      "  correlations = {col: spearmanr(liwc_df[col], liwc_df[\"cynicism_lexical\"])[0] for col in liwc_cynicism.keys()}\n"
     ]
    }
   ],
   "source": [
    "from scipy.stats import spearmanr\n",
    "\n",
    "correlations = {col: spearmanr(liwc_df[col], liwc_df[\"cynicism_lexical\"])[0] for col in liwc_cynicism.keys()}\n",
    "print(\"Spearman’s Rank Correlation with Cynicism Score:\")\n",
    "for category, corr in correlations.items():\n",
    "    print(f\"{category}: {corr:.4f}\")"
   ]
  }
 ],
 "metadata": {
  "kernelspec": {
   "display_name": ".venv",
   "language": "python",
   "name": "python3"
  },
  "language_info": {
   "codemirror_mode": {
    "name": "ipython",
    "version": 3
   },
   "file_extension": ".py",
   "mimetype": "text/x-python",
   "name": "python",
   "nbconvert_exporter": "python",
   "pygments_lexer": "ipython3",
   "version": "3.11.9"
  }
 },
 "nbformat": 4,
 "nbformat_minor": 2
}
