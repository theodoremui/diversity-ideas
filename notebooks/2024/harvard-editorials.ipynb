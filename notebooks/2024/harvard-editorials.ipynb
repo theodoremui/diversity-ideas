{
 "cells": [
  {
   "cell_type": "markdown",
   "metadata": {},
   "source": [
    "# Diversity of Ideas: Harvard Editorials\n"
   ]
  },
  {
   "cell_type": "markdown",
   "metadata": {},
   "source": [
    "## 1. Setup\n"
   ]
  },
  {
   "cell_type": "code",
   "execution_count": 1,
   "metadata": {},
   "outputs": [
    {
     "data": {
      "text/plain": [
       "True"
      ]
     },
     "execution_count": 1,
     "metadata": {},
     "output_type": "execute_result"
    }
   ],
   "source": [
    "from dotenv import load_dotenv, find_dotenv\n",
    "load_dotenv(find_dotenv())"
   ]
  },
  {
   "cell_type": "code",
   "execution_count": 2,
   "metadata": {},
   "outputs": [
    {
     "name": "stderr",
     "output_type": "stream",
     "text": [
      "[nltk_data] Downloading package punkt to /Users/pmui/nltk_data...\n",
      "[nltk_data]   Package punkt is already up-to-date!\n",
      "[nltk_data] Downloading package punkt_tab to /Users/pmui/nltk_data...\n",
      "[nltk_data]   Package punkt_tab is already up-to-date!\n"
     ]
    }
   ],
   "source": [
    "import pandas as pd\n",
    "import nltk\n",
    "from nltk.tokenize import word_tokenize\n",
    "from collections import Counter\n",
    "nltk.download('punkt')\n",
    "nltk.download('punkt_tab')\n",
    "from util.ouraws import (\n",
    "    getFromFile\n",
    ")"
   ]
  },
  {
   "cell_type": "code",
   "execution_count": 3,
   "metadata": {},
   "outputs": [
    {
     "data": {
      "text/plain": [
       "'/Users/pmui/SynologyDrive/research/diversity-ideas/notebooks/2024'"
      ]
     },
     "execution_count": 3,
     "metadata": {},
     "output_type": "execute_result"
    }
   ],
   "source": [
    "%pwd"
   ]
  },
  {
   "cell_type": "code",
   "execution_count": 4,
   "metadata": {},
   "outputs": [
    {
     "data": {
      "text/plain": [
       "(2055, 6)"
      ]
     },
     "execution_count": 4,
     "metadata": {},
     "output_type": "execute_result"
    }
   ],
   "source": [
    "df = getFromFile(\"../../data/harvard-editorials.parquet\", False)\n",
    "df.shape\n"
   ]
  },
  {
   "cell_type": "code",
   "execution_count": 5,
   "metadata": {},
   "outputs": [
    {
     "data": {
      "text/html": [
       "<div>\n",
       "<style scoped>\n",
       "    .dataframe tbody tr th:only-of-type {\n",
       "        vertical-align: middle;\n",
       "    }\n",
       "\n",
       "    .dataframe tbody tr th {\n",
       "        vertical-align: top;\n",
       "    }\n",
       "\n",
       "    .dataframe thead th {\n",
       "        text-align: right;\n",
       "    }\n",
       "</style>\n",
       "<table border=\"1\" class=\"dataframe\">\n",
       "  <thead>\n",
       "    <tr style=\"text-align: right;\">\n",
       "      <th></th>\n",
       "      <th>title</th>\n",
       "      <th>url</th>\n",
       "      <th>body</th>\n",
       "      <th>year</th>\n",
       "      <th>month</th>\n",
       "      <th>day</th>\n",
       "    </tr>\n",
       "  </thead>\n",
       "  <tbody>\n",
       "    <tr>\n",
       "      <th>0</th>\n",
       "      <td>The Legacy of Slavery at Harvard</td>\n",
       "      <td>https://www.thecrimson.com/article/2022/5/9/ed...</td>\n",
       "      <td>The Legacy of Slavery at Harvard\\nBy The Crims...</td>\n",
       "      <td>2022</td>\n",
       "      <td>5</td>\n",
       "      <td>1</td>\n",
       "    </tr>\n",
       "    <tr>\n",
       "      <th>1</th>\n",
       "      <td>Pakistan Underwater</td>\n",
       "      <td>https://www.thecrimson.com/article/2022/9/15/e...</td>\n",
       "      <td>Pakistan Underwater\\nStudents from the Pakista...</td>\n",
       "      <td>2022</td>\n",
       "      <td>9</td>\n",
       "      <td>1</td>\n",
       "    </tr>\n",
       "    <tr>\n",
       "      <th>2</th>\n",
       "      <td>House Life, the Crown Jewel of the College, Ne...</td>\n",
       "      <td>https://www.thecrimson.com/article/2022/9/8/le...</td>\n",
       "      <td>House Life, the Crown Jewel of the College, Ne...</td>\n",
       "      <td>2022</td>\n",
       "      <td>9</td>\n",
       "      <td>1</td>\n",
       "    </tr>\n",
       "    <tr>\n",
       "      <th>3</th>\n",
       "      <td>Roe is the Canary in the Coal Mine</td>\n",
       "      <td>https://www.thecrimson.com/article/2022/6/30/r...</td>\n",
       "      <td>Roe is the Canary in the Coal Mine\\nBy Miles J...</td>\n",
       "      <td>2022</td>\n",
       "      <td>6</td>\n",
       "      <td>1</td>\n",
       "    </tr>\n",
       "  </tbody>\n",
       "</table>\n",
       "</div>"
      ],
      "text/plain": [
       "                                               title  \\\n",
       "0                   The Legacy of Slavery at Harvard   \n",
       "1                                Pakistan Underwater   \n",
       "2  House Life, the Crown Jewel of the College, Ne...   \n",
       "3                 Roe is the Canary in the Coal Mine   \n",
       "\n",
       "                                                 url  \\\n",
       "0  https://www.thecrimson.com/article/2022/5/9/ed...   \n",
       "1  https://www.thecrimson.com/article/2022/9/15/e...   \n",
       "2  https://www.thecrimson.com/article/2022/9/8/le...   \n",
       "3  https://www.thecrimson.com/article/2022/6/30/r...   \n",
       "\n",
       "                                                body  year  month  day  \n",
       "0  The Legacy of Slavery at Harvard\\nBy The Crims...  2022      5    1  \n",
       "1  Pakistan Underwater\\nStudents from the Pakista...  2022      9    1  \n",
       "2  House Life, the Crown Jewel of the College, Ne...  2022      9    1  \n",
       "3  Roe is the Canary in the Coal Mine\\nBy Miles J...  2022      6    1  "
      ]
     },
     "execution_count": 5,
     "metadata": {},
     "output_type": "execute_result"
    }
   ],
   "source": [
    "df.head(4)"
   ]
  },
  {
   "cell_type": "markdown",
   "metadata": {},
   "source": [
    "## 2. Function Definitions\n"
   ]
  },
  {
   "cell_type": "code",
   "execution_count": 6,
   "metadata": {},
   "outputs": [],
   "source": [
    "import numpy as np\n",
    "import re"
   ]
  },
  {
   "cell_type": "code",
   "execution_count": 7,
   "metadata": {},
   "outputs": [],
   "source": [
    "def getCovDispersion(wv):\n",
    "    \"\"\"\n",
    "    Calculate various dispersion measures using the covariance matrix of word vectors.\n",
    "    \n",
    "    Args:\n",
    "        wv: numpy array of shape (n_documents, embedding_dim) containing document embeddings\n",
    "        \n",
    "    Returns:\n",
    "        tuple containing:\n",
    "        - N: number of documents\n",
    "        - trace_norm: average variance along the diagonal\n",
    "        - l1_norm: L1 norm of covariance matrix (normalized)\n",
    "        - l2_norm: L2 norm of covariance matrix (normalized)\n",
    "        - inf_norm: Infinity norm of covariance matrix (normalized)\n",
    "    \"\"\"\n",
    "    # Get number of documents\n",
    "    N = len(wv)\n",
    "    \n",
    "    # Calculate covariance matrix of the word vectors\n",
    "    # This measures how dimensions vary together across documents\n",
    "    cov = np.cov(wv)\n",
    "    \n",
    "    return (\n",
    "        N,  # Number of documents\n",
    "        np.trace(cov)/N,  # Average variance along diagonal (spread in each dimension)\n",
    "        np.linalg.norm(cov, ord=1)/N,  # L1 norm (sum of absolute values)\n",
    "        np.linalg.norm(cov, ord=2)/N,  # L2/Spectral norm (largest singular value)\n",
    "        np.linalg.norm(cov, ord=np.inf)/N,  # Infinity norm (max absolute row sum)\n",
    "    )\n",
    "\n",
    "def cosine_distance(v1, v2):\n",
    "    \"\"\"Calculate the cosine distance between two numpy arrays.\n",
    "    \n",
    "    Parameters:\n",
    "    a (numpy array): First input array.\n",
    "    b (numpy array): Second input array.\n",
    "    \n",
    "    Returns:\n",
    "    float: Cosine distance between a and b.\n",
    "    \"\"\"\n",
    "    a = np.array(v1, dtype=np.float64)\n",
    "    b = np.array(v2, dtype=np.float64)\n",
    "    # Calculate dot product and magnitudes of the input arrays\n",
    "    dot   = np.dot(a, b)\n",
    "    a_mag = np.linalg.norm(a)\n",
    "    b_mag = np.linalg.norm(b)\n",
    "    \n",
    "    if np.isclose(a_mag, 0, rtol=1e-9, atol=1e-12):\n",
    "        print(f\"a_mag is very small: {a_mag}\")\n",
    "    if np.isclose(b_mag, 0, rtol=1e-9, atol=1e-12):\n",
    "        print(f\"b_mag is very small: {b_mag}\")\n",
    "    \n",
    "    # Calculate and return the cosine distance\n",
    "    return 1.0 - (dot / (a_mag * b_mag))\n",
    "\n",
    "def getPairwiseDispersion(wv, measure):\n",
    "    if len(wv) <= 1: return 0.0\n",
    "    distance = 0.0\n",
    "    vec = wv[0]\n",
    "    for v in wv[1:]:\n",
    "        distance += measure(vec, v)\n",
    "        # print(f\"\\tcos_distance: {measure(vec, v)}\")\n",
    "    return distance + getPairwiseDispersion(wv[1:], measure)\n",
    "\n",
    "def getNormalizedPairwiseDispersion(wv, measure):\n",
    "    '''Normalize the dispersion by (N-Choose-2) number of pairs'''\n",
    "    N = len(wv)\n",
    "    return getPairwiseDispersion(wv, measure) / (N * (N-1)/2.)"
   ]
  },
  {
   "cell_type": "code",
   "execution_count": 8,
   "metadata": {},
   "outputs": [],
   "source": [
    "diversity_words = [\n",
    "    'diversity', \n",
    "    'equity',\n",
    "    'inclusion',\n",
    "    'inclusive',\n",
    "    'inclusivity',\n",
    "    'equality', \n",
    "    'equal opportunity',\n",
    "    'social justice',\n",
    "    'racial justice', \n",
    "    'multi-cultural', \n",
    "    'multicultural',\n",
    "    'intercultural',\n",
    "    'intersectional',\n",
    "    'intersectionality',\n",
    "    'anti-discrimination'\n",
    "]"
   ]
  },
  {
   "cell_type": "code",
   "execution_count": 9,
   "metadata": {},
   "outputs": [
    {
     "name": "stderr",
     "output_type": "stream",
     "text": [
      "[nltk_data] Downloading package wordnet to /Users/pmui/nltk_data...\n",
      "[nltk_data]   Package wordnet is already up-to-date!\n"
     ]
    }
   ],
   "source": [
    "import nltk\n",
    "nltk.download('wordnet')\n",
    "from nltk.stem import WordNetLemmatizer\n",
    "lemmatizer = WordNetLemmatizer()"
   ]
  },
  {
   "cell_type": "code",
   "execution_count": 10,
   "metadata": {},
   "outputs": [
    {
     "data": {
      "text/plain": [
       "['diversity',\n",
       " 'equity',\n",
       " 'inclusion',\n",
       " 'inclusive',\n",
       " 'inclusivity',\n",
       " 'equality',\n",
       " 'equal opportunity',\n",
       " 'social justice',\n",
       " 'racial justice',\n",
       " 'multi-cultural',\n",
       " 'multicultural',\n",
       " 'intercultural',\n",
       " 'intersectional',\n",
       " 'intersectionality',\n",
       " 'anti-discrimination']"
      ]
     },
     "execution_count": 10,
     "metadata": {},
     "output_type": "execute_result"
    }
   ],
   "source": [
    "diversity_lemmas = [lemmatizer.lemmatize(w) for w in diversity_words]\n",
    "diversity_lemmas"
   ]
  },
  {
   "cell_type": "code",
   "execution_count": 11,
   "metadata": {},
   "outputs": [],
   "source": [
    "diversity_pattern = \"|\".join(diversity_lemmas)"
   ]
  },
  {
   "cell_type": "markdown",
   "metadata": {},
   "source": [
    "Let's verify how the \"count\" of diversity words in the text is calculated.\n"
   ]
  },
  {
   "cell_type": "code",
   "execution_count": 12,
   "metadata": {},
   "outputs": [
    {
     "data": {
      "text/plain": [
       "3"
      ]
     },
     "execution_count": 12,
     "metadata": {},
     "output_type": "execute_result"
    }
   ],
   "source": [
    "text = \"This is a multicultural organization that advocates for diversity and racial justice.\"\n",
    "len(re.findall(diversity_pattern, text))"
   ]
  },
  {
   "cell_type": "markdown",
   "metadata": {},
   "source": [
    "### Cynicism related declarations\n"
   ]
  },
  {
   "cell_type": "code",
   "execution_count": 13,
   "metadata": {},
   "outputs": [
    {
     "data": {
      "text/plain": [
       "['skepticism',\n",
       " 'mistrust',\n",
       " 'questionable',\n",
       " 'dishonesty',\n",
       " 'manipulation',\n",
       " 'corruption',\n",
       " 'negativity']"
      ]
     },
     "execution_count": 13,
     "metadata": {},
     "output_type": "execute_result"
    }
   ],
   "source": [
    "# Define LIWC-style categories for cynicism analysis\n",
    "liwc_cynicism = {\n",
    "    \"skepticism\": {\"skeptical\", \"doubtful\", \"unconvinced\", \"uncertain\", \"wary\", \"dubious\"},\n",
    "    \"mistrust\": {\"untrustworthy\", \"suspicious\", \"distrustful\", \"unreliable\", \"shady\", \"rigged\", \"lying\"},\n",
    "    \"questionable\": {\"questionable\", \"dubious\", \"problematic\", \"concerning\", \"suspect\"},\n",
    "    \"dishonesty\": {\"dishonest\", \"lie\", \"lying\", \"deceptive\", \"misleading\", \"false\", \"fake\"},\n",
    "    \"manipulation\": {\"manipulative\", \"coercive\", \"exploitative\", \"calculated\", \"scheming\"},\n",
    "    \"corruption\": {\"corrupt\", \"bribed\", \"compromised\", \"unethical\", \"crooked\", \"lying\"},\n",
    "    \"negativity\": {\"bad\", \"worse\", \"worst\", \"terrible\", \"awful\", \"disastrous\", \"weird\"},\n",
    "    \"certainty\": {\"obviously\", \"definitely\", \"certainly\", \"undoubtedly\", \"absolutely\", \"clearly\"}\n",
    "}\n",
    "\n",
    "liwc_cynicism_keys = [key for key in liwc_cynicism if key != \"certainty\"]\n",
    "liwc_cynicism_keys"
   ]
  },
  {
   "cell_type": "code",
   "execution_count": 14,
   "metadata": {},
   "outputs": [],
   "source": [
    "def liwc_analysis(text):\n",
    "    \"\"\"Analyze text using LIWC-style categories for cynicism.\"\"\"\n",
    "    tokens = [token.lower() for token in word_tokenize(text) \n",
    "              if token.isalnum()]  # Only include alphanumeric tokens\n",
    "    word_counts = Counter(tokens)\n",
    "    total_words = sum(word_counts.values())\n",
    "    \n",
    "    # Initialize scores dict with all categories\n",
    "    liwc_scores = {category: 0 for category in liwc_cynicism.keys()}\n",
    "    \n",
    "    # Count matches for each category\n",
    "    for category, words in liwc_cynicism.items():\n",
    "        category_count = sum(word_counts[word] for word in words if word in word_counts)\n",
    "        if total_words > 0:\n",
    "            liwc_scores[category] = round(category_count / total_words, 4)\n",
    "    \n",
    "    # Debug print\n",
    "    # print(\"LIWC categories found:\", list(liwc_scores.keys()))\n",
    "    \n",
    "    return liwc_scores"
   ]
  },
  {
   "cell_type": "code",
   "execution_count": 15,
   "metadata": {},
   "outputs": [],
   "source": [
    "def compute_cynicism_score(row):\n",
    "    \"\"\"Compute cynicism score from LIWC categories.\"\"\"\n",
    "    # Create a set of categories excluding 'certainty'\n",
    "    cynicism_categories = set(liwc_cynicism.keys()) - {'certainty'}\n",
    "    certainty_weight = 1\n",
    "    \n",
    "    # Debug print\n",
    "    # print(\"Available columns:\", row.index.tolist())\n",
    "    # print(\"Looking for categories:\", list(cynicism_categories))\n",
    "    \n",
    "    # Check if all required categories exist\n",
    "    missing_categories = [cat for cat in cynicism_categories if cat not in row.index]\n",
    "    if missing_categories:\n",
    "        print(f\"Missing categories: {missing_categories}\")\n",
    "        return 0.0\n",
    "    \n",
    "    try:\n",
    "        cynicism_score = (sum(row[category] for category in cynicism_categories) - \n",
    "                         certainty_weight * row[\"certainty\"]) / len(cynicism_categories)\n",
    "        return round(cynicism_score, 4)\n",
    "    except Exception as e:\n",
    "        print(f\"Error computing cynicism score: {e}\")\n",
    "        print(f\"Row data: {row}\")\n",
    "        return 0.0"
   ]
  },
  {
   "cell_type": "code",
   "execution_count": 16,
   "metadata": {},
   "outputs": [],
   "source": [
    "def cronbach_alpha(df):\n",
    "    \"\"\"Compute Cronbach's Alpha for internal consistency of LIWC categories.\"\"\"\n",
    "    # items = df[liwc_cynicism_keys]\n",
    "    items = df[liwc_cynicism.keys()]\n",
    "    item_vars = items.var(axis=0, ddof=1)\n",
    "    total_var = items.sum(axis=1).var(ddof=1)\n",
    "    n = items.shape[1]\n",
    "    return (n / (n - 1)) * (1 - sum(item_vars) / total_var)"
   ]
  },
  {
   "cell_type": "markdown",
   "metadata": {},
   "source": [
    "## 3. LLM Cynicism MFT Analysis\n",
    "\n",
    "LLM-based cynicism Moral Foundation Theory Analysis\n"
   ]
  },
  {
   "cell_type": "code",
   "execution_count": 17,
   "metadata": {},
   "outputs": [],
   "source": [
    "import json\n",
    "import os\n",
    "import pprint\n",
    "from pydantic.v1 import BaseModel, Field\n",
    "from typing import Dict\n",
    "\n",
    "from llama_index.core import (\n",
    "    Settings, \n",
    "    SimpleDirectoryReader, \n",
    "    VectorStoreIndex,\n",
    "    StorageContext,\n",
    "    load_index_from_storage\n",
    ")\n",
    "from llama_index.core.prompts import PromptTemplate\n",
    "from llama_index.embeddings.ollama import OllamaEmbedding\n",
    "from llama_index.llms.ollama import Ollama"
   ]
  },
  {
   "cell_type": "code",
   "execution_count": 18,
   "metadata": {},
   "outputs": [],
   "source": [
    "class MFTAnalysis(BaseModel):\n",
    "    authority_subversion: float = Field(\n",
    "        default=0.0,\n",
    "        description=\"Degree of authority skepticism (0.0 to 1.0). Higher values indicate stronger skepticism towards institutional power.\"\n",
    "    )\n",
    "    loyalty_betrayal: float = Field(\n",
    "        default=0.0,\n",
    "        description=\"Degree of perceived betrayal (0.0 to 1.0). Higher values indicate a stronger sense of betrayal or disloyalty towards institutions.\"\n",
    "    )\n",
    "    fairness_injustice: float = Field(\n",
    "        default=0.0,\n",
    "        description=\"Degree of perceived unfairness (0.0 to 1.0). Higher values indicate stronger feelings of injustice or perceived injustice.\"\n",
    "    )\n",
    "\n",
    "class CynicalClassification(BaseModel):\n",
    "    is_cynical: bool\n",
    "    reason: str\n",
    "    mft_analysis: MFTAnalysis = Field(default_factory=MFTAnalysis)\n",
    "    primary_foundation: str = Field(\n",
    "        default=\"\",\n",
    "        description=\"Dominant moral foundation driving cynicism.\"\n",
    "    )\n",
    "    foundation_explanation: str = Field(\n",
    "        default=\"\",\n",
    "        description=\"Explanation of how the primary moral foundation manifests in the classification.\"\n",
    "    )"
   ]
  },
  {
   "cell_type": "code",
   "execution_count": 19,
   "metadata": {},
   "outputs": [],
   "source": [
    "CYNICISM_CLASSIFICATION_PROMPT = PromptTemplate(\n",
    "    template=\"\"\"\n",
    "You are an expert in cynical classification using Moral Foundations Theory (MFT).\n",
    "Analyze the text for cynicism through three moral foundations:\n",
    "1. Authority/Subversion: Skepticism of institutional power, questioning authority\n",
    "2. Loyalty/Betrayal: Sense of institutional or ideological betrayal\n",
    "3. Fairness/Injustice: Perceived injustices and inequities\n",
    "\n",
    "For each foundation, provide a score between 0.0 (not present) and 1.0 (strongly present).\n",
    "Identify the primary moral foundation driving any cynicism.\n",
    "\n",
    "## Text to analyze\n",
    "\n",
    "Text: {text}\n",
    "\n",
    "## Output Format\n",
    "You must provide your analysis in a valid JSON structure. Return only valid JSON:\n",
    "\n",
    "Here is an example of a response about a non-cynical text:\n",
    "{{{{\n",
    "    \"is_cynical\": False,\n",
    "    \"reason\": \"explanation for the classification\",\n",
    "    \"mft_analysis\": {{{{\n",
    "        \"authority_subversion\": 0.1,\n",
    "        \"loyalty_betrayal\": 0.1,\n",
    "        \"fairness_injustice\": 0.2\n",
    "    }}}},\n",
    "    \"primary_foundation\": \"name of the dominant foundation\",\n",
    "    \"foundation_explanation\": \"explanation of how the primary foundation manifests\"\n",
    "}}}}\n",
    "\n",
    "Here is an example of cynical judgement about a text:\n",
    "{{{{\n",
    "    \"is_cynical\": True,\n",
    "    \"reason\": \"explanation for the classification\",\n",
    "    \"mft_analysis\": {{{{\n",
    "        \"authority_subversion\": 0.1,\n",
    "        \"loyalty_betrayal\": 0.9,\n",
    "        \"fairness_injustice\": 0.1\n",
    "    }}}},\n",
    "    \"primary_foundation\": \"name of the dominant foundation\",\n",
    "    \"foundation_explanation\": \"explanation of how the primary foundation manifests\"\n",
    "}}}}\n",
    "\"\"\"\n",
    ")"
   ]
  },
  {
   "cell_type": "code",
   "execution_count": 20,
   "metadata": {},
   "outputs": [],
   "source": [
    "# ollama = Ollama(model=\"deepseek-r1:7b\", json_mode=True, temperature=0.0)\n",
    "ollama = Ollama(model=\"llama3.2:3b-instruct-q8_0\", json_mode=True, temperature=0.0, timeout=240)\n",
    "ollama.system_prompt=(\n",
    "    \"You are a helpful assistant that always responds with valid JSON matching the requested structure.\"\n",
    ")\n",
    "sllm = ollama.as_structured_llm(output_cls=CynicalClassification, timeout=240)"
   ]
  },
  {
   "cell_type": "code",
   "execution_count": 21,
   "metadata": {},
   "outputs": [],
   "source": [
    "from llama_index.llms.openai import OpenAI\n",
    "gpt4omini = OpenAI(model=\"gpt-4o-mini\", temperature=0.0)\n",
    "gpt4omini.system_prompt=(\n",
    "    \"You are a helpful assistant that always responds with valid JSON matching the requested structure.\"\n",
    ")\n",
    "gpt4omini_sllm = gpt4omini.as_structured_llm(output_cls=CynicalClassification, timeout=120)"
   ]
  },
  {
   "cell_type": "code",
   "execution_count": 22,
   "metadata": {},
   "outputs": [],
   "source": [
    "def classify_text_cynicism(text) -> CynicalClassification:\n",
    "    \"\"\"\n",
    "    Process a single text and return a CynicalClassification.\n",
    "    \"\"\"\n",
    "    try:\n",
    "        # Add a more explicit prompt to encourage tool usage\n",
    "        formatted_prompt = CYNICISM_CLASSIFICATION_PROMPT.format(\n",
    "            text=text[:1000]  # Limit text length to avoid token limits\n",
    "        )\n",
    "        response = gpt4omini_sllm.complete(formatted_prompt)\n",
    "        return response.raw\n",
    "    except ValueError as e:\n",
    "        # Fallback values if tool calls fail\n",
    "        return CynicalClassification(\n",
    "            is_cynical=False,\n",
    "            reason=\"Error processing text\",\n",
    "            mft_analysis=MFTAnalysis(\n",
    "                authority_subversion=0.0,\n",
    "                loyalty_betrayal=0.0,\n",
    "                fairness_injustice=0.0\n",
    "            ),\n",
    "            primary_foundation=\"none\",\n",
    "            foundation_explanation=\"Error in processing\"\n",
    "        )"
   ]
  },
  {
   "cell_type": "code",
   "execution_count": 23,
   "metadata": {},
   "outputs": [],
   "source": [
    "def printCynicalClassification(judgement: CynicalClassification):\n",
    "    print(f\"is_cynical: {judgement.is_cynical}\")\n",
    "    print(f\"reason: {judgement.reason}\")\n",
    "    print(f\"mft_analysis: {judgement.mft_analysis}\")"
   ]
  },
  {
   "cell_type": "code",
   "execution_count": 24,
   "metadata": {},
   "outputs": [
    {
     "name": "stdout",
     "output_type": "stream",
     "text": [
      "is_cynical: True\n",
      "reason: The text expresses a strong distrust of the police, indicating a belief in their corruption and failure to protect the community, which reflects a cynical view of authority.\n",
      "mft_analysis: authority_subversion=0.9 loyalty_betrayal=0.8 fairness_injustice=0.7\n"
     ]
    }
   ],
   "source": [
    "text = \"The police are corrupt and they are not there to protect the people.\"\n",
    "judgement = classify_text_cynicism(text)\n",
    "printCynicalClassification(judgement=judgement)"
   ]
  },
  {
   "cell_type": "code",
   "execution_count": 25,
   "metadata": {},
   "outputs": [
    {
     "name": "stdout",
     "output_type": "stream",
     "text": [
      "is_cynical: False\n",
      "reason: The text expresses a neutral sentiment about enjoying the neighborhood without any indication of skepticism towards authority, feelings of betrayal, or perceived injustices.\n",
      "mft_analysis: authority_subversion=0.0 loyalty_betrayal=0.0 fairness_injustice=0.0\n"
     ]
    }
   ],
   "source": [
    "text = \"We like going around theneighborhood.\"\n",
    "judgement = classify_text_cynicism(text)\n",
    "printCynicalClassification(judgement=judgement)"
   ]
  },
  {
   "cell_type": "markdown",
   "metadata": {},
   "source": [
    "## 4. Diversity Analysis\n"
   ]
  },
  {
   "cell_type": "code",
   "execution_count": 40,
   "metadata": {},
   "outputs": [],
   "source": [
    "from openai import OpenAI\n",
    "from typing import List, Tuple\n",
    "import numpy as np\n",
    "client = OpenAI()"
   ]
  },
  {
   "cell_type": "code",
   "execution_count": 28,
   "metadata": {},
   "outputs": [],
   "source": [
    "def get_embedding(text: str) -> List[float]:\n",
    "    \"\"\"\n",
    "    Get embeddings for a single text using text-embedding-3-large model.\n",
    "    \n",
    "    Args:\n",
    "        text (str): The input text to generate embeddings for\n",
    "        \n",
    "    Returns:\n",
    "        List[float]: The embedding vector\n",
    "    \"\"\"\n",
    "    response = client.embeddings.create(\n",
    "        model=\"text-embedding-3-large\",\n",
    "        input=text,\n",
    "        dimensions=1024  # Optional: You can specify 256, 512, or 1024 dimensions\n",
    "    )\n",
    "    return response.data[0].embedding\n",
    "\n",
    "\n",
    "def get_batch_embeddings(texts: List[str]) -> List[List[float]]:\n",
    "    \"\"\"\n",
    "    Get embeddings for multiple texts in a single API call.\n",
    "    \n",
    "    Args:\n",
    "        texts (List[str]): List of input texts to generate embeddings for\n",
    "        \n",
    "    Returns:\n",
    "        List[List[float]]: List of embedding vectors\n",
    "    \"\"\"\n",
    "    \n",
    "    responses = []\n",
    "    try:\n",
    "        response = client.embeddings.create(\n",
    "            model=\"text-embedding-3-large\",\n",
    "            input=texts,\n",
    "            dimensions=1024\n",
    "        )\n",
    "        responses = [item.embedding for item in response.data]\n",
    "    except Exception as e:\n",
    "        # texts is too long for a single API call\n",
    "        for text in texts:\n",
    "            response = client.embeddings.create(\n",
    "                model=\"text-embedding-3-large\",\n",
    "                input=text,\n",
    "                dimensions=1024\n",
    "            )\n",
    "            responses.append(response.data[0].embedding)\n",
    "    return responses"
   ]
  },
  {
   "cell_type": "code",
   "execution_count": 29,
   "metadata": {},
   "outputs": [
    {
     "name": "stderr",
     "output_type": "stream",
     "text": [
      "[nltk_data] Downloading package stopwords to /Users/pmui/nltk_data...\n",
      "[nltk_data]   Package stopwords is already up-to-date!\n"
     ]
    }
   ],
   "source": [
    "nltk.download('stopwords')\n",
    "from nltk.corpus import stopwords"
   ]
  },
  {
   "cell_type": "code",
   "execution_count": 30,
   "metadata": {},
   "outputs": [],
   "source": [
    "english_stopwords = stopwords.words('english')\n",
    "def prepText(text_series):\n",
    "    # Step 1: Clean and normalize each text in the series\n",
    "    # - Convert to lowercase\n",
    "    # - Lemmatize each word (convert to base form)\n",
    "    # - Remove stopwords\n",
    "    # - Join words back together with spaces\n",
    "    text_series = text_series.apply(\n",
    "        lambda x: \" \".join(lemmatizer.lemmatize(w.lower()) for w in x.split()\n",
    "                           if w not in english_stopwords))\n",
    "    \n",
    "    # Step 2: Filter out short texts\n",
    "    # Remove any text less than 100 characters as they're likely too short for meaningful analysis\n",
    "    text_series = text_series.apply(lambda x: x if len(x) > 100 else None)\n",
    "    \n",
    "    # Step 3: Remove any null values created by the previous step\n",
    "    text_series = text_series.dropna()\n",
    "    \n",
    "    # Step 4: Count diversity-related terms\n",
    "    # Sum up all instances of diversity-related words (defined in diversity_pattern)\n",
    "    # across all remaining texts in the series\n",
    "    total_diversity_words = sum([len(re.findall(diversity_pattern, text))\n",
    "                                for text in text_series])\n",
    "    \n",
    "    # Return both the cleaned text series and the total count of diversity words\n",
    "    return text_series, total_diversity_words"
   ]
  },
  {
   "cell_type": "code",
   "execution_count": 31,
   "metadata": {},
   "outputs": [],
   "source": [
    "START_YEAR = 2009\n",
    "FINAL_YEAR = 2024"
   ]
  },
  {
   "cell_type": "code",
   "execution_count": 32,
   "metadata": {},
   "outputs": [],
   "source": [
    "year_2024 = df[df.year==2024]\n",
    "clean_df, num_diversity_words = prepText(year_2024.body)\n",
    "wv = get_batch_embeddings(clean_df)"
   ]
  },
  {
   "cell_type": "code",
   "execution_count": 33,
   "metadata": {},
   "outputs": [
    {
     "data": {
      "text/plain": [
       "list"
      ]
     },
     "execution_count": 33,
     "metadata": {},
     "output_type": "execute_result"
    }
   ],
   "source": [
    "type(wv[0])"
   ]
  },
  {
   "cell_type": "code",
   "execution_count": 34,
   "metadata": {},
   "outputs": [],
   "source": [
    "docmatrix = np.array(wv)"
   ]
  },
  {
   "cell_type": "code",
   "execution_count": 35,
   "metadata": {},
   "outputs": [
    {
     "data": {
      "text/plain": [
       "(100, 1024)"
      ]
     },
     "execution_count": 35,
     "metadata": {},
     "output_type": "execute_result"
    }
   ],
   "source": [
    "docmatrix.shape"
   ]
  },
  {
   "cell_type": "code",
   "execution_count": 36,
   "metadata": {},
   "outputs": [
    {
     "name": "stdout",
     "output_type": "stream",
     "text": [
      "1810    2024\n",
      "1811    2024\n",
      "1812    2024\n",
      "1813    2024\n",
      "1814    2024\n",
      "        ... \n",
      "1908    2024\n",
      "1909    2024\n",
      "1912    2024\n",
      "1914    2024\n",
      "1915    2024\n",
      "Name: year, Length: 102, dtype: int64, 100, 0.0009772285746848341, 0.352279656725187\n"
     ]
    }
   ],
   "source": [
    "pairwise = getNormalizedPairwiseDispersion(docmatrix, cosine_distance)\n",
    "cov = getCovDispersion(docmatrix)\n",
    "print(f\"{year_2024.year}, {cov[0]}, {cov[1]}, {pairwise}\")"
   ]
  },
  {
   "cell_type": "code",
   "execution_count": 37,
   "metadata": {},
   "outputs": [
    {
     "name": "stderr",
     "output_type": "stream",
     "text": [
      "[nltk_data] Downloading package vader_lexicon to\n",
      "[nltk_data]     /Users/pmui/nltk_data...\n",
      "[nltk_data]   Package vader_lexicon is already up-to-date!\n"
     ]
    }
   ],
   "source": [
    "# VADER Sentiment Analysis\n",
    "import nltk\n",
    "nltk.download('vader_lexicon')\n",
    "from nltk.sentiment.vader import SentimentIntensityAnalyzer\n",
    "\n",
    "# Initialize the sentiment analyzer\n",
    "sia = SentimentIntensityAnalyzer()"
   ]
  },
  {
   "cell_type": "code",
   "execution_count": 38,
   "metadata": {},
   "outputs": [],
   "source": [
    "def chunk_process_embeddings(\n",
    "    clean_df: pd.Series,\n",
    "    num_chunks: int = 6\n",
    ") -> List[List[float]]:\n",
    "    \"\"\"\n",
    "    Process embeddings in chunks and combine results.\n",
    "    \n",
    "    Args:\n",
    "        clean_df: pandas Series of cleaned text strings\n",
    "        num_chunks: number of chunks to process\n",
    "    \n",
    "    Returns:\n",
    "        List[List[float]]: List of embedding vectors, where each vector is a list of floats\n",
    "    \"\"\"\n",
    "    # Calculate chunk size (divide into `num_chunks` equal parts)\n",
    "    chunk_size = len(clean_df) // num_chunks\n",
    "    chunk_size = chunk_size if chunk_size > 0 else 1\n",
    "    \n",
    "    chunks = [\n",
    "        clean_df[i:i + chunk_size] \n",
    "        for i in range(0, len(clean_df), chunk_size)\n",
    "    ]\n",
    "    \n",
    "    # Process each chunk and combine results\n",
    "    all_embeddings = []\n",
    "    for chunk in chunks:\n",
    "        chunk_embeddings = get_batch_embeddings(chunk)\n",
    "        all_embeddings.extend(chunk_embeddings)\n",
    "    \n",
    "    return all_embeddings"
   ]
  },
  {
   "cell_type": "code",
   "execution_count": 41,
   "metadata": {},
   "outputs": [],
   "source": [
    "import concurrent.futures\n",
    "\n",
    "def process_text(text) -> Tuple[bool, float, float, float]:\n",
    "    \"\"\"\n",
    "    Process a single text and return counts based on the classification.\n",
    "    \"\"\"\n",
    "    judgement = classify_text_cynicism(text)\n",
    "    \n",
    "    # Access the attributes using dot notation instead of subscripting the MFTAnalysis instance\n",
    "    return (\n",
    "        judgement.is_cynical, \n",
    "        judgement.mft_analysis.authority_subversion,\n",
    "        judgement.mft_analysis.loyalty_betrayal,\n",
    "        judgement.mft_analysis.fairness_injustice\n",
    "    )"
   ]
  },
  {
   "cell_type": "code",
   "execution_count": 42,
   "metadata": {},
   "outputs": [
    {
     "name": "stdout",
     "output_type": "stream",
     "text": [
      "year        size        trace       pairwise    vader       lexical     cynicism    subversion  betrayal    injustice   \n",
      "----------------------------------------------------------------------------------------------------------------------\n",
      "2009        74          0.001       0.546       0.536       0.001       0.515       0.508       0.519       0.519       \n",
      "2010        179         0.001       0.538       0.658       -0.006      0.536       0.524       0.536       0.547       \n",
      "2011        145         0.001       0.479       0.585       -0.002      0.531       0.528       0.539       0.528       \n",
      "2012        144         0.001       0.489       0.625       0.017       0.525       0.511       0.543       0.522       \n",
      "2013        149         0.001       0.526       0.544       0.019       0.499       0.483       0.513       0.500       \n",
      "2014        149         0.001       0.530       0.562       0.004       0.536       0.507       0.540       0.560       \n",
      "2015        142         0.001       0.511       0.337       -0.002      0.564       0.543       0.566       0.583       \n",
      "2016        143         0.001       0.437       0.505       0.006       0.526       0.517       0.525       0.536       \n",
      "2017        142         0.001       0.391       0.813       0.022       0.524       0.508       0.520       0.544       \n",
      "2018        135         0.001       0.386       0.709       0.009       0.507       0.490       0.501       0.530       \n",
      "2019        132         0.001       0.376       0.764       0.012       0.489       0.439       0.524       0.505       \n",
      "2020        101         0.001       0.365       0.474       0.010       0.560       0.532       0.576       0.572       \n",
      "2021        111         0.001       0.377       0.687       0.018       0.497       0.450       0.533       0.508       \n",
      "2022        93          0.001       0.378       0.454       0.019       0.532       0.465       0.575       0.556       \n",
      "2023        92          0.001       0.391       0.731       0.007       0.561       0.516       0.575       0.590       \n",
      "2024        100         0.001       0.352       0.456       0.004       0.620       0.647       0.618       0.594       \n"
     ]
    }
   ],
   "source": [
    "results = []\n",
    "print(f\"{'year':<12}{'size':<12}{'trace':<12}{'pairwise':<12}{'vader':<12}{'lexical':<12}{'cynicism':<12}{'subversion':<12}{'betrayal':<12}{'injustice':<12}\")\n",
    "print(\"-\"*118)\n",
    "LIWC_SCORE_NAME = \"cynicism_lexical\"\n",
    "for year in range(START_YEAR, FINAL_YEAR+1):\n",
    "    year_df = df[df.year==year]\n",
    "    \n",
    "    clean_df, num_diversity_words = prepText(year_df.body)\n",
    "    wv = chunk_process_embeddings(clean_df, num_chunks=12)\n",
    "    \n",
    "    docmatrix = np.array(wv)\n",
    "    pairwise = getNormalizedPairwiseDispersion(docmatrix, cosine_distance)\n",
    "    cov = getCovDispersion(docmatrix)\n",
    "    \n",
    "    # -------------- VADER: Sentiment Analysis ----------------- #\n",
    "    pos_scores = []\n",
    "    neg_scores = []\n",
    "    neu_scores = []\n",
    "    compound_scores = []\n",
    "    \n",
    "    for text in clean_df:\n",
    "        sentiment_scores = sia.polarity_scores(text)\n",
    "        pos_scores.append(sentiment_scores['pos'])\n",
    "        neg_scores.append(sentiment_scores['neg'])\n",
    "        neu_scores.append(sentiment_scores['neu'])\n",
    "        compound_scores.append(sentiment_scores['compound']) \n",
    " \n",
    "    # --------------- LIWC: Lexical Analysis -------------------- #\n",
    "    temp_df = clean_df.copy()\n",
    "    \n",
    "    # Apply LIWC analysis and convert results to separate columns\n",
    "    liwc_scores = temp_df.apply(liwc_analysis)\n",
    "\n",
    "    # Convert the series of dictionaries to a DataFrame\n",
    "    liwc_columns = pd.DataFrame.from_records(liwc_scores.values)\n",
    "    \n",
    "    # Combine with original DataFrame\n",
    "    temp_df = pd.DataFrame(temp_df, columns=['text'])\n",
    "    liwc_df = pd.concat([temp_df, liwc_columns], axis=1)\n",
    "    \n",
    "    # Calculate cynicism score\n",
    "    liwc_df[LIWC_SCORE_NAME] = liwc_df.apply(compute_cynicism_score, axis=1)\n",
    "    sum_liwc_score = liwc_df[LIWC_SCORE_NAME].sum()\n",
    "    \n",
    "    # ---------------- LLM (Llama) Cynical Classification ---------------- #\n",
    "    # Use ThreadPoolExecutor to concurrently process texts\n",
    "    with concurrent.futures.ThreadPoolExecutor(max_workers=12) as executor:\n",
    "        mft_scores = list(executor.map(process_text, clean_df))\n",
    "\n",
    "    mft_subversion_score = sum(auth for is_cynical, auth, _, _ in mft_scores if is_cynical) / len(mft_scores)\n",
    "    mft_betrayal_score   = sum(loyalty for is_cynical, _, loyalty, _ in mft_scores if is_cynical) / len(mft_scores)\n",
    "    mft_injustice_score  = sum(fairness for is_cynical, _, _, fairness in mft_scores if is_cynical) / len(mft_scores)\n",
    "    cynicism_score = (mft_subversion_score + mft_betrayal_score + mft_injustice_score) / 3.0\n",
    "    \n",
    "    result = {'year':     year,\n",
    "              'pairwise': pairwise,\n",
    "              'size':     cov[0],\n",
    "              'trace':    cov[1],\n",
    "              'norm-1':   cov[2],\n",
    "              'norm-2':   cov[3],\n",
    "              'norm-inf': cov[4],\n",
    "              'diversity-words': num_diversity_words,\n",
    "              'mentions-norm'  : num_diversity_words/cov[0],\n",
    "              'pos': sum(pos_scores) / len(pos_scores),\n",
    "              'neg': sum(neg_scores) / len(neg_scores),\n",
    "              'neu': sum(neu_scores) / len(neu_scores),\n",
    "              'vader': sum(compound_scores) / len(compound_scores),\n",
    "              'lexical': sum_liwc_score,\n",
    "              'cynicism': cynicism_score,\n",
    "              'mft_subversion': mft_subversion_score,\n",
    "              'mft_betrayal': mft_betrayal_score,\n",
    "              'mft_injustice': mft_injustice_score,\n",
    "    }\n",
    "    results.append(result)\n",
    "    \n",
    "    print(f\"{year:<12}{cov[0]:<12}{cov[1]:<12.3f}{pairwise:<12.3f}{result['vader']:<12.3f}{result['lexical']:<12.3f}{result['cynicism']:<12.3f}{result['mft_subversion']:<12.3f}{result['mft_betrayal']:<12.3f}{result['mft_injustice']:<12.3f}\")\n",
    "    "
   ]
  },
  {
   "cell_type": "code",
   "execution_count": 43,
   "metadata": {},
   "outputs": [
    {
     "data": {
      "text/html": [
       "<div>\n",
       "<style scoped>\n",
       "    .dataframe tbody tr th:only-of-type {\n",
       "        vertical-align: middle;\n",
       "    }\n",
       "\n",
       "    .dataframe tbody tr th {\n",
       "        vertical-align: top;\n",
       "    }\n",
       "\n",
       "    .dataframe thead th {\n",
       "        text-align: right;\n",
       "    }\n",
       "</style>\n",
       "<table border=\"1\" class=\"dataframe\">\n",
       "  <thead>\n",
       "    <tr style=\"text-align: right;\">\n",
       "      <th></th>\n",
       "      <th>pairwise</th>\n",
       "      <th>size</th>\n",
       "      <th>trace</th>\n",
       "      <th>norm-1</th>\n",
       "      <th>norm-2</th>\n",
       "      <th>norm-inf</th>\n",
       "      <th>diversity-words</th>\n",
       "      <th>mentions-norm</th>\n",
       "      <th>pos</th>\n",
       "      <th>neg</th>\n",
       "      <th>neu</th>\n",
       "      <th>vader</th>\n",
       "      <th>lexical</th>\n",
       "      <th>cynicism</th>\n",
       "      <th>mft_subversion</th>\n",
       "      <th>mft_betrayal</th>\n",
       "      <th>mft_injustice</th>\n",
       "    </tr>\n",
       "    <tr>\n",
       "      <th>year</th>\n",
       "      <th></th>\n",
       "      <th></th>\n",
       "      <th></th>\n",
       "      <th></th>\n",
       "      <th></th>\n",
       "      <th></th>\n",
       "      <th></th>\n",
       "      <th></th>\n",
       "      <th></th>\n",
       "      <th></th>\n",
       "      <th></th>\n",
       "      <th></th>\n",
       "      <th></th>\n",
       "      <th></th>\n",
       "      <th></th>\n",
       "      <th></th>\n",
       "      <th></th>\n",
       "    </tr>\n",
       "  </thead>\n",
       "  <tbody>\n",
       "    <tr>\n",
       "      <th>2009</th>\n",
       "      <td>0.546250</td>\n",
       "      <td>74</td>\n",
       "      <td>0.000977</td>\n",
       "      <td>0.000526</td>\n",
       "      <td>0.000454</td>\n",
       "      <td>0.000526</td>\n",
       "      <td>27</td>\n",
       "      <td>0.364865</td>\n",
       "      <td>0.177392</td>\n",
       "      <td>0.103757</td>\n",
       "      <td>0.718824</td>\n",
       "      <td>0.535816</td>\n",
       "      <td>0.0007</td>\n",
       "      <td>0.515315</td>\n",
       "      <td>0.508108</td>\n",
       "      <td>0.518919</td>\n",
       "      <td>0.518919</td>\n",
       "    </tr>\n",
       "    <tr>\n",
       "      <th>2010</th>\n",
       "      <td>0.538056</td>\n",
       "      <td>179</td>\n",
       "      <td>0.000977</td>\n",
       "      <td>0.000540</td>\n",
       "      <td>0.000458</td>\n",
       "      <td>0.000540</td>\n",
       "      <td>85</td>\n",
       "      <td>0.474860</td>\n",
       "      <td>0.178737</td>\n",
       "      <td>0.093693</td>\n",
       "      <td>0.727520</td>\n",
       "      <td>0.657599</td>\n",
       "      <td>-0.0062</td>\n",
       "      <td>0.535568</td>\n",
       "      <td>0.524022</td>\n",
       "      <td>0.535754</td>\n",
       "      <td>0.546927</td>\n",
       "    </tr>\n",
       "    <tr>\n",
       "      <th>2011</th>\n",
       "      <td>0.479487</td>\n",
       "      <td>145</td>\n",
       "      <td>0.000977</td>\n",
       "      <td>0.000599</td>\n",
       "      <td>0.000516</td>\n",
       "      <td>0.000599</td>\n",
       "      <td>98</td>\n",
       "      <td>0.675862</td>\n",
       "      <td>0.168545</td>\n",
       "      <td>0.083007</td>\n",
       "      <td>0.748407</td>\n",
       "      <td>0.584660</td>\n",
       "      <td>-0.0022</td>\n",
       "      <td>0.531494</td>\n",
       "      <td>0.527586</td>\n",
       "      <td>0.538621</td>\n",
       "      <td>0.528276</td>\n",
       "    </tr>\n",
       "    <tr>\n",
       "      <th>2012</th>\n",
       "      <td>0.488551</td>\n",
       "      <td>144</td>\n",
       "      <td>0.000977</td>\n",
       "      <td>0.000582</td>\n",
       "      <td>0.000507</td>\n",
       "      <td>0.000582</td>\n",
       "      <td>62</td>\n",
       "      <td>0.430556</td>\n",
       "      <td>0.178743</td>\n",
       "      <td>0.094868</td>\n",
       "      <td>0.726319</td>\n",
       "      <td>0.624693</td>\n",
       "      <td>0.0165</td>\n",
       "      <td>0.525231</td>\n",
       "      <td>0.511111</td>\n",
       "      <td>0.543056</td>\n",
       "      <td>0.521528</td>\n",
       "    </tr>\n",
       "    <tr>\n",
       "      <th>2013</th>\n",
       "      <td>0.525626</td>\n",
       "      <td>149</td>\n",
       "      <td>0.000977</td>\n",
       "      <td>0.000566</td>\n",
       "      <td>0.000472</td>\n",
       "      <td>0.000566</td>\n",
       "      <td>55</td>\n",
       "      <td>0.369128</td>\n",
       "      <td>0.171289</td>\n",
       "      <td>0.099611</td>\n",
       "      <td>0.729107</td>\n",
       "      <td>0.543589</td>\n",
       "      <td>0.0189</td>\n",
       "      <td>0.498658</td>\n",
       "      <td>0.483221</td>\n",
       "      <td>0.512752</td>\n",
       "      <td>0.500000</td>\n",
       "    </tr>\n",
       "    <tr>\n",
       "      <th>2014</th>\n",
       "      <td>0.529638</td>\n",
       "      <td>149</td>\n",
       "      <td>0.000977</td>\n",
       "      <td>0.000553</td>\n",
       "      <td>0.000469</td>\n",
       "      <td>0.000553</td>\n",
       "      <td>52</td>\n",
       "      <td>0.348993</td>\n",
       "      <td>0.170691</td>\n",
       "      <td>0.094530</td>\n",
       "      <td>0.734758</td>\n",
       "      <td>0.561648</td>\n",
       "      <td>0.0041</td>\n",
       "      <td>0.535794</td>\n",
       "      <td>0.507383</td>\n",
       "      <td>0.540268</td>\n",
       "      <td>0.559732</td>\n",
       "    </tr>\n",
       "    <tr>\n",
       "      <th>2015</th>\n",
       "      <td>0.510673</td>\n",
       "      <td>142</td>\n",
       "      <td>0.000977</td>\n",
       "      <td>0.000577</td>\n",
       "      <td>0.000487</td>\n",
       "      <td>0.000577</td>\n",
       "      <td>129</td>\n",
       "      <td>0.908451</td>\n",
       "      <td>0.158479</td>\n",
       "      <td>0.107944</td>\n",
       "      <td>0.733549</td>\n",
       "      <td>0.337297</td>\n",
       "      <td>-0.0019</td>\n",
       "      <td>0.564085</td>\n",
       "      <td>0.542958</td>\n",
       "      <td>0.566197</td>\n",
       "      <td>0.583099</td>\n",
       "    </tr>\n",
       "    <tr>\n",
       "      <th>2016</th>\n",
       "      <td>0.436872</td>\n",
       "      <td>143</td>\n",
       "      <td>0.000977</td>\n",
       "      <td>0.000630</td>\n",
       "      <td>0.000556</td>\n",
       "      <td>0.000630</td>\n",
       "      <td>150</td>\n",
       "      <td>1.048951</td>\n",
       "      <td>0.163678</td>\n",
       "      <td>0.092028</td>\n",
       "      <td>0.744287</td>\n",
       "      <td>0.504712</td>\n",
       "      <td>0.0058</td>\n",
       "      <td>0.525874</td>\n",
       "      <td>0.516783</td>\n",
       "      <td>0.525175</td>\n",
       "      <td>0.535664</td>\n",
       "    </tr>\n",
       "    <tr>\n",
       "      <th>2017</th>\n",
       "      <td>0.390978</td>\n",
       "      <td>142</td>\n",
       "      <td>0.000977</td>\n",
       "      <td>0.000671</td>\n",
       "      <td>0.000600</td>\n",
       "      <td>0.000671</td>\n",
       "      <td>176</td>\n",
       "      <td>1.239437</td>\n",
       "      <td>0.171254</td>\n",
       "      <td>0.073056</td>\n",
       "      <td>0.755754</td>\n",
       "      <td>0.812918</td>\n",
       "      <td>0.0220</td>\n",
       "      <td>0.524178</td>\n",
       "      <td>0.508451</td>\n",
       "      <td>0.519718</td>\n",
       "      <td>0.544366</td>\n",
       "    </tr>\n",
       "    <tr>\n",
       "      <th>2018</th>\n",
       "      <td>0.385634</td>\n",
       "      <td>135</td>\n",
       "      <td>0.000977</td>\n",
       "      <td>0.000678</td>\n",
       "      <td>0.000605</td>\n",
       "      <td>0.000678</td>\n",
       "      <td>195</td>\n",
       "      <td>1.444444</td>\n",
       "      <td>0.156867</td>\n",
       "      <td>0.075511</td>\n",
       "      <td>0.767578</td>\n",
       "      <td>0.708883</td>\n",
       "      <td>0.0094</td>\n",
       "      <td>0.506914</td>\n",
       "      <td>0.489630</td>\n",
       "      <td>0.501481</td>\n",
       "      <td>0.529630</td>\n",
       "    </tr>\n",
       "    <tr>\n",
       "      <th>2019</th>\n",
       "      <td>0.376278</td>\n",
       "      <td>132</td>\n",
       "      <td>0.000977</td>\n",
       "      <td>0.000682</td>\n",
       "      <td>0.000614</td>\n",
       "      <td>0.000682</td>\n",
       "      <td>144</td>\n",
       "      <td>1.090909</td>\n",
       "      <td>0.173348</td>\n",
       "      <td>0.076917</td>\n",
       "      <td>0.749697</td>\n",
       "      <td>0.764354</td>\n",
       "      <td>0.0117</td>\n",
       "      <td>0.489394</td>\n",
       "      <td>0.439394</td>\n",
       "      <td>0.524242</td>\n",
       "      <td>0.504545</td>\n",
       "    </tr>\n",
       "    <tr>\n",
       "      <th>2020</th>\n",
       "      <td>0.365314</td>\n",
       "      <td>101</td>\n",
       "      <td>0.000977</td>\n",
       "      <td>0.000698</td>\n",
       "      <td>0.000626</td>\n",
       "      <td>0.000698</td>\n",
       "      <td>76</td>\n",
       "      <td>0.752475</td>\n",
       "      <td>0.154109</td>\n",
       "      <td>0.102386</td>\n",
       "      <td>0.743515</td>\n",
       "      <td>0.473608</td>\n",
       "      <td>0.0100</td>\n",
       "      <td>0.560066</td>\n",
       "      <td>0.531683</td>\n",
       "      <td>0.576238</td>\n",
       "      <td>0.572277</td>\n",
       "    </tr>\n",
       "    <tr>\n",
       "      <th>2021</th>\n",
       "      <td>0.377473</td>\n",
       "      <td>111</td>\n",
       "      <td>0.000977</td>\n",
       "      <td>0.000668</td>\n",
       "      <td>0.000613</td>\n",
       "      <td>0.000668</td>\n",
       "      <td>59</td>\n",
       "      <td>0.531532</td>\n",
       "      <td>0.171892</td>\n",
       "      <td>0.088865</td>\n",
       "      <td>0.739261</td>\n",
       "      <td>0.686664</td>\n",
       "      <td>0.0178</td>\n",
       "      <td>0.497297</td>\n",
       "      <td>0.450450</td>\n",
       "      <td>0.533333</td>\n",
       "      <td>0.508108</td>\n",
       "    </tr>\n",
       "    <tr>\n",
       "      <th>2022</th>\n",
       "      <td>0.378038</td>\n",
       "      <td>93</td>\n",
       "      <td>0.000977</td>\n",
       "      <td>0.000679</td>\n",
       "      <td>0.000614</td>\n",
       "      <td>0.000679</td>\n",
       "      <td>99</td>\n",
       "      <td>1.064516</td>\n",
       "      <td>0.162828</td>\n",
       "      <td>0.114129</td>\n",
       "      <td>0.723011</td>\n",
       "      <td>0.453609</td>\n",
       "      <td>0.0191</td>\n",
       "      <td>0.531900</td>\n",
       "      <td>0.464516</td>\n",
       "      <td>0.575269</td>\n",
       "      <td>0.555914</td>\n",
       "    </tr>\n",
       "    <tr>\n",
       "      <th>2023</th>\n",
       "      <td>0.390825</td>\n",
       "      <td>92</td>\n",
       "      <td>0.000977</td>\n",
       "      <td>0.000653</td>\n",
       "      <td>0.000602</td>\n",
       "      <td>0.000653</td>\n",
       "      <td>91</td>\n",
       "      <td>0.989130</td>\n",
       "      <td>0.154946</td>\n",
       "      <td>0.078391</td>\n",
       "      <td>0.766663</td>\n",
       "      <td>0.730799</td>\n",
       "      <td>0.0074</td>\n",
       "      <td>0.560507</td>\n",
       "      <td>0.516304</td>\n",
       "      <td>0.575000</td>\n",
       "      <td>0.590217</td>\n",
       "    </tr>\n",
       "    <tr>\n",
       "      <th>2024</th>\n",
       "      <td>0.352399</td>\n",
       "      <td>100</td>\n",
       "      <td>0.000977</td>\n",
       "      <td>0.000703</td>\n",
       "      <td>0.000639</td>\n",
       "      <td>0.000703</td>\n",
       "      <td>97</td>\n",
       "      <td>0.970000</td>\n",
       "      <td>0.145310</td>\n",
       "      <td>0.094890</td>\n",
       "      <td>0.759730</td>\n",
       "      <td>0.455855</td>\n",
       "      <td>0.0036</td>\n",
       "      <td>0.619667</td>\n",
       "      <td>0.647000</td>\n",
       "      <td>0.618000</td>\n",
       "      <td>0.594000</td>\n",
       "    </tr>\n",
       "  </tbody>\n",
       "</table>\n",
       "</div>"
      ],
      "text/plain": [
       "      pairwise  size     trace    norm-1    norm-2  norm-inf  diversity-words  \\\n",
       "year                                                                            \n",
       "2009  0.546250    74  0.000977  0.000526  0.000454  0.000526               27   \n",
       "2010  0.538056   179  0.000977  0.000540  0.000458  0.000540               85   \n",
       "2011  0.479487   145  0.000977  0.000599  0.000516  0.000599               98   \n",
       "2012  0.488551   144  0.000977  0.000582  0.000507  0.000582               62   \n",
       "2013  0.525626   149  0.000977  0.000566  0.000472  0.000566               55   \n",
       "2014  0.529638   149  0.000977  0.000553  0.000469  0.000553               52   \n",
       "2015  0.510673   142  0.000977  0.000577  0.000487  0.000577              129   \n",
       "2016  0.436872   143  0.000977  0.000630  0.000556  0.000630              150   \n",
       "2017  0.390978   142  0.000977  0.000671  0.000600  0.000671              176   \n",
       "2018  0.385634   135  0.000977  0.000678  0.000605  0.000678              195   \n",
       "2019  0.376278   132  0.000977  0.000682  0.000614  0.000682              144   \n",
       "2020  0.365314   101  0.000977  0.000698  0.000626  0.000698               76   \n",
       "2021  0.377473   111  0.000977  0.000668  0.000613  0.000668               59   \n",
       "2022  0.378038    93  0.000977  0.000679  0.000614  0.000679               99   \n",
       "2023  0.390825    92  0.000977  0.000653  0.000602  0.000653               91   \n",
       "2024  0.352399   100  0.000977  0.000703  0.000639  0.000703               97   \n",
       "\n",
       "      mentions-norm       pos       neg       neu     vader  lexical  \\\n",
       "year                                                                   \n",
       "2009       0.364865  0.177392  0.103757  0.718824  0.535816   0.0007   \n",
       "2010       0.474860  0.178737  0.093693  0.727520  0.657599  -0.0062   \n",
       "2011       0.675862  0.168545  0.083007  0.748407  0.584660  -0.0022   \n",
       "2012       0.430556  0.178743  0.094868  0.726319  0.624693   0.0165   \n",
       "2013       0.369128  0.171289  0.099611  0.729107  0.543589   0.0189   \n",
       "2014       0.348993  0.170691  0.094530  0.734758  0.561648   0.0041   \n",
       "2015       0.908451  0.158479  0.107944  0.733549  0.337297  -0.0019   \n",
       "2016       1.048951  0.163678  0.092028  0.744287  0.504712   0.0058   \n",
       "2017       1.239437  0.171254  0.073056  0.755754  0.812918   0.0220   \n",
       "2018       1.444444  0.156867  0.075511  0.767578  0.708883   0.0094   \n",
       "2019       1.090909  0.173348  0.076917  0.749697  0.764354   0.0117   \n",
       "2020       0.752475  0.154109  0.102386  0.743515  0.473608   0.0100   \n",
       "2021       0.531532  0.171892  0.088865  0.739261  0.686664   0.0178   \n",
       "2022       1.064516  0.162828  0.114129  0.723011  0.453609   0.0191   \n",
       "2023       0.989130  0.154946  0.078391  0.766663  0.730799   0.0074   \n",
       "2024       0.970000  0.145310  0.094890  0.759730  0.455855   0.0036   \n",
       "\n",
       "      cynicism  mft_subversion  mft_betrayal  mft_injustice  \n",
       "year                                                         \n",
       "2009  0.515315        0.508108      0.518919       0.518919  \n",
       "2010  0.535568        0.524022      0.535754       0.546927  \n",
       "2011  0.531494        0.527586      0.538621       0.528276  \n",
       "2012  0.525231        0.511111      0.543056       0.521528  \n",
       "2013  0.498658        0.483221      0.512752       0.500000  \n",
       "2014  0.535794        0.507383      0.540268       0.559732  \n",
       "2015  0.564085        0.542958      0.566197       0.583099  \n",
       "2016  0.525874        0.516783      0.525175       0.535664  \n",
       "2017  0.524178        0.508451      0.519718       0.544366  \n",
       "2018  0.506914        0.489630      0.501481       0.529630  \n",
       "2019  0.489394        0.439394      0.524242       0.504545  \n",
       "2020  0.560066        0.531683      0.576238       0.572277  \n",
       "2021  0.497297        0.450450      0.533333       0.508108  \n",
       "2022  0.531900        0.464516      0.575269       0.555914  \n",
       "2023  0.560507        0.516304      0.575000       0.590217  \n",
       "2024  0.619667        0.647000      0.618000       0.594000  "
      ]
     },
     "execution_count": 43,
     "metadata": {},
     "output_type": "execute_result"
    }
   ],
   "source": [
    "results_df = pd.DataFrame.from_records(results)\n",
    "results_df.set_index('year')"
   ]
  },
  {
   "cell_type": "markdown",
   "metadata": {},
   "source": [
    "### MFT Analysis with LLM\n"
   ]
  },
  {
   "cell_type": "code",
   "execution_count": 44,
   "metadata": {},
   "outputs": [],
   "source": [
    "import matplotlib.pyplot as plt\n",
    "from scipy.stats import linregress, t\n",
    "\n",
    "def calculate_regression_stats(x, y):\n",
    "    \"\"\"\n",
    "    Calculate comprehensive regression statistics including confidence intervals.\n",
    "    \n",
    "    Args:\n",
    "        x (array-like): Independent variable values\n",
    "        y (array-like): Dependent variable values\n",
    "        \n",
    "    Returns:\n",
    "        dict: Dictionary containing regression statistics:\n",
    "            - slope: Regression slope\n",
    "            - intercept: Regression intercept \n",
    "            - ci_lower: Lower bound of 95% CI\n",
    "            - ci_upper: Upper bound of 95% CI\n",
    "            - r_value: R-value (correlation coefficient)\n",
    "            - p_value: P-value for significance\n",
    "            - std_err: Standard error of the slope\n",
    "    \"\"\"\n",
    "    # Calculate basic regression statistics\n",
    "    slope, intercept, r_value, p_value, std_err = linregress(x, y)\n",
    "    \n",
    "    # Calculate 95% confidence interval\n",
    "    confidence_level = 0.95\n",
    "    degrees_of_freedom = len(x) - 2\n",
    "    t_value = t.ppf((1 + confidence_level) / 2, degrees_of_freedom)\n",
    "    margin_of_error = t_value * std_err\n",
    "    ci_lower = slope - margin_of_error\n",
    "    ci_upper = slope + margin_of_error\n",
    "    \n",
    "    return {\n",
    "        'slope': slope,\n",
    "        'intercept': intercept,\n",
    "        'ci_lower': ci_lower,\n",
    "        'ci_upper': ci_upper,\n",
    "        'r_value': r_value,\n",
    "        'p_value': p_value,\n",
    "        'std_err': std_err\n",
    "    }\n",
    "\n",
    "def print_regression_stats(x, y, title):\n",
    "    stats = calculate_regression_stats(x, y)\n",
    "    print(f\"\\n{title}:\")\n",
    "    print(f\"Slope: {stats['slope']:.5f}\")\n",
    "    print(f\"95% CI: ({stats['ci_lower']:.5f}, {stats['ci_upper']:.5f})\")\n",
    "    print(f\"R-value: {stats['r_value']:.5f}\")\n",
    "    print(f\"P-value: {stats['p_value']:.5f}\")\n",
    "    print(f\"Standard Error: {stats['std_err']:.5f}\")"
   ]
  },
  {
   "cell_type": "code",
   "execution_count": 45,
   "metadata": {},
   "outputs": [
    {
     "name": "stdout",
     "output_type": "stream",
     "text": [
      "\n",
      "Cynicism regression statistics::\n",
      "Slope: 0.00245\n",
      "95% CI: (-0.00116, 0.00606)\n",
      "R-value: 0.36288\n",
      "P-value: 0.16715\n",
      "Standard Error: 0.00168\n",
      "\n",
      "Subversion regression statistics::\n",
      "Slope: 0.00084\n",
      "95% CI: (-0.00475, 0.00644)\n",
      "R-value: 0.08617\n",
      "P-value: 0.75100\n",
      "Standard Error: 0.00261\n",
      "\n",
      "Betrayal regression statistics::\n",
      "Slope: 0.00364\n",
      "95% CI: (0.00063, 0.00666)\n",
      "R-value: 0.56923\n",
      "P-value: 0.02137\n",
      "Standard Error: 0.00141\n",
      "\n",
      "Injustice regression statistics::\n",
      "Slope: 0.00287\n",
      "95% CI: (-0.00039, 0.00613)\n",
      "R-value: 0.45035\n",
      "P-value: 0.08003\n",
      "Standard Error: 0.00152\n"
     ]
    },
    {
     "data": {
      "image/png": "[encoded data removed]",
      "text/plain": [
       "<Figure size 1000x600 with 1 Axes>"
      ]
     },
     "metadata": {},
     "output_type": "display_data"
    }
   ],
   "source": [
    "# Define x-axis values as integers\n",
    "x = results_df['year'].astype(int)\n",
    "\n",
    "# Rest of regression calculations remain the same\n",
    "y_cynicism = results_df['cynicism']\n",
    "slope_c, intercept_c, r_value, p_value, std_err = linregress(x, y_cynicism)\n",
    "print_regression_stats(x, y_cynicism, \"Cynicism regression statistics:\")\n",
    "\n",
    "# Compute regressions for MFT components\n",
    "y_subversion = results_df['mft_subversion']\n",
    "slope_auth, intercept_auth, _, _, _ = linregress(x, y_subversion)\n",
    "print_regression_stats(x, y_subversion, \"Subversion regression statistics:\")\n",
    "\n",
    "y_betrayal = results_df['mft_betrayal']\n",
    "slope_betrayal, intercept_betrayal, _, _, _ = linregress(x, y_betrayal)\n",
    "print_regression_stats(x, y_betrayal, \"Betrayal regression statistics:\")\n",
    "\n",
    "y_injustice = results_df['mft_injustice']\n",
    "slope_fair, intercept_fair, _, _, _ = linregress(x, y_injustice)\n",
    "print_regression_stats(x, y_injustice, \"Injustice regression statistics:\")\n",
    "# Create plot\n",
    "plt.figure(figsize=(10, 6))\n",
    "\n",
    "# Scatter plots\n",
    "plt.scatter(x, y_cynicism, color='blue', label='Cynicism Data')\n",
    "plt.scatter(x, y_subversion, color='green', s=50, alpha=0.6, label='Subversion')\n",
    "plt.scatter(x, y_betrayal, color='orange', s=50, alpha=0.6, label='Betrayal')\n",
    "plt.scatter(x, y_injustice, color='purple', s=50, alpha=0.6, label='Injustice')\n",
    "\n",
    "# Trend lines\n",
    "plt.plot(x, intercept_c + slope_c * x, color='blue', linestyle='-', linewidth=2.5, label='Cynicism Trend')\n",
    "plt.plot(x, intercept_auth + slope_auth * x, color='green', linestyle=':', linewidth=1.5, label='Subversion Trend')\n",
    "plt.plot(x, intercept_betrayal + slope_betrayal * x, color='orange', linestyle=':', linewidth=1.5, label='Betrayal Trend')\n",
    "plt.plot(x, intercept_fair + slope_fair * x, color='purple', linestyle=':', linewidth=1.5, label='Injustice Trend')\n",
    "\n",
    "# Set integer ticks for x-axis\n",
    "plt.xticks(x)\n",
    "\n",
    "# Calculate y-axis limits\n",
    "all_y_values = np.concatenate([y_cynicism, y_subversion, y_betrayal, y_injustice])\n",
    "y_min = np.min(all_y_values)\n",
    "y_max = np.max(all_y_values)\n",
    "\n",
    "plt.title(\"Harvard Editorials: Cynicism & MFT Trends\")\n",
    "plt.xlabel(\"Year\")\n",
    "plt.ylabel(\"Score\")\n",
    "plt.legend(loc='upper left')\n",
    "plt.ylim(y_min * 0.95, y_max * 1.1)\n",
    "plt.show()"
   ]
  },
  {
   "cell_type": "markdown",
   "metadata": {},
   "source": [
    "### Regression Goodness of Fit: Explicit Diversity Words\n"
   ]
  },
  {
   "cell_type": "code",
   "execution_count": 46,
   "metadata": {},
   "outputs": [
    {
     "data": {
      "image/png": "[encoded data removed]",
      "text/plain": [
       "<Figure size 640x480 with 1 Axes>"
      ]
     },
     "metadata": {},
     "output_type": "display_data"
    }
   ],
   "source": [
    "import matplotlib.pyplot as plt\n",
    "from scipy.stats import linregress\n",
    "\n",
    "x = results_df['year']\n",
    "y = results_df['mentions-norm']\n",
    "\n",
    "slope, intercept, r_value, p_value, std_err = linregress(x, y)\n",
    "\n",
    "results_df.plot(x=\"year\", y=\"mentions-norm\", kind=\"scatter\")\n",
    "\n",
    "plt.plot(x, intercept + slope*x, 'b:', label='fitted regression')\n",
    "\n",
    "plt.title(\"Harvard Editorials: Explicit Diversity mentions-norm per Year\")\n",
    "plt.legend(loc='lower right')\n",
    "plt.ylim(min(y)*0.95, max(y)*1.05)\n",
    "plt.show()"
   ]
  },
  {
   "cell_type": "markdown",
   "metadata": {},
   "source": [
    "### Regression Goodness of Fit: Pairwise Dispersion\n"
   ]
  },
  {
   "cell_type": "code",
   "execution_count": 47,
   "metadata": {},
   "outputs": [
    {
     "data": {
      "image/png": "[encoded data removed]",
      "text/plain": [
       "<Figure size 640x480 with 1 Axes>"
      ]
     },
     "metadata": {},
     "output_type": "display_data"
    }
   ],
   "source": [
    "import matplotlib.pyplot as plt\n",
    "from scipy.stats import linregress\n",
    "\n",
    "x = results_df['year']\n",
    "y = results_df['pairwise']\n",
    "\n",
    "slope, intercept, r_value, p_value, std_err = linregress(x, y)\n",
    "\n",
    "results_df.plot(x=\"year\", y=\"pairwise\", kind=\"scatter\")\n",
    "\n",
    "plt.plot(x, intercept + slope*x, 'b:', label='fitted regression')\n",
    "\n",
    "plt.title(\"Harvard Editorials by year: Pairwise Dispersion\")\n",
    "plt.legend(loc='upper right')\n",
    "plt.ylim(min(y)*0.95, max(y)*1.05)\n",
    "plt.show()"
   ]
  },
  {
   "cell_type": "markdown",
   "metadata": {},
   "source": [
    "### Regress Goodness of Fit: VADER Sentiment Analysis\n"
   ]
  },
  {
   "cell_type": "code",
   "execution_count": 48,
   "metadata": {},
   "outputs": [
    {
     "data": {
      "image/png": "[encoded data removed]",
      "text/plain": [
       "<Figure size 640x480 with 1 Axes>"
      ]
     },
     "metadata": {},
     "output_type": "display_data"
    }
   ],
   "source": [
    "x = results_df['year']\n",
    "y = results_df['vader']\n",
    "\n",
    "slope, intercept, r_value, p_value, std_err = linregress(x, y)\n",
    "\n",
    "results_df.plot(x=\"year\", y=\"vader\", kind=\"scatter\")\n",
    "\n",
    "plt.plot(x, intercept + slope*x, 'b:', label='fitted regression')\n",
    "\n",
    "plt.title(\"Harvard Editorials by year: VADER Sentiment Analysis\")\n",
    "plt.legend(loc='upper right')\n",
    "plt.ylim(min(y)*0.95, max(y)*1.05)\n",
    "plt.show()"
   ]
  },
  {
   "cell_type": "markdown",
   "metadata": {},
   "source": [
    "### Regress Goodness of Fit: LIWC Lexical Analysis\n"
   ]
  },
  {
   "cell_type": "code",
   "execution_count": 49,
   "metadata": {},
   "outputs": [
    {
     "data": {
      "image/png": "[encoded data removed]",
      "text/plain": [
       "<Figure size 640x480 with 1 Axes>"
      ]
     },
     "metadata": {},
     "output_type": "display_data"
    }
   ],
   "source": [
    "x = results_df['year']\n",
    "y = results_df['lexical']\n",
    "\n",
    "slope, intercept, r_value, p_value, std_err = linregress(x, y)\n",
    "\n",
    "results_df.plot(x=\"year\", y=\"lexical\", kind=\"scatter\")\n",
    "\n",
    "plt.plot(x, intercept + slope*x, 'b:', label='fitted regression')\n",
    "\n",
    "plt.title(\"Harvard Editorials by year: LIWC Lexical Analysis\")\n",
    "plt.legend(loc='upper right')\n",
    "plt.ylim(min(y)*0.95, max(y)*1.05)\n",
    "plt.show()"
   ]
  },
  {
   "cell_type": "markdown",
   "metadata": {},
   "source": [
    "## Combined Diversity and Sentiment Analyses\n"
   ]
  },
  {
   "cell_type": "code",
   "execution_count": 50,
   "metadata": {},
   "outputs": [
    {
     "name": "stdout",
     "output_type": "stream",
     "text": [
      "\n",
      "mentions-norm metrics:\n",
      "  slope: 0.04285\n",
      "  95% CI: (0.00898, 0.07672)\n",
      "  std error: 0.01579\n",
      "  p-value: 0.01680\n",
      "  r-value: 0.58709\n",
      "\n",
      "pairwise metrics:\n",
      "  slope: -0.01360\n",
      "  95% CI: (-0.01742, -0.00978)\n",
      "  std error: 0.00178\n",
      "  p-value: 0.00000\n",
      "  r-value: -0.89805\n",
      "\n",
      "vader metrics:\n",
      "  slope: 0.00120\n",
      "  95% CI: (-0.01453, 0.01692)\n",
      "  std error: 0.00733\n",
      "  p-value: 0.87249\n",
      "  r-value: 0.04365\n",
      "\n",
      "lexical metrics:\n",
      "  slope: 0.00072\n",
      "  95% CI: (-0.00023, 0.00168)\n",
      "  std error: 0.00044\n",
      "  p-value: 0.12569\n",
      "  r-value: 0.39909\n"
     ]
    },
    {
     "data": {
      "image/png": "[encoded data removed]",
      "text/plain": [
       "<Figure size 1600x400 with 4 Axes>"
      ]
     },
     "metadata": {},
     "output_type": "display_data"
    }
   ],
   "source": [
    "# Select the columns to plot\n",
    "columns = [\"mentions-norm\", \"pairwise\", \"vader\", \"lexical\"]\n",
    "\n",
    "# Create a figure with subplots\n",
    "fig, axs = plt.subplots(nrows=1, ncols=len(columns), sharex=True, figsize=(16,4))\n",
    "\n",
    "# Loop through the columns and plot each one\n",
    "for ax, column in zip(axs, columns):\n",
    "    # Select the data for the current column\n",
    "    x = range(len(results_df.index))\n",
    "    y = results_df[column]\n",
    "     \n",
    "    # Calculate the linear regression\n",
    "    slope, intercept, r_value, p_value, std_err = linregress(x, y)\n",
    "    \n",
    "    # Calculate 95% confidence interval\n",
    "    confidence_level = 0.95\n",
    "    degrees_of_freedom = len(x) - 2\n",
    "    t_value = t.ppf((1 + confidence_level) / 2, degrees_of_freedom)\n",
    "    margin_of_error = t_value * std_err\n",
    "    ci_lower = slope - margin_of_error\n",
    "    ci_upper = slope + margin_of_error\n",
    "    \n",
    "    # Print comprehensive statistics\n",
    "    print(f\"\\n{column} metrics:\")\n",
    "    print(f\"  slope: {slope:.5f}\")\n",
    "    print(f\"  95% CI: ({ci_lower:.5f}, {ci_upper:.5f})\")\n",
    "    print(f\"  std error: {std_err:.5f}\")\n",
    "    print(f\"  p-value: {p_value:.5f}\")\n",
    "    print(f\"  r-value: {r_value:.5f}\")\n",
    "\n",
    "    # Plot the data and the linear regression line\n",
    "    results_df[column].plot(ax=ax, style=\".\", x=x, y=y, label=column)\n",
    "    ax.plot(x, intercept + slope*x, 'b:', label='regression')\n",
    "    ax.set_ylim(min(y)*0.9, max(y)*1.1)\n",
    "    # ax.set_ylim(0.0, 1.0)\n",
    "    \n",
    "    # Add a legend\n",
    "    ax.legend(loc='lower center')\n",
    "\n",
    "    # Add x-label for the years\n",
    "    ax.set_xticks(results_df.index)\n",
    "    ax.set_xticklabels(results_df.year)\n",
    "    ax.tick_params(axis='x', rotation=45)\n",
    "    \n",
    "plt.xlabel(\"Year\")\n",
    "plt.suptitle(\"Trending of Harvard Editorials: Diversity, Sentiment, and Lexical Analyses\")\n",
    "plt.tight_layout()\n",
    "plt.show()"
   ]
  },
  {
   "cell_type": "code",
   "execution_count": 51,
   "metadata": {},
   "outputs": [
    {
     "name": "stdout",
     "output_type": "stream",
     "text": [
      "Slope: -0.01360\n",
      "95% Confidence Interval: (-0.01742, -0.00978)\n",
      "Standard Error: 0.00178\n",
      "P-value: 0.00000\n"
     ]
    }
   ],
   "source": [
    "from scipy.stats import t, linregress\n",
    "\n",
    "x = results_df['year']\n",
    "y = results_df['pairwise']\n",
    "\n",
    "slope, intercept, r_value, p_value, std_err = linregress(x, y)\n",
    "\n",
    "confidence_level = 0.95\n",
    "degrees_of_freedom = len(x) - 2\n",
    "t_value = t.ppf((1 + confidence_level) / 2, degrees_of_freedom)\n",
    "\n",
    "margin_of_error = t_value * std_err\n",
    "\n",
    "ci_lower = slope - margin_of_error\n",
    "ci_upper = slope + margin_of_error\n",
    "\n",
    "print(f\"Slope: {slope:.5f}\")\n",
    "print(f\"95% Confidence Interval: ({ci_lower:.5f}, {ci_upper:.5f})\")\n",
    "print(f\"Standard Error: {std_err:.5f}\")\n",
    "print(f\"P-value: {p_value:.5f}\")"
   ]
  },
  {
   "cell_type": "markdown",
   "metadata": {},
   "source": [
    "## 4. VADER Sentiment Analysis\n",
    "\n",
    "First, you need to install the VADER sentiment analysis tool. If you're using Python, you can install it with the nltk (Natural Language Toolkit) library.\n"
   ]
  },
  {
   "cell_type": "code",
   "execution_count": 52,
   "metadata": {},
   "outputs": [
    {
     "name": "stderr",
     "output_type": "stream",
     "text": [
      "[nltk_data] Downloading package vader_lexicon to\n",
      "[nltk_data]     /Users/pmui/nltk_data...\n",
      "[nltk_data]   Package vader_lexicon is already up-to-date!\n"
     ]
    }
   ],
   "source": [
    "import nltk\n",
    "nltk.download('vader_lexicon')\n",
    "from nltk.sentiment.vader import SentimentIntensityAnalyzer\n",
    "\n",
    "# Initialize the sentiment analyzer\n",
    "sia = SentimentIntensityAnalyzer()"
   ]
  },
  {
   "cell_type": "markdown",
   "metadata": {},
   "source": [
    "**Analyze the Sentiment of Text:**\n",
    "\n",
    "Once you have the SentimentIntensityAnalyzer instance, you can use the .polarity_scores() method to analyze the sentiment of a given text. This method returns a dictionary with the following scores:\n",
    "\n",
    "- positive: A score for the positive sentiment.\n",
    "- neutral: A score for the neutral sentiment.\n",
    "- negative: A score for the negative sentiment.\n",
    "- compound: The overall sentiment score, which is a normalized value between -1 (most negative) and +1 (most positive).\n"
   ]
  },
  {
   "cell_type": "code",
   "execution_count": 53,
   "metadata": {},
   "outputs": [],
   "source": [
    "results = []\n",
    "for year in range(START_YEAR, FINAL_YEAR+1):\n",
    "    year_df = df[df.year==year]\n",
    "    \n",
    "    clean_df, num_diversity_words = prepText(year_df.body)\n",
    "    # wv = get_batch_embeddings(clean_df)\n",
    "\n",
    "    # Calculate sentiment scores for each text and average them\n",
    "    pos_scores = []\n",
    "    neg_scores = []\n",
    "    neu_scores = []\n",
    "    compound_scores = []\n",
    "    \n",
    "    for text in clean_df:\n",
    "        sentiment_scores = sia.polarity_scores(text)\n",
    "        pos_scores.append(sentiment_scores['pos'])\n",
    "        neg_scores.append(sentiment_scores['neg'])\n",
    "        neu_scores.append(sentiment_scores['neu'])\n",
    "        compound_scores.append(sentiment_scores['compound'])\n",
    "    \n",
    "    result = {'year': year,\n",
    "              'pos': sum(pos_scores) / len(pos_scores),\n",
    "              'neg': sum(neg_scores) / len(neg_scores),\n",
    "              'neu': sum(neu_scores) / len(neu_scores),\n",
    "              'compound': sum(compound_scores) / len(compound_scores)}\n",
    "    \n",
    "    results.append(result)"
   ]
  },
  {
   "cell_type": "code",
   "execution_count": 54,
   "metadata": {},
   "outputs": [
    {
     "name": "stdout",
     "output_type": "stream",
     "text": [
      "year: 2009, pos: 0.18, neg: 0.10, neu: 0.72, compound: 0.54\n",
      "year: 2010, pos: 0.18, neg: 0.09, neu: 0.73, compound: 0.66\n",
      "year: 2011, pos: 0.17, neg: 0.08, neu: 0.75, compound: 0.58\n",
      "year: 2012, pos: 0.18, neg: 0.09, neu: 0.73, compound: 0.62\n",
      "year: 2013, pos: 0.17, neg: 0.10, neu: 0.73, compound: 0.54\n",
      "year: 2014, pos: 0.17, neg: 0.09, neu: 0.73, compound: 0.56\n",
      "year: 2015, pos: 0.16, neg: 0.11, neu: 0.73, compound: 0.34\n",
      "year: 2016, pos: 0.16, neg: 0.09, neu: 0.74, compound: 0.50\n",
      "year: 2017, pos: 0.17, neg: 0.07, neu: 0.76, compound: 0.81\n",
      "year: 2018, pos: 0.16, neg: 0.08, neu: 0.77, compound: 0.71\n",
      "year: 2019, pos: 0.17, neg: 0.08, neu: 0.75, compound: 0.76\n",
      "year: 2020, pos: 0.15, neg: 0.10, neu: 0.74, compound: 0.47\n",
      "year: 2021, pos: 0.17, neg: 0.09, neu: 0.74, compound: 0.69\n",
      "year: 2022, pos: 0.16, neg: 0.11, neu: 0.72, compound: 0.45\n",
      "year: 2023, pos: 0.15, neg: 0.08, neu: 0.77, compound: 0.73\n",
      "year: 2024, pos: 0.15, neg: 0.09, neu: 0.76, compound: 0.46\n"
     ]
    }
   ],
   "source": [
    "for result in results:\n",
    "    print(f\"year: {result['year']}, pos: {result['pos']:.2f}, neg: {result['neg']:.2f}, neu: {result['neu']:.2f}, compound: {result['compound']:.2f}\")\n",
    "    "
   ]
  },
  {
   "cell_type": "code",
   "execution_count": 55,
   "metadata": {},
   "outputs": [
    {
     "name": "stdout",
     "output_type": "stream",
     "text": [
      "Regression results:\n",
      "Slope: 0.0012 (change in compound score per year)\n",
      "R-squared: 0.0019\n",
      "P-value: 0.8725\n"
     ]
    },
    {
     "data": {
      "image/png": "[encoded data removed]",
      "text/plain": [
       "<Figure size 1000x600 with 1 Axes>"
      ]
     },
     "metadata": {},
     "output_type": "display_data"
    }
   ],
   "source": [
    "import numpy as np\n",
    "from scipy import stats\n",
    "\n",
    "# First convert results list to a DataFrame for easier manipulation\n",
    "results_df = pd.DataFrame(results)\n",
    "\n",
    "# Create array of years since 2010\n",
    "base_year = 2010\n",
    "years_since_2010 = results_df['year'] - base_year\n",
    "\n",
    "# Get compound scores\n",
    "compound_scores = results_df['compound']\n",
    "\n",
    "# Calculate regression\n",
    "slope, intercept, r_value, p_value, std_err = stats.linregress(years_since_2010, compound_scores)\n",
    "\n",
    "print(f\"Regression results:\")\n",
    "print(f\"Slope: {slope:.4f} (change in compound score per year)\")\n",
    "print(f\"R-squared: {r_value**2:.4f}\")\n",
    "print(f\"P-value: {p_value:.4f}\")\n",
    "\n",
    "# Optional: Plot the regression line\n",
    "import matplotlib.pyplot as plt\n",
    "\n",
    "plt.figure(figsize=(10, 6))\n",
    "plt.scatter(years_since_2010, compound_scores, alpha=0.5)\n",
    "plt.plot(years_since_2010, intercept + slope * years_since_2010, 'r', \n",
    "         label=f'Slope = {slope:.4f}')\n",
    "plt.xlabel('Years since 2010')\n",
    "plt.ylabel('Compound Sentiment Score')\n",
    "plt.title('Sentiment Score Trend Over Time')\n",
    "plt.legend()\n",
    "plt.grid(True, alpha=0.3)\n",
    "plt.show()"
   ]
  }
 ],
 "metadata": {
  "kernelspec": {
   "display_name": ".venv",
   "language": "python",
   "name": "python3"
  },
  "language_info": {
   "codemirror_mode": {
    "name": "ipython",
    "version": 3
   },
   "file_extension": ".py",
   "mimetype": "text/x-python",
   "name": "python",
   "nbconvert_exporter": "python",
   "pygments_lexer": "ipython3",
   "version": "3.11.9"
  }
 },
 "nbformat": 4,
 "nbformat_minor": 2
}
