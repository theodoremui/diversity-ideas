{
 "cells": [
  {
   "cell_type": "markdown",
   "metadata": {},
   "source": [
    "# Scraping with Firecrawl\n"
   ]
  },
  {
   "cell_type": "code",
   "execution_count": 1,
   "metadata": {},
   "outputs": [
    {
     "data": {
      "text/plain": [
       "True"
      ]
     },
     "execution_count": 1,
     "metadata": {},
     "output_type": "execute_result"
    }
   ],
   "source": [
    "from dotenv import load_dotenv, find_dotenv\n",
    "\n",
    "load_dotenv(find_dotenv())"
   ]
  },
  {
   "cell_type": "code",
   "execution_count": 33,
   "metadata": {},
   "outputs": [],
   "source": [
    "from pprint import pprint"
   ]
  },
  {
   "cell_type": "code",
   "execution_count": 2,
   "metadata": {},
   "outputs": [],
   "source": [
    "from llama_index.readers.web import FireCrawlWebReader\n",
    "from llama_index.core import SummaryIndex\n",
    "import os"
   ]
  },
  {
   "cell_type": "code",
   "execution_count": 3,
   "metadata": {},
   "outputs": [],
   "source": [
    "import tracemalloc\n",
    "\n",
    "# Start tracking memory allocations\n",
    "tracemalloc.start()"
   ]
  },
  {
   "cell_type": "code",
   "execution_count": 5,
   "metadata": {},
   "outputs": [],
   "source": [
    "urls = [\n",
    "    \"https://www.columbiaspectator.com/opinion/2024/12/11/at-columbia-we-dont-strike-our-ideological-opponents/\",\n",
    "    \"https://www.columbiaspectator.com/opinion/2024/12/08/columbias-complicity-in-cop29-the-greenwashing-of-human-rights-abuses/\",\n",
    "    \"https://www.columbiaspectator.com/opinion/op-eds/10/\"\n",
    "]"
   ]
  },
  {
   "cell_type": "code",
   "execution_count": 35,
   "metadata": {},
   "outputs": [
    {
     "data": {
      "text/plain": [
       "35"
      ]
     },
     "execution_count": 35,
     "metadata": {},
     "output_type": "execute_result"
    }
   ],
   "source": [
    "FIRECRAWL_API_KEY = os.getenv(\"FIRECRAWL_API_KEY\")\n",
    "\n",
    "firecrawl_reader = FireCrawlWebReader(\n",
    "    api_key=FIRECRAWL_API_KEY,  # Replace with your actual API key from https://www.firecrawl.dev/\n",
    "    mode=\"scrape\",  # Choose between \"crawl\" and \"scrape\" for single page scraping\n",
    "    params={\n",
    "        \"waitFor\": 1000,\n",
    "        \"timeout\": 15000,\n",
    "        \"onlyMainContent\": False,\n",
    "        \"formats\": [\"markdown\", \"html\"]\n",
    "    }\n",
    ")\n",
    "\n",
    "len(FIRECRAWL_API_KEY)"
   ]
  },
  {
   "cell_type": "code",
   "execution_count": 36,
   "metadata": {},
   "outputs": [
    {
     "data": {
      "text/plain": [
       "1"
      ]
     },
     "execution_count": 36,
     "metadata": {},
     "output_type": "execute_result"
    }
   ],
   "source": [
    "documents = firecrawl_reader.load_data(url=urls[0])\n",
    "\n",
    "len(documents)"
   ]
  },
  {
   "cell_type": "code",
   "execution_count": 37,
   "metadata": {},
   "outputs": [
    {
     "name": "stdout",
     "output_type": "stream",
     "text": [
      "{'embedding': None,\n",
      " 'end_char_idx': None,\n",
      " 'excluded_embed_metadata_keys': [],\n",
      " 'excluded_llm_metadata_keys': [],\n",
      " 'id_': '5af2b29d-f546-4347-8569-706ad8e64c26',\n",
      " 'metadata': {'author': 'Elisha Baker',\n",
      "              'credits': '',\n",
      "              'description': 'Why are we at Columbia, and what is the purpose '\n",
      "                             'of higher education? Many of us arrived at '\n",
      "                             'Columbia fueled by curiosity and a yearning for '\n",
      "                             'knowledge. However, in recent months, it has '\n",
      "                             'become clear that not all members of our '\n",
      "                             'community share a vision of open dialogue and '\n",
      "                             'mutual learning.',\n",
      "              'favicon': 'https://s3.amazonaws.com/year-in-review-assets/CDS_Favicon.ico',\n",
      "              'image': 'https://cloudfront-us-east-1.images.arcpublishing.com/spectator/5B47ZNYV3RCIXGQHLZUNIPGBM4.jpg',\n",
      "              'keywords': '',\n",
      "              'og:description': 'Why are we at Columbia, and what is the '\n",
      "                                'purpose of higher education? Many of us '\n",
      "                                'arrived at Columbia fueled by curiosity and a '\n",
      "                                'yearning for knowledge. However, in recent '\n",
      "                                'months, it has become clear that not all '\n",
      "                                'members of our community share a vision of '\n",
      "                                'open dialogue and mutual learning.',\n",
      "              'og:image': 'https://cloudfront-us-east-1.images.arcpublishing.com/spectator/5B47ZNYV3RCIXGQHLZUNIPGBM4.jpg',\n",
      "              'og:site_name': 'Columbia Daily Spectator',\n",
      "              'og:title': 'At Columbia, we don’t ‘strike’ our ideological '\n",
      "                          'opponents',\n",
      "              'ogDescription': 'Why are we at Columbia, and what is the '\n",
      "                               'purpose of higher education? Many of us '\n",
      "                               'arrived at Columbia fueled by curiosity and a '\n",
      "                               'yearning for knowledge. However, in recent '\n",
      "                               'months, it has become clear that not all '\n",
      "                               'members of our community share a vision of '\n",
      "                               'open dialogue and mutual learning.',\n",
      "              'ogImage': 'https://cloudfront-us-east-1.images.arcpublishing.com/spectator/5B47ZNYV3RCIXGQHLZUNIPGBM4.jpg',\n",
      "              'ogSiteName': 'Columbia Daily Spectator',\n",
      "              'ogTitle': 'At Columbia, we don’t ‘strike’ our ideological '\n",
      "                         'opponents',\n",
      "              'scrapeId': '602ecdcd-ee3c-4d0e-a45d-56764f439187',\n",
      "              'sourceURL': 'https://www.columbiaspectator.com/opinion/2024/12/11/at-columbia-we-dont-strike-our-ideological-opponents/',\n",
      "              'statusCode': 200,\n",
      "              'title': 'At Columbia, we don’t ‘strike’ our ideological '\n",
      "                       'opponents',\n",
      "              'twitter:card': 'summary_large_image',\n",
      "              'twitter:site': '@ColumbiaSpec',\n",
      "              'url': 'https://www.columbiaspectator.com/opinion/2024/12/11/at-columbia-we-dont-strike-our-ideological-opponents/',\n",
      "              'viewport': 'width=device-width, initial-scale=1'},\n",
      " 'metadata_seperator': '\\n',\n",
      " 'metadata_template': '{key}: {value}',\n",
      " 'mimetype': 'text/plain',\n",
      " 'relationships': {},\n",
      " 'start_char_idx': None,\n",
      " 'text': '',\n",
      " 'text_template': '{metadata_str}\\n\\n{content}'}\n"
     ]
    }
   ],
   "source": [
    "pprint(vars(documents[0]))"
   ]
  },
  {
   "cell_type": "code",
   "execution_count": 68,
   "metadata": {},
   "outputs": [],
   "source": [
    "import re\n",
    "\n",
    "def clean_markdown(text) -> str:\n",
    "    # Remove markdown images ![alt text](url)\n",
    "    text = re.sub(r'!\\[.*?\\]\\(.*?\\)', '', text)\n",
    "    \n",
    "    # Remove markdown links [text](url)\n",
    "    text = re.sub(r'\\[([^\\]]+)\\]\\([^)]+\\)', r'\\1', text)\n",
    "    \n",
    "    # Remove bare URLs\n",
    "    text = re.sub(r'http[s]?://(?:[a-zA-Z]|[0-9]|[$-_@.&+]|[!*\\\\(\\\\),]|(?:%[0-9a-fA-F][0-9a-fA-F]))+', '', text)\n",
    "    \n",
    "    # Remove \"[]( ### Opinion | Op-eds # \" patterns\n",
    "    text = re.sub(r'\\[\\]\\(', '', text)\n",
    "    text = re.sub(r'###\\s*Opinion\\s*\\|?\\s*Op-eds\\s*#?', '', text)\n",
    "    \n",
    "    # Remove iframe patterns with Opinion/Op-eds\n",
    "    text = re.sub(r'iframe\\s*###\\s*Opinion\\s*\\|?\\s*Op-eds\\s*', '', text)\n",
    "        \n",
    "    # Clean up extra whitespace\n",
    "    text = re.sub(r'\\s+', ' ', text)\n",
    "    \n",
    "    return text.strip()"
   ]
  },
  {
   "cell_type": "markdown",
   "metadata": {},
   "source": [
    "## Native Firecrawl API : An Article\n",
    "\n",
    "Scraping Guide: [guide](https://docs.firecrawl.dev/advanced-scraping-guide)\n"
   ]
  },
  {
   "cell_type": "code",
   "execution_count": 61,
   "metadata": {},
   "outputs": [
    {
     "data": {
      "text/plain": [
       "2"
      ]
     },
     "execution_count": 61,
     "metadata": {},
     "output_type": "execute_result"
    }
   ],
   "source": [
    "\n",
    "from firecrawl import FirecrawlApp\n",
    "\n",
    "app = FirecrawlApp(api_key=FIRECRAWL_API_KEY)\n",
    "\n",
    "content = app.scrape_url(urls[0])\n",
    "\n",
    "len(content)"
   ]
  },
  {
   "cell_type": "code",
   "execution_count": 67,
   "metadata": {},
   "outputs": [
    {
     "data": {
      "text/plain": [
       "'[iframe](about:blank)\\n\\n[![](https://spec-imagehosting.s3.amazonaws.com/CDSwhitemasthead.png)](https://www.columbiaspectator.com/)\\n\\n### [Opinion](https://www.columbiaspectator.com/opinion/) \\\\| [Op-eds](https://www.columbiaspectator.com/opinion/op-eds/)\\n\\n# At Columbia, we don’t ‘strike’ our ideologica'"
      ]
     },
     "execution_count": 67,
     "metadata": {},
     "output_type": "execute_result"
    }
   ],
   "source": [
    "main_content = content['markdown']\n",
    "main_content[:300]"
   ]
  },
  {
   "cell_type": "code",
   "execution_count": 69,
   "metadata": {},
   "outputs": [
    {
     "name": "stdout",
     "output_type": "stream",
     "text": [
      "iframe ### Opinion \\| Op-eds # At Columbia, we don’t ‘strike’ our ideological opponents ### By Judy Goldstein / Senior Staff Photographer By Elisha Baker, Eden Yadegar, and David Lederer • December 11, 2024 at 11:07 AM Share Why are we at Columbia, and what is the purpose of higher education? Many of us arrived at Columbia fueled by curiosity and a yearning for knowledge. However, in recent months, it has become clear that not all members of our community share a vision of open dialogue and mutual learning. We can see these divisions playing out in current campus discourse, including in Amine Bit’s recent op-ed in Spectator titled “ On reckless criticism and propaganda.” In the editorial, Mr. Bit challenges our arguments and ideas by impugning our credibility and accusing us—proud members of the Jewish community—of misrepresenting Jewish identity in a number of our published articles. To be sure, there is a lot we could respond to in Mr. Bit’s personal condemnation. However, we believe it is imperative that we first address a much greater issue with the author’s piece, rather than his distortion of our arguments and delegitimization of our identities. In fact, Mr. Bit’s piece is not only about attacking hundreds of proud and outspoken Jews at Columbia, but rather a fundamental rejection of the core tenets of a liberal arts education. Mr. Bit concludes his op-ed “by decidedly declaring that my response is not the beginning of a dialogue.” He elaborates, “I am not interested in discussing these points over coffee. My greatest endeavor in this response, in this _criticism_, has not been to ennoble my target, but rather, to strike it—to shatter the possibility that these pieces, by virtue of not having been responded to, could represent a normalized campus discourse.” It should go without saying that declaring war—by stating his intent to “strike”—on the stated experiences of Zionist students at Columbia, his “target,” is antithetical to a university’s ethical values. As importantly, it is antithetical to our academic mission. Especially at Columbia, the home of the Core Curriculum, critical engagement with diverse perspectives and big ideas is a moral and intellectual imperative. What could be further from the values of engagement and diversity than a public rejection of dialogue with a certain _type_ of student? One cannot just declare, as Mr. Bit does, that history, acting as an independent force, will relegate certain arguments “to the dustbin” on its own. To borrow a concept from Justice Oliver Wendell Holmes, let these arguments compete in the marketplace of ideas. We presume that Mr. Bit’s stated objective, to “strike” rather than engage with us, is a metaphor for winning an argument. If that is the case, let us engage with his argument. Mr. Bit seems to expect that he, a non-Jew, can criticize and invalidate our Jewish identities—an egregious overstep, to say the least—and then walk away from the conversation altogether. At the risk of disappointing him, we decidedly declare that one cannot win an argument by rejecting his counterparts and refusing to face challenges to his own claims. We believe there is a time and a place for debate about issues like the Israeli-Palestinian conflict, University governance structures, and the fundamental purpose of a university. Unlike Mr. Bit, we are willing to be challenged and eager to grapple with hard questions and different perspectives. Unfortunately, Mr. Bit’s article displays the opposite approach, embodying one of the most significant problems plaguing our campus: widespread refusal to engage different perspectives with openness and curiosity, often in the name of activism and “justice.” In January, for example, Columbia University Apartheid Divest protested against Barnard’s “Day of Dialogue,” with CUAD organizers openly calling for a boycott of such initiatives altogether. Students like Mr. Bit and the organizers of CUAD are not lone wolves fighting against Columbia’s core values. The culture of nonengagement at Columbia runs deeper than the behavior of particular students; they are taking their cues from some loud faculty members who also have expressed views that run completely counter to what a university should be. Among the faculty, we have observed similar conduct, including when a group of faculty members supported and participated in the protest encouraging the boycott of the “Days of Dialogue” in January. This year, such behavior has occurred frequently in the context of ongoing internal discussions about University governance. For context, on October 15, more than 250 community members signed a petition advocating for “best practices and good governance” within the University Senate. The proposal includes limiting the term of the executive committee chair to two terms, reviewing committee representation, instituting whistleblower policies, developing a code of ethics, and increasing transparency. Regardless of one’s personal opinions on the substance of the petition, these proposals and allegations warrant robust discussion for the sake of strengthening our institutions of governance. Yet some senators have openly dismissed the petition as not even worth discussing. On October 28, a counter-petition that sought to shut down debate by characterizing itself as “ in support” of the University Senate was circulated. The implication that the original petition was anti-senate is a perfect example of refusing to engage with arguments in good faith. And when the counter-petition did comment on substantive proposals, it simply misrepresented the original petition, suggesting falsely that the original petition sought to advance for-profit governance principles when in fact the original petition cited best practices for nonprofits like Columbia. Name-calling and misinformation should not be considered good-faith discourse around campus governance. The recent senate plenary meeting on November 22 was no less disturbing. One senator said, “I want to condemn in the strongest possible terms this petition as a waste of everyone’s time, both institutionally and individually.” Another affirmed his agreement “about the problem that we’re considering some of this seriously.” These examples highlight the disappointing trend among members of our community who simply refuse to participate in critical, good-faith conversation with those who hold opposing points of view. Curiosity and openness are essential prerequisites in an institution of higher learning such as our own. Promoting these qualities can thus only enrich our shared intellectual environment. Those who undermine these values call into question the entire purpose of higher education as we see it. With this in mind, we wholeheartedly reiterate our commitment to fostering meaningful dialogue with our peers, especially those with whom we have profound disagreements. Although we stress that the legitimacy of our Jewish identities should not be up for debate (surely no other minority identity would be subject to such denialism), we welcome robust discussions about campus governance reform, Israel, and more. These discussions are not a waste of time; they are a critical step toward making Columbia a better place. Lastly, despite Amine Bit’s fervent objections, we renew our invitation to anyone who disagrees with us, wants to understand us, wants to criticize us, or is willing to share their own perspective: Coffee is on us. _Elisha Baker is a third-year undergraduate studying Middle Eastern history and a co-chair of Columbia Aryeh. Eden Yadegar is a fourth-year undergraduate studying Middle Eastern studies and the former president of Students Supporting Israel. David Lederer is a third-year undergraduate studying financial engineering and a co-chair of Columbia Aryeh._ _**To respond to this op-ed, or to submit your own, contact**_ _**opinion@columbiaspectator.com**_ _**.**_ Write with us: Submit an op-ed > Have a tip? Send it to us here > More In Opinion In defense of our shared values BY Joshua Mitts and David Pozen·Feb 13 As Defense Secretary Hegseth rewrites his rhetoric, Columbia’s women veterans cement their legacy BY Ebonnie Goodfield·Feb 7 Protecting our university from Trump’s cruel agenda means resisting his instrumentalization of antisemitism BY Debbie Becher, Susan Bernofsky, Elizabeth Bernstein, Yinon Cohen, Jack Halberstam, Marianne Hirsch, Joseph Howley, Daniel Malinsky, Nara Milanich, Manijeh Moradian, Robert Newton, James Piacentini, Alisa Solomon, Bruce Robbins, and James Schamus·Feb 7 Editor's Picks Spectator announces 149th managing board BY Isabella Ramirez, Esha Karam, and Katie Zhang·Dec 11, 2024 Columbia President Minouche Shafik resigns amid campus turmoil over war in Gaza BY Sarah Huddleston and Shea Vance·Aug 14, 2024 Our Campus. Our Crisis. BY Isabella Ramirez, Amira McKee, Rebecca Massel, Emily Forgash, Noah Bernstein, Sabrina Ticer-Wurr, and Apurva Chakravarthy·May 4, 2024 NYPD sweeps occupied Hamilton Hall, arrests dozens BY Esha Karam, Shea Vance, Sarah Huddleston, Amira McKee, and Manuela Silva·Apr 30, 2024 Dozens occupy Hamilton Hall as pro-Palestinian protests spread across campus BY Amira McKee, Sarah Huddleston, Esha Karam, Shea Vance, Manuela Silva, and Claire Cleary·Apr 29, 2024 Copyright Spectator Publishing Company. All rights reserved. 490 Riverside Drive, Rm 414, New York, NY 10027 Subscribe to our newsletter. - About Us - Usage Rights - Contact Us - Advertise - Donate - Join - DEI\n"
     ]
    }
   ],
   "source": [
    "print(clean_markdown(main_content))"
   ]
  },
  {
   "cell_type": "markdown",
   "metadata": {},
   "source": [
    "## Native Firecrawl API : Article Listing\n"
   ]
  },
  {
   "cell_type": "code",
   "execution_count": 70,
   "metadata": {},
   "outputs": [
    {
     "data": {
      "text/plain": [
       "2"
      ]
     },
     "execution_count": 70,
     "metadata": {},
     "output_type": "execute_result"
    }
   ],
   "source": [
    "listing_url = \"https://www.columbiaspectator.com/opinion/op-eds/10/\"\n",
    "\n",
    "listing_content = app.scrape_url(listing_url)\n",
    "\n",
    "len(listing_content)\n"
   ]
  },
  {
   "cell_type": "code",
   "execution_count": 71,
   "metadata": {},
   "outputs": [
    {
     "name": "stdout",
     "output_type": "stream",
     "text": [
      "dict_keys(['markdown', 'metadata'])\n"
     ]
    }
   ],
   "source": [
    "print(listing_content.keys())"
   ]
  },
  {
   "cell_type": "code",
   "execution_count": 73,
   "metadata": {},
   "outputs": [
    {
     "name": "stdout",
     "output_type": "stream",
     "text": [
      "[iframe](about:blank)\n",
      "\n",
      "[![](https://spec-imagehosting.s3.amazonaws.com/CDSwhitemasthead.png)](https://www.columbiaspectator.com/)\n",
      "\n",
      "# opinion: op eds\n",
      "\n",
      "![](https://www.columbiaspectator.com/resizer/v2/L36KMJORLJDA3A72XC7TQXHKGM.jpg?auth=c0260fa55be13ac1ebff56bc66e3a1b8dc632f3984bea6dbd32ed9e85f83eced)\n",
      "\n",
      "[Columbia researchers: It’s time to divest our labor from the war machine](https://www.columbiaspectator.com/opinion/2024/11/26/columbia-researchers-its-time-to-divest-our-labor-from-the-war-machine/)\n",
      "\n",
      "BY [Columbia University Researchers Against War](https://www.columbiaspectator.com/contributors//)November 26, 2024\n",
      "\n",
      "More than any other actor, the U.S. military now [sets the terms](https://www.thenation.com/article/world/the-pentagons-quest-for-academic-intelligence-ai/) of the university research landscape. In 2023, nearly half of [federal research funding](https://crsreports.congress.gov/product/pdf/R/R47564) went to the Department of Defense, ranking it first among all agencies that supply academic research grants, including the Department of Health and Human Services and the National Science Foundation. Why is this the case? And what are the implications for us as research workers—our ethical principles, our relationships with principal investigators, our career goals, and our control, or lack thereof—over research applications? What can we do together to divest our labor from institutions of war and violence?\n",
      "\n",
      "![](https://www.columbiaspectator.com/resizer/v2/B6MTUHSPPRDFNFJ2CO7ZA2M6T4.jpg?auth=6cc93e6042b780a6c5a49f3b2eaaa0dca1057e116560f48e88a57e3414e6227d)\n",
      "\n",
      "[It’s time to speak, Columbia](https://www.columbiaspectator.com/opinion/2024/11/13/its-time-to-speak-columbia/)\n",
      "\n",
      "BY [Ishaan Barrett](https://www.columbiaspectator.com/contributors//)November 13, 2024\n",
      "\n",
      "On November 6, Wesleyan University President Michael S. Roth [released a statement to the wider university community](https://roth.blogs.wesleyan.edu/) following the results of the 2024 presidential election. At the start of his statement, Roth writes, “We don’t have to pretend to be neutral, but we do have a job to do. The work in this new political context is to continue to maintain Wesleyan’s commitment to an education based in boldness, rigor, and practical idealism.” Roth’s confrontation of institutional neutrality as a fundamental roadblock to addressing the new volatility of America’s political climate today and emphasis on the critical role that universities like Wesleyan will play in protecting its students moving forward is a masterclass in university leadership and adaptability.\n",
      "\n",
      "![](https://www.columbiaspectator.com/resizer/v2/VCLIFRN64VDDFA44XRLSOVGOXQ.jpg?auth=2c53a479ffb2405959fc6a5394ff2783f38c9e343f372cc2484ed2d9c80dbf3b)\n",
      "\n",
      "[Columbia is ready for the Green Party. But can we vote our conscience?](https://www.columbiaspectator.com/opinion/2024/11/02/columbia-is-ready-for-the-green-party-but-can-we-vote-our-conscience/)\n",
      "\n",
      "BY [Alexander Knue](https://www.columbiaspectator.com/contributors//)November 2, 2024\n",
      "\n",
      "When Chappell Roan was asked who she would vote for in the 2024 presidential election, she [deflected](https://www.theguardian.com/music/2024/sep/20/fame-is-like-going-through-puberty-chappell-roan-on-sexuality-superstardom-and-the-joy-of-drag), saying, “There are problems on both sides.” The internet grew furious and slammed her as apolitical. But Roan’s reluctance to choose between two flawed options mirrors a growing disillusionment and third-party naïveté present on our own campus. Everywhere at Columbia, I see glimpses of an alignment with the values of the Green Party, even alongside confusion about what those values actually are. Recent events demonstrate this vividly.\n",
      "\n",
      "![](https://www.columbiaspectator.com/resizer/v2/5B47ZNYV3RCIXGQHLZUNIPGBM4.jpg?auth=3f0e314426354b2a6def897752db7c3d760028c51da03562e1cb47000285f56d)\n",
      "\n",
      "[How you can get out the vote](https://www.columbiaspectator.com/opinion/2024/11/02/how-you-can-get-out-the-vote/)\n",
      "\n",
      "BY [Camille Duran,](https://www.columbiaspectator.com/contributors//) [Joaquin Recinos,](https://www.columbiaspectator.com/contributors//) [and Alisa Gulyansky](https://www.columbiaspectator.com/contributors//)November 2, 2024\n",
      "\n",
      "Over the past five months, former President Donald Trump and Vice President Kamala Harris have been locked in a tense, polarizing contest for the U.S. presidency, leaving them in a [near-even split](https://projects.fivethirtyeight.com/polls/president-general/2024/national/) in the polls just a week before Election Day. With [polls confidently forecasting](https://www.nytimes.com/interactive/2024/us/elections/presidential-election-swing-states.html) a Trump or Harris win in all but seven states, the fight for the presidency can feel out of our hands. While students might feel their votes are fated to join or yield to an inexorable majority, the decision of who will ultimately represent our nation, states, and local communities is far from a predetermined future—and it is by no means one in which we are powerless to shape the outcome.\n",
      "\n",
      "![](https://www.columbiaspectator.com/resizer/v2/EVRP4BB56RFJNDSGQVOZYSLIFY.jpg?auth=a1893f63645d779cac6558a563557a6ed1cb7599e5c995b377a913552cc6db60)\n",
      "\n",
      "[On effectively using your voice in this election](https://www.columbiaspectator.com/opinion/2024/10/30/on-effectively-using-your-voice-in-this-election/)\n",
      "\n",
      "BY [Lilja Hanson](https://www.columbiaspectator.com/contributors//)October 30, 2024\n",
      "\n",
      "As absentee ballots flood the mailroom and political ads clog our Instagram feeds, many of us are preparing to vote in a presidential election for the first time. Yet, as we weigh our options, some of us are dreading the options that lay before us, forgetting that voting is a democratic tradition that should instead be celebrated. If we want the authority to resist a government that doesn’t represent us, we cannot turn our backs on the process that allows us to voice our opinions by withholding or wasting our votes on third-party candidates.\n",
      "\n",
      "![](https://www.columbiaspectator.com/resizer/v2/BC3ALZBQO5BWLDWPO5CIXLSNOQ.jpg?auth=914290d50f71342bcecd0ce8879f61911682eda7a20391bc6902798d5105e4af)\n",
      "\n",
      "[We won our fight for medication abortion on Barnard’s campus. Where is it?](https://www.columbiaspectator.com/opinion/2024/10/29/we-won-our-fight-for-medication-abortion-on-barnards-campus-where-is-it/)\n",
      "\n",
      "BY [Reproductive Justice Collective](https://www.columbiaspectator.com/contributors//)October 29, 2024\n",
      "\n",
      "Moreover, many Barnard students find that campus may be their only avenue to access abortion care. As of June 2024, [14 states in the United States have banned](https://usafacts.org/articles/which-states-ban-the-abortion-pill/) the abortion pill mifepristone, including but not limited to Texas, Louisiana, Indiana, Missouri, and Tennessee. Students who may be altogether unable to access medication abortion in their home states turn to their college campuses in less restricted states, like Barnard’s, for convenient support and transparent care. The importance of medication abortion access on Barnard’s campus—especially for those who may have nowhere else to turn—cannot be overstated.\n",
      "\n",
      "![](https://www.columbiaspectator.com/resizer/v2/DJHSWAQBX5AEZHGPAT6U755BBM.jpg?auth=3ab045165d878b889f9920847de5247227050eb5bf5ac76dad822d78b77624ee)\n",
      "\n",
      "[On that “Update for Our Community”](https://www.columbiaspectator.com/opinion/2024/10/23/on-that-update-for-our-community/)\n",
      "\n",
      "BY [Gawon Jo](https://www.columbiaspectator.com/contributors//)October 23, 2024\n",
      "\n",
      "On October 6, I ran down to Columbia from my apartment, thinking that I would be late for service. I fumbled my way into the Northwest Corner Building, struggled to get my Columbia ID out of my wallet while balancing my bag on my knee, was stopped by a security guard asking me to hold up my card, and took the escalator two steps at a time. I barely got to Earl Hall on time… and found the room empty.\n",
      "\n",
      "![](https://www.columbiaspectator.com/resizer/v2/RDD55QTEENBZ7GLOACURFOIDUU.jpg?auth=0e29c49ba03321966c671d687e3418f2a9a900ccc4a61c8cd266fafbb958c839)\n",
      "\n",
      "[Recentering Palestine, reclaiming the movement](https://www.columbiaspectator.com/opinion/2024/10/19/recentering-palestine-reclaiming-the-movement/)\n",
      "\n",
      "BY [Columbia Palestine Solidarity Coalition](https://www.columbiaspectator.com/contributors//)October 19, 2024\n",
      "\n",
      "In writing this, we do not wish to sow discord or deal a blow to the student movement as it exists—on the contrary, we hope to reclaim our original focus and energy. We, too, envision a liberated Palestine and collective liberation for all marginalized peoples. But we are not a political party. Why would we amplify anything other than divestment from the bombs dropping on our people’s heads as we speak? We regret that CUAD has shifted from a horizontally structured coalition founded on Palestinian liberation to a nebulous organization that is not led by the affinity group of Palestinian student organizers. As a people already denied [the right to narrate our struggle](https://www.lrb.co.uk/the-paper/v06/n03/edward-said/permission-to-narrate), let alone the right to exist, we refuse to have our liberation dictated for us. We refuse to allow anyone to speak over us any longer.\n",
      "\n",
      "![](https://www.columbiaspectator.com/resizer/v2/M3THZ76BPFA2XIUBTV34WDK2ZQ.png?auth=90b9bc38d6d74be967acffcfb90c06a193bd6b8628079d9df6bf285f8860840a)\n",
      "\n",
      "[Join us in the Liberation Sukkah](https://www.columbiaspectator.com/opinion/2024/10/16/join-us-in-the-liberation-sukkah/)\n",
      "\n",
      "BY [The Liberation Sukkah Collective](https://www.columbiaspectator.com/contributors//)October 16, 2024\n",
      "\n",
      "We believe that our ritual spaces, our prayer, and our religious observance must be integrated into our political solidarity with Palestine. Given that Zionist institutions such as Columbia/Barnard Hillel utterly dominate Jewish life on campus, anti-Zionist Jews are forced to make an impossible choice: either forgo our values to observe in spaces aligned with genocide, or forgo practicing our traditions altogether. We have decided we will not pray in spaces that insist on legitimizing and supporting Zionist violence, that often prioritize Jewish supremacy and ethnonationalism over religious practice, and in which we and our Judaism are unwelcome anyway. But, we also refuse to abandon our Jewish identity and practice. Our only option is to create our own spaces, where we can practice Judaism on our terms, in a way that aligns with our support for Palestinian liberation.\n",
      "\n",
      "![](https://www.columbiaspectator.com/resizer/v2/ITB5DW22QJG43KVCKTNPGUIQSY.jpg?auth=e896cd4c4f478b0d0ff6c88dedeba5cd212090e43bc51522d1665f17ad1b12fe)\n",
      "\n",
      "[Senior administrators wear too many hats](https://www.columbiaspectator.com/opinion/2024/10/16/senior-administrators-wear-too-many-hats/)\n",
      "\n",
      "BY [Jules Heidelberg](https://www.columbiaspectator.com/contributors//)October 16, 2024\n",
      "\n",
      "On September 17, interim University President Katrina Armstrong announced the creation of the president’s advisory committee on institutional voice. Officially, [the committee’s purpose](https://president.columbia.edu/news/appointment-co-chairs-presidents-advisory-committee-institutional-voice) is to provide “a set of recommendations on the proper role of institutional voice” at Columbia. I’ll take the liberty of giving some precision to this vague statement: The committee’s task is to determine whether Columbia should take on the shroud of institutional neutrality.\n",
      "\n",
      "[Back](https://www.columbiaspectator.com/opinion/op-eds/0/)\n",
      "\n",
      "[Next](https://www.columbiaspectator.com/opinion/op-eds/20/)\n",
      "\n",
      "![](https://theshaft.info/static/media/spectator-logo.d02684b0b48590053635.png)\n",
      "\n",
      "Copyright Spectator Publishing Company. All rights reserved. 490 Riverside Drive, Rm 414, New York, NY 10027\n",
      "\n",
      "Subscribe to our newsletter.\n",
      "\n",
      "- [About Us](https://www.columbiaspectator.com/about-us)\n",
      "- [Usage Rights](https://www.columbiaspectator.com/about/usage-rights)\n",
      "- [Contact Us](https://www.columbiaspectator.com/about-us#contact)\n",
      "- [Advertise](https://www.specpublishing.com/media-kit-form)\n",
      "- [Donate](https://www.specpublishing.com/donate)\n",
      "- [Join](https://www.specpublishing.com/join/)\n",
      "- [DEI](https://www.columbiaspectator.com/dei/)\n"
     ]
    }
   ],
   "source": [
    "print(listing_content['markdown'])"
   ]
  },
  {
   "cell_type": "code",
   "execution_count": null,
   "metadata": {},
   "outputs": [],
   "source": []
  }
 ],
 "metadata": {
  "kernelspec": {
   "display_name": ".venv",
   "language": "python",
   "name": "python3"
  },
  "language_info": {
   "codemirror_mode": {
    "name": "ipython",
    "version": 3
   },
   "file_extension": ".py",
   "mimetype": "text/x-python",
   "name": "python",
   "nbconvert_exporter": "python",
   "pygments_lexer": "ipython3",
   "version": "3.11.9"
  }
 },
 "nbformat": 4,
 "nbformat_minor": 2
}
