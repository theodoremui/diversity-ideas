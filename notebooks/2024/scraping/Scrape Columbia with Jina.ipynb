{
 "cells": [
  {
   "cell_type": "markdown",
   "metadata": {},
   "source": [
    "# Scraping with Jina\n"
   ]
  },
  {
   "cell_type": "code",
   "execution_count": 1,
   "metadata": {},
   "outputs": [
    {
     "data": {
      "text/plain": [
       "True"
      ]
     },
     "execution_count": 1,
     "metadata": {},
     "output_type": "execute_result"
    }
   ],
   "source": [
    "from dotenv import load_dotenv, find_dotenv\n",
    "\n",
    "load_dotenv(find_dotenv())"
   ]
  },
  {
   "cell_type": "code",
   "execution_count": 2,
   "metadata": {},
   "outputs": [],
   "source": [
    "import os\n",
    "from ingest import Scraper\n",
    "\n",
    "scraper = Scraper(api_key=os.getenv(\"JINA_API_KEY\"))"
   ]
  },
  {
   "cell_type": "code",
   "execution_count": 3,
   "metadata": {},
   "outputs": [],
   "source": [
    "import tracemalloc\n",
    "\n",
    "# Start tracking memory allocations\n",
    "tracemalloc.start()"
   ]
  },
  {
   "cell_type": "code",
   "execution_count": 4,
   "metadata": {},
   "outputs": [],
   "source": [
    "urls = [\n",
    "    \"https://www.columbiaspectator.com/opinion/op-eds/1/\",\n",
    "    \"https://www.columbiaspectator.com/opinion/2024/12/11/at-columbia-we-dont-strike-our-ideological-opponents/\",\n",
    "    \"https://www.columbiaspectator.com/opinion/2024/12/08/columbias-complicity-in-cop29-the-greenwashing-of-human-rights-abuses/\",\n",
    "]"
   ]
  },
  {
   "cell_type": "code",
   "execution_count": 5,
   "metadata": {},
   "outputs": [],
   "source": [
    "import asyncio\n",
    "import aiohttp\n",
    "\n",
    "progress = {\"completed\": 0}\n",
    "semaphore = asyncio.Semaphore(2)"
   ]
  },
  {
   "cell_type": "code",
   "execution_count": 6,
   "metadata": {},
   "outputs": [
    {
     "name": "stdout",
     "output_type": "stream",
     "text": [
      "Completed 1 out of 1 requests\n"
     ]
    },
    {
     "data": {
      "text/plain": [
       "(2, dict)"
      ]
     },
     "execution_count": 6,
     "metadata": {},
     "output_type": "execute_result"
    }
   ],
   "source": [
    "content = \"\"\n",
    "async with aiohttp.ClientSession() as session:\n",
    "    content = await scraper.fetch_markdown(\n",
    "        session=session, \n",
    "        url=urls[0], \n",
    "        semaphore=semaphore, \n",
    "        progress=progress, \n",
    "        total=1,\n",
    "        remove_links=False\n",
    "    )\n",
    "\n",
    "len(content), type(content)"
   ]
  },
  {
   "cell_type": "code",
   "execution_count": 7,
   "metadata": {},
   "outputs": [
    {
     "data": {
      "text/plain": [
       "(dict_keys(['source', 'content']),\n",
       " 'https://www.columbiaspectator.com/opinion/op-eds/1/')"
      ]
     },
     "execution_count": 7,
     "metadata": {},
     "output_type": "execute_result"
    }
   ],
   "source": [
    "content.keys(), content[\"source\"]"
   ]
  },
  {
   "cell_type": "code",
   "execution_count": 8,
   "metadata": {},
   "outputs": [
    {
     "name": "stdout",
     "output_type": "stream",
     "text": [
      "('Columbia Daily Spectator\\n'\n",
      " '===============\\n'\n",
      " '    \\n'\n",
      " '\\n'\n",
      " '[](https://www.columbiaspectator.com/)\\n'\n",
      " '\\n'\n",
      " 'opinion: op eds\\n'\n",
      " '===============\\n'\n",
      " '\\n'\n",
      " '[In defense of our shared '\n",
      " 'values](https://www.columbiaspectator.com/opinion/2025/02/13/in-defense-of-our-shared-values/)\\n'\n",
      " '\\n'\n",
      " 'BY [Joshua Mitts](https://www.columbiaspectator.com/contributors//) and '\n",
      " '[David Pozen](https://www.columbiaspectator.com/contributors//) February 14\\n'\n",
      " '\\n'\n",
      " 'This weaponization of deportation is the latest in a series of increasingly '\n",
      " 'virulent online attacks on Columbia students. Although many of these attacks '\n",
      " 'claim to be combating antisemitism, others have targeted Jewish and Israeli '\n",
      " 'students. Betar itself recently posted that a Jewish first-year who chose to '\n",
      " 'attend Barnard “must enjoy abuse” and shouldn’t “be shocked when terrible '\n",
      " 'things happen” to her.\\n'\n",
      " '\\n'\n",
      " '[As Defense Secretary Hegseth rewrites his rhetoric, Columbia’s women '\n",
      " 'veterans cement their '\n",
      " 'legacy](https://www.columbiaspectator.com/opinion/2025/02/07/as-defense-secretary-hegseth-rewrites-his-rhetoric-columbias-women-veterans-cement-their-legacy/)\\n'\n",
      " '\\n'\n",
      " 'BY [Ebonnie Goodfield](https://www.columbiaspectator.com/contributors//) '\n",
      " 'February 7\\n'\n",
      " '\\n'\n",
      " 'These contributions are undermined by remarks from Hegseth, who has framed '\n",
      " 'women’s roles in the military as inherently disruptive, writing in his '\n",
      " '[recent '\n",
      " 'book](https://time.com/7206761/pete-hegseth-senate-hearing-defense-military-women/#:~:text=Hegseth%20wrote%20in%20his%202024%20book%20that%20women%20are%20meant%20to%20be%20%E2%80%9Clife%2Dgivers%E2%80%9D%20and%20shouldn%E2%80%99t%20serve%20in%20combat%20roles.%20%E2%80%9CDads%20push%20us%20to%20take%20risks.%20Moms%20put%20the%20training%20wheels%20on%20our%20bikes.%20We%20need%20moms.%20But%20not%20in%20the%20military%2C%20especially%20not%20in%20combat%20units%2C%E2%80%9D%20he%20wrote.), '\n",
      " '“Dads push us to take risks. Moms put the training wheels on our bikes. We '\n",
      " 'need moms. But not in the military, especially in combat units.” While '\n",
      " 'Hegseth has platformed this rhetoric and brought it into the mainstream, '\n",
      " 'these ideas are nothing new.\\n'\n",
      " '\\n'\n",
      " '[Protecting our university from Trump’s cruel agenda means resisting his '\n",
      " 'instrumentalization of '\n",
      " 'antisemitism](https://www.columbiaspectator.com/opinion/2025/02/07/protecting-our-university-from-trumps-cruel-agenda-means-resisting-his-instrumentalization-of-antisemitism/)\\n'\n",
      " '\\n'\n",
      " 'BY [Debbie Becher,](https://www.columbiaspectator.com/contributors//) [Susan '\n",
      " 'Bernofsky,](https://www.columbiaspectator.com/contributors//) [Elizabeth '\n",
      " 'Bernstein,](https://www.columbiaspectator.com/contributors//) [Yinon '\n",
      " 'Cohen,](https://www.columbiaspectator.com/contributors//) [Jack '\n",
      " 'Halberstam,](https://www.columbiaspectator.com/contributors//) [Marianne '\n",
      " 'Hirsch,](https://www.columbiaspectator.com/contributors//) [Joseph '\n",
      " 'Howley,](https://www.columbiaspectator.com/contributors//) [Daniel '\n",
      " 'Malinsky,](https://www.columbiaspectator.com/contributors//) [Nara '\n",
      " 'Milanich,](https://www.columbiaspectator.com/contributors//) [Manijeh '\n",
      " 'Moradian,](https://www.columbiaspectator.com/contributors//) [Robert '\n",
      " 'Newton,](https://www.columbiaspectator.com/contributors//) [James '\n",
      " 'Piacentini,](https://www.columbiaspectator.com/contributors//) [Alisa '\n",
      " 'Solomon,](https://www.columbiaspectator.com/contributors//) [Bruce '\n",
      " 'Robbins,](https://www.columbiaspectator.com/contributors//) [and James '\n",
      " 'Schamus](https://www.columbiaspectator.com/contributors//) February 7\\n'\n",
      " '\\n'\n",
      " 'In the days since President Donald Trump’s inauguration, the federal '\n",
      " 'government declared war on our University’s very purpose. It nearly '\n",
      " '[froze](https://apnews.com/article/donald-trump-pause-federal-grants-aid-f9948b9996c0ca971f0065fac85737ce) '\n",
      " 'research funding—the lifeblood of the pursuit of knowledge—attacked programs '\n",
      " 'that foster diversity, '\n",
      " '[removed](https://www.nytimes.com/2025/01/31/us/politics/education-dept-title-ix-sexual-misconduct.html) '\n",
      " 'Title IX protections and [banned '\n",
      " 'care](https://www.nytimes.com/2025/02/01/nyregion/nyu-langone-hospital-trans-care-youth.html) '\n",
      " 'for trans members of our community, and '\n",
      " '[expunged](https://www.theguardian.com/us-news/2025/feb/04/dcd-pages-trump-public-health) '\n",
      " 'public health and other scientific information from government agency '\n",
      " 'databases.\\n'\n",
      " '\\n'\n",
      " '[Against Austerity: Why we must fight against Columbia cutting Ph.D. cohorts '\n",
      " 'based on '\n",
      " 'lies](https://www.columbiaspectator.com/opinion/2025/02/05/against-austerity-why-we-must-fight-against-columbia-cutting-phd-cohorts-based-on-lies/)\\n'\n",
      " '\\n'\n",
      " 'BY [Student Workers of Columbia - SWC-UAW '\n",
      " '2710](https://www.columbiaspectator.com/contributors//) February 5\\n'\n",
      " '\\n'\n",
      " 'The Student Workers of Columbia union recently learned that Columbia '\n",
      " 'administrators quietly told faculty in the Graduate School of Arts and '\n",
      " 'Sciences to cut incoming Ph.D. cohorts by up to 65 percent. In the days '\n",
      " 'since, we have heard that cuts will not be as drastic, but the severity '\n",
      " 'remains unclear as Columbia has yet to issue transparent communication about '\n",
      " 'the issue. We, the Student Workers of Columbia-United Auto Workers Local '\n",
      " '2710 (SWC), are concerned about how these cuts, premised on a manufactured '\n",
      " 'narrative of fiscal crisis, will harm the University.\\n'\n",
      " '\\n'\n",
      " '[It’s time to talk about '\n",
      " 'transphobia](https://www.columbiaspectator.com/opinion/2025/02/03/its-time-to-talk-about-transphobia/)\\n'\n",
      " '\\n'\n",
      " 'BY [Miriam Mason](https://www.columbiaspectator.com/contributors//) February '\n",
      " '4\\n'\n",
      " '\\n'\n",
      " 'Within hours of being sworn into office, President Donald Trump signed [an '\n",
      " 'executive '\n",
      " 'order](https://www.whitehouse.gov/presidential-actions/2025/01/defending-women-from-gender-ideology-extremism-and-restoring-biological-truth-to-the-federal-government/) '\n",
      " 'that seeks to wholly challenge the legitimacy and jeopardize the safety of '\n",
      " 'transgender and nonbinary Americans by enforcing a strict, binary, and '\n",
      " 'immutable [definition of '\n",
      " 'gender](https://www.whitehouse.gov/presidential-actions/2025/01/defending-women-from-gender-ideology-extremism-and-restoring-biological-truth-to-the-federal-government/). '\n",
      " 'The order '\n",
      " '[directs](https://www.aclu.org/news/lgbtq-rights/trumps-executive-orders-promoting-sex-discrimination-explained) '\n",
      " 'the Department of Homeland Security and the Federal Bureau of Prisons to '\n",
      " 'mandate that incarcerated trans women reside in men’s prisons and detention '\n",
      " 'centers and bars trans people from changing the gender designation on their '\n",
      " 'identity documents.\\n'\n",
      " '\\n'\n",
      " '[In Gaza, a ‘political’ ethical problem is still an ethical '\n",
      " 'problem](https://www.columbiaspectator.com/opinion/2025/01/29/in-gaza-a-political-ethical-problem-is-still-an-ethical-problem/)\\n'\n",
      " '\\n'\n",
      " 'BY [Feroze Sidhwa,](https://www.columbiaspectator.com/contributors//) [Lana '\n",
      " 'Abugharbieh,](https://www.columbiaspectator.com/contributors//) [Adam H. '\n",
      " 'Hamawy,](https://www.columbiaspectator.com/contributors//) [Mark '\n",
      " 'Perlmutter,](https://www.columbiaspectator.com/contributors//) [and Juliana '\n",
      " 'Bol](https://www.columbiaspectator.com/contributors//) January 29\\n'\n",
      " '\\n'\n",
      " 'On October 14, 2024, Indigenous People’s Day, the five of us were set to '\n",
      " 'participate in a panel discussion at the Vagelos College of Physicians and '\n",
      " 'Surgeons focused on humanitarian surgical work in the Gaza Strip. Juliana '\n",
      " 'Bol, a professor at the Mailman School of Public Health, was selected as the '\n",
      " 'panel moderator. The remaining four of us had worked in emergency medical '\n",
      " 'teams in Gaza during the previous year, and were slated to share our '\n",
      " 'experiences.\\n'\n",
      " '\\n'\n",
      " '[Columbia University Irving Medical Center is complicit, '\n",
      " 'too](https://www.columbiaspectator.com/opinion/2025/01/23/columbia-university-irving-medical-center-is-complicit-too/)\\n'\n",
      " '\\n'\n",
      " 'BY [Coalition of Uptown Health Sciences for '\n",
      " 'Palestine](https://www.columbiaspectator.com/contributors//) January 23\\n'\n",
      " '\\n'\n",
      " 'Compared to the administrative attention on Columbia’s Morningside campus, '\n",
      " 'the Columbia University Irving Medical Center has remained largely out of '\n",
      " 'the spotlight with Columbia’s suppression of speech critical of Israel’s '\n",
      " 'assault on Gaza. However, we believe that the medical center administration '\n",
      " 'is just as culpable in pro-Israel bias based on its censorship of discussion '\n",
      " 'of these war crimes. Through its repression of any discussion relating to '\n",
      " 'the ongoing destruction of the health care system in Gaza, it has '\n",
      " 'sidestepped its obligation to medical neutrality and allowed bias against '\n",
      " 'its Palestinian, Arab, and Muslim employees and patients.\\n'\n",
      " '\\n'\n",
      " '[At Columbia, we don’t ‘strike’ our ideological '\n",
      " 'opponents](https://www.columbiaspectator.com/opinion/2024/12/11/at-columbia-we-dont-strike-our-ideological-opponents/)\\n'\n",
      " '\\n'\n",
      " 'BY [Elisha Baker,](https://www.columbiaspectator.com/contributors//) [Eden '\n",
      " 'Yadegar,](https://www.columbiaspectator.com/contributors//) [and David '\n",
      " 'Lederer](https://www.columbiaspectator.com/contributors//) December 11, '\n",
      " '2024\\n'\n",
      " '\\n'\n",
      " 'Why are we at Columbia, and what is the purpose of higher education? Many of '\n",
      " 'us arrived at Columbia fueled by curiosity and a yearning for knowledge. '\n",
      " 'However, in recent months, it has become clear that not all members of our '\n",
      " 'community share a vision of open dialogue and mutual learning.\\n'\n",
      " '\\n'\n",
      " '[Columbia’s complicity in COP29: The greenwashing of human rights '\n",
      " 'abuses](https://www.columbiaspectator.com/opinion/2024/12/08/columbias-complicity-in-cop29-the-greenwashing-of-human-rights-abuses/)\\n'\n",
      " '\\n'\n",
      " 'BY [Columbia University Armenian '\n",
      " 'Society](https://www.columbiaspectator.com/contributors//) December 8, 2024\\n'\n",
      " '\\n'\n",
      " 'We, as the Columbia University Armenian Society, condemn in the strongest '\n",
      " 'terms the United Nations’ decision to allow the oligarchic petrostate of '\n",
      " 'Azerbaijan to host COP29—the U.N. annual summit on climate change—just one '\n",
      " 'year after the Azerbaijani military occupation forcibly emptied Artsakh of '\n",
      " 'over 100,000 inhabitants.\\n'\n",
      " '\\n'\n",
      " '[On reckless criticism and '\n",
      " 'propaganda](https://www.columbiaspectator.com/opinion/2024/12/02/on-reckless-criticism-and-propaganda/)\\n'\n",
      " '\\n'\n",
      " 'BY [Amine Bit](https://www.columbiaspectator.com/contributors//) December 3, '\n",
      " '2024\\n'\n",
      " '\\n'\n",
      " 'On March 8, 2024, Spectator published an opinion piece by Elisha Baker '\n",
      " 'titled “[On the recent BDS referendum: We are not going '\n",
      " 'anywhere](https://www.columbiaspectator.com/opinion/2024/03/08/on-the-recent-bds-referendum-we-are-not-going-anywhere/),” '\n",
      " 'which was a response to the passing of the Boycott, Divestment, and '\n",
      " 'Sanctions referendum by the Columbia College Student Council. In it, he '\n",
      " 'suggests that the treatment of Zionist students is akin to the experience of '\n",
      " 'Dred Scott, an American slave who in 1857 had his case dismissed by the '\n",
      " 'Supreme Court on the grounds that Black Americans did not hold citizenship. '\n",
      " 'Baker argues that, similar to Dred Scott, Zionists on campus have been '\n",
      " 'silenced solely on the basis of their identity before even being heard, '\n",
      " 'writing that CCSC was forcing “the University community to litigate the '\n",
      " 'existence of an entire group of people.”\\n'\n",
      " '\\n'\n",
      " '[Back](https://www.columbiaspectator.com/opinion/op-eds/-9/)\\n'\n",
      " '\\n'\n",
      " '[Next](https://www.columbiaspectator.com/opinion/op-eds/11/)\\n'\n",
      " '\\n'\n",
      " '[](https://www.instagram.com/columbiaspec/)[](https://www.facebook.com/columbiaspectator)[](https://twitter.com/ColumbiaSpec)\\n'\n",
      " '\\n'\n",
      " 'Copyright Spectator Publishing Company. All rights reserved. 490 Riverside '\n",
      " 'Drive, Rm 414, New York, NY 10027\\n'\n",
      " '\\n'\n",
      " 'Subscribe to our newsletter.\\n'\n",
      " '\\n'\n",
      " '*   [About Us](https://www.columbiaspectator.com/about-us)\\n'\n",
      " '*   [Usage Rights](https://www.columbiaspectator.com/about/usage-rights)\\n'\n",
      " '*   [Contact Us](https://www.columbiaspectator.com/about-us#contact)\\n'\n",
      " '*   [Advertise](https://www.specpublishing.com/media-kit-form)\\n'\n",
      " '*   [Donate](https://www.specpublishing.com/donate)\\n'\n",
      " '*   [Join](https://www.specpublishing.com/join/)\\n'\n",
      " '*   [DEI](https://www.columbiaspectator.com/dei/)\\n'\n",
      " '\\n'\n",
      " ' Topics Frame\\n'\n",
      " '===============')\n"
     ]
    }
   ],
   "source": [
    "from pprint import pprint\n",
    "\n",
    "pprint(content[\"content\"], indent=2)\n"
   ]
  },
  {
   "cell_type": "code",
   "execution_count": null,
   "metadata": {},
   "outputs": [],
   "source": []
  }
 ],
 "metadata": {
  "kernelspec": {
   "display_name": ".venv",
   "language": "python",
   "name": "python3"
  },
  "language_info": {
   "codemirror_mode": {
    "name": "ipython",
    "version": 3
   },
   "file_extension": ".py",
   "mimetype": "text/x-python",
   "name": "python",
   "nbconvert_exporter": "python",
   "pygments_lexer": "ipython3",
   "version": "3.11.9"
  }
 },
 "nbformat": 4,
 "nbformat_minor": 2
}
