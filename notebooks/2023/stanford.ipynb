{
 "cells": [
  {
   "cell_type": "markdown",
   "metadata": {},
   "source": [
    "# Diversity of Ideas: Stanford Daily\n"
   ]
  },
  {
   "cell_type": "markdown",
   "metadata": {},
   "source": [
    "## Setup"
   ]
  },
  {
   "cell_type": "code",
   "execution_count": 1,
   "metadata": {},
   "outputs": [
    {
     "data": {
      "text/plain": [
       "True"
      ]
     },
     "execution_count": 1,
     "metadata": {},
     "output_type": "execute_result"
    }
   ],
   "source": [
    "from dotenv import load_dotenv, find_dotenv\n",
    "load_dotenv(find_dotenv())"
   ]
  },
  {
   "cell_type": "code",
   "execution_count": 2,
   "metadata": {},
   "outputs": [],
   "source": [
    "import pandas as pd\n",
    "from util.ouraws import (\n",
    "    getFromFile\n",
    ")"
   ]
  },
  {
   "cell_type": "code",
   "execution_count": 3,
   "metadata": {},
   "outputs": [
    {
     "data": {
      "text/plain": [
       "'c:\\\\Users\\\\theod\\\\dev\\\\diversity-ideas\\\\notebooks\\\\2024'"
      ]
     },
     "execution_count": 3,
     "metadata": {},
     "output_type": "execute_result"
    }
   ],
   "source": [
    "%pwd"
   ]
  },
  {
   "cell_type": "code",
   "execution_count": 4,
   "metadata": {},
   "outputs": [
    {
     "data": {
      "text/plain": [
       "(5121, 6)"
      ]
     },
     "execution_count": 4,
     "metadata": {},
     "output_type": "execute_result"
    }
   ],
   "source": [
    "df = getFromFile(\"../../data/stanford-opinions.parquet\", False)\n",
    "df.shape\n"
   ]
  },
  {
   "cell_type": "code",
   "execution_count": 5,
   "metadata": {},
   "outputs": [
    {
     "data": {
      "text/html": [
       "<div>\n",
       "<style scoped>\n",
       "    .dataframe tbody tr th:only-of-type {\n",
       "        vertical-align: middle;\n",
       "    }\n",
       "\n",
       "    .dataframe tbody tr th {\n",
       "        vertical-align: top;\n",
       "    }\n",
       "\n",
       "    .dataframe thead th {\n",
       "        text-align: right;\n",
       "    }\n",
       "</style>\n",
       "<table border=\"1\" class=\"dataframe\">\n",
       "  <thead>\n",
       "    <tr style=\"text-align: right;\">\n",
       "      <th></th>\n",
       "      <th>title</th>\n",
       "      <th>url</th>\n",
       "      <th>body</th>\n",
       "      <th>year</th>\n",
       "      <th>month</th>\n",
       "      <th>day</th>\n",
       "    </tr>\n",
       "  </thead>\n",
       "  <tbody>\n",
       "    <tr>\n",
       "      <th>0</th>\n",
       "      <td>Student activism is the antidote to Silicon Va...</td>\n",
       "      <td>https://stanforddaily.com/2024/11/20/student-a...</td>\n",
       "      <td>Student activism is the antidote to Silicon Va...</td>\n",
       "      <td>2024</td>\n",
       "      <td>11</td>\n",
       "      <td>1</td>\n",
       "    </tr>\n",
       "    <tr>\n",
       "      <th>1</th>\n",
       "      <td>Social media is replacing our politicians with...</td>\n",
       "      <td>https://stanforddaily.com/2024/12/05/social-me...</td>\n",
       "      <td>Social media is replacing our politicians with...</td>\n",
       "      <td>2024</td>\n",
       "      <td>12</td>\n",
       "      <td>1</td>\n",
       "    </tr>\n",
       "    <tr>\n",
       "      <th>2</th>\n",
       "      <td>From the Community | Should Stanford offer a b...</td>\n",
       "      <td>https://stanforddaily.com/2024/12/01/stanford-...</td>\n",
       "      <td>From the Community | Should Stanford offer a b...</td>\n",
       "      <td>2024</td>\n",
       "      <td>12</td>\n",
       "      <td>1</td>\n",
       "    </tr>\n",
       "    <tr>\n",
       "      <th>3</th>\n",
       "      <td>Letter to the Editor | Maria Corina Machado sh...</td>\n",
       "      <td>https://stanforddaily.com/2024/11/25/letter-to...</td>\n",
       "      <td>Letter to the Editor | Maria Corina Machado sh...</td>\n",
       "      <td>2024</td>\n",
       "      <td>11</td>\n",
       "      <td>1</td>\n",
       "    </tr>\n",
       "  </tbody>\n",
       "</table>\n",
       "</div>"
      ],
      "text/plain": [
       "                                               title  \\\n",
       "0  Student activism is the antidote to Silicon Va...   \n",
       "1  Social media is replacing our politicians with...   \n",
       "2  From the Community | Should Stanford offer a b...   \n",
       "3  Letter to the Editor | Maria Corina Machado sh...   \n",
       "\n",
       "                                                 url  \\\n",
       "0  https://stanforddaily.com/2024/11/20/student-a...   \n",
       "1  https://stanforddaily.com/2024/12/05/social-me...   \n",
       "2  https://stanforddaily.com/2024/12/01/stanford-...   \n",
       "3  https://stanforddaily.com/2024/11/25/letter-to...   \n",
       "\n",
       "                                                body  year  month  day  \n",
       "0  Student activism is the antidote to Silicon Va...  2024     11    1  \n",
       "1  Social media is replacing our politicians with...  2024     12    1  \n",
       "2  From the Community | Should Stanford offer a b...  2024     12    1  \n",
       "3  Letter to the Editor | Maria Corina Machado sh...  2024     11    1  "
      ]
     },
     "execution_count": 5,
     "metadata": {},
     "output_type": "execute_result"
    }
   ],
   "source": [
    "df.head(4)"
   ]
  },
  {
   "cell_type": "markdown",
   "metadata": {},
   "source": [
    "## Function Definitions"
   ]
  },
  {
   "cell_type": "code",
   "execution_count": 6,
   "metadata": {},
   "outputs": [],
   "source": [
    "import numpy as np\n",
    "import re"
   ]
  },
  {
   "cell_type": "code",
   "execution_count": 24,
   "metadata": {},
   "outputs": [],
   "source": [
    "def getCovDispersion(wv):\n",
    "    \"\"\"\n",
    "    Calculate various dispersion measures using the covariance matrix of word vectors.\n",
    "    \n",
    "    Args:\n",
    "        wv: numpy array of shape (n_documents, embedding_dim) containing document embeddings\n",
    "        \n",
    "    Returns:\n",
    "        tuple containing:\n",
    "        - N: number of documents\n",
    "        - trace_norm: average variance along the diagonal\n",
    "        - l1_norm: L1 norm of covariance matrix (normalized)\n",
    "        - l2_norm: L2 norm of covariance matrix (normalized)\n",
    "        - inf_norm: Infinity norm of covariance matrix (normalized)\n",
    "    \"\"\"\n",
    "    # Get number of documents\n",
    "    N = len(wv)\n",
    "    \n",
    "    # Calculate covariance matrix of the word vectors\n",
    "    # This measures how dimensions vary together across documents\n",
    "    cov = np.cov(wv)\n",
    "    \n",
    "    return (\n",
    "        N,  # Number of documents\n",
    "        np.trace(cov)/N,  # Average variance along diagonal (spread in each dimension)\n",
    "        np.linalg.norm(cov, ord=1)/N,  # L1 norm (sum of absolute values)\n",
    "        np.linalg.norm(cov, ord=2)/N,  # L2/Spectral norm (largest singular value)\n",
    "        np.linalg.norm(cov, ord=np.inf)/N,  # Infinity norm (max absolute row sum)\n",
    "    )\n",
    "\n",
    "def cosine_distance(v1, v2):\n",
    "    \"\"\"Calculate the cosine distance between two numpy arrays.\n",
    "    \n",
    "    Parameters:\n",
    "    a (numpy array): First input array.\n",
    "    b (numpy array): Second input array.\n",
    "    \n",
    "    Returns:\n",
    "    float: Cosine distance between a and b.\n",
    "    \"\"\"\n",
    "    a = np.array(v1, dtype=np.float64)\n",
    "    b = np.array(v2, dtype=np.float64)\n",
    "    # Calculate dot product and magnitudes of the input arrays\n",
    "    dot   = np.dot(a, b)\n",
    "    a_mag = np.linalg.norm(a)\n",
    "    b_mag = np.linalg.norm(b)\n",
    "    \n",
    "    if np.isclose(a_mag, 0, rtol=1e-9, atol=1e-12):\n",
    "        print(f\"a_mag is very small: {a_mag}\")\n",
    "    if np.isclose(b_mag, 0, rtol=1e-9, atol=1e-12):\n",
    "        print(f\"b_mag is very small: {b_mag}\")\n",
    "    \n",
    "    # Calculate and return the cosine distance\n",
    "    return 1.0 - (dot / (a_mag * b_mag))\n",
    "\n",
    "def getPairwiseDispersion(wv, measure):\n",
    "    if len(wv) <= 1: return 0.0\n",
    "    distance = 0.0\n",
    "    vec = wv[0]\n",
    "    for v in wv[1:]:\n",
    "        distance += measure(vec, v)\n",
    "        # print(f\"\\tcos_distance: {measure(vec, v)}\")\n",
    "    return distance + getPairwiseDispersion(wv[1:], measure)\n",
    "\n",
    "def getNormalizedPairwiseDispersion(wv, measure):\n",
    "    '''Normalize the dispersion by (N-Choose-2) number of pairs'''\n",
    "    N = len(wv)\n",
    "    return getPairwiseDispersion(wv, measure) / (N * (N-1)/2.)"
   ]
  },
  {
   "cell_type": "code",
   "execution_count": 8,
   "metadata": {},
   "outputs": [],
   "source": [
    "diversity_words = [\n",
    "    'diversity', \n",
    "    'equity',\n",
    "    'inclusion',\n",
    "    'inclusive',\n",
    "    'inclusivity',\n",
    "    'equality', \n",
    "    'equal opportunity',\n",
    "    'social justice',\n",
    "    'racial justice', \n",
    "    'multi-cultural', \n",
    "    'multicultural',\n",
    "    'intercultural',\n",
    "    'intersectional',\n",
    "    'intersectionality',\n",
    "    'anti-discrimination'\n",
    "]"
   ]
  },
  {
   "cell_type": "code",
   "execution_count": 9,
   "metadata": {},
   "outputs": [
    {
     "name": "stderr",
     "output_type": "stream",
     "text": [
      "[nltk_data] Downloading package wordnet to\n",
      "[nltk_data]     C:\\Users\\theod\\AppData\\Roaming\\nltk_data...\n",
      "[nltk_data]   Package wordnet is already up-to-date!\n"
     ]
    }
   ],
   "source": [
    "import nltk\n",
    "nltk.download('wordnet')\n",
    "from nltk.stem import WordNetLemmatizer\n",
    "lemmatizer = WordNetLemmatizer()"
   ]
  },
  {
   "cell_type": "code",
   "execution_count": 10,
   "metadata": {},
   "outputs": [
    {
     "data": {
      "text/plain": [
       "['diversity',\n",
       " 'equity',\n",
       " 'inclusion',\n",
       " 'inclusive',\n",
       " 'inclusivity',\n",
       " 'equality',\n",
       " 'equal opportunity',\n",
       " 'social justice',\n",
       " 'racial justice',\n",
       " 'multi-cultural',\n",
       " 'multicultural',\n",
       " 'intercultural',\n",
       " 'intersectional',\n",
       " 'intersectionality',\n",
       " 'anti-discrimination']"
      ]
     },
     "execution_count": 10,
     "metadata": {},
     "output_type": "execute_result"
    }
   ],
   "source": [
    "diversity_lemmas = [lemmatizer.lemmatize(w) for w in diversity_words]\n",
    "diversity_lemmas"
   ]
  },
  {
   "cell_type": "code",
   "execution_count": 11,
   "metadata": {},
   "outputs": [],
   "source": [
    "diversity_pattern = \"|\".join(diversity_lemmas)"
   ]
  },
  {
   "cell_type": "markdown",
   "metadata": {},
   "source": [
    "Let's verify how the \"count\" of diversity words in the text is calculated."
   ]
  },
  {
   "cell_type": "code",
   "execution_count": 12,
   "metadata": {},
   "outputs": [
    {
     "data": {
      "text/plain": [
       "3"
      ]
     },
     "execution_count": 12,
     "metadata": {},
     "output_type": "execute_result"
    }
   ],
   "source": [
    "text = \"This is a multicultural organization that advocates for diversity and racial justice.\"\n",
    "len(re.findall(diversity_pattern, text))"
   ]
  },
  {
   "cell_type": "markdown",
   "metadata": {},
   "source": [
    "## Analysis"
   ]
  },
  {
   "cell_type": "code",
   "execution_count": 13,
   "metadata": {},
   "outputs": [],
   "source": [
    "from openai import OpenAI\n",
    "from typing import List\n",
    "import numpy as np\n",
    "client = OpenAI()"
   ]
  },
  {
   "cell_type": "code",
   "execution_count": 14,
   "metadata": {},
   "outputs": [],
   "source": [
    "def get_embedding(text: str) -> List[float]:\n",
    "    \"\"\"\n",
    "    Get embeddings for a single text using text-embedding-3-large model.\n",
    "    \n",
    "    Args:\n",
    "        text (str): The input text to generate embeddings for\n",
    "        \n",
    "    Returns:\n",
    "        List[float]: The embedding vector\n",
    "    \"\"\"\n",
    "    response = client.embeddings.create(\n",
    "        model=\"text-embedding-3-large\",\n",
    "        input=text,\n",
    "        dimensions=1024  # Optional: You can specify 256, 512, or 1024 dimensions\n",
    "    )\n",
    "    return response.data[0].embedding\n",
    "\n",
    "def get_batch_embeddings(texts: List[str]) -> List[List[float]]:\n",
    "    \"\"\"\n",
    "    Get embeddings for multiple texts in a single API call.\n",
    "    \n",
    "    Args:\n",
    "        texts (List[str]): List of input texts to generate embeddings for\n",
    "        \n",
    "    Returns:\n",
    "        List[List[float]]: List of embedding vectors\n",
    "    \"\"\"\n",
    "    response = client.embeddings.create(\n",
    "        model=\"text-embedding-3-large\",\n",
    "        input=texts,\n",
    "        dimensions=1024\n",
    "    )\n",
    "    return [item.embedding for item in response.data]"
   ]
  },
  {
   "cell_type": "code",
   "execution_count": 15,
   "metadata": {},
   "outputs": [
    {
     "name": "stderr",
     "output_type": "stream",
     "text": [
      "[nltk_data] Downloading package stopwords to\n",
      "[nltk_data]     C:\\Users\\theod\\AppData\\Roaming\\nltk_data...\n",
      "[nltk_data]   Package stopwords is already up-to-date!\n"
     ]
    }
   ],
   "source": [
    "nltk.download('stopwords')\n",
    "from nltk.corpus import stopwords"
   ]
  },
  {
   "cell_type": "code",
   "execution_count": 16,
   "metadata": {},
   "outputs": [],
   "source": [
    "english_stopwords = stopwords.words('english')\n",
    "def prepText(text_series):\n",
    "    # Step 1: Clean and normalize each text in the series\n",
    "    # - Convert to lowercase\n",
    "    # - Lemmatize each word (convert to base form)\n",
    "    # - Remove stopwords\n",
    "    # - Join words back together with spaces\n",
    "    text_series = text_series.apply(\n",
    "        lambda x: \" \".join(lemmatizer.lemmatize(w.lower()) for w in x.split()\n",
    "                           if w not in english_stopwords))\n",
    "    \n",
    "    # Step 2: Filter out short texts\n",
    "    # Remove any text less than 100 characters as they're likely too short for meaningful analysis\n",
    "    text_series = text_series.apply(lambda x: x if len(x) > 100 else None)\n",
    "    \n",
    "    # Step 3: Remove any null values created by the previous step\n",
    "    text_series = text_series.dropna()\n",
    "    \n",
    "    # Step 4: Count diversity-related terms\n",
    "    # Sum up all instances of diversity-related words (defined in diversity_pattern)\n",
    "    # across all remaining texts in the series\n",
    "    total_diversity_words = sum([len(re.findall(diversity_pattern, text))\n",
    "                                for text in text_series])\n",
    "    \n",
    "    # Return both the cleaned text series and the total count of diversity words\n",
    "    return text_series, total_diversity_words"
   ]
  },
  {
   "cell_type": "code",
   "execution_count": 17,
   "metadata": {},
   "outputs": [],
   "source": [
    "START_YEAR = 2009\n",
    "FINAL_YEAR = 2024"
   ]
  },
  {
   "cell_type": "code",
   "execution_count": 18,
   "metadata": {},
   "outputs": [],
   "source": [
    "year_2024 = df[df.year==2024]\n",
    "clean_df, num_diversity_words = prepText(year_2024.body)\n",
    "wv = get_batch_embeddings(clean_df)"
   ]
  },
  {
   "cell_type": "code",
   "execution_count": 19,
   "metadata": {},
   "outputs": [
    {
     "data": {
      "text/plain": [
       "list"
      ]
     },
     "execution_count": 19,
     "metadata": {},
     "output_type": "execute_result"
    }
   ],
   "source": [
    "type(wv[0])"
   ]
  },
  {
   "cell_type": "code",
   "execution_count": 20,
   "metadata": {},
   "outputs": [],
   "source": [
    "docmatrix = np.array(wv)"
   ]
  },
  {
   "cell_type": "code",
   "execution_count": 21,
   "metadata": {},
   "outputs": [
    {
     "data": {
      "text/plain": [
       "(76, 1024)"
      ]
     },
     "execution_count": 21,
     "metadata": {},
     "output_type": "execute_result"
    }
   ],
   "source": [
    "docmatrix.shape"
   ]
  },
  {
   "cell_type": "code",
   "execution_count": 22,
   "metadata": {},
   "outputs": [
    {
     "name": "stdout",
     "output_type": "stream",
     "text": [
      "0     2024\n",
      "1     2024\n",
      "2     2024\n",
      "3     2024\n",
      "4     2024\n",
      "      ... \n",
      "87    2024\n",
      "88    2024\n",
      "89    2024\n",
      "90    2024\n",
      "92    2024\n",
      "Name: year, Length: 92, dtype: int64, 76, 0.0009768024549865824, 0.6100499331721485\n"
     ]
    }
   ],
   "source": [
    "pairwise = getNormalizedPairwiseDispersion(docmatrix, cosine_distance)\n",
    "cov = getCovDispersion(docmatrix)\n",
    "print(f\"{year_2024.year}, {cov[0]}, {cov[1]}, {pairwise}\")"
   ]
  },
  {
   "cell_type": "code",
   "execution_count": 23,
   "metadata": {},
   "outputs": [
    {
     "data": {
      "text/plain": [
       "np.float64(0.6100499331721485)"
      ]
     },
     "execution_count": 23,
     "metadata": {},
     "output_type": "execute_result"
    }
   ],
   "source": [
    "pairwise"
   ]
  },
  {
   "cell_type": "code",
   "execution_count": 25,
   "metadata": {},
   "outputs": [
    {
     "name": "stdout",
     "output_type": "stream",
     "text": [
      "2009, 3, 0.0009770580534923354, 0.7152663161505542\n",
      "2010, 207, 0.0009766161963553665, 0.7101992512292903\n",
      "2011, 137, 0.0009764374886683648, 0.6915979523999602\n",
      "2012, 50, 0.0009765076608169664, 0.7342186828184183\n",
      "2013, 32, 0.0009767194839347436, 0.7290125446162634\n",
      "2014, 62, 0.0009762635088361256, 0.7515590268621716\n",
      "2015, 68, 0.0009765504985679129, 0.785611806261693\n",
      "2016, 44, 0.0009768164858024815, 0.7256717605860117\n",
      "2017, 66, 0.000976626065155388, 0.7204340188821687\n",
      "2018, 55, 0.0009765965570699264, 0.7138031023841415\n",
      "2019, 101, 0.0009766771171091176, 0.6856330786001004\n",
      "2020, 166, 0.0009769097599820573, 0.6675473598979964\n",
      "2021, 116, 0.0009768050667808613, 0.6288715570308244\n",
      "2022, 91, 0.0009766632286124515, 0.6207662847780695\n",
      "2023, 84, 0.0009768756679156775, 0.5746250756487502\n",
      "2024, 76, 0.00097679855438417, 0.6101526788683128\n"
     ]
    }
   ],
   "source": [
    "results = []\n",
    "for year in range(START_YEAR, FINAL_YEAR+1):\n",
    "    year_df = df[df.year==year]\n",
    "    \n",
    "    clean_df, num_diversity_words = prepText(year_df.body)\n",
    "    wv = get_batch_embeddings(clean_df)\n",
    "    \n",
    "    docmatrix = np.array(wv)\n",
    "    pairwise = getNormalizedPairwiseDispersion(docmatrix, cosine_distance)\n",
    "    cov = getCovDispersion(docmatrix)\n",
    "    \n",
    "    print(f\"{year}, {cov[0]}, {cov[1]}, {pairwise}\")\n",
    "    \n",
    "    result = {'year':     year,\n",
    "              'pairwise': pairwise,\n",
    "              'size':     cov[0],\n",
    "              'trace':    cov[1],\n",
    "              'norm-1':   cov[2],\n",
    "              'norm-2':   cov[3],\n",
    "              'norm-inf': cov[4],\n",
    "              'diversity-words': num_diversity_words,\n",
    "              'mentions-norm'  : num_diversity_words/cov[0]\n",
    "             }\n",
    "    results.append(result)"
   ]
  },
  {
   "cell_type": "code",
   "execution_count": 27,
   "metadata": {},
   "outputs": [
    {
     "data": {
      "text/html": [
       "<div>\n",
       "<style scoped>\n",
       "    .dataframe tbody tr th:only-of-type {\n",
       "        vertical-align: middle;\n",
       "    }\n",
       "\n",
       "    .dataframe tbody tr th {\n",
       "        vertical-align: top;\n",
       "    }\n",
       "\n",
       "    .dataframe thead th {\n",
       "        text-align: right;\n",
       "    }\n",
       "</style>\n",
       "<table border=\"1\" class=\"dataframe\">\n",
       "  <thead>\n",
       "    <tr style=\"text-align: right;\">\n",
       "      <th></th>\n",
       "      <th>pairwise</th>\n",
       "      <th>size</th>\n",
       "      <th>trace</th>\n",
       "      <th>norm-1</th>\n",
       "      <th>norm-2</th>\n",
       "      <th>norm-inf</th>\n",
       "      <th>diversity-words</th>\n",
       "      <th>mentions-norm</th>\n",
       "    </tr>\n",
       "    <tr>\n",
       "      <th>year</th>\n",
       "      <th></th>\n",
       "      <th></th>\n",
       "      <th></th>\n",
       "      <th></th>\n",
       "      <th></th>\n",
       "      <th></th>\n",
       "      <th></th>\n",
       "      <th></th>\n",
       "    </tr>\n",
       "  </thead>\n",
       "  <tbody>\n",
       "    <tr>\n",
       "      <th>2009</th>\n",
       "      <td>0.715266</td>\n",
       "      <td>3</td>\n",
       "      <td>0.000977</td>\n",
       "      <td>0.000538</td>\n",
       "      <td>0.000513</td>\n",
       "      <td>0.000538</td>\n",
       "      <td>0</td>\n",
       "      <td>0.000000</td>\n",
       "    </tr>\n",
       "    <tr>\n",
       "      <th>2010</th>\n",
       "      <td>0.710199</td>\n",
       "      <td>207</td>\n",
       "      <td>0.000977</td>\n",
       "      <td>0.000372</td>\n",
       "      <td>0.000290</td>\n",
       "      <td>0.000372</td>\n",
       "      <td>2</td>\n",
       "      <td>0.009662</td>\n",
       "    </tr>\n",
       "    <tr>\n",
       "      <th>2011</th>\n",
       "      <td>0.691598</td>\n",
       "      <td>137</td>\n",
       "      <td>0.000976</td>\n",
       "      <td>0.000412</td>\n",
       "      <td>0.000311</td>\n",
       "      <td>0.000412</td>\n",
       "      <td>4</td>\n",
       "      <td>0.029197</td>\n",
       "    </tr>\n",
       "    <tr>\n",
       "      <th>2012</th>\n",
       "      <td>0.734219</td>\n",
       "      <td>50</td>\n",
       "      <td>0.000977</td>\n",
       "      <td>0.000372</td>\n",
       "      <td>0.000283</td>\n",
       "      <td>0.000372</td>\n",
       "      <td>0</td>\n",
       "      <td>0.000000</td>\n",
       "    </tr>\n",
       "    <tr>\n",
       "      <th>2013</th>\n",
       "      <td>0.729013</td>\n",
       "      <td>32</td>\n",
       "      <td>0.000977</td>\n",
       "      <td>0.000355</td>\n",
       "      <td>0.000297</td>\n",
       "      <td>0.000355</td>\n",
       "      <td>2</td>\n",
       "      <td>0.062500</td>\n",
       "    </tr>\n",
       "    <tr>\n",
       "      <th>2014</th>\n",
       "      <td>0.751559</td>\n",
       "      <td>62</td>\n",
       "      <td>0.000976</td>\n",
       "      <td>0.000332</td>\n",
       "      <td>0.000261</td>\n",
       "      <td>0.000332</td>\n",
       "      <td>4</td>\n",
       "      <td>0.064516</td>\n",
       "    </tr>\n",
       "    <tr>\n",
       "      <th>2015</th>\n",
       "      <td>0.785612</td>\n",
       "      <td>68</td>\n",
       "      <td>0.000977</td>\n",
       "      <td>0.000289</td>\n",
       "      <td>0.000226</td>\n",
       "      <td>0.000289</td>\n",
       "      <td>0</td>\n",
       "      <td>0.000000</td>\n",
       "    </tr>\n",
       "    <tr>\n",
       "      <th>2016</th>\n",
       "      <td>0.725672</td>\n",
       "      <td>44</td>\n",
       "      <td>0.000977</td>\n",
       "      <td>0.000388</td>\n",
       "      <td>0.000297</td>\n",
       "      <td>0.000388</td>\n",
       "      <td>4</td>\n",
       "      <td>0.090909</td>\n",
       "    </tr>\n",
       "    <tr>\n",
       "      <th>2017</th>\n",
       "      <td>0.720434</td>\n",
       "      <td>66</td>\n",
       "      <td>0.000977</td>\n",
       "      <td>0.000388</td>\n",
       "      <td>0.000300</td>\n",
       "      <td>0.000388</td>\n",
       "      <td>4</td>\n",
       "      <td>0.060606</td>\n",
       "    </tr>\n",
       "    <tr>\n",
       "      <th>2018</th>\n",
       "      <td>0.713803</td>\n",
       "      <td>55</td>\n",
       "      <td>0.000977</td>\n",
       "      <td>0.000394</td>\n",
       "      <td>0.000305</td>\n",
       "      <td>0.000394</td>\n",
       "      <td>0</td>\n",
       "      <td>0.000000</td>\n",
       "    </tr>\n",
       "    <tr>\n",
       "      <th>2019</th>\n",
       "      <td>0.685633</td>\n",
       "      <td>101</td>\n",
       "      <td>0.000977</td>\n",
       "      <td>0.000393</td>\n",
       "      <td>0.000321</td>\n",
       "      <td>0.000393</td>\n",
       "      <td>2</td>\n",
       "      <td>0.019802</td>\n",
       "    </tr>\n",
       "    <tr>\n",
       "      <th>2020</th>\n",
       "      <td>0.667547</td>\n",
       "      <td>166</td>\n",
       "      <td>0.000977</td>\n",
       "      <td>0.000424</td>\n",
       "      <td>0.000336</td>\n",
       "      <td>0.000424</td>\n",
       "      <td>6</td>\n",
       "      <td>0.036145</td>\n",
       "    </tr>\n",
       "    <tr>\n",
       "      <th>2021</th>\n",
       "      <td>0.628872</td>\n",
       "      <td>116</td>\n",
       "      <td>0.000977</td>\n",
       "      <td>0.000447</td>\n",
       "      <td>0.000372</td>\n",
       "      <td>0.000447</td>\n",
       "      <td>16</td>\n",
       "      <td>0.137931</td>\n",
       "    </tr>\n",
       "    <tr>\n",
       "      <th>2022</th>\n",
       "      <td>0.620766</td>\n",
       "      <td>91</td>\n",
       "      <td>0.000977</td>\n",
       "      <td>0.000469</td>\n",
       "      <td>0.000384</td>\n",
       "      <td>0.000469</td>\n",
       "      <td>4</td>\n",
       "      <td>0.043956</td>\n",
       "    </tr>\n",
       "    <tr>\n",
       "      <th>2023</th>\n",
       "      <td>0.574625</td>\n",
       "      <td>84</td>\n",
       "      <td>0.000977</td>\n",
       "      <td>0.000524</td>\n",
       "      <td>0.000429</td>\n",
       "      <td>0.000524</td>\n",
       "      <td>2</td>\n",
       "      <td>0.023810</td>\n",
       "    </tr>\n",
       "    <tr>\n",
       "      <th>2024</th>\n",
       "      <td>0.610153</td>\n",
       "      <td>76</td>\n",
       "      <td>0.000977</td>\n",
       "      <td>0.000459</td>\n",
       "      <td>0.000395</td>\n",
       "      <td>0.000459</td>\n",
       "      <td>2</td>\n",
       "      <td>0.026316</td>\n",
       "    </tr>\n",
       "  </tbody>\n",
       "</table>\n",
       "</div>"
      ],
      "text/plain": [
       "      pairwise  size     trace    norm-1    norm-2  norm-inf  diversity-words  \\\n",
       "year                                                                            \n",
       "2009  0.715266     3  0.000977  0.000538  0.000513  0.000538                0   \n",
       "2010  0.710199   207  0.000977  0.000372  0.000290  0.000372                2   \n",
       "2011  0.691598   137  0.000976  0.000412  0.000311  0.000412                4   \n",
       "2012  0.734219    50  0.000977  0.000372  0.000283  0.000372                0   \n",
       "2013  0.729013    32  0.000977  0.000355  0.000297  0.000355                2   \n",
       "2014  0.751559    62  0.000976  0.000332  0.000261  0.000332                4   \n",
       "2015  0.785612    68  0.000977  0.000289  0.000226  0.000289                0   \n",
       "2016  0.725672    44  0.000977  0.000388  0.000297  0.000388                4   \n",
       "2017  0.720434    66  0.000977  0.000388  0.000300  0.000388                4   \n",
       "2018  0.713803    55  0.000977  0.000394  0.000305  0.000394                0   \n",
       "2019  0.685633   101  0.000977  0.000393  0.000321  0.000393                2   \n",
       "2020  0.667547   166  0.000977  0.000424  0.000336  0.000424                6   \n",
       "2021  0.628872   116  0.000977  0.000447  0.000372  0.000447               16   \n",
       "2022  0.620766    91  0.000977  0.000469  0.000384  0.000469                4   \n",
       "2023  0.574625    84  0.000977  0.000524  0.000429  0.000524                2   \n",
       "2024  0.610153    76  0.000977  0.000459  0.000395  0.000459                2   \n",
       "\n",
       "      mentions-norm  \n",
       "year                 \n",
       "2009       0.000000  \n",
       "2010       0.009662  \n",
       "2011       0.029197  \n",
       "2012       0.000000  \n",
       "2013       0.062500  \n",
       "2014       0.064516  \n",
       "2015       0.000000  \n",
       "2016       0.090909  \n",
       "2017       0.060606  \n",
       "2018       0.000000  \n",
       "2019       0.019802  \n",
       "2020       0.036145  \n",
       "2021       0.137931  \n",
       "2022       0.043956  \n",
       "2023       0.023810  \n",
       "2024       0.026316  "
      ]
     },
     "execution_count": 27,
     "metadata": {},
     "output_type": "execute_result"
    }
   ],
   "source": [
    "results_df = pd.DataFrame.from_records(results)\n",
    "results_df.set_index('year')"
   ]
  },
  {
   "cell_type": "code",
   "execution_count": 28,
   "metadata": {},
   "outputs": [
    {
     "data": {
      "image/png": "[encoded data removed]",
      "text/plain": [
       "<Figure size 640x480 with 1 Axes>"
      ]
     },
     "metadata": {},
     "output_type": "display_data"
    }
   ],
   "source": [
    "import matplotlib.pyplot as plt\n",
    "from scipy.stats import linregress\n",
    "\n",
    "x = results_df['year']\n",
    "y = results_df['pairwise']\n",
    "\n",
    "slope, intercept, r_value, p_value, std_err = linregress(x, y)\n",
    "\n",
    "results_df.plot(x=\"year\", y=\"pairwise\", kind=\"scatter\")\n",
    "\n",
    "plt.plot(x, intercept + slope*x, 'b:', label='fitted regression')\n",
    "\n",
    "plt.title(\"Stanford Daily Opinions by year\")\n",
    "plt.legend(loc='upper right')\n",
    "plt.ylim(min(y)*0.95, max(y)*1.05)\n",
    "plt.show()"
   ]
  },
  {
   "cell_type": "code",
   "execution_count": 52,
   "metadata": {},
   "outputs": [
    {
     "name": "stdout",
     "output_type": "stream",
     "text": [
      "mentions-norm slope:0.00168, int:0.02862, r:0.19620, p:0.48342, se:0.00232, x:range(0, 15)\n",
      "pairwise slope:-0.01012, int:0.76079, r:-0.77043, p:0.00078, se:0.00232, x:range(0, 15)\n"
     ]
    },
    {
     "data": {
      "image/png": "[encoded data removed]",
      "text/plain": [
       "<Figure size 1600x400 with 2 Axes>"
      ]
     },
     "metadata": {},
     "output_type": "display_data"
    }
   ],
   "source": [
    "# Select the columns to plot\n",
    "columns = [\"mentions-norm\", \"pairwise\"]\n",
    "\n",
    "# Create a figure with subplots\n",
    "fig, axs = plt.subplots(nrows=1, ncols=len(columns), sharex=True, figsize=(16,4))\n",
    "\n",
    "# Loop through the columns and plot each one\n",
    "for ax, column in zip(axs, columns):\n",
    "    # Select the data for the current column\n",
    "    x = range(len(results_df.index))\n",
    "    y = results_df[column]\n",
    "     \n",
    "    # Calculate the linear regression\n",
    "    slope, intercept, r_value, p_value, std_err = linregress(x, y)\n",
    "    \n",
    "    print(\"{} slope:{:.5f}, int:{:.5f}, r:{:.5f}, p:{:.5f}, se:{:.5f}, x:{}\".format(\n",
    "            column, slope, intercept, r_value, p_value, std_err, x))\n",
    "\n",
    "    # Plot the data and the linear regression line\n",
    "    results_df[column].plot(ax=ax, style=\".\", x=x, y=y, label=column)\n",
    "    ax.plot(x, intercept + slope*x, 'b:', label='regression')\n",
    "    ax.set_ylim(0, max(y)*1.2)\n",
    "    \n",
    "    # Add a legend\n",
    "    ax.legend(loc='lower center')\n",
    "\n",
    "    # Add x-label for the years\n",
    "    ax.set_xticks(results_df.index)\n",
    "    ax.set_xticklabels(results_df.year)\n",
    "    \n",
    "plt.xlabel(\"Year\")\n",
    "plt.suptitle(\"Trending of Stanford Daily Opinions on Diversity metrics\")\n",
    "plt.show()"
   ]
  }
 ],
 "metadata": {
  "kernelspec": {
   "display_name": ".venv",
   "language": "python",
   "name": "python3"
  },
  "language_info": {
   "codemirror_mode": {
    "name": "ipython",
    "version": 3
   },
   "file_extension": ".py",
   "mimetype": "text/x-python",
   "name": "python",
   "nbconvert_exporter": "python",
   "pygments_lexer": "ipython3",
   "version": "3.11.9"
  }
 },
 "nbformat": 4,
 "nbformat_minor": 2
}
