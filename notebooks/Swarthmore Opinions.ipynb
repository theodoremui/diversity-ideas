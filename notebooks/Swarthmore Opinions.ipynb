{
 "cells": [
  {
   "cell_type": "code",
   "execution_count": 1,
   "metadata": {},
   "outputs": [],
   "source": [
    "import math\n",
    "import re\n",
    "import numpy as np\n",
    "import pandas as pd"
   ]
  },
  {
   "cell_type": "code",
   "execution_count": 2,
   "metadata": {},
   "outputs": [
    {
     "name": "stderr",
     "output_type": "stream",
     "text": [
      "[nltk_data] Downloading package stopwords to\n",
      "[nltk_data]     /Users/theodoremui/nltk_data...\n",
      "[nltk_data]   Package stopwords is already up-to-date!\n",
      "[nltk_data] Downloading package omw-1.4 to\n",
      "[nltk_data]     /Users/theodoremui/nltk_data...\n",
      "[nltk_data]   Package omw-1.4 is already up-to-date!\n",
      "[nltk_data] Downloading package wordnet to\n",
      "[nltk_data]     /Users/theodoremui/nltk_data...\n",
      "[nltk_data]   Package wordnet is already up-to-date!\n"
     ]
    }
   ],
   "source": [
    "import nltk\n",
    "nltk.download('stopwords')\n",
    "from nltk.corpus import stopwords\n",
    "nltk.download('omw-1.4')\n",
    "nltk.download('wordnet')\n",
    "from nltk.stem import WordNetLemmatizer\n",
    "lemmatizer = WordNetLemmatizer()"
   ]
  },
  {
   "cell_type": "code",
   "execution_count": 4,
   "metadata": {},
   "outputs": [],
   "source": [
    "import spacy\n",
    "nlp = spacy.load(\"en_core_web_lg\")"
   ]
  },
  {
   "cell_type": "code",
   "execution_count": 5,
   "metadata": {},
   "outputs": [],
   "source": [
    "import os\n",
    "import boto3\n",
    "import botocore\n",
    "import pyarrow as pa\n",
    "import pyarrow.parquet as pq"
   ]
  },
  {
   "cell_type": "code",
   "execution_count": 6,
   "metadata": {},
   "outputs": [
    {
     "data": {
      "text/plain": [
       "'/Users/theodoremui/Library/CloudStorage/OneDrive-Personal/dev/diversity-colleges/notebooks'"
      ]
     },
     "execution_count": 6,
     "metadata": {},
     "output_type": "execute_result"
    }
   ],
   "source": [
    "%pwd"
   ]
  },
  {
   "cell_type": "code",
   "execution_count": 7,
   "metadata": {},
   "outputs": [
    {
     "name": "stdout",
     "output_type": "stream",
     "text": [
      "/Users/theodoremui/Library/CloudStorage/OneDrive-Personal/dev/diversity-colleges\n"
     ]
    }
   ],
   "source": [
    "%cd .."
   ]
  },
  {
   "cell_type": "code",
   "execution_count": 8,
   "metadata": {},
   "outputs": [],
   "source": [
    "import sys\n",
    "sys.path.append('src')\n",
    "import ouraws"
   ]
  },
  {
   "cell_type": "code",
   "execution_count": 9,
   "metadata": {},
   "outputs": [],
   "source": [
    "S3_BUCKET=\"collegier\"\n",
    "OUTPUT_DIR=\"data\"\n",
    "SCHOOL=\"swarthmore\"\n",
    "SUBJECT=\"opinions\"\n",
    "START_YEAR=2005\n",
    "FINAL_YEAR=2022"
   ]
  },
  {
   "cell_type": "code",
   "execution_count": 10,
   "metadata": {},
   "outputs": [],
   "source": [
    "def getCovDispersion(wv):\n",
    "    N = len(wv)\n",
    "    cov = np.cov(wv)\n",
    "    return (N, \n",
    "            np.trace(cov)/N, \n",
    "            np.linalg.norm(cov, ord=1)/N, \n",
    "            np.linalg.norm(cov, ord=2)/N, \n",
    "            np.linalg.norm(cov, ord=np.inf)/N, \n",
    "            )\n",
    "\n",
    "def cosine_distance(v1, v2):\n",
    "    \"\"\"Calculate the cosine distance between two numpy arrays.\n",
    "    \n",
    "    Parameters:\n",
    "    a (numpy array): First input array.\n",
    "    b (numpy array): Second input array.\n",
    "    \n",
    "    Returns:\n",
    "    float: Cosine distance between a and b.\n",
    "    \"\"\"\n",
    "    a = np.array(v1, dtype=np.float64)\n",
    "    b = np.array(v2, dtype=np.float64)\n",
    "    # Calculate dot product and magnitudes of the input arrays\n",
    "    dot   = np.dot(a, b)\n",
    "    a_mag = np.linalg.norm(a)\n",
    "    b_mag = np.linalg.norm(b)\n",
    "    \n",
    "    if np.isclose(a_mag, 0, rtol=1e-9, atol=1e-12):\n",
    "        print(f\"a_mag is very small: {a_mag}\")\n",
    "    if np.isclose(b_mag, 0, rtol=1e-9, atol=1e-12):\n",
    "        print(f\"b_mag is very small: {b_mag}\")\n",
    "    \n",
    "    # Calculate and return the cosine distance\n",
    "    return 1.0 - (dot / (a_mag * b_mag))\n",
    "\n",
    "def getPairwiseDispersion(wv, measure):\n",
    "    if len(wv) <= 1: return 0.0\n",
    "    distance = 0.0\n",
    "    vec = wv[0]\n",
    "    for v in wv[1:]:\n",
    "        distance += measure(vec, v)\n",
    "        # print(f\"\\tcos_distance: {measure(vec, v)}\")\n",
    "    return distance + getPairwiseDispersion(wv[1:], measure)\n",
    "\n",
    "def getNormalizedPairwiseDispersion(wv, measure):\n",
    "    '''Normalize the dispersion by (N-Choose-2) number of pairs'''\n",
    "    N = len(wv)\n",
    "    return getPairwiseDispersion(wv, measure) / (N * (N-1)/2.)"
   ]
  },
  {
   "cell_type": "code",
   "execution_count": 11,
   "metadata": {},
   "outputs": [],
   "source": [
    "diversity_words = [\n",
    "    'diversity', \n",
    "    'equity',\n",
    "    'inclusion',\n",
    "    'inclusive',\n",
    "    'inclusivity',\n",
    "    'equality', \n",
    "    'equal opportunity',\n",
    "    'social justice',\n",
    "    'racial justice', \n",
    "    'multi-cultural', \n",
    "    'multicultural',\n",
    "    'intercultural',\n",
    "    'intersectional',\n",
    "    'intersectionality',\n",
    "    'anti-discrimination'\n",
    "]"
   ]
  },
  {
   "cell_type": "code",
   "execution_count": 12,
   "metadata": {},
   "outputs": [
    {
     "data": {
      "text/plain": [
       "15"
      ]
     },
     "execution_count": 12,
     "metadata": {},
     "output_type": "execute_result"
    }
   ],
   "source": [
    "len(diversity_words)"
   ]
  },
  {
   "cell_type": "code",
   "execution_count": 13,
   "metadata": {},
   "outputs": [
    {
     "data": {
      "text/plain": [
       "['diversity',\n",
       " 'equity',\n",
       " 'inclusion',\n",
       " 'inclusive',\n",
       " 'inclusivity',\n",
       " 'equality',\n",
       " 'equal opportunity',\n",
       " 'social justice',\n",
       " 'racial justice',\n",
       " 'multi-cultural',\n",
       " 'multicultural',\n",
       " 'intercultural',\n",
       " 'intersectional',\n",
       " 'intersectionality',\n",
       " 'anti-discrimination']"
      ]
     },
     "execution_count": 13,
     "metadata": {},
     "output_type": "execute_result"
    }
   ],
   "source": [
    "[(w) for w in diversity_words]"
   ]
  },
  {
   "cell_type": "code",
   "execution_count": 14,
   "metadata": {},
   "outputs": [
    {
     "data": {
      "text/plain": [
       "['diversity',\n",
       " 'equity',\n",
       " 'inclusion',\n",
       " 'inclusive',\n",
       " 'inclusivity',\n",
       " 'equality',\n",
       " 'equal opportunity',\n",
       " 'social justice',\n",
       " 'racial justice',\n",
       " 'multi-cultural',\n",
       " 'multicultural',\n",
       " 'intercultural',\n",
       " 'intersectional',\n",
       " 'intersectionality',\n",
       " 'anti-discrimination']"
      ]
     },
     "execution_count": 14,
     "metadata": {},
     "output_type": "execute_result"
    }
   ],
   "source": [
    "diversity_lemmas = [lemmatizer.lemmatize(w) for w in diversity_words]\n",
    "diversity_lemmas"
   ]
  },
  {
   "cell_type": "code",
   "execution_count": 15,
   "metadata": {},
   "outputs": [],
   "source": [
    "diversity_pattern = \"|\".join(diversity_lemmas)"
   ]
  },
  {
   "cell_type": "code",
   "execution_count": 16,
   "metadata": {},
   "outputs": [
    {
     "data": {
      "text/plain": [
       "'diversity|equity|inclusion|inclusive|inclusivity|equality|equal opportunity|social justice|racial justice|multi-cultural|multicultural|intercultural|intersectional|intersectionality|anti-discrimination'"
      ]
     },
     "execution_count": 16,
     "metadata": {},
     "output_type": "execute_result"
    }
   ],
   "source": [
    "diversity_pattern"
   ]
  },
  {
   "cell_type": "code",
   "execution_count": 17,
   "metadata": {},
   "outputs": [
    {
     "data": {
      "text/plain": [
       "3"
      ]
     },
     "execution_count": 17,
     "metadata": {},
     "output_type": "execute_result"
    }
   ],
   "source": [
    "text = \"This is a multicultural organization that advocates for diversity and racial justice.\"\n",
    "len(re.findall(diversity_pattern, text))"
   ]
  },
  {
   "cell_type": "code",
   "execution_count": 18,
   "metadata": {},
   "outputs": [],
   "source": [
    "english_stopwords = stopwords.words('english')\n",
    "def prepText(text_series):\n",
    "    text_series = text_series.apply(\n",
    "        lambda x: \" \".join(lemmatizer.lemmatize(w.lower()) for w in x.split()\n",
    "                           if w not in english_stopwords))\n",
    "    text_series = text_series.apply(lambda x: x if len(x) > 100 else None)\n",
    "    text_series = text_series.dropna()\n",
    "    total_diversity_words = sum([len(re.findall(diversity_pattern, text))\n",
    "                                for text in text_series])\n",
    "    return text_series, total_diversity_words"
   ]
  },
  {
   "cell_type": "code",
   "execution_count": 19,
   "metadata": {},
   "outputs": [
    {
     "data": {
      "text/plain": [
       "'/Users/theodoremui/Library/CloudStorage/OneDrive-Personal/dev/diversity-colleges'"
      ]
     },
     "execution_count": 19,
     "metadata": {},
     "output_type": "execute_result"
    }
   ],
   "source": [
    "%pwd"
   ]
  },
  {
   "cell_type": "code",
   "execution_count": 20,
   "metadata": {},
   "outputs": [],
   "source": [
    "S3OBJECT_KEY = f\"{OUTPUT_DIR}/{SCHOOL}-{SUBJECT}-SNAPSHOT.parquet\"\n",
    "df = ouraws.getFromS3(S3OBJECT_KEY)"
   ]
  },
  {
   "cell_type": "code",
   "execution_count": 21,
   "metadata": {},
   "outputs": [
    {
     "data": {
      "text/plain": [
       "(2064, 6)"
      ]
     },
     "execution_count": 21,
     "metadata": {},
     "output_type": "execute_result"
    }
   ],
   "source": [
    "df.shape"
   ]
  },
  {
   "cell_type": "code",
   "execution_count": 22,
   "metadata": {},
   "outputs": [
    {
     "data": {
      "text/plain": [
       "Index(['title', 'url', 'body', 'year', 'month', 'day'], dtype='object')"
      ]
     },
     "execution_count": 22,
     "metadata": {},
     "output_type": "execute_result"
    }
   ],
   "source": [
    "df.columns"
   ]
  },
  {
   "cell_type": "code",
   "execution_count": 23,
   "metadata": {},
   "outputs": [
    {
     "data": {
      "text/plain": [
       "array([2022, 2021, 2020, 2019, 2018, 2017, 2016, 2015, 2014, 2013, 2012,\n",
       "       2011, 2010, 2009, 2008, 2007, 2006, 2005])"
      ]
     },
     "execution_count": 23,
     "metadata": {},
     "output_type": "execute_result"
    }
   ],
   "source": [
    "df[\"year\"].unique()"
   ]
  },
  {
   "cell_type": "code",
   "execution_count": 24,
   "metadata": {},
   "outputs": [
    {
     "data": {
      "text/html": [
       "<div>\n",
       "<style scoped>\n",
       "    .dataframe tbody tr th:only-of-type {\n",
       "        vertical-align: middle;\n",
       "    }\n",
       "\n",
       "    .dataframe tbody tr th {\n",
       "        vertical-align: top;\n",
       "    }\n",
       "\n",
       "    .dataframe thead th {\n",
       "        text-align: right;\n",
       "    }\n",
       "</style>\n",
       "<table border=\"1\" class=\"dataframe\">\n",
       "  <thead>\n",
       "    <tr style=\"text-align: right;\">\n",
       "      <th></th>\n",
       "      <th>title</th>\n",
       "      <th>url</th>\n",
       "      <th>body</th>\n",
       "      <th>year</th>\n",
       "      <th>month</th>\n",
       "      <th>day</th>\n",
       "    </tr>\n",
       "  </thead>\n",
       "  <tbody>\n",
       "    <tr>\n",
       "      <th>383</th>\n",
       "      <td>Curricular Trends, 1864-1950</td>\n",
       "      <td>https://swarthmorephoenix.com/2011/05/31/curri...</td>\n",
       "      <td>Curricular Trends, 1864-1950\\nEditor’s note: T...</td>\n",
       "      <td>2011</td>\n",
       "      <td>5</td>\n",
       "      <td>31</td>\n",
       "    </tr>\n",
       "    <tr>\n",
       "      <th>384</th>\n",
       "      <td>Donna Jo Napoli Answers Your Questions</td>\n",
       "      <td>https://swarthmorephoenix.com/2011/05/31/donna...</td>\n",
       "      <td>Donna Jo Napoli Answers Your Questions\\nEditor...</td>\n",
       "      <td>2011</td>\n",
       "      <td>5</td>\n",
       "      <td>31</td>\n",
       "    </tr>\n",
       "    <tr>\n",
       "      <th>385</th>\n",
       "      <td>Editors’ Note: Farewell</td>\n",
       "      <td>https://swarthmorephoenix.com/2011/05/30/edito...</td>\n",
       "      <td>Editors’ Note: Farewell\\nEditor’s note: This a...</td>\n",
       "      <td>2011</td>\n",
       "      <td>5</td>\n",
       "      <td>30</td>\n",
       "    </tr>\n",
       "    <tr>\n",
       "      <th>386</th>\n",
       "      <td>Missing the Boat</td>\n",
       "      <td>https://swarthmorephoenix.com/2011/05/06/missi...</td>\n",
       "      <td>Missing the Boat\\nEditor’s note: This article ...</td>\n",
       "      <td>2011</td>\n",
       "      <td>5</td>\n",
       "      <td>6</td>\n",
       "    </tr>\n",
       "    <tr>\n",
       "      <th>387</th>\n",
       "      <td>Memorandum of Understanding at Town Center West</td>\n",
       "      <td>https://swarthmorephoenix.com/2011/05/05/slap-2/</td>\n",
       "      <td>Memorandum of Understanding at Town Center Wes...</td>\n",
       "      <td>2011</td>\n",
       "      <td>5</td>\n",
       "      <td>5</td>\n",
       "    </tr>\n",
       "  </tbody>\n",
       "</table>\n",
       "</div>"
      ],
      "text/plain": [
       "                                               title  \\\n",
       "383                     Curricular Trends, 1864-1950   \n",
       "384           Donna Jo Napoli Answers Your Questions   \n",
       "385                          Editors’ Note: Farewell   \n",
       "386                                 Missing the Boat   \n",
       "387  Memorandum of Understanding at Town Center West   \n",
       "\n",
       "                                                   url  \\\n",
       "383  https://swarthmorephoenix.com/2011/05/31/curri...   \n",
       "384  https://swarthmorephoenix.com/2011/05/31/donna...   \n",
       "385  https://swarthmorephoenix.com/2011/05/30/edito...   \n",
       "386  https://swarthmorephoenix.com/2011/05/06/missi...   \n",
       "387   https://swarthmorephoenix.com/2011/05/05/slap-2/   \n",
       "\n",
       "                                                  body  year  month  day  \n",
       "383  Curricular Trends, 1864-1950\\nEditor’s note: T...  2011      5   31  \n",
       "384  Donna Jo Napoli Answers Your Questions\\nEditor...  2011      5   31  \n",
       "385  Editors’ Note: Farewell\\nEditor’s note: This a...  2011      5   30  \n",
       "386  Missing the Boat\\nEditor’s note: This article ...  2011      5    6  \n",
       "387  Memorandum of Understanding at Town Center Wes...  2011      5    5  "
      ]
     },
     "execution_count": 24,
     "metadata": {},
     "output_type": "execute_result"
    }
   ],
   "source": [
    "df.loc[(df.year==2011) & (df.month==5)]"
   ]
  },
  {
   "cell_type": "code",
   "execution_count": 25,
   "metadata": {},
   "outputs": [
    {
     "name": "stdout",
     "output_type": "stream",
     "text": [
      "2005, 4, 2.0467904443458576, 0.05577756826140321\n",
      "2006, 5, 1.7573547050393845, 0.05035469202348645\n",
      "2007, 24, 1.8200762785574955, 0.12029644500772954\n",
      "2008, 87, 1.8460816921215295, 0.10557776405426032\n",
      "2009, 60, 1.7676958629866717, 0.0977626338342309\n",
      "2010, 69, 1.7704464950758116, 0.09437919403711487\n",
      "2011, 131, 1.8665707423557305, 0.10165397309214703\n",
      "2012, 263, 1.921605567906474, 0.1134315452718428\n",
      "2013, 203, 2.060772501468801, 0.09155007862186242\n",
      "2014, 186, 2.047483676903102, 0.08619846887546312\n",
      "2015, 207, 1.9959424146406721, 0.07090981941823525\n",
      "2016, 207, 1.9860046088385679, 0.07893939911730356\n",
      "2017, 169, 2.02217521799373, 0.0818966076544662\n",
      "2018, 133, 2.1105180676403807, 0.08986237778360218\n",
      "2019, 114, 2.1734010328522446, 0.07984797193281502\n",
      "2020, 49, 2.0987119166539805, 0.07679034057356347\n",
      "2021, 76, 1.9744830837655611, 0.0743987821868101\n",
      "2022, 72, 2.0097102184523408, 0.08597222426785625\n"
     ]
    }
   ],
   "source": [
    "results = []\n",
    "for year in range(START_YEAR, FINAL_YEAR+1):\n",
    "    year_df = df[df.year==year]\n",
    "    \n",
    "    clean_df, num_diversity_words = prepText(year_df.body)\n",
    "    wv = [nlp(s) for s in clean_df]\n",
    "    \n",
    "    docmatrix = np.array([v.vector for v in wv])\n",
    "    \n",
    "    pairwise = getNormalizedPairwiseDispersion(docmatrix, cosine_distance)\n",
    "    cov = getCovDispersion(docmatrix)\n",
    "    \n",
    "    print(f\"{year}, {cov[0]}, {cov[1]}, {pairwise}\")\n",
    "    \n",
    "    result = {'year':     year,\n",
    "              'pairwise': pairwise,\n",
    "              'size':     cov[0],\n",
    "              'trace':    cov[1],\n",
    "              'norm-1':   cov[2],\n",
    "              'norm-2':   cov[3],\n",
    "              'norm-inf': cov[4],\n",
    "              'diversity-words': num_diversity_words,\n",
    "              'mentions-norm'  : num_diversity_words/cov[0]\n",
    "             }\n",
    "    results.append(result)"
   ]
  },
  {
   "cell_type": "code",
   "execution_count": 26,
   "metadata": {},
   "outputs": [
    {
     "data": {
      "text/html": [
       "<div>\n",
       "<style scoped>\n",
       "    .dataframe tbody tr th:only-of-type {\n",
       "        vertical-align: middle;\n",
       "    }\n",
       "\n",
       "    .dataframe tbody tr th {\n",
       "        vertical-align: top;\n",
       "    }\n",
       "\n",
       "    .dataframe thead th {\n",
       "        text-align: right;\n",
       "    }\n",
       "</style>\n",
       "<table border=\"1\" class=\"dataframe\">\n",
       "  <thead>\n",
       "    <tr style=\"text-align: right;\">\n",
       "      <th></th>\n",
       "      <th>pairwise</th>\n",
       "      <th>size</th>\n",
       "      <th>trace</th>\n",
       "      <th>norm-1</th>\n",
       "      <th>norm-2</th>\n",
       "      <th>norm-inf</th>\n",
       "      <th>diversity-words</th>\n",
       "      <th>mentions-norm</th>\n",
       "    </tr>\n",
       "    <tr>\n",
       "      <th>year</th>\n",
       "      <th></th>\n",
       "      <th></th>\n",
       "      <th></th>\n",
       "      <th></th>\n",
       "      <th></th>\n",
       "      <th></th>\n",
       "      <th></th>\n",
       "      <th></th>\n",
       "    </tr>\n",
       "  </thead>\n",
       "  <tbody>\n",
       "    <tr>\n",
       "      <th>2005</th>\n",
       "      <td>0.055778</td>\n",
       "      <td>4</td>\n",
       "      <td>2.046790</td>\n",
       "      <td>2.022137</td>\n",
       "      <td>1.961998</td>\n",
       "      <td>2.022137</td>\n",
       "      <td>0</td>\n",
       "      <td>0.000000</td>\n",
       "    </tr>\n",
       "    <tr>\n",
       "      <th>2006</th>\n",
       "      <td>0.050355</td>\n",
       "      <td>5</td>\n",
       "      <td>1.757355</td>\n",
       "      <td>1.822733</td>\n",
       "      <td>1.687393</td>\n",
       "      <td>1.822733</td>\n",
       "      <td>0</td>\n",
       "      <td>0.000000</td>\n",
       "    </tr>\n",
       "    <tr>\n",
       "      <th>2007</th>\n",
       "      <td>0.120296</td>\n",
       "      <td>24</td>\n",
       "      <td>1.820076</td>\n",
       "      <td>1.785807</td>\n",
       "      <td>1.616469</td>\n",
       "      <td>1.785807</td>\n",
       "      <td>3</td>\n",
       "      <td>0.125000</td>\n",
       "    </tr>\n",
       "    <tr>\n",
       "      <th>2008</th>\n",
       "      <td>0.105578</td>\n",
       "      <td>87</td>\n",
       "      <td>1.846082</td>\n",
       "      <td>1.977032</td>\n",
       "      <td>1.662161</td>\n",
       "      <td>1.977032</td>\n",
       "      <td>13</td>\n",
       "      <td>0.149425</td>\n",
       "    </tr>\n",
       "    <tr>\n",
       "      <th>2009</th>\n",
       "      <td>0.097763</td>\n",
       "      <td>60</td>\n",
       "      <td>1.767696</td>\n",
       "      <td>1.892754</td>\n",
       "      <td>1.601341</td>\n",
       "      <td>1.892754</td>\n",
       "      <td>11</td>\n",
       "      <td>0.183333</td>\n",
       "    </tr>\n",
       "    <tr>\n",
       "      <th>2010</th>\n",
       "      <td>0.094379</td>\n",
       "      <td>69</td>\n",
       "      <td>1.770446</td>\n",
       "      <td>1.872269</td>\n",
       "      <td>1.613523</td>\n",
       "      <td>1.872269</td>\n",
       "      <td>7</td>\n",
       "      <td>0.101449</td>\n",
       "    </tr>\n",
       "    <tr>\n",
       "      <th>2011</th>\n",
       "      <td>0.101654</td>\n",
       "      <td>131</td>\n",
       "      <td>1.866571</td>\n",
       "      <td>1.928616</td>\n",
       "      <td>1.688880</td>\n",
       "      <td>1.928616</td>\n",
       "      <td>98</td>\n",
       "      <td>0.748092</td>\n",
       "    </tr>\n",
       "    <tr>\n",
       "      <th>2012</th>\n",
       "      <td>0.113432</td>\n",
       "      <td>263</td>\n",
       "      <td>1.921606</td>\n",
       "      <td>2.062294</td>\n",
       "      <td>1.731881</td>\n",
       "      <td>2.062294</td>\n",
       "      <td>125</td>\n",
       "      <td>0.475285</td>\n",
       "    </tr>\n",
       "    <tr>\n",
       "      <th>2013</th>\n",
       "      <td>0.091550</td>\n",
       "      <td>203</td>\n",
       "      <td>2.060773</td>\n",
       "      <td>2.268772</td>\n",
       "      <td>1.876604</td>\n",
       "      <td>2.268772</td>\n",
       "      <td>140</td>\n",
       "      <td>0.689655</td>\n",
       "    </tr>\n",
       "    <tr>\n",
       "      <th>2014</th>\n",
       "      <td>0.086198</td>\n",
       "      <td>186</td>\n",
       "      <td>2.047484</td>\n",
       "      <td>2.221297</td>\n",
       "      <td>1.880904</td>\n",
       "      <td>2.221297</td>\n",
       "      <td>130</td>\n",
       "      <td>0.698925</td>\n",
       "    </tr>\n",
       "    <tr>\n",
       "      <th>2015</th>\n",
       "      <td>0.070910</td>\n",
       "      <td>207</td>\n",
       "      <td>1.995942</td>\n",
       "      <td>2.175898</td>\n",
       "      <td>1.857770</td>\n",
       "      <td>2.175898</td>\n",
       "      <td>153</td>\n",
       "      <td>0.739130</td>\n",
       "    </tr>\n",
       "    <tr>\n",
       "      <th>2016</th>\n",
       "      <td>0.078939</td>\n",
       "      <td>207</td>\n",
       "      <td>1.986005</td>\n",
       "      <td>2.102182</td>\n",
       "      <td>1.833245</td>\n",
       "      <td>2.102182</td>\n",
       "      <td>245</td>\n",
       "      <td>1.183575</td>\n",
       "    </tr>\n",
       "    <tr>\n",
       "      <th>2017</th>\n",
       "      <td>0.081897</td>\n",
       "      <td>169</td>\n",
       "      <td>2.022175</td>\n",
       "      <td>2.103419</td>\n",
       "      <td>1.863591</td>\n",
       "      <td>2.103419</td>\n",
       "      <td>128</td>\n",
       "      <td>0.757396</td>\n",
       "    </tr>\n",
       "    <tr>\n",
       "      <th>2018</th>\n",
       "      <td>0.089862</td>\n",
       "      <td>133</td>\n",
       "      <td>2.110518</td>\n",
       "      <td>2.204557</td>\n",
       "      <td>1.924666</td>\n",
       "      <td>2.204557</td>\n",
       "      <td>76</td>\n",
       "      <td>0.571429</td>\n",
       "    </tr>\n",
       "    <tr>\n",
       "      <th>2019</th>\n",
       "      <td>0.079848</td>\n",
       "      <td>114</td>\n",
       "      <td>2.173401</td>\n",
       "      <td>2.261666</td>\n",
       "      <td>2.002122</td>\n",
       "      <td>2.261666</td>\n",
       "      <td>79</td>\n",
       "      <td>0.692982</td>\n",
       "    </tr>\n",
       "    <tr>\n",
       "      <th>2020</th>\n",
       "      <td>0.076790</td>\n",
       "      <td>49</td>\n",
       "      <td>2.098712</td>\n",
       "      <td>2.176935</td>\n",
       "      <td>1.947255</td>\n",
       "      <td>2.176935</td>\n",
       "      <td>38</td>\n",
       "      <td>0.775510</td>\n",
       "    </tr>\n",
       "    <tr>\n",
       "      <th>2021</th>\n",
       "      <td>0.074399</td>\n",
       "      <td>76</td>\n",
       "      <td>1.974483</td>\n",
       "      <td>2.085230</td>\n",
       "      <td>1.832128</td>\n",
       "      <td>2.085230</td>\n",
       "      <td>43</td>\n",
       "      <td>0.565789</td>\n",
       "    </tr>\n",
       "    <tr>\n",
       "      <th>2022</th>\n",
       "      <td>0.085972</td>\n",
       "      <td>72</td>\n",
       "      <td>2.009710</td>\n",
       "      <td>2.075764</td>\n",
       "      <td>1.844549</td>\n",
       "      <td>2.075764</td>\n",
       "      <td>27</td>\n",
       "      <td>0.375000</td>\n",
       "    </tr>\n",
       "  </tbody>\n",
       "</table>\n",
       "</div>"
      ],
      "text/plain": [
       "      pairwise  size     trace    norm-1    norm-2  norm-inf  diversity-words  \\\n",
       "year                                                                            \n",
       "2005  0.055778     4  2.046790  2.022137  1.961998  2.022137                0   \n",
       "2006  0.050355     5  1.757355  1.822733  1.687393  1.822733                0   \n",
       "2007  0.120296    24  1.820076  1.785807  1.616469  1.785807                3   \n",
       "2008  0.105578    87  1.846082  1.977032  1.662161  1.977032               13   \n",
       "2009  0.097763    60  1.767696  1.892754  1.601341  1.892754               11   \n",
       "2010  0.094379    69  1.770446  1.872269  1.613523  1.872269                7   \n",
       "2011  0.101654   131  1.866571  1.928616  1.688880  1.928616               98   \n",
       "2012  0.113432   263  1.921606  2.062294  1.731881  2.062294              125   \n",
       "2013  0.091550   203  2.060773  2.268772  1.876604  2.268772              140   \n",
       "2014  0.086198   186  2.047484  2.221297  1.880904  2.221297              130   \n",
       "2015  0.070910   207  1.995942  2.175898  1.857770  2.175898              153   \n",
       "2016  0.078939   207  1.986005  2.102182  1.833245  2.102182              245   \n",
       "2017  0.081897   169  2.022175  2.103419  1.863591  2.103419              128   \n",
       "2018  0.089862   133  2.110518  2.204557  1.924666  2.204557               76   \n",
       "2019  0.079848   114  2.173401  2.261666  2.002122  2.261666               79   \n",
       "2020  0.076790    49  2.098712  2.176935  1.947255  2.176935               38   \n",
       "2021  0.074399    76  1.974483  2.085230  1.832128  2.085230               43   \n",
       "2022  0.085972    72  2.009710  2.075764  1.844549  2.075764               27   \n",
       "\n",
       "      mentions-norm  \n",
       "year                 \n",
       "2005       0.000000  \n",
       "2006       0.000000  \n",
       "2007       0.125000  \n",
       "2008       0.149425  \n",
       "2009       0.183333  \n",
       "2010       0.101449  \n",
       "2011       0.748092  \n",
       "2012       0.475285  \n",
       "2013       0.689655  \n",
       "2014       0.698925  \n",
       "2015       0.739130  \n",
       "2016       1.183575  \n",
       "2017       0.757396  \n",
       "2018       0.571429  \n",
       "2019       0.692982  \n",
       "2020       0.775510  \n",
       "2021       0.565789  \n",
       "2022       0.375000  "
      ]
     },
     "execution_count": 26,
     "metadata": {},
     "output_type": "execute_result"
    }
   ],
   "source": [
    "results_df = pd.DataFrame.from_records(results)\n",
    "results_df.set_index('year')"
   ]
  },
  {
   "cell_type": "code",
   "execution_count": 27,
   "metadata": {},
   "outputs": [
    {
     "data": {
      "image/png": "[encoded data removed]",
      "text/plain": [
       "<Figure size 432x288 with 1 Axes>"
      ]
     },
     "metadata": {
      "needs_background": "light"
     },
     "output_type": "display_data"
    }
   ],
   "source": [
    "import matplotlib.pyplot as plt\n",
    "from scipy.stats import linregress\n",
    "\n",
    "x = results_df['year']\n",
    "y = results_df['pairwise']\n",
    "\n",
    "slope, intercept, r_value, p_value, std_err = linregress(x, y)\n",
    "\n",
    "results_df.plot(x=\"year\", y=\"pairwise\", kind=\"scatter\")\n",
    "\n",
    "plt.plot(x, intercept + slope*x, 'b:', label='fitted regression')\n",
    "\n",
    "plt.title(\"Swarthmore College Phoenix: Opinions by year\")\n",
    "plt.legend(loc='upper right')\n",
    "plt.ylim(min(y)*0.95, max(y)*1.05)\n",
    "plt.show()"
   ]
  },
  {
   "cell_type": "code",
   "execution_count": 28,
   "metadata": {
    "scrolled": true
   },
   "outputs": [
    {
     "name": "stdout",
     "output_type": "stream",
     "text": [
      "mentions-norm slope:0.04165, int:0.13663, r:0.66729, p:0.00248, se:0.01162, x:range(0, 18)\n",
      "pairwise slope:-0.00039, int:0.08975, r:-0.11581, p:0.64723, se:0.00084, x:range(0, 18)\n"
     ]
    },
    {
     "data": {
      "image/png": "[encoded data removed]",
      "text/plain": [
       "<Figure size 1152x288 with 2 Axes>"
      ]
     },
     "metadata": {
      "needs_background": "light"
     },
     "output_type": "display_data"
    }
   ],
   "source": [
    "# Select the columns to plot\n",
    "columns = [\"mentions-norm\", \"pairwise\"]\n",
    "\n",
    "# Create a figure with subplots\n",
    "fig, axs = plt.subplots(nrows=1, ncols=len(columns), sharex=True, figsize=(16,4))\n",
    "\n",
    "# Loop through the columns and plot each one\n",
    "for ax, column in zip(axs, columns):\n",
    "    # Select the data for the current column\n",
    "    x = range(len(results_df.index))\n",
    "    y = results_df[column]\n",
    "     \n",
    "    # Calculate the linear regression\n",
    "    slope, intercept, r_value, p_value, std_err = linregress(x, y)\n",
    "    \n",
    "    print(\"{} slope:{:.5f}, int:{:.5f}, r:{:.5f}, p:{:.5f}, se:{:.5f}, x:{}\".format(\n",
    "            column, slope, intercept, r_value, p_value, std_err, x))\n",
    "\n",
    "    # Plot the data and the linear regression line\n",
    "    results_df[column].plot(ax=ax, style=\".\", x=x, y=y, label=column)\n",
    "    ax.plot(x, intercept + slope*x, 'b:', label='regression')\n",
    "    ax.set_ylim(0, max(y)*1.2)\n",
    "    \n",
    "    # Add a legend\n",
    "    ax.legend(loc='lower center')\n",
    "\n",
    "    # Add x-label for the years\n",
    "    ax.set_xticks(results_df.index)\n",
    "    ax.set_xticklabels(results_df.year)\n",
    " \n",
    "    # Add a title\n",
    "    # ax.set_title(f\"Trending of {column} in Liberty University's Champion\")\n",
    "    \n",
    "plt.xlabel(\"Year\")\n",
    "plt.suptitle(\"Trending of Swarthmore College Phoenix opinions on Diversity metrics\")\n",
    "plt.show()"
   ]
  },
  {
   "cell_type": "code",
   "execution_count": null,
   "metadata": {},
   "outputs": [],
   "source": []
  }
 ],
 "metadata": {
  "kernelspec": {
   "display_name": "base",
   "language": "python",
   "name": "python3"
  },
  "language_info": {
   "codemirror_mode": {
    "name": "ipython",
    "version": 3
   },
   "file_extension": ".py",
   "mimetype": "text/x-python",
   "name": "python",
   "nbconvert_exporter": "python",
   "pygments_lexer": "ipython3",
   "version": "3.8.3 (default, Jul  2 2020, 11:26:31) \n[Clang 10.0.0 ]"
  },
  "vscode": {
   "interpreter": {
    "hash": "c21ac38248faf28f2c9521adbe733be2f0389d69400e829bbbab439e1682721f"
   }
  }
 },
 "nbformat": 4,
 "nbformat_minor": 4
}
